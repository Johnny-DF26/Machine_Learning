{
  "nbformat": 4,
  "nbformat_minor": 0,
  "metadata": {
    "colab": {
      "provenance": [],
      "authorship_tag": "ABX9TyMRyU1C3li2y1MpXQxW8Yuj",
      "include_colab_link": true
    },
    "kernelspec": {
      "name": "python3",
      "display_name": "Python 3"
    },
    "language_info": {
      "name": "python"
    }
  },
  "cells": [
    {
      "cell_type": "markdown",
      "metadata": {
        "id": "view-in-github",
        "colab_type": "text"
      },
      "source": [
        "<a href=\"https://colab.research.google.com/github/Johnny-DF26/Machine_Learning/blob/master/Otimiza%C3%A7%C3%A3o_de_modelos_atrav%C3%A9s_de_hiperparametros.ipynb\" target=\"_parent\"><img src=\"https://colab.research.google.com/assets/colab-badge.svg\" alt=\"Open In Colab\"/></a>"
      ]
    },
    {
      "cell_type": "markdown",
      "source": [
        "##**Importação das Bibliotecas**"
      ],
      "metadata": {
        "id": "tq8cs3IO_XmA"
      }
    },
    {
      "cell_type": "code",
      "source": [
        "import pandas as pd\n",
        "import numpy as np\n",
        "from sklearn.model_selection import cross_validate, GridSearchCV, KFold, cross_val_score\n",
        "from sklearn.dummy import DummyClassifier\n",
        "import seaborn as sns\n",
        "import matplotlib.pyplot as plt\n",
        "import plotly.express as px\n",
        "import plotly.graph_objects as go\n",
        "from sklearn.ensemble import RandomForestClassifier\n",
        "from sklearn.tree import DecisionTreeClassifier"
      ],
      "metadata": {
        "id": "OTNAnLsH_gQ8"
      },
      "execution_count": null,
      "outputs": []
    },
    {
      "cell_type": "markdown",
      "source": [
        "##**Visualização dos Dados**"
      ],
      "metadata": {
        "id": "ZHV0Uy7oABjb"
      }
    },
    {
      "cell_type": "code",
      "execution_count": null,
      "metadata": {
        "colab": {
          "base_uri": "https://localhost:8080/",
          "height": 206
        },
        "id": "gJoGyCF1x0Gm",
        "outputId": "41af3e3a-6d16-4a81-c09a-e1e8e3acfb19"
      },
      "outputs": [
        {
          "output_type": "execute_result",
          "data": {
            "text/plain": [
              "    km_por_ano      preco  idade_do_modelo  vendido\n",
              "0  35085.22134   30941.02               18        1\n",
              "1  12622.05362   40557.96               20        1\n",
              "2  11440.79806   89627.50               12        0\n",
              "3  43167.32682   95276.14                3        0\n",
              "4  12770.11290  117384.68                4        1"
            ],
            "text/html": [
              "\n",
              "  <div id=\"df-5e9a0cfa-bd71-4d48-86dc-4c28c3130899\">\n",
              "    <div class=\"colab-df-container\">\n",
              "      <div>\n",
              "<style scoped>\n",
              "    .dataframe tbody tr th:only-of-type {\n",
              "        vertical-align: middle;\n",
              "    }\n",
              "\n",
              "    .dataframe tbody tr th {\n",
              "        vertical-align: top;\n",
              "    }\n",
              "\n",
              "    .dataframe thead th {\n",
              "        text-align: right;\n",
              "    }\n",
              "</style>\n",
              "<table border=\"1\" class=\"dataframe\">\n",
              "  <thead>\n",
              "    <tr style=\"text-align: right;\">\n",
              "      <th></th>\n",
              "      <th>km_por_ano</th>\n",
              "      <th>preco</th>\n",
              "      <th>idade_do_modelo</th>\n",
              "      <th>vendido</th>\n",
              "    </tr>\n",
              "  </thead>\n",
              "  <tbody>\n",
              "    <tr>\n",
              "      <th>0</th>\n",
              "      <td>35085.22134</td>\n",
              "      <td>30941.02</td>\n",
              "      <td>18</td>\n",
              "      <td>1</td>\n",
              "    </tr>\n",
              "    <tr>\n",
              "      <th>1</th>\n",
              "      <td>12622.05362</td>\n",
              "      <td>40557.96</td>\n",
              "      <td>20</td>\n",
              "      <td>1</td>\n",
              "    </tr>\n",
              "    <tr>\n",
              "      <th>2</th>\n",
              "      <td>11440.79806</td>\n",
              "      <td>89627.50</td>\n",
              "      <td>12</td>\n",
              "      <td>0</td>\n",
              "    </tr>\n",
              "    <tr>\n",
              "      <th>3</th>\n",
              "      <td>43167.32682</td>\n",
              "      <td>95276.14</td>\n",
              "      <td>3</td>\n",
              "      <td>0</td>\n",
              "    </tr>\n",
              "    <tr>\n",
              "      <th>4</th>\n",
              "      <td>12770.11290</td>\n",
              "      <td>117384.68</td>\n",
              "      <td>4</td>\n",
              "      <td>1</td>\n",
              "    </tr>\n",
              "  </tbody>\n",
              "</table>\n",
              "</div>\n",
              "      <button class=\"colab-df-convert\" onclick=\"convertToInteractive('df-5e9a0cfa-bd71-4d48-86dc-4c28c3130899')\"\n",
              "              title=\"Convert this dataframe to an interactive table.\"\n",
              "              style=\"display:none;\">\n",
              "        \n",
              "  <svg xmlns=\"http://www.w3.org/2000/svg\" height=\"24px\"viewBox=\"0 0 24 24\"\n",
              "       width=\"24px\">\n",
              "    <path d=\"M0 0h24v24H0V0z\" fill=\"none\"/>\n",
              "    <path d=\"M18.56 5.44l.94 2.06.94-2.06 2.06-.94-2.06-.94-.94-2.06-.94 2.06-2.06.94zm-11 1L8.5 8.5l.94-2.06 2.06-.94-2.06-.94L8.5 2.5l-.94 2.06-2.06.94zm10 10l.94 2.06.94-2.06 2.06-.94-2.06-.94-.94-2.06-.94 2.06-2.06.94z\"/><path d=\"M17.41 7.96l-1.37-1.37c-.4-.4-.92-.59-1.43-.59-.52 0-1.04.2-1.43.59L10.3 9.45l-7.72 7.72c-.78.78-.78 2.05 0 2.83L4 21.41c.39.39.9.59 1.41.59.51 0 1.02-.2 1.41-.59l7.78-7.78 2.81-2.81c.8-.78.8-2.07 0-2.86zM5.41 20L4 18.59l7.72-7.72 1.47 1.35L5.41 20z\"/>\n",
              "  </svg>\n",
              "      </button>\n",
              "      \n",
              "  <style>\n",
              "    .colab-df-container {\n",
              "      display:flex;\n",
              "      flex-wrap:wrap;\n",
              "      gap: 12px;\n",
              "    }\n",
              "\n",
              "    .colab-df-convert {\n",
              "      background-color: #E8F0FE;\n",
              "      border: none;\n",
              "      border-radius: 50%;\n",
              "      cursor: pointer;\n",
              "      display: none;\n",
              "      fill: #1967D2;\n",
              "      height: 32px;\n",
              "      padding: 0 0 0 0;\n",
              "      width: 32px;\n",
              "    }\n",
              "\n",
              "    .colab-df-convert:hover {\n",
              "      background-color: #E2EBFA;\n",
              "      box-shadow: 0px 1px 2px rgba(60, 64, 67, 0.3), 0px 1px 3px 1px rgba(60, 64, 67, 0.15);\n",
              "      fill: #174EA6;\n",
              "    }\n",
              "\n",
              "    [theme=dark] .colab-df-convert {\n",
              "      background-color: #3B4455;\n",
              "      fill: #D2E3FC;\n",
              "    }\n",
              "\n",
              "    [theme=dark] .colab-df-convert:hover {\n",
              "      background-color: #434B5C;\n",
              "      box-shadow: 0px 1px 3px 1px rgba(0, 0, 0, 0.15);\n",
              "      filter: drop-shadow(0px 1px 2px rgba(0, 0, 0, 0.3));\n",
              "      fill: #FFFFFF;\n",
              "    }\n",
              "  </style>\n",
              "\n",
              "      <script>\n",
              "        const buttonEl =\n",
              "          document.querySelector('#df-5e9a0cfa-bd71-4d48-86dc-4c28c3130899 button.colab-df-convert');\n",
              "        buttonEl.style.display =\n",
              "          google.colab.kernel.accessAllowed ? 'block' : 'none';\n",
              "\n",
              "        async function convertToInteractive(key) {\n",
              "          const element = document.querySelector('#df-5e9a0cfa-bd71-4d48-86dc-4c28c3130899');\n",
              "          const dataTable =\n",
              "            await google.colab.kernel.invokeFunction('convertToInteractive',\n",
              "                                                     [key], {});\n",
              "          if (!dataTable) return;\n",
              "\n",
              "          const docLinkHtml = 'Like what you see? Visit the ' +\n",
              "            '<a target=\"_blank\" href=https://colab.research.google.com/notebooks/data_table.ipynb>data table notebook</a>'\n",
              "            + ' to learn more about interactive tables.';\n",
              "          element.innerHTML = '';\n",
              "          dataTable['output_type'] = 'display_data';\n",
              "          await google.colab.output.renderOutput(dataTable, element);\n",
              "          const docLink = document.createElement('div');\n",
              "          docLink.innerHTML = docLinkHtml;\n",
              "          element.appendChild(docLink);\n",
              "        }\n",
              "      </script>\n",
              "    </div>\n",
              "  </div>\n",
              "  "
            ]
          },
          "metadata": {},
          "execution_count": 2
        }
      ],
      "source": [
        "uri = \"https://gist.githubusercontent.com/guilhermesilveira/e99a526b2e7ccc6c3b70f53db43a87d2/raw/1605fc74aa778066bf2e6695e24d53cf65f2f447/machine-learning-carros-simulacao.csv\"\n",
        "\n",
        "dados = pd.read_csv(uri).drop('Unnamed: 0', axis=1)\n",
        "dados = dados[['km_por_ano', 'preco', 'idade_do_modelo', 'vendido']]\n",
        "\n",
        "dados.head()"
      ]
    },
    {
      "cell_type": "code",
      "source": [
        "# situação horrivel de 'azar' onde as classes estao ordenadas por padrão\n",
        "\n",
        "dados_azar = dados.sort_values('vendido', ascending=True)\n",
        "\n",
        "X = dados.drop('vendido', axis=1)\n",
        "y = dados.vendido\n",
        "x_azar = dados_azar.drop('vendido',axis=1)\n",
        "y_azar = dados_azar.vendido"
      ],
      "metadata": {
        "id": "YYPfe80c_oeo"
      },
      "execution_count": null,
      "outputs": []
    },
    {
      "cell_type": "code",
      "source": [
        "dados_azar"
      ],
      "metadata": {
        "colab": {
          "base_uri": "https://localhost:8080/",
          "height": 424
        },
        "id": "8u5pATODltkF",
        "outputId": "f0209325-9233-43f9-caad-94ecda6de1ed"
      },
      "execution_count": null,
      "outputs": [
        {
          "output_type": "execute_result",
          "data": {
            "text/plain": [
              "       km_por_ano     preco  idade_do_modelo  vendido\n",
              "4999  24812.80412  74023.29               12        0\n",
              "5322  23095.63834  84843.49               13        0\n",
              "5319  36240.72746  83100.27               19        0\n",
              "5316  32249.56426  87932.13               16        0\n",
              "5315  28414.50704  77937.01               15        0\n",
              "...           ...       ...              ...      ...\n",
              "5491  25778.40812  71910.43                9        1\n",
              "1873  15468.97608  30456.53                6        1\n",
              "1874  16909.33538  69342.41               11        1\n",
              "5499  19622.68262  70520.39               16        1\n",
              "0     35085.22134  30941.02               18        1\n",
              "\n",
              "[10000 rows x 4 columns]"
            ],
            "text/html": [
              "\n",
              "  <div id=\"df-2246bf74-b3ac-4a73-8c26-9f27e923525f\">\n",
              "    <div class=\"colab-df-container\">\n",
              "      <div>\n",
              "<style scoped>\n",
              "    .dataframe tbody tr th:only-of-type {\n",
              "        vertical-align: middle;\n",
              "    }\n",
              "\n",
              "    .dataframe tbody tr th {\n",
              "        vertical-align: top;\n",
              "    }\n",
              "\n",
              "    .dataframe thead th {\n",
              "        text-align: right;\n",
              "    }\n",
              "</style>\n",
              "<table border=\"1\" class=\"dataframe\">\n",
              "  <thead>\n",
              "    <tr style=\"text-align: right;\">\n",
              "      <th></th>\n",
              "      <th>km_por_ano</th>\n",
              "      <th>preco</th>\n",
              "      <th>idade_do_modelo</th>\n",
              "      <th>vendido</th>\n",
              "    </tr>\n",
              "  </thead>\n",
              "  <tbody>\n",
              "    <tr>\n",
              "      <th>4999</th>\n",
              "      <td>24812.80412</td>\n",
              "      <td>74023.29</td>\n",
              "      <td>12</td>\n",
              "      <td>0</td>\n",
              "    </tr>\n",
              "    <tr>\n",
              "      <th>5322</th>\n",
              "      <td>23095.63834</td>\n",
              "      <td>84843.49</td>\n",
              "      <td>13</td>\n",
              "      <td>0</td>\n",
              "    </tr>\n",
              "    <tr>\n",
              "      <th>5319</th>\n",
              "      <td>36240.72746</td>\n",
              "      <td>83100.27</td>\n",
              "      <td>19</td>\n",
              "      <td>0</td>\n",
              "    </tr>\n",
              "    <tr>\n",
              "      <th>5316</th>\n",
              "      <td>32249.56426</td>\n",
              "      <td>87932.13</td>\n",
              "      <td>16</td>\n",
              "      <td>0</td>\n",
              "    </tr>\n",
              "    <tr>\n",
              "      <th>5315</th>\n",
              "      <td>28414.50704</td>\n",
              "      <td>77937.01</td>\n",
              "      <td>15</td>\n",
              "      <td>0</td>\n",
              "    </tr>\n",
              "    <tr>\n",
              "      <th>...</th>\n",
              "      <td>...</td>\n",
              "      <td>...</td>\n",
              "      <td>...</td>\n",
              "      <td>...</td>\n",
              "    </tr>\n",
              "    <tr>\n",
              "      <th>5491</th>\n",
              "      <td>25778.40812</td>\n",
              "      <td>71910.43</td>\n",
              "      <td>9</td>\n",
              "      <td>1</td>\n",
              "    </tr>\n",
              "    <tr>\n",
              "      <th>1873</th>\n",
              "      <td>15468.97608</td>\n",
              "      <td>30456.53</td>\n",
              "      <td>6</td>\n",
              "      <td>1</td>\n",
              "    </tr>\n",
              "    <tr>\n",
              "      <th>1874</th>\n",
              "      <td>16909.33538</td>\n",
              "      <td>69342.41</td>\n",
              "      <td>11</td>\n",
              "      <td>1</td>\n",
              "    </tr>\n",
              "    <tr>\n",
              "      <th>5499</th>\n",
              "      <td>19622.68262</td>\n",
              "      <td>70520.39</td>\n",
              "      <td>16</td>\n",
              "      <td>1</td>\n",
              "    </tr>\n",
              "    <tr>\n",
              "      <th>0</th>\n",
              "      <td>35085.22134</td>\n",
              "      <td>30941.02</td>\n",
              "      <td>18</td>\n",
              "      <td>1</td>\n",
              "    </tr>\n",
              "  </tbody>\n",
              "</table>\n",
              "<p>10000 rows × 4 columns</p>\n",
              "</div>\n",
              "      <button class=\"colab-df-convert\" onclick=\"convertToInteractive('df-2246bf74-b3ac-4a73-8c26-9f27e923525f')\"\n",
              "              title=\"Convert this dataframe to an interactive table.\"\n",
              "              style=\"display:none;\">\n",
              "        \n",
              "  <svg xmlns=\"http://www.w3.org/2000/svg\" height=\"24px\"viewBox=\"0 0 24 24\"\n",
              "       width=\"24px\">\n",
              "    <path d=\"M0 0h24v24H0V0z\" fill=\"none\"/>\n",
              "    <path d=\"M18.56 5.44l.94 2.06.94-2.06 2.06-.94-2.06-.94-.94-2.06-.94 2.06-2.06.94zm-11 1L8.5 8.5l.94-2.06 2.06-.94-2.06-.94L8.5 2.5l-.94 2.06-2.06.94zm10 10l.94 2.06.94-2.06 2.06-.94-2.06-.94-.94-2.06-.94 2.06-2.06.94z\"/><path d=\"M17.41 7.96l-1.37-1.37c-.4-.4-.92-.59-1.43-.59-.52 0-1.04.2-1.43.59L10.3 9.45l-7.72 7.72c-.78.78-.78 2.05 0 2.83L4 21.41c.39.39.9.59 1.41.59.51 0 1.02-.2 1.41-.59l7.78-7.78 2.81-2.81c.8-.78.8-2.07 0-2.86zM5.41 20L4 18.59l7.72-7.72 1.47 1.35L5.41 20z\"/>\n",
              "  </svg>\n",
              "      </button>\n",
              "      \n",
              "  <style>\n",
              "    .colab-df-container {\n",
              "      display:flex;\n",
              "      flex-wrap:wrap;\n",
              "      gap: 12px;\n",
              "    }\n",
              "\n",
              "    .colab-df-convert {\n",
              "      background-color: #E8F0FE;\n",
              "      border: none;\n",
              "      border-radius: 50%;\n",
              "      cursor: pointer;\n",
              "      display: none;\n",
              "      fill: #1967D2;\n",
              "      height: 32px;\n",
              "      padding: 0 0 0 0;\n",
              "      width: 32px;\n",
              "    }\n",
              "\n",
              "    .colab-df-convert:hover {\n",
              "      background-color: #E2EBFA;\n",
              "      box-shadow: 0px 1px 2px rgba(60, 64, 67, 0.3), 0px 1px 3px 1px rgba(60, 64, 67, 0.15);\n",
              "      fill: #174EA6;\n",
              "    }\n",
              "\n",
              "    [theme=dark] .colab-df-convert {\n",
              "      background-color: #3B4455;\n",
              "      fill: #D2E3FC;\n",
              "    }\n",
              "\n",
              "    [theme=dark] .colab-df-convert:hover {\n",
              "      background-color: #434B5C;\n",
              "      box-shadow: 0px 1px 3px 1px rgba(0, 0, 0, 0.15);\n",
              "      filter: drop-shadow(0px 1px 2px rgba(0, 0, 0, 0.3));\n",
              "      fill: #FFFFFF;\n",
              "    }\n",
              "  </style>\n",
              "\n",
              "      <script>\n",
              "        const buttonEl =\n",
              "          document.querySelector('#df-2246bf74-b3ac-4a73-8c26-9f27e923525f button.colab-df-convert');\n",
              "        buttonEl.style.display =\n",
              "          google.colab.kernel.accessAllowed ? 'block' : 'none';\n",
              "\n",
              "        async function convertToInteractive(key) {\n",
              "          const element = document.querySelector('#df-2246bf74-b3ac-4a73-8c26-9f27e923525f');\n",
              "          const dataTable =\n",
              "            await google.colab.kernel.invokeFunction('convertToInteractive',\n",
              "                                                     [key], {});\n",
              "          if (!dataTable) return;\n",
              "\n",
              "          const docLinkHtml = 'Like what you see? Visit the ' +\n",
              "            '<a target=\"_blank\" href=https://colab.research.google.com/notebooks/data_table.ipynb>data table notebook</a>'\n",
              "            + ' to learn more about interactive tables.';\n",
              "          element.innerHTML = '';\n",
              "          dataTable['output_type'] = 'display_data';\n",
              "          await google.colab.output.renderOutput(dataTable, element);\n",
              "          const docLink = document.createElement('div');\n",
              "          docLink.innerHTML = docLinkHtml;\n",
              "          element.appendChild(docLink);\n",
              "        }\n",
              "      </script>\n",
              "    </div>\n",
              "  </div>\n",
              "  "
            ]
          },
          "metadata": {},
          "execution_count": 4
        }
      ]
    },
    {
      "cell_type": "code",
      "source": [
        "y_azar"
      ],
      "metadata": {
        "colab": {
          "base_uri": "https://localhost:8080/"
        },
        "id": "-M2Tt-7Olwhb",
        "outputId": "d7d166d8-46d7-4526-c2bc-59ea43292656"
      },
      "execution_count": null,
      "outputs": [
        {
          "output_type": "execute_result",
          "data": {
            "text/plain": [
              "4999    0\n",
              "5322    0\n",
              "5319    0\n",
              "5316    0\n",
              "5315    0\n",
              "       ..\n",
              "5491    1\n",
              "1873    1\n",
              "1874    1\n",
              "5499    1\n",
              "0       1\n",
              "Name: vendido, Length: 10000, dtype: int64"
            ]
          },
          "metadata": {},
          "execution_count": 5
        }
      ]
    },
    {
      "cell_type": "code",
      "source": [
        "SEED = 301\n",
        "np.random.seed(SEED)\n",
        "\n",
        "classificador_dummy = DummyClassifier()\n",
        "resultado = cross_validate(classificador_dummy, x_azar, y_azar, cv=10)\n",
        "media = resultado['test_score'].mean()\n",
        "desvio_padrao = resultado['test_score'].std()\n",
        "print(f'Accuracy com dummy stratified, 10 = {((media - 2*desvio_padrao)*100):.2f}%,  {((media + 2*desvio_padrao)*100):.2f}%')"
      ],
      "metadata": {
        "colab": {
          "base_uri": "https://localhost:8080/"
        },
        "id": "xA1Fcxu2ApiY",
        "outputId": "091c5d22-8f1d-47c9-a373-7b5a06854698"
      },
      "execution_count": null,
      "outputs": [
        {
          "output_type": "stream",
          "name": "stdout",
          "text": [
            "Accuracy com dummy stratified, 10 = 58.00%,  58.00%\n"
          ]
        }
      ]
    },
    {
      "cell_type": "code",
      "source": [
        "from sklearn.tree import DecisionTreeClassifier\n",
        "\n",
        "SEED = 301\n",
        "tree = DecisionTreeClassifier(max_depth=2)\n",
        "resutlado_tree = cross_validate(tree, x_azar, y_azar, cv=10)\n",
        "media_tree = resutlado_tree['test_score'].mean()\n",
        "desvio_padrao_tree = resutlado_tree['test_score'].std()\n",
        "print(f'Accuracy com dummy stratified, 10 = {((media_tree - 2*desvio_padrao_tree)*100):.2f}%,  {((media_tree + 2*desvio_padrao_tree)*100):.2f}%')"
      ],
      "metadata": {
        "colab": {
          "base_uri": "https://localhost:8080/"
        },
        "id": "xd-UgBy8DibD",
        "outputId": "98a12bab-1a41-4855-d505-2d3f4b05789f"
      },
      "execution_count": null,
      "outputs": [
        {
          "output_type": "stream",
          "name": "stdout",
          "text": [
            "Accuracy com dummy stratified, 10 = 73.83%,  77.73%\n"
          ]
        }
      ]
    },
    {
      "cell_type": "code",
      "source": [
        "# gerando dados aleatórios de modelo de carro para simulação de agrupamento ao usar nosso \n",
        "\n",
        "np.random.seed(SEED)\n",
        "\n",
        "dados['modelo'] = dados.idade_do_modelo + np.random.randint(-2,3,size=10000)\n",
        "dados.modelo = dados.modelo + abs(dados.modelo.min()) + 1\n",
        "dados.head()"
      ],
      "metadata": {
        "colab": {
          "base_uri": "https://localhost:8080/",
          "height": 206
        },
        "id": "GTbtrQLFFJwZ",
        "outputId": "6a110397-bc93-4563-8f6a-d0006156b495"
      },
      "execution_count": null,
      "outputs": [
        {
          "output_type": "execute_result",
          "data": {
            "text/plain": [
              "    km_por_ano      preco  idade_do_modelo  vendido  modelo\n",
              "0  35085.22134   30941.02               18        1      18\n",
              "1  12622.05362   40557.96               20        1      24\n",
              "2  11440.79806   89627.50               12        0      14\n",
              "3  43167.32682   95276.14                3        0       6\n",
              "4  12770.11290  117384.68                4        1       5"
            ],
            "text/html": [
              "\n",
              "  <div id=\"df-1f0746a1-0274-4c81-846b-54b840d896a0\">\n",
              "    <div class=\"colab-df-container\">\n",
              "      <div>\n",
              "<style scoped>\n",
              "    .dataframe tbody tr th:only-of-type {\n",
              "        vertical-align: middle;\n",
              "    }\n",
              "\n",
              "    .dataframe tbody tr th {\n",
              "        vertical-align: top;\n",
              "    }\n",
              "\n",
              "    .dataframe thead th {\n",
              "        text-align: right;\n",
              "    }\n",
              "</style>\n",
              "<table border=\"1\" class=\"dataframe\">\n",
              "  <thead>\n",
              "    <tr style=\"text-align: right;\">\n",
              "      <th></th>\n",
              "      <th>km_por_ano</th>\n",
              "      <th>preco</th>\n",
              "      <th>idade_do_modelo</th>\n",
              "      <th>vendido</th>\n",
              "      <th>modelo</th>\n",
              "    </tr>\n",
              "  </thead>\n",
              "  <tbody>\n",
              "    <tr>\n",
              "      <th>0</th>\n",
              "      <td>35085.22134</td>\n",
              "      <td>30941.02</td>\n",
              "      <td>18</td>\n",
              "      <td>1</td>\n",
              "      <td>18</td>\n",
              "    </tr>\n",
              "    <tr>\n",
              "      <th>1</th>\n",
              "      <td>12622.05362</td>\n",
              "      <td>40557.96</td>\n",
              "      <td>20</td>\n",
              "      <td>1</td>\n",
              "      <td>24</td>\n",
              "    </tr>\n",
              "    <tr>\n",
              "      <th>2</th>\n",
              "      <td>11440.79806</td>\n",
              "      <td>89627.50</td>\n",
              "      <td>12</td>\n",
              "      <td>0</td>\n",
              "      <td>14</td>\n",
              "    </tr>\n",
              "    <tr>\n",
              "      <th>3</th>\n",
              "      <td>43167.32682</td>\n",
              "      <td>95276.14</td>\n",
              "      <td>3</td>\n",
              "      <td>0</td>\n",
              "      <td>6</td>\n",
              "    </tr>\n",
              "    <tr>\n",
              "      <th>4</th>\n",
              "      <td>12770.11290</td>\n",
              "      <td>117384.68</td>\n",
              "      <td>4</td>\n",
              "      <td>1</td>\n",
              "      <td>5</td>\n",
              "    </tr>\n",
              "  </tbody>\n",
              "</table>\n",
              "</div>\n",
              "      <button class=\"colab-df-convert\" onclick=\"convertToInteractive('df-1f0746a1-0274-4c81-846b-54b840d896a0')\"\n",
              "              title=\"Convert this dataframe to an interactive table.\"\n",
              "              style=\"display:none;\">\n",
              "        \n",
              "  <svg xmlns=\"http://www.w3.org/2000/svg\" height=\"24px\"viewBox=\"0 0 24 24\"\n",
              "       width=\"24px\">\n",
              "    <path d=\"M0 0h24v24H0V0z\" fill=\"none\"/>\n",
              "    <path d=\"M18.56 5.44l.94 2.06.94-2.06 2.06-.94-2.06-.94-.94-2.06-.94 2.06-2.06.94zm-11 1L8.5 8.5l.94-2.06 2.06-.94-2.06-.94L8.5 2.5l-.94 2.06-2.06.94zm10 10l.94 2.06.94-2.06 2.06-.94-2.06-.94-.94-2.06-.94 2.06-2.06.94z\"/><path d=\"M17.41 7.96l-1.37-1.37c-.4-.4-.92-.59-1.43-.59-.52 0-1.04.2-1.43.59L10.3 9.45l-7.72 7.72c-.78.78-.78 2.05 0 2.83L4 21.41c.39.39.9.59 1.41.59.51 0 1.02-.2 1.41-.59l7.78-7.78 2.81-2.81c.8-.78.8-2.07 0-2.86zM5.41 20L4 18.59l7.72-7.72 1.47 1.35L5.41 20z\"/>\n",
              "  </svg>\n",
              "      </button>\n",
              "      \n",
              "  <style>\n",
              "    .colab-df-container {\n",
              "      display:flex;\n",
              "      flex-wrap:wrap;\n",
              "      gap: 12px;\n",
              "    }\n",
              "\n",
              "    .colab-df-convert {\n",
              "      background-color: #E8F0FE;\n",
              "      border: none;\n",
              "      border-radius: 50%;\n",
              "      cursor: pointer;\n",
              "      display: none;\n",
              "      fill: #1967D2;\n",
              "      height: 32px;\n",
              "      padding: 0 0 0 0;\n",
              "      width: 32px;\n",
              "    }\n",
              "\n",
              "    .colab-df-convert:hover {\n",
              "      background-color: #E2EBFA;\n",
              "      box-shadow: 0px 1px 2px rgba(60, 64, 67, 0.3), 0px 1px 3px 1px rgba(60, 64, 67, 0.15);\n",
              "      fill: #174EA6;\n",
              "    }\n",
              "\n",
              "    [theme=dark] .colab-df-convert {\n",
              "      background-color: #3B4455;\n",
              "      fill: #D2E3FC;\n",
              "    }\n",
              "\n",
              "    [theme=dark] .colab-df-convert:hover {\n",
              "      background-color: #434B5C;\n",
              "      box-shadow: 0px 1px 3px 1px rgba(0, 0, 0, 0.15);\n",
              "      filter: drop-shadow(0px 1px 2px rgba(0, 0, 0, 0.3));\n",
              "      fill: #FFFFFF;\n",
              "    }\n",
              "  </style>\n",
              "\n",
              "      <script>\n",
              "        const buttonEl =\n",
              "          document.querySelector('#df-1f0746a1-0274-4c81-846b-54b840d896a0 button.colab-df-convert');\n",
              "        buttonEl.style.display =\n",
              "          google.colab.kernel.accessAllowed ? 'block' : 'none';\n",
              "\n",
              "        async function convertToInteractive(key) {\n",
              "          const element = document.querySelector('#df-1f0746a1-0274-4c81-846b-54b840d896a0');\n",
              "          const dataTable =\n",
              "            await google.colab.kernel.invokeFunction('convertToInteractive',\n",
              "                                                     [key], {});\n",
              "          if (!dataTable) return;\n",
              "\n",
              "          const docLinkHtml = 'Like what you see? Visit the ' +\n",
              "            '<a target=\"_blank\" href=https://colab.research.google.com/notebooks/data_table.ipynb>data table notebook</a>'\n",
              "            + ' to learn more about interactive tables.';\n",
              "          element.innerHTML = '';\n",
              "          dataTable['output_type'] = 'display_data';\n",
              "          await google.colab.output.renderOutput(dataTable, element);\n",
              "          const docLink = document.createElement('div');\n",
              "          docLink.innerHTML = docLinkHtml;\n",
              "          element.appendChild(docLink);\n",
              "        }\n",
              "      </script>\n",
              "    </div>\n",
              "  </div>\n",
              "  "
            ]
          },
          "metadata": {},
          "execution_count": 8
        }
      ]
    },
    {
      "cell_type": "code",
      "source": [
        "def imprime_resultados(results):\n",
        "    media = results['test_score'].mean()\n",
        "    desvio_padrao = results['test_score'].std()\n",
        "    print(f'Accuracy média é: {(media*100):.2f}')\n",
        "    print(f'Accuracy = [{((media - 2*desvio_padrao)*100):.2f}%,  {((media + 2*desvio_padrao)*100):.2f}%]')"
      ],
      "metadata": {
        "id": "C5IPku7NG7bu"
      },
      "execution_count": null,
      "outputs": []
    },
    {
      "cell_type": "code",
      "source": [
        "# GroupKfold\n",
        "\n",
        "from sklearn.model_selection import GroupKFold\n",
        "\n",
        "SEED = 301\n",
        "np.random.seed(SEED)\n",
        "\n",
        "kfold = GroupKFold(n_splits=10)\n",
        "modelo_arvore = DecisionTreeClassifier(max_depth=10)\n",
        "resultado = cross_validate(modelo_arvore, x_azar, y_azar, cv=kfold, groups=dados.modelo)\n",
        "imprime_resultados(resultado)"
      ],
      "metadata": {
        "colab": {
          "base_uri": "https://localhost:8080/"
        },
        "id": "3KnlytD7F8YN",
        "outputId": "af6f2d15-5aef-4199-918e-e0efe3931f26"
      },
      "execution_count": null,
      "outputs": [
        {
          "output_type": "stream",
          "name": "stdout",
          "text": [
            "Accuracy média é: 77.19\n",
            "Accuracy = [75.32%,  79.06%]\n"
          ]
        }
      ]
    },
    {
      "cell_type": "code",
      "source": [
        "# GroupKfold em um pipeline com StandardScaler e SVC\n",
        "\n",
        "from sklearn.preprocessing import StandardScaler\n",
        "from sklearn.pipeline import Pipeline\n",
        "from sklearn.svm import SVC\n",
        "\n",
        "SEED = 301\n",
        "np.random.seed(SEED)\n",
        "\n",
        "scaler = StandardScaler()\n",
        "svc = SVC()\n",
        "\n",
        "pipeline = Pipeline([('scaler', scaler), ('svc', svc)])\n",
        "\n",
        "cv = GroupKFold(n_splits=10)\n",
        "result = cross_validate(pipeline, x_azar, y_azar, cv=kfold, groups=dados.modelo)\n",
        "imprime_resultados(result)"
      ],
      "metadata": {
        "id": "ExAW0P6QHh7k"
      },
      "execution_count": null,
      "outputs": []
    },
    {
      "cell_type": "code",
      "source": [
        "modelo_arvore"
      ],
      "metadata": {
        "id": "ZnosXrL8JcL1",
        "colab": {
          "base_uri": "https://localhost:8080/"
        },
        "outputId": "865f623c-1498-4fd3-841e-101aca8f94cb"
      },
      "execution_count": null,
      "outputs": [
        {
          "output_type": "execute_result",
          "data": {
            "text/plain": [
              "DecisionTreeClassifier(max_depth=10)"
            ]
          },
          "metadata": {},
          "execution_count": 12
        }
      ]
    },
    {
      "cell_type": "code",
      "source": [
        "import graphviz\n",
        "from sklearn.tree import export_graphviz\n",
        "\n",
        "tree = DecisionTreeClassifier(max_depth=10)\n",
        "tree.fit(x_azar, y_azar)\n",
        "features = x_azar.columns\n",
        "dot_data = export_graphviz(tree, filled=True, rounded=True, class_names=['nao', 'sim'], feature_names=features)\n",
        "\n",
        "graph = graphviz.Source(dot_data)\n",
        "graph"
      ],
      "metadata": {
        "id": "45kZScQpJpQg",
        "colab": {
          "base_uri": "https://localhost:8080/",
          "height": 1000
        },
        "outputId": "ed703b52-f2fa-4a7f-995d-a318d839d60e"
      },
      "execution_count": null,
      "outputs": [
        {
          "output_type": "execute_result",
          "data": {
            "text/plain": [
              "<graphviz.files.Source at 0x7f441d379e50>"
            ],
            "image/svg+xml": "<?xml version=\"1.0\" encoding=\"UTF-8\" standalone=\"no\"?>\n<!DOCTYPE svg PUBLIC \"-//W3C//DTD SVG 1.1//EN\"\n \"http://www.w3.org/Graphics/SVG/1.1/DTD/svg11.dtd\">\n<!-- Generated by graphviz version 2.43.0 (0)\n -->\n<!-- Title: Tree Pages: 1 -->\n<svg width=\"13383pt\" height=\"1266pt\"\n viewBox=\"0.00 0.00 13383.00 1266.00\" xmlns=\"http://www.w3.org/2000/svg\" xmlns:xlink=\"http://www.w3.org/1999/xlink\">\n<g id=\"graph0\" class=\"graph\" transform=\"scale(1 1) rotate(0) translate(4 1262)\">\n<title>Tree</title>\n<polygon fill=\"white\" stroke=\"transparent\" points=\"-4,4 -4,-1262 13379,-1262 13379,4 -4,4\"/>\n<!-- 0 -->\n<g id=\"node1\" class=\"node\">\n<title>0</title>\n<path fill=\"#c8e4f8\" stroke=\"black\" d=\"M5525.5,-1258C5525.5,-1258 5409.5,-1258 5409.5,-1258 5403.5,-1258 5397.5,-1252 5397.5,-1246 5397.5,-1246 5397.5,-1187 5397.5,-1187 5397.5,-1181 5403.5,-1175 5409.5,-1175 5409.5,-1175 5525.5,-1175 5525.5,-1175 5531.5,-1175 5537.5,-1181 5537.5,-1187 5537.5,-1187 5537.5,-1246 5537.5,-1246 5537.5,-1252 5531.5,-1258 5525.5,-1258\"/>\n<text text-anchor=\"middle\" x=\"5467.5\" y=\"-1242.8\" font-family=\"Helvetica,sans-Serif\" font-size=\"14.00\">preco &lt;= 59982.246</text>\n<text text-anchor=\"middle\" x=\"5467.5\" y=\"-1227.8\" font-family=\"Helvetica,sans-Serif\" font-size=\"14.00\">gini = 0.487</text>\n<text text-anchor=\"middle\" x=\"5467.5\" y=\"-1212.8\" font-family=\"Helvetica,sans-Serif\" font-size=\"14.00\">samples = 10000</text>\n<text text-anchor=\"middle\" x=\"5467.5\" y=\"-1197.8\" font-family=\"Helvetica,sans-Serif\" font-size=\"14.00\">value = [4200, 5800]</text>\n<text text-anchor=\"middle\" x=\"5467.5\" y=\"-1182.8\" font-family=\"Helvetica,sans-Serif\" font-size=\"14.00\">class = sim</text>\n</g>\n<!-- 1 -->\n<g id=\"node2\" class=\"node\">\n<title>1</title>\n<path fill=\"#52a9e8\" stroke=\"black\" d=\"M3245.5,-1139C3245.5,-1139 3131.5,-1139 3131.5,-1139 3125.5,-1139 3119.5,-1133 3119.5,-1127 3119.5,-1127 3119.5,-1068 3119.5,-1068 3119.5,-1062 3125.5,-1056 3131.5,-1056 3131.5,-1056 3245.5,-1056 3245.5,-1056 3251.5,-1056 3257.5,-1062 3257.5,-1068 3257.5,-1068 3257.5,-1127 3257.5,-1127 3257.5,-1133 3251.5,-1139 3245.5,-1139\"/>\n<text text-anchor=\"middle\" x=\"3188.5\" y=\"-1123.8\" font-family=\"Helvetica,sans-Serif\" font-size=\"14.00\">preco &lt;= 40083.385</text>\n<text text-anchor=\"middle\" x=\"3188.5\" y=\"-1108.8\" font-family=\"Helvetica,sans-Serif\" font-size=\"14.00\">gini = 0.198</text>\n<text text-anchor=\"middle\" x=\"3188.5\" y=\"-1093.8\" font-family=\"Helvetica,sans-Serif\" font-size=\"14.00\">samples = 4347</text>\n<text text-anchor=\"middle\" x=\"3188.5\" y=\"-1078.8\" font-family=\"Helvetica,sans-Serif\" font-size=\"14.00\">value = [484, 3863]</text>\n<text text-anchor=\"middle\" x=\"3188.5\" y=\"-1063.8\" font-family=\"Helvetica,sans-Serif\" font-size=\"14.00\">class = sim</text>\n</g>\n<!-- 0&#45;&gt;1 -->\n<g id=\"edge1\" class=\"edge\">\n<title>0&#45;&gt;1</title>\n<path fill=\"none\" stroke=\"black\" d=\"M5397.42,-1211.9C5062.06,-1194.69 3622.64,-1120.79 3267.79,-1102.57\"/>\n<polygon fill=\"black\" stroke=\"black\" points=\"3267.78,-1099.07 3257.61,-1102.05 3267.42,-1106.06 3267.78,-1099.07\"/>\n<text text-anchor=\"middle\" x=\"3274.36\" y=\"-1116.91\" font-family=\"Helvetica,sans-Serif\" font-size=\"14.00\">True</text>\n</g>\n<!-- 146 -->\n<g id=\"node147\" class=\"node\">\n<title>146</title>\n<path fill=\"#f3c3a0\" stroke=\"black\" d=\"M7750.5,-1139C7750.5,-1139 7594.5,-1139 7594.5,-1139 7588.5,-1139 7582.5,-1133 7582.5,-1127 7582.5,-1127 7582.5,-1068 7582.5,-1068 7582.5,-1062 7588.5,-1056 7594.5,-1056 7594.5,-1056 7750.5,-1056 7750.5,-1056 7756.5,-1056 7762.5,-1062 7762.5,-1068 7762.5,-1068 7762.5,-1127 7762.5,-1127 7762.5,-1133 7756.5,-1139 7750.5,-1139\"/>\n<text text-anchor=\"middle\" x=\"7672.5\" y=\"-1123.8\" font-family=\"Helvetica,sans-Serif\" font-size=\"14.00\">km_por_ano &lt;= 24124.006</text>\n<text text-anchor=\"middle\" x=\"7672.5\" y=\"-1108.8\" font-family=\"Helvetica,sans-Serif\" font-size=\"14.00\">gini = 0.45</text>\n<text text-anchor=\"middle\" x=\"7672.5\" y=\"-1093.8\" font-family=\"Helvetica,sans-Serif\" font-size=\"14.00\">samples = 5653</text>\n<text text-anchor=\"middle\" x=\"7672.5\" y=\"-1078.8\" font-family=\"Helvetica,sans-Serif\" font-size=\"14.00\">value = [3716, 1937]</text>\n<text text-anchor=\"middle\" x=\"7672.5\" y=\"-1063.8\" font-family=\"Helvetica,sans-Serif\" font-size=\"14.00\">class = nao</text>\n</g>\n<!-- 0&#45;&gt;146 -->\n<g id=\"edge146\" class=\"edge\">\n<title>0&#45;&gt;146</title>\n<path fill=\"none\" stroke=\"black\" d=\"M5537.75,-1211.77C5859.6,-1194.69 7193.82,-1123.9 7572.11,-1103.83\"/>\n<polygon fill=\"black\" stroke=\"black\" points=\"7572.42,-1107.32 7582.22,-1103.29 7572.05,-1100.33 7572.42,-1107.32\"/>\n<text text-anchor=\"middle\" x=\"7565.5\" y=\"-1118.18\" font-family=\"Helvetica,sans-Serif\" font-size=\"14.00\">False</text>\n</g>\n<!-- 2 -->\n<g id=\"node3\" class=\"node\">\n<title>2</title>\n<path fill=\"#399de5\" stroke=\"black\" d=\"M3089,-1012.5C3089,-1012.5 2996,-1012.5 2996,-1012.5 2990,-1012.5 2984,-1006.5 2984,-1000.5 2984,-1000.5 2984,-956.5 2984,-956.5 2984,-950.5 2990,-944.5 2996,-944.5 2996,-944.5 3089,-944.5 3089,-944.5 3095,-944.5 3101,-950.5 3101,-956.5 3101,-956.5 3101,-1000.5 3101,-1000.5 3101,-1006.5 3095,-1012.5 3089,-1012.5\"/>\n<text text-anchor=\"middle\" x=\"3042.5\" y=\"-997.3\" font-family=\"Helvetica,sans-Serif\" font-size=\"14.00\">gini = 0.0</text>\n<text text-anchor=\"middle\" x=\"3042.5\" y=\"-982.3\" font-family=\"Helvetica,sans-Serif\" font-size=\"14.00\">samples = 1935</text>\n<text text-anchor=\"middle\" x=\"3042.5\" y=\"-967.3\" font-family=\"Helvetica,sans-Serif\" font-size=\"14.00\">value = [0, 1935]</text>\n<text text-anchor=\"middle\" x=\"3042.5\" y=\"-952.3\" font-family=\"Helvetica,sans-Serif\" font-size=\"14.00\">class = sim</text>\n</g>\n<!-- 1&#45;&gt;2 -->\n<g id=\"edge2\" class=\"edge\">\n<title>1&#45;&gt;2</title>\n<path fill=\"none\" stroke=\"black\" d=\"M3137.85,-1055.91C3122.97,-1043.99 3106.73,-1030.98 3091.94,-1019.12\"/>\n<polygon fill=\"black\" stroke=\"black\" points=\"3093.88,-1016.19 3083.89,-1012.67 3089.5,-1021.65 3093.88,-1016.19\"/>\n</g>\n<!-- 3 -->\n<g id=\"node4\" class=\"node\">\n<title>3</title>\n<path fill=\"#6bb6ec\" stroke=\"black\" d=\"M3245.5,-1020C3245.5,-1020 3131.5,-1020 3131.5,-1020 3125.5,-1020 3119.5,-1014 3119.5,-1008 3119.5,-1008 3119.5,-949 3119.5,-949 3119.5,-943 3125.5,-937 3131.5,-937 3131.5,-937 3245.5,-937 3245.5,-937 3251.5,-937 3257.5,-943 3257.5,-949 3257.5,-949 3257.5,-1008 3257.5,-1008 3257.5,-1014 3251.5,-1020 3245.5,-1020\"/>\n<text text-anchor=\"middle\" x=\"3188.5\" y=\"-1004.8\" font-family=\"Helvetica,sans-Serif\" font-size=\"14.00\">preco &lt;= 41083.029</text>\n<text text-anchor=\"middle\" x=\"3188.5\" y=\"-989.8\" font-family=\"Helvetica,sans-Serif\" font-size=\"14.00\">gini = 0.321</text>\n<text text-anchor=\"middle\" x=\"3188.5\" y=\"-974.8\" font-family=\"Helvetica,sans-Serif\" font-size=\"14.00\">samples = 2412</text>\n<text text-anchor=\"middle\" x=\"3188.5\" y=\"-959.8\" font-family=\"Helvetica,sans-Serif\" font-size=\"14.00\">value = [484, 1928]</text>\n<text text-anchor=\"middle\" x=\"3188.5\" y=\"-944.8\" font-family=\"Helvetica,sans-Serif\" font-size=\"14.00\">class = sim</text>\n</g>\n<!-- 1&#45;&gt;3 -->\n<g id=\"edge3\" class=\"edge\">\n<title>1&#45;&gt;3</title>\n<path fill=\"none\" stroke=\"black\" d=\"M3188.5,-1055.91C3188.5,-1047.65 3188.5,-1038.86 3188.5,-1030.3\"/>\n<polygon fill=\"black\" stroke=\"black\" points=\"3192,-1030.02 3188.5,-1020.02 3185,-1030.02 3192,-1030.02\"/>\n</g>\n<!-- 4 -->\n<g id=\"node5\" class=\"node\">\n<title>4</title>\n<path fill=\"#95cbf1\" stroke=\"black\" d=\"M1564.5,-901C1564.5,-901 1450.5,-901 1450.5,-901 1444.5,-901 1438.5,-895 1438.5,-889 1438.5,-889 1438.5,-830 1438.5,-830 1438.5,-824 1444.5,-818 1450.5,-818 1450.5,-818 1564.5,-818 1564.5,-818 1570.5,-818 1576.5,-824 1576.5,-830 1576.5,-830 1576.5,-889 1576.5,-889 1576.5,-895 1570.5,-901 1564.5,-901\"/>\n<text text-anchor=\"middle\" x=\"1507.5\" y=\"-885.8\" font-family=\"Helvetica,sans-Serif\" font-size=\"14.00\">preco &lt;= 41041.311</text>\n<text text-anchor=\"middle\" x=\"1507.5\" y=\"-870.8\" font-family=\"Helvetica,sans-Serif\" font-size=\"14.00\">gini = 0.434</text>\n<text text-anchor=\"middle\" x=\"1507.5\" y=\"-855.8\" font-family=\"Helvetica,sans-Serif\" font-size=\"14.00\">samples = 110</text>\n<text text-anchor=\"middle\" x=\"1507.5\" y=\"-840.8\" font-family=\"Helvetica,sans-Serif\" font-size=\"14.00\">value = [35, 75]</text>\n<text text-anchor=\"middle\" x=\"1507.5\" y=\"-825.8\" font-family=\"Helvetica,sans-Serif\" font-size=\"14.00\">class = sim</text>\n</g>\n<!-- 3&#45;&gt;4 -->\n<g id=\"edge4\" class=\"edge\">\n<title>3&#45;&gt;4</title>\n<path fill=\"none\" stroke=\"black\" d=\"M3119.36,-940.04C3116.07,-938.9 3112.78,-937.87 3109.5,-937 2817.34,-859.05 1867.82,-858.3 1586.65,-859.87\"/>\n<polygon fill=\"black\" stroke=\"black\" points=\"1586.51,-856.37 1576.53,-859.93 1586.55,-863.37 1586.51,-856.37\"/>\n</g>\n<!-- 39 -->\n<g id=\"node40\" class=\"node\">\n<title>39</title>\n<path fill=\"#69b5eb\" stroke=\"black\" d=\"M3266.5,-901C3266.5,-901 3110.5,-901 3110.5,-901 3104.5,-901 3098.5,-895 3098.5,-889 3098.5,-889 3098.5,-830 3098.5,-830 3098.5,-824 3104.5,-818 3110.5,-818 3110.5,-818 3266.5,-818 3266.5,-818 3272.5,-818 3278.5,-824 3278.5,-830 3278.5,-830 3278.5,-889 3278.5,-889 3278.5,-895 3272.5,-901 3266.5,-901\"/>\n<text text-anchor=\"middle\" x=\"3188.5\" y=\"-885.8\" font-family=\"Helvetica,sans-Serif\" font-size=\"14.00\">km_por_ano &lt;= 35765.973</text>\n<text text-anchor=\"middle\" x=\"3188.5\" y=\"-870.8\" font-family=\"Helvetica,sans-Serif\" font-size=\"14.00\">gini = 0.314</text>\n<text text-anchor=\"middle\" x=\"3188.5\" y=\"-855.8\" font-family=\"Helvetica,sans-Serif\" font-size=\"14.00\">samples = 2302</text>\n<text text-anchor=\"middle\" x=\"3188.5\" y=\"-840.8\" font-family=\"Helvetica,sans-Serif\" font-size=\"14.00\">value = [449, 1853]</text>\n<text text-anchor=\"middle\" x=\"3188.5\" y=\"-825.8\" font-family=\"Helvetica,sans-Serif\" font-size=\"14.00\">class = sim</text>\n</g>\n<!-- 3&#45;&gt;39 -->\n<g id=\"edge39\" class=\"edge\">\n<title>3&#45;&gt;39</title>\n<path fill=\"none\" stroke=\"black\" d=\"M3188.5,-936.91C3188.5,-928.65 3188.5,-919.86 3188.5,-911.3\"/>\n<polygon fill=\"black\" stroke=\"black\" points=\"3192,-911.02 3188.5,-901.02 3185,-911.02 3192,-911.02\"/>\n</g>\n<!-- 5 -->\n<g id=\"node6\" class=\"node\">\n<title>5</title>\n<path fill=\"#90c8f0\" stroke=\"black\" d=\"M924,-782C924,-782 773,-782 773,-782 767,-782 761,-776 761,-770 761,-770 761,-711 761,-711 761,-705 767,-699 773,-699 773,-699 924,-699 924,-699 930,-699 936,-705 936,-711 936,-711 936,-770 936,-770 936,-776 930,-782 924,-782\"/>\n<text text-anchor=\"middle\" x=\"848.5\" y=\"-766.8\" font-family=\"Helvetica,sans-Serif\" font-size=\"14.00\">idade_do_modelo &lt;= 18.5</text>\n<text text-anchor=\"middle\" x=\"848.5\" y=\"-751.8\" font-family=\"Helvetica,sans-Serif\" font-size=\"14.00\">gini = 0.424</text>\n<text text-anchor=\"middle\" x=\"848.5\" y=\"-736.8\" font-family=\"Helvetica,sans-Serif\" font-size=\"14.00\">samples = 108</text>\n<text text-anchor=\"middle\" x=\"848.5\" y=\"-721.8\" font-family=\"Helvetica,sans-Serif\" font-size=\"14.00\">value = [33, 75]</text>\n<text text-anchor=\"middle\" x=\"848.5\" y=\"-706.8\" font-family=\"Helvetica,sans-Serif\" font-size=\"14.00\">class = sim</text>\n</g>\n<!-- 4&#45;&gt;5 -->\n<g id=\"edge5\" class=\"edge\">\n<title>4&#45;&gt;5</title>\n<path fill=\"none\" stroke=\"black\" d=\"M1438.22,-846.2C1320.39,-825.28 1080.65,-782.72 945.96,-758.8\"/>\n<polygon fill=\"black\" stroke=\"black\" points=\"946.51,-755.35 936.05,-757.04 945.28,-762.24 946.51,-755.35\"/>\n</g>\n<!-- 38 -->\n<g id=\"node39\" class=\"node\">\n<title>38</title>\n<path fill=\"#e58139\" stroke=\"black\" d=\"M1543,-774.5C1543,-774.5 1472,-774.5 1472,-774.5 1466,-774.5 1460,-768.5 1460,-762.5 1460,-762.5 1460,-718.5 1460,-718.5 1460,-712.5 1466,-706.5 1472,-706.5 1472,-706.5 1543,-706.5 1543,-706.5 1549,-706.5 1555,-712.5 1555,-718.5 1555,-718.5 1555,-762.5 1555,-762.5 1555,-768.5 1549,-774.5 1543,-774.5\"/>\n<text text-anchor=\"middle\" x=\"1507.5\" y=\"-759.3\" font-family=\"Helvetica,sans-Serif\" font-size=\"14.00\">gini = 0.0</text>\n<text text-anchor=\"middle\" x=\"1507.5\" y=\"-744.3\" font-family=\"Helvetica,sans-Serif\" font-size=\"14.00\">samples = 2</text>\n<text text-anchor=\"middle\" x=\"1507.5\" y=\"-729.3\" font-family=\"Helvetica,sans-Serif\" font-size=\"14.00\">value = [2, 0]</text>\n<text text-anchor=\"middle\" x=\"1507.5\" y=\"-714.3\" font-family=\"Helvetica,sans-Serif\" font-size=\"14.00\">class = nao</text>\n</g>\n<!-- 4&#45;&gt;38 -->\n<g id=\"edge38\" class=\"edge\">\n<title>4&#45;&gt;38</title>\n<path fill=\"none\" stroke=\"black\" d=\"M1507.5,-817.91C1507.5,-807.2 1507.5,-795.62 1507.5,-784.78\"/>\n<polygon fill=\"black\" stroke=\"black\" points=\"1511,-784.67 1507.5,-774.67 1504,-784.67 1511,-784.67\"/>\n</g>\n<!-- 6 -->\n<g id=\"node7\" class=\"node\">\n<title>6</title>\n<path fill=\"#84c2ef\" stroke=\"black\" d=\"M439.5,-663C439.5,-663 325.5,-663 325.5,-663 319.5,-663 313.5,-657 313.5,-651 313.5,-651 313.5,-592 313.5,-592 313.5,-586 319.5,-580 325.5,-580 325.5,-580 439.5,-580 439.5,-580 445.5,-580 451.5,-586 451.5,-592 451.5,-592 451.5,-651 451.5,-651 451.5,-657 445.5,-663 439.5,-663\"/>\n<text text-anchor=\"middle\" x=\"382.5\" y=\"-647.8\" font-family=\"Helvetica,sans-Serif\" font-size=\"14.00\">preco &lt;= 40086.025</text>\n<text text-anchor=\"middle\" x=\"382.5\" y=\"-632.8\" font-family=\"Helvetica,sans-Serif\" font-size=\"14.00\">gini = 0.399</text>\n<text text-anchor=\"middle\" x=\"382.5\" y=\"-617.8\" font-family=\"Helvetica,sans-Serif\" font-size=\"14.00\">samples = 91</text>\n<text text-anchor=\"middle\" x=\"382.5\" y=\"-602.8\" font-family=\"Helvetica,sans-Serif\" font-size=\"14.00\">value = [25, 66]</text>\n<text text-anchor=\"middle\" x=\"382.5\" y=\"-587.8\" font-family=\"Helvetica,sans-Serif\" font-size=\"14.00\">class = sim</text>\n</g>\n<!-- 5&#45;&gt;6 -->\n<g id=\"edge6\" class=\"edge\">\n<title>5&#45;&gt;6</title>\n<path fill=\"none\" stroke=\"black\" d=\"M760.85,-717.49C674.71,-695.87 544.44,-663.16 461.44,-642.32\"/>\n<polygon fill=\"black\" stroke=\"black\" points=\"462.11,-638.88 451.56,-639.84 460.4,-645.67 462.11,-638.88\"/>\n</g>\n<!-- 25 -->\n<g id=\"node26\" class=\"node\">\n<title>25</title>\n<path fill=\"#e9f4fc\" stroke=\"black\" d=\"M926.5,-663C926.5,-663 770.5,-663 770.5,-663 764.5,-663 758.5,-657 758.5,-651 758.5,-651 758.5,-592 758.5,-592 758.5,-586 764.5,-580 770.5,-580 770.5,-580 926.5,-580 926.5,-580 932.5,-580 938.5,-586 938.5,-592 938.5,-592 938.5,-651 938.5,-651 938.5,-657 932.5,-663 926.5,-663\"/>\n<text text-anchor=\"middle\" x=\"848.5\" y=\"-647.8\" font-family=\"Helvetica,sans-Serif\" font-size=\"14.00\">km_por_ano &lt;= 22634.562</text>\n<text text-anchor=\"middle\" x=\"848.5\" y=\"-632.8\" font-family=\"Helvetica,sans-Serif\" font-size=\"14.00\">gini = 0.498</text>\n<text text-anchor=\"middle\" x=\"848.5\" y=\"-617.8\" font-family=\"Helvetica,sans-Serif\" font-size=\"14.00\">samples = 17</text>\n<text text-anchor=\"middle\" x=\"848.5\" y=\"-602.8\" font-family=\"Helvetica,sans-Serif\" font-size=\"14.00\">value = [8, 9]</text>\n<text text-anchor=\"middle\" x=\"848.5\" y=\"-587.8\" font-family=\"Helvetica,sans-Serif\" font-size=\"14.00\">class = sim</text>\n</g>\n<!-- 5&#45;&gt;25 -->\n<g id=\"edge25\" class=\"edge\">\n<title>5&#45;&gt;25</title>\n<path fill=\"none\" stroke=\"black\" d=\"M848.5,-698.91C848.5,-690.65 848.5,-681.86 848.5,-673.3\"/>\n<polygon fill=\"black\" stroke=\"black\" points=\"852,-673.02 848.5,-663.02 845,-673.02 852,-673.02\"/>\n</g>\n<!-- 7 -->\n<g id=\"node8\" class=\"node\">\n<title>7</title>\n<path fill=\"#e58139\" stroke=\"black\" d=\"M269,-536.5C269,-536.5 198,-536.5 198,-536.5 192,-536.5 186,-530.5 186,-524.5 186,-524.5 186,-480.5 186,-480.5 186,-474.5 192,-468.5 198,-468.5 198,-468.5 269,-468.5 269,-468.5 275,-468.5 281,-474.5 281,-480.5 281,-480.5 281,-524.5 281,-524.5 281,-530.5 275,-536.5 269,-536.5\"/>\n<text text-anchor=\"middle\" x=\"233.5\" y=\"-521.3\" font-family=\"Helvetica,sans-Serif\" font-size=\"14.00\">gini = 0.0</text>\n<text text-anchor=\"middle\" x=\"233.5\" y=\"-506.3\" font-family=\"Helvetica,sans-Serif\" font-size=\"14.00\">samples = 1</text>\n<text text-anchor=\"middle\" x=\"233.5\" y=\"-491.3\" font-family=\"Helvetica,sans-Serif\" font-size=\"14.00\">value = [1, 0]</text>\n<text text-anchor=\"middle\" x=\"233.5\" y=\"-476.3\" font-family=\"Helvetica,sans-Serif\" font-size=\"14.00\">class = nao</text>\n</g>\n<!-- 6&#45;&gt;7 -->\n<g id=\"edge7\" class=\"edge\">\n<title>6&#45;&gt;7</title>\n<path fill=\"none\" stroke=\"black\" d=\"M330.81,-579.91C315.63,-567.99 299.05,-554.98 283.96,-543.12\"/>\n<polygon fill=\"black\" stroke=\"black\" points=\"285.76,-540.09 275.74,-536.67 281.44,-545.6 285.76,-540.09\"/>\n</g>\n<!-- 8 -->\n<g id=\"node9\" class=\"node\">\n<title>8</title>\n<path fill=\"#81c1ee\" stroke=\"black\" d=\"M454,-544C454,-544 311,-544 311,-544 305,-544 299,-538 299,-532 299,-532 299,-473 299,-473 299,-467 305,-461 311,-461 311,-461 454,-461 454,-461 460,-461 466,-467 466,-473 466,-473 466,-532 466,-532 466,-538 460,-544 454,-544\"/>\n<text text-anchor=\"middle\" x=\"382.5\" y=\"-528.8\" font-family=\"Helvetica,sans-Serif\" font-size=\"14.00\">idade_do_modelo &lt;= 3.5</text>\n<text text-anchor=\"middle\" x=\"382.5\" y=\"-513.8\" font-family=\"Helvetica,sans-Serif\" font-size=\"14.00\">gini = 0.391</text>\n<text text-anchor=\"middle\" x=\"382.5\" y=\"-498.8\" font-family=\"Helvetica,sans-Serif\" font-size=\"14.00\">samples = 90</text>\n<text text-anchor=\"middle\" x=\"382.5\" y=\"-483.8\" font-family=\"Helvetica,sans-Serif\" font-size=\"14.00\">value = [24, 66]</text>\n<text text-anchor=\"middle\" x=\"382.5\" y=\"-468.8\" font-family=\"Helvetica,sans-Serif\" font-size=\"14.00\">class = sim</text>\n</g>\n<!-- 6&#45;&gt;8 -->\n<g id=\"edge8\" class=\"edge\">\n<title>6&#45;&gt;8</title>\n<path fill=\"none\" stroke=\"black\" d=\"M382.5,-579.91C382.5,-571.65 382.5,-562.86 382.5,-554.3\"/>\n<polygon fill=\"black\" stroke=\"black\" points=\"386,-554.02 382.5,-544.02 379,-554.02 386,-554.02\"/>\n</g>\n<!-- 9 -->\n<g id=\"node10\" class=\"node\">\n<title>9</title>\n<path fill=\"#f2c09c\" stroke=\"black\" d=\"M214,-425C214,-425 107,-425 107,-425 101,-425 95,-419 95,-413 95,-413 95,-354 95,-354 95,-348 101,-342 107,-342 107,-342 214,-342 214,-342 220,-342 226,-348 226,-354 226,-354 226,-413 226,-413 226,-419 220,-425 214,-425\"/>\n<text text-anchor=\"middle\" x=\"160.5\" y=\"-409.8\" font-family=\"Helvetica,sans-Serif\" font-size=\"14.00\">preco &lt;= 40146.84</text>\n<text text-anchor=\"middle\" x=\"160.5\" y=\"-394.8\" font-family=\"Helvetica,sans-Serif\" font-size=\"14.00\">gini = 0.444</text>\n<text text-anchor=\"middle\" x=\"160.5\" y=\"-379.8\" font-family=\"Helvetica,sans-Serif\" font-size=\"14.00\">samples = 3</text>\n<text text-anchor=\"middle\" x=\"160.5\" y=\"-364.8\" font-family=\"Helvetica,sans-Serif\" font-size=\"14.00\">value = [2, 1]</text>\n<text text-anchor=\"middle\" x=\"160.5\" y=\"-349.8\" font-family=\"Helvetica,sans-Serif\" font-size=\"14.00\">class = nao</text>\n</g>\n<!-- 8&#45;&gt;9 -->\n<g id=\"edge9\" class=\"edge\">\n<title>8&#45;&gt;9</title>\n<path fill=\"none\" stroke=\"black\" d=\"M305.48,-460.91C282.7,-448.9 257.82,-435.79 235.19,-423.86\"/>\n<polygon fill=\"black\" stroke=\"black\" points=\"236.79,-420.75 226.31,-419.18 233.53,-426.94 236.79,-420.75\"/>\n</g>\n<!-- 12 -->\n<g id=\"node13\" class=\"node\">\n<title>12</title>\n<path fill=\"#7cbeee\" stroke=\"black\" d=\"M439.5,-425C439.5,-425 325.5,-425 325.5,-425 319.5,-425 313.5,-419 313.5,-413 313.5,-413 313.5,-354 313.5,-354 313.5,-348 319.5,-342 325.5,-342 325.5,-342 439.5,-342 439.5,-342 445.5,-342 451.5,-348 451.5,-354 451.5,-354 451.5,-413 451.5,-413 451.5,-419 445.5,-425 439.5,-425\"/>\n<text text-anchor=\"middle\" x=\"382.5\" y=\"-409.8\" font-family=\"Helvetica,sans-Serif\" font-size=\"14.00\">preco &lt;= 40616.676</text>\n<text text-anchor=\"middle\" x=\"382.5\" y=\"-394.8\" font-family=\"Helvetica,sans-Serif\" font-size=\"14.00\">gini = 0.378</text>\n<text text-anchor=\"middle\" x=\"382.5\" y=\"-379.8\" font-family=\"Helvetica,sans-Serif\" font-size=\"14.00\">samples = 87</text>\n<text text-anchor=\"middle\" x=\"382.5\" y=\"-364.8\" font-family=\"Helvetica,sans-Serif\" font-size=\"14.00\">value = [22, 65]</text>\n<text text-anchor=\"middle\" x=\"382.5\" y=\"-349.8\" font-family=\"Helvetica,sans-Serif\" font-size=\"14.00\">class = sim</text>\n</g>\n<!-- 8&#45;&gt;12 -->\n<g id=\"edge12\" class=\"edge\">\n<title>8&#45;&gt;12</title>\n<path fill=\"none\" stroke=\"black\" d=\"M382.5,-460.91C382.5,-452.65 382.5,-443.86 382.5,-435.3\"/>\n<polygon fill=\"black\" stroke=\"black\" points=\"386,-435.02 382.5,-425.02 379,-435.02 386,-435.02\"/>\n</g>\n<!-- 10 -->\n<g id=\"node11\" class=\"node\">\n<title>10</title>\n<path fill=\"#399de5\" stroke=\"black\" d=\"M83,-298.5C83,-298.5 12,-298.5 12,-298.5 6,-298.5 0,-292.5 0,-286.5 0,-286.5 0,-242.5 0,-242.5 0,-236.5 6,-230.5 12,-230.5 12,-230.5 83,-230.5 83,-230.5 89,-230.5 95,-236.5 95,-242.5 95,-242.5 95,-286.5 95,-286.5 95,-292.5 89,-298.5 83,-298.5\"/>\n<text text-anchor=\"middle\" x=\"47.5\" y=\"-283.3\" font-family=\"Helvetica,sans-Serif\" font-size=\"14.00\">gini = 0.0</text>\n<text text-anchor=\"middle\" x=\"47.5\" y=\"-268.3\" font-family=\"Helvetica,sans-Serif\" font-size=\"14.00\">samples = 1</text>\n<text text-anchor=\"middle\" x=\"47.5\" y=\"-253.3\" font-family=\"Helvetica,sans-Serif\" font-size=\"14.00\">value = [0, 1]</text>\n<text text-anchor=\"middle\" x=\"47.5\" y=\"-238.3\" font-family=\"Helvetica,sans-Serif\" font-size=\"14.00\">class = sim</text>\n</g>\n<!-- 9&#45;&gt;10 -->\n<g id=\"edge10\" class=\"edge\">\n<title>9&#45;&gt;10</title>\n<path fill=\"none\" stroke=\"black\" d=\"M121.3,-341.91C110.11,-330.32 97.91,-317.7 86.72,-306.11\"/>\n<polygon fill=\"black\" stroke=\"black\" points=\"89,-303.43 79.53,-298.67 83.96,-308.29 89,-303.43\"/>\n</g>\n<!-- 11 -->\n<g id=\"node12\" class=\"node\">\n<title>11</title>\n<path fill=\"#e58139\" stroke=\"black\" d=\"M196,-298.5C196,-298.5 125,-298.5 125,-298.5 119,-298.5 113,-292.5 113,-286.5 113,-286.5 113,-242.5 113,-242.5 113,-236.5 119,-230.5 125,-230.5 125,-230.5 196,-230.5 196,-230.5 202,-230.5 208,-236.5 208,-242.5 208,-242.5 208,-286.5 208,-286.5 208,-292.5 202,-298.5 196,-298.5\"/>\n<text text-anchor=\"middle\" x=\"160.5\" y=\"-283.3\" font-family=\"Helvetica,sans-Serif\" font-size=\"14.00\">gini = 0.0</text>\n<text text-anchor=\"middle\" x=\"160.5\" y=\"-268.3\" font-family=\"Helvetica,sans-Serif\" font-size=\"14.00\">samples = 2</text>\n<text text-anchor=\"middle\" x=\"160.5\" y=\"-253.3\" font-family=\"Helvetica,sans-Serif\" font-size=\"14.00\">value = [2, 0]</text>\n<text text-anchor=\"middle\" x=\"160.5\" y=\"-238.3\" font-family=\"Helvetica,sans-Serif\" font-size=\"14.00\">class = nao</text>\n</g>\n<!-- 9&#45;&gt;11 -->\n<g id=\"edge11\" class=\"edge\">\n<title>9&#45;&gt;11</title>\n<path fill=\"none\" stroke=\"black\" d=\"M160.5,-341.91C160.5,-331.2 160.5,-319.62 160.5,-308.78\"/>\n<polygon fill=\"black\" stroke=\"black\" points=\"164,-308.67 160.5,-298.67 157,-308.67 164,-308.67\"/>\n</g>\n<!-- 13 -->\n<g id=\"node14\" class=\"node\">\n<title>13</title>\n<path fill=\"#69b5eb\" stroke=\"black\" d=\"M352.5,-306C352.5,-306 238.5,-306 238.5,-306 232.5,-306 226.5,-300 226.5,-294 226.5,-294 226.5,-235 226.5,-235 226.5,-229 232.5,-223 238.5,-223 238.5,-223 352.5,-223 352.5,-223 358.5,-223 364.5,-229 364.5,-235 364.5,-235 364.5,-294 364.5,-294 364.5,-300 358.5,-306 352.5,-306\"/>\n<text text-anchor=\"middle\" x=\"295.5\" y=\"-290.8\" font-family=\"Helvetica,sans-Serif\" font-size=\"14.00\">preco &lt;= 40512.885</text>\n<text text-anchor=\"middle\" x=\"295.5\" y=\"-275.8\" font-family=\"Helvetica,sans-Serif\" font-size=\"14.00\">gini = 0.315</text>\n<text text-anchor=\"middle\" x=\"295.5\" y=\"-260.8\" font-family=\"Helvetica,sans-Serif\" font-size=\"14.00\">samples = 51</text>\n<text text-anchor=\"middle\" x=\"295.5\" y=\"-245.8\" font-family=\"Helvetica,sans-Serif\" font-size=\"14.00\">value = [10, 41]</text>\n<text text-anchor=\"middle\" x=\"295.5\" y=\"-230.8\" font-family=\"Helvetica,sans-Serif\" font-size=\"14.00\">class = sim</text>\n</g>\n<!-- 12&#45;&gt;13 -->\n<g id=\"edge13\" class=\"edge\">\n<title>12&#45;&gt;13</title>\n<path fill=\"none\" stroke=\"black\" d=\"M352.32,-341.91C345.64,-332.92 338.49,-323.32 331.6,-314.05\"/>\n<polygon fill=\"black\" stroke=\"black\" points=\"334.41,-311.96 325.63,-306.02 328.79,-316.13 334.41,-311.96\"/>\n</g>\n<!-- 18 -->\n<g id=\"node19\" class=\"node\">\n<title>18</title>\n<path fill=\"#9ccef2\" stroke=\"black\" d=\"M508.5,-306C508.5,-306 394.5,-306 394.5,-306 388.5,-306 382.5,-300 382.5,-294 382.5,-294 382.5,-235 382.5,-235 382.5,-229 388.5,-223 394.5,-223 394.5,-223 508.5,-223 508.5,-223 514.5,-223 520.5,-229 520.5,-235 520.5,-235 520.5,-294 520.5,-294 520.5,-300 514.5,-306 508.5,-306\"/>\n<text text-anchor=\"middle\" x=\"451.5\" y=\"-290.8\" font-family=\"Helvetica,sans-Serif\" font-size=\"14.00\">preco &lt;= 40723.646</text>\n<text text-anchor=\"middle\" x=\"451.5\" y=\"-275.8\" font-family=\"Helvetica,sans-Serif\" font-size=\"14.00\">gini = 0.444</text>\n<text text-anchor=\"middle\" x=\"451.5\" y=\"-260.8\" font-family=\"Helvetica,sans-Serif\" font-size=\"14.00\">samples = 36</text>\n<text text-anchor=\"middle\" x=\"451.5\" y=\"-245.8\" font-family=\"Helvetica,sans-Serif\" font-size=\"14.00\">value = [12, 24]</text>\n<text text-anchor=\"middle\" x=\"451.5\" y=\"-230.8\" font-family=\"Helvetica,sans-Serif\" font-size=\"14.00\">class = sim</text>\n</g>\n<!-- 12&#45;&gt;18 -->\n<g id=\"edge18\" class=\"edge\">\n<title>12&#45;&gt;18</title>\n<path fill=\"none\" stroke=\"black\" d=\"M406.44,-341.91C411.58,-333.2 417.06,-323.9 422.37,-314.89\"/>\n<polygon fill=\"black\" stroke=\"black\" points=\"425.54,-316.41 427.6,-306.02 419.51,-312.86 425.54,-316.41\"/>\n</g>\n<!-- 14 -->\n<g id=\"node15\" class=\"node\">\n<title>14</title>\n<path fill=\"#75bbed\" stroke=\"black\" d=\"M217.5,-187C217.5,-187 103.5,-187 103.5,-187 97.5,-187 91.5,-181 91.5,-175 91.5,-175 91.5,-116 91.5,-116 91.5,-110 97.5,-104 103.5,-104 103.5,-104 217.5,-104 217.5,-104 223.5,-104 229.5,-110 229.5,-116 229.5,-116 229.5,-175 229.5,-175 229.5,-181 223.5,-187 217.5,-187\"/>\n<text text-anchor=\"middle\" x=\"160.5\" y=\"-171.8\" font-family=\"Helvetica,sans-Serif\" font-size=\"14.00\">preco &lt;= 40507.455</text>\n<text text-anchor=\"middle\" x=\"160.5\" y=\"-156.8\" font-family=\"Helvetica,sans-Serif\" font-size=\"14.00\">gini = 0.357</text>\n<text text-anchor=\"middle\" x=\"160.5\" y=\"-141.8\" font-family=\"Helvetica,sans-Serif\" font-size=\"14.00\">samples = 43</text>\n<text text-anchor=\"middle\" x=\"160.5\" y=\"-126.8\" font-family=\"Helvetica,sans-Serif\" font-size=\"14.00\">value = [10, 33]</text>\n<text text-anchor=\"middle\" x=\"160.5\" y=\"-111.8\" font-family=\"Helvetica,sans-Serif\" font-size=\"14.00\">class = sim</text>\n</g>\n<!-- 13&#45;&gt;14 -->\n<g id=\"edge14\" class=\"edge\">\n<title>13&#45;&gt;14</title>\n<path fill=\"none\" stroke=\"black\" d=\"M248.66,-222.91C237.77,-213.47 226.09,-203.34 214.9,-193.65\"/>\n<polygon fill=\"black\" stroke=\"black\" points=\"217.1,-190.93 207.25,-187.02 212.52,-196.22 217.1,-190.93\"/>\n</g>\n<!-- 17 -->\n<g id=\"node18\" class=\"node\">\n<title>17</title>\n<path fill=\"#399de5\" stroke=\"black\" d=\"M331,-179.5C331,-179.5 260,-179.5 260,-179.5 254,-179.5 248,-173.5 248,-167.5 248,-167.5 248,-123.5 248,-123.5 248,-117.5 254,-111.5 260,-111.5 260,-111.5 331,-111.5 331,-111.5 337,-111.5 343,-117.5 343,-123.5 343,-123.5 343,-167.5 343,-167.5 343,-173.5 337,-179.5 331,-179.5\"/>\n<text text-anchor=\"middle\" x=\"295.5\" y=\"-164.3\" font-family=\"Helvetica,sans-Serif\" font-size=\"14.00\">gini = 0.0</text>\n<text text-anchor=\"middle\" x=\"295.5\" y=\"-149.3\" font-family=\"Helvetica,sans-Serif\" font-size=\"14.00\">samples = 8</text>\n<text text-anchor=\"middle\" x=\"295.5\" y=\"-134.3\" font-family=\"Helvetica,sans-Serif\" font-size=\"14.00\">value = [0, 8]</text>\n<text text-anchor=\"middle\" x=\"295.5\" y=\"-119.3\" font-family=\"Helvetica,sans-Serif\" font-size=\"14.00\">class = sim</text>\n</g>\n<!-- 13&#45;&gt;17 -->\n<g id=\"edge17\" class=\"edge\">\n<title>13&#45;&gt;17</title>\n<path fill=\"none\" stroke=\"black\" d=\"M295.5,-222.91C295.5,-212.2 295.5,-200.62 295.5,-189.78\"/>\n<polygon fill=\"black\" stroke=\"black\" points=\"299,-189.67 295.5,-179.67 292,-189.67 299,-189.67\"/>\n</g>\n<!-- 15 -->\n<g id=\"node16\" class=\"node\">\n<title>15</title>\n<path fill=\"#6fb8ec\" stroke=\"black\" d=\"M128.5,-68C128.5,-68 50.5,-68 50.5,-68 44.5,-68 38.5,-62 38.5,-56 38.5,-56 38.5,-12 38.5,-12 38.5,-6 44.5,0 50.5,0 50.5,0 128.5,0 128.5,0 134.5,0 140.5,-6 140.5,-12 140.5,-12 140.5,-56 140.5,-56 140.5,-62 134.5,-68 128.5,-68\"/>\n<text text-anchor=\"middle\" x=\"89.5\" y=\"-52.8\" font-family=\"Helvetica,sans-Serif\" font-size=\"14.00\">gini = 0.337</text>\n<text text-anchor=\"middle\" x=\"89.5\" y=\"-37.8\" font-family=\"Helvetica,sans-Serif\" font-size=\"14.00\">samples = 42</text>\n<text text-anchor=\"middle\" x=\"89.5\" y=\"-22.8\" font-family=\"Helvetica,sans-Serif\" font-size=\"14.00\">value = [9, 33]</text>\n<text text-anchor=\"middle\" x=\"89.5\" y=\"-7.8\" font-family=\"Helvetica,sans-Serif\" font-size=\"14.00\">class = sim</text>\n</g>\n<!-- 14&#45;&gt;15 -->\n<g id=\"edge15\" class=\"edge\">\n<title>14&#45;&gt;15</title>\n<path fill=\"none\" stroke=\"black\" d=\"M134.06,-103.73C128.38,-94.97 122.38,-85.7 116.67,-76.91\"/>\n<polygon fill=\"black\" stroke=\"black\" points=\"119.47,-74.79 111.09,-68.3 113.6,-78.59 119.47,-74.79\"/>\n</g>\n<!-- 16 -->\n<g id=\"node17\" class=\"node\">\n<title>16</title>\n<path fill=\"#e58139\" stroke=\"black\" d=\"M242,-68C242,-68 171,-68 171,-68 165,-68 159,-62 159,-56 159,-56 159,-12 159,-12 159,-6 165,0 171,0 171,0 242,0 242,0 248,0 254,-6 254,-12 254,-12 254,-56 254,-56 254,-62 248,-68 242,-68\"/>\n<text text-anchor=\"middle\" x=\"206.5\" y=\"-52.8\" font-family=\"Helvetica,sans-Serif\" font-size=\"14.00\">gini = 0.0</text>\n<text text-anchor=\"middle\" x=\"206.5\" y=\"-37.8\" font-family=\"Helvetica,sans-Serif\" font-size=\"14.00\">samples = 1</text>\n<text text-anchor=\"middle\" x=\"206.5\" y=\"-22.8\" font-family=\"Helvetica,sans-Serif\" font-size=\"14.00\">value = [1, 0]</text>\n<text text-anchor=\"middle\" x=\"206.5\" y=\"-7.8\" font-family=\"Helvetica,sans-Serif\" font-size=\"14.00\">class = nao</text>\n</g>\n<!-- 14&#45;&gt;16 -->\n<g id=\"edge16\" class=\"edge\">\n<title>14&#45;&gt;16</title>\n<path fill=\"none\" stroke=\"black\" d=\"M177.63,-103.73C181.19,-95.24 184.96,-86.28 188.55,-77.73\"/>\n<polygon fill=\"black\" stroke=\"black\" points=\"191.86,-78.87 192.51,-68.3 185.41,-76.16 191.86,-78.87\"/>\n</g>\n<!-- 19 -->\n<g id=\"node20\" class=\"node\">\n<title>19</title>\n<path fill=\"#f2c09c\" stroke=\"black\" d=\"M529.5,-187C529.5,-187 373.5,-187 373.5,-187 367.5,-187 361.5,-181 361.5,-175 361.5,-175 361.5,-116 361.5,-116 361.5,-110 367.5,-104 373.5,-104 373.5,-104 529.5,-104 529.5,-104 535.5,-104 541.5,-110 541.5,-116 541.5,-116 541.5,-175 541.5,-175 541.5,-181 535.5,-187 529.5,-187\"/>\n<text text-anchor=\"middle\" x=\"451.5\" y=\"-171.8\" font-family=\"Helvetica,sans-Serif\" font-size=\"14.00\">km_por_ano &lt;= 22786.645</text>\n<text text-anchor=\"middle\" x=\"451.5\" y=\"-156.8\" font-family=\"Helvetica,sans-Serif\" font-size=\"14.00\">gini = 0.444</text>\n<text text-anchor=\"middle\" x=\"451.5\" y=\"-141.8\" font-family=\"Helvetica,sans-Serif\" font-size=\"14.00\">samples = 9</text>\n<text text-anchor=\"middle\" x=\"451.5\" y=\"-126.8\" font-family=\"Helvetica,sans-Serif\" font-size=\"14.00\">value = [6, 3]</text>\n<text text-anchor=\"middle\" x=\"451.5\" y=\"-111.8\" font-family=\"Helvetica,sans-Serif\" font-size=\"14.00\">class = nao</text>\n</g>\n<!-- 18&#45;&gt;19 -->\n<g id=\"edge19\" class=\"edge\">\n<title>18&#45;&gt;19</title>\n<path fill=\"none\" stroke=\"black\" d=\"M451.5,-222.91C451.5,-214.65 451.5,-205.86 451.5,-197.3\"/>\n<polygon fill=\"black\" stroke=\"black\" points=\"455,-197.02 451.5,-187.02 448,-197.02 455,-197.02\"/>\n</g>\n<!-- 22 -->\n<g id=\"node23\" class=\"node\">\n<title>22</title>\n<path fill=\"#72b9ec\" stroke=\"black\" d=\"M685.5,-187C685.5,-187 571.5,-187 571.5,-187 565.5,-187 559.5,-181 559.5,-175 559.5,-175 559.5,-116 559.5,-116 559.5,-110 565.5,-104 571.5,-104 571.5,-104 685.5,-104 685.5,-104 691.5,-104 697.5,-110 697.5,-116 697.5,-116 697.5,-175 697.5,-175 697.5,-181 691.5,-187 685.5,-187\"/>\n<text text-anchor=\"middle\" x=\"628.5\" y=\"-171.8\" font-family=\"Helvetica,sans-Serif\" font-size=\"14.00\">preco &lt;= 40870.865</text>\n<text text-anchor=\"middle\" x=\"628.5\" y=\"-156.8\" font-family=\"Helvetica,sans-Serif\" font-size=\"14.00\">gini = 0.346</text>\n<text text-anchor=\"middle\" x=\"628.5\" y=\"-141.8\" font-family=\"Helvetica,sans-Serif\" font-size=\"14.00\">samples = 27</text>\n<text text-anchor=\"middle\" x=\"628.5\" y=\"-126.8\" font-family=\"Helvetica,sans-Serif\" font-size=\"14.00\">value = [6, 21]</text>\n<text text-anchor=\"middle\" x=\"628.5\" y=\"-111.8\" font-family=\"Helvetica,sans-Serif\" font-size=\"14.00\">class = sim</text>\n</g>\n<!-- 18&#45;&gt;22 -->\n<g id=\"edge22\" class=\"edge\">\n<title>18&#45;&gt;22</title>\n<path fill=\"none\" stroke=\"black\" d=\"M512.91,-222.91C527.6,-213.2 543.39,-202.76 558.44,-192.81\"/>\n<polygon fill=\"black\" stroke=\"black\" points=\"560.79,-195.45 567.2,-187.02 556.93,-189.62 560.79,-195.45\"/>\n</g>\n<!-- 20 -->\n<g id=\"node21\" class=\"node\">\n<title>20</title>\n<path fill=\"#e58139\" stroke=\"black\" d=\"M400,-68C400,-68 329,-68 329,-68 323,-68 317,-62 317,-56 317,-56 317,-12 317,-12 317,-6 323,0 329,0 329,0 400,0 400,0 406,0 412,-6 412,-12 412,-12 412,-56 412,-56 412,-62 406,-68 400,-68\"/>\n<text text-anchor=\"middle\" x=\"364.5\" y=\"-52.8\" font-family=\"Helvetica,sans-Serif\" font-size=\"14.00\">gini = 0.0</text>\n<text text-anchor=\"middle\" x=\"364.5\" y=\"-37.8\" font-family=\"Helvetica,sans-Serif\" font-size=\"14.00\">samples = 4</text>\n<text text-anchor=\"middle\" x=\"364.5\" y=\"-22.8\" font-family=\"Helvetica,sans-Serif\" font-size=\"14.00\">value = [4, 0]</text>\n<text text-anchor=\"middle\" x=\"364.5\" y=\"-7.8\" font-family=\"Helvetica,sans-Serif\" font-size=\"14.00\">class = nao</text>\n</g>\n<!-- 19&#45;&gt;20 -->\n<g id=\"edge20\" class=\"edge\">\n<title>19&#45;&gt;20</title>\n<path fill=\"none\" stroke=\"black\" d=\"M419.1,-103.73C412,-94.79 404.48,-85.32 397.36,-76.36\"/>\n<polygon fill=\"black\" stroke=\"black\" points=\"399.92,-73.95 390.96,-68.3 394.44,-78.31 399.92,-73.95\"/>\n</g>\n<!-- 21 -->\n<g id=\"node22\" class=\"node\">\n<title>21</title>\n<path fill=\"#bddef6\" stroke=\"black\" d=\"M513,-68C513,-68 442,-68 442,-68 436,-68 430,-62 430,-56 430,-56 430,-12 430,-12 430,-6 436,0 442,0 442,0 513,0 513,0 519,0 525,-6 525,-12 525,-12 525,-56 525,-56 525,-62 519,-68 513,-68\"/>\n<text text-anchor=\"middle\" x=\"477.5\" y=\"-52.8\" font-family=\"Helvetica,sans-Serif\" font-size=\"14.00\">gini = 0.48</text>\n<text text-anchor=\"middle\" x=\"477.5\" y=\"-37.8\" font-family=\"Helvetica,sans-Serif\" font-size=\"14.00\">samples = 5</text>\n<text text-anchor=\"middle\" x=\"477.5\" y=\"-22.8\" font-family=\"Helvetica,sans-Serif\" font-size=\"14.00\">value = [2, 3]</text>\n<text text-anchor=\"middle\" x=\"477.5\" y=\"-7.8\" font-family=\"Helvetica,sans-Serif\" font-size=\"14.00\">class = sim</text>\n</g>\n<!-- 19&#45;&gt;21 -->\n<g id=\"edge21\" class=\"edge\">\n<title>19&#45;&gt;21</title>\n<path fill=\"none\" stroke=\"black\" d=\"M461.18,-103.73C463.15,-95.43 465.23,-86.67 467.22,-78.28\"/>\n<polygon fill=\"black\" stroke=\"black\" points=\"470.69,-78.84 469.59,-68.3 463.88,-77.22 470.69,-78.84\"/>\n</g>\n<!-- 23 -->\n<g id=\"node24\" class=\"node\">\n<title>23</title>\n<path fill=\"#4da7e8\" stroke=\"black\" d=\"M650.5,-68C650.5,-68 572.5,-68 572.5,-68 566.5,-68 560.5,-62 560.5,-56 560.5,-56 560.5,-12 560.5,-12 560.5,-6 566.5,0 572.5,0 572.5,0 650.5,0 650.5,0 656.5,0 662.5,-6 662.5,-12 662.5,-12 662.5,-56 662.5,-56 662.5,-62 656.5,-68 650.5,-68\"/>\n<text text-anchor=\"middle\" x=\"611.5\" y=\"-52.8\" font-family=\"Helvetica,sans-Serif\" font-size=\"14.00\">gini = 0.165</text>\n<text text-anchor=\"middle\" x=\"611.5\" y=\"-37.8\" font-family=\"Helvetica,sans-Serif\" font-size=\"14.00\">samples = 11</text>\n<text text-anchor=\"middle\" x=\"611.5\" y=\"-22.8\" font-family=\"Helvetica,sans-Serif\" font-size=\"14.00\">value = [1, 10]</text>\n<text text-anchor=\"middle\" x=\"611.5\" y=\"-7.8\" font-family=\"Helvetica,sans-Serif\" font-size=\"14.00\">class = sim</text>\n</g>\n<!-- 22&#45;&gt;23 -->\n<g id=\"edge23\" class=\"edge\">\n<title>22&#45;&gt;23</title>\n<path fill=\"none\" stroke=\"black\" d=\"M622.17,-103.73C620.88,-95.43 619.52,-86.67 618.22,-78.28\"/>\n<polygon fill=\"black\" stroke=\"black\" points=\"621.66,-77.64 616.67,-68.3 614.75,-78.72 621.66,-77.64\"/>\n</g>\n<!-- 24 -->\n<g id=\"node25\" class=\"node\">\n<title>24</title>\n<path fill=\"#93caf1\" stroke=\"black\" d=\"M770.5,-68C770.5,-68 692.5,-68 692.5,-68 686.5,-68 680.5,-62 680.5,-56 680.5,-56 680.5,-12 680.5,-12 680.5,-6 686.5,0 692.5,0 692.5,0 770.5,0 770.5,0 776.5,0 782.5,-6 782.5,-12 782.5,-12 782.5,-56 782.5,-56 782.5,-62 776.5,-68 770.5,-68\"/>\n<text text-anchor=\"middle\" x=\"731.5\" y=\"-52.8\" font-family=\"Helvetica,sans-Serif\" font-size=\"14.00\">gini = 0.43</text>\n<text text-anchor=\"middle\" x=\"731.5\" y=\"-37.8\" font-family=\"Helvetica,sans-Serif\" font-size=\"14.00\">samples = 16</text>\n<text text-anchor=\"middle\" x=\"731.5\" y=\"-22.8\" font-family=\"Helvetica,sans-Serif\" font-size=\"14.00\">value = [5, 11]</text>\n<text text-anchor=\"middle\" x=\"731.5\" y=\"-7.8\" font-family=\"Helvetica,sans-Serif\" font-size=\"14.00\">class = sim</text>\n</g>\n<!-- 22&#45;&gt;24 -->\n<g id=\"edge24\" class=\"edge\">\n<title>22&#45;&gt;24</title>\n<path fill=\"none\" stroke=\"black\" d=\"M666.85,-103.73C675.43,-94.61 684.53,-84.93 693.11,-75.81\"/>\n<polygon fill=\"black\" stroke=\"black\" points=\"695.87,-77.98 700.18,-68.3 690.78,-73.19 695.87,-77.98\"/>\n</g>\n<!-- 26 -->\n<g id=\"node27\" class=\"node\">\n<title>26</title>\n<path fill=\"#72b9ec\" stroke=\"black\" d=\"M826,-544C826,-544 719,-544 719,-544 713,-544 707,-538 707,-532 707,-532 707,-473 707,-473 707,-467 713,-461 719,-461 719,-461 826,-461 826,-461 832,-461 838,-467 838,-473 838,-473 838,-532 838,-532 838,-538 832,-544 826,-544\"/>\n<text text-anchor=\"middle\" x=\"772.5\" y=\"-528.8\" font-family=\"Helvetica,sans-Serif\" font-size=\"14.00\">preco &lt;= 40197.01</text>\n<text text-anchor=\"middle\" x=\"772.5\" y=\"-513.8\" font-family=\"Helvetica,sans-Serif\" font-size=\"14.00\">gini = 0.346</text>\n<text text-anchor=\"middle\" x=\"772.5\" y=\"-498.8\" font-family=\"Helvetica,sans-Serif\" font-size=\"14.00\">samples = 9</text>\n<text text-anchor=\"middle\" x=\"772.5\" y=\"-483.8\" font-family=\"Helvetica,sans-Serif\" font-size=\"14.00\">value = [2, 7]</text>\n<text text-anchor=\"middle\" x=\"772.5\" y=\"-468.8\" font-family=\"Helvetica,sans-Serif\" font-size=\"14.00\">class = sim</text>\n</g>\n<!-- 25&#45;&gt;26 -->\n<g id=\"edge26\" class=\"edge\">\n<title>25&#45;&gt;26</title>\n<path fill=\"none\" stroke=\"black\" d=\"M822.13,-579.91C816.41,-571.1 810.31,-561.7 804.4,-552.61\"/>\n<polygon fill=\"black\" stroke=\"black\" points=\"807.2,-550.5 798.82,-544.02 801.33,-554.31 807.2,-550.5\"/>\n</g>\n<!-- 33 -->\n<g id=\"node34\" class=\"node\">\n<title>33</title>\n<path fill=\"#eeab7b\" stroke=\"black\" d=\"M982.5,-544C982.5,-544 868.5,-544 868.5,-544 862.5,-544 856.5,-538 856.5,-532 856.5,-532 856.5,-473 856.5,-473 856.5,-467 862.5,-461 868.5,-461 868.5,-461 982.5,-461 982.5,-461 988.5,-461 994.5,-467 994.5,-473 994.5,-473 994.5,-532 994.5,-532 994.5,-538 988.5,-544 982.5,-544\"/>\n<text text-anchor=\"middle\" x=\"925.5\" y=\"-528.8\" font-family=\"Helvetica,sans-Serif\" font-size=\"14.00\">preco &lt;= 40430.869</text>\n<text text-anchor=\"middle\" x=\"925.5\" y=\"-513.8\" font-family=\"Helvetica,sans-Serif\" font-size=\"14.00\">gini = 0.375</text>\n<text text-anchor=\"middle\" x=\"925.5\" y=\"-498.8\" font-family=\"Helvetica,sans-Serif\" font-size=\"14.00\">samples = 8</text>\n<text text-anchor=\"middle\" x=\"925.5\" y=\"-483.8\" font-family=\"Helvetica,sans-Serif\" font-size=\"14.00\">value = [6, 2]</text>\n<text text-anchor=\"middle\" x=\"925.5\" y=\"-468.8\" font-family=\"Helvetica,sans-Serif\" font-size=\"14.00\">class = nao</text>\n</g>\n<!-- 25&#45;&gt;33 -->\n<g id=\"edge33\" class=\"edge\">\n<title>25&#45;&gt;33</title>\n<path fill=\"none\" stroke=\"black\" d=\"M875.21,-579.91C881.01,-571.1 887.2,-561.7 893.18,-552.61\"/>\n<polygon fill=\"black\" stroke=\"black\" points=\"896.26,-554.3 898.83,-544.02 890.41,-550.45 896.26,-554.3\"/>\n</g>\n<!-- 27 -->\n<g id=\"node28\" class=\"node\">\n<title>27</title>\n<path fill=\"#e58139\" stroke=\"black\" d=\"M673,-417.5C673,-417.5 602,-417.5 602,-417.5 596,-417.5 590,-411.5 590,-405.5 590,-405.5 590,-361.5 590,-361.5 590,-355.5 596,-349.5 602,-349.5 602,-349.5 673,-349.5 673,-349.5 679,-349.5 685,-355.5 685,-361.5 685,-361.5 685,-405.5 685,-405.5 685,-411.5 679,-417.5 673,-417.5\"/>\n<text text-anchor=\"middle\" x=\"637.5\" y=\"-402.3\" font-family=\"Helvetica,sans-Serif\" font-size=\"14.00\">gini = 0.0</text>\n<text text-anchor=\"middle\" x=\"637.5\" y=\"-387.3\" font-family=\"Helvetica,sans-Serif\" font-size=\"14.00\">samples = 1</text>\n<text text-anchor=\"middle\" x=\"637.5\" y=\"-372.3\" font-family=\"Helvetica,sans-Serif\" font-size=\"14.00\">value = [1, 0]</text>\n<text text-anchor=\"middle\" x=\"637.5\" y=\"-357.3\" font-family=\"Helvetica,sans-Serif\" font-size=\"14.00\">class = nao</text>\n</g>\n<!-- 26&#45;&gt;27 -->\n<g id=\"edge27\" class=\"edge\">\n<title>26&#45;&gt;27</title>\n<path fill=\"none\" stroke=\"black\" d=\"M725.66,-460.91C712.04,-449.1 697.17,-436.22 683.6,-424.45\"/>\n<polygon fill=\"black\" stroke=\"black\" points=\"685.62,-421.57 675.77,-417.67 681.03,-426.86 685.62,-421.57\"/>\n</g>\n<!-- 28 -->\n<g id=\"node29\" class=\"node\">\n<title>28</title>\n<path fill=\"#55abe9\" stroke=\"black\" d=\"M829.5,-425C829.5,-425 715.5,-425 715.5,-425 709.5,-425 703.5,-419 703.5,-413 703.5,-413 703.5,-354 703.5,-354 703.5,-348 709.5,-342 715.5,-342 715.5,-342 829.5,-342 829.5,-342 835.5,-342 841.5,-348 841.5,-354 841.5,-354 841.5,-413 841.5,-413 841.5,-419 835.5,-425 829.5,-425\"/>\n<text text-anchor=\"middle\" x=\"772.5\" y=\"-409.8\" font-family=\"Helvetica,sans-Serif\" font-size=\"14.00\">preco &lt;= 40893.549</text>\n<text text-anchor=\"middle\" x=\"772.5\" y=\"-394.8\" font-family=\"Helvetica,sans-Serif\" font-size=\"14.00\">gini = 0.219</text>\n<text text-anchor=\"middle\" x=\"772.5\" y=\"-379.8\" font-family=\"Helvetica,sans-Serif\" font-size=\"14.00\">samples = 8</text>\n<text text-anchor=\"middle\" x=\"772.5\" y=\"-364.8\" font-family=\"Helvetica,sans-Serif\" font-size=\"14.00\">value = [1, 7]</text>\n<text text-anchor=\"middle\" x=\"772.5\" y=\"-349.8\" font-family=\"Helvetica,sans-Serif\" font-size=\"14.00\">class = sim</text>\n</g>\n<!-- 26&#45;&gt;28 -->\n<g id=\"edge28\" class=\"edge\">\n<title>26&#45;&gt;28</title>\n<path fill=\"none\" stroke=\"black\" d=\"M772.5,-460.91C772.5,-452.65 772.5,-443.86 772.5,-435.3\"/>\n<polygon fill=\"black\" stroke=\"black\" points=\"776,-435.02 772.5,-425.02 769,-435.02 776,-435.02\"/>\n</g>\n<!-- 29 -->\n<g id=\"node30\" class=\"node\">\n<title>29</title>\n<path fill=\"#399de5\" stroke=\"black\" d=\"M678,-298.5C678,-298.5 607,-298.5 607,-298.5 601,-298.5 595,-292.5 595,-286.5 595,-286.5 595,-242.5 595,-242.5 595,-236.5 601,-230.5 607,-230.5 607,-230.5 678,-230.5 678,-230.5 684,-230.5 690,-236.5 690,-242.5 690,-242.5 690,-286.5 690,-286.5 690,-292.5 684,-298.5 678,-298.5\"/>\n<text text-anchor=\"middle\" x=\"642.5\" y=\"-283.3\" font-family=\"Helvetica,sans-Serif\" font-size=\"14.00\">gini = 0.0</text>\n<text text-anchor=\"middle\" x=\"642.5\" y=\"-268.3\" font-family=\"Helvetica,sans-Serif\" font-size=\"14.00\">samples = 6</text>\n<text text-anchor=\"middle\" x=\"642.5\" y=\"-253.3\" font-family=\"Helvetica,sans-Serif\" font-size=\"14.00\">value = [0, 6]</text>\n<text text-anchor=\"middle\" x=\"642.5\" y=\"-238.3\" font-family=\"Helvetica,sans-Serif\" font-size=\"14.00\">class = sim</text>\n</g>\n<!-- 28&#45;&gt;29 -->\n<g id=\"edge29\" class=\"edge\">\n<title>28&#45;&gt;29</title>\n<path fill=\"none\" stroke=\"black\" d=\"M727.4,-341.91C714.28,-330.1 699.96,-317.22 686.89,-305.45\"/>\n<polygon fill=\"black\" stroke=\"black\" points=\"689.13,-302.76 679.35,-298.67 684.44,-307.96 689.13,-302.76\"/>\n</g>\n<!-- 30 -->\n<g id=\"node31\" class=\"node\">\n<title>30</title>\n<path fill=\"#ffffff\" stroke=\"black\" d=\"M834.5,-306C834.5,-306 720.5,-306 720.5,-306 714.5,-306 708.5,-300 708.5,-294 708.5,-294 708.5,-235 708.5,-235 708.5,-229 714.5,-223 720.5,-223 720.5,-223 834.5,-223 834.5,-223 840.5,-223 846.5,-229 846.5,-235 846.5,-235 846.5,-294 846.5,-294 846.5,-300 840.5,-306 834.5,-306\"/>\n<text text-anchor=\"middle\" x=\"777.5\" y=\"-290.8\" font-family=\"Helvetica,sans-Serif\" font-size=\"14.00\">preco &lt;= 40930.943</text>\n<text text-anchor=\"middle\" x=\"777.5\" y=\"-275.8\" font-family=\"Helvetica,sans-Serif\" font-size=\"14.00\">gini = 0.5</text>\n<text text-anchor=\"middle\" x=\"777.5\" y=\"-260.8\" font-family=\"Helvetica,sans-Serif\" font-size=\"14.00\">samples = 2</text>\n<text text-anchor=\"middle\" x=\"777.5\" y=\"-245.8\" font-family=\"Helvetica,sans-Serif\" font-size=\"14.00\">value = [1, 1]</text>\n<text text-anchor=\"middle\" x=\"777.5\" y=\"-230.8\" font-family=\"Helvetica,sans-Serif\" font-size=\"14.00\">class = nao</text>\n</g>\n<!-- 28&#45;&gt;30 -->\n<g id=\"edge30\" class=\"edge\">\n<title>28&#45;&gt;30</title>\n<path fill=\"none\" stroke=\"black\" d=\"M774.23,-341.91C774.59,-333.56 774.97,-324.67 775.34,-316.02\"/>\n<polygon fill=\"black\" stroke=\"black\" points=\"778.84,-316.16 775.77,-306.02 771.84,-315.86 778.84,-316.16\"/>\n</g>\n<!-- 31 -->\n<g id=\"node32\" class=\"node\">\n<title>31</title>\n<path fill=\"#e58139\" stroke=\"black\" d=\"M799,-179.5C799,-179.5 728,-179.5 728,-179.5 722,-179.5 716,-173.5 716,-167.5 716,-167.5 716,-123.5 716,-123.5 716,-117.5 722,-111.5 728,-111.5 728,-111.5 799,-111.5 799,-111.5 805,-111.5 811,-117.5 811,-123.5 811,-123.5 811,-167.5 811,-167.5 811,-173.5 805,-179.5 799,-179.5\"/>\n<text text-anchor=\"middle\" x=\"763.5\" y=\"-164.3\" font-family=\"Helvetica,sans-Serif\" font-size=\"14.00\">gini = 0.0</text>\n<text text-anchor=\"middle\" x=\"763.5\" y=\"-149.3\" font-family=\"Helvetica,sans-Serif\" font-size=\"14.00\">samples = 1</text>\n<text text-anchor=\"middle\" x=\"763.5\" y=\"-134.3\" font-family=\"Helvetica,sans-Serif\" font-size=\"14.00\">value = [1, 0]</text>\n<text text-anchor=\"middle\" x=\"763.5\" y=\"-119.3\" font-family=\"Helvetica,sans-Serif\" font-size=\"14.00\">class = nao</text>\n</g>\n<!-- 30&#45;&gt;31 -->\n<g id=\"edge31\" class=\"edge\">\n<title>30&#45;&gt;31</title>\n<path fill=\"none\" stroke=\"black\" d=\"M772.64,-222.91C771.36,-212.2 769.98,-200.62 768.68,-189.78\"/>\n<polygon fill=\"black\" stroke=\"black\" points=\"772.13,-189.18 767.47,-179.67 765.18,-190.01 772.13,-189.18\"/>\n</g>\n<!-- 32 -->\n<g id=\"node33\" class=\"node\">\n<title>32</title>\n<path fill=\"#399de5\" stroke=\"black\" d=\"M912,-179.5C912,-179.5 841,-179.5 841,-179.5 835,-179.5 829,-173.5 829,-167.5 829,-167.5 829,-123.5 829,-123.5 829,-117.5 835,-111.5 841,-111.5 841,-111.5 912,-111.5 912,-111.5 918,-111.5 924,-117.5 924,-123.5 924,-123.5 924,-167.5 924,-167.5 924,-173.5 918,-179.5 912,-179.5\"/>\n<text text-anchor=\"middle\" x=\"876.5\" y=\"-164.3\" font-family=\"Helvetica,sans-Serif\" font-size=\"14.00\">gini = 0.0</text>\n<text text-anchor=\"middle\" x=\"876.5\" y=\"-149.3\" font-family=\"Helvetica,sans-Serif\" font-size=\"14.00\">samples = 1</text>\n<text text-anchor=\"middle\" x=\"876.5\" y=\"-134.3\" font-family=\"Helvetica,sans-Serif\" font-size=\"14.00\">value = [0, 1]</text>\n<text text-anchor=\"middle\" x=\"876.5\" y=\"-119.3\" font-family=\"Helvetica,sans-Serif\" font-size=\"14.00\">class = sim</text>\n</g>\n<!-- 30&#45;&gt;32 -->\n<g id=\"edge32\" class=\"edge\">\n<title>30&#45;&gt;32</title>\n<path fill=\"none\" stroke=\"black\" d=\"M811.85,-222.91C821.56,-211.43 832.13,-198.94 841.86,-187.44\"/>\n<polygon fill=\"black\" stroke=\"black\" points=\"844.65,-189.56 848.44,-179.67 839.3,-185.04 844.65,-189.56\"/>\n</g>\n<!-- 34 -->\n<g id=\"node35\" class=\"node\">\n<title>34</title>\n<path fill=\"#9ccef2\" stroke=\"black\" d=\"M979,-425C979,-425 872,-425 872,-425 866,-425 860,-419 860,-413 860,-413 860,-354 860,-354 860,-348 866,-342 872,-342 872,-342 979,-342 979,-342 985,-342 991,-348 991,-354 991,-354 991,-413 991,-413 991,-419 985,-425 979,-425\"/>\n<text text-anchor=\"middle\" x=\"925.5\" y=\"-409.8\" font-family=\"Helvetica,sans-Serif\" font-size=\"14.00\">preco &lt;= 40208.02</text>\n<text text-anchor=\"middle\" x=\"925.5\" y=\"-394.8\" font-family=\"Helvetica,sans-Serif\" font-size=\"14.00\">gini = 0.444</text>\n<text text-anchor=\"middle\" x=\"925.5\" y=\"-379.8\" font-family=\"Helvetica,sans-Serif\" font-size=\"14.00\">samples = 3</text>\n<text text-anchor=\"middle\" x=\"925.5\" y=\"-364.8\" font-family=\"Helvetica,sans-Serif\" font-size=\"14.00\">value = [1, 2]</text>\n<text text-anchor=\"middle\" x=\"925.5\" y=\"-349.8\" font-family=\"Helvetica,sans-Serif\" font-size=\"14.00\">class = sim</text>\n</g>\n<!-- 33&#45;&gt;34 -->\n<g id=\"edge34\" class=\"edge\">\n<title>33&#45;&gt;34</title>\n<path fill=\"none\" stroke=\"black\" d=\"M925.5,-460.91C925.5,-452.65 925.5,-443.86 925.5,-435.3\"/>\n<polygon fill=\"black\" stroke=\"black\" points=\"929,-435.02 925.5,-425.02 922,-435.02 929,-435.02\"/>\n</g>\n<!-- 37 -->\n<g id=\"node38\" class=\"node\">\n<title>37</title>\n<path fill=\"#e58139\" stroke=\"black\" d=\"M1092,-417.5C1092,-417.5 1021,-417.5 1021,-417.5 1015,-417.5 1009,-411.5 1009,-405.5 1009,-405.5 1009,-361.5 1009,-361.5 1009,-355.5 1015,-349.5 1021,-349.5 1021,-349.5 1092,-349.5 1092,-349.5 1098,-349.5 1104,-355.5 1104,-361.5 1104,-361.5 1104,-405.5 1104,-405.5 1104,-411.5 1098,-417.5 1092,-417.5\"/>\n<text text-anchor=\"middle\" x=\"1056.5\" y=\"-402.3\" font-family=\"Helvetica,sans-Serif\" font-size=\"14.00\">gini = 0.0</text>\n<text text-anchor=\"middle\" x=\"1056.5\" y=\"-387.3\" font-family=\"Helvetica,sans-Serif\" font-size=\"14.00\">samples = 5</text>\n<text text-anchor=\"middle\" x=\"1056.5\" y=\"-372.3\" font-family=\"Helvetica,sans-Serif\" font-size=\"14.00\">value = [5, 0]</text>\n<text text-anchor=\"middle\" x=\"1056.5\" y=\"-357.3\" font-family=\"Helvetica,sans-Serif\" font-size=\"14.00\">class = nao</text>\n</g>\n<!-- 33&#45;&gt;37 -->\n<g id=\"edge37\" class=\"edge\">\n<title>33&#45;&gt;37</title>\n<path fill=\"none\" stroke=\"black\" d=\"M970.95,-460.91C984.17,-449.1 998.6,-436.22 1011.77,-424.45\"/>\n<polygon fill=\"black\" stroke=\"black\" points=\"1014.24,-426.94 1019.36,-417.67 1009.57,-421.72 1014.24,-426.94\"/>\n</g>\n<!-- 35 -->\n<g id=\"node36\" class=\"node\">\n<title>35</title>\n<path fill=\"#e58139\" stroke=\"black\" d=\"M957,-298.5C957,-298.5 886,-298.5 886,-298.5 880,-298.5 874,-292.5 874,-286.5 874,-286.5 874,-242.5 874,-242.5 874,-236.5 880,-230.5 886,-230.5 886,-230.5 957,-230.5 957,-230.5 963,-230.5 969,-236.5 969,-242.5 969,-242.5 969,-286.5 969,-286.5 969,-292.5 963,-298.5 957,-298.5\"/>\n<text text-anchor=\"middle\" x=\"921.5\" y=\"-283.3\" font-family=\"Helvetica,sans-Serif\" font-size=\"14.00\">gini = 0.0</text>\n<text text-anchor=\"middle\" x=\"921.5\" y=\"-268.3\" font-family=\"Helvetica,sans-Serif\" font-size=\"14.00\">samples = 1</text>\n<text text-anchor=\"middle\" x=\"921.5\" y=\"-253.3\" font-family=\"Helvetica,sans-Serif\" font-size=\"14.00\">value = [1, 0]</text>\n<text text-anchor=\"middle\" x=\"921.5\" y=\"-238.3\" font-family=\"Helvetica,sans-Serif\" font-size=\"14.00\">class = nao</text>\n</g>\n<!-- 34&#45;&gt;35 -->\n<g id=\"edge35\" class=\"edge\">\n<title>34&#45;&gt;35</title>\n<path fill=\"none\" stroke=\"black\" d=\"M924.11,-341.91C923.75,-331.2 923.35,-319.62 922.98,-308.78\"/>\n<polygon fill=\"black\" stroke=\"black\" points=\"926.47,-308.54 922.63,-298.67 919.48,-308.78 926.47,-308.54\"/>\n</g>\n<!-- 36 -->\n<g id=\"node37\" class=\"node\">\n<title>36</title>\n<path fill=\"#399de5\" stroke=\"black\" d=\"M1070,-298.5C1070,-298.5 999,-298.5 999,-298.5 993,-298.5 987,-292.5 987,-286.5 987,-286.5 987,-242.5 987,-242.5 987,-236.5 993,-230.5 999,-230.5 999,-230.5 1070,-230.5 1070,-230.5 1076,-230.5 1082,-236.5 1082,-242.5 1082,-242.5 1082,-286.5 1082,-286.5 1082,-292.5 1076,-298.5 1070,-298.5\"/>\n<text text-anchor=\"middle\" x=\"1034.5\" y=\"-283.3\" font-family=\"Helvetica,sans-Serif\" font-size=\"14.00\">gini = 0.0</text>\n<text text-anchor=\"middle\" x=\"1034.5\" y=\"-268.3\" font-family=\"Helvetica,sans-Serif\" font-size=\"14.00\">samples = 2</text>\n<text text-anchor=\"middle\" x=\"1034.5\" y=\"-253.3\" font-family=\"Helvetica,sans-Serif\" font-size=\"14.00\">value = [0, 2]</text>\n<text text-anchor=\"middle\" x=\"1034.5\" y=\"-238.3\" font-family=\"Helvetica,sans-Serif\" font-size=\"14.00\">class = sim</text>\n</g>\n<!-- 34&#45;&gt;36 -->\n<g id=\"edge36\" class=\"edge\">\n<title>34&#45;&gt;36</title>\n<path fill=\"none\" stroke=\"black\" d=\"M963.32,-341.91C974.11,-330.32 985.87,-317.7 996.67,-306.11\"/>\n<polygon fill=\"black\" stroke=\"black\" points=\"999.35,-308.37 1003.6,-298.67 994.22,-303.6 999.35,-308.37\"/>\n</g>\n<!-- 40 -->\n<g id=\"node41\" class=\"node\">\n<title>40</title>\n<path fill=\"#67b4eb\" stroke=\"black\" d=\"M2380,-782C2380,-782 2231,-782 2231,-782 2225,-782 2219,-776 2219,-770 2219,-770 2219,-711 2219,-711 2219,-705 2225,-699 2231,-699 2231,-699 2380,-699 2380,-699 2386,-699 2392,-705 2392,-711 2392,-711 2392,-770 2392,-770 2392,-776 2386,-782 2380,-782\"/>\n<text text-anchor=\"middle\" x=\"2305.5\" y=\"-766.8\" font-family=\"Helvetica,sans-Serif\" font-size=\"14.00\">km_por_ano &lt;= 6267.575</text>\n<text text-anchor=\"middle\" x=\"2305.5\" y=\"-751.8\" font-family=\"Helvetica,sans-Serif\" font-size=\"14.00\">gini = 0.306</text>\n<text text-anchor=\"middle\" x=\"2305.5\" y=\"-736.8\" font-family=\"Helvetica,sans-Serif\" font-size=\"14.00\">samples = 2130</text>\n<text text-anchor=\"middle\" x=\"2305.5\" y=\"-721.8\" font-family=\"Helvetica,sans-Serif\" font-size=\"14.00\">value = [401, 1729]</text>\n<text text-anchor=\"middle\" x=\"2305.5\" y=\"-706.8\" font-family=\"Helvetica,sans-Serif\" font-size=\"14.00\">class = sim</text>\n</g>\n<!-- 39&#45;&gt;40 -->\n<g id=\"edge40\" class=\"edge\">\n<title>39&#45;&gt;40</title>\n<path fill=\"none\" stroke=\"black\" d=\"M3098.15,-846.53C2930.83,-824.36 2574.15,-777.1 2402.18,-754.31\"/>\n<polygon fill=\"black\" stroke=\"black\" points=\"2402.5,-750.82 2392.12,-752.98 2401.58,-757.76 2402.5,-750.82\"/>\n</g>\n<!-- 95 -->\n<g id=\"node96\" class=\"node\">\n<title>95</title>\n<path fill=\"#86c3ef\" stroke=\"black\" d=\"M4045.5,-782C4045.5,-782 3931.5,-782 3931.5,-782 3925.5,-782 3919.5,-776 3919.5,-770 3919.5,-770 3919.5,-711 3919.5,-711 3919.5,-705 3925.5,-699 3931.5,-699 3931.5,-699 4045.5,-699 4045.5,-699 4051.5,-699 4057.5,-705 4057.5,-711 4057.5,-711 4057.5,-770 4057.5,-770 4057.5,-776 4051.5,-782 4045.5,-782\"/>\n<text text-anchor=\"middle\" x=\"3988.5\" y=\"-766.8\" font-family=\"Helvetica,sans-Serif\" font-size=\"14.00\">preco &lt;= 53005.512</text>\n<text text-anchor=\"middle\" x=\"3988.5\" y=\"-751.8\" font-family=\"Helvetica,sans-Serif\" font-size=\"14.00\">gini = 0.402</text>\n<text text-anchor=\"middle\" x=\"3988.5\" y=\"-736.8\" font-family=\"Helvetica,sans-Serif\" font-size=\"14.00\">samples = 172</text>\n<text text-anchor=\"middle\" x=\"3988.5\" y=\"-721.8\" font-family=\"Helvetica,sans-Serif\" font-size=\"14.00\">value = [48, 124]</text>\n<text text-anchor=\"middle\" x=\"3988.5\" y=\"-706.8\" font-family=\"Helvetica,sans-Serif\" font-size=\"14.00\">class = sim</text>\n</g>\n<!-- 39&#45;&gt;95 -->\n<g id=\"edge95\" class=\"edge\">\n<title>39&#45;&gt;95</title>\n<path fill=\"none\" stroke=\"black\" d=\"M3278.72,-845.31C3436.4,-822.24 3759.58,-774.98 3909.22,-753.09\"/>\n<polygon fill=\"black\" stroke=\"black\" points=\"3909.87,-756.54 3919.26,-751.63 3908.86,-749.61 3909.87,-756.54\"/>\n</g>\n<!-- 41 -->\n<g id=\"node42\" class=\"node\">\n<title>41</title>\n<path fill=\"#eeab7b\" stroke=\"black\" d=\"M2056,-663C2056,-663 1907,-663 1907,-663 1901,-663 1895,-657 1895,-651 1895,-651 1895,-592 1895,-592 1895,-586 1901,-580 1907,-580 1907,-580 2056,-580 2056,-580 2062,-580 2068,-586 2068,-592 2068,-592 2068,-651 2068,-651 2068,-657 2062,-663 2056,-663\"/>\n<text text-anchor=\"middle\" x=\"1981.5\" y=\"-647.8\" font-family=\"Helvetica,sans-Serif\" font-size=\"14.00\">km_por_ano &lt;= 4049.099</text>\n<text text-anchor=\"middle\" x=\"1981.5\" y=\"-632.8\" font-family=\"Helvetica,sans-Serif\" font-size=\"14.00\">gini = 0.375</text>\n<text text-anchor=\"middle\" x=\"1981.5\" y=\"-617.8\" font-family=\"Helvetica,sans-Serif\" font-size=\"14.00\">samples = 4</text>\n<text text-anchor=\"middle\" x=\"1981.5\" y=\"-602.8\" font-family=\"Helvetica,sans-Serif\" font-size=\"14.00\">value = [3, 1]</text>\n<text text-anchor=\"middle\" x=\"1981.5\" y=\"-587.8\" font-family=\"Helvetica,sans-Serif\" font-size=\"14.00\">class = nao</text>\n</g>\n<!-- 40&#45;&gt;41 -->\n<g id=\"edge41\" class=\"edge\">\n<title>40&#45;&gt;41</title>\n<path fill=\"none\" stroke=\"black\" d=\"M2218.67,-708.15C2175.1,-692.41 2122.2,-673.31 2077.43,-657.14\"/>\n<polygon fill=\"black\" stroke=\"black\" points=\"2078.6,-653.84 2068,-653.74 2076.22,-660.43 2078.6,-653.84\"/>\n</g>\n<!-- 44 -->\n<g id=\"node45\" class=\"node\">\n<title>44</title>\n<path fill=\"#67b4eb\" stroke=\"black\" d=\"M2381,-663C2381,-663 2230,-663 2230,-663 2224,-663 2218,-657 2218,-651 2218,-651 2218,-592 2218,-592 2218,-586 2224,-580 2230,-580 2230,-580 2381,-580 2381,-580 2387,-580 2393,-586 2393,-592 2393,-592 2393,-651 2393,-651 2393,-657 2387,-663 2381,-663\"/>\n<text text-anchor=\"middle\" x=\"2305.5\" y=\"-647.8\" font-family=\"Helvetica,sans-Serif\" font-size=\"14.00\">idade_do_modelo &lt;= 18.5</text>\n<text text-anchor=\"middle\" x=\"2305.5\" y=\"-632.8\" font-family=\"Helvetica,sans-Serif\" font-size=\"14.00\">gini = 0.304</text>\n<text text-anchor=\"middle\" x=\"2305.5\" y=\"-617.8\" font-family=\"Helvetica,sans-Serif\" font-size=\"14.00\">samples = 2126</text>\n<text text-anchor=\"middle\" x=\"2305.5\" y=\"-602.8\" font-family=\"Helvetica,sans-Serif\" font-size=\"14.00\">value = [398, 1728]</text>\n<text text-anchor=\"middle\" x=\"2305.5\" y=\"-587.8\" font-family=\"Helvetica,sans-Serif\" font-size=\"14.00\">class = sim</text>\n</g>\n<!-- 40&#45;&gt;44 -->\n<g id=\"edge44\" class=\"edge\">\n<title>40&#45;&gt;44</title>\n<path fill=\"none\" stroke=\"black\" d=\"M2305.5,-698.91C2305.5,-690.65 2305.5,-681.86 2305.5,-673.3\"/>\n<polygon fill=\"black\" stroke=\"black\" points=\"2309,-673.02 2305.5,-663.02 2302,-673.02 2309,-673.02\"/>\n</g>\n<!-- 42 -->\n<g id=\"node43\" class=\"node\">\n<title>42</title>\n<path fill=\"#399de5\" stroke=\"black\" d=\"M1904,-536.5C1904,-536.5 1833,-536.5 1833,-536.5 1827,-536.5 1821,-530.5 1821,-524.5 1821,-524.5 1821,-480.5 1821,-480.5 1821,-474.5 1827,-468.5 1833,-468.5 1833,-468.5 1904,-468.5 1904,-468.5 1910,-468.5 1916,-474.5 1916,-480.5 1916,-480.5 1916,-524.5 1916,-524.5 1916,-530.5 1910,-536.5 1904,-536.5\"/>\n<text text-anchor=\"middle\" x=\"1868.5\" y=\"-521.3\" font-family=\"Helvetica,sans-Serif\" font-size=\"14.00\">gini = 0.0</text>\n<text text-anchor=\"middle\" x=\"1868.5\" y=\"-506.3\" font-family=\"Helvetica,sans-Serif\" font-size=\"14.00\">samples = 1</text>\n<text text-anchor=\"middle\" x=\"1868.5\" y=\"-491.3\" font-family=\"Helvetica,sans-Serif\" font-size=\"14.00\">value = [0, 1]</text>\n<text text-anchor=\"middle\" x=\"1868.5\" y=\"-476.3\" font-family=\"Helvetica,sans-Serif\" font-size=\"14.00\">class = sim</text>\n</g>\n<!-- 41&#45;&gt;42 -->\n<g id=\"edge42\" class=\"edge\">\n<title>41&#45;&gt;42</title>\n<path fill=\"none\" stroke=\"black\" d=\"M1942.3,-579.91C1931.11,-568.32 1918.91,-555.7 1907.72,-544.11\"/>\n<polygon fill=\"black\" stroke=\"black\" points=\"1910,-541.43 1900.53,-536.67 1904.96,-546.29 1910,-541.43\"/>\n</g>\n<!-- 43 -->\n<g id=\"node44\" class=\"node\">\n<title>43</title>\n<path fill=\"#e58139\" stroke=\"black\" d=\"M2017,-536.5C2017,-536.5 1946,-536.5 1946,-536.5 1940,-536.5 1934,-530.5 1934,-524.5 1934,-524.5 1934,-480.5 1934,-480.5 1934,-474.5 1940,-468.5 1946,-468.5 1946,-468.5 2017,-468.5 2017,-468.5 2023,-468.5 2029,-474.5 2029,-480.5 2029,-480.5 2029,-524.5 2029,-524.5 2029,-530.5 2023,-536.5 2017,-536.5\"/>\n<text text-anchor=\"middle\" x=\"1981.5\" y=\"-521.3\" font-family=\"Helvetica,sans-Serif\" font-size=\"14.00\">gini = 0.0</text>\n<text text-anchor=\"middle\" x=\"1981.5\" y=\"-506.3\" font-family=\"Helvetica,sans-Serif\" font-size=\"14.00\">samples = 3</text>\n<text text-anchor=\"middle\" x=\"1981.5\" y=\"-491.3\" font-family=\"Helvetica,sans-Serif\" font-size=\"14.00\">value = [3, 0]</text>\n<text text-anchor=\"middle\" x=\"1981.5\" y=\"-476.3\" font-family=\"Helvetica,sans-Serif\" font-size=\"14.00\">class = nao</text>\n</g>\n<!-- 41&#45;&gt;43 -->\n<g id=\"edge43\" class=\"edge\">\n<title>41&#45;&gt;43</title>\n<path fill=\"none\" stroke=\"black\" d=\"M1981.5,-579.91C1981.5,-569.2 1981.5,-557.62 1981.5,-546.78\"/>\n<polygon fill=\"black\" stroke=\"black\" points=\"1985,-546.67 1981.5,-536.67 1978,-546.67 1985,-546.67\"/>\n</g>\n<!-- 45 -->\n<g id=\"node46\" class=\"node\">\n<title>45</title>\n<path fill=\"#69b5eb\" stroke=\"black\" d=\"M2215.5,-544C2215.5,-544 2059.5,-544 2059.5,-544 2053.5,-544 2047.5,-538 2047.5,-532 2047.5,-532 2047.5,-473 2047.5,-473 2047.5,-467 2053.5,-461 2059.5,-461 2059.5,-461 2215.5,-461 2215.5,-461 2221.5,-461 2227.5,-467 2227.5,-473 2227.5,-473 2227.5,-532 2227.5,-532 2227.5,-538 2221.5,-544 2215.5,-544\"/>\n<text text-anchor=\"middle\" x=\"2137.5\" y=\"-528.8\" font-family=\"Helvetica,sans-Serif\" font-size=\"14.00\">km_por_ano &lt;= 33681.877</text>\n<text text-anchor=\"middle\" x=\"2137.5\" y=\"-513.8\" font-family=\"Helvetica,sans-Serif\" font-size=\"14.00\">gini = 0.316</text>\n<text text-anchor=\"middle\" x=\"2137.5\" y=\"-498.8\" font-family=\"Helvetica,sans-Serif\" font-size=\"14.00\">samples = 1713</text>\n<text text-anchor=\"middle\" x=\"2137.5\" y=\"-483.8\" font-family=\"Helvetica,sans-Serif\" font-size=\"14.00\">value = [337, 1376]</text>\n<text text-anchor=\"middle\" x=\"2137.5\" y=\"-468.8\" font-family=\"Helvetica,sans-Serif\" font-size=\"14.00\">class = sim</text>\n</g>\n<!-- 44&#45;&gt;45 -->\n<g id=\"edge45\" class=\"edge\">\n<title>44&#45;&gt;45</title>\n<path fill=\"none\" stroke=\"black\" d=\"M2247.21,-579.91C2233.27,-570.2 2218.28,-559.76 2204,-549.81\"/>\n<polygon fill=\"black\" stroke=\"black\" points=\"2205.89,-546.86 2195.68,-544.02 2201.89,-552.61 2205.89,-546.86\"/>\n</g>\n<!-- 70 -->\n<g id=\"node71\" class=\"node\">\n<title>70</title>\n<path fill=\"#5baeea\" stroke=\"black\" d=\"M2557,-544C2557,-544 2406,-544 2406,-544 2400,-544 2394,-538 2394,-532 2394,-532 2394,-473 2394,-473 2394,-467 2400,-461 2406,-461 2406,-461 2557,-461 2557,-461 2563,-461 2569,-467 2569,-473 2569,-473 2569,-532 2569,-532 2569,-538 2563,-544 2557,-544\"/>\n<text text-anchor=\"middle\" x=\"2481.5\" y=\"-528.8\" font-family=\"Helvetica,sans-Serif\" font-size=\"14.00\">idade_do_modelo &lt;= 19.5</text>\n<text text-anchor=\"middle\" x=\"2481.5\" y=\"-513.8\" font-family=\"Helvetica,sans-Serif\" font-size=\"14.00\">gini = 0.252</text>\n<text text-anchor=\"middle\" x=\"2481.5\" y=\"-498.8\" font-family=\"Helvetica,sans-Serif\" font-size=\"14.00\">samples = 413</text>\n<text text-anchor=\"middle\" x=\"2481.5\" y=\"-483.8\" font-family=\"Helvetica,sans-Serif\" font-size=\"14.00\">value = [61, 352]</text>\n<text text-anchor=\"middle\" x=\"2481.5\" y=\"-468.8\" font-family=\"Helvetica,sans-Serif\" font-size=\"14.00\">class = sim</text>\n</g>\n<!-- 44&#45;&gt;70 -->\n<g id=\"edge70\" class=\"edge\">\n<title>44&#45;&gt;70</title>\n<path fill=\"none\" stroke=\"black\" d=\"M2366.56,-579.91C2381.17,-570.2 2396.87,-559.76 2411.84,-549.81\"/>\n<polygon fill=\"black\" stroke=\"black\" points=\"2414.16,-552.47 2420.55,-544.02 2410.28,-546.64 2414.16,-552.47\"/>\n</g>\n<!-- 46 -->\n<g id=\"node47\" class=\"node\">\n<title>46</title>\n<path fill=\"#6bb6ec\" stroke=\"black\" d=\"M1579.5,-425C1579.5,-425 1423.5,-425 1423.5,-425 1417.5,-425 1411.5,-419 1411.5,-413 1411.5,-413 1411.5,-354 1411.5,-354 1411.5,-348 1417.5,-342 1423.5,-342 1423.5,-342 1579.5,-342 1579.5,-342 1585.5,-342 1591.5,-348 1591.5,-354 1591.5,-354 1591.5,-413 1591.5,-413 1591.5,-419 1585.5,-425 1579.5,-425\"/>\n<text text-anchor=\"middle\" x=\"1501.5\" y=\"-409.8\" font-family=\"Helvetica,sans-Serif\" font-size=\"14.00\">km_por_ano &lt;= 32892.496</text>\n<text text-anchor=\"middle\" x=\"1501.5\" y=\"-394.8\" font-family=\"Helvetica,sans-Serif\" font-size=\"14.00\">gini = 0.321</text>\n<text text-anchor=\"middle\" x=\"1501.5\" y=\"-379.8\" font-family=\"Helvetica,sans-Serif\" font-size=\"14.00\">samples = 1664</text>\n<text text-anchor=\"middle\" x=\"1501.5\" y=\"-364.8\" font-family=\"Helvetica,sans-Serif\" font-size=\"14.00\">value = [334, 1330]</text>\n<text text-anchor=\"middle\" x=\"1501.5\" y=\"-349.8\" font-family=\"Helvetica,sans-Serif\" font-size=\"14.00\">class = sim</text>\n</g>\n<!-- 45&#45;&gt;46 -->\n<g id=\"edge46\" class=\"edge\">\n<title>45&#45;&gt;46</title>\n<path fill=\"none\" stroke=\"black\" d=\"M2047.35,-463.85C2044.05,-462.83 2040.76,-461.88 2037.5,-461 1888.54,-420.85 1710.27,-400.74 1601.5,-391.47\"/>\n<polygon fill=\"black\" stroke=\"black\" points=\"1601.77,-387.98 1591.52,-390.64 1601.19,-394.96 1601.77,-387.98\"/>\n</g>\n<!-- 61 -->\n<g id=\"node62\" class=\"node\">\n<title>61</title>\n<path fill=\"#46a3e7\" stroke=\"black\" d=\"M2157,-425C2157,-425 2014,-425 2014,-425 2008,-425 2002,-419 2002,-413 2002,-413 2002,-354 2002,-354 2002,-348 2008,-342 2014,-342 2014,-342 2157,-342 2157,-342 2163,-342 2169,-348 2169,-354 2169,-354 2169,-413 2169,-413 2169,-419 2163,-425 2157,-425\"/>\n<text text-anchor=\"middle\" x=\"2085.5\" y=\"-409.8\" font-family=\"Helvetica,sans-Serif\" font-size=\"14.00\">idade_do_modelo &lt;= 7.0</text>\n<text text-anchor=\"middle\" x=\"2085.5\" y=\"-394.8\" font-family=\"Helvetica,sans-Serif\" font-size=\"14.00\">gini = 0.115</text>\n<text text-anchor=\"middle\" x=\"2085.5\" y=\"-379.8\" font-family=\"Helvetica,sans-Serif\" font-size=\"14.00\">samples = 49</text>\n<text text-anchor=\"middle\" x=\"2085.5\" y=\"-364.8\" font-family=\"Helvetica,sans-Serif\" font-size=\"14.00\">value = [3, 46]</text>\n<text text-anchor=\"middle\" x=\"2085.5\" y=\"-349.8\" font-family=\"Helvetica,sans-Serif\" font-size=\"14.00\">class = sim</text>\n</g>\n<!-- 45&#45;&gt;61 -->\n<g id=\"edge61\" class=\"edge\">\n<title>45&#45;&gt;61</title>\n<path fill=\"none\" stroke=\"black\" d=\"M2119.46,-460.91C2115.63,-452.29 2111.54,-443.09 2107.58,-434.17\"/>\n<polygon fill=\"black\" stroke=\"black\" points=\"2110.77,-432.74 2103.51,-425.02 2104.37,-435.58 2110.77,-432.74\"/>\n</g>\n<!-- 47 -->\n<g id=\"node48\" class=\"node\">\n<title>47</title>\n<path fill=\"#6ab5eb\" stroke=\"black\" d=\"M1296.5,-306C1296.5,-306 1140.5,-306 1140.5,-306 1134.5,-306 1128.5,-300 1128.5,-294 1128.5,-294 1128.5,-235 1128.5,-235 1128.5,-229 1134.5,-223 1140.5,-223 1140.5,-223 1296.5,-223 1296.5,-223 1302.5,-223 1308.5,-229 1308.5,-235 1308.5,-235 1308.5,-294 1308.5,-294 1308.5,-300 1302.5,-306 1296.5,-306\"/>\n<text text-anchor=\"middle\" x=\"1218.5\" y=\"-290.8\" font-family=\"Helvetica,sans-Serif\" font-size=\"14.00\">km_por_ano &lt;= 12675.967</text>\n<text text-anchor=\"middle\" x=\"1218.5\" y=\"-275.8\" font-family=\"Helvetica,sans-Serif\" font-size=\"14.00\">gini = 0.317</text>\n<text text-anchor=\"middle\" x=\"1218.5\" y=\"-260.8\" font-family=\"Helvetica,sans-Serif\" font-size=\"14.00\">samples = 1634</text>\n<text text-anchor=\"middle\" x=\"1218.5\" y=\"-245.8\" font-family=\"Helvetica,sans-Serif\" font-size=\"14.00\">value = [323, 1311]</text>\n<text text-anchor=\"middle\" x=\"1218.5\" y=\"-230.8\" font-family=\"Helvetica,sans-Serif\" font-size=\"14.00\">class = sim</text>\n</g>\n<!-- 46&#45;&gt;47 -->\n<g id=\"edge47\" class=\"edge\">\n<title>46&#45;&gt;47</title>\n<path fill=\"none\" stroke=\"black\" d=\"M1411.18,-345.16C1381.57,-332.92 1348.5,-319.24 1318.23,-306.73\"/>\n<polygon fill=\"black\" stroke=\"black\" points=\"1319.51,-303.47 1308.93,-302.89 1316.84,-309.94 1319.51,-303.47\"/>\n</g>\n<!-- 54 -->\n<g id=\"node55\" class=\"node\">\n<title>54</title>\n<path fill=\"#acd6f4\" stroke=\"black\" d=\"M1558.5,-306C1558.5,-306 1444.5,-306 1444.5,-306 1438.5,-306 1432.5,-300 1432.5,-294 1432.5,-294 1432.5,-235 1432.5,-235 1432.5,-229 1438.5,-223 1444.5,-223 1444.5,-223 1558.5,-223 1558.5,-223 1564.5,-223 1570.5,-229 1570.5,-235 1570.5,-235 1570.5,-294 1570.5,-294 1570.5,-300 1564.5,-306 1558.5,-306\"/>\n<text text-anchor=\"middle\" x=\"1501.5\" y=\"-290.8\" font-family=\"Helvetica,sans-Serif\" font-size=\"14.00\">preco &lt;= 48155.891</text>\n<text text-anchor=\"middle\" x=\"1501.5\" y=\"-275.8\" font-family=\"Helvetica,sans-Serif\" font-size=\"14.00\">gini = 0.464</text>\n<text text-anchor=\"middle\" x=\"1501.5\" y=\"-260.8\" font-family=\"Helvetica,sans-Serif\" font-size=\"14.00\">samples = 30</text>\n<text text-anchor=\"middle\" x=\"1501.5\" y=\"-245.8\" font-family=\"Helvetica,sans-Serif\" font-size=\"14.00\">value = [11, 19]</text>\n<text text-anchor=\"middle\" x=\"1501.5\" y=\"-230.8\" font-family=\"Helvetica,sans-Serif\" font-size=\"14.00\">class = sim</text>\n</g>\n<!-- 46&#45;&gt;54 -->\n<g id=\"edge54\" class=\"edge\">\n<title>46&#45;&gt;54</title>\n<path fill=\"none\" stroke=\"black\" d=\"M1501.5,-341.91C1501.5,-333.65 1501.5,-324.86 1501.5,-316.3\"/>\n<polygon fill=\"black\" stroke=\"black\" points=\"1505,-316.02 1501.5,-306.02 1498,-316.02 1505,-316.02\"/>\n</g>\n<!-- 48 -->\n<g id=\"node49\" class=\"node\">\n<title>48</title>\n<path fill=\"#87c4ef\" stroke=\"black\" d=\"M1061,-187C1061,-187 954,-187 954,-187 948,-187 942,-181 942,-175 942,-175 942,-116 942,-116 942,-110 948,-104 954,-104 954,-104 1061,-104 1061,-104 1067,-104 1073,-110 1073,-116 1073,-116 1073,-175 1073,-175 1073,-181 1067,-187 1061,-187\"/>\n<text text-anchor=\"middle\" x=\"1007.5\" y=\"-171.8\" font-family=\"Helvetica,sans-Serif\" font-size=\"14.00\">preco &lt;= 44172.74</text>\n<text text-anchor=\"middle\" x=\"1007.5\" y=\"-156.8\" font-family=\"Helvetica,sans-Serif\" font-size=\"14.00\">gini = 0.406</text>\n<text text-anchor=\"middle\" x=\"1007.5\" y=\"-141.8\" font-family=\"Helvetica,sans-Serif\" font-size=\"14.00\">samples = 106</text>\n<text text-anchor=\"middle\" x=\"1007.5\" y=\"-126.8\" font-family=\"Helvetica,sans-Serif\" font-size=\"14.00\">value = [30, 76]</text>\n<text text-anchor=\"middle\" x=\"1007.5\" y=\"-111.8\" font-family=\"Helvetica,sans-Serif\" font-size=\"14.00\">class = sim</text>\n</g>\n<!-- 47&#45;&gt;48 -->\n<g id=\"edge48\" class=\"edge\">\n<title>47&#45;&gt;48</title>\n<path fill=\"none\" stroke=\"black\" d=\"M1145.29,-222.91C1124.87,-211.58 1102.66,-199.26 1082.15,-187.89\"/>\n<polygon fill=\"black\" stroke=\"black\" points=\"1083.61,-184.7 1073.17,-182.91 1080.22,-190.82 1083.61,-184.7\"/>\n</g>\n<!-- 51 -->\n<g id=\"node52\" class=\"node\">\n<title>51</title>\n<path fill=\"#68b4eb\" stroke=\"black\" d=\"M1275.5,-187C1275.5,-187 1161.5,-187 1161.5,-187 1155.5,-187 1149.5,-181 1149.5,-175 1149.5,-175 1149.5,-116 1149.5,-116 1149.5,-110 1155.5,-104 1161.5,-104 1161.5,-104 1275.5,-104 1275.5,-104 1281.5,-104 1287.5,-110 1287.5,-116 1287.5,-116 1287.5,-175 1287.5,-175 1287.5,-181 1281.5,-187 1275.5,-187\"/>\n<text text-anchor=\"middle\" x=\"1218.5\" y=\"-171.8\" font-family=\"Helvetica,sans-Serif\" font-size=\"14.00\">preco &lt;= 47608.334</text>\n<text text-anchor=\"middle\" x=\"1218.5\" y=\"-156.8\" font-family=\"Helvetica,sans-Serif\" font-size=\"14.00\">gini = 0.31</text>\n<text text-anchor=\"middle\" x=\"1218.5\" y=\"-141.8\" font-family=\"Helvetica,sans-Serif\" font-size=\"14.00\">samples = 1528</text>\n<text text-anchor=\"middle\" x=\"1218.5\" y=\"-126.8\" font-family=\"Helvetica,sans-Serif\" font-size=\"14.00\">value = [293, 1235]</text>\n<text text-anchor=\"middle\" x=\"1218.5\" y=\"-111.8\" font-family=\"Helvetica,sans-Serif\" font-size=\"14.00\">class = sim</text>\n</g>\n<!-- 47&#45;&gt;51 -->\n<g id=\"edge51\" class=\"edge\">\n<title>47&#45;&gt;51</title>\n<path fill=\"none\" stroke=\"black\" d=\"M1218.5,-222.91C1218.5,-214.65 1218.5,-205.86 1218.5,-197.3\"/>\n<polygon fill=\"black\" stroke=\"black\" points=\"1222,-197.02 1218.5,-187.02 1215,-197.02 1222,-197.02\"/>\n</g>\n<!-- 49 -->\n<g id=\"node50\" class=\"node\">\n<title>49</title>\n<path fill=\"#f8dbc6\" stroke=\"black\" d=\"M904.5,-68C904.5,-68 830.5,-68 830.5,-68 824.5,-68 818.5,-62 818.5,-56 818.5,-56 818.5,-12 818.5,-12 818.5,-6 824.5,0 830.5,0 830.5,0 904.5,0 904.5,0 910.5,0 916.5,-6 916.5,-12 916.5,-12 916.5,-56 916.5,-56 916.5,-62 910.5,-68 904.5,-68\"/>\n<text text-anchor=\"middle\" x=\"867.5\" y=\"-52.8\" font-family=\"Helvetica,sans-Serif\" font-size=\"14.00\">gini = 0.486</text>\n<text text-anchor=\"middle\" x=\"867.5\" y=\"-37.8\" font-family=\"Helvetica,sans-Serif\" font-size=\"14.00\">samples = 12</text>\n<text text-anchor=\"middle\" x=\"867.5\" y=\"-22.8\" font-family=\"Helvetica,sans-Serif\" font-size=\"14.00\">value = [7, 5]</text>\n<text text-anchor=\"middle\" x=\"867.5\" y=\"-7.8\" font-family=\"Helvetica,sans-Serif\" font-size=\"14.00\">class = nao</text>\n</g>\n<!-- 48&#45;&gt;49 -->\n<g id=\"edge49\" class=\"edge\">\n<title>48&#45;&gt;49</title>\n<path fill=\"none\" stroke=\"black\" d=\"M955.37,-103.73C943.24,-94.24 930.35,-84.16 918.28,-74.72\"/>\n<polygon fill=\"black\" stroke=\"black\" points=\"920.11,-71.7 910.07,-68.3 915.8,-77.22 920.11,-71.7\"/>\n</g>\n<!-- 50 -->\n<g id=\"node51\" class=\"node\">\n<title>50</title>\n<path fill=\"#79bded\" stroke=\"black\" d=\"M1032.5,-68C1032.5,-68 946.5,-68 946.5,-68 940.5,-68 934.5,-62 934.5,-56 934.5,-56 934.5,-12 934.5,-12 934.5,-6 940.5,0 946.5,0 946.5,0 1032.5,0 1032.5,0 1038.5,0 1044.5,-6 1044.5,-12 1044.5,-12 1044.5,-56 1044.5,-56 1044.5,-62 1038.5,-68 1032.5,-68\"/>\n<text text-anchor=\"middle\" x=\"989.5\" y=\"-52.8\" font-family=\"Helvetica,sans-Serif\" font-size=\"14.00\">gini = 0.37</text>\n<text text-anchor=\"middle\" x=\"989.5\" y=\"-37.8\" font-family=\"Helvetica,sans-Serif\" font-size=\"14.00\">samples = 94</text>\n<text text-anchor=\"middle\" x=\"989.5\" y=\"-22.8\" font-family=\"Helvetica,sans-Serif\" font-size=\"14.00\">value = [23, 71]</text>\n<text text-anchor=\"middle\" x=\"989.5\" y=\"-7.8\" font-family=\"Helvetica,sans-Serif\" font-size=\"14.00\">class = sim</text>\n</g>\n<!-- 48&#45;&gt;50 -->\n<g id=\"edge50\" class=\"edge\">\n<title>48&#45;&gt;50</title>\n<path fill=\"none\" stroke=\"black\" d=\"M1000.8,-103.73C999.43,-95.43 997.99,-86.67 996.62,-78.28\"/>\n<polygon fill=\"black\" stroke=\"black\" points=\"1000.05,-77.6 994.97,-68.3 993.14,-78.73 1000.05,-77.6\"/>\n</g>\n<!-- 52 -->\n<g id=\"node53\" class=\"node\">\n<title>52</title>\n<path fill=\"#5fb0ea\" stroke=\"black\" d=\"M1168,-68C1168,-68 1075,-68 1075,-68 1069,-68 1063,-62 1063,-56 1063,-56 1063,-12 1063,-12 1063,-6 1069,0 1075,0 1075,0 1168,0 1168,0 1174,0 1180,-6 1180,-12 1180,-12 1180,-56 1180,-56 1180,-62 1174,-68 1168,-68\"/>\n<text text-anchor=\"middle\" x=\"1121.5\" y=\"-52.8\" font-family=\"Helvetica,sans-Serif\" font-size=\"14.00\">gini = 0.268</text>\n<text text-anchor=\"middle\" x=\"1121.5\" y=\"-37.8\" font-family=\"Helvetica,sans-Serif\" font-size=\"14.00\">samples = 508</text>\n<text text-anchor=\"middle\" x=\"1121.5\" y=\"-22.8\" font-family=\"Helvetica,sans-Serif\" font-size=\"14.00\">value = [81, 427]</text>\n<text text-anchor=\"middle\" x=\"1121.5\" y=\"-7.8\" font-family=\"Helvetica,sans-Serif\" font-size=\"14.00\">class = sim</text>\n</g>\n<!-- 51&#45;&gt;52 -->\n<g id=\"edge52\" class=\"edge\">\n<title>51&#45;&gt;52</title>\n<path fill=\"none\" stroke=\"black\" d=\"M1182.38,-103.73C1174.3,-94.61 1165.73,-84.93 1157.65,-75.81\"/>\n<polygon fill=\"black\" stroke=\"black\" points=\"1160.25,-73.46 1151,-68.3 1155.01,-78.11 1160.25,-73.46\"/>\n</g>\n<!-- 53 -->\n<g id=\"node54\" class=\"node\">\n<title>53</title>\n<path fill=\"#6db7ec\" stroke=\"black\" d=\"M1311,-68C1311,-68 1210,-68 1210,-68 1204,-68 1198,-62 1198,-56 1198,-56 1198,-12 1198,-12 1198,-6 1204,0 1210,0 1210,0 1311,0 1311,0 1317,0 1323,-6 1323,-12 1323,-12 1323,-56 1323,-56 1323,-62 1317,-68 1311,-68\"/>\n<text text-anchor=\"middle\" x=\"1260.5\" y=\"-52.8\" font-family=\"Helvetica,sans-Serif\" font-size=\"14.00\">gini = 0.329</text>\n<text text-anchor=\"middle\" x=\"1260.5\" y=\"-37.8\" font-family=\"Helvetica,sans-Serif\" font-size=\"14.00\">samples = 1020</text>\n<text text-anchor=\"middle\" x=\"1260.5\" y=\"-22.8\" font-family=\"Helvetica,sans-Serif\" font-size=\"14.00\">value = [212, 808]</text>\n<text text-anchor=\"middle\" x=\"1260.5\" y=\"-7.8\" font-family=\"Helvetica,sans-Serif\" font-size=\"14.00\">class = sim</text>\n</g>\n<!-- 51&#45;&gt;53 -->\n<g id=\"edge53\" class=\"edge\">\n<title>51&#45;&gt;53</title>\n<path fill=\"none\" stroke=\"black\" d=\"M1234.14,-103.73C1237.39,-95.24 1240.83,-86.28 1244.11,-77.73\"/>\n<polygon fill=\"black\" stroke=\"black\" points=\"1247.41,-78.89 1247.73,-68.3 1240.88,-76.38 1247.41,-78.89\"/>\n</g>\n<!-- 55 -->\n<g id=\"node56\" class=\"node\">\n<title>55</title>\n<path fill=\"#f4c9aa\" stroke=\"black\" d=\"M1469.5,-187C1469.5,-187 1355.5,-187 1355.5,-187 1349.5,-187 1343.5,-181 1343.5,-175 1343.5,-175 1343.5,-116 1343.5,-116 1343.5,-110 1349.5,-104 1355.5,-104 1355.5,-104 1469.5,-104 1469.5,-104 1475.5,-104 1481.5,-110 1481.5,-116 1481.5,-116 1481.5,-175 1481.5,-175 1481.5,-181 1475.5,-187 1469.5,-187\"/>\n<text text-anchor=\"middle\" x=\"1412.5\" y=\"-171.8\" font-family=\"Helvetica,sans-Serif\" font-size=\"14.00\">preco &lt;= 45260.775</text>\n<text text-anchor=\"middle\" x=\"1412.5\" y=\"-156.8\" font-family=\"Helvetica,sans-Serif\" font-size=\"14.00\">gini = 0.463</text>\n<text text-anchor=\"middle\" x=\"1412.5\" y=\"-141.8\" font-family=\"Helvetica,sans-Serif\" font-size=\"14.00\">samples = 11</text>\n<text text-anchor=\"middle\" x=\"1412.5\" y=\"-126.8\" font-family=\"Helvetica,sans-Serif\" font-size=\"14.00\">value = [7, 4]</text>\n<text text-anchor=\"middle\" x=\"1412.5\" y=\"-111.8\" font-family=\"Helvetica,sans-Serif\" font-size=\"14.00\">class = nao</text>\n</g>\n<!-- 54&#45;&gt;55 -->\n<g id=\"edge55\" class=\"edge\">\n<title>54&#45;&gt;55</title>\n<path fill=\"none\" stroke=\"black\" d=\"M1470.62,-222.91C1463.79,-213.92 1456.48,-204.32 1449.43,-195.05\"/>\n<polygon fill=\"black\" stroke=\"black\" points=\"1452.16,-192.86 1443.32,-187.02 1446.59,-197.1 1452.16,-192.86\"/>\n</g>\n<!-- 58 -->\n<g id=\"node59\" class=\"node\">\n<title>58</title>\n<path fill=\"#6eb7ec\" stroke=\"black\" d=\"M1667.5,-187C1667.5,-187 1511.5,-187 1511.5,-187 1505.5,-187 1499.5,-181 1499.5,-175 1499.5,-175 1499.5,-116 1499.5,-116 1499.5,-110 1505.5,-104 1511.5,-104 1511.5,-104 1667.5,-104 1667.5,-104 1673.5,-104 1679.5,-110 1679.5,-116 1679.5,-116 1679.5,-175 1679.5,-175 1679.5,-181 1673.5,-187 1667.5,-187\"/>\n<text text-anchor=\"middle\" x=\"1589.5\" y=\"-171.8\" font-family=\"Helvetica,sans-Serif\" font-size=\"14.00\">km_por_ano &lt;= 32914.223</text>\n<text text-anchor=\"middle\" x=\"1589.5\" y=\"-156.8\" font-family=\"Helvetica,sans-Serif\" font-size=\"14.00\">gini = 0.332</text>\n<text text-anchor=\"middle\" x=\"1589.5\" y=\"-141.8\" font-family=\"Helvetica,sans-Serif\" font-size=\"14.00\">samples = 19</text>\n<text text-anchor=\"middle\" x=\"1589.5\" y=\"-126.8\" font-family=\"Helvetica,sans-Serif\" font-size=\"14.00\">value = [4, 15]</text>\n<text text-anchor=\"middle\" x=\"1589.5\" y=\"-111.8\" font-family=\"Helvetica,sans-Serif\" font-size=\"14.00\">class = sim</text>\n</g>\n<!-- 54&#45;&gt;58 -->\n<g id=\"edge58\" class=\"edge\">\n<title>54&#45;&gt;58</title>\n<path fill=\"none\" stroke=\"black\" d=\"M1532.03,-222.91C1538.79,-213.92 1546.02,-204.32 1552.98,-195.05\"/>\n<polygon fill=\"black\" stroke=\"black\" points=\"1555.81,-197.12 1559.02,-187.02 1550.21,-192.91 1555.81,-197.12\"/>\n</g>\n<!-- 56 -->\n<g id=\"node57\" class=\"node\">\n<title>56</title>\n<path fill=\"#cee6f8\" stroke=\"black\" d=\"M1424,-68C1424,-68 1353,-68 1353,-68 1347,-68 1341,-62 1341,-56 1341,-56 1341,-12 1341,-12 1341,-6 1347,0 1353,0 1353,0 1424,0 1424,0 1430,0 1436,-6 1436,-12 1436,-12 1436,-56 1436,-56 1436,-62 1430,-68 1424,-68\"/>\n<text text-anchor=\"middle\" x=\"1388.5\" y=\"-52.8\" font-family=\"Helvetica,sans-Serif\" font-size=\"14.00\">gini = 0.49</text>\n<text text-anchor=\"middle\" x=\"1388.5\" y=\"-37.8\" font-family=\"Helvetica,sans-Serif\" font-size=\"14.00\">samples = 7</text>\n<text text-anchor=\"middle\" x=\"1388.5\" y=\"-22.8\" font-family=\"Helvetica,sans-Serif\" font-size=\"14.00\">value = [3, 4]</text>\n<text text-anchor=\"middle\" x=\"1388.5\" y=\"-7.8\" font-family=\"Helvetica,sans-Serif\" font-size=\"14.00\">class = sim</text>\n</g>\n<!-- 55&#45;&gt;56 -->\n<g id=\"edge56\" class=\"edge\">\n<title>55&#45;&gt;56</title>\n<path fill=\"none\" stroke=\"black\" d=\"M1403.56,-103.73C1401.74,-95.43 1399.82,-86.67 1397.99,-78.28\"/>\n<polygon fill=\"black\" stroke=\"black\" points=\"1401.36,-77.32 1395.8,-68.3 1394.52,-78.82 1401.36,-77.32\"/>\n</g>\n<!-- 57 -->\n<g id=\"node58\" class=\"node\">\n<title>57</title>\n<path fill=\"#e58139\" stroke=\"black\" d=\"M1537,-68C1537,-68 1466,-68 1466,-68 1460,-68 1454,-62 1454,-56 1454,-56 1454,-12 1454,-12 1454,-6 1460,0 1466,0 1466,0 1537,0 1537,0 1543,0 1549,-6 1549,-12 1549,-12 1549,-56 1549,-56 1549,-62 1543,-68 1537,-68\"/>\n<text text-anchor=\"middle\" x=\"1501.5\" y=\"-52.8\" font-family=\"Helvetica,sans-Serif\" font-size=\"14.00\">gini = 0.0</text>\n<text text-anchor=\"middle\" x=\"1501.5\" y=\"-37.8\" font-family=\"Helvetica,sans-Serif\" font-size=\"14.00\">samples = 4</text>\n<text text-anchor=\"middle\" x=\"1501.5\" y=\"-22.8\" font-family=\"Helvetica,sans-Serif\" font-size=\"14.00\">value = [4, 0]</text>\n<text text-anchor=\"middle\" x=\"1501.5\" y=\"-7.8\" font-family=\"Helvetica,sans-Serif\" font-size=\"14.00\">class = nao</text>\n</g>\n<!-- 55&#45;&gt;57 -->\n<g id=\"edge57\" class=\"edge\">\n<title>55&#45;&gt;57</title>\n<path fill=\"none\" stroke=\"black\" d=\"M1445.64,-103.73C1452.98,-94.7 1460.76,-85.12 1468.11,-76.08\"/>\n<polygon fill=\"black\" stroke=\"black\" points=\"1470.84,-78.27 1474.43,-68.3 1465.41,-73.85 1470.84,-78.27\"/>\n</g>\n<!-- 59 -->\n<g id=\"node60\" class=\"node\">\n<title>59</title>\n<path fill=\"#e58139\" stroke=\"black\" d=\"M1650,-68C1650,-68 1579,-68 1579,-68 1573,-68 1567,-62 1567,-56 1567,-56 1567,-12 1567,-12 1567,-6 1573,0 1579,0 1579,0 1650,0 1650,0 1656,0 1662,-6 1662,-12 1662,-12 1662,-56 1662,-56 1662,-62 1656,-68 1650,-68\"/>\n<text text-anchor=\"middle\" x=\"1614.5\" y=\"-52.8\" font-family=\"Helvetica,sans-Serif\" font-size=\"14.00\">gini = 0.0</text>\n<text text-anchor=\"middle\" x=\"1614.5\" y=\"-37.8\" font-family=\"Helvetica,sans-Serif\" font-size=\"14.00\">samples = 1</text>\n<text text-anchor=\"middle\" x=\"1614.5\" y=\"-22.8\" font-family=\"Helvetica,sans-Serif\" font-size=\"14.00\">value = [1, 0]</text>\n<text text-anchor=\"middle\" x=\"1614.5\" y=\"-7.8\" font-family=\"Helvetica,sans-Serif\" font-size=\"14.00\">class = nao</text>\n</g>\n<!-- 58&#45;&gt;59 -->\n<g id=\"edge59\" class=\"edge\">\n<title>58&#45;&gt;59</title>\n<path fill=\"none\" stroke=\"black\" d=\"M1598.81,-103.73C1600.7,-95.43 1602.7,-86.67 1604.62,-78.28\"/>\n<polygon fill=\"black\" stroke=\"black\" points=\"1608.08,-78.83 1606.9,-68.3 1601.26,-77.27 1608.08,-78.83\"/>\n</g>\n<!-- 60 -->\n<g id=\"node61\" class=\"node\">\n<title>60</title>\n<path fill=\"#61b1ea\" stroke=\"black\" d=\"M1770.5,-68C1770.5,-68 1692.5,-68 1692.5,-68 1686.5,-68 1680.5,-62 1680.5,-56 1680.5,-56 1680.5,-12 1680.5,-12 1680.5,-6 1686.5,0 1692.5,0 1692.5,0 1770.5,0 1770.5,0 1776.5,0 1782.5,-6 1782.5,-12 1782.5,-12 1782.5,-56 1782.5,-56 1782.5,-62 1776.5,-68 1770.5,-68\"/>\n<text text-anchor=\"middle\" x=\"1731.5\" y=\"-52.8\" font-family=\"Helvetica,sans-Serif\" font-size=\"14.00\">gini = 0.278</text>\n<text text-anchor=\"middle\" x=\"1731.5\" y=\"-37.8\" font-family=\"Helvetica,sans-Serif\" font-size=\"14.00\">samples = 18</text>\n<text text-anchor=\"middle\" x=\"1731.5\" y=\"-22.8\" font-family=\"Helvetica,sans-Serif\" font-size=\"14.00\">value = [3, 15]</text>\n<text text-anchor=\"middle\" x=\"1731.5\" y=\"-7.8\" font-family=\"Helvetica,sans-Serif\" font-size=\"14.00\">class = sim</text>\n</g>\n<!-- 58&#45;&gt;60 -->\n<g id=\"edge60\" class=\"edge\">\n<title>58&#45;&gt;60</title>\n<path fill=\"none\" stroke=\"black\" d=\"M1642.38,-103.73C1654.79,-94.15 1668.01,-83.96 1680.35,-74.44\"/>\n<polygon fill=\"black\" stroke=\"black\" points=\"1682.54,-77.18 1688.32,-68.3 1678.26,-71.63 1682.54,-77.18\"/>\n</g>\n<!-- 62 -->\n<g id=\"node63\" class=\"node\">\n<title>62</title>\n<path fill=\"#ffffff\" stroke=\"black\" d=\"M1915.5,-306C1915.5,-306 1801.5,-306 1801.5,-306 1795.5,-306 1789.5,-300 1789.5,-294 1789.5,-294 1789.5,-235 1789.5,-235 1789.5,-229 1795.5,-223 1801.5,-223 1801.5,-223 1915.5,-223 1915.5,-223 1921.5,-223 1927.5,-229 1927.5,-235 1927.5,-235 1927.5,-294 1927.5,-294 1927.5,-300 1921.5,-306 1915.5,-306\"/>\n<text text-anchor=\"middle\" x=\"1858.5\" y=\"-290.8\" font-family=\"Helvetica,sans-Serif\" font-size=\"14.00\">preco &lt;= 50844.285</text>\n<text text-anchor=\"middle\" x=\"1858.5\" y=\"-275.8\" font-family=\"Helvetica,sans-Serif\" font-size=\"14.00\">gini = 0.5</text>\n<text text-anchor=\"middle\" x=\"1858.5\" y=\"-260.8\" font-family=\"Helvetica,sans-Serif\" font-size=\"14.00\">samples = 2</text>\n<text text-anchor=\"middle\" x=\"1858.5\" y=\"-245.8\" font-family=\"Helvetica,sans-Serif\" font-size=\"14.00\">value = [1, 1]</text>\n<text text-anchor=\"middle\" x=\"1858.5\" y=\"-230.8\" font-family=\"Helvetica,sans-Serif\" font-size=\"14.00\">class = nao</text>\n</g>\n<!-- 61&#45;&gt;62 -->\n<g id=\"edge62\" class=\"edge\">\n<title>61&#45;&gt;62</title>\n<path fill=\"none\" stroke=\"black\" d=\"M2006.74,-341.91C1984.02,-330.2 1959.24,-317.42 1936.56,-305.73\"/>\n<polygon fill=\"black\" stroke=\"black\" points=\"1938.14,-302.61 1927.65,-301.14 1934.94,-308.83 1938.14,-302.61\"/>\n</g>\n<!-- 65 -->\n<g id=\"node66\" class=\"node\">\n<title>65</title>\n<path fill=\"#42a1e6\" stroke=\"black\" d=\"M2163.5,-306C2163.5,-306 2007.5,-306 2007.5,-306 2001.5,-306 1995.5,-300 1995.5,-294 1995.5,-294 1995.5,-235 1995.5,-235 1995.5,-229 2001.5,-223 2007.5,-223 2007.5,-223 2163.5,-223 2163.5,-223 2169.5,-223 2175.5,-229 2175.5,-235 2175.5,-235 2175.5,-294 2175.5,-294 2175.5,-300 2169.5,-306 2163.5,-306\"/>\n<text text-anchor=\"middle\" x=\"2085.5\" y=\"-290.8\" font-family=\"Helvetica,sans-Serif\" font-size=\"14.00\">km_por_ano &lt;= 34956.475</text>\n<text text-anchor=\"middle\" x=\"2085.5\" y=\"-275.8\" font-family=\"Helvetica,sans-Serif\" font-size=\"14.00\">gini = 0.081</text>\n<text text-anchor=\"middle\" x=\"2085.5\" y=\"-260.8\" font-family=\"Helvetica,sans-Serif\" font-size=\"14.00\">samples = 47</text>\n<text text-anchor=\"middle\" x=\"2085.5\" y=\"-245.8\" font-family=\"Helvetica,sans-Serif\" font-size=\"14.00\">value = [2, 45]</text>\n<text text-anchor=\"middle\" x=\"2085.5\" y=\"-230.8\" font-family=\"Helvetica,sans-Serif\" font-size=\"14.00\">class = sim</text>\n</g>\n<!-- 61&#45;&gt;65 -->\n<g id=\"edge65\" class=\"edge\">\n<title>61&#45;&gt;65</title>\n<path fill=\"none\" stroke=\"black\" d=\"M2085.5,-341.91C2085.5,-333.65 2085.5,-324.86 2085.5,-316.3\"/>\n<polygon fill=\"black\" stroke=\"black\" points=\"2089,-316.02 2085.5,-306.02 2082,-316.02 2089,-316.02\"/>\n</g>\n<!-- 63 -->\n<g id=\"node64\" class=\"node\">\n<title>63</title>\n<path fill=\"#e58139\" stroke=\"black\" d=\"M1781,-179.5C1781,-179.5 1710,-179.5 1710,-179.5 1704,-179.5 1698,-173.5 1698,-167.5 1698,-167.5 1698,-123.5 1698,-123.5 1698,-117.5 1704,-111.5 1710,-111.5 1710,-111.5 1781,-111.5 1781,-111.5 1787,-111.5 1793,-117.5 1793,-123.5 1793,-123.5 1793,-167.5 1793,-167.5 1793,-173.5 1787,-179.5 1781,-179.5\"/>\n<text text-anchor=\"middle\" x=\"1745.5\" y=\"-164.3\" font-family=\"Helvetica,sans-Serif\" font-size=\"14.00\">gini = 0.0</text>\n<text text-anchor=\"middle\" x=\"1745.5\" y=\"-149.3\" font-family=\"Helvetica,sans-Serif\" font-size=\"14.00\">samples = 1</text>\n<text text-anchor=\"middle\" x=\"1745.5\" y=\"-134.3\" font-family=\"Helvetica,sans-Serif\" font-size=\"14.00\">value = [1, 0]</text>\n<text text-anchor=\"middle\" x=\"1745.5\" y=\"-119.3\" font-family=\"Helvetica,sans-Serif\" font-size=\"14.00\">class = nao</text>\n</g>\n<!-- 62&#45;&gt;63 -->\n<g id=\"edge63\" class=\"edge\">\n<title>62&#45;&gt;63</title>\n<path fill=\"none\" stroke=\"black\" d=\"M1819.3,-222.91C1808.11,-211.32 1795.91,-198.7 1784.72,-187.11\"/>\n<polygon fill=\"black\" stroke=\"black\" points=\"1787,-184.43 1777.53,-179.67 1781.96,-189.29 1787,-184.43\"/>\n</g>\n<!-- 64 -->\n<g id=\"node65\" class=\"node\">\n<title>64</title>\n<path fill=\"#399de5\" stroke=\"black\" d=\"M1894,-179.5C1894,-179.5 1823,-179.5 1823,-179.5 1817,-179.5 1811,-173.5 1811,-167.5 1811,-167.5 1811,-123.5 1811,-123.5 1811,-117.5 1817,-111.5 1823,-111.5 1823,-111.5 1894,-111.5 1894,-111.5 1900,-111.5 1906,-117.5 1906,-123.5 1906,-123.5 1906,-167.5 1906,-167.5 1906,-173.5 1900,-179.5 1894,-179.5\"/>\n<text text-anchor=\"middle\" x=\"1858.5\" y=\"-164.3\" font-family=\"Helvetica,sans-Serif\" font-size=\"14.00\">gini = 0.0</text>\n<text text-anchor=\"middle\" x=\"1858.5\" y=\"-149.3\" font-family=\"Helvetica,sans-Serif\" font-size=\"14.00\">samples = 1</text>\n<text text-anchor=\"middle\" x=\"1858.5\" y=\"-134.3\" font-family=\"Helvetica,sans-Serif\" font-size=\"14.00\">value = [0, 1]</text>\n<text text-anchor=\"middle\" x=\"1858.5\" y=\"-119.3\" font-family=\"Helvetica,sans-Serif\" font-size=\"14.00\">class = sim</text>\n</g>\n<!-- 62&#45;&gt;64 -->\n<g id=\"edge64\" class=\"edge\">\n<title>62&#45;&gt;64</title>\n<path fill=\"none\" stroke=\"black\" d=\"M1858.5,-222.91C1858.5,-212.2 1858.5,-200.62 1858.5,-189.78\"/>\n<polygon fill=\"black\" stroke=\"black\" points=\"1862,-189.67 1858.5,-179.67 1855,-189.67 1862,-189.67\"/>\n</g>\n<!-- 66 -->\n<g id=\"node67\" class=\"node\">\n<title>66</title>\n<path fill=\"#399de5\" stroke=\"black\" d=\"M2014.5,-179.5C2014.5,-179.5 1936.5,-179.5 1936.5,-179.5 1930.5,-179.5 1924.5,-173.5 1924.5,-167.5 1924.5,-167.5 1924.5,-123.5 1924.5,-123.5 1924.5,-117.5 1930.5,-111.5 1936.5,-111.5 1936.5,-111.5 2014.5,-111.5 2014.5,-111.5 2020.5,-111.5 2026.5,-117.5 2026.5,-123.5 2026.5,-123.5 2026.5,-167.5 2026.5,-167.5 2026.5,-173.5 2020.5,-179.5 2014.5,-179.5\"/>\n<text text-anchor=\"middle\" x=\"1975.5\" y=\"-164.3\" font-family=\"Helvetica,sans-Serif\" font-size=\"14.00\">gini = 0.0</text>\n<text text-anchor=\"middle\" x=\"1975.5\" y=\"-149.3\" font-family=\"Helvetica,sans-Serif\" font-size=\"14.00\">samples = 30</text>\n<text text-anchor=\"middle\" x=\"1975.5\" y=\"-134.3\" font-family=\"Helvetica,sans-Serif\" font-size=\"14.00\">value = [0, 30]</text>\n<text text-anchor=\"middle\" x=\"1975.5\" y=\"-119.3\" font-family=\"Helvetica,sans-Serif\" font-size=\"14.00\">class = sim</text>\n</g>\n<!-- 65&#45;&gt;66 -->\n<g id=\"edge66\" class=\"edge\">\n<title>65&#45;&gt;66</title>\n<path fill=\"none\" stroke=\"black\" d=\"M2047.34,-222.91C2036.44,-211.32 2024.57,-198.7 2013.68,-187.11\"/>\n<polygon fill=\"black\" stroke=\"black\" points=\"2016.08,-184.56 2006.68,-179.67 2010.98,-189.35 2016.08,-184.56\"/>\n</g>\n<!-- 67 -->\n<g id=\"node68\" class=\"node\">\n<title>67</title>\n<path fill=\"#53aae8\" stroke=\"black\" d=\"M2212.5,-187C2212.5,-187 2056.5,-187 2056.5,-187 2050.5,-187 2044.5,-181 2044.5,-175 2044.5,-175 2044.5,-116 2044.5,-116 2044.5,-110 2050.5,-104 2056.5,-104 2056.5,-104 2212.5,-104 2212.5,-104 2218.5,-104 2224.5,-110 2224.5,-116 2224.5,-116 2224.5,-175 2224.5,-175 2224.5,-181 2218.5,-187 2212.5,-187\"/>\n<text text-anchor=\"middle\" x=\"2134.5\" y=\"-171.8\" font-family=\"Helvetica,sans-Serif\" font-size=\"14.00\">km_por_ano &lt;= 35093.268</text>\n<text text-anchor=\"middle\" x=\"2134.5\" y=\"-156.8\" font-family=\"Helvetica,sans-Serif\" font-size=\"14.00\">gini = 0.208</text>\n<text text-anchor=\"middle\" x=\"2134.5\" y=\"-141.8\" font-family=\"Helvetica,sans-Serif\" font-size=\"14.00\">samples = 17</text>\n<text text-anchor=\"middle\" x=\"2134.5\" y=\"-126.8\" font-family=\"Helvetica,sans-Serif\" font-size=\"14.00\">value = [2, 15]</text>\n<text text-anchor=\"middle\" x=\"2134.5\" y=\"-111.8\" font-family=\"Helvetica,sans-Serif\" font-size=\"14.00\">class = sim</text>\n</g>\n<!-- 65&#45;&gt;67 -->\n<g id=\"edge67\" class=\"edge\">\n<title>65&#45;&gt;67</title>\n<path fill=\"none\" stroke=\"black\" d=\"M2102.5,-222.91C2106.07,-214.38 2109.88,-205.28 2113.58,-196.46\"/>\n<polygon fill=\"black\" stroke=\"black\" points=\"2116.9,-197.6 2117.53,-187.02 2110.44,-194.89 2116.9,-197.6\"/>\n</g>\n<!-- 68 -->\n<g id=\"node69\" class=\"node\">\n<title>68</title>\n<path fill=\"#e58139\" stroke=\"black\" d=\"M2112,-68C2112,-68 2041,-68 2041,-68 2035,-68 2029,-62 2029,-56 2029,-56 2029,-12 2029,-12 2029,-6 2035,0 2041,0 2041,0 2112,0 2112,0 2118,0 2124,-6 2124,-12 2124,-12 2124,-56 2124,-56 2124,-62 2118,-68 2112,-68\"/>\n<text text-anchor=\"middle\" x=\"2076.5\" y=\"-52.8\" font-family=\"Helvetica,sans-Serif\" font-size=\"14.00\">gini = 0.0</text>\n<text text-anchor=\"middle\" x=\"2076.5\" y=\"-37.8\" font-family=\"Helvetica,sans-Serif\" font-size=\"14.00\">samples = 1</text>\n<text text-anchor=\"middle\" x=\"2076.5\" y=\"-22.8\" font-family=\"Helvetica,sans-Serif\" font-size=\"14.00\">value = [1, 0]</text>\n<text text-anchor=\"middle\" x=\"2076.5\" y=\"-7.8\" font-family=\"Helvetica,sans-Serif\" font-size=\"14.00\">class = nao</text>\n</g>\n<!-- 67&#45;&gt;68 -->\n<g id=\"edge68\" class=\"edge\">\n<title>67&#45;&gt;68</title>\n<path fill=\"none\" stroke=\"black\" d=\"M2112.9,-103.73C2108.31,-95.06 2103.46,-85.9 2098.84,-77.18\"/>\n<polygon fill=\"black\" stroke=\"black\" points=\"2101.91,-75.5 2094.14,-68.3 2095.73,-78.77 2101.91,-75.5\"/>\n</g>\n<!-- 69 -->\n<g id=\"node70\" class=\"node\">\n<title>69</title>\n<path fill=\"#46a4e7\" stroke=\"black\" d=\"M2232.5,-68C2232.5,-68 2154.5,-68 2154.5,-68 2148.5,-68 2142.5,-62 2142.5,-56 2142.5,-56 2142.5,-12 2142.5,-12 2142.5,-6 2148.5,0 2154.5,0 2154.5,0 2232.5,0 2232.5,0 2238.5,0 2244.5,-6 2244.5,-12 2244.5,-12 2244.5,-56 2244.5,-56 2244.5,-62 2238.5,-68 2232.5,-68\"/>\n<text text-anchor=\"middle\" x=\"2193.5\" y=\"-52.8\" font-family=\"Helvetica,sans-Serif\" font-size=\"14.00\">gini = 0.117</text>\n<text text-anchor=\"middle\" x=\"2193.5\" y=\"-37.8\" font-family=\"Helvetica,sans-Serif\" font-size=\"14.00\">samples = 16</text>\n<text text-anchor=\"middle\" x=\"2193.5\" y=\"-22.8\" font-family=\"Helvetica,sans-Serif\" font-size=\"14.00\">value = [1, 15]</text>\n<text text-anchor=\"middle\" x=\"2193.5\" y=\"-7.8\" font-family=\"Helvetica,sans-Serif\" font-size=\"14.00\">class = sim</text>\n</g>\n<!-- 67&#45;&gt;69 -->\n<g id=\"edge69\" class=\"edge\">\n<title>67&#45;&gt;69</title>\n<path fill=\"none\" stroke=\"black\" d=\"M2156.47,-103.73C2161.14,-95.06 2166.08,-85.9 2170.77,-77.18\"/>\n<polygon fill=\"black\" stroke=\"black\" points=\"2173.9,-78.76 2175.56,-68.3 2167.73,-75.44 2173.9,-78.76\"/>\n</g>\n<!-- 71 -->\n<g id=\"node72\" class=\"node\">\n<title>71</title>\n<path fill=\"#4ea8e8\" stroke=\"black\" d=\"M2531,-425C2531,-425 2432,-425 2432,-425 2426,-425 2420,-419 2420,-413 2420,-413 2420,-354 2420,-354 2420,-348 2426,-342 2432,-342 2432,-342 2531,-342 2531,-342 2537,-342 2543,-348 2543,-354 2543,-354 2543,-413 2543,-413 2543,-419 2537,-425 2531,-425\"/>\n<text text-anchor=\"middle\" x=\"2481.5\" y=\"-409.8\" font-family=\"Helvetica,sans-Serif\" font-size=\"14.00\">preco &lt;= 41315.1</text>\n<text text-anchor=\"middle\" x=\"2481.5\" y=\"-394.8\" font-family=\"Helvetica,sans-Serif\" font-size=\"14.00\">gini = 0.176</text>\n<text text-anchor=\"middle\" x=\"2481.5\" y=\"-379.8\" font-family=\"Helvetica,sans-Serif\" font-size=\"14.00\">samples = 185</text>\n<text text-anchor=\"middle\" x=\"2481.5\" y=\"-364.8\" font-family=\"Helvetica,sans-Serif\" font-size=\"14.00\">value = [18, 167]</text>\n<text text-anchor=\"middle\" x=\"2481.5\" y=\"-349.8\" font-family=\"Helvetica,sans-Serif\" font-size=\"14.00\">class = sim</text>\n</g>\n<!-- 70&#45;&gt;71 -->\n<g id=\"edge71\" class=\"edge\">\n<title>70&#45;&gt;71</title>\n<path fill=\"none\" stroke=\"black\" d=\"M2481.5,-460.91C2481.5,-452.65 2481.5,-443.86 2481.5,-435.3\"/>\n<polygon fill=\"black\" stroke=\"black\" points=\"2485,-435.02 2481.5,-425.02 2478,-435.02 2485,-435.02\"/>\n</g>\n<!-- 82 -->\n<g id=\"node83\" class=\"node\">\n<title>82</title>\n<path fill=\"#67b4eb\" stroke=\"black\" d=\"M3048.5,-425C3048.5,-425 2934.5,-425 2934.5,-425 2928.5,-425 2922.5,-419 2922.5,-413 2922.5,-413 2922.5,-354 2922.5,-354 2922.5,-348 2928.5,-342 2934.5,-342 2934.5,-342 3048.5,-342 3048.5,-342 3054.5,-342 3060.5,-348 3060.5,-354 3060.5,-354 3060.5,-413 3060.5,-413 3060.5,-419 3054.5,-425 3048.5,-425\"/>\n<text text-anchor=\"middle\" x=\"2991.5\" y=\"-409.8\" font-family=\"Helvetica,sans-Serif\" font-size=\"14.00\">preco &lt;= 56654.145</text>\n<text text-anchor=\"middle\" x=\"2991.5\" y=\"-394.8\" font-family=\"Helvetica,sans-Serif\" font-size=\"14.00\">gini = 0.306</text>\n<text text-anchor=\"middle\" x=\"2991.5\" y=\"-379.8\" font-family=\"Helvetica,sans-Serif\" font-size=\"14.00\">samples = 228</text>\n<text text-anchor=\"middle\" x=\"2991.5\" y=\"-364.8\" font-family=\"Helvetica,sans-Serif\" font-size=\"14.00\">value = [43, 185]</text>\n<text text-anchor=\"middle\" x=\"2991.5\" y=\"-349.8\" font-family=\"Helvetica,sans-Serif\" font-size=\"14.00\">class = sim</text>\n</g>\n<!-- 70&#45;&gt;82 -->\n<g id=\"edge82\" class=\"edge\">\n<title>70&#45;&gt;82</title>\n<path fill=\"none\" stroke=\"black\" d=\"M2569.17,-481.39C2665.62,-459.26 2819.25,-424.02 2912.22,-402.69\"/>\n<polygon fill=\"black\" stroke=\"black\" points=\"2913.17,-406.06 2922.14,-400.41 2911.61,-399.24 2913.17,-406.06\"/>\n</g>\n<!-- 72 -->\n<g id=\"node73\" class=\"node\">\n<title>72</title>\n<path fill=\"#ffffff\" stroke=\"black\" d=\"M2448,-306C2448,-306 2341,-306 2341,-306 2335,-306 2329,-300 2329,-294 2329,-294 2329,-235 2329,-235 2329,-229 2335,-223 2341,-223 2341,-223 2448,-223 2448,-223 2454,-223 2460,-229 2460,-235 2460,-235 2460,-294 2460,-294 2460,-300 2454,-306 2448,-306\"/>\n<text text-anchor=\"middle\" x=\"2394.5\" y=\"-290.8\" font-family=\"Helvetica,sans-Serif\" font-size=\"14.00\">preco &lt;= 41137.85</text>\n<text text-anchor=\"middle\" x=\"2394.5\" y=\"-275.8\" font-family=\"Helvetica,sans-Serif\" font-size=\"14.00\">gini = 0.5</text>\n<text text-anchor=\"middle\" x=\"2394.5\" y=\"-260.8\" font-family=\"Helvetica,sans-Serif\" font-size=\"14.00\">samples = 4</text>\n<text text-anchor=\"middle\" x=\"2394.5\" y=\"-245.8\" font-family=\"Helvetica,sans-Serif\" font-size=\"14.00\">value = [2, 2]</text>\n<text text-anchor=\"middle\" x=\"2394.5\" y=\"-230.8\" font-family=\"Helvetica,sans-Serif\" font-size=\"14.00\">class = nao</text>\n</g>\n<!-- 71&#45;&gt;72 -->\n<g id=\"edge72\" class=\"edge\">\n<title>71&#45;&gt;72</title>\n<path fill=\"none\" stroke=\"black\" d=\"M2451.32,-341.91C2444.64,-332.92 2437.49,-323.32 2430.6,-314.05\"/>\n<polygon fill=\"black\" stroke=\"black\" points=\"2433.41,-311.96 2424.63,-306.02 2427.79,-316.13 2433.41,-311.96\"/>\n</g>\n<!-- 75 -->\n<g id=\"node76\" class=\"node\">\n<title>75</title>\n<path fill=\"#4ca7e8\" stroke=\"black\" d=\"M2646.5,-306C2646.5,-306 2490.5,-306 2490.5,-306 2484.5,-306 2478.5,-300 2478.5,-294 2478.5,-294 2478.5,-235 2478.5,-235 2478.5,-229 2484.5,-223 2490.5,-223 2490.5,-223 2646.5,-223 2646.5,-223 2652.5,-223 2658.5,-229 2658.5,-235 2658.5,-235 2658.5,-294 2658.5,-294 2658.5,-300 2652.5,-306 2646.5,-306\"/>\n<text text-anchor=\"middle\" x=\"2568.5\" y=\"-290.8\" font-family=\"Helvetica,sans-Serif\" font-size=\"14.00\">km_por_ano &lt;= 34531.607</text>\n<text text-anchor=\"middle\" x=\"2568.5\" y=\"-275.8\" font-family=\"Helvetica,sans-Serif\" font-size=\"14.00\">gini = 0.161</text>\n<text text-anchor=\"middle\" x=\"2568.5\" y=\"-260.8\" font-family=\"Helvetica,sans-Serif\" font-size=\"14.00\">samples = 181</text>\n<text text-anchor=\"middle\" x=\"2568.5\" y=\"-245.8\" font-family=\"Helvetica,sans-Serif\" font-size=\"14.00\">value = [16, 165]</text>\n<text text-anchor=\"middle\" x=\"2568.5\" y=\"-230.8\" font-family=\"Helvetica,sans-Serif\" font-size=\"14.00\">class = sim</text>\n</g>\n<!-- 71&#45;&gt;75 -->\n<g id=\"edge75\" class=\"edge\">\n<title>71&#45;&gt;75</title>\n<path fill=\"none\" stroke=\"black\" d=\"M2511.68,-341.91C2518.36,-332.92 2525.51,-323.32 2532.4,-314.05\"/>\n<polygon fill=\"black\" stroke=\"black\" points=\"2535.21,-316.13 2538.37,-306.02 2529.59,-311.96 2535.21,-316.13\"/>\n</g>\n<!-- 73 -->\n<g id=\"node74\" class=\"node\">\n<title>73</title>\n<path fill=\"#399de5\" stroke=\"black\" d=\"M2326,-179.5C2326,-179.5 2255,-179.5 2255,-179.5 2249,-179.5 2243,-173.5 2243,-167.5 2243,-167.5 2243,-123.5 2243,-123.5 2243,-117.5 2249,-111.5 2255,-111.5 2255,-111.5 2326,-111.5 2326,-111.5 2332,-111.5 2338,-117.5 2338,-123.5 2338,-123.5 2338,-167.5 2338,-167.5 2338,-173.5 2332,-179.5 2326,-179.5\"/>\n<text text-anchor=\"middle\" x=\"2290.5\" y=\"-164.3\" font-family=\"Helvetica,sans-Serif\" font-size=\"14.00\">gini = 0.0</text>\n<text text-anchor=\"middle\" x=\"2290.5\" y=\"-149.3\" font-family=\"Helvetica,sans-Serif\" font-size=\"14.00\">samples = 2</text>\n<text text-anchor=\"middle\" x=\"2290.5\" y=\"-134.3\" font-family=\"Helvetica,sans-Serif\" font-size=\"14.00\">value = [0, 2]</text>\n<text text-anchor=\"middle\" x=\"2290.5\" y=\"-119.3\" font-family=\"Helvetica,sans-Serif\" font-size=\"14.00\">class = sim</text>\n</g>\n<!-- 72&#45;&gt;73 -->\n<g id=\"edge73\" class=\"edge\">\n<title>72&#45;&gt;73</title>\n<path fill=\"none\" stroke=\"black\" d=\"M2358.42,-222.91C2348.22,-211.43 2337.11,-198.94 2326.89,-187.44\"/>\n<polygon fill=\"black\" stroke=\"black\" points=\"2329.24,-184.82 2319.98,-179.67 2324.01,-189.47 2329.24,-184.82\"/>\n</g>\n<!-- 74 -->\n<g id=\"node75\" class=\"node\">\n<title>74</title>\n<path fill=\"#e58139\" stroke=\"black\" d=\"M2439,-179.5C2439,-179.5 2368,-179.5 2368,-179.5 2362,-179.5 2356,-173.5 2356,-167.5 2356,-167.5 2356,-123.5 2356,-123.5 2356,-117.5 2362,-111.5 2368,-111.5 2368,-111.5 2439,-111.5 2439,-111.5 2445,-111.5 2451,-117.5 2451,-123.5 2451,-123.5 2451,-167.5 2451,-167.5 2451,-173.5 2445,-179.5 2439,-179.5\"/>\n<text text-anchor=\"middle\" x=\"2403.5\" y=\"-164.3\" font-family=\"Helvetica,sans-Serif\" font-size=\"14.00\">gini = 0.0</text>\n<text text-anchor=\"middle\" x=\"2403.5\" y=\"-149.3\" font-family=\"Helvetica,sans-Serif\" font-size=\"14.00\">samples = 2</text>\n<text text-anchor=\"middle\" x=\"2403.5\" y=\"-134.3\" font-family=\"Helvetica,sans-Serif\" font-size=\"14.00\">value = [2, 0]</text>\n<text text-anchor=\"middle\" x=\"2403.5\" y=\"-119.3\" font-family=\"Helvetica,sans-Serif\" font-size=\"14.00\">class = nao</text>\n</g>\n<!-- 72&#45;&gt;74 -->\n<g id=\"edge74\" class=\"edge\">\n<title>72&#45;&gt;74</title>\n<path fill=\"none\" stroke=\"black\" d=\"M2397.62,-222.91C2398.45,-212.2 2399.34,-200.62 2400.17,-189.78\"/>\n<polygon fill=\"black\" stroke=\"black\" points=\"2403.67,-189.91 2400.95,-179.67 2396.69,-189.37 2403.67,-189.91\"/>\n</g>\n<!-- 76 -->\n<g id=\"node77\" class=\"node\">\n<title>76</title>\n<path fill=\"#4aa6e7\" stroke=\"black\" d=\"M2637.5,-187C2637.5,-187 2481.5,-187 2481.5,-187 2475.5,-187 2469.5,-181 2469.5,-175 2469.5,-175 2469.5,-116 2469.5,-116 2469.5,-110 2475.5,-104 2481.5,-104 2481.5,-104 2637.5,-104 2637.5,-104 2643.5,-104 2649.5,-110 2649.5,-116 2649.5,-116 2649.5,-175 2649.5,-175 2649.5,-181 2643.5,-187 2637.5,-187\"/>\n<text text-anchor=\"middle\" x=\"2559.5\" y=\"-171.8\" font-family=\"Helvetica,sans-Serif\" font-size=\"14.00\">km_por_ano &lt;= 19369.211</text>\n<text text-anchor=\"middle\" x=\"2559.5\" y=\"-156.8\" font-family=\"Helvetica,sans-Serif\" font-size=\"14.00\">gini = 0.147</text>\n<text text-anchor=\"middle\" x=\"2559.5\" y=\"-141.8\" font-family=\"Helvetica,sans-Serif\" font-size=\"14.00\">samples = 175</text>\n<text text-anchor=\"middle\" x=\"2559.5\" y=\"-126.8\" font-family=\"Helvetica,sans-Serif\" font-size=\"14.00\">value = [14, 161]</text>\n<text text-anchor=\"middle\" x=\"2559.5\" y=\"-111.8\" font-family=\"Helvetica,sans-Serif\" font-size=\"14.00\">class = sim</text>\n</g>\n<!-- 75&#45;&gt;76 -->\n<g id=\"edge76\" class=\"edge\">\n<title>75&#45;&gt;76</title>\n<path fill=\"none\" stroke=\"black\" d=\"M2565.38,-222.91C2564.74,-214.56 2564.05,-205.67 2563.39,-197.02\"/>\n<polygon fill=\"black\" stroke=\"black\" points=\"2566.87,-196.72 2562.62,-187.02 2559.89,-197.26 2566.87,-196.72\"/>\n</g>\n<!-- 79 -->\n<g id=\"node80\" class=\"node\">\n<title>79</title>\n<path fill=\"#9ccef2\" stroke=\"black\" d=\"M2793.5,-187C2793.5,-187 2679.5,-187 2679.5,-187 2673.5,-187 2667.5,-181 2667.5,-175 2667.5,-175 2667.5,-116 2667.5,-116 2667.5,-110 2673.5,-104 2679.5,-104 2679.5,-104 2793.5,-104 2793.5,-104 2799.5,-104 2805.5,-110 2805.5,-116 2805.5,-116 2805.5,-175 2805.5,-175 2805.5,-181 2799.5,-187 2793.5,-187\"/>\n<text text-anchor=\"middle\" x=\"2736.5\" y=\"-171.8\" font-family=\"Helvetica,sans-Serif\" font-size=\"14.00\">preco &lt;= 57649.756</text>\n<text text-anchor=\"middle\" x=\"2736.5\" y=\"-156.8\" font-family=\"Helvetica,sans-Serif\" font-size=\"14.00\">gini = 0.444</text>\n<text text-anchor=\"middle\" x=\"2736.5\" y=\"-141.8\" font-family=\"Helvetica,sans-Serif\" font-size=\"14.00\">samples = 6</text>\n<text text-anchor=\"middle\" x=\"2736.5\" y=\"-126.8\" font-family=\"Helvetica,sans-Serif\" font-size=\"14.00\">value = [2, 4]</text>\n<text text-anchor=\"middle\" x=\"2736.5\" y=\"-111.8\" font-family=\"Helvetica,sans-Serif\" font-size=\"14.00\">class = sim</text>\n</g>\n<!-- 75&#45;&gt;79 -->\n<g id=\"edge79\" class=\"edge\">\n<title>75&#45;&gt;79</title>\n<path fill=\"none\" stroke=\"black\" d=\"M2626.79,-222.91C2640.73,-213.2 2655.72,-202.76 2670,-192.81\"/>\n<polygon fill=\"black\" stroke=\"black\" points=\"2672.11,-195.61 2678.32,-187.02 2668.11,-189.86 2672.11,-195.61\"/>\n</g>\n<!-- 77 -->\n<g id=\"node78\" class=\"node\">\n<title>77</title>\n<path fill=\"#5aade9\" stroke=\"black\" d=\"M2475.5,-68C2475.5,-68 2389.5,-68 2389.5,-68 2383.5,-68 2377.5,-62 2377.5,-56 2377.5,-56 2377.5,-12 2377.5,-12 2377.5,-6 2383.5,0 2389.5,0 2389.5,0 2475.5,0 2475.5,0 2481.5,0 2487.5,-6 2487.5,-12 2487.5,-12 2487.5,-56 2487.5,-56 2487.5,-62 2481.5,-68 2475.5,-68\"/>\n<text text-anchor=\"middle\" x=\"2432.5\" y=\"-52.8\" font-family=\"Helvetica,sans-Serif\" font-size=\"14.00\">gini = 0.245</text>\n<text text-anchor=\"middle\" x=\"2432.5\" y=\"-37.8\" font-family=\"Helvetica,sans-Serif\" font-size=\"14.00\">samples = 70</text>\n<text text-anchor=\"middle\" x=\"2432.5\" y=\"-22.8\" font-family=\"Helvetica,sans-Serif\" font-size=\"14.00\">value = [10, 60]</text>\n<text text-anchor=\"middle\" x=\"2432.5\" y=\"-7.8\" font-family=\"Helvetica,sans-Serif\" font-size=\"14.00\">class = sim</text>\n</g>\n<!-- 76&#45;&gt;77 -->\n<g id=\"edge77\" class=\"edge\">\n<title>76&#45;&gt;77</title>\n<path fill=\"none\" stroke=\"black\" d=\"M2512.21,-103.73C2501.31,-94.33 2489.74,-84.35 2478.88,-74.99\"/>\n<polygon fill=\"black\" stroke=\"black\" points=\"2480.98,-72.18 2471.12,-68.3 2476.41,-77.48 2480.98,-72.18\"/>\n</g>\n<!-- 78 -->\n<g id=\"node79\" class=\"node\">\n<title>78</title>\n<path fill=\"#41a1e6\" stroke=\"black\" d=\"M2603.5,-68C2603.5,-68 2517.5,-68 2517.5,-68 2511.5,-68 2505.5,-62 2505.5,-56 2505.5,-56 2505.5,-12 2505.5,-12 2505.5,-6 2511.5,0 2517.5,0 2517.5,0 2603.5,0 2603.5,0 2609.5,0 2615.5,-6 2615.5,-12 2615.5,-12 2615.5,-56 2615.5,-56 2615.5,-62 2609.5,-68 2603.5,-68\"/>\n<text text-anchor=\"middle\" x=\"2560.5\" y=\"-52.8\" font-family=\"Helvetica,sans-Serif\" font-size=\"14.00\">gini = 0.073</text>\n<text text-anchor=\"middle\" x=\"2560.5\" y=\"-37.8\" font-family=\"Helvetica,sans-Serif\" font-size=\"14.00\">samples = 105</text>\n<text text-anchor=\"middle\" x=\"2560.5\" y=\"-22.8\" font-family=\"Helvetica,sans-Serif\" font-size=\"14.00\">value = [4, 101]</text>\n<text text-anchor=\"middle\" x=\"2560.5\" y=\"-7.8\" font-family=\"Helvetica,sans-Serif\" font-size=\"14.00\">class = sim</text>\n</g>\n<!-- 76&#45;&gt;78 -->\n<g id=\"edge78\" class=\"edge\">\n<title>76&#45;&gt;78</title>\n<path fill=\"none\" stroke=\"black\" d=\"M2559.87,-103.73C2559.95,-95.52 2560.03,-86.86 2560.1,-78.56\"/>\n<polygon fill=\"black\" stroke=\"black\" points=\"2563.6,-78.33 2560.2,-68.3 2556.6,-78.27 2563.6,-78.33\"/>\n</g>\n<!-- 80 -->\n<g id=\"node81\" class=\"node\">\n<title>80</title>\n<path fill=\"#6ab6ec\" stroke=\"black\" d=\"M2719,-68C2719,-68 2648,-68 2648,-68 2642,-68 2636,-62 2636,-56 2636,-56 2636,-12 2636,-12 2636,-6 2642,0 2648,0 2648,0 2719,0 2719,0 2725,0 2731,-6 2731,-12 2731,-12 2731,-56 2731,-56 2731,-62 2725,-68 2719,-68\"/>\n<text text-anchor=\"middle\" x=\"2683.5\" y=\"-52.8\" font-family=\"Helvetica,sans-Serif\" font-size=\"14.00\">gini = 0.32</text>\n<text text-anchor=\"middle\" x=\"2683.5\" y=\"-37.8\" font-family=\"Helvetica,sans-Serif\" font-size=\"14.00\">samples = 5</text>\n<text text-anchor=\"middle\" x=\"2683.5\" y=\"-22.8\" font-family=\"Helvetica,sans-Serif\" font-size=\"14.00\">value = [1, 4]</text>\n<text text-anchor=\"middle\" x=\"2683.5\" y=\"-7.8\" font-family=\"Helvetica,sans-Serif\" font-size=\"14.00\">class = sim</text>\n</g>\n<!-- 79&#45;&gt;80 -->\n<g id=\"edge80\" class=\"edge\">\n<title>79&#45;&gt;80</title>\n<path fill=\"none\" stroke=\"black\" d=\"M2716.76,-103.73C2712.61,-95.15 2708.23,-86.09 2704.05,-77.46\"/>\n<polygon fill=\"black\" stroke=\"black\" points=\"2707.12,-75.78 2699.62,-68.3 2700.82,-78.83 2707.12,-75.78\"/>\n</g>\n<!-- 81 -->\n<g id=\"node82\" class=\"node\">\n<title>81</title>\n<path fill=\"#e58139\" stroke=\"black\" d=\"M2832,-68C2832,-68 2761,-68 2761,-68 2755,-68 2749,-62 2749,-56 2749,-56 2749,-12 2749,-12 2749,-6 2755,0 2761,0 2761,0 2832,0 2832,0 2838,0 2844,-6 2844,-12 2844,-12 2844,-56 2844,-56 2844,-62 2838,-68 2832,-68\"/>\n<text text-anchor=\"middle\" x=\"2796.5\" y=\"-52.8\" font-family=\"Helvetica,sans-Serif\" font-size=\"14.00\">gini = 0.0</text>\n<text text-anchor=\"middle\" x=\"2796.5\" y=\"-37.8\" font-family=\"Helvetica,sans-Serif\" font-size=\"14.00\">samples = 1</text>\n<text text-anchor=\"middle\" x=\"2796.5\" y=\"-22.8\" font-family=\"Helvetica,sans-Serif\" font-size=\"14.00\">value = [1, 0]</text>\n<text text-anchor=\"middle\" x=\"2796.5\" y=\"-7.8\" font-family=\"Helvetica,sans-Serif\" font-size=\"14.00\">class = nao</text>\n</g>\n<!-- 79&#45;&gt;81 -->\n<g id=\"edge81\" class=\"edge\">\n<title>79&#45;&gt;81</title>\n<path fill=\"none\" stroke=\"black\" d=\"M2758.84,-103.73C2763.59,-95.06 2768.61,-85.9 2773.39,-77.18\"/>\n<polygon fill=\"black\" stroke=\"black\" points=\"2776.52,-78.75 2778.25,-68.3 2770.38,-75.39 2776.52,-78.75\"/>\n</g>\n<!-- 83 -->\n<g id=\"node84\" class=\"node\">\n<title>83</title>\n<path fill=\"#6db7ec\" stroke=\"black\" d=\"M3045,-306C3045,-306 2938,-306 2938,-306 2932,-306 2926,-300 2926,-294 2926,-294 2926,-235 2926,-235 2926,-229 2932,-223 2938,-223 2938,-223 3045,-223 3045,-223 3051,-223 3057,-229 3057,-235 3057,-235 3057,-294 3057,-294 3057,-300 3051,-306 3045,-306\"/>\n<text text-anchor=\"middle\" x=\"2991.5\" y=\"-290.8\" font-family=\"Helvetica,sans-Serif\" font-size=\"14.00\">preco &lt;= 56435.16</text>\n<text text-anchor=\"middle\" x=\"2991.5\" y=\"-275.8\" font-family=\"Helvetica,sans-Serif\" font-size=\"14.00\">gini = 0.331</text>\n<text text-anchor=\"middle\" x=\"2991.5\" y=\"-260.8\" font-family=\"Helvetica,sans-Serif\" font-size=\"14.00\">samples = 191</text>\n<text text-anchor=\"middle\" x=\"2991.5\" y=\"-245.8\" font-family=\"Helvetica,sans-Serif\" font-size=\"14.00\">value = [40, 151]</text>\n<text text-anchor=\"middle\" x=\"2991.5\" y=\"-230.8\" font-family=\"Helvetica,sans-Serif\" font-size=\"14.00\">class = sim</text>\n</g>\n<!-- 82&#45;&gt;83 -->\n<g id=\"edge83\" class=\"edge\">\n<title>82&#45;&gt;83</title>\n<path fill=\"none\" stroke=\"black\" d=\"M2991.5,-341.91C2991.5,-333.65 2991.5,-324.86 2991.5,-316.3\"/>\n<polygon fill=\"black\" stroke=\"black\" points=\"2995,-316.02 2991.5,-306.02 2988,-316.02 2995,-316.02\"/>\n</g>\n<!-- 88 -->\n<g id=\"node89\" class=\"node\">\n<title>88</title>\n<path fill=\"#4aa6e7\" stroke=\"black\" d=\"M3279,-306C3279,-306 3172,-306 3172,-306 3166,-306 3160,-300 3160,-294 3160,-294 3160,-235 3160,-235 3160,-229 3166,-223 3172,-223 3172,-223 3279,-223 3279,-223 3285,-223 3291,-229 3291,-235 3291,-235 3291,-294 3291,-294 3291,-300 3285,-306 3279,-306\"/>\n<text text-anchor=\"middle\" x=\"3225.5\" y=\"-290.8\" font-family=\"Helvetica,sans-Serif\" font-size=\"14.00\">preco &lt;= 59863.24</text>\n<text text-anchor=\"middle\" x=\"3225.5\" y=\"-275.8\" font-family=\"Helvetica,sans-Serif\" font-size=\"14.00\">gini = 0.149</text>\n<text text-anchor=\"middle\" x=\"3225.5\" y=\"-260.8\" font-family=\"Helvetica,sans-Serif\" font-size=\"14.00\">samples = 37</text>\n<text text-anchor=\"middle\" x=\"3225.5\" y=\"-245.8\" font-family=\"Helvetica,sans-Serif\" font-size=\"14.00\">value = [3, 34]</text>\n<text text-anchor=\"middle\" x=\"3225.5\" y=\"-230.8\" font-family=\"Helvetica,sans-Serif\" font-size=\"14.00\">class = sim</text>\n</g>\n<!-- 82&#45;&gt;88 -->\n<g id=\"edge88\" class=\"edge\">\n<title>82&#45;&gt;88</title>\n<path fill=\"none\" stroke=\"black\" d=\"M3060.76,-347.87C3088.97,-333.76 3121.65,-317.42 3150.44,-303.03\"/>\n<polygon fill=\"black\" stroke=\"black\" points=\"3152.25,-306.04 3159.63,-298.43 3149.12,-299.78 3152.25,-306.04\"/>\n</g>\n<!-- 84 -->\n<g id=\"node85\" class=\"node\">\n<title>84</title>\n<path fill=\"#6bb6ec\" stroke=\"black\" d=\"M2991.5,-187C2991.5,-187 2835.5,-187 2835.5,-187 2829.5,-187 2823.5,-181 2823.5,-175 2823.5,-175 2823.5,-116 2823.5,-116 2823.5,-110 2829.5,-104 2835.5,-104 2835.5,-104 2991.5,-104 2991.5,-104 2997.5,-104 3003.5,-110 3003.5,-116 3003.5,-116 3003.5,-175 3003.5,-175 3003.5,-181 2997.5,-187 2991.5,-187\"/>\n<text text-anchor=\"middle\" x=\"2913.5\" y=\"-171.8\" font-family=\"Helvetica,sans-Serif\" font-size=\"14.00\">km_por_ano &lt;= 11729.675</text>\n<text text-anchor=\"middle\" x=\"2913.5\" y=\"-156.8\" font-family=\"Helvetica,sans-Serif\" font-size=\"14.00\">gini = 0.321</text>\n<text text-anchor=\"middle\" x=\"2913.5\" y=\"-141.8\" font-family=\"Helvetica,sans-Serif\" font-size=\"14.00\">samples = 189</text>\n<text text-anchor=\"middle\" x=\"2913.5\" y=\"-126.8\" font-family=\"Helvetica,sans-Serif\" font-size=\"14.00\">value = [38, 151]</text>\n<text text-anchor=\"middle\" x=\"2913.5\" y=\"-111.8\" font-family=\"Helvetica,sans-Serif\" font-size=\"14.00\">class = sim</text>\n</g>\n<!-- 83&#45;&gt;84 -->\n<g id=\"edge84\" class=\"edge\">\n<title>83&#45;&gt;84</title>\n<path fill=\"none\" stroke=\"black\" d=\"M2964.44,-222.91C2958.57,-214.1 2952.3,-204.7 2946.24,-195.61\"/>\n<polygon fill=\"black\" stroke=\"black\" points=\"2948.97,-193.4 2940.51,-187.02 2943.15,-197.28 2948.97,-193.4\"/>\n</g>\n<!-- 87 -->\n<g id=\"node88\" class=\"node\">\n<title>87</title>\n<path fill=\"#e58139\" stroke=\"black\" d=\"M3105,-179.5C3105,-179.5 3034,-179.5 3034,-179.5 3028,-179.5 3022,-173.5 3022,-167.5 3022,-167.5 3022,-123.5 3022,-123.5 3022,-117.5 3028,-111.5 3034,-111.5 3034,-111.5 3105,-111.5 3105,-111.5 3111,-111.5 3117,-117.5 3117,-123.5 3117,-123.5 3117,-167.5 3117,-167.5 3117,-173.5 3111,-179.5 3105,-179.5\"/>\n<text text-anchor=\"middle\" x=\"3069.5\" y=\"-164.3\" font-family=\"Helvetica,sans-Serif\" font-size=\"14.00\">gini = 0.0</text>\n<text text-anchor=\"middle\" x=\"3069.5\" y=\"-149.3\" font-family=\"Helvetica,sans-Serif\" font-size=\"14.00\">samples = 2</text>\n<text text-anchor=\"middle\" x=\"3069.5\" y=\"-134.3\" font-family=\"Helvetica,sans-Serif\" font-size=\"14.00\">value = [2, 0]</text>\n<text text-anchor=\"middle\" x=\"3069.5\" y=\"-119.3\" font-family=\"Helvetica,sans-Serif\" font-size=\"14.00\">class = nao</text>\n</g>\n<!-- 83&#45;&gt;87 -->\n<g id=\"edge87\" class=\"edge\">\n<title>83&#45;&gt;87</title>\n<path fill=\"none\" stroke=\"black\" d=\"M3018.56,-222.91C3026.07,-211.65 3034.22,-199.42 3041.76,-188.11\"/>\n<polygon fill=\"black\" stroke=\"black\" points=\"3044.75,-189.93 3047.39,-179.67 3038.93,-186.05 3044.75,-189.93\"/>\n</g>\n<!-- 85 -->\n<g id=\"node86\" class=\"node\">\n<title>85</title>\n<path fill=\"#deeffb\" stroke=\"black\" d=\"M2949.5,-68C2949.5,-68 2875.5,-68 2875.5,-68 2869.5,-68 2863.5,-62 2863.5,-56 2863.5,-56 2863.5,-12 2863.5,-12 2863.5,-6 2869.5,0 2875.5,0 2875.5,0 2949.5,0 2949.5,0 2955.5,0 2961.5,-6 2961.5,-12 2961.5,-12 2961.5,-56 2961.5,-56 2961.5,-62 2955.5,-68 2949.5,-68\"/>\n<text text-anchor=\"middle\" x=\"2912.5\" y=\"-52.8\" font-family=\"Helvetica,sans-Serif\" font-size=\"14.00\">gini = 0.496</text>\n<text text-anchor=\"middle\" x=\"2912.5\" y=\"-37.8\" font-family=\"Helvetica,sans-Serif\" font-size=\"14.00\">samples = 11</text>\n<text text-anchor=\"middle\" x=\"2912.5\" y=\"-22.8\" font-family=\"Helvetica,sans-Serif\" font-size=\"14.00\">value = [5, 6]</text>\n<text text-anchor=\"middle\" x=\"2912.5\" y=\"-7.8\" font-family=\"Helvetica,sans-Serif\" font-size=\"14.00\">class = sim</text>\n</g>\n<!-- 84&#45;&gt;85 -->\n<g id=\"edge85\" class=\"edge\">\n<title>84&#45;&gt;85</title>\n<path fill=\"none\" stroke=\"black\" d=\"M2913.13,-103.73C2913.05,-95.52 2912.97,-86.86 2912.9,-78.56\"/>\n<polygon fill=\"black\" stroke=\"black\" points=\"2916.4,-78.27 2912.8,-68.3 2909.4,-78.33 2916.4,-78.27\"/>\n</g>\n<!-- 86 -->\n<g id=\"node87\" class=\"node\">\n<title>86</title>\n<path fill=\"#66b3eb\" stroke=\"black\" d=\"M3085,-68C3085,-68 2992,-68 2992,-68 2986,-68 2980,-62 2980,-56 2980,-56 2980,-12 2980,-12 2980,-6 2986,0 2992,0 2992,0 3085,0 3085,0 3091,0 3097,-6 3097,-12 3097,-12 3097,-56 3097,-56 3097,-62 3091,-68 3085,-68\"/>\n<text text-anchor=\"middle\" x=\"3038.5\" y=\"-52.8\" font-family=\"Helvetica,sans-Serif\" font-size=\"14.00\">gini = 0.302</text>\n<text text-anchor=\"middle\" x=\"3038.5\" y=\"-37.8\" font-family=\"Helvetica,sans-Serif\" font-size=\"14.00\">samples = 178</text>\n<text text-anchor=\"middle\" x=\"3038.5\" y=\"-22.8\" font-family=\"Helvetica,sans-Serif\" font-size=\"14.00\">value = [33, 145]</text>\n<text text-anchor=\"middle\" x=\"3038.5\" y=\"-7.8\" font-family=\"Helvetica,sans-Serif\" font-size=\"14.00\">class = sim</text>\n</g>\n<!-- 84&#45;&gt;86 -->\n<g id=\"edge86\" class=\"edge\">\n<title>84&#45;&gt;86</title>\n<path fill=\"none\" stroke=\"black\" d=\"M2960.05,-103.73C2970.77,-94.33 2982.17,-84.35 2992.85,-74.99\"/>\n<polygon fill=\"black\" stroke=\"black\" points=\"2995.27,-77.52 3000.49,-68.3 2990.66,-72.26 2995.27,-77.52\"/>\n</g>\n<!-- 89 -->\n<g id=\"node90\" class=\"node\">\n<title>89</title>\n<path fill=\"#45a3e7\" stroke=\"black\" d=\"M3303.5,-187C3303.5,-187 3147.5,-187 3147.5,-187 3141.5,-187 3135.5,-181 3135.5,-175 3135.5,-175 3135.5,-116 3135.5,-116 3135.5,-110 3141.5,-104 3147.5,-104 3147.5,-104 3303.5,-104 3303.5,-104 3309.5,-104 3315.5,-110 3315.5,-116 3315.5,-116 3315.5,-175 3315.5,-175 3315.5,-181 3309.5,-187 3303.5,-187\"/>\n<text text-anchor=\"middle\" x=\"3225.5\" y=\"-171.8\" font-family=\"Helvetica,sans-Serif\" font-size=\"14.00\">km_por_ano &lt;= 28614.065</text>\n<text text-anchor=\"middle\" x=\"3225.5\" y=\"-156.8\" font-family=\"Helvetica,sans-Serif\" font-size=\"14.00\">gini = 0.111</text>\n<text text-anchor=\"middle\" x=\"3225.5\" y=\"-141.8\" font-family=\"Helvetica,sans-Serif\" font-size=\"14.00\">samples = 34</text>\n<text text-anchor=\"middle\" x=\"3225.5\" y=\"-126.8\" font-family=\"Helvetica,sans-Serif\" font-size=\"14.00\">value = [2, 32]</text>\n<text text-anchor=\"middle\" x=\"3225.5\" y=\"-111.8\" font-family=\"Helvetica,sans-Serif\" font-size=\"14.00\">class = sim</text>\n</g>\n<!-- 88&#45;&gt;89 -->\n<g id=\"edge89\" class=\"edge\">\n<title>88&#45;&gt;89</title>\n<path fill=\"none\" stroke=\"black\" d=\"M3225.5,-222.91C3225.5,-214.65 3225.5,-205.86 3225.5,-197.3\"/>\n<polygon fill=\"black\" stroke=\"black\" points=\"3229,-197.02 3225.5,-187.02 3222,-197.02 3229,-197.02\"/>\n</g>\n<!-- 92 -->\n<g id=\"node93\" class=\"node\">\n<title>92</title>\n<path fill=\"#9ccef2\" stroke=\"black\" d=\"M3501.5,-187C3501.5,-187 3345.5,-187 3345.5,-187 3339.5,-187 3333.5,-181 3333.5,-175 3333.5,-175 3333.5,-116 3333.5,-116 3333.5,-110 3339.5,-104 3345.5,-104 3345.5,-104 3501.5,-104 3501.5,-104 3507.5,-104 3513.5,-110 3513.5,-116 3513.5,-116 3513.5,-175 3513.5,-175 3513.5,-181 3507.5,-187 3501.5,-187\"/>\n<text text-anchor=\"middle\" x=\"3423.5\" y=\"-171.8\" font-family=\"Helvetica,sans-Serif\" font-size=\"14.00\">km_por_ano &lt;= 20336.425</text>\n<text text-anchor=\"middle\" x=\"3423.5\" y=\"-156.8\" font-family=\"Helvetica,sans-Serif\" font-size=\"14.00\">gini = 0.444</text>\n<text text-anchor=\"middle\" x=\"3423.5\" y=\"-141.8\" font-family=\"Helvetica,sans-Serif\" font-size=\"14.00\">samples = 3</text>\n<text text-anchor=\"middle\" x=\"3423.5\" y=\"-126.8\" font-family=\"Helvetica,sans-Serif\" font-size=\"14.00\">value = [1, 2]</text>\n<text text-anchor=\"middle\" x=\"3423.5\" y=\"-111.8\" font-family=\"Helvetica,sans-Serif\" font-size=\"14.00\">class = sim</text>\n</g>\n<!-- 88&#45;&gt;92 -->\n<g id=\"edge92\" class=\"edge\">\n<title>88&#45;&gt;92</title>\n<path fill=\"none\" stroke=\"black\" d=\"M3291.16,-224.7C3308.67,-214.36 3327.75,-203.08 3345.84,-192.39\"/>\n<polygon fill=\"black\" stroke=\"black\" points=\"3347.8,-195.3 3354.63,-187.2 3344.24,-189.27 3347.8,-195.3\"/>\n</g>\n<!-- 90 -->\n<g id=\"node91\" class=\"node\">\n<title>90</title>\n<path fill=\"#40a0e6\" stroke=\"black\" d=\"M3213.5,-68C3213.5,-68 3135.5,-68 3135.5,-68 3129.5,-68 3123.5,-62 3123.5,-56 3123.5,-56 3123.5,-12 3123.5,-12 3123.5,-6 3129.5,0 3135.5,0 3135.5,0 3213.5,0 3213.5,0 3219.5,0 3225.5,-6 3225.5,-12 3225.5,-12 3225.5,-56 3225.5,-56 3225.5,-62 3219.5,-68 3213.5,-68\"/>\n<text text-anchor=\"middle\" x=\"3174.5\" y=\"-52.8\" font-family=\"Helvetica,sans-Serif\" font-size=\"14.00\">gini = 0.064</text>\n<text text-anchor=\"middle\" x=\"3174.5\" y=\"-37.8\" font-family=\"Helvetica,sans-Serif\" font-size=\"14.00\">samples = 30</text>\n<text text-anchor=\"middle\" x=\"3174.5\" y=\"-22.8\" font-family=\"Helvetica,sans-Serif\" font-size=\"14.00\">value = [1, 29]</text>\n<text text-anchor=\"middle\" x=\"3174.5\" y=\"-7.8\" font-family=\"Helvetica,sans-Serif\" font-size=\"14.00\">class = sim</text>\n</g>\n<!-- 89&#45;&gt;90 -->\n<g id=\"edge90\" class=\"edge\">\n<title>89&#45;&gt;90</title>\n<path fill=\"none\" stroke=\"black\" d=\"M3206.51,-103.73C3202.52,-95.15 3198.29,-86.09 3194.27,-77.46\"/>\n<polygon fill=\"black\" stroke=\"black\" points=\"3197.4,-75.89 3190.01,-68.3 3191.06,-78.84 3197.4,-75.89\"/>\n</g>\n<!-- 91 -->\n<g id=\"node92\" class=\"node\">\n<title>91</title>\n<path fill=\"#7bbeee\" stroke=\"black\" d=\"M3327,-68C3327,-68 3256,-68 3256,-68 3250,-68 3244,-62 3244,-56 3244,-56 3244,-12 3244,-12 3244,-6 3250,0 3256,0 3256,0 3327,0 3327,0 3333,0 3339,-6 3339,-12 3339,-12 3339,-56 3339,-56 3339,-62 3333,-68 3327,-68\"/>\n<text text-anchor=\"middle\" x=\"3291.5\" y=\"-52.8\" font-family=\"Helvetica,sans-Serif\" font-size=\"14.00\">gini = 0.375</text>\n<text text-anchor=\"middle\" x=\"3291.5\" y=\"-37.8\" font-family=\"Helvetica,sans-Serif\" font-size=\"14.00\">samples = 4</text>\n<text text-anchor=\"middle\" x=\"3291.5\" y=\"-22.8\" font-family=\"Helvetica,sans-Serif\" font-size=\"14.00\">value = [1, 3]</text>\n<text text-anchor=\"middle\" x=\"3291.5\" y=\"-7.8\" font-family=\"Helvetica,sans-Serif\" font-size=\"14.00\">class = sim</text>\n</g>\n<!-- 89&#45;&gt;91 -->\n<g id=\"edge91\" class=\"edge\">\n<title>89&#45;&gt;91</title>\n<path fill=\"none\" stroke=\"black\" d=\"M3250.08,-103.73C3255.35,-94.97 3260.94,-85.7 3266.24,-76.91\"/>\n<polygon fill=\"black\" stroke=\"black\" points=\"3269.26,-78.67 3271.43,-68.3 3263.27,-75.06 3269.26,-78.67\"/>\n</g>\n<!-- 93 -->\n<g id=\"node94\" class=\"node\">\n<title>93</title>\n<path fill=\"#e58139\" stroke=\"black\" d=\"M3446,-68C3446,-68 3375,-68 3375,-68 3369,-68 3363,-62 3363,-56 3363,-56 3363,-12 3363,-12 3363,-6 3369,0 3375,0 3375,0 3446,0 3446,0 3452,0 3458,-6 3458,-12 3458,-12 3458,-56 3458,-56 3458,-62 3452,-68 3446,-68\"/>\n<text text-anchor=\"middle\" x=\"3410.5\" y=\"-52.8\" font-family=\"Helvetica,sans-Serif\" font-size=\"14.00\">gini = 0.0</text>\n<text text-anchor=\"middle\" x=\"3410.5\" y=\"-37.8\" font-family=\"Helvetica,sans-Serif\" font-size=\"14.00\">samples = 1</text>\n<text text-anchor=\"middle\" x=\"3410.5\" y=\"-22.8\" font-family=\"Helvetica,sans-Serif\" font-size=\"14.00\">value = [1, 0]</text>\n<text text-anchor=\"middle\" x=\"3410.5\" y=\"-7.8\" font-family=\"Helvetica,sans-Serif\" font-size=\"14.00\">class = nao</text>\n</g>\n<!-- 92&#45;&gt;93 -->\n<g id=\"edge93\" class=\"edge\">\n<title>92&#45;&gt;93</title>\n<path fill=\"none\" stroke=\"black\" d=\"M3418.66,-103.73C3417.67,-95.43 3416.63,-86.67 3415.64,-78.28\"/>\n<polygon fill=\"black\" stroke=\"black\" points=\"3419.11,-77.82 3414.45,-68.3 3412.16,-78.64 3419.11,-77.82\"/>\n</g>\n<!-- 94 -->\n<g id=\"node95\" class=\"node\">\n<title>94</title>\n<path fill=\"#399de5\" stroke=\"black\" d=\"M3559,-68C3559,-68 3488,-68 3488,-68 3482,-68 3476,-62 3476,-56 3476,-56 3476,-12 3476,-12 3476,-6 3482,0 3488,0 3488,0 3559,0 3559,0 3565,0 3571,-6 3571,-12 3571,-12 3571,-56 3571,-56 3571,-62 3565,-68 3559,-68\"/>\n<text text-anchor=\"middle\" x=\"3523.5\" y=\"-52.8\" font-family=\"Helvetica,sans-Serif\" font-size=\"14.00\">gini = 0.0</text>\n<text text-anchor=\"middle\" x=\"3523.5\" y=\"-37.8\" font-family=\"Helvetica,sans-Serif\" font-size=\"14.00\">samples = 2</text>\n<text text-anchor=\"middle\" x=\"3523.5\" y=\"-22.8\" font-family=\"Helvetica,sans-Serif\" font-size=\"14.00\">value = [0, 2]</text>\n<text text-anchor=\"middle\" x=\"3523.5\" y=\"-7.8\" font-family=\"Helvetica,sans-Serif\" font-size=\"14.00\">class = sim</text>\n</g>\n<!-- 92&#45;&gt;94 -->\n<g id=\"edge94\" class=\"edge\">\n<title>92&#45;&gt;94</title>\n<path fill=\"none\" stroke=\"black\" d=\"M3460.74,-103.73C3469.07,-94.61 3477.9,-84.93 3486.23,-75.81\"/>\n<polygon fill=\"black\" stroke=\"black\" points=\"3488.93,-78.04 3493.09,-68.3 3483.76,-73.32 3488.93,-78.04\"/>\n</g>\n<!-- 96 -->\n<g id=\"node97\" class=\"node\">\n<title>96</title>\n<path fill=\"#70b8ec\" stroke=\"black\" d=\"M4045.5,-663C4045.5,-663 3931.5,-663 3931.5,-663 3925.5,-663 3919.5,-657 3919.5,-651 3919.5,-651 3919.5,-592 3919.5,-592 3919.5,-586 3925.5,-580 3931.5,-580 3931.5,-580 4045.5,-580 4045.5,-580 4051.5,-580 4057.5,-586 4057.5,-592 4057.5,-592 4057.5,-651 4057.5,-651 4057.5,-657 4051.5,-663 4045.5,-663\"/>\n<text text-anchor=\"middle\" x=\"3988.5\" y=\"-647.8\" font-family=\"Helvetica,sans-Serif\" font-size=\"14.00\">preco &lt;= 42674.936</text>\n<text text-anchor=\"middle\" x=\"3988.5\" y=\"-632.8\" font-family=\"Helvetica,sans-Serif\" font-size=\"14.00\">gini = 0.34</text>\n<text text-anchor=\"middle\" x=\"3988.5\" y=\"-617.8\" font-family=\"Helvetica,sans-Serif\" font-size=\"14.00\">samples = 115</text>\n<text text-anchor=\"middle\" x=\"3988.5\" y=\"-602.8\" font-family=\"Helvetica,sans-Serif\" font-size=\"14.00\">value = [25, 90]</text>\n<text text-anchor=\"middle\" x=\"3988.5\" y=\"-587.8\" font-family=\"Helvetica,sans-Serif\" font-size=\"14.00\">class = sim</text>\n</g>\n<!-- 95&#45;&gt;96 -->\n<g id=\"edge96\" class=\"edge\">\n<title>95&#45;&gt;96</title>\n<path fill=\"none\" stroke=\"black\" d=\"M3988.5,-698.91C3988.5,-690.65 3988.5,-681.86 3988.5,-673.3\"/>\n<polygon fill=\"black\" stroke=\"black\" points=\"3992,-673.02 3988.5,-663.02 3985,-673.02 3992,-673.02\"/>\n</g>\n<!-- 123 -->\n<g id=\"node124\" class=\"node\">\n<title>123</title>\n<path fill=\"#bfdff7\" stroke=\"black\" d=\"M5100.5,-663C5100.5,-663 4986.5,-663 4986.5,-663 4980.5,-663 4974.5,-657 4974.5,-651 4974.5,-651 4974.5,-592 4974.5,-592 4974.5,-586 4980.5,-580 4986.5,-580 4986.5,-580 5100.5,-580 5100.5,-580 5106.5,-580 5112.5,-586 5112.5,-592 5112.5,-592 5112.5,-651 5112.5,-651 5112.5,-657 5106.5,-663 5100.5,-663\"/>\n<text text-anchor=\"middle\" x=\"5043.5\" y=\"-647.8\" font-family=\"Helvetica,sans-Serif\" font-size=\"14.00\">preco &lt;= 56450.775</text>\n<text text-anchor=\"middle\" x=\"5043.5\" y=\"-632.8\" font-family=\"Helvetica,sans-Serif\" font-size=\"14.00\">gini = 0.481</text>\n<text text-anchor=\"middle\" x=\"5043.5\" y=\"-617.8\" font-family=\"Helvetica,sans-Serif\" font-size=\"14.00\">samples = 57</text>\n<text text-anchor=\"middle\" x=\"5043.5\" y=\"-602.8\" font-family=\"Helvetica,sans-Serif\" font-size=\"14.00\">value = [23, 34]</text>\n<text text-anchor=\"middle\" x=\"5043.5\" y=\"-587.8\" font-family=\"Helvetica,sans-Serif\" font-size=\"14.00\">class = sim</text>\n</g>\n<!-- 95&#45;&gt;123 -->\n<g id=\"edge123\" class=\"edge\">\n<title>95&#45;&gt;123</title>\n<path fill=\"none\" stroke=\"black\" d=\"M4057.72,-731.82C4245.73,-710.97 4765.04,-653.38 4964.27,-631.29\"/>\n<polygon fill=\"black\" stroke=\"black\" points=\"4964.81,-634.75 4974.37,-630.17 4964.04,-627.79 4964.81,-634.75\"/>\n</g>\n<!-- 97 -->\n<g id=\"node98\" class=\"node\">\n<title>97</title>\n<path fill=\"#d7ebfa\" stroke=\"black\" d=\"M3968,-544C3968,-544 3817,-544 3817,-544 3811,-544 3805,-538 3805,-532 3805,-532 3805,-473 3805,-473 3805,-467 3811,-461 3817,-461 3817,-461 3968,-461 3968,-461 3974,-461 3980,-467 3980,-473 3980,-473 3980,-532 3980,-532 3980,-538 3974,-544 3968,-544\"/>\n<text text-anchor=\"middle\" x=\"3892.5\" y=\"-528.8\" font-family=\"Helvetica,sans-Serif\" font-size=\"14.00\">idade_do_modelo &lt;= 14.5</text>\n<text text-anchor=\"middle\" x=\"3892.5\" y=\"-513.8\" font-family=\"Helvetica,sans-Serif\" font-size=\"14.00\">gini = 0.494</text>\n<text text-anchor=\"middle\" x=\"3892.5\" y=\"-498.8\" font-family=\"Helvetica,sans-Serif\" font-size=\"14.00\">samples = 18</text>\n<text text-anchor=\"middle\" x=\"3892.5\" y=\"-483.8\" font-family=\"Helvetica,sans-Serif\" font-size=\"14.00\">value = [8, 10]</text>\n<text text-anchor=\"middle\" x=\"3892.5\" y=\"-468.8\" font-family=\"Helvetica,sans-Serif\" font-size=\"14.00\">class = sim</text>\n</g>\n<!-- 96&#45;&gt;97 -->\n<g id=\"edge97\" class=\"edge\">\n<title>96&#45;&gt;97</title>\n<path fill=\"none\" stroke=\"black\" d=\"M3955.19,-579.91C3947.75,-570.83 3939.78,-561.12 3932.11,-551.77\"/>\n<polygon fill=\"black\" stroke=\"black\" points=\"3934.8,-549.53 3925.75,-544.02 3929.39,-553.97 3934.8,-549.53\"/>\n</g>\n<!-- 110 -->\n<g id=\"node111\" class=\"node\">\n<title>110</title>\n<path fill=\"#63b2eb\" stroke=\"black\" d=\"M4159,-544C4159,-544 4010,-544 4010,-544 4004,-544 3998,-538 3998,-532 3998,-532 3998,-473 3998,-473 3998,-467 4004,-461 4010,-461 4010,-461 4159,-461 4159,-461 4165,-461 4171,-467 4171,-473 4171,-473 4171,-532 4171,-532 4171,-538 4165,-544 4159,-544\"/>\n<text text-anchor=\"middle\" x=\"4084.5\" y=\"-528.8\" font-family=\"Helvetica,sans-Serif\" font-size=\"14.00\">km_por_ano &lt;= 35831.15</text>\n<text text-anchor=\"middle\" x=\"4084.5\" y=\"-513.8\" font-family=\"Helvetica,sans-Serif\" font-size=\"14.00\">gini = 0.289</text>\n<text text-anchor=\"middle\" x=\"4084.5\" y=\"-498.8\" font-family=\"Helvetica,sans-Serif\" font-size=\"14.00\">samples = 97</text>\n<text text-anchor=\"middle\" x=\"4084.5\" y=\"-483.8\" font-family=\"Helvetica,sans-Serif\" font-size=\"14.00\">value = [17, 80]</text>\n<text text-anchor=\"middle\" x=\"4084.5\" y=\"-468.8\" font-family=\"Helvetica,sans-Serif\" font-size=\"14.00\">class = sim</text>\n</g>\n<!-- 96&#45;&gt;110 -->\n<g id=\"edge110\" class=\"edge\">\n<title>96&#45;&gt;110</title>\n<path fill=\"none\" stroke=\"black\" d=\"M4021.81,-579.91C4029.25,-570.83 4037.22,-561.12 4044.89,-551.77\"/>\n<polygon fill=\"black\" stroke=\"black\" points=\"4047.61,-553.97 4051.25,-544.02 4042.2,-549.53 4047.61,-553.97\"/>\n</g>\n<!-- 98 -->\n<g id=\"node99\" class=\"node\">\n<title>98</title>\n<path fill=\"#55abe9\" stroke=\"black\" d=\"M3784,-425C3784,-425 3677,-425 3677,-425 3671,-425 3665,-419 3665,-413 3665,-413 3665,-354 3665,-354 3665,-348 3671,-342 3677,-342 3677,-342 3784,-342 3784,-342 3790,-342 3796,-348 3796,-354 3796,-354 3796,-413 3796,-413 3796,-419 3790,-425 3784,-425\"/>\n<text text-anchor=\"middle\" x=\"3730.5\" y=\"-409.8\" font-family=\"Helvetica,sans-Serif\" font-size=\"14.00\">preco &lt;= 41210.34</text>\n<text text-anchor=\"middle\" x=\"3730.5\" y=\"-394.8\" font-family=\"Helvetica,sans-Serif\" font-size=\"14.00\">gini = 0.219</text>\n<text text-anchor=\"middle\" x=\"3730.5\" y=\"-379.8\" font-family=\"Helvetica,sans-Serif\" font-size=\"14.00\">samples = 8</text>\n<text text-anchor=\"middle\" x=\"3730.5\" y=\"-364.8\" font-family=\"Helvetica,sans-Serif\" font-size=\"14.00\">value = [1, 7]</text>\n<text text-anchor=\"middle\" x=\"3730.5\" y=\"-349.8\" font-family=\"Helvetica,sans-Serif\" font-size=\"14.00\">class = sim</text>\n</g>\n<!-- 97&#45;&gt;98 -->\n<g id=\"edge98\" class=\"edge\">\n<title>97&#45;&gt;98</title>\n<path fill=\"none\" stroke=\"black\" d=\"M3836.29,-460.91C3822.98,-451.29 3808.67,-440.95 3795.01,-431.09\"/>\n<polygon fill=\"black\" stroke=\"black\" points=\"3796.76,-428.04 3786.61,-425.02 3792.66,-433.71 3796.76,-428.04\"/>\n</g>\n<!-- 103 -->\n<g id=\"node104\" class=\"node\">\n<title>103</title>\n<path fill=\"#f0b78e\" stroke=\"black\" d=\"M3977,-425C3977,-425 3826,-425 3826,-425 3820,-425 3814,-419 3814,-413 3814,-413 3814,-354 3814,-354 3814,-348 3820,-342 3826,-342 3826,-342 3977,-342 3977,-342 3983,-342 3989,-348 3989,-354 3989,-354 3989,-413 3989,-413 3989,-419 3983,-425 3977,-425\"/>\n<text text-anchor=\"middle\" x=\"3901.5\" y=\"-409.8\" font-family=\"Helvetica,sans-Serif\" font-size=\"14.00\">idade_do_modelo &lt;= 18.5</text>\n<text text-anchor=\"middle\" x=\"3901.5\" y=\"-394.8\" font-family=\"Helvetica,sans-Serif\" font-size=\"14.00\">gini = 0.42</text>\n<text text-anchor=\"middle\" x=\"3901.5\" y=\"-379.8\" font-family=\"Helvetica,sans-Serif\" font-size=\"14.00\">samples = 10</text>\n<text text-anchor=\"middle\" x=\"3901.5\" y=\"-364.8\" font-family=\"Helvetica,sans-Serif\" font-size=\"14.00\">value = [7, 3]</text>\n<text text-anchor=\"middle\" x=\"3901.5\" y=\"-349.8\" font-family=\"Helvetica,sans-Serif\" font-size=\"14.00\">class = nao</text>\n</g>\n<!-- 97&#45;&gt;103 -->\n<g id=\"edge103\" class=\"edge\">\n<title>97&#45;&gt;103</title>\n<path fill=\"none\" stroke=\"black\" d=\"M3895.62,-460.91C3896.26,-452.56 3896.95,-443.67 3897.61,-435.02\"/>\n<polygon fill=\"black\" stroke=\"black\" points=\"3901.11,-435.26 3898.38,-425.02 3894.13,-434.72 3901.11,-435.26\"/>\n</g>\n<!-- 99 -->\n<g id=\"node100\" class=\"node\">\n<title>99</title>\n<path fill=\"#ffffff\" stroke=\"black\" d=\"M3656.5,-306C3656.5,-306 3500.5,-306 3500.5,-306 3494.5,-306 3488.5,-300 3488.5,-294 3488.5,-294 3488.5,-235 3488.5,-235 3488.5,-229 3494.5,-223 3500.5,-223 3500.5,-223 3656.5,-223 3656.5,-223 3662.5,-223 3668.5,-229 3668.5,-235 3668.5,-235 3668.5,-294 3668.5,-294 3668.5,-300 3662.5,-306 3656.5,-306\"/>\n<text text-anchor=\"middle\" x=\"3578.5\" y=\"-290.8\" font-family=\"Helvetica,sans-Serif\" font-size=\"14.00\">km_por_ano &lt;= 37653.729</text>\n<text text-anchor=\"middle\" x=\"3578.5\" y=\"-275.8\" font-family=\"Helvetica,sans-Serif\" font-size=\"14.00\">gini = 0.5</text>\n<text text-anchor=\"middle\" x=\"3578.5\" y=\"-260.8\" font-family=\"Helvetica,sans-Serif\" font-size=\"14.00\">samples = 2</text>\n<text text-anchor=\"middle\" x=\"3578.5\" y=\"-245.8\" font-family=\"Helvetica,sans-Serif\" font-size=\"14.00\">value = [1, 1]</text>\n<text text-anchor=\"middle\" x=\"3578.5\" y=\"-230.8\" font-family=\"Helvetica,sans-Serif\" font-size=\"14.00\">class = nao</text>\n</g>\n<!-- 98&#45;&gt;99 -->\n<g id=\"edge99\" class=\"edge\">\n<title>98&#45;&gt;99</title>\n<path fill=\"none\" stroke=\"black\" d=\"M3677.76,-341.91C3665.38,-332.38 3652.09,-322.15 3639.39,-312.37\"/>\n<polygon fill=\"black\" stroke=\"black\" points=\"3641.2,-309.35 3631.14,-306.02 3636.93,-314.89 3641.2,-309.35\"/>\n</g>\n<!-- 102 -->\n<g id=\"node103\" class=\"node\">\n<title>102</title>\n<path fill=\"#399de5\" stroke=\"black\" d=\"M3770,-298.5C3770,-298.5 3699,-298.5 3699,-298.5 3693,-298.5 3687,-292.5 3687,-286.5 3687,-286.5 3687,-242.5 3687,-242.5 3687,-236.5 3693,-230.5 3699,-230.5 3699,-230.5 3770,-230.5 3770,-230.5 3776,-230.5 3782,-236.5 3782,-242.5 3782,-242.5 3782,-286.5 3782,-286.5 3782,-292.5 3776,-298.5 3770,-298.5\"/>\n<text text-anchor=\"middle\" x=\"3734.5\" y=\"-283.3\" font-family=\"Helvetica,sans-Serif\" font-size=\"14.00\">gini = 0.0</text>\n<text text-anchor=\"middle\" x=\"3734.5\" y=\"-268.3\" font-family=\"Helvetica,sans-Serif\" font-size=\"14.00\">samples = 6</text>\n<text text-anchor=\"middle\" x=\"3734.5\" y=\"-253.3\" font-family=\"Helvetica,sans-Serif\" font-size=\"14.00\">value = [0, 6]</text>\n<text text-anchor=\"middle\" x=\"3734.5\" y=\"-238.3\" font-family=\"Helvetica,sans-Serif\" font-size=\"14.00\">class = sim</text>\n</g>\n<!-- 98&#45;&gt;102 -->\n<g id=\"edge102\" class=\"edge\">\n<title>98&#45;&gt;102</title>\n<path fill=\"none\" stroke=\"black\" d=\"M3731.89,-341.91C3732.25,-331.2 3732.65,-319.62 3733.02,-308.78\"/>\n<polygon fill=\"black\" stroke=\"black\" points=\"3736.52,-308.78 3733.37,-298.67 3729.53,-308.54 3736.52,-308.78\"/>\n</g>\n<!-- 100 -->\n<g id=\"node101\" class=\"node\">\n<title>100</title>\n<path fill=\"#399de5\" stroke=\"black\" d=\"M3615,-179.5C3615,-179.5 3544,-179.5 3544,-179.5 3538,-179.5 3532,-173.5 3532,-167.5 3532,-167.5 3532,-123.5 3532,-123.5 3532,-117.5 3538,-111.5 3544,-111.5 3544,-111.5 3615,-111.5 3615,-111.5 3621,-111.5 3627,-117.5 3627,-123.5 3627,-123.5 3627,-167.5 3627,-167.5 3627,-173.5 3621,-179.5 3615,-179.5\"/>\n<text text-anchor=\"middle\" x=\"3579.5\" y=\"-164.3\" font-family=\"Helvetica,sans-Serif\" font-size=\"14.00\">gini = 0.0</text>\n<text text-anchor=\"middle\" x=\"3579.5\" y=\"-149.3\" font-family=\"Helvetica,sans-Serif\" font-size=\"14.00\">samples = 1</text>\n<text text-anchor=\"middle\" x=\"3579.5\" y=\"-134.3\" font-family=\"Helvetica,sans-Serif\" font-size=\"14.00\">value = [0, 1]</text>\n<text text-anchor=\"middle\" x=\"3579.5\" y=\"-119.3\" font-family=\"Helvetica,sans-Serif\" font-size=\"14.00\">class = sim</text>\n</g>\n<!-- 99&#45;&gt;100 -->\n<g id=\"edge100\" class=\"edge\">\n<title>99&#45;&gt;100</title>\n<path fill=\"none\" stroke=\"black\" d=\"M3578.85,-222.91C3578.94,-212.2 3579.04,-200.62 3579.13,-189.78\"/>\n<polygon fill=\"black\" stroke=\"black\" points=\"3582.63,-189.7 3579.22,-179.67 3575.63,-189.64 3582.63,-189.7\"/>\n</g>\n<!-- 101 -->\n<g id=\"node102\" class=\"node\">\n<title>101</title>\n<path fill=\"#e58139\" stroke=\"black\" d=\"M3728,-179.5C3728,-179.5 3657,-179.5 3657,-179.5 3651,-179.5 3645,-173.5 3645,-167.5 3645,-167.5 3645,-123.5 3645,-123.5 3645,-117.5 3651,-111.5 3657,-111.5 3657,-111.5 3728,-111.5 3728,-111.5 3734,-111.5 3740,-117.5 3740,-123.5 3740,-123.5 3740,-167.5 3740,-167.5 3740,-173.5 3734,-179.5 3728,-179.5\"/>\n<text text-anchor=\"middle\" x=\"3692.5\" y=\"-164.3\" font-family=\"Helvetica,sans-Serif\" font-size=\"14.00\">gini = 0.0</text>\n<text text-anchor=\"middle\" x=\"3692.5\" y=\"-149.3\" font-family=\"Helvetica,sans-Serif\" font-size=\"14.00\">samples = 1</text>\n<text text-anchor=\"middle\" x=\"3692.5\" y=\"-134.3\" font-family=\"Helvetica,sans-Serif\" font-size=\"14.00\">value = [1, 0]</text>\n<text text-anchor=\"middle\" x=\"3692.5\" y=\"-119.3\" font-family=\"Helvetica,sans-Serif\" font-size=\"14.00\">class = nao</text>\n</g>\n<!-- 99&#45;&gt;101 -->\n<g id=\"edge101\" class=\"edge\">\n<title>99&#45;&gt;101</title>\n<path fill=\"none\" stroke=\"black\" d=\"M3618.05,-222.91C3629.34,-211.32 3641.64,-198.7 3652.93,-187.11\"/>\n<polygon fill=\"black\" stroke=\"black\" points=\"3655.71,-189.27 3660.18,-179.67 3650.7,-184.39 3655.71,-189.27\"/>\n</g>\n<!-- 104 -->\n<g id=\"node105\" class=\"node\">\n<title>104</title>\n<path fill=\"#e58139\" stroke=\"black\" d=\"M3883,-298.5C3883,-298.5 3812,-298.5 3812,-298.5 3806,-298.5 3800,-292.5 3800,-286.5 3800,-286.5 3800,-242.5 3800,-242.5 3800,-236.5 3806,-230.5 3812,-230.5 3812,-230.5 3883,-230.5 3883,-230.5 3889,-230.5 3895,-236.5 3895,-242.5 3895,-242.5 3895,-286.5 3895,-286.5 3895,-292.5 3889,-298.5 3883,-298.5\"/>\n<text text-anchor=\"middle\" x=\"3847.5\" y=\"-283.3\" font-family=\"Helvetica,sans-Serif\" font-size=\"14.00\">gini = 0.0</text>\n<text text-anchor=\"middle\" x=\"3847.5\" y=\"-268.3\" font-family=\"Helvetica,sans-Serif\" font-size=\"14.00\">samples = 4</text>\n<text text-anchor=\"middle\" x=\"3847.5\" y=\"-253.3\" font-family=\"Helvetica,sans-Serif\" font-size=\"14.00\">value = [4, 0]</text>\n<text text-anchor=\"middle\" x=\"3847.5\" y=\"-238.3\" font-family=\"Helvetica,sans-Serif\" font-size=\"14.00\">class = nao</text>\n</g>\n<!-- 103&#45;&gt;104 -->\n<g id=\"edge104\" class=\"edge\">\n<title>103&#45;&gt;104</title>\n<path fill=\"none\" stroke=\"black\" d=\"M3882.76,-341.91C3877.67,-330.87 3872.15,-318.9 3867.01,-307.77\"/>\n<polygon fill=\"black\" stroke=\"black\" points=\"3870.18,-306.28 3862.81,-298.67 3863.82,-309.21 3870.18,-306.28\"/>\n</g>\n<!-- 105 -->\n<g id=\"node106\" class=\"node\">\n<title>105</title>\n<path fill=\"#ffffff\" stroke=\"black\" d=\"M4081.5,-306C4081.5,-306 3925.5,-306 3925.5,-306 3919.5,-306 3913.5,-300 3913.5,-294 3913.5,-294 3913.5,-235 3913.5,-235 3913.5,-229 3919.5,-223 3925.5,-223 3925.5,-223 4081.5,-223 4081.5,-223 4087.5,-223 4093.5,-229 4093.5,-235 4093.5,-235 4093.5,-294 4093.5,-294 4093.5,-300 4087.5,-306 4081.5,-306\"/>\n<text text-anchor=\"middle\" x=\"4003.5\" y=\"-290.8\" font-family=\"Helvetica,sans-Serif\" font-size=\"14.00\">km_por_ano &lt;= 38652.324</text>\n<text text-anchor=\"middle\" x=\"4003.5\" y=\"-275.8\" font-family=\"Helvetica,sans-Serif\" font-size=\"14.00\">gini = 0.5</text>\n<text text-anchor=\"middle\" x=\"4003.5\" y=\"-260.8\" font-family=\"Helvetica,sans-Serif\" font-size=\"14.00\">samples = 6</text>\n<text text-anchor=\"middle\" x=\"4003.5\" y=\"-245.8\" font-family=\"Helvetica,sans-Serif\" font-size=\"14.00\">value = [3, 3]</text>\n<text text-anchor=\"middle\" x=\"4003.5\" y=\"-230.8\" font-family=\"Helvetica,sans-Serif\" font-size=\"14.00\">class = nao</text>\n</g>\n<!-- 103&#45;&gt;105 -->\n<g id=\"edge105\" class=\"edge\">\n<title>103&#45;&gt;105</title>\n<path fill=\"none\" stroke=\"black\" d=\"M3936.89,-341.91C3944.8,-332.83 3953.27,-323.12 3961.42,-313.77\"/>\n<polygon fill=\"black\" stroke=\"black\" points=\"3964.24,-315.86 3968.17,-306.02 3958.96,-311.26 3964.24,-315.86\"/>\n</g>\n<!-- 106 -->\n<g id=\"node107\" class=\"node\">\n<title>106</title>\n<path fill=\"#e58139\" stroke=\"black\" d=\"M3858,-179.5C3858,-179.5 3787,-179.5 3787,-179.5 3781,-179.5 3775,-173.5 3775,-167.5 3775,-167.5 3775,-123.5 3775,-123.5 3775,-117.5 3781,-111.5 3787,-111.5 3787,-111.5 3858,-111.5 3858,-111.5 3864,-111.5 3870,-117.5 3870,-123.5 3870,-123.5 3870,-167.5 3870,-167.5 3870,-173.5 3864,-179.5 3858,-179.5\"/>\n<text text-anchor=\"middle\" x=\"3822.5\" y=\"-164.3\" font-family=\"Helvetica,sans-Serif\" font-size=\"14.00\">gini = 0.0</text>\n<text text-anchor=\"middle\" x=\"3822.5\" y=\"-149.3\" font-family=\"Helvetica,sans-Serif\" font-size=\"14.00\">samples = 2</text>\n<text text-anchor=\"middle\" x=\"3822.5\" y=\"-134.3\" font-family=\"Helvetica,sans-Serif\" font-size=\"14.00\">value = [2, 0]</text>\n<text text-anchor=\"middle\" x=\"3822.5\" y=\"-119.3\" font-family=\"Helvetica,sans-Serif\" font-size=\"14.00\">class = nao</text>\n</g>\n<!-- 105&#45;&gt;106 -->\n<g id=\"edge106\" class=\"edge\">\n<title>105&#45;&gt;106</title>\n<path fill=\"none\" stroke=\"black\" d=\"M3936.07,-223C3917.58,-211.59 3897.63,-199.02 3879.5,-187 3878.73,-186.49 3877.95,-185.97 3877.16,-185.44\"/>\n<polygon fill=\"black\" stroke=\"black\" points=\"3878.92,-182.4 3868.68,-179.69 3874.99,-188.2 3878.92,-182.4\"/>\n</g>\n<!-- 107 -->\n<g id=\"node108\" class=\"node\">\n<title>107</title>\n<path fill=\"#7bbeee\" stroke=\"black\" d=\"M4056.5,-187C4056.5,-187 3900.5,-187 3900.5,-187 3894.5,-187 3888.5,-181 3888.5,-175 3888.5,-175 3888.5,-116 3888.5,-116 3888.5,-110 3894.5,-104 3900.5,-104 3900.5,-104 4056.5,-104 4056.5,-104 4062.5,-104 4068.5,-110 4068.5,-116 4068.5,-116 4068.5,-175 4068.5,-175 4068.5,-181 4062.5,-187 4056.5,-187\"/>\n<text text-anchor=\"middle\" x=\"3978.5\" y=\"-171.8\" font-family=\"Helvetica,sans-Serif\" font-size=\"14.00\">km_por_ano &lt;= 54714.342</text>\n<text text-anchor=\"middle\" x=\"3978.5\" y=\"-156.8\" font-family=\"Helvetica,sans-Serif\" font-size=\"14.00\">gini = 0.375</text>\n<text text-anchor=\"middle\" x=\"3978.5\" y=\"-141.8\" font-family=\"Helvetica,sans-Serif\" font-size=\"14.00\">samples = 4</text>\n<text text-anchor=\"middle\" x=\"3978.5\" y=\"-126.8\" font-family=\"Helvetica,sans-Serif\" font-size=\"14.00\">value = [1, 3]</text>\n<text text-anchor=\"middle\" x=\"3978.5\" y=\"-111.8\" font-family=\"Helvetica,sans-Serif\" font-size=\"14.00\">class = sim</text>\n</g>\n<!-- 105&#45;&gt;107 -->\n<g id=\"edge107\" class=\"edge\">\n<title>105&#45;&gt;107</title>\n<path fill=\"none\" stroke=\"black\" d=\"M3994.83,-222.91C3993.04,-214.56 3991.14,-205.67 3989.29,-197.02\"/>\n<polygon fill=\"black\" stroke=\"black\" points=\"3992.67,-196.07 3987.16,-187.02 3985.83,-197.53 3992.67,-196.07\"/>\n</g>\n<!-- 108 -->\n<g id=\"node109\" class=\"node\">\n<title>108</title>\n<path fill=\"#399de5\" stroke=\"black\" d=\"M3958,-68C3958,-68 3887,-68 3887,-68 3881,-68 3875,-62 3875,-56 3875,-56 3875,-12 3875,-12 3875,-6 3881,0 3887,0 3887,0 3958,0 3958,0 3964,0 3970,-6 3970,-12 3970,-12 3970,-56 3970,-56 3970,-62 3964,-68 3958,-68\"/>\n<text text-anchor=\"middle\" x=\"3922.5\" y=\"-52.8\" font-family=\"Helvetica,sans-Serif\" font-size=\"14.00\">gini = 0.0</text>\n<text text-anchor=\"middle\" x=\"3922.5\" y=\"-37.8\" font-family=\"Helvetica,sans-Serif\" font-size=\"14.00\">samples = 3</text>\n<text text-anchor=\"middle\" x=\"3922.5\" y=\"-22.8\" font-family=\"Helvetica,sans-Serif\" font-size=\"14.00\">value = [0, 3]</text>\n<text text-anchor=\"middle\" x=\"3922.5\" y=\"-7.8\" font-family=\"Helvetica,sans-Serif\" font-size=\"14.00\">class = sim</text>\n</g>\n<!-- 107&#45;&gt;108 -->\n<g id=\"edge108\" class=\"edge\">\n<title>107&#45;&gt;108</title>\n<path fill=\"none\" stroke=\"black\" d=\"M3957.65,-103.73C3953.26,-95.15 3948.63,-86.09 3944.21,-77.46\"/>\n<polygon fill=\"black\" stroke=\"black\" points=\"3947.2,-75.61 3939.53,-68.3 3940.97,-78.8 3947.2,-75.61\"/>\n</g>\n<!-- 109 -->\n<g id=\"node110\" class=\"node\">\n<title>109</title>\n<path fill=\"#e58139\" stroke=\"black\" d=\"M4071,-68C4071,-68 4000,-68 4000,-68 3994,-68 3988,-62 3988,-56 3988,-56 3988,-12 3988,-12 3988,-6 3994,0 4000,0 4000,0 4071,0 4071,0 4077,0 4083,-6 4083,-12 4083,-12 4083,-56 4083,-56 4083,-62 4077,-68 4071,-68\"/>\n<text text-anchor=\"middle\" x=\"4035.5\" y=\"-52.8\" font-family=\"Helvetica,sans-Serif\" font-size=\"14.00\">gini = 0.0</text>\n<text text-anchor=\"middle\" x=\"4035.5\" y=\"-37.8\" font-family=\"Helvetica,sans-Serif\" font-size=\"14.00\">samples = 1</text>\n<text text-anchor=\"middle\" x=\"4035.5\" y=\"-22.8\" font-family=\"Helvetica,sans-Serif\" font-size=\"14.00\">value = [1, 0]</text>\n<text text-anchor=\"middle\" x=\"4035.5\" y=\"-7.8\" font-family=\"Helvetica,sans-Serif\" font-size=\"14.00\">class = nao</text>\n</g>\n<!-- 107&#45;&gt;109 -->\n<g id=\"edge109\" class=\"edge\">\n<title>107&#45;&gt;109</title>\n<path fill=\"none\" stroke=\"black\" d=\"M3999.72,-103.73C4004.24,-95.06 4009.01,-85.9 4013.54,-77.18\"/>\n<polygon fill=\"black\" stroke=\"black\" points=\"4016.65,-78.79 4018.17,-68.3 4010.44,-75.55 4016.65,-78.79\"/>\n</g>\n<!-- 111 -->\n<g id=\"node112\" class=\"node\">\n<title>111</title>\n<path fill=\"#e58139\" stroke=\"black\" d=\"M4118,-417.5C4118,-417.5 4047,-417.5 4047,-417.5 4041,-417.5 4035,-411.5 4035,-405.5 4035,-405.5 4035,-361.5 4035,-361.5 4035,-355.5 4041,-349.5 4047,-349.5 4047,-349.5 4118,-349.5 4118,-349.5 4124,-349.5 4130,-355.5 4130,-361.5 4130,-361.5 4130,-405.5 4130,-405.5 4130,-411.5 4124,-417.5 4118,-417.5\"/>\n<text text-anchor=\"middle\" x=\"4082.5\" y=\"-402.3\" font-family=\"Helvetica,sans-Serif\" font-size=\"14.00\">gini = 0.0</text>\n<text text-anchor=\"middle\" x=\"4082.5\" y=\"-387.3\" font-family=\"Helvetica,sans-Serif\" font-size=\"14.00\">samples = 1</text>\n<text text-anchor=\"middle\" x=\"4082.5\" y=\"-372.3\" font-family=\"Helvetica,sans-Serif\" font-size=\"14.00\">value = [1, 0]</text>\n<text text-anchor=\"middle\" x=\"4082.5\" y=\"-357.3\" font-family=\"Helvetica,sans-Serif\" font-size=\"14.00\">class = nao</text>\n</g>\n<!-- 110&#45;&gt;111 -->\n<g id=\"edge111\" class=\"edge\">\n<title>110&#45;&gt;111</title>\n<path fill=\"none\" stroke=\"black\" d=\"M4083.81,-460.91C4083.62,-450.2 4083.43,-438.62 4083.24,-427.78\"/>\n<polygon fill=\"black\" stroke=\"black\" points=\"4086.74,-427.61 4083.07,-417.67 4079.74,-427.73 4086.74,-427.61\"/>\n</g>\n<!-- 112 -->\n<g id=\"node113\" class=\"node\">\n<title>112</title>\n<path fill=\"#61b1ea\" stroke=\"black\" d=\"M4311,-425C4311,-425 4160,-425 4160,-425 4154,-425 4148,-419 4148,-413 4148,-413 4148,-354 4148,-354 4148,-348 4154,-342 4160,-342 4160,-342 4311,-342 4311,-342 4317,-342 4323,-348 4323,-354 4323,-354 4323,-413 4323,-413 4323,-419 4317,-425 4311,-425\"/>\n<text text-anchor=\"middle\" x=\"4235.5\" y=\"-409.8\" font-family=\"Helvetica,sans-Serif\" font-size=\"14.00\">idade_do_modelo &lt;= 17.5</text>\n<text text-anchor=\"middle\" x=\"4235.5\" y=\"-394.8\" font-family=\"Helvetica,sans-Serif\" font-size=\"14.00\">gini = 0.278</text>\n<text text-anchor=\"middle\" x=\"4235.5\" y=\"-379.8\" font-family=\"Helvetica,sans-Serif\" font-size=\"14.00\">samples = 96</text>\n<text text-anchor=\"middle\" x=\"4235.5\" y=\"-364.8\" font-family=\"Helvetica,sans-Serif\" font-size=\"14.00\">value = [16, 80]</text>\n<text text-anchor=\"middle\" x=\"4235.5\" y=\"-349.8\" font-family=\"Helvetica,sans-Serif\" font-size=\"14.00\">class = sim</text>\n</g>\n<!-- 110&#45;&gt;112 -->\n<g id=\"edge112\" class=\"edge\">\n<title>110&#45;&gt;112</title>\n<path fill=\"none\" stroke=\"black\" d=\"M4136.89,-460.91C4149.19,-451.38 4162.39,-441.15 4175.01,-431.37\"/>\n<polygon fill=\"black\" stroke=\"black\" points=\"4177.44,-433.91 4183.2,-425.02 4173.16,-428.38 4177.44,-433.91\"/>\n</g>\n<!-- 113 -->\n<g id=\"node114\" class=\"node\">\n<title>113</title>\n<path fill=\"#53aae8\" stroke=\"black\" d=\"M4291.5,-306C4291.5,-306 4177.5,-306 4177.5,-306 4171.5,-306 4165.5,-300 4165.5,-294 4165.5,-294 4165.5,-235 4165.5,-235 4165.5,-229 4171.5,-223 4177.5,-223 4177.5,-223 4291.5,-223 4291.5,-223 4297.5,-223 4303.5,-229 4303.5,-235 4303.5,-235 4303.5,-294 4303.5,-294 4303.5,-300 4297.5,-306 4291.5,-306\"/>\n<text text-anchor=\"middle\" x=\"4234.5\" y=\"-290.8\" font-family=\"Helvetica,sans-Serif\" font-size=\"14.00\">preco &lt;= 44524.836</text>\n<text text-anchor=\"middle\" x=\"4234.5\" y=\"-275.8\" font-family=\"Helvetica,sans-Serif\" font-size=\"14.00\">gini = 0.205</text>\n<text text-anchor=\"middle\" x=\"4234.5\" y=\"-260.8\" font-family=\"Helvetica,sans-Serif\" font-size=\"14.00\">samples = 69</text>\n<text text-anchor=\"middle\" x=\"4234.5\" y=\"-245.8\" font-family=\"Helvetica,sans-Serif\" font-size=\"14.00\">value = [8, 61]</text>\n<text text-anchor=\"middle\" x=\"4234.5\" y=\"-230.8\" font-family=\"Helvetica,sans-Serif\" font-size=\"14.00\">class = sim</text>\n</g>\n<!-- 112&#45;&gt;113 -->\n<g id=\"edge113\" class=\"edge\">\n<title>112&#45;&gt;113</title>\n<path fill=\"none\" stroke=\"black\" d=\"M4235.15,-341.91C4235.08,-333.65 4235.01,-324.86 4234.93,-316.3\"/>\n<polygon fill=\"black\" stroke=\"black\" points=\"4238.43,-315.99 4234.85,-306.02 4231.43,-316.05 4238.43,-315.99\"/>\n</g>\n<!-- 118 -->\n<g id=\"node119\" class=\"node\">\n<title>118</title>\n<path fill=\"#8cc6f0\" stroke=\"black\" d=\"M4489.5,-306C4489.5,-306 4333.5,-306 4333.5,-306 4327.5,-306 4321.5,-300 4321.5,-294 4321.5,-294 4321.5,-235 4321.5,-235 4321.5,-229 4327.5,-223 4333.5,-223 4333.5,-223 4489.5,-223 4489.5,-223 4495.5,-223 4501.5,-229 4501.5,-235 4501.5,-235 4501.5,-294 4501.5,-294 4501.5,-300 4495.5,-306 4489.5,-306\"/>\n<text text-anchor=\"middle\" x=\"4411.5\" y=\"-290.8\" font-family=\"Helvetica,sans-Serif\" font-size=\"14.00\">km_por_ano &lt;= 36640.648</text>\n<text text-anchor=\"middle\" x=\"4411.5\" y=\"-275.8\" font-family=\"Helvetica,sans-Serif\" font-size=\"14.00\">gini = 0.417</text>\n<text text-anchor=\"middle\" x=\"4411.5\" y=\"-260.8\" font-family=\"Helvetica,sans-Serif\" font-size=\"14.00\">samples = 27</text>\n<text text-anchor=\"middle\" x=\"4411.5\" y=\"-245.8\" font-family=\"Helvetica,sans-Serif\" font-size=\"14.00\">value = [8, 19]</text>\n<text text-anchor=\"middle\" x=\"4411.5\" y=\"-230.8\" font-family=\"Helvetica,sans-Serif\" font-size=\"14.00\">class = sim</text>\n</g>\n<!-- 112&#45;&gt;118 -->\n<g id=\"edge118\" class=\"edge\">\n<title>112&#45;&gt;118</title>\n<path fill=\"none\" stroke=\"black\" d=\"M4296.56,-341.91C4311.17,-332.2 4326.87,-321.76 4341.84,-311.81\"/>\n<polygon fill=\"black\" stroke=\"black\" points=\"4344.16,-314.47 4350.55,-306.02 4340.28,-308.64 4344.16,-314.47\"/>\n</g>\n<!-- 114 -->\n<g id=\"node115\" class=\"node\">\n<title>114</title>\n<path fill=\"#399de5\" stroke=\"black\" d=\"M4176.5,-179.5C4176.5,-179.5 4098.5,-179.5 4098.5,-179.5 4092.5,-179.5 4086.5,-173.5 4086.5,-167.5 4086.5,-167.5 4086.5,-123.5 4086.5,-123.5 4086.5,-117.5 4092.5,-111.5 4098.5,-111.5 4098.5,-111.5 4176.5,-111.5 4176.5,-111.5 4182.5,-111.5 4188.5,-117.5 4188.5,-123.5 4188.5,-123.5 4188.5,-167.5 4188.5,-167.5 4188.5,-173.5 4182.5,-179.5 4176.5,-179.5\"/>\n<text text-anchor=\"middle\" x=\"4137.5\" y=\"-164.3\" font-family=\"Helvetica,sans-Serif\" font-size=\"14.00\">gini = 0.0</text>\n<text text-anchor=\"middle\" x=\"4137.5\" y=\"-149.3\" font-family=\"Helvetica,sans-Serif\" font-size=\"14.00\">samples = 18</text>\n<text text-anchor=\"middle\" x=\"4137.5\" y=\"-134.3\" font-family=\"Helvetica,sans-Serif\" font-size=\"14.00\">value = [0, 18]</text>\n<text text-anchor=\"middle\" x=\"4137.5\" y=\"-119.3\" font-family=\"Helvetica,sans-Serif\" font-size=\"14.00\">class = sim</text>\n</g>\n<!-- 113&#45;&gt;114 -->\n<g id=\"edge114\" class=\"edge\">\n<title>113&#45;&gt;114</title>\n<path fill=\"none\" stroke=\"black\" d=\"M4200.85,-222.91C4191.33,-211.43 4180.97,-198.94 4171.44,-187.44\"/>\n<polygon fill=\"black\" stroke=\"black\" points=\"4174.07,-185.13 4165,-179.67 4168.69,-189.6 4174.07,-185.13\"/>\n</g>\n<!-- 115 -->\n<g id=\"node116\" class=\"node\">\n<title>115</title>\n<path fill=\"#5eafea\" stroke=\"black\" d=\"M4332.5,-187C4332.5,-187 4218.5,-187 4218.5,-187 4212.5,-187 4206.5,-181 4206.5,-175 4206.5,-175 4206.5,-116 4206.5,-116 4206.5,-110 4212.5,-104 4218.5,-104 4218.5,-104 4332.5,-104 4332.5,-104 4338.5,-104 4344.5,-110 4344.5,-116 4344.5,-116 4344.5,-175 4344.5,-175 4344.5,-181 4338.5,-187 4332.5,-187\"/>\n<text text-anchor=\"middle\" x=\"4275.5\" y=\"-171.8\" font-family=\"Helvetica,sans-Serif\" font-size=\"14.00\">preco &lt;= 44684.279</text>\n<text text-anchor=\"middle\" x=\"4275.5\" y=\"-156.8\" font-family=\"Helvetica,sans-Serif\" font-size=\"14.00\">gini = 0.265</text>\n<text text-anchor=\"middle\" x=\"4275.5\" y=\"-141.8\" font-family=\"Helvetica,sans-Serif\" font-size=\"14.00\">samples = 51</text>\n<text text-anchor=\"middle\" x=\"4275.5\" y=\"-126.8\" font-family=\"Helvetica,sans-Serif\" font-size=\"14.00\">value = [8, 43]</text>\n<text text-anchor=\"middle\" x=\"4275.5\" y=\"-111.8\" font-family=\"Helvetica,sans-Serif\" font-size=\"14.00\">class = sim</text>\n</g>\n<!-- 113&#45;&gt;115 -->\n<g id=\"edge115\" class=\"edge\">\n<title>113&#45;&gt;115</title>\n<path fill=\"none\" stroke=\"black\" d=\"M4248.72,-222.91C4251.68,-214.47 4254.83,-205.48 4257.9,-196.74\"/>\n<polygon fill=\"black\" stroke=\"black\" points=\"4261.3,-197.62 4261.3,-187.02 4254.69,-195.3 4261.3,-197.62\"/>\n</g>\n<!-- 116 -->\n<g id=\"node117\" class=\"node\">\n<title>116</title>\n<path fill=\"#e58139\" stroke=\"black\" d=\"M4278,-68C4278,-68 4207,-68 4207,-68 4201,-68 4195,-62 4195,-56 4195,-56 4195,-12 4195,-12 4195,-6 4201,0 4207,0 4207,0 4278,0 4278,0 4284,0 4290,-6 4290,-12 4290,-12 4290,-56 4290,-56 4290,-62 4284,-68 4278,-68\"/>\n<text text-anchor=\"middle\" x=\"4242.5\" y=\"-52.8\" font-family=\"Helvetica,sans-Serif\" font-size=\"14.00\">gini = 0.0</text>\n<text text-anchor=\"middle\" x=\"4242.5\" y=\"-37.8\" font-family=\"Helvetica,sans-Serif\" font-size=\"14.00\">samples = 1</text>\n<text text-anchor=\"middle\" x=\"4242.5\" y=\"-22.8\" font-family=\"Helvetica,sans-Serif\" font-size=\"14.00\">value = [1, 0]</text>\n<text text-anchor=\"middle\" x=\"4242.5\" y=\"-7.8\" font-family=\"Helvetica,sans-Serif\" font-size=\"14.00\">class = nao</text>\n</g>\n<!-- 115&#45;&gt;116 -->\n<g id=\"edge116\" class=\"edge\">\n<title>115&#45;&gt;116</title>\n<path fill=\"none\" stroke=\"black\" d=\"M4263.21,-103.73C4260.68,-95.34 4258.01,-86.47 4255.46,-78.01\"/>\n<polygon fill=\"black\" stroke=\"black\" points=\"4258.77,-76.86 4252.54,-68.3 4252.07,-78.88 4258.77,-76.86\"/>\n</g>\n<!-- 117 -->\n<g id=\"node118\" class=\"node\">\n<title>117</title>\n<path fill=\"#59ade9\" stroke=\"black\" d=\"M4398.5,-68C4398.5,-68 4320.5,-68 4320.5,-68 4314.5,-68 4308.5,-62 4308.5,-56 4308.5,-56 4308.5,-12 4308.5,-12 4308.5,-6 4314.5,0 4320.5,0 4320.5,0 4398.5,0 4398.5,0 4404.5,0 4410.5,-6 4410.5,-12 4410.5,-12 4410.5,-56 4410.5,-56 4410.5,-62 4404.5,-68 4398.5,-68\"/>\n<text text-anchor=\"middle\" x=\"4359.5\" y=\"-52.8\" font-family=\"Helvetica,sans-Serif\" font-size=\"14.00\">gini = 0.241</text>\n<text text-anchor=\"middle\" x=\"4359.5\" y=\"-37.8\" font-family=\"Helvetica,sans-Serif\" font-size=\"14.00\">samples = 50</text>\n<text text-anchor=\"middle\" x=\"4359.5\" y=\"-22.8\" font-family=\"Helvetica,sans-Serif\" font-size=\"14.00\">value = [7, 43]</text>\n<text text-anchor=\"middle\" x=\"4359.5\" y=\"-7.8\" font-family=\"Helvetica,sans-Serif\" font-size=\"14.00\">class = sim</text>\n</g>\n<!-- 115&#45;&gt;117 -->\n<g id=\"edge117\" class=\"edge\">\n<title>115&#45;&gt;117</title>\n<path fill=\"none\" stroke=\"black\" d=\"M4306.78,-103.73C4313.64,-94.79 4320.9,-85.32 4327.78,-76.36\"/>\n<polygon fill=\"black\" stroke=\"black\" points=\"4330.65,-78.36 4333.96,-68.3 4325.09,-74.1 4330.65,-78.36\"/>\n</g>\n<!-- 119 -->\n<g id=\"node120\" class=\"node\">\n<title>119</title>\n<path fill=\"#e58139\" stroke=\"black\" d=\"M4446,-179.5C4446,-179.5 4375,-179.5 4375,-179.5 4369,-179.5 4363,-173.5 4363,-167.5 4363,-167.5 4363,-123.5 4363,-123.5 4363,-117.5 4369,-111.5 4375,-111.5 4375,-111.5 4446,-111.5 4446,-111.5 4452,-111.5 4458,-117.5 4458,-123.5 4458,-123.5 4458,-167.5 4458,-167.5 4458,-173.5 4452,-179.5 4446,-179.5\"/>\n<text text-anchor=\"middle\" x=\"4410.5\" y=\"-164.3\" font-family=\"Helvetica,sans-Serif\" font-size=\"14.00\">gini = 0.0</text>\n<text text-anchor=\"middle\" x=\"4410.5\" y=\"-149.3\" font-family=\"Helvetica,sans-Serif\" font-size=\"14.00\">samples = 2</text>\n<text text-anchor=\"middle\" x=\"4410.5\" y=\"-134.3\" font-family=\"Helvetica,sans-Serif\" font-size=\"14.00\">value = [2, 0]</text>\n<text text-anchor=\"middle\" x=\"4410.5\" y=\"-119.3\" font-family=\"Helvetica,sans-Serif\" font-size=\"14.00\">class = nao</text>\n</g>\n<!-- 118&#45;&gt;119 -->\n<g id=\"edge119\" class=\"edge\">\n<title>118&#45;&gt;119</title>\n<path fill=\"none\" stroke=\"black\" d=\"M4411.15,-222.91C4411.06,-212.2 4410.96,-200.62 4410.87,-189.78\"/>\n<polygon fill=\"black\" stroke=\"black\" points=\"4414.37,-189.64 4410.78,-179.67 4407.37,-189.7 4414.37,-189.64\"/>\n</g>\n<!-- 120 -->\n<g id=\"node121\" class=\"node\">\n<title>120</title>\n<path fill=\"#78bced\" stroke=\"black\" d=\"M4644.5,-187C4644.5,-187 4488.5,-187 4488.5,-187 4482.5,-187 4476.5,-181 4476.5,-175 4476.5,-175 4476.5,-116 4476.5,-116 4476.5,-110 4482.5,-104 4488.5,-104 4488.5,-104 4644.5,-104 4644.5,-104 4650.5,-104 4656.5,-110 4656.5,-116 4656.5,-116 4656.5,-175 4656.5,-175 4656.5,-181 4650.5,-187 4644.5,-187\"/>\n<text text-anchor=\"middle\" x=\"4566.5\" y=\"-171.8\" font-family=\"Helvetica,sans-Serif\" font-size=\"14.00\">km_por_ano &lt;= 38739.227</text>\n<text text-anchor=\"middle\" x=\"4566.5\" y=\"-156.8\" font-family=\"Helvetica,sans-Serif\" font-size=\"14.00\">gini = 0.365</text>\n<text text-anchor=\"middle\" x=\"4566.5\" y=\"-141.8\" font-family=\"Helvetica,sans-Serif\" font-size=\"14.00\">samples = 25</text>\n<text text-anchor=\"middle\" x=\"4566.5\" y=\"-126.8\" font-family=\"Helvetica,sans-Serif\" font-size=\"14.00\">value = [6, 19]</text>\n<text text-anchor=\"middle\" x=\"4566.5\" y=\"-111.8\" font-family=\"Helvetica,sans-Serif\" font-size=\"14.00\">class = sim</text>\n</g>\n<!-- 118&#45;&gt;120 -->\n<g id=\"edge120\" class=\"edge\">\n<title>118&#45;&gt;120</title>\n<path fill=\"none\" stroke=\"black\" d=\"M4465.28,-222.91C4478.02,-213.29 4491.71,-202.95 4504.78,-193.09\"/>\n<polygon fill=\"black\" stroke=\"black\" points=\"4506.95,-195.84 4512.82,-187.02 4502.73,-190.25 4506.95,-195.84\"/>\n</g>\n<!-- 121 -->\n<g id=\"node122\" class=\"node\">\n<title>121</title>\n<path fill=\"#399de5\" stroke=\"black\" d=\"M4517,-68C4517,-68 4446,-68 4446,-68 4440,-68 4434,-62 4434,-56 4434,-56 4434,-12 4434,-12 4434,-6 4440,0 4446,0 4446,0 4517,0 4517,0 4523,0 4529,-6 4529,-12 4529,-12 4529,-56 4529,-56 4529,-62 4523,-68 4517,-68\"/>\n<text text-anchor=\"middle\" x=\"4481.5\" y=\"-52.8\" font-family=\"Helvetica,sans-Serif\" font-size=\"14.00\">gini = 0.0</text>\n<text text-anchor=\"middle\" x=\"4481.5\" y=\"-37.8\" font-family=\"Helvetica,sans-Serif\" font-size=\"14.00\">samples = 5</text>\n<text text-anchor=\"middle\" x=\"4481.5\" y=\"-22.8\" font-family=\"Helvetica,sans-Serif\" font-size=\"14.00\">value = [0, 5]</text>\n<text text-anchor=\"middle\" x=\"4481.5\" y=\"-7.8\" font-family=\"Helvetica,sans-Serif\" font-size=\"14.00\">class = sim</text>\n</g>\n<!-- 120&#45;&gt;121 -->\n<g id=\"edge121\" class=\"edge\">\n<title>120&#45;&gt;121</title>\n<path fill=\"none\" stroke=\"black\" d=\"M4534.85,-103.73C4527.91,-94.79 4520.56,-85.32 4513.6,-76.36\"/>\n<polygon fill=\"black\" stroke=\"black\" points=\"4516.25,-74.05 4507.35,-68.3 4510.72,-78.35 4516.25,-74.05\"/>\n</g>\n<!-- 122 -->\n<g id=\"node123\" class=\"node\">\n<title>122</title>\n<path fill=\"#8ec7f0\" stroke=\"black\" d=\"M4637.5,-68C4637.5,-68 4559.5,-68 4559.5,-68 4553.5,-68 4547.5,-62 4547.5,-56 4547.5,-56 4547.5,-12 4547.5,-12 4547.5,-6 4553.5,0 4559.5,0 4559.5,0 4637.5,0 4637.5,0 4643.5,0 4649.5,-6 4649.5,-12 4649.5,-12 4649.5,-56 4649.5,-56 4649.5,-62 4643.5,-68 4637.5,-68\"/>\n<text text-anchor=\"middle\" x=\"4598.5\" y=\"-52.8\" font-family=\"Helvetica,sans-Serif\" font-size=\"14.00\">gini = 0.42</text>\n<text text-anchor=\"middle\" x=\"4598.5\" y=\"-37.8\" font-family=\"Helvetica,sans-Serif\" font-size=\"14.00\">samples = 20</text>\n<text text-anchor=\"middle\" x=\"4598.5\" y=\"-22.8\" font-family=\"Helvetica,sans-Serif\" font-size=\"14.00\">value = [6, 14]</text>\n<text text-anchor=\"middle\" x=\"4598.5\" y=\"-7.8\" font-family=\"Helvetica,sans-Serif\" font-size=\"14.00\">class = sim</text>\n</g>\n<!-- 120&#45;&gt;122 -->\n<g id=\"edge122\" class=\"edge\">\n<title>120&#45;&gt;122</title>\n<path fill=\"none\" stroke=\"black\" d=\"M4578.42,-103.73C4580.87,-95.34 4583.46,-86.47 4585.93,-78.01\"/>\n<polygon fill=\"black\" stroke=\"black\" points=\"4589.32,-78.88 4588.77,-68.3 4582.6,-76.92 4589.32,-78.88\"/>\n</g>\n<!-- 124 -->\n<g id=\"node125\" class=\"node\">\n<title>124</title>\n<path fill=\"#f7dac5\" stroke=\"black\" d=\"M5121.5,-544C5121.5,-544 4965.5,-544 4965.5,-544 4959.5,-544 4953.5,-538 4953.5,-532 4953.5,-532 4953.5,-473 4953.5,-473 4953.5,-467 4959.5,-461 4965.5,-461 4965.5,-461 5121.5,-461 5121.5,-461 5127.5,-461 5133.5,-467 5133.5,-473 5133.5,-473 5133.5,-532 5133.5,-532 5133.5,-538 5127.5,-544 5121.5,-544\"/>\n<text text-anchor=\"middle\" x=\"5043.5\" y=\"-528.8\" font-family=\"Helvetica,sans-Serif\" font-size=\"14.00\">km_por_ano &lt;= 46662.812</text>\n<text text-anchor=\"middle\" x=\"5043.5\" y=\"-513.8\" font-family=\"Helvetica,sans-Serif\" font-size=\"14.00\">gini = 0.485</text>\n<text text-anchor=\"middle\" x=\"5043.5\" y=\"-498.8\" font-family=\"Helvetica,sans-Serif\" font-size=\"14.00\">samples = 29</text>\n<text text-anchor=\"middle\" x=\"5043.5\" y=\"-483.8\" font-family=\"Helvetica,sans-Serif\" font-size=\"14.00\">value = [17, 12]</text>\n<text text-anchor=\"middle\" x=\"5043.5\" y=\"-468.8\" font-family=\"Helvetica,sans-Serif\" font-size=\"14.00\">class = nao</text>\n</g>\n<!-- 123&#45;&gt;124 -->\n<g id=\"edge124\" class=\"edge\">\n<title>123&#45;&gt;124</title>\n<path fill=\"none\" stroke=\"black\" d=\"M5043.5,-579.91C5043.5,-571.65 5043.5,-562.86 5043.5,-554.3\"/>\n<polygon fill=\"black\" stroke=\"black\" points=\"5047,-554.02 5043.5,-544.02 5040,-554.02 5047,-554.02\"/>\n</g>\n<!-- 135 -->\n<g id=\"node136\" class=\"node\">\n<title>135</title>\n<path fill=\"#6fb8ec\" stroke=\"black\" d=\"M5380.5,-544C5380.5,-544 5224.5,-544 5224.5,-544 5218.5,-544 5212.5,-538 5212.5,-532 5212.5,-532 5212.5,-473 5212.5,-473 5212.5,-467 5218.5,-461 5224.5,-461 5224.5,-461 5380.5,-461 5380.5,-461 5386.5,-461 5392.5,-467 5392.5,-473 5392.5,-473 5392.5,-532 5392.5,-532 5392.5,-538 5386.5,-544 5380.5,-544\"/>\n<text text-anchor=\"middle\" x=\"5302.5\" y=\"-528.8\" font-family=\"Helvetica,sans-Serif\" font-size=\"14.00\">km_por_ano &lt;= 47885.912</text>\n<text text-anchor=\"middle\" x=\"5302.5\" y=\"-513.8\" font-family=\"Helvetica,sans-Serif\" font-size=\"14.00\">gini = 0.337</text>\n<text text-anchor=\"middle\" x=\"5302.5\" y=\"-498.8\" font-family=\"Helvetica,sans-Serif\" font-size=\"14.00\">samples = 28</text>\n<text text-anchor=\"middle\" x=\"5302.5\" y=\"-483.8\" font-family=\"Helvetica,sans-Serif\" font-size=\"14.00\">value = [6, 22]</text>\n<text text-anchor=\"middle\" x=\"5302.5\" y=\"-468.8\" font-family=\"Helvetica,sans-Serif\" font-size=\"14.00\">class = sim</text>\n</g>\n<!-- 123&#45;&gt;135 -->\n<g id=\"edge135\" class=\"edge\">\n<title>123&#45;&gt;135</title>\n<path fill=\"none\" stroke=\"black\" d=\"M5112.57,-589.3C5140.41,-576.72 5173.05,-561.98 5203.35,-548.29\"/>\n<polygon fill=\"black\" stroke=\"black\" points=\"5204.99,-551.39 5212.66,-544.08 5202.11,-545.01 5204.99,-551.39\"/>\n</g>\n<!-- 125 -->\n<g id=\"node126\" class=\"node\">\n<title>125</title>\n<path fill=\"#f1bc96\" stroke=\"black\" d=\"M5043,-425C5043,-425 4892,-425 4892,-425 4886,-425 4880,-419 4880,-413 4880,-413 4880,-354 4880,-354 4880,-348 4886,-342 4892,-342 4892,-342 5043,-342 5043,-342 5049,-342 5055,-348 5055,-354 5055,-354 5055,-413 5055,-413 5055,-419 5049,-425 5043,-425\"/>\n<text text-anchor=\"middle\" x=\"4967.5\" y=\"-409.8\" font-family=\"Helvetica,sans-Serif\" font-size=\"14.00\">idade_do_modelo &lt;= 18.5</text>\n<text text-anchor=\"middle\" x=\"4967.5\" y=\"-394.8\" font-family=\"Helvetica,sans-Serif\" font-size=\"14.00\">gini = 0.435</text>\n<text text-anchor=\"middle\" x=\"4967.5\" y=\"-379.8\" font-family=\"Helvetica,sans-Serif\" font-size=\"14.00\">samples = 25</text>\n<text text-anchor=\"middle\" x=\"4967.5\" y=\"-364.8\" font-family=\"Helvetica,sans-Serif\" font-size=\"14.00\">value = [17, 8]</text>\n<text text-anchor=\"middle\" x=\"4967.5\" y=\"-349.8\" font-family=\"Helvetica,sans-Serif\" font-size=\"14.00\">class = nao</text>\n</g>\n<!-- 124&#45;&gt;125 -->\n<g id=\"edge125\" class=\"edge\">\n<title>124&#45;&gt;125</title>\n<path fill=\"none\" stroke=\"black\" d=\"M5017.13,-460.91C5011.41,-452.1 5005.31,-442.7 4999.4,-433.61\"/>\n<polygon fill=\"black\" stroke=\"black\" points=\"5002.2,-431.5 4993.82,-425.02 4996.33,-435.31 5002.2,-431.5\"/>\n</g>\n<!-- 134 -->\n<g id=\"node135\" class=\"node\">\n<title>134</title>\n<path fill=\"#399de5\" stroke=\"black\" d=\"M5156,-417.5C5156,-417.5 5085,-417.5 5085,-417.5 5079,-417.5 5073,-411.5 5073,-405.5 5073,-405.5 5073,-361.5 5073,-361.5 5073,-355.5 5079,-349.5 5085,-349.5 5085,-349.5 5156,-349.5 5156,-349.5 5162,-349.5 5168,-355.5 5168,-361.5 5168,-361.5 5168,-405.5 5168,-405.5 5168,-411.5 5162,-417.5 5156,-417.5\"/>\n<text text-anchor=\"middle\" x=\"5120.5\" y=\"-402.3\" font-family=\"Helvetica,sans-Serif\" font-size=\"14.00\">gini = 0.0</text>\n<text text-anchor=\"middle\" x=\"5120.5\" y=\"-387.3\" font-family=\"Helvetica,sans-Serif\" font-size=\"14.00\">samples = 4</text>\n<text text-anchor=\"middle\" x=\"5120.5\" y=\"-372.3\" font-family=\"Helvetica,sans-Serif\" font-size=\"14.00\">value = [0, 4]</text>\n<text text-anchor=\"middle\" x=\"5120.5\" y=\"-357.3\" font-family=\"Helvetica,sans-Serif\" font-size=\"14.00\">class = sim</text>\n</g>\n<!-- 124&#45;&gt;134 -->\n<g id=\"edge134\" class=\"edge\">\n<title>124&#45;&gt;134</title>\n<path fill=\"none\" stroke=\"black\" d=\"M5070.21,-460.91C5077.62,-449.65 5085.67,-437.42 5093.12,-426.11\"/>\n<polygon fill=\"black\" stroke=\"black\" points=\"5096.1,-427.94 5098.67,-417.67 5090.25,-424.1 5096.1,-427.94\"/>\n</g>\n<!-- 126 -->\n<g id=\"node127\" class=\"node\">\n<title>126</title>\n<path fill=\"#eca06a\" stroke=\"black\" d=\"M4966.5,-306C4966.5,-306 4810.5,-306 4810.5,-306 4804.5,-306 4798.5,-300 4798.5,-294 4798.5,-294 4798.5,-235 4798.5,-235 4798.5,-229 4804.5,-223 4810.5,-223 4810.5,-223 4966.5,-223 4966.5,-223 4972.5,-223 4978.5,-229 4978.5,-235 4978.5,-235 4978.5,-294 4978.5,-294 4978.5,-300 4972.5,-306 4966.5,-306\"/>\n<text text-anchor=\"middle\" x=\"4888.5\" y=\"-290.8\" font-family=\"Helvetica,sans-Serif\" font-size=\"14.00\">km_por_ano &lt;= 41415.561</text>\n<text text-anchor=\"middle\" x=\"4888.5\" y=\"-275.8\" font-family=\"Helvetica,sans-Serif\" font-size=\"14.00\">gini = 0.32</text>\n<text text-anchor=\"middle\" x=\"4888.5\" y=\"-260.8\" font-family=\"Helvetica,sans-Serif\" font-size=\"14.00\">samples = 20</text>\n<text text-anchor=\"middle\" x=\"4888.5\" y=\"-245.8\" font-family=\"Helvetica,sans-Serif\" font-size=\"14.00\">value = [16, 4]</text>\n<text text-anchor=\"middle\" x=\"4888.5\" y=\"-230.8\" font-family=\"Helvetica,sans-Serif\" font-size=\"14.00\">class = nao</text>\n</g>\n<!-- 125&#45;&gt;126 -->\n<g id=\"edge126\" class=\"edge\">\n<title>125&#45;&gt;126</title>\n<path fill=\"none\" stroke=\"black\" d=\"M4940.09,-341.91C4934.09,-333.01 4927.67,-323.51 4921.47,-314.33\"/>\n<polygon fill=\"black\" stroke=\"black\" points=\"4924.36,-312.35 4915.86,-306.02 4918.56,-316.27 4924.36,-312.35\"/>\n</g>\n<!-- 131 -->\n<g id=\"node132\" class=\"node\">\n<title>131</title>\n<path fill=\"#6ab6ec\" stroke=\"black\" d=\"M5122.5,-306C5122.5,-306 5008.5,-306 5008.5,-306 5002.5,-306 4996.5,-300 4996.5,-294 4996.5,-294 4996.5,-235 4996.5,-235 4996.5,-229 5002.5,-223 5008.5,-223 5008.5,-223 5122.5,-223 5122.5,-223 5128.5,-223 5134.5,-229 5134.5,-235 5134.5,-235 5134.5,-294 5134.5,-294 5134.5,-300 5128.5,-306 5122.5,-306\"/>\n<text text-anchor=\"middle\" x=\"5065.5\" y=\"-290.8\" font-family=\"Helvetica,sans-Serif\" font-size=\"14.00\">preco &lt;= 53209.369</text>\n<text text-anchor=\"middle\" x=\"5065.5\" y=\"-275.8\" font-family=\"Helvetica,sans-Serif\" font-size=\"14.00\">gini = 0.32</text>\n<text text-anchor=\"middle\" x=\"5065.5\" y=\"-260.8\" font-family=\"Helvetica,sans-Serif\" font-size=\"14.00\">samples = 5</text>\n<text text-anchor=\"middle\" x=\"5065.5\" y=\"-245.8\" font-family=\"Helvetica,sans-Serif\" font-size=\"14.00\">value = [1, 4]</text>\n<text text-anchor=\"middle\" x=\"5065.5\" y=\"-230.8\" font-family=\"Helvetica,sans-Serif\" font-size=\"14.00\">class = sim</text>\n</g>\n<!-- 125&#45;&gt;131 -->\n<g id=\"edge131\" class=\"edge\">\n<title>125&#45;&gt;131</title>\n<path fill=\"none\" stroke=\"black\" d=\"M5001.5,-341.91C5009.1,-332.83 5017.24,-323.12 5025.07,-313.77\"/>\n<polygon fill=\"black\" stroke=\"black\" points=\"5027.82,-315.93 5031.56,-306.02 5022.46,-311.44 5027.82,-315.93\"/>\n</g>\n<!-- 127 -->\n<g id=\"node128\" class=\"node\">\n<title>127</title>\n<path fill=\"#efb388\" stroke=\"black\" d=\"M4842.5,-187C4842.5,-187 4686.5,-187 4686.5,-187 4680.5,-187 4674.5,-181 4674.5,-175 4674.5,-175 4674.5,-116 4674.5,-116 4674.5,-110 4680.5,-104 4686.5,-104 4686.5,-104 4842.5,-104 4842.5,-104 4848.5,-104 4854.5,-110 4854.5,-116 4854.5,-116 4854.5,-175 4854.5,-175 4854.5,-181 4848.5,-187 4842.5,-187\"/>\n<text text-anchor=\"middle\" x=\"4764.5\" y=\"-171.8\" font-family=\"Helvetica,sans-Serif\" font-size=\"14.00\">km_por_ano &lt;= 41266.697</text>\n<text text-anchor=\"middle\" x=\"4764.5\" y=\"-156.8\" font-family=\"Helvetica,sans-Serif\" font-size=\"14.00\">gini = 0.408</text>\n<text text-anchor=\"middle\" x=\"4764.5\" y=\"-141.8\" font-family=\"Helvetica,sans-Serif\" font-size=\"14.00\">samples = 14</text>\n<text text-anchor=\"middle\" x=\"4764.5\" y=\"-126.8\" font-family=\"Helvetica,sans-Serif\" font-size=\"14.00\">value = [10, 4]</text>\n<text text-anchor=\"middle\" x=\"4764.5\" y=\"-111.8\" font-family=\"Helvetica,sans-Serif\" font-size=\"14.00\">class = nao</text>\n</g>\n<!-- 126&#45;&gt;127 -->\n<g id=\"edge127\" class=\"edge\">\n<title>126&#45;&gt;127</title>\n<path fill=\"none\" stroke=\"black\" d=\"M4845.48,-222.91C4835.57,-213.56 4824.95,-203.54 4814.77,-193.93\"/>\n<polygon fill=\"black\" stroke=\"black\" points=\"4817.12,-191.34 4807.45,-187.02 4812.32,-196.43 4817.12,-191.34\"/>\n</g>\n<!-- 130 -->\n<g id=\"node131\" class=\"node\">\n<title>130</title>\n<path fill=\"#e58139\" stroke=\"black\" d=\"M4956,-179.5C4956,-179.5 4885,-179.5 4885,-179.5 4879,-179.5 4873,-173.5 4873,-167.5 4873,-167.5 4873,-123.5 4873,-123.5 4873,-117.5 4879,-111.5 4885,-111.5 4885,-111.5 4956,-111.5 4956,-111.5 4962,-111.5 4968,-117.5 4968,-123.5 4968,-123.5 4968,-167.5 4968,-167.5 4968,-173.5 4962,-179.5 4956,-179.5\"/>\n<text text-anchor=\"middle\" x=\"4920.5\" y=\"-164.3\" font-family=\"Helvetica,sans-Serif\" font-size=\"14.00\">gini = 0.0</text>\n<text text-anchor=\"middle\" x=\"4920.5\" y=\"-149.3\" font-family=\"Helvetica,sans-Serif\" font-size=\"14.00\">samples = 6</text>\n<text text-anchor=\"middle\" x=\"4920.5\" y=\"-134.3\" font-family=\"Helvetica,sans-Serif\" font-size=\"14.00\">value = [6, 0]</text>\n<text text-anchor=\"middle\" x=\"4920.5\" y=\"-119.3\" font-family=\"Helvetica,sans-Serif\" font-size=\"14.00\">class = nao</text>\n</g>\n<!-- 126&#45;&gt;130 -->\n<g id=\"edge130\" class=\"edge\">\n<title>126&#45;&gt;130</title>\n<path fill=\"none\" stroke=\"black\" d=\"M4899.6,-222.91C4902.56,-212.09 4905.76,-200.38 4908.76,-189.44\"/>\n<polygon fill=\"black\" stroke=\"black\" points=\"4912.17,-190.24 4911.43,-179.67 4905.41,-188.39 4912.17,-190.24\"/>\n</g>\n<!-- 128 -->\n<g id=\"node129\" class=\"node\">\n<title>128</title>\n<path fill=\"#eda774\" stroke=\"black\" d=\"M4780.5,-68C4780.5,-68 4702.5,-68 4702.5,-68 4696.5,-68 4690.5,-62 4690.5,-56 4690.5,-56 4690.5,-12 4690.5,-12 4690.5,-6 4696.5,0 4702.5,0 4702.5,0 4780.5,0 4780.5,0 4786.5,0 4792.5,-6 4792.5,-12 4792.5,-12 4792.5,-56 4792.5,-56 4792.5,-62 4786.5,-68 4780.5,-68\"/>\n<text text-anchor=\"middle\" x=\"4741.5\" y=\"-52.8\" font-family=\"Helvetica,sans-Serif\" font-size=\"14.00\">gini = 0.355</text>\n<text text-anchor=\"middle\" x=\"4741.5\" y=\"-37.8\" font-family=\"Helvetica,sans-Serif\" font-size=\"14.00\">samples = 13</text>\n<text text-anchor=\"middle\" x=\"4741.5\" y=\"-22.8\" font-family=\"Helvetica,sans-Serif\" font-size=\"14.00\">value = [10, 3]</text>\n<text text-anchor=\"middle\" x=\"4741.5\" y=\"-7.8\" font-family=\"Helvetica,sans-Serif\" font-size=\"14.00\">class = nao</text>\n</g>\n<!-- 127&#45;&gt;128 -->\n<g id=\"edge128\" class=\"edge\">\n<title>127&#45;&gt;128</title>\n<path fill=\"none\" stroke=\"black\" d=\"M4755.94,-103.73C4754.19,-95.43 4752.35,-86.67 4750.59,-78.28\"/>\n<polygon fill=\"black\" stroke=\"black\" points=\"4753.98,-77.37 4748.49,-68.3 4747.12,-78.81 4753.98,-77.37\"/>\n</g>\n<!-- 129 -->\n<g id=\"node130\" class=\"node\">\n<title>129</title>\n<path fill=\"#399de5\" stroke=\"black\" d=\"M4894,-68C4894,-68 4823,-68 4823,-68 4817,-68 4811,-62 4811,-56 4811,-56 4811,-12 4811,-12 4811,-6 4817,0 4823,0 4823,0 4894,0 4894,0 4900,0 4906,-6 4906,-12 4906,-12 4906,-56 4906,-56 4906,-62 4900,-68 4894,-68\"/>\n<text text-anchor=\"middle\" x=\"4858.5\" y=\"-52.8\" font-family=\"Helvetica,sans-Serif\" font-size=\"14.00\">gini = 0.0</text>\n<text text-anchor=\"middle\" x=\"4858.5\" y=\"-37.8\" font-family=\"Helvetica,sans-Serif\" font-size=\"14.00\">samples = 1</text>\n<text text-anchor=\"middle\" x=\"4858.5\" y=\"-22.8\" font-family=\"Helvetica,sans-Serif\" font-size=\"14.00\">value = [0, 1]</text>\n<text text-anchor=\"middle\" x=\"4858.5\" y=\"-7.8\" font-family=\"Helvetica,sans-Serif\" font-size=\"14.00\">class = sim</text>\n</g>\n<!-- 127&#45;&gt;129 -->\n<g id=\"edge129\" class=\"edge\">\n<title>127&#45;&gt;129</title>\n<path fill=\"none\" stroke=\"black\" d=\"M4799.5,-103.73C4807.25,-94.7 4815.47,-85.12 4823.23,-76.08\"/>\n<polygon fill=\"black\" stroke=\"black\" points=\"4826.06,-78.17 4829.91,-68.3 4820.74,-73.61 4826.06,-78.17\"/>\n</g>\n<!-- 132 -->\n<g id=\"node133\" class=\"node\">\n<title>132</title>\n<path fill=\"#e58139\" stroke=\"black\" d=\"M5069,-179.5C5069,-179.5 4998,-179.5 4998,-179.5 4992,-179.5 4986,-173.5 4986,-167.5 4986,-167.5 4986,-123.5 4986,-123.5 4986,-117.5 4992,-111.5 4998,-111.5 4998,-111.5 5069,-111.5 5069,-111.5 5075,-111.5 5081,-117.5 5081,-123.5 5081,-123.5 5081,-167.5 5081,-167.5 5081,-173.5 5075,-179.5 5069,-179.5\"/>\n<text text-anchor=\"middle\" x=\"5033.5\" y=\"-164.3\" font-family=\"Helvetica,sans-Serif\" font-size=\"14.00\">gini = 0.0</text>\n<text text-anchor=\"middle\" x=\"5033.5\" y=\"-149.3\" font-family=\"Helvetica,sans-Serif\" font-size=\"14.00\">samples = 1</text>\n<text text-anchor=\"middle\" x=\"5033.5\" y=\"-134.3\" font-family=\"Helvetica,sans-Serif\" font-size=\"14.00\">value = [1, 0]</text>\n<text text-anchor=\"middle\" x=\"5033.5\" y=\"-119.3\" font-family=\"Helvetica,sans-Serif\" font-size=\"14.00\">class = nao</text>\n</g>\n<!-- 131&#45;&gt;132 -->\n<g id=\"edge132\" class=\"edge\">\n<title>131&#45;&gt;132</title>\n<path fill=\"none\" stroke=\"black\" d=\"M5054.4,-222.91C5051.44,-212.09 5048.24,-200.38 5045.24,-189.44\"/>\n<polygon fill=\"black\" stroke=\"black\" points=\"5048.59,-188.39 5042.57,-179.67 5041.83,-190.24 5048.59,-188.39\"/>\n</g>\n<!-- 133 -->\n<g id=\"node134\" class=\"node\">\n<title>133</title>\n<path fill=\"#399de5\" stroke=\"black\" d=\"M5182,-179.5C5182,-179.5 5111,-179.5 5111,-179.5 5105,-179.5 5099,-173.5 5099,-167.5 5099,-167.5 5099,-123.5 5099,-123.5 5099,-117.5 5105,-111.5 5111,-111.5 5111,-111.5 5182,-111.5 5182,-111.5 5188,-111.5 5194,-117.5 5194,-123.5 5194,-123.5 5194,-167.5 5194,-167.5 5194,-173.5 5188,-179.5 5182,-179.5\"/>\n<text text-anchor=\"middle\" x=\"5146.5\" y=\"-164.3\" font-family=\"Helvetica,sans-Serif\" font-size=\"14.00\">gini = 0.0</text>\n<text text-anchor=\"middle\" x=\"5146.5\" y=\"-149.3\" font-family=\"Helvetica,sans-Serif\" font-size=\"14.00\">samples = 4</text>\n<text text-anchor=\"middle\" x=\"5146.5\" y=\"-134.3\" font-family=\"Helvetica,sans-Serif\" font-size=\"14.00\">value = [0, 4]</text>\n<text text-anchor=\"middle\" x=\"5146.5\" y=\"-119.3\" font-family=\"Helvetica,sans-Serif\" font-size=\"14.00\">class = sim</text>\n</g>\n<!-- 131&#45;&gt;133 -->\n<g id=\"edge133\" class=\"edge\">\n<title>131&#45;&gt;133</title>\n<path fill=\"none\" stroke=\"black\" d=\"M5093.6,-222.91C5101.39,-211.65 5109.86,-199.42 5117.7,-188.11\"/>\n<polygon fill=\"black\" stroke=\"black\" points=\"5120.72,-189.88 5123.54,-179.67 5114.97,-185.9 5120.72,-189.88\"/>\n</g>\n<!-- 136 -->\n<g id=\"node137\" class=\"node\">\n<title>136</title>\n<path fill=\"#66b3eb\" stroke=\"black\" d=\"M5359.5,-425C5359.5,-425 5245.5,-425 5245.5,-425 5239.5,-425 5233.5,-419 5233.5,-413 5233.5,-413 5233.5,-354 5233.5,-354 5233.5,-348 5239.5,-342 5245.5,-342 5245.5,-342 5359.5,-342 5359.5,-342 5365.5,-342 5371.5,-348 5371.5,-354 5371.5,-354 5371.5,-413 5371.5,-413 5371.5,-419 5365.5,-425 5359.5,-425\"/>\n<text text-anchor=\"middle\" x=\"5302.5\" y=\"-409.8\" font-family=\"Helvetica,sans-Serif\" font-size=\"14.00\">preco &lt;= 58856.904</text>\n<text text-anchor=\"middle\" x=\"5302.5\" y=\"-394.8\" font-family=\"Helvetica,sans-Serif\" font-size=\"14.00\">gini = 0.302</text>\n<text text-anchor=\"middle\" x=\"5302.5\" y=\"-379.8\" font-family=\"Helvetica,sans-Serif\" font-size=\"14.00\">samples = 27</text>\n<text text-anchor=\"middle\" x=\"5302.5\" y=\"-364.8\" font-family=\"Helvetica,sans-Serif\" font-size=\"14.00\">value = [5, 22]</text>\n<text text-anchor=\"middle\" x=\"5302.5\" y=\"-349.8\" font-family=\"Helvetica,sans-Serif\" font-size=\"14.00\">class = sim</text>\n</g>\n<!-- 135&#45;&gt;136 -->\n<g id=\"edge136\" class=\"edge\">\n<title>135&#45;&gt;136</title>\n<path fill=\"none\" stroke=\"black\" d=\"M5302.5,-460.91C5302.5,-452.65 5302.5,-443.86 5302.5,-435.3\"/>\n<polygon fill=\"black\" stroke=\"black\" points=\"5306,-435.02 5302.5,-425.02 5299,-435.02 5306,-435.02\"/>\n</g>\n<!-- 145 -->\n<g id=\"node146\" class=\"node\">\n<title>145</title>\n<path fill=\"#e58139\" stroke=\"black\" d=\"M5473,-417.5C5473,-417.5 5402,-417.5 5402,-417.5 5396,-417.5 5390,-411.5 5390,-405.5 5390,-405.5 5390,-361.5 5390,-361.5 5390,-355.5 5396,-349.5 5402,-349.5 5402,-349.5 5473,-349.5 5473,-349.5 5479,-349.5 5485,-355.5 5485,-361.5 5485,-361.5 5485,-405.5 5485,-405.5 5485,-411.5 5479,-417.5 5473,-417.5\"/>\n<text text-anchor=\"middle\" x=\"5437.5\" y=\"-402.3\" font-family=\"Helvetica,sans-Serif\" font-size=\"14.00\">gini = 0.0</text>\n<text text-anchor=\"middle\" x=\"5437.5\" y=\"-387.3\" font-family=\"Helvetica,sans-Serif\" font-size=\"14.00\">samples = 1</text>\n<text text-anchor=\"middle\" x=\"5437.5\" y=\"-372.3\" font-family=\"Helvetica,sans-Serif\" font-size=\"14.00\">value = [1, 0]</text>\n<text text-anchor=\"middle\" x=\"5437.5\" y=\"-357.3\" font-family=\"Helvetica,sans-Serif\" font-size=\"14.00\">class = nao</text>\n</g>\n<!-- 135&#45;&gt;145 -->\n<g id=\"edge145\" class=\"edge\">\n<title>135&#45;&gt;145</title>\n<path fill=\"none\" stroke=\"black\" d=\"M5349.34,-460.91C5362.96,-449.1 5377.83,-436.22 5391.4,-424.45\"/>\n<polygon fill=\"black\" stroke=\"black\" points=\"5393.97,-426.86 5399.23,-417.67 5389.38,-421.57 5393.97,-426.86\"/>\n</g>\n<!-- 137 -->\n<g id=\"node138\" class=\"node\">\n<title>137</title>\n<path fill=\"#80c0ee\" stroke=\"black\" d=\"M5356,-306C5356,-306 5249,-306 5249,-306 5243,-306 5237,-300 5237,-294 5237,-294 5237,-235 5237,-235 5237,-229 5243,-223 5249,-223 5249,-223 5356,-223 5356,-223 5362,-223 5368,-229 5368,-235 5368,-235 5368,-294 5368,-294 5368,-300 5362,-306 5356,-306\"/>\n<text text-anchor=\"middle\" x=\"5302.5\" y=\"-290.8\" font-family=\"Helvetica,sans-Serif\" font-size=\"14.00\">preco &lt;= 58510.74</text>\n<text text-anchor=\"middle\" x=\"5302.5\" y=\"-275.8\" font-family=\"Helvetica,sans-Serif\" font-size=\"14.00\">gini = 0.388</text>\n<text text-anchor=\"middle\" x=\"5302.5\" y=\"-260.8\" font-family=\"Helvetica,sans-Serif\" font-size=\"14.00\">samples = 19</text>\n<text text-anchor=\"middle\" x=\"5302.5\" y=\"-245.8\" font-family=\"Helvetica,sans-Serif\" font-size=\"14.00\">value = [5, 14]</text>\n<text text-anchor=\"middle\" x=\"5302.5\" y=\"-230.8\" font-family=\"Helvetica,sans-Serif\" font-size=\"14.00\">class = sim</text>\n</g>\n<!-- 136&#45;&gt;137 -->\n<g id=\"edge137\" class=\"edge\">\n<title>136&#45;&gt;137</title>\n<path fill=\"none\" stroke=\"black\" d=\"M5302.5,-341.91C5302.5,-333.65 5302.5,-324.86 5302.5,-316.3\"/>\n<polygon fill=\"black\" stroke=\"black\" points=\"5306,-316.02 5302.5,-306.02 5299,-316.02 5306,-316.02\"/>\n</g>\n<!-- 144 -->\n<g id=\"node145\" class=\"node\">\n<title>144</title>\n<path fill=\"#399de5\" stroke=\"black\" d=\"M5469,-298.5C5469,-298.5 5398,-298.5 5398,-298.5 5392,-298.5 5386,-292.5 5386,-286.5 5386,-286.5 5386,-242.5 5386,-242.5 5386,-236.5 5392,-230.5 5398,-230.5 5398,-230.5 5469,-230.5 5469,-230.5 5475,-230.5 5481,-236.5 5481,-242.5 5481,-242.5 5481,-286.5 5481,-286.5 5481,-292.5 5475,-298.5 5469,-298.5\"/>\n<text text-anchor=\"middle\" x=\"5433.5\" y=\"-283.3\" font-family=\"Helvetica,sans-Serif\" font-size=\"14.00\">gini = 0.0</text>\n<text text-anchor=\"middle\" x=\"5433.5\" y=\"-268.3\" font-family=\"Helvetica,sans-Serif\" font-size=\"14.00\">samples = 8</text>\n<text text-anchor=\"middle\" x=\"5433.5\" y=\"-253.3\" font-family=\"Helvetica,sans-Serif\" font-size=\"14.00\">value = [0, 8]</text>\n<text text-anchor=\"middle\" x=\"5433.5\" y=\"-238.3\" font-family=\"Helvetica,sans-Serif\" font-size=\"14.00\">class = sim</text>\n</g>\n<!-- 136&#45;&gt;144 -->\n<g id=\"edge144\" class=\"edge\">\n<title>136&#45;&gt;144</title>\n<path fill=\"none\" stroke=\"black\" d=\"M5347.95,-341.91C5361.17,-330.1 5375.6,-317.22 5388.77,-305.45\"/>\n<polygon fill=\"black\" stroke=\"black\" points=\"5391.24,-307.94 5396.36,-298.67 5386.57,-302.72 5391.24,-307.94\"/>\n</g>\n<!-- 138 -->\n<g id=\"node139\" class=\"node\">\n<title>138</title>\n<path fill=\"#67b4eb\" stroke=\"black\" d=\"M5380.5,-187C5380.5,-187 5224.5,-187 5224.5,-187 5218.5,-187 5212.5,-181 5212.5,-175 5212.5,-175 5212.5,-116 5212.5,-116 5212.5,-110 5218.5,-104 5224.5,-104 5224.5,-104 5380.5,-104 5380.5,-104 5386.5,-104 5392.5,-110 5392.5,-116 5392.5,-116 5392.5,-175 5392.5,-175 5392.5,-181 5386.5,-187 5380.5,-187\"/>\n<text text-anchor=\"middle\" x=\"5302.5\" y=\"-171.8\" font-family=\"Helvetica,sans-Serif\" font-size=\"14.00\">km_por_ano &lt;= 37051.834</text>\n<text text-anchor=\"middle\" x=\"5302.5\" y=\"-156.8\" font-family=\"Helvetica,sans-Serif\" font-size=\"14.00\">gini = 0.305</text>\n<text text-anchor=\"middle\" x=\"5302.5\" y=\"-141.8\" font-family=\"Helvetica,sans-Serif\" font-size=\"14.00\">samples = 16</text>\n<text text-anchor=\"middle\" x=\"5302.5\" y=\"-126.8\" font-family=\"Helvetica,sans-Serif\" font-size=\"14.00\">value = [3, 13]</text>\n<text text-anchor=\"middle\" x=\"5302.5\" y=\"-111.8\" font-family=\"Helvetica,sans-Serif\" font-size=\"14.00\">class = sim</text>\n</g>\n<!-- 137&#45;&gt;138 -->\n<g id=\"edge138\" class=\"edge\">\n<title>137&#45;&gt;138</title>\n<path fill=\"none\" stroke=\"black\" d=\"M5302.5,-222.91C5302.5,-214.65 5302.5,-205.86 5302.5,-197.3\"/>\n<polygon fill=\"black\" stroke=\"black\" points=\"5306,-197.02 5302.5,-187.02 5299,-197.02 5306,-197.02\"/>\n</g>\n<!-- 141 -->\n<g id=\"node142\" class=\"node\">\n<title>141</title>\n<path fill=\"#f2c09c\" stroke=\"black\" d=\"M5574,-187C5574,-187 5423,-187 5423,-187 5417,-187 5411,-181 5411,-175 5411,-175 5411,-116 5411,-116 5411,-110 5417,-104 5423,-104 5423,-104 5574,-104 5574,-104 5580,-104 5586,-110 5586,-116 5586,-116 5586,-175 5586,-175 5586,-181 5580,-187 5574,-187\"/>\n<text text-anchor=\"middle\" x=\"5498.5\" y=\"-171.8\" font-family=\"Helvetica,sans-Serif\" font-size=\"14.00\">idade_do_modelo &lt;= 13.0</text>\n<text text-anchor=\"middle\" x=\"5498.5\" y=\"-156.8\" font-family=\"Helvetica,sans-Serif\" font-size=\"14.00\">gini = 0.444</text>\n<text text-anchor=\"middle\" x=\"5498.5\" y=\"-141.8\" font-family=\"Helvetica,sans-Serif\" font-size=\"14.00\">samples = 3</text>\n<text text-anchor=\"middle\" x=\"5498.5\" y=\"-126.8\" font-family=\"Helvetica,sans-Serif\" font-size=\"14.00\">value = [2, 1]</text>\n<text text-anchor=\"middle\" x=\"5498.5\" y=\"-111.8\" font-family=\"Helvetica,sans-Serif\" font-size=\"14.00\">class = nao</text>\n</g>\n<!-- 137&#45;&gt;141 -->\n<g id=\"edge141\" class=\"edge\">\n<title>137&#45;&gt;141</title>\n<path fill=\"none\" stroke=\"black\" d=\"M5368.04,-224.38C5385.25,-214.1 5403.97,-202.93 5421.72,-192.33\"/>\n<polygon fill=\"black\" stroke=\"black\" points=\"5423.55,-195.32 5430.34,-187.19 5419.96,-189.31 5423.55,-195.32\"/>\n</g>\n<!-- 139 -->\n<g id=\"node140\" class=\"node\">\n<title>139</title>\n<path fill=\"#bddef6\" stroke=\"black\" d=\"M5225,-68C5225,-68 5154,-68 5154,-68 5148,-68 5142,-62 5142,-56 5142,-56 5142,-12 5142,-12 5142,-6 5148,0 5154,0 5154,0 5225,0 5225,0 5231,0 5237,-6 5237,-12 5237,-12 5237,-56 5237,-56 5237,-62 5231,-68 5225,-68\"/>\n<text text-anchor=\"middle\" x=\"5189.5\" y=\"-52.8\" font-family=\"Helvetica,sans-Serif\" font-size=\"14.00\">gini = 0.48</text>\n<text text-anchor=\"middle\" x=\"5189.5\" y=\"-37.8\" font-family=\"Helvetica,sans-Serif\" font-size=\"14.00\">samples = 5</text>\n<text text-anchor=\"middle\" x=\"5189.5\" y=\"-22.8\" font-family=\"Helvetica,sans-Serif\" font-size=\"14.00\">value = [2, 3]</text>\n<text text-anchor=\"middle\" x=\"5189.5\" y=\"-7.8\" font-family=\"Helvetica,sans-Serif\" font-size=\"14.00\">class = sim</text>\n</g>\n<!-- 138&#45;&gt;139 -->\n<g id=\"edge139\" class=\"edge\">\n<title>138&#45;&gt;139</title>\n<path fill=\"none\" stroke=\"black\" d=\"M5260.42,-103.73C5250.82,-94.42 5240.63,-84.54 5231.05,-75.26\"/>\n<polygon fill=\"black\" stroke=\"black\" points=\"5233.48,-72.75 5223.86,-68.3 5228.61,-77.77 5233.48,-72.75\"/>\n</g>\n<!-- 140 -->\n<g id=\"node141\" class=\"node\">\n<title>140</title>\n<path fill=\"#4da7e8\" stroke=\"black\" d=\"M5345.5,-68C5345.5,-68 5267.5,-68 5267.5,-68 5261.5,-68 5255.5,-62 5255.5,-56 5255.5,-56 5255.5,-12 5255.5,-12 5255.5,-6 5261.5,0 5267.5,0 5267.5,0 5345.5,0 5345.5,0 5351.5,0 5357.5,-6 5357.5,-12 5357.5,-12 5357.5,-56 5357.5,-56 5357.5,-62 5351.5,-68 5345.5,-68\"/>\n<text text-anchor=\"middle\" x=\"5306.5\" y=\"-52.8\" font-family=\"Helvetica,sans-Serif\" font-size=\"14.00\">gini = 0.165</text>\n<text text-anchor=\"middle\" x=\"5306.5\" y=\"-37.8\" font-family=\"Helvetica,sans-Serif\" font-size=\"14.00\">samples = 11</text>\n<text text-anchor=\"middle\" x=\"5306.5\" y=\"-22.8\" font-family=\"Helvetica,sans-Serif\" font-size=\"14.00\">value = [1, 10]</text>\n<text text-anchor=\"middle\" x=\"5306.5\" y=\"-7.8\" font-family=\"Helvetica,sans-Serif\" font-size=\"14.00\">class = sim</text>\n</g>\n<!-- 138&#45;&gt;140 -->\n<g id=\"edge140\" class=\"edge\">\n<title>138&#45;&gt;140</title>\n<path fill=\"none\" stroke=\"black\" d=\"M5303.99,-103.73C5304.29,-95.52 5304.61,-86.86 5304.91,-78.56\"/>\n<polygon fill=\"black\" stroke=\"black\" points=\"5308.42,-78.42 5305.28,-68.3 5301.42,-78.17 5308.42,-78.42\"/>\n</g>\n<!-- 142 -->\n<g id=\"node143\" class=\"node\">\n<title>142</title>\n<path fill=\"#399de5\" stroke=\"black\" d=\"M5463,-68C5463,-68 5392,-68 5392,-68 5386,-68 5380,-62 5380,-56 5380,-56 5380,-12 5380,-12 5380,-6 5386,0 5392,0 5392,0 5463,0 5463,0 5469,0 5475,-6 5475,-12 5475,-12 5475,-56 5475,-56 5475,-62 5469,-68 5463,-68\"/>\n<text text-anchor=\"middle\" x=\"5427.5\" y=\"-52.8\" font-family=\"Helvetica,sans-Serif\" font-size=\"14.00\">gini = 0.0</text>\n<text text-anchor=\"middle\" x=\"5427.5\" y=\"-37.8\" font-family=\"Helvetica,sans-Serif\" font-size=\"14.00\">samples = 1</text>\n<text text-anchor=\"middle\" x=\"5427.5\" y=\"-22.8\" font-family=\"Helvetica,sans-Serif\" font-size=\"14.00\">value = [0, 1]</text>\n<text text-anchor=\"middle\" x=\"5427.5\" y=\"-7.8\" font-family=\"Helvetica,sans-Serif\" font-size=\"14.00\">class = sim</text>\n</g>\n<!-- 141&#45;&gt;142 -->\n<g id=\"edge142\" class=\"edge\">\n<title>141&#45;&gt;142</title>\n<path fill=\"none\" stroke=\"black\" d=\"M5472.06,-103.73C5466.38,-94.97 5460.38,-85.7 5454.67,-76.91\"/>\n<polygon fill=\"black\" stroke=\"black\" points=\"5457.47,-74.79 5449.09,-68.3 5451.6,-78.59 5457.47,-74.79\"/>\n</g>\n<!-- 143 -->\n<g id=\"node144\" class=\"node\">\n<title>143</title>\n<path fill=\"#e58139\" stroke=\"black\" d=\"M5576,-68C5576,-68 5505,-68 5505,-68 5499,-68 5493,-62 5493,-56 5493,-56 5493,-12 5493,-12 5493,-6 5499,0 5505,0 5505,0 5576,0 5576,0 5582,0 5588,-6 5588,-12 5588,-12 5588,-56 5588,-56 5588,-62 5582,-68 5576,-68\"/>\n<text text-anchor=\"middle\" x=\"5540.5\" y=\"-52.8\" font-family=\"Helvetica,sans-Serif\" font-size=\"14.00\">gini = 0.0</text>\n<text text-anchor=\"middle\" x=\"5540.5\" y=\"-37.8\" font-family=\"Helvetica,sans-Serif\" font-size=\"14.00\">samples = 2</text>\n<text text-anchor=\"middle\" x=\"5540.5\" y=\"-22.8\" font-family=\"Helvetica,sans-Serif\" font-size=\"14.00\">value = [2, 0]</text>\n<text text-anchor=\"middle\" x=\"5540.5\" y=\"-7.8\" font-family=\"Helvetica,sans-Serif\" font-size=\"14.00\">class = nao</text>\n</g>\n<!-- 141&#45;&gt;143 -->\n<g id=\"edge143\" class=\"edge\">\n<title>141&#45;&gt;143</title>\n<path fill=\"none\" stroke=\"black\" d=\"M5514.14,-103.73C5517.39,-95.24 5520.83,-86.28 5524.11,-77.73\"/>\n<polygon fill=\"black\" stroke=\"black\" points=\"5527.41,-78.89 5527.73,-68.3 5520.88,-76.38 5527.41,-78.89\"/>\n</g>\n<!-- 147 -->\n<g id=\"node148\" class=\"node\">\n<title>147</title>\n<path fill=\"#fcefe5\" stroke=\"black\" d=\"M7730.5,-1020C7730.5,-1020 7614.5,-1020 7614.5,-1020 7608.5,-1020 7602.5,-1014 7602.5,-1008 7602.5,-1008 7602.5,-949 7602.5,-949 7602.5,-943 7608.5,-937 7614.5,-937 7614.5,-937 7730.5,-937 7730.5,-937 7736.5,-937 7742.5,-943 7742.5,-949 7742.5,-949 7742.5,-1008 7742.5,-1008 7742.5,-1014 7736.5,-1020 7730.5,-1020\"/>\n<text text-anchor=\"middle\" x=\"7672.5\" y=\"-1004.8\" font-family=\"Helvetica,sans-Serif\" font-size=\"14.00\">preco &lt;= 99974.41</text>\n<text text-anchor=\"middle\" x=\"7672.5\" y=\"-989.8\" font-family=\"Helvetica,sans-Serif\" font-size=\"14.00\">gini = 0.498</text>\n<text text-anchor=\"middle\" x=\"7672.5\" y=\"-974.8\" font-family=\"Helvetica,sans-Serif\" font-size=\"14.00\">samples = 3513</text>\n<text text-anchor=\"middle\" x=\"7672.5\" y=\"-959.8\" font-family=\"Helvetica,sans-Serif\" font-size=\"14.00\">value = [1879, 1634]</text>\n<text text-anchor=\"middle\" x=\"7672.5\" y=\"-944.8\" font-family=\"Helvetica,sans-Serif\" font-size=\"14.00\">class = nao</text>\n</g>\n<!-- 146&#45;&gt;147 -->\n<g id=\"edge147\" class=\"edge\">\n<title>146&#45;&gt;147</title>\n<path fill=\"none\" stroke=\"black\" d=\"M7672.5,-1055.91C7672.5,-1047.65 7672.5,-1038.86 7672.5,-1030.3\"/>\n<polygon fill=\"black\" stroke=\"black\" points=\"7676,-1030.02 7672.5,-1020.02 7669,-1030.02 7676,-1030.02\"/>\n</g>\n<!-- 256 -->\n<g id=\"node257\" class=\"node\">\n<title>256</title>\n<path fill=\"#e9965a\" stroke=\"black\" d=\"M10913.5,-1020C10913.5,-1020 10791.5,-1020 10791.5,-1020 10785.5,-1020 10779.5,-1014 10779.5,-1008 10779.5,-1008 10779.5,-949 10779.5,-949 10779.5,-943 10785.5,-937 10791.5,-937 10791.5,-937 10913.5,-937 10913.5,-937 10919.5,-937 10925.5,-943 10925.5,-949 10925.5,-949 10925.5,-1008 10925.5,-1008 10925.5,-1014 10919.5,-1020 10913.5,-1020\"/>\n<text text-anchor=\"middle\" x=\"10852.5\" y=\"-1004.8\" font-family=\"Helvetica,sans-Serif\" font-size=\"14.00\">preco &lt;= 100076.957</text>\n<text text-anchor=\"middle\" x=\"10852.5\" y=\"-989.8\" font-family=\"Helvetica,sans-Serif\" font-size=\"14.00\">gini = 0.243</text>\n<text text-anchor=\"middle\" x=\"10852.5\" y=\"-974.8\" font-family=\"Helvetica,sans-Serif\" font-size=\"14.00\">samples = 2140</text>\n<text text-anchor=\"middle\" x=\"10852.5\" y=\"-959.8\" font-family=\"Helvetica,sans-Serif\" font-size=\"14.00\">value = [1837, 303]</text>\n<text text-anchor=\"middle\" x=\"10852.5\" y=\"-944.8\" font-family=\"Helvetica,sans-Serif\" font-size=\"14.00\">class = nao</text>\n</g>\n<!-- 146&#45;&gt;256 -->\n<g id=\"edge256\" class=\"edge\">\n<title>146&#45;&gt;256</title>\n<path fill=\"none\" stroke=\"black\" d=\"M7762.55,-1093.19C8224.49,-1076.19 10323.78,-998.95 10769.26,-982.56\"/>\n<polygon fill=\"black\" stroke=\"black\" points=\"10769.61,-986.05 10779.47,-982.19 10769.35,-979.06 10769.61,-986.05\"/>\n</g>\n<!-- 148 -->\n<g id=\"node149\" class=\"node\">\n<title>148</title>\n<path fill=\"#f9e0ce\" stroke=\"black\" d=\"M6841,-901C6841,-901 6692,-901 6692,-901 6686,-901 6680,-895 6680,-889 6680,-889 6680,-830 6680,-830 6680,-824 6686,-818 6692,-818 6692,-818 6841,-818 6841,-818 6847,-818 6853,-824 6853,-830 6853,-830 6853,-889 6853,-889 6853,-895 6847,-901 6841,-901\"/>\n<text text-anchor=\"middle\" x=\"6766.5\" y=\"-885.8\" font-family=\"Helvetica,sans-Serif\" font-size=\"14.00\">km_por_ano &lt;= 6826.016</text>\n<text text-anchor=\"middle\" x=\"6766.5\" y=\"-870.8\" font-family=\"Helvetica,sans-Serif\" font-size=\"14.00\">gini = 0.49</text>\n<text text-anchor=\"middle\" x=\"6766.5\" y=\"-855.8\" font-family=\"Helvetica,sans-Serif\" font-size=\"14.00\">samples = 2944</text>\n<text text-anchor=\"middle\" x=\"6766.5\" y=\"-840.8\" font-family=\"Helvetica,sans-Serif\" font-size=\"14.00\">value = [1682, 1262]</text>\n<text text-anchor=\"middle\" x=\"6766.5\" y=\"-825.8\" font-family=\"Helvetica,sans-Serif\" font-size=\"14.00\">class = nao</text>\n</g>\n<!-- 147&#45;&gt;148 -->\n<g id=\"edge148\" class=\"edge\">\n<title>147&#45;&gt;148</title>\n<path fill=\"none\" stroke=\"black\" d=\"M7602.16,-968.42C7441.39,-947.65 7046.8,-896.7 6863.28,-873\"/>\n<polygon fill=\"black\" stroke=\"black\" points=\"6863.46,-869.49 6853.1,-871.68 6862.57,-876.44 6863.46,-869.49\"/>\n</g>\n<!-- 199 -->\n<g id=\"node200\" class=\"node\">\n<title>199</title>\n<path fill=\"#a2d1f3\" stroke=\"black\" d=\"M7990.5,-901C7990.5,-901 7868.5,-901 7868.5,-901 7862.5,-901 7856.5,-895 7856.5,-889 7856.5,-889 7856.5,-830 7856.5,-830 7856.5,-824 7862.5,-818 7868.5,-818 7868.5,-818 7990.5,-818 7990.5,-818 7996.5,-818 8002.5,-824 8002.5,-830 8002.5,-830 8002.5,-889 8002.5,-889 8002.5,-895 7996.5,-901 7990.5,-901\"/>\n<text text-anchor=\"middle\" x=\"7929.5\" y=\"-885.8\" font-family=\"Helvetica,sans-Serif\" font-size=\"14.00\">preco &lt;= 100371.855</text>\n<text text-anchor=\"middle\" x=\"7929.5\" y=\"-870.8\" font-family=\"Helvetica,sans-Serif\" font-size=\"14.00\">gini = 0.453</text>\n<text text-anchor=\"middle\" x=\"7929.5\" y=\"-855.8\" font-family=\"Helvetica,sans-Serif\" font-size=\"14.00\">samples = 569</text>\n<text text-anchor=\"middle\" x=\"7929.5\" y=\"-840.8\" font-family=\"Helvetica,sans-Serif\" font-size=\"14.00\">value = [197, 372]</text>\n<text text-anchor=\"middle\" x=\"7929.5\" y=\"-825.8\" font-family=\"Helvetica,sans-Serif\" font-size=\"14.00\">class = sim</text>\n</g>\n<!-- 147&#45;&gt;199 -->\n<g id=\"edge199\" class=\"edge\">\n<title>147&#45;&gt;199</title>\n<path fill=\"none\" stroke=\"black\" d=\"M7742.73,-945.53C7774.92,-930.87 7813.31,-913.4 7846.89,-898.11\"/>\n<polygon fill=\"black\" stroke=\"black\" points=\"7848.57,-901.19 7856.22,-893.86 7845.67,-894.82 7848.57,-901.19\"/>\n</g>\n<!-- 149 -->\n<g id=\"node150\" class=\"node\">\n<title>149</title>\n<path fill=\"#e58139\" stroke=\"black\" d=\"M6650,-774.5C6650,-774.5 6579,-774.5 6579,-774.5 6573,-774.5 6567,-768.5 6567,-762.5 6567,-762.5 6567,-718.5 6567,-718.5 6567,-712.5 6573,-706.5 6579,-706.5 6579,-706.5 6650,-706.5 6650,-706.5 6656,-706.5 6662,-712.5 6662,-718.5 6662,-718.5 6662,-762.5 6662,-762.5 6662,-768.5 6656,-774.5 6650,-774.5\"/>\n<text text-anchor=\"middle\" x=\"6614.5\" y=\"-759.3\" font-family=\"Helvetica,sans-Serif\" font-size=\"14.00\">gini = 0.0</text>\n<text text-anchor=\"middle\" x=\"6614.5\" y=\"-744.3\" font-family=\"Helvetica,sans-Serif\" font-size=\"14.00\">samples = 9</text>\n<text text-anchor=\"middle\" x=\"6614.5\" y=\"-729.3\" font-family=\"Helvetica,sans-Serif\" font-size=\"14.00\">value = [9, 0]</text>\n<text text-anchor=\"middle\" x=\"6614.5\" y=\"-714.3\" font-family=\"Helvetica,sans-Serif\" font-size=\"14.00\">class = nao</text>\n</g>\n<!-- 148&#45;&gt;149 -->\n<g id=\"edge149\" class=\"edge\">\n<title>148&#45;&gt;149</title>\n<path fill=\"none\" stroke=\"black\" d=\"M6713.76,-817.91C6698.14,-805.88 6681.06,-792.73 6665.54,-780.79\"/>\n<polygon fill=\"black\" stroke=\"black\" points=\"6667.65,-777.99 6657.59,-774.67 6663.38,-783.54 6667.65,-777.99\"/>\n</g>\n<!-- 150 -->\n<g id=\"node151\" class=\"node\">\n<title>150</title>\n<path fill=\"#f9e0ce\" stroke=\"black\" d=\"M6841,-782C6841,-782 6692,-782 6692,-782 6686,-782 6680,-776 6680,-770 6680,-770 6680,-711 6680,-711 6680,-705 6686,-699 6692,-699 6692,-699 6841,-699 6841,-699 6847,-699 6853,-705 6853,-711 6853,-711 6853,-770 6853,-770 6853,-776 6847,-782 6841,-782\"/>\n<text text-anchor=\"middle\" x=\"6766.5\" y=\"-766.8\" font-family=\"Helvetica,sans-Serif\" font-size=\"14.00\">km_por_ano &lt;= 9223.932</text>\n<text text-anchor=\"middle\" x=\"6766.5\" y=\"-751.8\" font-family=\"Helvetica,sans-Serif\" font-size=\"14.00\">gini = 0.49</text>\n<text text-anchor=\"middle\" x=\"6766.5\" y=\"-736.8\" font-family=\"Helvetica,sans-Serif\" font-size=\"14.00\">samples = 2935</text>\n<text text-anchor=\"middle\" x=\"6766.5\" y=\"-721.8\" font-family=\"Helvetica,sans-Serif\" font-size=\"14.00\">value = [1673, 1262]</text>\n<text text-anchor=\"middle\" x=\"6766.5\" y=\"-706.8\" font-family=\"Helvetica,sans-Serif\" font-size=\"14.00\">class = nao</text>\n</g>\n<!-- 148&#45;&gt;150 -->\n<g id=\"edge150\" class=\"edge\">\n<title>148&#45;&gt;150</title>\n<path fill=\"none\" stroke=\"black\" d=\"M6766.5,-817.91C6766.5,-809.65 6766.5,-800.86 6766.5,-792.3\"/>\n<polygon fill=\"black\" stroke=\"black\" points=\"6770,-792.02 6766.5,-782.02 6763,-792.02 6770,-792.02\"/>\n</g>\n<!-- 151 -->\n<g id=\"node152\" class=\"node\">\n<title>151</title>\n<path fill=\"#9fd0f2\" stroke=\"black\" d=\"M6178.5,-663C6178.5,-663 6064.5,-663 6064.5,-663 6058.5,-663 6052.5,-657 6052.5,-651 6052.5,-651 6052.5,-592 6052.5,-592 6052.5,-586 6058.5,-580 6064.5,-580 6064.5,-580 6178.5,-580 6178.5,-580 6184.5,-580 6190.5,-586 6190.5,-592 6190.5,-592 6190.5,-651 6190.5,-651 6190.5,-657 6184.5,-663 6178.5,-663\"/>\n<text text-anchor=\"middle\" x=\"6121.5\" y=\"-647.8\" font-family=\"Helvetica,sans-Serif\" font-size=\"14.00\">preco &lt;= 87208.336</text>\n<text text-anchor=\"middle\" x=\"6121.5\" y=\"-632.8\" font-family=\"Helvetica,sans-Serif\" font-size=\"14.00\">gini = 0.449</text>\n<text text-anchor=\"middle\" x=\"6121.5\" y=\"-617.8\" font-family=\"Helvetica,sans-Serif\" font-size=\"14.00\">samples = 47</text>\n<text text-anchor=\"middle\" x=\"6121.5\" y=\"-602.8\" font-family=\"Helvetica,sans-Serif\" font-size=\"14.00\">value = [16, 31]</text>\n<text text-anchor=\"middle\" x=\"6121.5\" y=\"-587.8\" font-family=\"Helvetica,sans-Serif\" font-size=\"14.00\">class = sim</text>\n</g>\n<!-- 150&#45;&gt;151 -->\n<g id=\"edge151\" class=\"edge\">\n<title>150&#45;&gt;151</title>\n<path fill=\"none\" stroke=\"black\" d=\"M6680,-701.82C6676.81,-700.81 6673.64,-699.86 6670.5,-699 6507.15,-654 6308.8,-634.71 6200.86,-627.05\"/>\n<polygon fill=\"black\" stroke=\"black\" points=\"6200.92,-623.55 6190.71,-626.35 6200.44,-630.53 6200.92,-623.55\"/>\n</g>\n<!-- 166 -->\n<g id=\"node167\" class=\"node\">\n<title>166</title>\n<path fill=\"#f8dfcc\" stroke=\"black\" d=\"M6841,-663C6841,-663 6692,-663 6692,-663 6686,-663 6680,-657 6680,-651 6680,-651 6680,-592 6680,-592 6680,-586 6686,-580 6692,-580 6692,-580 6841,-580 6841,-580 6847,-580 6853,-586 6853,-592 6853,-592 6853,-651 6853,-651 6853,-657 6847,-663 6841,-663\"/>\n<text text-anchor=\"middle\" x=\"6766.5\" y=\"-647.8\" font-family=\"Helvetica,sans-Serif\" font-size=\"14.00\">km_por_ano &lt;= 9304.399</text>\n<text text-anchor=\"middle\" x=\"6766.5\" y=\"-632.8\" font-family=\"Helvetica,sans-Serif\" font-size=\"14.00\">gini = 0.489</text>\n<text text-anchor=\"middle\" x=\"6766.5\" y=\"-617.8\" font-family=\"Helvetica,sans-Serif\" font-size=\"14.00\">samples = 2888</text>\n<text text-anchor=\"middle\" x=\"6766.5\" y=\"-602.8\" font-family=\"Helvetica,sans-Serif\" font-size=\"14.00\">value = [1657, 1231]</text>\n<text text-anchor=\"middle\" x=\"6766.5\" y=\"-587.8\" font-family=\"Helvetica,sans-Serif\" font-size=\"14.00\">class = nao</text>\n</g>\n<!-- 150&#45;&gt;166 -->\n<g id=\"edge166\" class=\"edge\">\n<title>150&#45;&gt;166</title>\n<path fill=\"none\" stroke=\"black\" d=\"M6766.5,-698.91C6766.5,-690.65 6766.5,-681.86 6766.5,-673.3\"/>\n<polygon fill=\"black\" stroke=\"black\" points=\"6770,-673.02 6766.5,-663.02 6763,-673.02 6770,-673.02\"/>\n</g>\n<!-- 152 -->\n<g id=\"node153\" class=\"node\">\n<title>152</title>\n<path fill=\"#82c1ef\" stroke=\"black\" d=\"M5967.5,-544C5967.5,-544 5853.5,-544 5853.5,-544 5847.5,-544 5841.5,-538 5841.5,-532 5841.5,-532 5841.5,-473 5841.5,-473 5841.5,-467 5847.5,-461 5853.5,-461 5853.5,-461 5967.5,-461 5967.5,-461 5973.5,-461 5979.5,-467 5979.5,-473 5979.5,-473 5979.5,-532 5979.5,-532 5979.5,-538 5973.5,-544 5967.5,-544\"/>\n<text text-anchor=\"middle\" x=\"5910.5\" y=\"-528.8\" font-family=\"Helvetica,sans-Serif\" font-size=\"14.00\">preco &lt;= 84235.195</text>\n<text text-anchor=\"middle\" x=\"5910.5\" y=\"-513.8\" font-family=\"Helvetica,sans-Serif\" font-size=\"14.00\">gini = 0.394</text>\n<text text-anchor=\"middle\" x=\"5910.5\" y=\"-498.8\" font-family=\"Helvetica,sans-Serif\" font-size=\"14.00\">samples = 37</text>\n<text text-anchor=\"middle\" x=\"5910.5\" y=\"-483.8\" font-family=\"Helvetica,sans-Serif\" font-size=\"14.00\">value = [10, 27]</text>\n<text text-anchor=\"middle\" x=\"5910.5\" y=\"-468.8\" font-family=\"Helvetica,sans-Serif\" font-size=\"14.00\">class = sim</text>\n</g>\n<!-- 151&#45;&gt;152 -->\n<g id=\"edge152\" class=\"edge\">\n<title>151&#45;&gt;152</title>\n<path fill=\"none\" stroke=\"black\" d=\"M6052.41,-582.19C6032.01,-570.88 6009.54,-558.42 5988.61,-546.81\"/>\n<polygon fill=\"black\" stroke=\"black\" points=\"5990.19,-543.68 5979.74,-541.9 5986.79,-549.81 5990.19,-543.68\"/>\n</g>\n<!-- 161 -->\n<g id=\"node162\" class=\"node\">\n<title>161</title>\n<path fill=\"#f6d5bd\" stroke=\"black\" d=\"M6196,-544C6196,-544 6047,-544 6047,-544 6041,-544 6035,-538 6035,-532 6035,-532 6035,-473 6035,-473 6035,-467 6041,-461 6047,-461 6047,-461 6196,-461 6196,-461 6202,-461 6208,-467 6208,-473 6208,-473 6208,-532 6208,-532 6208,-538 6202,-544 6196,-544\"/>\n<text text-anchor=\"middle\" x=\"6121.5\" y=\"-528.8\" font-family=\"Helvetica,sans-Serif\" font-size=\"14.00\">km_por_ano &lt;= 8355.693</text>\n<text text-anchor=\"middle\" x=\"6121.5\" y=\"-513.8\" font-family=\"Helvetica,sans-Serif\" font-size=\"14.00\">gini = 0.48</text>\n<text text-anchor=\"middle\" x=\"6121.5\" y=\"-498.8\" font-family=\"Helvetica,sans-Serif\" font-size=\"14.00\">samples = 10</text>\n<text text-anchor=\"middle\" x=\"6121.5\" y=\"-483.8\" font-family=\"Helvetica,sans-Serif\" font-size=\"14.00\">value = [6, 4]</text>\n<text text-anchor=\"middle\" x=\"6121.5\" y=\"-468.8\" font-family=\"Helvetica,sans-Serif\" font-size=\"14.00\">class = nao</text>\n</g>\n<!-- 151&#45;&gt;161 -->\n<g id=\"edge161\" class=\"edge\">\n<title>151&#45;&gt;161</title>\n<path fill=\"none\" stroke=\"black\" d=\"M6121.5,-579.91C6121.5,-571.65 6121.5,-562.86 6121.5,-554.3\"/>\n<polygon fill=\"black\" stroke=\"black\" points=\"6125,-554.02 6121.5,-544.02 6118,-554.02 6125,-554.02\"/>\n</g>\n<!-- 153 -->\n<g id=\"node154\" class=\"node\">\n<title>153</title>\n<path fill=\"#8fc8f0\" stroke=\"black\" d=\"M5832.5,-425C5832.5,-425 5718.5,-425 5718.5,-425 5712.5,-425 5706.5,-419 5706.5,-413 5706.5,-413 5706.5,-354 5706.5,-354 5706.5,-348 5712.5,-342 5718.5,-342 5718.5,-342 5832.5,-342 5832.5,-342 5838.5,-342 5844.5,-348 5844.5,-354 5844.5,-354 5844.5,-413 5844.5,-413 5844.5,-419 5838.5,-425 5832.5,-425\"/>\n<text text-anchor=\"middle\" x=\"5775.5\" y=\"-409.8\" font-family=\"Helvetica,sans-Serif\" font-size=\"14.00\">preco &lt;= 82640.359</text>\n<text text-anchor=\"middle\" x=\"5775.5\" y=\"-394.8\" font-family=\"Helvetica,sans-Serif\" font-size=\"14.00\">gini = 0.422</text>\n<text text-anchor=\"middle\" x=\"5775.5\" y=\"-379.8\" font-family=\"Helvetica,sans-Serif\" font-size=\"14.00\">samples = 33</text>\n<text text-anchor=\"middle\" x=\"5775.5\" y=\"-364.8\" font-family=\"Helvetica,sans-Serif\" font-size=\"14.00\">value = [10, 23]</text>\n<text text-anchor=\"middle\" x=\"5775.5\" y=\"-349.8\" font-family=\"Helvetica,sans-Serif\" font-size=\"14.00\">class = sim</text>\n</g>\n<!-- 152&#45;&gt;153 -->\n<g id=\"edge153\" class=\"edge\">\n<title>152&#45;&gt;153</title>\n<path fill=\"none\" stroke=\"black\" d=\"M5863.66,-460.91C5852.77,-451.47 5841.09,-441.34 5829.9,-431.65\"/>\n<polygon fill=\"black\" stroke=\"black\" points=\"5832.1,-428.93 5822.25,-425.02 5827.52,-434.22 5832.1,-428.93\"/>\n</g>\n<!-- 160 -->\n<g id=\"node161\" class=\"node\">\n<title>160</title>\n<path fill=\"#399de5\" stroke=\"black\" d=\"M5946,-417.5C5946,-417.5 5875,-417.5 5875,-417.5 5869,-417.5 5863,-411.5 5863,-405.5 5863,-405.5 5863,-361.5 5863,-361.5 5863,-355.5 5869,-349.5 5875,-349.5 5875,-349.5 5946,-349.5 5946,-349.5 5952,-349.5 5958,-355.5 5958,-361.5 5958,-361.5 5958,-405.5 5958,-405.5 5958,-411.5 5952,-417.5 5946,-417.5\"/>\n<text text-anchor=\"middle\" x=\"5910.5\" y=\"-402.3\" font-family=\"Helvetica,sans-Serif\" font-size=\"14.00\">gini = 0.0</text>\n<text text-anchor=\"middle\" x=\"5910.5\" y=\"-387.3\" font-family=\"Helvetica,sans-Serif\" font-size=\"14.00\">samples = 4</text>\n<text text-anchor=\"middle\" x=\"5910.5\" y=\"-372.3\" font-family=\"Helvetica,sans-Serif\" font-size=\"14.00\">value = [0, 4]</text>\n<text text-anchor=\"middle\" x=\"5910.5\" y=\"-357.3\" font-family=\"Helvetica,sans-Serif\" font-size=\"14.00\">class = sim</text>\n</g>\n<!-- 152&#45;&gt;160 -->\n<g id=\"edge160\" class=\"edge\">\n<title>152&#45;&gt;160</title>\n<path fill=\"none\" stroke=\"black\" d=\"M5910.5,-460.91C5910.5,-450.2 5910.5,-438.62 5910.5,-427.78\"/>\n<polygon fill=\"black\" stroke=\"black\" points=\"5914,-427.67 5910.5,-417.67 5907,-427.67 5914,-427.67\"/>\n</g>\n<!-- 154 -->\n<g id=\"node155\" class=\"node\">\n<title>154</title>\n<path fill=\"#86c3ef\" stroke=\"black\" d=\"M5761.5,-306C5761.5,-306 5647.5,-306 5647.5,-306 5641.5,-306 5635.5,-300 5635.5,-294 5635.5,-294 5635.5,-235 5635.5,-235 5635.5,-229 5641.5,-223 5647.5,-223 5647.5,-223 5761.5,-223 5761.5,-223 5767.5,-223 5773.5,-229 5773.5,-235 5773.5,-235 5773.5,-294 5773.5,-294 5773.5,-300 5767.5,-306 5761.5,-306\"/>\n<text text-anchor=\"middle\" x=\"5704.5\" y=\"-290.8\" font-family=\"Helvetica,sans-Serif\" font-size=\"14.00\">preco &lt;= 62259.025</text>\n<text text-anchor=\"middle\" x=\"5704.5\" y=\"-275.8\" font-family=\"Helvetica,sans-Serif\" font-size=\"14.00\">gini = 0.404</text>\n<text text-anchor=\"middle\" x=\"5704.5\" y=\"-260.8\" font-family=\"Helvetica,sans-Serif\" font-size=\"14.00\">samples = 32</text>\n<text text-anchor=\"middle\" x=\"5704.5\" y=\"-245.8\" font-family=\"Helvetica,sans-Serif\" font-size=\"14.00\">value = [9, 23]</text>\n<text text-anchor=\"middle\" x=\"5704.5\" y=\"-230.8\" font-family=\"Helvetica,sans-Serif\" font-size=\"14.00\">class = sim</text>\n</g>\n<!-- 153&#45;&gt;154 -->\n<g id=\"edge154\" class=\"edge\">\n<title>153&#45;&gt;154</title>\n<path fill=\"none\" stroke=\"black\" d=\"M5750.87,-341.91C5745.53,-333.1 5739.82,-323.7 5734.3,-314.61\"/>\n<polygon fill=\"black\" stroke=\"black\" points=\"5737.27,-312.75 5729.09,-306.02 5731.29,-316.39 5737.27,-312.75\"/>\n</g>\n<!-- 159 -->\n<g id=\"node160\" class=\"node\">\n<title>159</title>\n<path fill=\"#e58139\" stroke=\"black\" d=\"M5875,-298.5C5875,-298.5 5804,-298.5 5804,-298.5 5798,-298.5 5792,-292.5 5792,-286.5 5792,-286.5 5792,-242.5 5792,-242.5 5792,-236.5 5798,-230.5 5804,-230.5 5804,-230.5 5875,-230.5 5875,-230.5 5881,-230.5 5887,-236.5 5887,-242.5 5887,-242.5 5887,-286.5 5887,-286.5 5887,-292.5 5881,-298.5 5875,-298.5\"/>\n<text text-anchor=\"middle\" x=\"5839.5\" y=\"-283.3\" font-family=\"Helvetica,sans-Serif\" font-size=\"14.00\">gini = 0.0</text>\n<text text-anchor=\"middle\" x=\"5839.5\" y=\"-268.3\" font-family=\"Helvetica,sans-Serif\" font-size=\"14.00\">samples = 1</text>\n<text text-anchor=\"middle\" x=\"5839.5\" y=\"-253.3\" font-family=\"Helvetica,sans-Serif\" font-size=\"14.00\">value = [1, 0]</text>\n<text text-anchor=\"middle\" x=\"5839.5\" y=\"-238.3\" font-family=\"Helvetica,sans-Serif\" font-size=\"14.00\">class = nao</text>\n</g>\n<!-- 153&#45;&gt;159 -->\n<g id=\"edge159\" class=\"edge\">\n<title>153&#45;&gt;159</title>\n<path fill=\"none\" stroke=\"black\" d=\"M5797.7,-341.91C5803.74,-330.87 5810.29,-318.9 5816.38,-307.77\"/>\n<polygon fill=\"black\" stroke=\"black\" points=\"5819.63,-309.12 5821.36,-298.67 5813.49,-305.76 5819.63,-309.12\"/>\n</g>\n<!-- 155 -->\n<g id=\"node156\" class=\"node\">\n<title>155</title>\n<path fill=\"#399de5\" stroke=\"black\" d=\"M5687,-179.5C5687,-179.5 5616,-179.5 5616,-179.5 5610,-179.5 5604,-173.5 5604,-167.5 5604,-167.5 5604,-123.5 5604,-123.5 5604,-117.5 5610,-111.5 5616,-111.5 5616,-111.5 5687,-111.5 5687,-111.5 5693,-111.5 5699,-117.5 5699,-123.5 5699,-123.5 5699,-167.5 5699,-167.5 5699,-173.5 5693,-179.5 5687,-179.5\"/>\n<text text-anchor=\"middle\" x=\"5651.5\" y=\"-164.3\" font-family=\"Helvetica,sans-Serif\" font-size=\"14.00\">gini = 0.0</text>\n<text text-anchor=\"middle\" x=\"5651.5\" y=\"-149.3\" font-family=\"Helvetica,sans-Serif\" font-size=\"14.00\">samples = 3</text>\n<text text-anchor=\"middle\" x=\"5651.5\" y=\"-134.3\" font-family=\"Helvetica,sans-Serif\" font-size=\"14.00\">value = [0, 3]</text>\n<text text-anchor=\"middle\" x=\"5651.5\" y=\"-119.3\" font-family=\"Helvetica,sans-Serif\" font-size=\"14.00\">class = sim</text>\n</g>\n<!-- 154&#45;&gt;155 -->\n<g id=\"edge155\" class=\"edge\">\n<title>154&#45;&gt;155</title>\n<path fill=\"none\" stroke=\"black\" d=\"M5686.11,-222.91C5681.16,-211.98 5675.8,-200.14 5670.8,-189.11\"/>\n<polygon fill=\"black\" stroke=\"black\" points=\"5673.84,-187.33 5666.52,-179.67 5667.46,-190.22 5673.84,-187.33\"/>\n</g>\n<!-- 156 -->\n<g id=\"node157\" class=\"node\">\n<title>156</title>\n<path fill=\"#92c9f1\" stroke=\"black\" d=\"M5828,-187C5828,-187 5729,-187 5729,-187 5723,-187 5717,-181 5717,-175 5717,-175 5717,-116 5717,-116 5717,-110 5723,-104 5729,-104 5729,-104 5828,-104 5828,-104 5834,-104 5840,-110 5840,-116 5840,-116 5840,-175 5840,-175 5840,-181 5834,-187 5828,-187\"/>\n<text text-anchor=\"middle\" x=\"5778.5\" y=\"-171.8\" font-family=\"Helvetica,sans-Serif\" font-size=\"14.00\">preco &lt;= 62720.5</text>\n<text text-anchor=\"middle\" x=\"5778.5\" y=\"-156.8\" font-family=\"Helvetica,sans-Serif\" font-size=\"14.00\">gini = 0.428</text>\n<text text-anchor=\"middle\" x=\"5778.5\" y=\"-141.8\" font-family=\"Helvetica,sans-Serif\" font-size=\"14.00\">samples = 29</text>\n<text text-anchor=\"middle\" x=\"5778.5\" y=\"-126.8\" font-family=\"Helvetica,sans-Serif\" font-size=\"14.00\">value = [9, 20]</text>\n<text text-anchor=\"middle\" x=\"5778.5\" y=\"-111.8\" font-family=\"Helvetica,sans-Serif\" font-size=\"14.00\">class = sim</text>\n</g>\n<!-- 154&#45;&gt;156 -->\n<g id=\"edge156\" class=\"edge\">\n<title>154&#45;&gt;156</title>\n<path fill=\"none\" stroke=\"black\" d=\"M5730.17,-222.91C5735.74,-214.1 5741.69,-204.7 5747.44,-195.61\"/>\n<polygon fill=\"black\" stroke=\"black\" points=\"5750.48,-197.34 5752.87,-187.02 5744.57,-193.6 5750.48,-197.34\"/>\n</g>\n<!-- 157 -->\n<g id=\"node158\" class=\"node\">\n<title>157</title>\n<path fill=\"#e58139\" stroke=\"black\" d=\"M5697,-68C5697,-68 5626,-68 5626,-68 5620,-68 5614,-62 5614,-56 5614,-56 5614,-12 5614,-12 5614,-6 5620,0 5626,0 5626,0 5697,0 5697,0 5703,0 5709,-6 5709,-12 5709,-12 5709,-56 5709,-56 5709,-62 5703,-68 5697,-68\"/>\n<text text-anchor=\"middle\" x=\"5661.5\" y=\"-52.8\" font-family=\"Helvetica,sans-Serif\" font-size=\"14.00\">gini = 0.0</text>\n<text text-anchor=\"middle\" x=\"5661.5\" y=\"-37.8\" font-family=\"Helvetica,sans-Serif\" font-size=\"14.00\">samples = 1</text>\n<text text-anchor=\"middle\" x=\"5661.5\" y=\"-22.8\" font-family=\"Helvetica,sans-Serif\" font-size=\"14.00\">value = [1, 0]</text>\n<text text-anchor=\"middle\" x=\"5661.5\" y=\"-7.8\" font-family=\"Helvetica,sans-Serif\" font-size=\"14.00\">class = nao</text>\n</g>\n<!-- 156&#45;&gt;157 -->\n<g id=\"edge157\" class=\"edge\">\n<title>156&#45;&gt;157</title>\n<path fill=\"none\" stroke=\"black\" d=\"M5734.93,-103.73C5724.99,-94.42 5714.44,-84.54 5704.52,-75.26\"/>\n<polygon fill=\"black\" stroke=\"black\" points=\"5706.77,-72.58 5697.08,-68.3 5701.99,-77.69 5706.77,-72.58\"/>\n</g>\n<!-- 158 -->\n<g id=\"node159\" class=\"node\">\n<title>158</title>\n<path fill=\"#88c4ef\" stroke=\"black\" d=\"M5817.5,-68C5817.5,-68 5739.5,-68 5739.5,-68 5733.5,-68 5727.5,-62 5727.5,-56 5727.5,-56 5727.5,-12 5727.5,-12 5727.5,-6 5733.5,0 5739.5,0 5739.5,0 5817.5,0 5817.5,0 5823.5,0 5829.5,-6 5829.5,-12 5829.5,-12 5829.5,-56 5829.5,-56 5829.5,-62 5823.5,-68 5817.5,-68\"/>\n<text text-anchor=\"middle\" x=\"5778.5\" y=\"-52.8\" font-family=\"Helvetica,sans-Serif\" font-size=\"14.00\">gini = 0.408</text>\n<text text-anchor=\"middle\" x=\"5778.5\" y=\"-37.8\" font-family=\"Helvetica,sans-Serif\" font-size=\"14.00\">samples = 28</text>\n<text text-anchor=\"middle\" x=\"5778.5\" y=\"-22.8\" font-family=\"Helvetica,sans-Serif\" font-size=\"14.00\">value = [8, 20]</text>\n<text text-anchor=\"middle\" x=\"5778.5\" y=\"-7.8\" font-family=\"Helvetica,sans-Serif\" font-size=\"14.00\">class = sim</text>\n</g>\n<!-- 156&#45;&gt;158 -->\n<g id=\"edge158\" class=\"edge\">\n<title>156&#45;&gt;158</title>\n<path fill=\"none\" stroke=\"black\" d=\"M5778.5,-103.73C5778.5,-95.52 5778.5,-86.86 5778.5,-78.56\"/>\n<polygon fill=\"black\" stroke=\"black\" points=\"5782,-78.3 5778.5,-68.3 5775,-78.3 5782,-78.3\"/>\n</g>\n<!-- 162 -->\n<g id=\"node163\" class=\"node\">\n<title>162</title>\n<path fill=\"#e58139\" stroke=\"black\" d=\"M6059,-417.5C6059,-417.5 5988,-417.5 5988,-417.5 5982,-417.5 5976,-411.5 5976,-405.5 5976,-405.5 5976,-361.5 5976,-361.5 5976,-355.5 5982,-349.5 5988,-349.5 5988,-349.5 6059,-349.5 6059,-349.5 6065,-349.5 6071,-355.5 6071,-361.5 6071,-361.5 6071,-405.5 6071,-405.5 6071,-411.5 6065,-417.5 6059,-417.5\"/>\n<text text-anchor=\"middle\" x=\"6023.5\" y=\"-402.3\" font-family=\"Helvetica,sans-Serif\" font-size=\"14.00\">gini = 0.0</text>\n<text text-anchor=\"middle\" x=\"6023.5\" y=\"-387.3\" font-family=\"Helvetica,sans-Serif\" font-size=\"14.00\">samples = 5</text>\n<text text-anchor=\"middle\" x=\"6023.5\" y=\"-372.3\" font-family=\"Helvetica,sans-Serif\" font-size=\"14.00\">value = [5, 0]</text>\n<text text-anchor=\"middle\" x=\"6023.5\" y=\"-357.3\" font-family=\"Helvetica,sans-Serif\" font-size=\"14.00\">class = nao</text>\n</g>\n<!-- 161&#45;&gt;162 -->\n<g id=\"edge162\" class=\"edge\">\n<title>161&#45;&gt;162</title>\n<path fill=\"none\" stroke=\"black\" d=\"M6087.5,-460.91C6077.89,-449.43 6067.42,-436.94 6057.79,-425.44\"/>\n<polygon fill=\"black\" stroke=\"black\" points=\"6060.39,-423.09 6051.28,-417.67 6055.02,-427.58 6060.39,-423.09\"/>\n</g>\n<!-- 163 -->\n<g id=\"node164\" class=\"node\">\n<title>163</title>\n<path fill=\"#6ab6ec\" stroke=\"black\" d=\"M6215.5,-425C6215.5,-425 6101.5,-425 6101.5,-425 6095.5,-425 6089.5,-419 6089.5,-413 6089.5,-413 6089.5,-354 6089.5,-354 6089.5,-348 6095.5,-342 6101.5,-342 6101.5,-342 6215.5,-342 6215.5,-342 6221.5,-342 6227.5,-348 6227.5,-354 6227.5,-354 6227.5,-413 6227.5,-413 6227.5,-419 6221.5,-425 6215.5,-425\"/>\n<text text-anchor=\"middle\" x=\"6158.5\" y=\"-409.8\" font-family=\"Helvetica,sans-Serif\" font-size=\"14.00\">preco &lt;= 97213.699</text>\n<text text-anchor=\"middle\" x=\"6158.5\" y=\"-394.8\" font-family=\"Helvetica,sans-Serif\" font-size=\"14.00\">gini = 0.32</text>\n<text text-anchor=\"middle\" x=\"6158.5\" y=\"-379.8\" font-family=\"Helvetica,sans-Serif\" font-size=\"14.00\">samples = 5</text>\n<text text-anchor=\"middle\" x=\"6158.5\" y=\"-364.8\" font-family=\"Helvetica,sans-Serif\" font-size=\"14.00\">value = [1, 4]</text>\n<text text-anchor=\"middle\" x=\"6158.5\" y=\"-349.8\" font-family=\"Helvetica,sans-Serif\" font-size=\"14.00\">class = sim</text>\n</g>\n<!-- 161&#45;&gt;163 -->\n<g id=\"edge163\" class=\"edge\">\n<title>161&#45;&gt;163</title>\n<path fill=\"none\" stroke=\"black\" d=\"M6134.34,-460.91C6137.01,-452.47 6139.85,-443.48 6142.61,-434.74\"/>\n<polygon fill=\"black\" stroke=\"black\" points=\"6146.01,-435.61 6145.69,-425.02 6139.33,-433.5 6146.01,-435.61\"/>\n</g>\n<!-- 164 -->\n<g id=\"node165\" class=\"node\">\n<title>164</title>\n<path fill=\"#399de5\" stroke=\"black\" d=\"M6081,-298.5C6081,-298.5 6010,-298.5 6010,-298.5 6004,-298.5 5998,-292.5 5998,-286.5 5998,-286.5 5998,-242.5 5998,-242.5 5998,-236.5 6004,-230.5 6010,-230.5 6010,-230.5 6081,-230.5 6081,-230.5 6087,-230.5 6093,-236.5 6093,-242.5 6093,-242.5 6093,-286.5 6093,-286.5 6093,-292.5 6087,-298.5 6081,-298.5\"/>\n<text text-anchor=\"middle\" x=\"6045.5\" y=\"-283.3\" font-family=\"Helvetica,sans-Serif\" font-size=\"14.00\">gini = 0.0</text>\n<text text-anchor=\"middle\" x=\"6045.5\" y=\"-268.3\" font-family=\"Helvetica,sans-Serif\" font-size=\"14.00\">samples = 4</text>\n<text text-anchor=\"middle\" x=\"6045.5\" y=\"-253.3\" font-family=\"Helvetica,sans-Serif\" font-size=\"14.00\">value = [0, 4]</text>\n<text text-anchor=\"middle\" x=\"6045.5\" y=\"-238.3\" font-family=\"Helvetica,sans-Serif\" font-size=\"14.00\">class = sim</text>\n</g>\n<!-- 163&#45;&gt;164 -->\n<g id=\"edge164\" class=\"edge\">\n<title>163&#45;&gt;164</title>\n<path fill=\"none\" stroke=\"black\" d=\"M6119.3,-341.91C6108.11,-330.32 6095.91,-317.7 6084.72,-306.11\"/>\n<polygon fill=\"black\" stroke=\"black\" points=\"6087,-303.43 6077.53,-298.67 6081.96,-308.29 6087,-303.43\"/>\n</g>\n<!-- 165 -->\n<g id=\"node166\" class=\"node\">\n<title>165</title>\n<path fill=\"#e58139\" stroke=\"black\" d=\"M6194,-298.5C6194,-298.5 6123,-298.5 6123,-298.5 6117,-298.5 6111,-292.5 6111,-286.5 6111,-286.5 6111,-242.5 6111,-242.5 6111,-236.5 6117,-230.5 6123,-230.5 6123,-230.5 6194,-230.5 6194,-230.5 6200,-230.5 6206,-236.5 6206,-242.5 6206,-242.5 6206,-286.5 6206,-286.5 6206,-292.5 6200,-298.5 6194,-298.5\"/>\n<text text-anchor=\"middle\" x=\"6158.5\" y=\"-283.3\" font-family=\"Helvetica,sans-Serif\" font-size=\"14.00\">gini = 0.0</text>\n<text text-anchor=\"middle\" x=\"6158.5\" y=\"-268.3\" font-family=\"Helvetica,sans-Serif\" font-size=\"14.00\">samples = 1</text>\n<text text-anchor=\"middle\" x=\"6158.5\" y=\"-253.3\" font-family=\"Helvetica,sans-Serif\" font-size=\"14.00\">value = [1, 0]</text>\n<text text-anchor=\"middle\" x=\"6158.5\" y=\"-238.3\" font-family=\"Helvetica,sans-Serif\" font-size=\"14.00\">class = nao</text>\n</g>\n<!-- 163&#45;&gt;165 -->\n<g id=\"edge165\" class=\"edge\">\n<title>163&#45;&gt;165</title>\n<path fill=\"none\" stroke=\"black\" d=\"M6158.5,-341.91C6158.5,-331.2 6158.5,-319.62 6158.5,-308.78\"/>\n<polygon fill=\"black\" stroke=\"black\" points=\"6162,-308.67 6158.5,-298.67 6155,-308.67 6162,-308.67\"/>\n</g>\n<!-- 167 -->\n<g id=\"node168\" class=\"node\">\n<title>167</title>\n<path fill=\"#e58139\" stroke=\"black\" d=\"M6734,-536.5C6734,-536.5 6663,-536.5 6663,-536.5 6657,-536.5 6651,-530.5 6651,-524.5 6651,-524.5 6651,-480.5 6651,-480.5 6651,-474.5 6657,-468.5 6663,-468.5 6663,-468.5 6734,-468.5 6734,-468.5 6740,-468.5 6746,-474.5 6746,-480.5 6746,-480.5 6746,-524.5 6746,-524.5 6746,-530.5 6740,-536.5 6734,-536.5\"/>\n<text text-anchor=\"middle\" x=\"6698.5\" y=\"-521.3\" font-family=\"Helvetica,sans-Serif\" font-size=\"14.00\">gini = 0.0</text>\n<text text-anchor=\"middle\" x=\"6698.5\" y=\"-506.3\" font-family=\"Helvetica,sans-Serif\" font-size=\"14.00\">samples = 8</text>\n<text text-anchor=\"middle\" x=\"6698.5\" y=\"-491.3\" font-family=\"Helvetica,sans-Serif\" font-size=\"14.00\">value = [8, 0]</text>\n<text text-anchor=\"middle\" x=\"6698.5\" y=\"-476.3\" font-family=\"Helvetica,sans-Serif\" font-size=\"14.00\">class = nao</text>\n</g>\n<!-- 166&#45;&gt;167 -->\n<g id=\"edge167\" class=\"edge\">\n<title>166&#45;&gt;167</title>\n<path fill=\"none\" stroke=\"black\" d=\"M6742.91,-579.91C6736.43,-568.76 6729.4,-556.66 6722.87,-545.44\"/>\n<polygon fill=\"black\" stroke=\"black\" points=\"6725.83,-543.55 6717.78,-536.67 6719.78,-547.07 6725.83,-543.55\"/>\n</g>\n<!-- 168 -->\n<g id=\"node169\" class=\"node\">\n<title>168</title>\n<path fill=\"#f8dfcd\" stroke=\"black\" d=\"M6892.5,-544C6892.5,-544 6776.5,-544 6776.5,-544 6770.5,-544 6764.5,-538 6764.5,-532 6764.5,-532 6764.5,-473 6764.5,-473 6764.5,-467 6770.5,-461 6776.5,-461 6776.5,-461 6892.5,-461 6892.5,-461 6898.5,-461 6904.5,-467 6904.5,-473 6904.5,-473 6904.5,-532 6904.5,-532 6904.5,-538 6898.5,-544 6892.5,-544\"/>\n<text text-anchor=\"middle\" x=\"6834.5\" y=\"-528.8\" font-family=\"Helvetica,sans-Serif\" font-size=\"14.00\">preco &lt;= 91665.414</text>\n<text text-anchor=\"middle\" x=\"6834.5\" y=\"-513.8\" font-family=\"Helvetica,sans-Serif\" font-size=\"14.00\">gini = 0.489</text>\n<text text-anchor=\"middle\" x=\"6834.5\" y=\"-498.8\" font-family=\"Helvetica,sans-Serif\" font-size=\"14.00\">samples = 2880</text>\n<text text-anchor=\"middle\" x=\"6834.5\" y=\"-483.8\" font-family=\"Helvetica,sans-Serif\" font-size=\"14.00\">value = [1649, 1231]</text>\n<text text-anchor=\"middle\" x=\"6834.5\" y=\"-468.8\" font-family=\"Helvetica,sans-Serif\" font-size=\"14.00\">class = nao</text>\n</g>\n<!-- 166&#45;&gt;168 -->\n<g id=\"edge168\" class=\"edge\">\n<title>166&#45;&gt;168</title>\n<path fill=\"none\" stroke=\"black\" d=\"M6790.09,-579.91C6795.16,-571.2 6800.56,-561.9 6805.79,-552.89\"/>\n<polygon fill=\"black\" stroke=\"black\" points=\"6808.95,-554.43 6810.95,-544.02 6802.9,-550.91 6808.95,-554.43\"/>\n</g>\n<!-- 169 -->\n<g id=\"node170\" class=\"node\">\n<title>169</title>\n<path fill=\"#f9e3d3\" stroke=\"black\" d=\"M6616.5,-425C6616.5,-425 6460.5,-425 6460.5,-425 6454.5,-425 6448.5,-419 6448.5,-413 6448.5,-413 6448.5,-354 6448.5,-354 6448.5,-348 6454.5,-342 6460.5,-342 6460.5,-342 6616.5,-342 6616.5,-342 6622.5,-342 6628.5,-348 6628.5,-354 6628.5,-354 6628.5,-413 6628.5,-413 6628.5,-419 6622.5,-425 6616.5,-425\"/>\n<text text-anchor=\"middle\" x=\"6538.5\" y=\"-409.8\" font-family=\"Helvetica,sans-Serif\" font-size=\"14.00\">km_por_ano &lt;= 14859.841</text>\n<text text-anchor=\"middle\" x=\"6538.5\" y=\"-394.8\" font-family=\"Helvetica,sans-Serif\" font-size=\"14.00\">gini = 0.492</text>\n<text text-anchor=\"middle\" x=\"6538.5\" y=\"-379.8\" font-family=\"Helvetica,sans-Serif\" font-size=\"14.00\">samples = 2377</text>\n<text text-anchor=\"middle\" x=\"6538.5\" y=\"-364.8\" font-family=\"Helvetica,sans-Serif\" font-size=\"14.00\">value = [1337, 1040]</text>\n<text text-anchor=\"middle\" x=\"6538.5\" y=\"-349.8\" font-family=\"Helvetica,sans-Serif\" font-size=\"14.00\">class = nao</text>\n</g>\n<!-- 168&#45;&gt;169 -->\n<g id=\"edge169\" class=\"edge\">\n<title>168&#45;&gt;169</title>\n<path fill=\"none\" stroke=\"black\" d=\"M6764.06,-465.22C6760.85,-463.76 6757.65,-462.35 6754.5,-461 6717.15,-445.01 6675.23,-429.6 6638.32,-416.86\"/>\n<polygon fill=\"black\" stroke=\"black\" points=\"6639.15,-413.44 6628.55,-413.51 6636.88,-420.06 6639.15,-413.44\"/>\n</g>\n<!-- 184 -->\n<g id=\"node185\" class=\"node\">\n<title>184</title>\n<path fill=\"#f5ceb2\" stroke=\"black\" d=\"M7138.5,-425C7138.5,-425 7024.5,-425 7024.5,-425 7018.5,-425 7012.5,-419 7012.5,-413 7012.5,-413 7012.5,-354 7012.5,-354 7012.5,-348 7018.5,-342 7024.5,-342 7024.5,-342 7138.5,-342 7138.5,-342 7144.5,-342 7150.5,-348 7150.5,-354 7150.5,-354 7150.5,-413 7150.5,-413 7150.5,-419 7144.5,-425 7138.5,-425\"/>\n<text text-anchor=\"middle\" x=\"7081.5\" y=\"-409.8\" font-family=\"Helvetica,sans-Serif\" font-size=\"14.00\">preco &lt;= 92666.359</text>\n<text text-anchor=\"middle\" x=\"7081.5\" y=\"-394.8\" font-family=\"Helvetica,sans-Serif\" font-size=\"14.00\">gini = 0.471</text>\n<text text-anchor=\"middle\" x=\"7081.5\" y=\"-379.8\" font-family=\"Helvetica,sans-Serif\" font-size=\"14.00\">samples = 503</text>\n<text text-anchor=\"middle\" x=\"7081.5\" y=\"-364.8\" font-family=\"Helvetica,sans-Serif\" font-size=\"14.00\">value = [312, 191]</text>\n<text text-anchor=\"middle\" x=\"7081.5\" y=\"-349.8\" font-family=\"Helvetica,sans-Serif\" font-size=\"14.00\">class = nao</text>\n</g>\n<!-- 168&#45;&gt;184 -->\n<g id=\"edge184\" class=\"edge\">\n<title>168&#45;&gt;184</title>\n<path fill=\"none\" stroke=\"black\" d=\"M6904.62,-468.29C6935.38,-453.71 6971.62,-436.55 7003.26,-421.56\"/>\n<polygon fill=\"black\" stroke=\"black\" points=\"7004.95,-424.63 7012.49,-417.19 7001.95,-418.31 7004.95,-424.63\"/>\n</g>\n<!-- 170 -->\n<g id=\"node171\" class=\"node\">\n<title>170</title>\n<path fill=\"#f6d4bb\" stroke=\"black\" d=\"M6392.5,-306C6392.5,-306 6236.5,-306 6236.5,-306 6230.5,-306 6224.5,-300 6224.5,-294 6224.5,-294 6224.5,-235 6224.5,-235 6224.5,-229 6230.5,-223 6236.5,-223 6236.5,-223 6392.5,-223 6392.5,-223 6398.5,-223 6404.5,-229 6404.5,-235 6404.5,-235 6404.5,-294 6404.5,-294 6404.5,-300 6398.5,-306 6392.5,-306\"/>\n<text text-anchor=\"middle\" x=\"6314.5\" y=\"-290.8\" font-family=\"Helvetica,sans-Serif\" font-size=\"14.00\">km_por_ano &lt;= 14802.709</text>\n<text text-anchor=\"middle\" x=\"6314.5\" y=\"-275.8\" font-family=\"Helvetica,sans-Serif\" font-size=\"14.00\">gini = 0.479</text>\n<text text-anchor=\"middle\" x=\"6314.5\" y=\"-260.8\" font-family=\"Helvetica,sans-Serif\" font-size=\"14.00\">samples = 572</text>\n<text text-anchor=\"middle\" x=\"6314.5\" y=\"-245.8\" font-family=\"Helvetica,sans-Serif\" font-size=\"14.00\">value = [345, 227]</text>\n<text text-anchor=\"middle\" x=\"6314.5\" y=\"-230.8\" font-family=\"Helvetica,sans-Serif\" font-size=\"14.00\">class = nao</text>\n</g>\n<!-- 169&#45;&gt;170 -->\n<g id=\"edge170\" class=\"edge\">\n<title>169&#45;&gt;170</title>\n<path fill=\"none\" stroke=\"black\" d=\"M6460.78,-341.91C6441.5,-331.83 6420.71,-320.98 6401.03,-310.7\"/>\n<polygon fill=\"black\" stroke=\"black\" points=\"6402.56,-307.55 6392.08,-306.02 6399.32,-313.75 6402.56,-307.55\"/>\n</g>\n<!-- 177 -->\n<g id=\"node178\" class=\"node\">\n<title>177</title>\n<path fill=\"#fae8db\" stroke=\"black\" d=\"M6614,-306C6614,-306 6463,-306 6463,-306 6457,-306 6451,-300 6451,-294 6451,-294 6451,-235 6451,-235 6451,-229 6457,-223 6463,-223 6463,-223 6614,-223 6614,-223 6620,-223 6626,-229 6626,-235 6626,-235 6626,-294 6626,-294 6626,-300 6620,-306 6614,-306\"/>\n<text text-anchor=\"middle\" x=\"6538.5\" y=\"-290.8\" font-family=\"Helvetica,sans-Serif\" font-size=\"14.00\">idade_do_modelo &lt;= 16.5</text>\n<text text-anchor=\"middle\" x=\"6538.5\" y=\"-275.8\" font-family=\"Helvetica,sans-Serif\" font-size=\"14.00\">gini = 0.495</text>\n<text text-anchor=\"middle\" x=\"6538.5\" y=\"-260.8\" font-family=\"Helvetica,sans-Serif\" font-size=\"14.00\">samples = 1805</text>\n<text text-anchor=\"middle\" x=\"6538.5\" y=\"-245.8\" font-family=\"Helvetica,sans-Serif\" font-size=\"14.00\">value = [992, 813]</text>\n<text text-anchor=\"middle\" x=\"6538.5\" y=\"-230.8\" font-family=\"Helvetica,sans-Serif\" font-size=\"14.00\">class = nao</text>\n</g>\n<!-- 169&#45;&gt;177 -->\n<g id=\"edge177\" class=\"edge\">\n<title>169&#45;&gt;177</title>\n<path fill=\"none\" stroke=\"black\" d=\"M6538.5,-341.91C6538.5,-333.65 6538.5,-324.86 6538.5,-316.3\"/>\n<polygon fill=\"black\" stroke=\"black\" points=\"6542,-316.02 6538.5,-306.02 6535,-316.02 6542,-316.02\"/>\n</g>\n<!-- 171 -->\n<g id=\"node172\" class=\"node\">\n<title>171</title>\n<path fill=\"#f7d7bf\" stroke=\"black\" d=\"M6116.5,-187C6116.5,-187 5960.5,-187 5960.5,-187 5954.5,-187 5948.5,-181 5948.5,-175 5948.5,-175 5948.5,-116 5948.5,-116 5948.5,-110 5954.5,-104 5960.5,-104 5960.5,-104 6116.5,-104 6116.5,-104 6122.5,-104 6128.5,-110 6128.5,-116 6128.5,-116 6128.5,-175 6128.5,-175 6128.5,-181 6122.5,-187 6116.5,-187\"/>\n<text text-anchor=\"middle\" x=\"6038.5\" y=\"-171.8\" font-family=\"Helvetica,sans-Serif\" font-size=\"14.00\">km_por_ano &lt;= 14735.117</text>\n<text text-anchor=\"middle\" x=\"6038.5\" y=\"-156.8\" font-family=\"Helvetica,sans-Serif\" font-size=\"14.00\">gini = 0.482</text>\n<text text-anchor=\"middle\" x=\"6038.5\" y=\"-141.8\" font-family=\"Helvetica,sans-Serif\" font-size=\"14.00\">samples = 559</text>\n<text text-anchor=\"middle\" x=\"6038.5\" y=\"-126.8\" font-family=\"Helvetica,sans-Serif\" font-size=\"14.00\">value = [333, 226]</text>\n<text text-anchor=\"middle\" x=\"6038.5\" y=\"-111.8\" font-family=\"Helvetica,sans-Serif\" font-size=\"14.00\">class = nao</text>\n</g>\n<!-- 170&#45;&gt;171 -->\n<g id=\"edge171\" class=\"edge\">\n<title>170&#45;&gt;171</title>\n<path fill=\"none\" stroke=\"black\" d=\"M6224.13,-225.19C6196.58,-213.51 6166.16,-200.62 6138.04,-188.7\"/>\n<polygon fill=\"black\" stroke=\"black\" points=\"6139.18,-185.38 6128.6,-184.7 6136.45,-191.82 6139.18,-185.38\"/>\n</g>\n<!-- 174 -->\n<g id=\"node175\" class=\"node\">\n<title>174</title>\n<path fill=\"#e78c49\" stroke=\"black\" d=\"M6325.5,-187C6325.5,-187 6211.5,-187 6211.5,-187 6205.5,-187 6199.5,-181 6199.5,-175 6199.5,-175 6199.5,-116 6199.5,-116 6199.5,-110 6205.5,-104 6211.5,-104 6211.5,-104 6325.5,-104 6325.5,-104 6331.5,-104 6337.5,-110 6337.5,-116 6337.5,-116 6337.5,-175 6337.5,-175 6337.5,-181 6331.5,-187 6325.5,-187\"/>\n<text text-anchor=\"middle\" x=\"6268.5\" y=\"-171.8\" font-family=\"Helvetica,sans-Serif\" font-size=\"14.00\">preco &lt;= 64686.412</text>\n<text text-anchor=\"middle\" x=\"6268.5\" y=\"-156.8\" font-family=\"Helvetica,sans-Serif\" font-size=\"14.00\">gini = 0.142</text>\n<text text-anchor=\"middle\" x=\"6268.5\" y=\"-141.8\" font-family=\"Helvetica,sans-Serif\" font-size=\"14.00\">samples = 13</text>\n<text text-anchor=\"middle\" x=\"6268.5\" y=\"-126.8\" font-family=\"Helvetica,sans-Serif\" font-size=\"14.00\">value = [12, 1]</text>\n<text text-anchor=\"middle\" x=\"6268.5\" y=\"-111.8\" font-family=\"Helvetica,sans-Serif\" font-size=\"14.00\">class = nao</text>\n</g>\n<!-- 170&#45;&gt;174 -->\n<g id=\"edge174\" class=\"edge\">\n<title>170&#45;&gt;174</title>\n<path fill=\"none\" stroke=\"black\" d=\"M6298.54,-222.91C6295.19,-214.38 6291.61,-205.28 6288.14,-196.46\"/>\n<polygon fill=\"black\" stroke=\"black\" points=\"6291.35,-195.05 6284.43,-187.02 6284.83,-197.61 6291.35,-195.05\"/>\n</g>\n<!-- 172 -->\n<g id=\"node173\" class=\"node\">\n<title>172</title>\n<path fill=\"#f6d4bc\" stroke=\"black\" d=\"M5961,-68C5961,-68 5860,-68 5860,-68 5854,-68 5848,-62 5848,-56 5848,-56 5848,-12 5848,-12 5848,-6 5854,0 5860,0 5860,0 5961,0 5961,0 5967,0 5973,-6 5973,-12 5973,-12 5973,-56 5973,-56 5973,-62 5967,-68 5961,-68\"/>\n<text text-anchor=\"middle\" x=\"5910.5\" y=\"-52.8\" font-family=\"Helvetica,sans-Serif\" font-size=\"14.00\">gini = 0.479</text>\n<text text-anchor=\"middle\" x=\"5910.5\" y=\"-37.8\" font-family=\"Helvetica,sans-Serif\" font-size=\"14.00\">samples = 552</text>\n<text text-anchor=\"middle\" x=\"5910.5\" y=\"-22.8\" font-family=\"Helvetica,sans-Serif\" font-size=\"14.00\">value = [332, 220]</text>\n<text text-anchor=\"middle\" x=\"5910.5\" y=\"-7.8\" font-family=\"Helvetica,sans-Serif\" font-size=\"14.00\">class = nao</text>\n</g>\n<!-- 171&#45;&gt;172 -->\n<g id=\"edge172\" class=\"edge\">\n<title>171&#45;&gt;172</title>\n<path fill=\"none\" stroke=\"black\" d=\"M5990.84,-103.73C5979.86,-94.33 5968.19,-84.35 5957.24,-74.99\"/>\n<polygon fill=\"black\" stroke=\"black\" points=\"5959.3,-72.14 5949.43,-68.3 5954.75,-77.46 5959.3,-72.14\"/>\n</g>\n<!-- 173 -->\n<g id=\"node174\" class=\"node\">\n<title>173</title>\n<path fill=\"#5aade9\" stroke=\"black\" d=\"M6074,-68C6074,-68 6003,-68 6003,-68 5997,-68 5991,-62 5991,-56 5991,-56 5991,-12 5991,-12 5991,-6 5997,0 6003,0 6003,0 6074,0 6074,0 6080,0 6086,-6 6086,-12 6086,-12 6086,-56 6086,-56 6086,-62 6080,-68 6074,-68\"/>\n<text text-anchor=\"middle\" x=\"6038.5\" y=\"-52.8\" font-family=\"Helvetica,sans-Serif\" font-size=\"14.00\">gini = 0.245</text>\n<text text-anchor=\"middle\" x=\"6038.5\" y=\"-37.8\" font-family=\"Helvetica,sans-Serif\" font-size=\"14.00\">samples = 7</text>\n<text text-anchor=\"middle\" x=\"6038.5\" y=\"-22.8\" font-family=\"Helvetica,sans-Serif\" font-size=\"14.00\">value = [1, 6]</text>\n<text text-anchor=\"middle\" x=\"6038.5\" y=\"-7.8\" font-family=\"Helvetica,sans-Serif\" font-size=\"14.00\">class = sim</text>\n</g>\n<!-- 171&#45;&gt;173 -->\n<g id=\"edge173\" class=\"edge\">\n<title>171&#45;&gt;173</title>\n<path fill=\"none\" stroke=\"black\" d=\"M6038.5,-103.73C6038.5,-95.52 6038.5,-86.86 6038.5,-78.56\"/>\n<polygon fill=\"black\" stroke=\"black\" points=\"6042,-78.3 6038.5,-68.3 6035,-78.3 6042,-78.3\"/>\n</g>\n<!-- 175 -->\n<g id=\"node176\" class=\"node\">\n<title>175</title>\n<path fill=\"#ffffff\" stroke=\"black\" d=\"M6187,-68C6187,-68 6116,-68 6116,-68 6110,-68 6104,-62 6104,-56 6104,-56 6104,-12 6104,-12 6104,-6 6110,0 6116,0 6116,0 6187,0 6187,0 6193,0 6199,-6 6199,-12 6199,-12 6199,-56 6199,-56 6199,-62 6193,-68 6187,-68\"/>\n<text text-anchor=\"middle\" x=\"6151.5\" y=\"-52.8\" font-family=\"Helvetica,sans-Serif\" font-size=\"14.00\">gini = 0.5</text>\n<text text-anchor=\"middle\" x=\"6151.5\" y=\"-37.8\" font-family=\"Helvetica,sans-Serif\" font-size=\"14.00\">samples = 2</text>\n<text text-anchor=\"middle\" x=\"6151.5\" y=\"-22.8\" font-family=\"Helvetica,sans-Serif\" font-size=\"14.00\">value = [1, 1]</text>\n<text text-anchor=\"middle\" x=\"6151.5\" y=\"-7.8\" font-family=\"Helvetica,sans-Serif\" font-size=\"14.00\">class = nao</text>\n</g>\n<!-- 174&#45;&gt;175 -->\n<g id=\"edge175\" class=\"edge\">\n<title>174&#45;&gt;175</title>\n<path fill=\"none\" stroke=\"black\" d=\"M6224.93,-103.73C6214.99,-94.42 6204.44,-84.54 6194.52,-75.26\"/>\n<polygon fill=\"black\" stroke=\"black\" points=\"6196.77,-72.58 6187.08,-68.3 6191.99,-77.69 6196.77,-72.58\"/>\n</g>\n<!-- 176 -->\n<g id=\"node177\" class=\"node\">\n<title>176</title>\n<path fill=\"#e58139\" stroke=\"black\" d=\"M6307.5,-68C6307.5,-68 6229.5,-68 6229.5,-68 6223.5,-68 6217.5,-62 6217.5,-56 6217.5,-56 6217.5,-12 6217.5,-12 6217.5,-6 6223.5,0 6229.5,0 6229.5,0 6307.5,0 6307.5,0 6313.5,0 6319.5,-6 6319.5,-12 6319.5,-12 6319.5,-56 6319.5,-56 6319.5,-62 6313.5,-68 6307.5,-68\"/>\n<text text-anchor=\"middle\" x=\"6268.5\" y=\"-52.8\" font-family=\"Helvetica,sans-Serif\" font-size=\"14.00\">gini = 0.0</text>\n<text text-anchor=\"middle\" x=\"6268.5\" y=\"-37.8\" font-family=\"Helvetica,sans-Serif\" font-size=\"14.00\">samples = 11</text>\n<text text-anchor=\"middle\" x=\"6268.5\" y=\"-22.8\" font-family=\"Helvetica,sans-Serif\" font-size=\"14.00\">value = [11, 0]</text>\n<text text-anchor=\"middle\" x=\"6268.5\" y=\"-7.8\" font-family=\"Helvetica,sans-Serif\" font-size=\"14.00\">class = nao</text>\n</g>\n<!-- 174&#45;&gt;176 -->\n<g id=\"edge176\" class=\"edge\">\n<title>174&#45;&gt;176</title>\n<path fill=\"none\" stroke=\"black\" d=\"M6268.5,-103.73C6268.5,-95.52 6268.5,-86.86 6268.5,-78.56\"/>\n<polygon fill=\"black\" stroke=\"black\" points=\"6272,-78.3 6268.5,-68.3 6265,-78.3 6272,-78.3\"/>\n</g>\n<!-- 178 -->\n<g id=\"node179\" class=\"node\">\n<title>178</title>\n<path fill=\"#fcf1e9\" stroke=\"black\" d=\"M6575.5,-187C6575.5,-187 6419.5,-187 6419.5,-187 6413.5,-187 6407.5,-181 6407.5,-175 6407.5,-175 6407.5,-116 6407.5,-116 6407.5,-110 6413.5,-104 6419.5,-104 6419.5,-104 6575.5,-104 6575.5,-104 6581.5,-104 6587.5,-110 6587.5,-116 6587.5,-116 6587.5,-175 6587.5,-175 6587.5,-181 6581.5,-187 6575.5,-187\"/>\n<text text-anchor=\"middle\" x=\"6497.5\" y=\"-171.8\" font-family=\"Helvetica,sans-Serif\" font-size=\"14.00\">km_por_ano &lt;= 14953.987</text>\n<text text-anchor=\"middle\" x=\"6497.5\" y=\"-156.8\" font-family=\"Helvetica,sans-Serif\" font-size=\"14.00\">gini = 0.498</text>\n<text text-anchor=\"middle\" x=\"6497.5\" y=\"-141.8\" font-family=\"Helvetica,sans-Serif\" font-size=\"14.00\">samples = 1179</text>\n<text text-anchor=\"middle\" x=\"6497.5\" y=\"-126.8\" font-family=\"Helvetica,sans-Serif\" font-size=\"14.00\">value = [624, 555]</text>\n<text text-anchor=\"middle\" x=\"6497.5\" y=\"-111.8\" font-family=\"Helvetica,sans-Serif\" font-size=\"14.00\">class = nao</text>\n</g>\n<!-- 177&#45;&gt;178 -->\n<g id=\"edge178\" class=\"edge\">\n<title>177&#45;&gt;178</title>\n<path fill=\"none\" stroke=\"black\" d=\"M6524.28,-222.91C6521.32,-214.47 6518.17,-205.48 6515.1,-196.74\"/>\n<polygon fill=\"black\" stroke=\"black\" points=\"6518.31,-195.3 6511.7,-187.02 6511.7,-197.62 6518.31,-195.3\"/>\n</g>\n<!-- 181 -->\n<g id=\"node182\" class=\"node\">\n<title>181</title>\n<path fill=\"#f7d9c4\" stroke=\"black\" d=\"M6725,-187C6725,-187 6618,-187 6618,-187 6612,-187 6606,-181 6606,-175 6606,-175 6606,-116 6606,-116 6606,-110 6612,-104 6618,-104 6618,-104 6725,-104 6725,-104 6731,-104 6737,-110 6737,-116 6737,-116 6737,-175 6737,-175 6737,-181 6731,-187 6725,-187\"/>\n<text text-anchor=\"middle\" x=\"6671.5\" y=\"-171.8\" font-family=\"Helvetica,sans-Serif\" font-size=\"14.00\">preco &lt;= 60320.83</text>\n<text text-anchor=\"middle\" x=\"6671.5\" y=\"-156.8\" font-family=\"Helvetica,sans-Serif\" font-size=\"14.00\">gini = 0.485</text>\n<text text-anchor=\"middle\" x=\"6671.5\" y=\"-141.8\" font-family=\"Helvetica,sans-Serif\" font-size=\"14.00\">samples = 626</text>\n<text text-anchor=\"middle\" x=\"6671.5\" y=\"-126.8\" font-family=\"Helvetica,sans-Serif\" font-size=\"14.00\">value = [368, 258]</text>\n<text text-anchor=\"middle\" x=\"6671.5\" y=\"-111.8\" font-family=\"Helvetica,sans-Serif\" font-size=\"14.00\">class = nao</text>\n</g>\n<!-- 177&#45;&gt;181 -->\n<g id=\"edge181\" class=\"edge\">\n<title>177&#45;&gt;181</title>\n<path fill=\"none\" stroke=\"black\" d=\"M6584.64,-222.91C6595.37,-213.47 6606.88,-203.34 6617.9,-193.65\"/>\n<polygon fill=\"black\" stroke=\"black\" points=\"6620.24,-196.25 6625.44,-187.02 6615.62,-191 6620.24,-196.25\"/>\n</g>\n<!-- 179 -->\n<g id=\"node180\" class=\"node\">\n<title>179</title>\n<path fill=\"#4ba6e7\" stroke=\"black\" d=\"M6427.5,-68C6427.5,-68 6349.5,-68 6349.5,-68 6343.5,-68 6337.5,-62 6337.5,-56 6337.5,-56 6337.5,-12 6337.5,-12 6337.5,-6 6343.5,0 6349.5,0 6349.5,0 6427.5,0 6427.5,0 6433.5,0 6439.5,-6 6439.5,-12 6439.5,-12 6439.5,-56 6439.5,-56 6439.5,-62 6433.5,-68 6427.5,-68\"/>\n<text text-anchor=\"middle\" x=\"6388.5\" y=\"-52.8\" font-family=\"Helvetica,sans-Serif\" font-size=\"14.00\">gini = 0.153</text>\n<text text-anchor=\"middle\" x=\"6388.5\" y=\"-37.8\" font-family=\"Helvetica,sans-Serif\" font-size=\"14.00\">samples = 12</text>\n<text text-anchor=\"middle\" x=\"6388.5\" y=\"-22.8\" font-family=\"Helvetica,sans-Serif\" font-size=\"14.00\">value = [1, 11]</text>\n<text text-anchor=\"middle\" x=\"6388.5\" y=\"-7.8\" font-family=\"Helvetica,sans-Serif\" font-size=\"14.00\">class = sim</text>\n</g>\n<!-- 178&#45;&gt;179 -->\n<g id=\"edge179\" class=\"edge\">\n<title>178&#45;&gt;179</title>\n<path fill=\"none\" stroke=\"black\" d=\"M6456.91,-103.73C6447.74,-94.51 6438.01,-84.74 6428.85,-75.53\"/>\n<polygon fill=\"black\" stroke=\"black\" points=\"6431.18,-72.92 6421.65,-68.3 6426.22,-77.86 6431.18,-72.92\"/>\n</g>\n<!-- 180 -->\n<g id=\"node181\" class=\"node\">\n<title>180</title>\n<path fill=\"#fcefe6\" stroke=\"black\" d=\"M6571,-68C6571,-68 6470,-68 6470,-68 6464,-68 6458,-62 6458,-56 6458,-56 6458,-12 6458,-12 6458,-6 6464,0 6470,0 6470,0 6571,0 6571,0 6577,0 6583,-6 6583,-12 6583,-12 6583,-56 6583,-56 6583,-62 6577,-68 6571,-68\"/>\n<text text-anchor=\"middle\" x=\"6520.5\" y=\"-52.8\" font-family=\"Helvetica,sans-Serif\" font-size=\"14.00\">gini = 0.498</text>\n<text text-anchor=\"middle\" x=\"6520.5\" y=\"-37.8\" font-family=\"Helvetica,sans-Serif\" font-size=\"14.00\">samples = 1167</text>\n<text text-anchor=\"middle\" x=\"6520.5\" y=\"-22.8\" font-family=\"Helvetica,sans-Serif\" font-size=\"14.00\">value = [623, 544]</text>\n<text text-anchor=\"middle\" x=\"6520.5\" y=\"-7.8\" font-family=\"Helvetica,sans-Serif\" font-size=\"14.00\">class = nao</text>\n</g>\n<!-- 178&#45;&gt;180 -->\n<g id=\"edge180\" class=\"edge\">\n<title>178&#45;&gt;180</title>\n<path fill=\"none\" stroke=\"black\" d=\"M6506.06,-103.73C6507.81,-95.43 6509.65,-86.67 6511.41,-78.28\"/>\n<polygon fill=\"black\" stroke=\"black\" points=\"6514.88,-78.81 6513.51,-68.3 6508.02,-77.37 6514.88,-78.81\"/>\n</g>\n<!-- 182 -->\n<g id=\"node183\" class=\"node\">\n<title>182</title>\n<path fill=\"#399de5\" stroke=\"black\" d=\"M6684,-68C6684,-68 6613,-68 6613,-68 6607,-68 6601,-62 6601,-56 6601,-56 6601,-12 6601,-12 6601,-6 6607,0 6613,0 6613,0 6684,0 6684,0 6690,0 6696,-6 6696,-12 6696,-12 6696,-56 6696,-56 6696,-62 6690,-68 6684,-68\"/>\n<text text-anchor=\"middle\" x=\"6648.5\" y=\"-52.8\" font-family=\"Helvetica,sans-Serif\" font-size=\"14.00\">gini = 0.0</text>\n<text text-anchor=\"middle\" x=\"6648.5\" y=\"-37.8\" font-family=\"Helvetica,sans-Serif\" font-size=\"14.00\">samples = 4</text>\n<text text-anchor=\"middle\" x=\"6648.5\" y=\"-22.8\" font-family=\"Helvetica,sans-Serif\" font-size=\"14.00\">value = [0, 4]</text>\n<text text-anchor=\"middle\" x=\"6648.5\" y=\"-7.8\" font-family=\"Helvetica,sans-Serif\" font-size=\"14.00\">class = sim</text>\n</g>\n<!-- 181&#45;&gt;182 -->\n<g id=\"edge182\" class=\"edge\">\n<title>181&#45;&gt;182</title>\n<path fill=\"none\" stroke=\"black\" d=\"M6662.94,-103.73C6661.19,-95.43 6659.35,-86.67 6657.59,-78.28\"/>\n<polygon fill=\"black\" stroke=\"black\" points=\"6660.98,-77.37 6655.49,-68.3 6654.12,-78.81 6660.98,-77.37\"/>\n</g>\n<!-- 183 -->\n<g id=\"node184\" class=\"node\">\n<title>183</title>\n<path fill=\"#f7d8c2\" stroke=\"black\" d=\"M6827,-68C6827,-68 6726,-68 6726,-68 6720,-68 6714,-62 6714,-56 6714,-56 6714,-12 6714,-12 6714,-6 6720,0 6726,0 6726,0 6827,0 6827,0 6833,0 6839,-6 6839,-12 6839,-12 6839,-56 6839,-56 6839,-62 6833,-68 6827,-68\"/>\n<text text-anchor=\"middle\" x=\"6776.5\" y=\"-52.8\" font-family=\"Helvetica,sans-Serif\" font-size=\"14.00\">gini = 0.483</text>\n<text text-anchor=\"middle\" x=\"6776.5\" y=\"-37.8\" font-family=\"Helvetica,sans-Serif\" font-size=\"14.00\">samples = 622</text>\n<text text-anchor=\"middle\" x=\"6776.5\" y=\"-22.8\" font-family=\"Helvetica,sans-Serif\" font-size=\"14.00\">value = [368, 254]</text>\n<text text-anchor=\"middle\" x=\"6776.5\" y=\"-7.8\" font-family=\"Helvetica,sans-Serif\" font-size=\"14.00\">class = nao</text>\n</g>\n<!-- 181&#45;&gt;183 -->\n<g id=\"edge183\" class=\"edge\">\n<title>181&#45;&gt;183</title>\n<path fill=\"none\" stroke=\"black\" d=\"M6710.6,-103.73C6719.43,-94.51 6728.81,-84.74 6737.63,-75.53\"/>\n<polygon fill=\"black\" stroke=\"black\" points=\"6740.17,-77.94 6744.57,-68.3 6735.12,-73.1 6740.17,-77.94\"/>\n</g>\n<!-- 185 -->\n<g id=\"node186\" class=\"node\">\n<title>185</title>\n<path fill=\"#eca46f\" stroke=\"black\" d=\"M7159.5,-306C7159.5,-306 7003.5,-306 7003.5,-306 6997.5,-306 6991.5,-300 6991.5,-294 6991.5,-294 6991.5,-235 6991.5,-235 6991.5,-229 6997.5,-223 7003.5,-223 7003.5,-223 7159.5,-223 7159.5,-223 7165.5,-223 7171.5,-229 7171.5,-235 7171.5,-235 7171.5,-294 7171.5,-294 7171.5,-300 7165.5,-306 7159.5,-306\"/>\n<text text-anchor=\"middle\" x=\"7081.5\" y=\"-290.8\" font-family=\"Helvetica,sans-Serif\" font-size=\"14.00\">km_por_ano &lt;= 16788.635</text>\n<text text-anchor=\"middle\" x=\"7081.5\" y=\"-275.8\" font-family=\"Helvetica,sans-Serif\" font-size=\"14.00\">gini = 0.338</text>\n<text text-anchor=\"middle\" x=\"7081.5\" y=\"-260.8\" font-family=\"Helvetica,sans-Serif\" font-size=\"14.00\">samples = 65</text>\n<text text-anchor=\"middle\" x=\"7081.5\" y=\"-245.8\" font-family=\"Helvetica,sans-Serif\" font-size=\"14.00\">value = [51, 14]</text>\n<text text-anchor=\"middle\" x=\"7081.5\" y=\"-230.8\" font-family=\"Helvetica,sans-Serif\" font-size=\"14.00\">class = nao</text>\n</g>\n<!-- 184&#45;&gt;185 -->\n<g id=\"edge185\" class=\"edge\">\n<title>184&#45;&gt;185</title>\n<path fill=\"none\" stroke=\"black\" d=\"M7081.5,-341.91C7081.5,-333.65 7081.5,-324.86 7081.5,-316.3\"/>\n<polygon fill=\"black\" stroke=\"black\" points=\"7085,-316.02 7081.5,-306.02 7078,-316.02 7085,-316.02\"/>\n</g>\n<!-- 192 -->\n<g id=\"node193\" class=\"node\">\n<title>192</title>\n<path fill=\"#f7d6bf\" stroke=\"black\" d=\"M7494.5,-306C7494.5,-306 7338.5,-306 7338.5,-306 7332.5,-306 7326.5,-300 7326.5,-294 7326.5,-294 7326.5,-235 7326.5,-235 7326.5,-229 7332.5,-223 7338.5,-223 7338.5,-223 7494.5,-223 7494.5,-223 7500.5,-223 7506.5,-229 7506.5,-235 7506.5,-235 7506.5,-294 7506.5,-294 7506.5,-300 7500.5,-306 7494.5,-306\"/>\n<text text-anchor=\"middle\" x=\"7416.5\" y=\"-290.8\" font-family=\"Helvetica,sans-Serif\" font-size=\"14.00\">km_por_ano &lt;= 18104.271</text>\n<text text-anchor=\"middle\" x=\"7416.5\" y=\"-275.8\" font-family=\"Helvetica,sans-Serif\" font-size=\"14.00\">gini = 0.482</text>\n<text text-anchor=\"middle\" x=\"7416.5\" y=\"-260.8\" font-family=\"Helvetica,sans-Serif\" font-size=\"14.00\">samples = 438</text>\n<text text-anchor=\"middle\" x=\"7416.5\" y=\"-245.8\" font-family=\"Helvetica,sans-Serif\" font-size=\"14.00\">value = [261, 177]</text>\n<text text-anchor=\"middle\" x=\"7416.5\" y=\"-230.8\" font-family=\"Helvetica,sans-Serif\" font-size=\"14.00\">class = nao</text>\n</g>\n<!-- 184&#45;&gt;192 -->\n<g id=\"edge192\" class=\"edge\">\n<title>184&#45;&gt;192</title>\n<path fill=\"none\" stroke=\"black\" d=\"M7150.51,-358.4C7198.48,-341.64 7263.17,-319.05 7316.74,-300.34\"/>\n<polygon fill=\"black\" stroke=\"black\" points=\"7317.98,-303.62 7326.26,-297.02 7315.67,-297.01 7317.98,-303.62\"/>\n</g>\n<!-- 186 -->\n<g id=\"node187\" class=\"node\">\n<title>186</title>\n<path fill=\"#f6d5bd\" stroke=\"black\" d=\"M7071.5,-187C7071.5,-187 6915.5,-187 6915.5,-187 6909.5,-187 6903.5,-181 6903.5,-175 6903.5,-175 6903.5,-116 6903.5,-116 6903.5,-110 6909.5,-104 6915.5,-104 6915.5,-104 7071.5,-104 7071.5,-104 7077.5,-104 7083.5,-110 7083.5,-116 7083.5,-116 7083.5,-175 7083.5,-175 7083.5,-181 7077.5,-187 7071.5,-187\"/>\n<text text-anchor=\"middle\" x=\"6993.5\" y=\"-171.8\" font-family=\"Helvetica,sans-Serif\" font-size=\"14.00\">km_por_ano &lt;= 16199.616</text>\n<text text-anchor=\"middle\" x=\"6993.5\" y=\"-156.8\" font-family=\"Helvetica,sans-Serif\" font-size=\"14.00\">gini = 0.48</text>\n<text text-anchor=\"middle\" x=\"6993.5\" y=\"-141.8\" font-family=\"Helvetica,sans-Serif\" font-size=\"14.00\">samples = 20</text>\n<text text-anchor=\"middle\" x=\"6993.5\" y=\"-126.8\" font-family=\"Helvetica,sans-Serif\" font-size=\"14.00\">value = [12, 8]</text>\n<text text-anchor=\"middle\" x=\"6993.5\" y=\"-111.8\" font-family=\"Helvetica,sans-Serif\" font-size=\"14.00\">class = nao</text>\n</g>\n<!-- 185&#45;&gt;186 -->\n<g id=\"edge186\" class=\"edge\">\n<title>185&#45;&gt;186</title>\n<path fill=\"none\" stroke=\"black\" d=\"M7050.97,-222.91C7044.21,-213.92 7036.98,-204.32 7030.02,-195.05\"/>\n<polygon fill=\"black\" stroke=\"black\" points=\"7032.79,-192.91 7023.98,-187.02 7027.19,-197.12 7032.79,-192.91\"/>\n</g>\n<!-- 189 -->\n<g id=\"node190\" class=\"node\">\n<title>189</title>\n<path fill=\"#e99457\" stroke=\"black\" d=\"M7227.5,-187C7227.5,-187 7113.5,-187 7113.5,-187 7107.5,-187 7101.5,-181 7101.5,-175 7101.5,-175 7101.5,-116 7101.5,-116 7101.5,-110 7107.5,-104 7113.5,-104 7113.5,-104 7227.5,-104 7227.5,-104 7233.5,-104 7239.5,-110 7239.5,-116 7239.5,-116 7239.5,-175 7239.5,-175 7239.5,-181 7233.5,-187 7227.5,-187\"/>\n<text text-anchor=\"middle\" x=\"7170.5\" y=\"-171.8\" font-family=\"Helvetica,sans-Serif\" font-size=\"14.00\">preco &lt;= 91758.566</text>\n<text text-anchor=\"middle\" x=\"7170.5\" y=\"-156.8\" font-family=\"Helvetica,sans-Serif\" font-size=\"14.00\">gini = 0.231</text>\n<text text-anchor=\"middle\" x=\"7170.5\" y=\"-141.8\" font-family=\"Helvetica,sans-Serif\" font-size=\"14.00\">samples = 45</text>\n<text text-anchor=\"middle\" x=\"7170.5\" y=\"-126.8\" font-family=\"Helvetica,sans-Serif\" font-size=\"14.00\">value = [39, 6]</text>\n<text text-anchor=\"middle\" x=\"7170.5\" y=\"-111.8\" font-family=\"Helvetica,sans-Serif\" font-size=\"14.00\">class = nao</text>\n</g>\n<!-- 185&#45;&gt;189 -->\n<g id=\"edge189\" class=\"edge\">\n<title>185&#45;&gt;189</title>\n<path fill=\"none\" stroke=\"black\" d=\"M7112.38,-222.91C7119.21,-213.92 7126.52,-204.32 7133.57,-195.05\"/>\n<polygon fill=\"black\" stroke=\"black\" points=\"7136.41,-197.1 7139.68,-187.02 7130.84,-192.86 7136.41,-197.1\"/>\n</g>\n<!-- 187 -->\n<g id=\"node188\" class=\"node\">\n<title>187</title>\n<path fill=\"#e9965a\" stroke=\"black\" d=\"M6947.5,-68C6947.5,-68 6869.5,-68 6869.5,-68 6863.5,-68 6857.5,-62 6857.5,-56 6857.5,-56 6857.5,-12 6857.5,-12 6857.5,-6 6863.5,0 6869.5,0 6869.5,0 6947.5,0 6947.5,0 6953.5,0 6959.5,-6 6959.5,-12 6959.5,-12 6959.5,-56 6959.5,-56 6959.5,-62 6953.5,-68 6947.5,-68\"/>\n<text text-anchor=\"middle\" x=\"6908.5\" y=\"-52.8\" font-family=\"Helvetica,sans-Serif\" font-size=\"14.00\">gini = 0.245</text>\n<text text-anchor=\"middle\" x=\"6908.5\" y=\"-37.8\" font-family=\"Helvetica,sans-Serif\" font-size=\"14.00\">samples = 14</text>\n<text text-anchor=\"middle\" x=\"6908.5\" y=\"-22.8\" font-family=\"Helvetica,sans-Serif\" font-size=\"14.00\">value = [12, 2]</text>\n<text text-anchor=\"middle\" x=\"6908.5\" y=\"-7.8\" font-family=\"Helvetica,sans-Serif\" font-size=\"14.00\">class = nao</text>\n</g>\n<!-- 186&#45;&gt;187 -->\n<g id=\"edge187\" class=\"edge\">\n<title>186&#45;&gt;187</title>\n<path fill=\"none\" stroke=\"black\" d=\"M6961.85,-103.73C6954.91,-94.79 6947.56,-85.32 6940.6,-76.36\"/>\n<polygon fill=\"black\" stroke=\"black\" points=\"6943.25,-74.05 6934.35,-68.3 6937.72,-78.35 6943.25,-74.05\"/>\n</g>\n<!-- 188 -->\n<g id=\"node189\" class=\"node\">\n<title>188</title>\n<path fill=\"#399de5\" stroke=\"black\" d=\"M7061,-68C7061,-68 6990,-68 6990,-68 6984,-68 6978,-62 6978,-56 6978,-56 6978,-12 6978,-12 6978,-6 6984,0 6990,0 6990,0 7061,0 7061,0 7067,0 7073,-6 7073,-12 7073,-12 7073,-56 7073,-56 7073,-62 7067,-68 7061,-68\"/>\n<text text-anchor=\"middle\" x=\"7025.5\" y=\"-52.8\" font-family=\"Helvetica,sans-Serif\" font-size=\"14.00\">gini = 0.0</text>\n<text text-anchor=\"middle\" x=\"7025.5\" y=\"-37.8\" font-family=\"Helvetica,sans-Serif\" font-size=\"14.00\">samples = 6</text>\n<text text-anchor=\"middle\" x=\"7025.5\" y=\"-22.8\" font-family=\"Helvetica,sans-Serif\" font-size=\"14.00\">value = [0, 6]</text>\n<text text-anchor=\"middle\" x=\"7025.5\" y=\"-7.8\" font-family=\"Helvetica,sans-Serif\" font-size=\"14.00\">class = sim</text>\n</g>\n<!-- 186&#45;&gt;188 -->\n<g id=\"edge188\" class=\"edge\">\n<title>186&#45;&gt;188</title>\n<path fill=\"none\" stroke=\"black\" d=\"M7005.42,-103.73C7007.87,-95.34 7010.46,-86.47 7012.93,-78.01\"/>\n<polygon fill=\"black\" stroke=\"black\" points=\"7016.32,-78.88 7015.77,-68.3 7009.6,-76.92 7016.32,-78.88\"/>\n</g>\n<!-- 190 -->\n<g id=\"node191\" class=\"node\">\n<title>190</title>\n<path fill=\"#bddef6\" stroke=\"black\" d=\"M7174,-68C7174,-68 7103,-68 7103,-68 7097,-68 7091,-62 7091,-56 7091,-56 7091,-12 7091,-12 7091,-6 7097,0 7103,0 7103,0 7174,0 7174,0 7180,0 7186,-6 7186,-12 7186,-12 7186,-56 7186,-56 7186,-62 7180,-68 7174,-68\"/>\n<text text-anchor=\"middle\" x=\"7138.5\" y=\"-52.8\" font-family=\"Helvetica,sans-Serif\" font-size=\"14.00\">gini = 0.48</text>\n<text text-anchor=\"middle\" x=\"7138.5\" y=\"-37.8\" font-family=\"Helvetica,sans-Serif\" font-size=\"14.00\">samples = 5</text>\n<text text-anchor=\"middle\" x=\"7138.5\" y=\"-22.8\" font-family=\"Helvetica,sans-Serif\" font-size=\"14.00\">value = [2, 3]</text>\n<text text-anchor=\"middle\" x=\"7138.5\" y=\"-7.8\" font-family=\"Helvetica,sans-Serif\" font-size=\"14.00\">class = sim</text>\n</g>\n<!-- 189&#45;&gt;190 -->\n<g id=\"edge190\" class=\"edge\">\n<title>189&#45;&gt;190</title>\n<path fill=\"none\" stroke=\"black\" d=\"M7158.58,-103.73C7156.13,-95.34 7153.54,-86.47 7151.07,-78.01\"/>\n<polygon fill=\"black\" stroke=\"black\" points=\"7154.4,-76.92 7148.23,-68.3 7147.68,-78.88 7154.4,-76.92\"/>\n</g>\n<!-- 191 -->\n<g id=\"node192\" class=\"node\">\n<title>191</title>\n<path fill=\"#e78b49\" stroke=\"black\" d=\"M7294.5,-68C7294.5,-68 7216.5,-68 7216.5,-68 7210.5,-68 7204.5,-62 7204.5,-56 7204.5,-56 7204.5,-12 7204.5,-12 7204.5,-6 7210.5,0 7216.5,0 7216.5,0 7294.5,0 7294.5,0 7300.5,0 7306.5,-6 7306.5,-12 7306.5,-12 7306.5,-56 7306.5,-56 7306.5,-62 7300.5,-68 7294.5,-68\"/>\n<text text-anchor=\"middle\" x=\"7255.5\" y=\"-52.8\" font-family=\"Helvetica,sans-Serif\" font-size=\"14.00\">gini = 0.139</text>\n<text text-anchor=\"middle\" x=\"7255.5\" y=\"-37.8\" font-family=\"Helvetica,sans-Serif\" font-size=\"14.00\">samples = 40</text>\n<text text-anchor=\"middle\" x=\"7255.5\" y=\"-22.8\" font-family=\"Helvetica,sans-Serif\" font-size=\"14.00\">value = [37, 3]</text>\n<text text-anchor=\"middle\" x=\"7255.5\" y=\"-7.8\" font-family=\"Helvetica,sans-Serif\" font-size=\"14.00\">class = nao</text>\n</g>\n<!-- 189&#45;&gt;191 -->\n<g id=\"edge191\" class=\"edge\">\n<title>189&#45;&gt;191</title>\n<path fill=\"none\" stroke=\"black\" d=\"M7202.15,-103.73C7209.09,-94.79 7216.44,-85.32 7223.4,-76.36\"/>\n<polygon fill=\"black\" stroke=\"black\" points=\"7226.28,-78.35 7229.65,-68.3 7220.75,-74.05 7226.28,-78.35\"/>\n</g>\n<!-- 193 -->\n<g id=\"node194\" class=\"node\">\n<title>193</title>\n<path fill=\"#fbece0\" stroke=\"black\" d=\"M7473.5,-187C7473.5,-187 7359.5,-187 7359.5,-187 7353.5,-187 7347.5,-181 7347.5,-175 7347.5,-175 7347.5,-116 7347.5,-116 7347.5,-110 7353.5,-104 7359.5,-104 7359.5,-104 7473.5,-104 7473.5,-104 7479.5,-104 7485.5,-110 7485.5,-116 7485.5,-116 7485.5,-175 7485.5,-175 7485.5,-181 7479.5,-187 7473.5,-187\"/>\n<text text-anchor=\"middle\" x=\"7416.5\" y=\"-171.8\" font-family=\"Helvetica,sans-Serif\" font-size=\"14.00\">preco &lt;= 93230.973</text>\n<text text-anchor=\"middle\" x=\"7416.5\" y=\"-156.8\" font-family=\"Helvetica,sans-Serif\" font-size=\"14.00\">gini = 0.496</text>\n<text text-anchor=\"middle\" x=\"7416.5\" y=\"-141.8\" font-family=\"Helvetica,sans-Serif\" font-size=\"14.00\">samples = 227</text>\n<text text-anchor=\"middle\" x=\"7416.5\" y=\"-126.8\" font-family=\"Helvetica,sans-Serif\" font-size=\"14.00\">value = [123, 104]</text>\n<text text-anchor=\"middle\" x=\"7416.5\" y=\"-111.8\" font-family=\"Helvetica,sans-Serif\" font-size=\"14.00\">class = nao</text>\n</g>\n<!-- 192&#45;&gt;193 -->\n<g id=\"edge193\" class=\"edge\">\n<title>192&#45;&gt;193</title>\n<path fill=\"none\" stroke=\"black\" d=\"M7416.5,-222.91C7416.5,-214.65 7416.5,-205.86 7416.5,-197.3\"/>\n<polygon fill=\"black\" stroke=\"black\" points=\"7420,-197.02 7416.5,-187.02 7413,-197.02 7420,-197.02\"/>\n</g>\n<!-- 196 -->\n<g id=\"node197\" class=\"node\">\n<title>196</title>\n<path fill=\"#f3c4a2\" stroke=\"black\" d=\"M7713.5,-187C7713.5,-187 7557.5,-187 7557.5,-187 7551.5,-187 7545.5,-181 7545.5,-175 7545.5,-175 7545.5,-116 7545.5,-116 7545.5,-110 7551.5,-104 7557.5,-104 7557.5,-104 7713.5,-104 7713.5,-104 7719.5,-104 7725.5,-110 7725.5,-116 7725.5,-116 7725.5,-175 7725.5,-175 7725.5,-181 7719.5,-187 7713.5,-187\"/>\n<text text-anchor=\"middle\" x=\"7635.5\" y=\"-171.8\" font-family=\"Helvetica,sans-Serif\" font-size=\"14.00\">km_por_ano &lt;= 21228.805</text>\n<text text-anchor=\"middle\" x=\"7635.5\" y=\"-156.8\" font-family=\"Helvetica,sans-Serif\" font-size=\"14.00\">gini = 0.453</text>\n<text text-anchor=\"middle\" x=\"7635.5\" y=\"-141.8\" font-family=\"Helvetica,sans-Serif\" font-size=\"14.00\">samples = 211</text>\n<text text-anchor=\"middle\" x=\"7635.5\" y=\"-126.8\" font-family=\"Helvetica,sans-Serif\" font-size=\"14.00\">value = [138, 73]</text>\n<text text-anchor=\"middle\" x=\"7635.5\" y=\"-111.8\" font-family=\"Helvetica,sans-Serif\" font-size=\"14.00\">class = nao</text>\n</g>\n<!-- 192&#45;&gt;196 -->\n<g id=\"edge196\" class=\"edge\">\n<title>192&#45;&gt;196</title>\n<path fill=\"none\" stroke=\"black\" d=\"M7492.48,-222.91C7511.25,-212.88 7531.48,-202.07 7550.64,-191.84\"/>\n<polygon fill=\"black\" stroke=\"black\" points=\"7552.48,-194.82 7559.65,-187.02 7549.18,-188.65 7552.48,-194.82\"/>\n</g>\n<!-- 194 -->\n<g id=\"node195\" class=\"node\">\n<title>194</title>\n<path fill=\"#8bc5f0\" stroke=\"black\" d=\"M7414.5,-68C7414.5,-68 7336.5,-68 7336.5,-68 7330.5,-68 7324.5,-62 7324.5,-56 7324.5,-56 7324.5,-12 7324.5,-12 7324.5,-6 7330.5,0 7336.5,0 7336.5,0 7414.5,0 7414.5,0 7420.5,0 7426.5,-6 7426.5,-12 7426.5,-12 7426.5,-56 7426.5,-56 7426.5,-62 7420.5,-68 7414.5,-68\"/>\n<text text-anchor=\"middle\" x=\"7375.5\" y=\"-52.8\" font-family=\"Helvetica,sans-Serif\" font-size=\"14.00\">gini = 0.413</text>\n<text text-anchor=\"middle\" x=\"7375.5\" y=\"-37.8\" font-family=\"Helvetica,sans-Serif\" font-size=\"14.00\">samples = 24</text>\n<text text-anchor=\"middle\" x=\"7375.5\" y=\"-22.8\" font-family=\"Helvetica,sans-Serif\" font-size=\"14.00\">value = [7, 17]</text>\n<text text-anchor=\"middle\" x=\"7375.5\" y=\"-7.8\" font-family=\"Helvetica,sans-Serif\" font-size=\"14.00\">class = sim</text>\n</g>\n<!-- 193&#45;&gt;194 -->\n<g id=\"edge194\" class=\"edge\">\n<title>193&#45;&gt;194</title>\n<path fill=\"none\" stroke=\"black\" d=\"M7401.23,-103.73C7398.06,-95.24 7394.7,-86.28 7391.5,-77.73\"/>\n<polygon fill=\"black\" stroke=\"black\" points=\"7394.75,-76.44 7387.97,-68.3 7388.2,-78.89 7394.75,-76.44\"/>\n</g>\n<!-- 195 -->\n<g id=\"node196\" class=\"node\">\n<title>195</title>\n<path fill=\"#f8e0ce\" stroke=\"black\" d=\"M7550,-68C7550,-68 7457,-68 7457,-68 7451,-68 7445,-62 7445,-56 7445,-56 7445,-12 7445,-12 7445,-6 7451,0 7457,0 7457,0 7550,0 7550,0 7556,0 7562,-6 7562,-12 7562,-12 7562,-56 7562,-56 7562,-62 7556,-68 7550,-68\"/>\n<text text-anchor=\"middle\" x=\"7503.5\" y=\"-52.8\" font-family=\"Helvetica,sans-Serif\" font-size=\"14.00\">gini = 0.49</text>\n<text text-anchor=\"middle\" x=\"7503.5\" y=\"-37.8\" font-family=\"Helvetica,sans-Serif\" font-size=\"14.00\">samples = 203</text>\n<text text-anchor=\"middle\" x=\"7503.5\" y=\"-22.8\" font-family=\"Helvetica,sans-Serif\" font-size=\"14.00\">value = [116, 87]</text>\n<text text-anchor=\"middle\" x=\"7503.5\" y=\"-7.8\" font-family=\"Helvetica,sans-Serif\" font-size=\"14.00\">class = nao</text>\n</g>\n<!-- 193&#45;&gt;195 -->\n<g id=\"edge195\" class=\"edge\">\n<title>193&#45;&gt;195</title>\n<path fill=\"none\" stroke=\"black\" d=\"M7448.9,-103.73C7456,-94.79 7463.52,-85.32 7470.64,-76.36\"/>\n<polygon fill=\"black\" stroke=\"black\" points=\"7473.56,-78.31 7477.04,-68.3 7468.08,-73.95 7473.56,-78.31\"/>\n</g>\n<!-- 197 -->\n<g id=\"node198\" class=\"node\">\n<title>197</title>\n<path fill=\"#efaf81\" stroke=\"black\" d=\"M7678.5,-68C7678.5,-68 7592.5,-68 7592.5,-68 7586.5,-68 7580.5,-62 7580.5,-56 7580.5,-56 7580.5,-12 7580.5,-12 7580.5,-6 7586.5,0 7592.5,0 7592.5,0 7678.5,0 7678.5,0 7684.5,0 7690.5,-6 7690.5,-12 7690.5,-12 7690.5,-56 7690.5,-56 7690.5,-62 7684.5,-68 7678.5,-68\"/>\n<text text-anchor=\"middle\" x=\"7635.5\" y=\"-52.8\" font-family=\"Helvetica,sans-Serif\" font-size=\"14.00\">gini = 0.392</text>\n<text text-anchor=\"middle\" x=\"7635.5\" y=\"-37.8\" font-family=\"Helvetica,sans-Serif\" font-size=\"14.00\">samples = 112</text>\n<text text-anchor=\"middle\" x=\"7635.5\" y=\"-22.8\" font-family=\"Helvetica,sans-Serif\" font-size=\"14.00\">value = [82, 30]</text>\n<text text-anchor=\"middle\" x=\"7635.5\" y=\"-7.8\" font-family=\"Helvetica,sans-Serif\" font-size=\"14.00\">class = nao</text>\n</g>\n<!-- 196&#45;&gt;197 -->\n<g id=\"edge197\" class=\"edge\">\n<title>196&#45;&gt;197</title>\n<path fill=\"none\" stroke=\"black\" d=\"M7635.5,-103.73C7635.5,-95.52 7635.5,-86.86 7635.5,-78.56\"/>\n<polygon fill=\"black\" stroke=\"black\" points=\"7639,-78.3 7635.5,-68.3 7632,-78.3 7639,-78.3\"/>\n</g>\n<!-- 198 -->\n<g id=\"node199\" class=\"node\">\n<title>198</title>\n<path fill=\"#f9e2d1\" stroke=\"black\" d=\"M7806.5,-68C7806.5,-68 7720.5,-68 7720.5,-68 7714.5,-68 7708.5,-62 7708.5,-56 7708.5,-56 7708.5,-12 7708.5,-12 7708.5,-6 7714.5,0 7720.5,0 7720.5,0 7806.5,0 7806.5,0 7812.5,0 7818.5,-6 7818.5,-12 7818.5,-12 7818.5,-56 7818.5,-56 7818.5,-62 7812.5,-68 7806.5,-68\"/>\n<text text-anchor=\"middle\" x=\"7763.5\" y=\"-52.8\" font-family=\"Helvetica,sans-Serif\" font-size=\"14.00\">gini = 0.491</text>\n<text text-anchor=\"middle\" x=\"7763.5\" y=\"-37.8\" font-family=\"Helvetica,sans-Serif\" font-size=\"14.00\">samples = 99</text>\n<text text-anchor=\"middle\" x=\"7763.5\" y=\"-22.8\" font-family=\"Helvetica,sans-Serif\" font-size=\"14.00\">value = [56, 43]</text>\n<text text-anchor=\"middle\" x=\"7763.5\" y=\"-7.8\" font-family=\"Helvetica,sans-Serif\" font-size=\"14.00\">class = nao</text>\n</g>\n<!-- 196&#45;&gt;198 -->\n<g id=\"edge198\" class=\"edge\">\n<title>196&#45;&gt;198</title>\n<path fill=\"none\" stroke=\"black\" d=\"M7683.16,-103.73C7694.14,-94.33 7705.81,-84.35 7716.76,-74.99\"/>\n<polygon fill=\"black\" stroke=\"black\" points=\"7719.25,-77.46 7724.57,-68.3 7714.7,-72.14 7719.25,-77.46\"/>\n</g>\n<!-- 200 -->\n<g id=\"node201\" class=\"node\">\n<title>200</title>\n<path fill=\"#50a9e8\" stroke=\"black\" d=\"M8007.5,-782C8007.5,-782 7851.5,-782 7851.5,-782 7845.5,-782 7839.5,-776 7839.5,-770 7839.5,-770 7839.5,-711 7839.5,-711 7839.5,-705 7845.5,-699 7851.5,-699 7851.5,-699 8007.5,-699 8007.5,-699 8013.5,-699 8019.5,-705 8019.5,-711 8019.5,-711 8019.5,-770 8019.5,-770 8019.5,-776 8013.5,-782 8007.5,-782\"/>\n<text text-anchor=\"middle\" x=\"7929.5\" y=\"-766.8\" font-family=\"Helvetica,sans-Serif\" font-size=\"14.00\">km_por_ano &lt;= 22918.611</text>\n<text text-anchor=\"middle\" x=\"7929.5\" y=\"-751.8\" font-family=\"Helvetica,sans-Serif\" font-size=\"14.00\">gini = 0.188</text>\n<text text-anchor=\"middle\" x=\"7929.5\" y=\"-736.8\" font-family=\"Helvetica,sans-Serif\" font-size=\"14.00\">samples = 19</text>\n<text text-anchor=\"middle\" x=\"7929.5\" y=\"-721.8\" font-family=\"Helvetica,sans-Serif\" font-size=\"14.00\">value = [2, 17]</text>\n<text text-anchor=\"middle\" x=\"7929.5\" y=\"-706.8\" font-family=\"Helvetica,sans-Serif\" font-size=\"14.00\">class = sim</text>\n</g>\n<!-- 199&#45;&gt;200 -->\n<g id=\"edge200\" class=\"edge\">\n<title>199&#45;&gt;200</title>\n<path fill=\"none\" stroke=\"black\" d=\"M7929.5,-817.91C7929.5,-809.65 7929.5,-800.86 7929.5,-792.3\"/>\n<polygon fill=\"black\" stroke=\"black\" points=\"7933,-792.02 7929.5,-782.02 7926,-792.02 7933,-792.02\"/>\n</g>\n<!-- 207 -->\n<g id=\"node208\" class=\"node\">\n<title>207</title>\n<path fill=\"#a6d3f3\" stroke=\"black\" d=\"M8795.5,-782C8795.5,-782 8673.5,-782 8673.5,-782 8667.5,-782 8661.5,-776 8661.5,-770 8661.5,-770 8661.5,-711 8661.5,-711 8661.5,-705 8667.5,-699 8673.5,-699 8673.5,-699 8795.5,-699 8795.5,-699 8801.5,-699 8807.5,-705 8807.5,-711 8807.5,-711 8807.5,-770 8807.5,-770 8807.5,-776 8801.5,-782 8795.5,-782\"/>\n<text text-anchor=\"middle\" x=\"8734.5\" y=\"-766.8\" font-family=\"Helvetica,sans-Serif\" font-size=\"14.00\">preco &lt;= 113349.773</text>\n<text text-anchor=\"middle\" x=\"8734.5\" y=\"-751.8\" font-family=\"Helvetica,sans-Serif\" font-size=\"14.00\">gini = 0.458</text>\n<text text-anchor=\"middle\" x=\"8734.5\" y=\"-736.8\" font-family=\"Helvetica,sans-Serif\" font-size=\"14.00\">samples = 550</text>\n<text text-anchor=\"middle\" x=\"8734.5\" y=\"-721.8\" font-family=\"Helvetica,sans-Serif\" font-size=\"14.00\">value = [195, 355]</text>\n<text text-anchor=\"middle\" x=\"8734.5\" y=\"-706.8\" font-family=\"Helvetica,sans-Serif\" font-size=\"14.00\">class = sim</text>\n</g>\n<!-- 199&#45;&gt;207 -->\n<g id=\"edge207\" class=\"edge\">\n<title>199&#45;&gt;207</title>\n<path fill=\"none\" stroke=\"black\" d=\"M8002.71,-847.86C8152.52,-826.09 8493.18,-776.57 8651.17,-753.61\"/>\n<polygon fill=\"black\" stroke=\"black\" points=\"8651.92,-757.04 8661.31,-752.14 8650.91,-750.11 8651.92,-757.04\"/>\n</g>\n<!-- 201 -->\n<g id=\"node202\" class=\"node\">\n<title>201</title>\n<path fill=\"#45a3e7\" stroke=\"black\" d=\"M7920.5,-663C7920.5,-663 7798.5,-663 7798.5,-663 7792.5,-663 7786.5,-657 7786.5,-651 7786.5,-651 7786.5,-592 7786.5,-592 7786.5,-586 7792.5,-580 7798.5,-580 7798.5,-580 7920.5,-580 7920.5,-580 7926.5,-580 7932.5,-586 7932.5,-592 7932.5,-592 7932.5,-651 7932.5,-651 7932.5,-657 7926.5,-663 7920.5,-663\"/>\n<text text-anchor=\"middle\" x=\"7859.5\" y=\"-647.8\" font-family=\"Helvetica,sans-Serif\" font-size=\"14.00\">preco &lt;= 100024.715</text>\n<text text-anchor=\"middle\" x=\"7859.5\" y=\"-632.8\" font-family=\"Helvetica,sans-Serif\" font-size=\"14.00\">gini = 0.105</text>\n<text text-anchor=\"middle\" x=\"7859.5\" y=\"-617.8\" font-family=\"Helvetica,sans-Serif\" font-size=\"14.00\">samples = 18</text>\n<text text-anchor=\"middle\" x=\"7859.5\" y=\"-602.8\" font-family=\"Helvetica,sans-Serif\" font-size=\"14.00\">value = [1, 17]</text>\n<text text-anchor=\"middle\" x=\"7859.5\" y=\"-587.8\" font-family=\"Helvetica,sans-Serif\" font-size=\"14.00\">class = sim</text>\n</g>\n<!-- 200&#45;&gt;201 -->\n<g id=\"edge201\" class=\"edge\">\n<title>200&#45;&gt;201</title>\n<path fill=\"none\" stroke=\"black\" d=\"M7905.21,-698.91C7899.95,-690.1 7894.32,-680.7 7888.88,-671.61\"/>\n<polygon fill=\"black\" stroke=\"black\" points=\"7891.88,-669.81 7883.74,-663.02 7885.87,-673.4 7891.88,-669.81\"/>\n</g>\n<!-- 206 -->\n<g id=\"node207\" class=\"node\">\n<title>206</title>\n<path fill=\"#e58139\" stroke=\"black\" d=\"M8034,-655.5C8034,-655.5 7963,-655.5 7963,-655.5 7957,-655.5 7951,-649.5 7951,-643.5 7951,-643.5 7951,-599.5 7951,-599.5 7951,-593.5 7957,-587.5 7963,-587.5 7963,-587.5 8034,-587.5 8034,-587.5 8040,-587.5 8046,-593.5 8046,-599.5 8046,-599.5 8046,-643.5 8046,-643.5 8046,-649.5 8040,-655.5 8034,-655.5\"/>\n<text text-anchor=\"middle\" x=\"7998.5\" y=\"-640.3\" font-family=\"Helvetica,sans-Serif\" font-size=\"14.00\">gini = 0.0</text>\n<text text-anchor=\"middle\" x=\"7998.5\" y=\"-625.3\" font-family=\"Helvetica,sans-Serif\" font-size=\"14.00\">samples = 1</text>\n<text text-anchor=\"middle\" x=\"7998.5\" y=\"-610.3\" font-family=\"Helvetica,sans-Serif\" font-size=\"14.00\">value = [1, 0]</text>\n<text text-anchor=\"middle\" x=\"7998.5\" y=\"-595.3\" font-family=\"Helvetica,sans-Serif\" font-size=\"14.00\">class = nao</text>\n</g>\n<!-- 200&#45;&gt;206 -->\n<g id=\"edge206\" class=\"edge\">\n<title>200&#45;&gt;206</title>\n<path fill=\"none\" stroke=\"black\" d=\"M7953.44,-698.91C7960.01,-687.76 7967.15,-675.66 7973.77,-664.44\"/>\n<polygon fill=\"black\" stroke=\"black\" points=\"7976.87,-666.06 7978.94,-655.67 7970.85,-662.5 7976.87,-666.06\"/>\n</g>\n<!-- 202 -->\n<g id=\"node203\" class=\"node\">\n<title>202</title>\n<path fill=\"#9ccef2\" stroke=\"black\" d=\"M7849.5,-544C7849.5,-544 7727.5,-544 7727.5,-544 7721.5,-544 7715.5,-538 7715.5,-532 7715.5,-532 7715.5,-473 7715.5,-473 7715.5,-467 7721.5,-461 7727.5,-461 7727.5,-461 7849.5,-461 7849.5,-461 7855.5,-461 7861.5,-467 7861.5,-473 7861.5,-473 7861.5,-532 7861.5,-532 7861.5,-538 7855.5,-544 7849.5,-544\"/>\n<text text-anchor=\"middle\" x=\"7788.5\" y=\"-528.8\" font-family=\"Helvetica,sans-Serif\" font-size=\"14.00\">preco &lt;= 100012.352</text>\n<text text-anchor=\"middle\" x=\"7788.5\" y=\"-513.8\" font-family=\"Helvetica,sans-Serif\" font-size=\"14.00\">gini = 0.444</text>\n<text text-anchor=\"middle\" x=\"7788.5\" y=\"-498.8\" font-family=\"Helvetica,sans-Serif\" font-size=\"14.00\">samples = 3</text>\n<text text-anchor=\"middle\" x=\"7788.5\" y=\"-483.8\" font-family=\"Helvetica,sans-Serif\" font-size=\"14.00\">value = [1, 2]</text>\n<text text-anchor=\"middle\" x=\"7788.5\" y=\"-468.8\" font-family=\"Helvetica,sans-Serif\" font-size=\"14.00\">class = sim</text>\n</g>\n<!-- 201&#45;&gt;202 -->\n<g id=\"edge202\" class=\"edge\">\n<title>201&#45;&gt;202</title>\n<path fill=\"none\" stroke=\"black\" d=\"M7834.87,-579.91C7829.53,-571.1 7823.82,-561.7 7818.3,-552.61\"/>\n<polygon fill=\"black\" stroke=\"black\" points=\"7821.27,-550.75 7813.09,-544.02 7815.29,-554.39 7821.27,-550.75\"/>\n</g>\n<!-- 205 -->\n<g id=\"node206\" class=\"node\">\n<title>205</title>\n<path fill=\"#399de5\" stroke=\"black\" d=\"M7969.5,-536.5C7969.5,-536.5 7891.5,-536.5 7891.5,-536.5 7885.5,-536.5 7879.5,-530.5 7879.5,-524.5 7879.5,-524.5 7879.5,-480.5 7879.5,-480.5 7879.5,-474.5 7885.5,-468.5 7891.5,-468.5 7891.5,-468.5 7969.5,-468.5 7969.5,-468.5 7975.5,-468.5 7981.5,-474.5 7981.5,-480.5 7981.5,-480.5 7981.5,-524.5 7981.5,-524.5 7981.5,-530.5 7975.5,-536.5 7969.5,-536.5\"/>\n<text text-anchor=\"middle\" x=\"7930.5\" y=\"-521.3\" font-family=\"Helvetica,sans-Serif\" font-size=\"14.00\">gini = 0.0</text>\n<text text-anchor=\"middle\" x=\"7930.5\" y=\"-506.3\" font-family=\"Helvetica,sans-Serif\" font-size=\"14.00\">samples = 15</text>\n<text text-anchor=\"middle\" x=\"7930.5\" y=\"-491.3\" font-family=\"Helvetica,sans-Serif\" font-size=\"14.00\">value = [0, 15]</text>\n<text text-anchor=\"middle\" x=\"7930.5\" y=\"-476.3\" font-family=\"Helvetica,sans-Serif\" font-size=\"14.00\">class = sim</text>\n</g>\n<!-- 201&#45;&gt;205 -->\n<g id=\"edge205\" class=\"edge\">\n<title>201&#45;&gt;205</title>\n<path fill=\"none\" stroke=\"black\" d=\"M7884.13,-579.91C7890.9,-568.76 7898.24,-556.66 7905.05,-545.44\"/>\n<polygon fill=\"black\" stroke=\"black\" points=\"7908.18,-547.03 7910.37,-536.67 7902.19,-543.4 7908.18,-547.03\"/>\n</g>\n<!-- 203 -->\n<g id=\"node204\" class=\"node\">\n<title>203</title>\n<path fill=\"#399de5\" stroke=\"black\" d=\"M7767,-417.5C7767,-417.5 7696,-417.5 7696,-417.5 7690,-417.5 7684,-411.5 7684,-405.5 7684,-405.5 7684,-361.5 7684,-361.5 7684,-355.5 7690,-349.5 7696,-349.5 7696,-349.5 7767,-349.5 7767,-349.5 7773,-349.5 7779,-355.5 7779,-361.5 7779,-361.5 7779,-405.5 7779,-405.5 7779,-411.5 7773,-417.5 7767,-417.5\"/>\n<text text-anchor=\"middle\" x=\"7731.5\" y=\"-402.3\" font-family=\"Helvetica,sans-Serif\" font-size=\"14.00\">gini = 0.0</text>\n<text text-anchor=\"middle\" x=\"7731.5\" y=\"-387.3\" font-family=\"Helvetica,sans-Serif\" font-size=\"14.00\">samples = 2</text>\n<text text-anchor=\"middle\" x=\"7731.5\" y=\"-372.3\" font-family=\"Helvetica,sans-Serif\" font-size=\"14.00\">value = [0, 2]</text>\n<text text-anchor=\"middle\" x=\"7731.5\" y=\"-357.3\" font-family=\"Helvetica,sans-Serif\" font-size=\"14.00\">class = sim</text>\n</g>\n<!-- 202&#45;&gt;203 -->\n<g id=\"edge203\" class=\"edge\">\n<title>202&#45;&gt;203</title>\n<path fill=\"none\" stroke=\"black\" d=\"M7768.72,-460.91C7763.35,-449.87 7757.51,-437.9 7752.09,-426.77\"/>\n<polygon fill=\"black\" stroke=\"black\" points=\"7755.18,-425.12 7747.66,-417.67 7748.89,-428.19 7755.18,-425.12\"/>\n</g>\n<!-- 204 -->\n<g id=\"node205\" class=\"node\">\n<title>204</title>\n<path fill=\"#e58139\" stroke=\"black\" d=\"M7880,-417.5C7880,-417.5 7809,-417.5 7809,-417.5 7803,-417.5 7797,-411.5 7797,-405.5 7797,-405.5 7797,-361.5 7797,-361.5 7797,-355.5 7803,-349.5 7809,-349.5 7809,-349.5 7880,-349.5 7880,-349.5 7886,-349.5 7892,-355.5 7892,-361.5 7892,-361.5 7892,-405.5 7892,-405.5 7892,-411.5 7886,-417.5 7880,-417.5\"/>\n<text text-anchor=\"middle\" x=\"7844.5\" y=\"-402.3\" font-family=\"Helvetica,sans-Serif\" font-size=\"14.00\">gini = 0.0</text>\n<text text-anchor=\"middle\" x=\"7844.5\" y=\"-387.3\" font-family=\"Helvetica,sans-Serif\" font-size=\"14.00\">samples = 1</text>\n<text text-anchor=\"middle\" x=\"7844.5\" y=\"-372.3\" font-family=\"Helvetica,sans-Serif\" font-size=\"14.00\">value = [1, 0]</text>\n<text text-anchor=\"middle\" x=\"7844.5\" y=\"-357.3\" font-family=\"Helvetica,sans-Serif\" font-size=\"14.00\">class = nao</text>\n</g>\n<!-- 202&#45;&gt;204 -->\n<g id=\"edge204\" class=\"edge\">\n<title>202&#45;&gt;204</title>\n<path fill=\"none\" stroke=\"black\" d=\"M7807.93,-460.91C7813.21,-449.87 7818.94,-437.9 7824.27,-426.77\"/>\n<polygon fill=\"black\" stroke=\"black\" points=\"7827.46,-428.2 7828.63,-417.67 7821.15,-425.18 7827.46,-428.2\"/>\n</g>\n<!-- 208 -->\n<g id=\"node209\" class=\"node\">\n<title>208</title>\n<path fill=\"#add6f4\" stroke=\"black\" d=\"M8795.5,-663C8795.5,-663 8673.5,-663 8673.5,-663 8667.5,-663 8661.5,-657 8661.5,-651 8661.5,-651 8661.5,-592 8661.5,-592 8661.5,-586 8667.5,-580 8673.5,-580 8673.5,-580 8795.5,-580 8795.5,-580 8801.5,-580 8807.5,-586 8807.5,-592 8807.5,-592 8807.5,-651 8807.5,-651 8807.5,-657 8801.5,-663 8795.5,-663\"/>\n<text text-anchor=\"middle\" x=\"8734.5\" y=\"-647.8\" font-family=\"Helvetica,sans-Serif\" font-size=\"14.00\">preco &lt;= 113081.289</text>\n<text text-anchor=\"middle\" x=\"8734.5\" y=\"-632.8\" font-family=\"Helvetica,sans-Serif\" font-size=\"14.00\">gini = 0.465</text>\n<text text-anchor=\"middle\" x=\"8734.5\" y=\"-617.8\" font-family=\"Helvetica,sans-Serif\" font-size=\"14.00\">samples = 502</text>\n<text text-anchor=\"middle\" x=\"8734.5\" y=\"-602.8\" font-family=\"Helvetica,sans-Serif\" font-size=\"14.00\">value = [185, 317]</text>\n<text text-anchor=\"middle\" x=\"8734.5\" y=\"-587.8\" font-family=\"Helvetica,sans-Serif\" font-size=\"14.00\">class = sim</text>\n</g>\n<!-- 207&#45;&gt;208 -->\n<g id=\"edge208\" class=\"edge\">\n<title>207&#45;&gt;208</title>\n<path fill=\"none\" stroke=\"black\" d=\"M8734.5,-698.91C8734.5,-690.65 8734.5,-681.86 8734.5,-673.3\"/>\n<polygon fill=\"black\" stroke=\"black\" points=\"8738,-673.02 8734.5,-663.02 8731,-673.02 8738,-673.02\"/>\n</g>\n<!-- 239 -->\n<g id=\"node240\" class=\"node\">\n<title>239</title>\n<path fill=\"#6db7ec\" stroke=\"black\" d=\"M9619.5,-663C9619.5,-663 9497.5,-663 9497.5,-663 9491.5,-663 9485.5,-657 9485.5,-651 9485.5,-651 9485.5,-592 9485.5,-592 9485.5,-586 9491.5,-580 9497.5,-580 9497.5,-580 9619.5,-580 9619.5,-580 9625.5,-580 9631.5,-586 9631.5,-592 9631.5,-592 9631.5,-651 9631.5,-651 9631.5,-657 9625.5,-663 9619.5,-663\"/>\n<text text-anchor=\"middle\" x=\"9558.5\" y=\"-647.8\" font-family=\"Helvetica,sans-Serif\" font-size=\"14.00\">preco &lt;= 118454.723</text>\n<text text-anchor=\"middle\" x=\"9558.5\" y=\"-632.8\" font-family=\"Helvetica,sans-Serif\" font-size=\"14.00\">gini = 0.33</text>\n<text text-anchor=\"middle\" x=\"9558.5\" y=\"-617.8\" font-family=\"Helvetica,sans-Serif\" font-size=\"14.00\">samples = 48</text>\n<text text-anchor=\"middle\" x=\"9558.5\" y=\"-602.8\" font-family=\"Helvetica,sans-Serif\" font-size=\"14.00\">value = [10, 38]</text>\n<text text-anchor=\"middle\" x=\"9558.5\" y=\"-587.8\" font-family=\"Helvetica,sans-Serif\" font-size=\"14.00\">class = sim</text>\n</g>\n<!-- 207&#45;&gt;239 -->\n<g id=\"edge239\" class=\"edge\">\n<title>207&#45;&gt;239</title>\n<path fill=\"none\" stroke=\"black\" d=\"M8807.62,-729.12C8960.54,-707.4 9313.27,-657.32 9474.88,-634.37\"/>\n<polygon fill=\"black\" stroke=\"black\" points=\"9475.84,-637.77 9485.24,-632.9 9474.85,-630.84 9475.84,-637.77\"/>\n</g>\n<!-- 209 -->\n<g id=\"node210\" class=\"node\">\n<title>209</title>\n<path fill=\"#abd5f4\" stroke=\"black\" d=\"M8733,-544C8733,-544 8582,-544 8582,-544 8576,-544 8570,-538 8570,-532 8570,-532 8570,-473 8570,-473 8570,-467 8576,-461 8582,-461 8582,-461 8733,-461 8733,-461 8739,-461 8745,-467 8745,-473 8745,-473 8745,-532 8745,-532 8745,-538 8739,-544 8733,-544\"/>\n<text text-anchor=\"middle\" x=\"8657.5\" y=\"-528.8\" font-family=\"Helvetica,sans-Serif\" font-size=\"14.00\">idade_do_modelo &lt;= 11.5</text>\n<text text-anchor=\"middle\" x=\"8657.5\" y=\"-513.8\" font-family=\"Helvetica,sans-Serif\" font-size=\"14.00\">gini = 0.463</text>\n<text text-anchor=\"middle\" x=\"8657.5\" y=\"-498.8\" font-family=\"Helvetica,sans-Serif\" font-size=\"14.00\">samples = 499</text>\n<text text-anchor=\"middle\" x=\"8657.5\" y=\"-483.8\" font-family=\"Helvetica,sans-Serif\" font-size=\"14.00\">value = [182, 317]</text>\n<text text-anchor=\"middle\" x=\"8657.5\" y=\"-468.8\" font-family=\"Helvetica,sans-Serif\" font-size=\"14.00\">class = sim</text>\n</g>\n<!-- 208&#45;&gt;209 -->\n<g id=\"edge209\" class=\"edge\">\n<title>208&#45;&gt;209</title>\n<path fill=\"none\" stroke=\"black\" d=\"M8707.79,-579.91C8701.99,-571.1 8695.8,-561.7 8689.82,-552.61\"/>\n<polygon fill=\"black\" stroke=\"black\" points=\"8692.59,-550.45 8684.17,-544.02 8686.74,-554.3 8692.59,-550.45\"/>\n</g>\n<!-- 238 -->\n<g id=\"node239\" class=\"node\">\n<title>238</title>\n<path fill=\"#e58139\" stroke=\"black\" d=\"M8846,-536.5C8846,-536.5 8775,-536.5 8775,-536.5 8769,-536.5 8763,-530.5 8763,-524.5 8763,-524.5 8763,-480.5 8763,-480.5 8763,-474.5 8769,-468.5 8775,-468.5 8775,-468.5 8846,-468.5 8846,-468.5 8852,-468.5 8858,-474.5 8858,-480.5 8858,-480.5 8858,-524.5 8858,-524.5 8858,-530.5 8852,-536.5 8846,-536.5\"/>\n<text text-anchor=\"middle\" x=\"8810.5\" y=\"-521.3\" font-family=\"Helvetica,sans-Serif\" font-size=\"14.00\">gini = 0.0</text>\n<text text-anchor=\"middle\" x=\"8810.5\" y=\"-506.3\" font-family=\"Helvetica,sans-Serif\" font-size=\"14.00\">samples = 3</text>\n<text text-anchor=\"middle\" x=\"8810.5\" y=\"-491.3\" font-family=\"Helvetica,sans-Serif\" font-size=\"14.00\">value = [3, 0]</text>\n<text text-anchor=\"middle\" x=\"8810.5\" y=\"-476.3\" font-family=\"Helvetica,sans-Serif\" font-size=\"14.00\">class = nao</text>\n</g>\n<!-- 208&#45;&gt;238 -->\n<g id=\"edge238\" class=\"edge\">\n<title>208&#45;&gt;238</title>\n<path fill=\"none\" stroke=\"black\" d=\"M8760.87,-579.91C8768.18,-568.65 8776.13,-556.42 8783.47,-545.11\"/>\n<polygon fill=\"black\" stroke=\"black\" points=\"8786.44,-546.96 8788.96,-536.67 8780.57,-543.15 8786.44,-546.96\"/>\n</g>\n<!-- 210 -->\n<g id=\"node211\" class=\"node\">\n<title>210</title>\n<path fill=\"#c4e2f7\" stroke=\"black\" d=\"M8390.5,-425C8390.5,-425 8268.5,-425 8268.5,-425 8262.5,-425 8256.5,-419 8256.5,-413 8256.5,-413 8256.5,-354 8256.5,-354 8256.5,-348 8262.5,-342 8268.5,-342 8268.5,-342 8390.5,-342 8390.5,-342 8396.5,-342 8402.5,-348 8402.5,-354 8402.5,-354 8402.5,-413 8402.5,-413 8402.5,-419 8396.5,-425 8390.5,-425\"/>\n<text text-anchor=\"middle\" x=\"8329.5\" y=\"-409.8\" font-family=\"Helvetica,sans-Serif\" font-size=\"14.00\">preco &lt;= 101092.164</text>\n<text text-anchor=\"middle\" x=\"8329.5\" y=\"-394.8\" font-family=\"Helvetica,sans-Serif\" font-size=\"14.00\">gini = 0.484</text>\n<text text-anchor=\"middle\" x=\"8329.5\" y=\"-379.8\" font-family=\"Helvetica,sans-Serif\" font-size=\"14.00\">samples = 238</text>\n<text text-anchor=\"middle\" x=\"8329.5\" y=\"-364.8\" font-family=\"Helvetica,sans-Serif\" font-size=\"14.00\">value = [98, 140]</text>\n<text text-anchor=\"middle\" x=\"8329.5\" y=\"-349.8\" font-family=\"Helvetica,sans-Serif\" font-size=\"14.00\">class = sim</text>\n</g>\n<!-- 209&#45;&gt;210 -->\n<g id=\"edge210\" class=\"edge\">\n<title>209&#45;&gt;210</title>\n<path fill=\"none\" stroke=\"black\" d=\"M8569.6,-470.15C8520.68,-452.7 8460.15,-431.1 8412.1,-413.96\"/>\n<polygon fill=\"black\" stroke=\"black\" points=\"8413.26,-410.66 8402.67,-410.6 8410.91,-417.26 8413.26,-410.66\"/>\n</g>\n<!-- 223 -->\n<g id=\"node224\" class=\"node\">\n<title>223</title>\n<path fill=\"#97ccf1\" stroke=\"black\" d=\"M8847.5,-425C8847.5,-425 8725.5,-425 8725.5,-425 8719.5,-425 8713.5,-419 8713.5,-413 8713.5,-413 8713.5,-354 8713.5,-354 8713.5,-348 8719.5,-342 8725.5,-342 8725.5,-342 8847.5,-342 8847.5,-342 8853.5,-342 8859.5,-348 8859.5,-354 8859.5,-354 8859.5,-413 8859.5,-413 8859.5,-419 8853.5,-425 8847.5,-425\"/>\n<text text-anchor=\"middle\" x=\"8786.5\" y=\"-409.8\" font-family=\"Helvetica,sans-Serif\" font-size=\"14.00\">preco &lt;= 104117.805</text>\n<text text-anchor=\"middle\" x=\"8786.5\" y=\"-394.8\" font-family=\"Helvetica,sans-Serif\" font-size=\"14.00\">gini = 0.437</text>\n<text text-anchor=\"middle\" x=\"8786.5\" y=\"-379.8\" font-family=\"Helvetica,sans-Serif\" font-size=\"14.00\">samples = 261</text>\n<text text-anchor=\"middle\" x=\"8786.5\" y=\"-364.8\" font-family=\"Helvetica,sans-Serif\" font-size=\"14.00\">value = [84, 177]</text>\n<text text-anchor=\"middle\" x=\"8786.5\" y=\"-349.8\" font-family=\"Helvetica,sans-Serif\" font-size=\"14.00\">class = sim</text>\n</g>\n<!-- 209&#45;&gt;223 -->\n<g id=\"edge223\" class=\"edge\">\n<title>209&#45;&gt;223</title>\n<path fill=\"none\" stroke=\"black\" d=\"M8702.26,-460.91C8712.56,-451.56 8723.61,-441.54 8734.21,-431.93\"/>\n<polygon fill=\"black\" stroke=\"black\" points=\"8736.77,-434.33 8741.82,-425.02 8732.06,-429.15 8736.77,-434.33\"/>\n</g>\n<!-- 211 -->\n<g id=\"node212\" class=\"node\">\n<title>211</title>\n<path fill=\"#eeab7b\" stroke=\"black\" d=\"M8136,-306C8136,-306 8029,-306 8029,-306 8023,-306 8017,-300 8017,-294 8017,-294 8017,-235 8017,-235 8017,-229 8023,-223 8029,-223 8029,-223 8136,-223 8136,-223 8142,-223 8148,-229 8148,-235 8148,-235 8148,-294 8148,-294 8148,-300 8142,-306 8136,-306\"/>\n<text text-anchor=\"middle\" x=\"8082.5\" y=\"-290.8\" font-family=\"Helvetica,sans-Serif\" font-size=\"14.00\">preco &lt;= 100625.5</text>\n<text text-anchor=\"middle\" x=\"8082.5\" y=\"-275.8\" font-family=\"Helvetica,sans-Serif\" font-size=\"14.00\">gini = 0.375</text>\n<text text-anchor=\"middle\" x=\"8082.5\" y=\"-260.8\" font-family=\"Helvetica,sans-Serif\" font-size=\"14.00\">samples = 12</text>\n<text text-anchor=\"middle\" x=\"8082.5\" y=\"-245.8\" font-family=\"Helvetica,sans-Serif\" font-size=\"14.00\">value = [9, 3]</text>\n<text text-anchor=\"middle\" x=\"8082.5\" y=\"-230.8\" font-family=\"Helvetica,sans-Serif\" font-size=\"14.00\">class = nao</text>\n</g>\n<!-- 210&#45;&gt;211 -->\n<g id=\"edge211\" class=\"edge\">\n<title>210&#45;&gt;211</title>\n<path fill=\"none\" stroke=\"black\" d=\"M8256.39,-347.87C8225.19,-333.09 8188.81,-315.86 8157.41,-300.98\"/>\n<polygon fill=\"black\" stroke=\"black\" points=\"8158.8,-297.77 8148.27,-296.65 8155.81,-304.1 8158.8,-297.77\"/>\n</g>\n<!-- 216 -->\n<g id=\"node217\" class=\"node\">\n<title>216</title>\n<path fill=\"#baddf6\" stroke=\"black\" d=\"M8386.5,-306C8386.5,-306 8272.5,-306 8272.5,-306 8266.5,-306 8260.5,-300 8260.5,-294 8260.5,-294 8260.5,-235 8260.5,-235 8260.5,-229 8266.5,-223 8272.5,-223 8272.5,-223 8386.5,-223 8386.5,-223 8392.5,-223 8398.5,-229 8398.5,-235 8398.5,-235 8398.5,-294 8398.5,-294 8398.5,-300 8392.5,-306 8386.5,-306\"/>\n<text text-anchor=\"middle\" x=\"8329.5\" y=\"-290.8\" font-family=\"Helvetica,sans-Serif\" font-size=\"14.00\">preco &lt;= 104942.91</text>\n<text text-anchor=\"middle\" x=\"8329.5\" y=\"-275.8\" font-family=\"Helvetica,sans-Serif\" font-size=\"14.00\">gini = 0.477</text>\n<text text-anchor=\"middle\" x=\"8329.5\" y=\"-260.8\" font-family=\"Helvetica,sans-Serif\" font-size=\"14.00\">samples = 226</text>\n<text text-anchor=\"middle\" x=\"8329.5\" y=\"-245.8\" font-family=\"Helvetica,sans-Serif\" font-size=\"14.00\">value = [89, 137]</text>\n<text text-anchor=\"middle\" x=\"8329.5\" y=\"-230.8\" font-family=\"Helvetica,sans-Serif\" font-size=\"14.00\">class = sim</text>\n</g>\n<!-- 210&#45;&gt;216 -->\n<g id=\"edge216\" class=\"edge\">\n<title>210&#45;&gt;216</title>\n<path fill=\"none\" stroke=\"black\" d=\"M8329.5,-341.91C8329.5,-333.65 8329.5,-324.86 8329.5,-316.3\"/>\n<polygon fill=\"black\" stroke=\"black\" points=\"8333,-316.02 8329.5,-306.02 8326,-316.02 8333,-316.02\"/>\n</g>\n<!-- 212 -->\n<g id=\"node213\" class=\"node\">\n<title>212</title>\n<path fill=\"#ffffff\" stroke=\"black\" d=\"M8004.5,-187C8004.5,-187 7890.5,-187 7890.5,-187 7884.5,-187 7878.5,-181 7878.5,-175 7878.5,-175 7878.5,-116 7878.5,-116 7878.5,-110 7884.5,-104 7890.5,-104 7890.5,-104 8004.5,-104 8004.5,-104 8010.5,-104 8016.5,-110 8016.5,-116 8016.5,-116 8016.5,-175 8016.5,-175 8016.5,-181 8010.5,-187 8004.5,-187\"/>\n<text text-anchor=\"middle\" x=\"7947.5\" y=\"-171.8\" font-family=\"Helvetica,sans-Serif\" font-size=\"14.00\">preco &lt;= 100508.34</text>\n<text text-anchor=\"middle\" x=\"7947.5\" y=\"-156.8\" font-family=\"Helvetica,sans-Serif\" font-size=\"14.00\">gini = 0.5</text>\n<text text-anchor=\"middle\" x=\"7947.5\" y=\"-141.8\" font-family=\"Helvetica,sans-Serif\" font-size=\"14.00\">samples = 6</text>\n<text text-anchor=\"middle\" x=\"7947.5\" y=\"-126.8\" font-family=\"Helvetica,sans-Serif\" font-size=\"14.00\">value = [3, 3]</text>\n<text text-anchor=\"middle\" x=\"7947.5\" y=\"-111.8\" font-family=\"Helvetica,sans-Serif\" font-size=\"14.00\">class = nao</text>\n</g>\n<!-- 211&#45;&gt;212 -->\n<g id=\"edge212\" class=\"edge\">\n<title>211&#45;&gt;212</title>\n<path fill=\"none\" stroke=\"black\" d=\"M8035.66,-222.91C8024.77,-213.47 8013.09,-203.34 8001.9,-193.65\"/>\n<polygon fill=\"black\" stroke=\"black\" points=\"8004.1,-190.93 7994.25,-187.02 7999.52,-196.22 8004.1,-190.93\"/>\n</g>\n<!-- 215 -->\n<g id=\"node216\" class=\"node\">\n<title>215</title>\n<path fill=\"#e58139\" stroke=\"black\" d=\"M8118,-179.5C8118,-179.5 8047,-179.5 8047,-179.5 8041,-179.5 8035,-173.5 8035,-167.5 8035,-167.5 8035,-123.5 8035,-123.5 8035,-117.5 8041,-111.5 8047,-111.5 8047,-111.5 8118,-111.5 8118,-111.5 8124,-111.5 8130,-117.5 8130,-123.5 8130,-123.5 8130,-167.5 8130,-167.5 8130,-173.5 8124,-179.5 8118,-179.5\"/>\n<text text-anchor=\"middle\" x=\"8082.5\" y=\"-164.3\" font-family=\"Helvetica,sans-Serif\" font-size=\"14.00\">gini = 0.0</text>\n<text text-anchor=\"middle\" x=\"8082.5\" y=\"-149.3\" font-family=\"Helvetica,sans-Serif\" font-size=\"14.00\">samples = 6</text>\n<text text-anchor=\"middle\" x=\"8082.5\" y=\"-134.3\" font-family=\"Helvetica,sans-Serif\" font-size=\"14.00\">value = [6, 0]</text>\n<text text-anchor=\"middle\" x=\"8082.5\" y=\"-119.3\" font-family=\"Helvetica,sans-Serif\" font-size=\"14.00\">class = nao</text>\n</g>\n<!-- 211&#45;&gt;215 -->\n<g id=\"edge215\" class=\"edge\">\n<title>211&#45;&gt;215</title>\n<path fill=\"none\" stroke=\"black\" d=\"M8082.5,-222.91C8082.5,-212.2 8082.5,-200.62 8082.5,-189.78\"/>\n<polygon fill=\"black\" stroke=\"black\" points=\"8086,-189.67 8082.5,-179.67 8079,-189.67 8086,-189.67\"/>\n</g>\n<!-- 213 -->\n<g id=\"node214\" class=\"node\">\n<title>213</title>\n<path fill=\"#eeab7b\" stroke=\"black\" d=\"M7920,-68C7920,-68 7849,-68 7849,-68 7843,-68 7837,-62 7837,-56 7837,-56 7837,-12 7837,-12 7837,-6 7843,0 7849,0 7849,0 7920,0 7920,0 7926,0 7932,-6 7932,-12 7932,-12 7932,-56 7932,-56 7932,-62 7926,-68 7920,-68\"/>\n<text text-anchor=\"middle\" x=\"7884.5\" y=\"-52.8\" font-family=\"Helvetica,sans-Serif\" font-size=\"14.00\">gini = 0.375</text>\n<text text-anchor=\"middle\" x=\"7884.5\" y=\"-37.8\" font-family=\"Helvetica,sans-Serif\" font-size=\"14.00\">samples = 4</text>\n<text text-anchor=\"middle\" x=\"7884.5\" y=\"-22.8\" font-family=\"Helvetica,sans-Serif\" font-size=\"14.00\">value = [3, 1]</text>\n<text text-anchor=\"middle\" x=\"7884.5\" y=\"-7.8\" font-family=\"Helvetica,sans-Serif\" font-size=\"14.00\">class = nao</text>\n</g>\n<!-- 212&#45;&gt;213 -->\n<g id=\"edge213\" class=\"edge\">\n<title>212&#45;&gt;213</title>\n<path fill=\"none\" stroke=\"black\" d=\"M7924.04,-103.73C7919.06,-95.06 7913.78,-85.9 7908.77,-77.18\"/>\n<polygon fill=\"black\" stroke=\"black\" points=\"7911.68,-75.22 7903.66,-68.3 7905.61,-78.71 7911.68,-75.22\"/>\n</g>\n<!-- 214 -->\n<g id=\"node215\" class=\"node\">\n<title>214</title>\n<path fill=\"#399de5\" stroke=\"black\" d=\"M8033,-68C8033,-68 7962,-68 7962,-68 7956,-68 7950,-62 7950,-56 7950,-56 7950,-12 7950,-12 7950,-6 7956,0 7962,0 7962,0 8033,0 8033,0 8039,0 8045,-6 8045,-12 8045,-12 8045,-56 8045,-56 8045,-62 8039,-68 8033,-68\"/>\n<text text-anchor=\"middle\" x=\"7997.5\" y=\"-52.8\" font-family=\"Helvetica,sans-Serif\" font-size=\"14.00\">gini = 0.0</text>\n<text text-anchor=\"middle\" x=\"7997.5\" y=\"-37.8\" font-family=\"Helvetica,sans-Serif\" font-size=\"14.00\">samples = 2</text>\n<text text-anchor=\"middle\" x=\"7997.5\" y=\"-22.8\" font-family=\"Helvetica,sans-Serif\" font-size=\"14.00\">value = [0, 2]</text>\n<text text-anchor=\"middle\" x=\"7997.5\" y=\"-7.8\" font-family=\"Helvetica,sans-Serif\" font-size=\"14.00\">class = sim</text>\n</g>\n<!-- 212&#45;&gt;214 -->\n<g id=\"edge214\" class=\"edge\">\n<title>212&#45;&gt;214</title>\n<path fill=\"none\" stroke=\"black\" d=\"M7966.12,-103.73C7970.03,-95.15 7974.17,-86.09 7978.11,-77.46\"/>\n<polygon fill=\"black\" stroke=\"black\" points=\"7981.32,-78.85 7982.29,-68.3 7974.96,-75.94 7981.32,-78.85\"/>\n</g>\n<!-- 217 -->\n<g id=\"node218\" class=\"node\">\n<title>217</title>\n<path fill=\"#91c8f1\" stroke=\"black\" d=\"M8316.5,-187C8316.5,-187 8160.5,-187 8160.5,-187 8154.5,-187 8148.5,-181 8148.5,-175 8148.5,-175 8148.5,-116 8148.5,-116 8148.5,-110 8154.5,-104 8160.5,-104 8160.5,-104 8316.5,-104 8316.5,-104 8322.5,-104 8328.5,-110 8328.5,-116 8328.5,-116 8328.5,-175 8328.5,-175 8328.5,-181 8322.5,-187 8316.5,-187\"/>\n<text text-anchor=\"middle\" x=\"8238.5\" y=\"-171.8\" font-family=\"Helvetica,sans-Serif\" font-size=\"14.00\">km_por_ano &lt;= 16235.021</text>\n<text text-anchor=\"middle\" x=\"8238.5\" y=\"-156.8\" font-family=\"Helvetica,sans-Serif\" font-size=\"14.00\">gini = 0.425</text>\n<text text-anchor=\"middle\" x=\"8238.5\" y=\"-141.8\" font-family=\"Helvetica,sans-Serif\" font-size=\"14.00\">samples = 88</text>\n<text text-anchor=\"middle\" x=\"8238.5\" y=\"-126.8\" font-family=\"Helvetica,sans-Serif\" font-size=\"14.00\">value = [27, 61]</text>\n<text text-anchor=\"middle\" x=\"8238.5\" y=\"-111.8\" font-family=\"Helvetica,sans-Serif\" font-size=\"14.00\">class = sim</text>\n</g>\n<!-- 216&#45;&gt;217 -->\n<g id=\"edge217\" class=\"edge\">\n<title>216&#45;&gt;217</title>\n<path fill=\"none\" stroke=\"black\" d=\"M8297.93,-222.91C8290.94,-213.92 8283.47,-204.32 8276.26,-195.05\"/>\n<polygon fill=\"black\" stroke=\"black\" points=\"8278.92,-192.77 8270.02,-187.02 8273.39,-197.06 8278.92,-192.77\"/>\n</g>\n<!-- 220 -->\n<g id=\"node221\" class=\"node\">\n<title>220</title>\n<path fill=\"#dbedfa\" stroke=\"black\" d=\"M8480.5,-187C8480.5,-187 8358.5,-187 8358.5,-187 8352.5,-187 8346.5,-181 8346.5,-175 8346.5,-175 8346.5,-116 8346.5,-116 8346.5,-110 8352.5,-104 8358.5,-104 8358.5,-104 8480.5,-104 8480.5,-104 8486.5,-104 8492.5,-110 8492.5,-116 8492.5,-116 8492.5,-175 8492.5,-175 8492.5,-181 8486.5,-187 8480.5,-187\"/>\n<text text-anchor=\"middle\" x=\"8419.5\" y=\"-171.8\" font-family=\"Helvetica,sans-Serif\" font-size=\"14.00\">preco &lt;= 105162.227</text>\n<text text-anchor=\"middle\" x=\"8419.5\" y=\"-156.8\" font-family=\"Helvetica,sans-Serif\" font-size=\"14.00\">gini = 0.495</text>\n<text text-anchor=\"middle\" x=\"8419.5\" y=\"-141.8\" font-family=\"Helvetica,sans-Serif\" font-size=\"14.00\">samples = 138</text>\n<text text-anchor=\"middle\" x=\"8419.5\" y=\"-126.8\" font-family=\"Helvetica,sans-Serif\" font-size=\"14.00\">value = [62, 76]</text>\n<text text-anchor=\"middle\" x=\"8419.5\" y=\"-111.8\" font-family=\"Helvetica,sans-Serif\" font-size=\"14.00\">class = sim</text>\n</g>\n<!-- 216&#45;&gt;220 -->\n<g id=\"edge220\" class=\"edge\">\n<title>216&#45;&gt;220</title>\n<path fill=\"none\" stroke=\"black\" d=\"M8360.73,-222.91C8367.64,-213.92 8375.03,-204.32 8382.15,-195.05\"/>\n<polygon fill=\"black\" stroke=\"black\" points=\"8385.01,-197.08 8388.33,-187.02 8379.46,-192.81 8385.01,-197.08\"/>\n</g>\n<!-- 218 -->\n<g id=\"node219\" class=\"node\">\n<title>218</title>\n<path fill=\"#57ace9\" stroke=\"black\" d=\"M8153.5,-68C8153.5,-68 8075.5,-68 8075.5,-68 8069.5,-68 8063.5,-62 8063.5,-56 8063.5,-56 8063.5,-12 8063.5,-12 8063.5,-6 8069.5,0 8075.5,0 8075.5,0 8153.5,0 8153.5,0 8159.5,0 8165.5,-6 8165.5,-12 8165.5,-12 8165.5,-56 8165.5,-56 8165.5,-62 8159.5,-68 8153.5,-68\"/>\n<text text-anchor=\"middle\" x=\"8114.5\" y=\"-52.8\" font-family=\"Helvetica,sans-Serif\" font-size=\"14.00\">gini = 0.227</text>\n<text text-anchor=\"middle\" x=\"8114.5\" y=\"-37.8\" font-family=\"Helvetica,sans-Serif\" font-size=\"14.00\">samples = 23</text>\n<text text-anchor=\"middle\" x=\"8114.5\" y=\"-22.8\" font-family=\"Helvetica,sans-Serif\" font-size=\"14.00\">value = [3, 20]</text>\n<text text-anchor=\"middle\" x=\"8114.5\" y=\"-7.8\" font-family=\"Helvetica,sans-Serif\" font-size=\"14.00\">class = sim</text>\n</g>\n<!-- 217&#45;&gt;218 -->\n<g id=\"edge218\" class=\"edge\">\n<title>217&#45;&gt;218</title>\n<path fill=\"none\" stroke=\"black\" d=\"M8192.33,-103.73C8181.69,-94.33 8170.38,-84.35 8159.78,-74.99\"/>\n<polygon fill=\"black\" stroke=\"black\" points=\"8162.02,-72.3 8152.21,-68.3 8157.39,-77.54 8162.02,-72.3\"/>\n</g>\n<!-- 219 -->\n<g id=\"node220\" class=\"node\">\n<title>219</title>\n<path fill=\"#add6f4\" stroke=\"black\" d=\"M8281.5,-68C8281.5,-68 8195.5,-68 8195.5,-68 8189.5,-68 8183.5,-62 8183.5,-56 8183.5,-56 8183.5,-12 8183.5,-12 8183.5,-6 8189.5,0 8195.5,0 8195.5,0 8281.5,0 8281.5,0 8287.5,0 8293.5,-6 8293.5,-12 8293.5,-12 8293.5,-56 8293.5,-56 8293.5,-62 8287.5,-68 8281.5,-68\"/>\n<text text-anchor=\"middle\" x=\"8238.5\" y=\"-52.8\" font-family=\"Helvetica,sans-Serif\" font-size=\"14.00\">gini = 0.466</text>\n<text text-anchor=\"middle\" x=\"8238.5\" y=\"-37.8\" font-family=\"Helvetica,sans-Serif\" font-size=\"14.00\">samples = 65</text>\n<text text-anchor=\"middle\" x=\"8238.5\" y=\"-22.8\" font-family=\"Helvetica,sans-Serif\" font-size=\"14.00\">value = [24, 41]</text>\n<text text-anchor=\"middle\" x=\"8238.5\" y=\"-7.8\" font-family=\"Helvetica,sans-Serif\" font-size=\"14.00\">class = sim</text>\n</g>\n<!-- 217&#45;&gt;219 -->\n<g id=\"edge219\" class=\"edge\">\n<title>217&#45;&gt;219</title>\n<path fill=\"none\" stroke=\"black\" d=\"M8238.5,-103.73C8238.5,-95.52 8238.5,-86.86 8238.5,-78.56\"/>\n<polygon fill=\"black\" stroke=\"black\" points=\"8242,-78.3 8238.5,-68.3 8235,-78.3 8242,-78.3\"/>\n</g>\n<!-- 221 -->\n<g id=\"node222\" class=\"node\">\n<title>221</title>\n<path fill=\"#e58139\" stroke=\"black\" d=\"M8395,-68C8395,-68 8324,-68 8324,-68 8318,-68 8312,-62 8312,-56 8312,-56 8312,-12 8312,-12 8312,-6 8318,0 8324,0 8324,0 8395,0 8395,0 8401,0 8407,-6 8407,-12 8407,-12 8407,-56 8407,-56 8407,-62 8401,-68 8395,-68\"/>\n<text text-anchor=\"middle\" x=\"8359.5\" y=\"-52.8\" font-family=\"Helvetica,sans-Serif\" font-size=\"14.00\">gini = 0.0</text>\n<text text-anchor=\"middle\" x=\"8359.5\" y=\"-37.8\" font-family=\"Helvetica,sans-Serif\" font-size=\"14.00\">samples = 5</text>\n<text text-anchor=\"middle\" x=\"8359.5\" y=\"-22.8\" font-family=\"Helvetica,sans-Serif\" font-size=\"14.00\">value = [5, 0]</text>\n<text text-anchor=\"middle\" x=\"8359.5\" y=\"-7.8\" font-family=\"Helvetica,sans-Serif\" font-size=\"14.00\">class = nao</text>\n</g>\n<!-- 220&#45;&gt;221 -->\n<g id=\"edge221\" class=\"edge\">\n<title>220&#45;&gt;221</title>\n<path fill=\"none\" stroke=\"black\" d=\"M8397.16,-103.73C8392.41,-95.06 8387.39,-85.9 8382.61,-77.18\"/>\n<polygon fill=\"black\" stroke=\"black\" points=\"8385.62,-75.39 8377.75,-68.3 8379.48,-78.75 8385.62,-75.39\"/>\n</g>\n<!-- 222 -->\n<g id=\"node223\" class=\"node\">\n<title>222</title>\n<path fill=\"#cee6f8\" stroke=\"black\" d=\"M8523.5,-68C8523.5,-68 8437.5,-68 8437.5,-68 8431.5,-68 8425.5,-62 8425.5,-56 8425.5,-56 8425.5,-12 8425.5,-12 8425.5,-6 8431.5,0 8437.5,0 8437.5,0 8523.5,0 8523.5,0 8529.5,0 8535.5,-6 8535.5,-12 8535.5,-12 8535.5,-56 8535.5,-56 8535.5,-62 8529.5,-68 8523.5,-68\"/>\n<text text-anchor=\"middle\" x=\"8480.5\" y=\"-52.8\" font-family=\"Helvetica,sans-Serif\" font-size=\"14.00\">gini = 0.49</text>\n<text text-anchor=\"middle\" x=\"8480.5\" y=\"-37.8\" font-family=\"Helvetica,sans-Serif\" font-size=\"14.00\">samples = 133</text>\n<text text-anchor=\"middle\" x=\"8480.5\" y=\"-22.8\" font-family=\"Helvetica,sans-Serif\" font-size=\"14.00\">value = [57, 76]</text>\n<text text-anchor=\"middle\" x=\"8480.5\" y=\"-7.8\" font-family=\"Helvetica,sans-Serif\" font-size=\"14.00\">class = sim</text>\n</g>\n<!-- 220&#45;&gt;222 -->\n<g id=\"edge222\" class=\"edge\">\n<title>220&#45;&gt;222</title>\n<path fill=\"none\" stroke=\"black\" d=\"M8442.21,-103.73C8447.04,-95.06 8452.15,-85.9 8457,-77.18\"/>\n<polygon fill=\"black\" stroke=\"black\" points=\"8460.14,-78.74 8461.95,-68.3 8454.03,-75.33 8460.14,-78.74\"/>\n</g>\n<!-- 224 -->\n<g id=\"node225\" class=\"node\">\n<title>224</title>\n<path fill=\"#bcdef6\" stroke=\"black\" d=\"M8847.5,-306C8847.5,-306 8725.5,-306 8725.5,-306 8719.5,-306 8713.5,-300 8713.5,-294 8713.5,-294 8713.5,-235 8713.5,-235 8713.5,-229 8719.5,-223 8725.5,-223 8725.5,-223 8847.5,-223 8847.5,-223 8853.5,-223 8859.5,-229 8859.5,-235 8859.5,-235 8859.5,-294 8859.5,-294 8859.5,-300 8853.5,-306 8847.5,-306\"/>\n<text text-anchor=\"middle\" x=\"8786.5\" y=\"-290.8\" font-family=\"Helvetica,sans-Serif\" font-size=\"14.00\">preco &lt;= 101696.715</text>\n<text text-anchor=\"middle\" x=\"8786.5\" y=\"-275.8\" font-family=\"Helvetica,sans-Serif\" font-size=\"14.00\">gini = 0.479</text>\n<text text-anchor=\"middle\" x=\"8786.5\" y=\"-260.8\" font-family=\"Helvetica,sans-Serif\" font-size=\"14.00\">samples = 98</text>\n<text text-anchor=\"middle\" x=\"8786.5\" y=\"-245.8\" font-family=\"Helvetica,sans-Serif\" font-size=\"14.00\">value = [39, 59]</text>\n<text text-anchor=\"middle\" x=\"8786.5\" y=\"-230.8\" font-family=\"Helvetica,sans-Serif\" font-size=\"14.00\">class = sim</text>\n</g>\n<!-- 223&#45;&gt;224 -->\n<g id=\"edge224\" class=\"edge\">\n<title>223&#45;&gt;224</title>\n<path fill=\"none\" stroke=\"black\" d=\"M8786.5,-341.91C8786.5,-333.65 8786.5,-324.86 8786.5,-316.3\"/>\n<polygon fill=\"black\" stroke=\"black\" points=\"8790,-316.02 8786.5,-306.02 8783,-316.02 8790,-316.02\"/>\n</g>\n<!-- 231 -->\n<g id=\"node232\" class=\"node\">\n<title>231</title>\n<path fill=\"#85c2ef\" stroke=\"black\" d=\"M9200,-306C9200,-306 9051,-306 9051,-306 9045,-306 9039,-300 9039,-294 9039,-294 9039,-235 9039,-235 9039,-229 9045,-223 9051,-223 9051,-223 9200,-223 9200,-223 9206,-223 9212,-229 9212,-235 9212,-235 9212,-294 9212,-294 9212,-300 9206,-306 9200,-306\"/>\n<text text-anchor=\"middle\" x=\"9125.5\" y=\"-290.8\" font-family=\"Helvetica,sans-Serif\" font-size=\"14.00\">km_por_ano &lt;= 9792.029</text>\n<text text-anchor=\"middle\" x=\"9125.5\" y=\"-275.8\" font-family=\"Helvetica,sans-Serif\" font-size=\"14.00\">gini = 0.4</text>\n<text text-anchor=\"middle\" x=\"9125.5\" y=\"-260.8\" font-family=\"Helvetica,sans-Serif\" font-size=\"14.00\">samples = 163</text>\n<text text-anchor=\"middle\" x=\"9125.5\" y=\"-245.8\" font-family=\"Helvetica,sans-Serif\" font-size=\"14.00\">value = [45, 118]</text>\n<text text-anchor=\"middle\" x=\"9125.5\" y=\"-230.8\" font-family=\"Helvetica,sans-Serif\" font-size=\"14.00\">class = sim</text>\n</g>\n<!-- 223&#45;&gt;231 -->\n<g id=\"edge231\" class=\"edge\">\n<title>223&#45;&gt;231</title>\n<path fill=\"none\" stroke=\"black\" d=\"M8859.64,-357.26C8909.31,-340.11 8975.51,-317.27 9029.42,-298.66\"/>\n<polygon fill=\"black\" stroke=\"black\" points=\"9030.68,-301.93 9038.99,-295.36 9028.4,-295.31 9030.68,-301.93\"/>\n</g>\n<!-- 225 -->\n<g id=\"node226\" class=\"node\">\n<title>225</title>\n<path fill=\"#70b8ec\" stroke=\"black\" d=\"M8764,-187C8764,-187 8613,-187 8613,-187 8607,-187 8601,-181 8601,-175 8601,-175 8601,-116 8601,-116 8601,-110 8607,-104 8613,-104 8613,-104 8764,-104 8764,-104 8770,-104 8776,-110 8776,-116 8776,-116 8776,-175 8776,-175 8776,-181 8770,-187 8764,-187\"/>\n<text text-anchor=\"middle\" x=\"8688.5\" y=\"-171.8\" font-family=\"Helvetica,sans-Serif\" font-size=\"14.00\">idade_do_modelo &lt;= 14.5</text>\n<text text-anchor=\"middle\" x=\"8688.5\" y=\"-156.8\" font-family=\"Helvetica,sans-Serif\" font-size=\"14.00\">gini = 0.339</text>\n<text text-anchor=\"middle\" x=\"8688.5\" y=\"-141.8\" font-family=\"Helvetica,sans-Serif\" font-size=\"14.00\">samples = 37</text>\n<text text-anchor=\"middle\" x=\"8688.5\" y=\"-126.8\" font-family=\"Helvetica,sans-Serif\" font-size=\"14.00\">value = [8, 29]</text>\n<text text-anchor=\"middle\" x=\"8688.5\" y=\"-111.8\" font-family=\"Helvetica,sans-Serif\" font-size=\"14.00\">class = sim</text>\n</g>\n<!-- 224&#45;&gt;225 -->\n<g id=\"edge225\" class=\"edge\">\n<title>224&#45;&gt;225</title>\n<path fill=\"none\" stroke=\"black\" d=\"M8752.5,-222.91C8744.9,-213.83 8736.76,-204.12 8728.93,-194.77\"/>\n<polygon fill=\"black\" stroke=\"black\" points=\"8731.54,-192.44 8722.44,-187.02 8726.18,-196.93 8731.54,-192.44\"/>\n</g>\n<!-- 228 -->\n<g id=\"node229\" class=\"node\">\n<title>228</title>\n<path fill=\"#fefbf9\" stroke=\"black\" d=\"M8962.5,-187C8962.5,-187 8806.5,-187 8806.5,-187 8800.5,-187 8794.5,-181 8794.5,-175 8794.5,-175 8794.5,-116 8794.5,-116 8794.5,-110 8800.5,-104 8806.5,-104 8806.5,-104 8962.5,-104 8962.5,-104 8968.5,-104 8974.5,-110 8974.5,-116 8974.5,-116 8974.5,-175 8974.5,-175 8974.5,-181 8968.5,-187 8962.5,-187\"/>\n<text text-anchor=\"middle\" x=\"8884.5\" y=\"-171.8\" font-family=\"Helvetica,sans-Serif\" font-size=\"14.00\">km_por_ano &lt;= 18253.135</text>\n<text text-anchor=\"middle\" x=\"8884.5\" y=\"-156.8\" font-family=\"Helvetica,sans-Serif\" font-size=\"14.00\">gini = 0.5</text>\n<text text-anchor=\"middle\" x=\"8884.5\" y=\"-141.8\" font-family=\"Helvetica,sans-Serif\" font-size=\"14.00\">samples = 61</text>\n<text text-anchor=\"middle\" x=\"8884.5\" y=\"-126.8\" font-family=\"Helvetica,sans-Serif\" font-size=\"14.00\">value = [31, 30]</text>\n<text text-anchor=\"middle\" x=\"8884.5\" y=\"-111.8\" font-family=\"Helvetica,sans-Serif\" font-size=\"14.00\">class = nao</text>\n</g>\n<!-- 224&#45;&gt;228 -->\n<g id=\"edge228\" class=\"edge\">\n<title>224&#45;&gt;228</title>\n<path fill=\"none\" stroke=\"black\" d=\"M8820.5,-222.91C8828.1,-213.83 8836.24,-204.12 8844.07,-194.77\"/>\n<polygon fill=\"black\" stroke=\"black\" points=\"8846.82,-196.93 8850.56,-187.02 8841.46,-192.44 8846.82,-196.93\"/>\n</g>\n<!-- 226 -->\n<g id=\"node227\" class=\"node\">\n<title>226</title>\n<path fill=\"#399de5\" stroke=\"black\" d=\"M8643.5,-68C8643.5,-68 8565.5,-68 8565.5,-68 8559.5,-68 8553.5,-62 8553.5,-56 8553.5,-56 8553.5,-12 8553.5,-12 8553.5,-6 8559.5,0 8565.5,0 8565.5,0 8643.5,0 8643.5,0 8649.5,0 8655.5,-6 8655.5,-12 8655.5,-12 8655.5,-56 8655.5,-56 8655.5,-62 8649.5,-68 8643.5,-68\"/>\n<text text-anchor=\"middle\" x=\"8604.5\" y=\"-52.8\" font-family=\"Helvetica,sans-Serif\" font-size=\"14.00\">gini = 0.0</text>\n<text text-anchor=\"middle\" x=\"8604.5\" y=\"-37.8\" font-family=\"Helvetica,sans-Serif\" font-size=\"14.00\">samples = 12</text>\n<text text-anchor=\"middle\" x=\"8604.5\" y=\"-22.8\" font-family=\"Helvetica,sans-Serif\" font-size=\"14.00\">value = [0, 12]</text>\n<text text-anchor=\"middle\" x=\"8604.5\" y=\"-7.8\" font-family=\"Helvetica,sans-Serif\" font-size=\"14.00\">class = sim</text>\n</g>\n<!-- 225&#45;&gt;226 -->\n<g id=\"edge226\" class=\"edge\">\n<title>225&#45;&gt;226</title>\n<path fill=\"none\" stroke=\"black\" d=\"M8657.22,-103.73C8650.36,-94.79 8643.1,-85.32 8636.22,-76.36\"/>\n<polygon fill=\"black\" stroke=\"black\" points=\"8638.91,-74.1 8630.04,-68.3 8633.35,-78.36 8638.91,-74.1\"/>\n</g>\n<!-- 227 -->\n<g id=\"node228\" class=\"node\">\n<title>227</title>\n<path fill=\"#96cbf1\" stroke=\"black\" d=\"M8763.5,-68C8763.5,-68 8685.5,-68 8685.5,-68 8679.5,-68 8673.5,-62 8673.5,-56 8673.5,-56 8673.5,-12 8673.5,-12 8673.5,-6 8679.5,0 8685.5,0 8685.5,0 8763.5,0 8763.5,0 8769.5,0 8775.5,-6 8775.5,-12 8775.5,-12 8775.5,-56 8775.5,-56 8775.5,-62 8769.5,-68 8763.5,-68\"/>\n<text text-anchor=\"middle\" x=\"8724.5\" y=\"-52.8\" font-family=\"Helvetica,sans-Serif\" font-size=\"14.00\">gini = 0.435</text>\n<text text-anchor=\"middle\" x=\"8724.5\" y=\"-37.8\" font-family=\"Helvetica,sans-Serif\" font-size=\"14.00\">samples = 25</text>\n<text text-anchor=\"middle\" x=\"8724.5\" y=\"-22.8\" font-family=\"Helvetica,sans-Serif\" font-size=\"14.00\">value = [8, 17]</text>\n<text text-anchor=\"middle\" x=\"8724.5\" y=\"-7.8\" font-family=\"Helvetica,sans-Serif\" font-size=\"14.00\">class = sim</text>\n</g>\n<!-- 225&#45;&gt;227 -->\n<g id=\"edge227\" class=\"edge\">\n<title>225&#45;&gt;227</title>\n<path fill=\"none\" stroke=\"black\" d=\"M8701.91,-103.73C8704.66,-95.34 8707.58,-86.47 8710.36,-78.01\"/>\n<polygon fill=\"black\" stroke=\"black\" points=\"8713.75,-78.89 8713.55,-68.3 8707.1,-76.71 8713.75,-78.89\"/>\n</g>\n<!-- 229 -->\n<g id=\"node230\" class=\"node\">\n<title>229</title>\n<path fill=\"#a6d3f3\" stroke=\"black\" d=\"M8891.5,-68C8891.5,-68 8805.5,-68 8805.5,-68 8799.5,-68 8793.5,-62 8793.5,-56 8793.5,-56 8793.5,-12 8793.5,-12 8793.5,-6 8799.5,0 8805.5,0 8805.5,0 8891.5,0 8891.5,0 8897.5,0 8903.5,-6 8903.5,-12 8903.5,-12 8903.5,-56 8903.5,-56 8903.5,-62 8897.5,-68 8891.5,-68\"/>\n<text text-anchor=\"middle\" x=\"8848.5\" y=\"-52.8\" font-family=\"Helvetica,sans-Serif\" font-size=\"14.00\">gini = 0.458</text>\n<text text-anchor=\"middle\" x=\"8848.5\" y=\"-37.8\" font-family=\"Helvetica,sans-Serif\" font-size=\"14.00\">samples = 31</text>\n<text text-anchor=\"middle\" x=\"8848.5\" y=\"-22.8\" font-family=\"Helvetica,sans-Serif\" font-size=\"14.00\">value = [11, 20]</text>\n<text text-anchor=\"middle\" x=\"8848.5\" y=\"-7.8\" font-family=\"Helvetica,sans-Serif\" font-size=\"14.00\">class = sim</text>\n</g>\n<!-- 228&#45;&gt;229 -->\n<g id=\"edge229\" class=\"edge\">\n<title>228&#45;&gt;229</title>\n<path fill=\"none\" stroke=\"black\" d=\"M8871.09,-103.73C8868.34,-95.34 8865.42,-86.47 8862.64,-78.01\"/>\n<polygon fill=\"black\" stroke=\"black\" points=\"8865.9,-76.71 8859.45,-68.3 8859.25,-78.89 8865.9,-76.71\"/>\n</g>\n<!-- 230 -->\n<g id=\"node231\" class=\"node\">\n<title>230</title>\n<path fill=\"#f2c09c\" stroke=\"black\" d=\"M9019.5,-68C9019.5,-68 8933.5,-68 8933.5,-68 8927.5,-68 8921.5,-62 8921.5,-56 8921.5,-56 8921.5,-12 8921.5,-12 8921.5,-6 8927.5,0 8933.5,0 8933.5,0 9019.5,0 9019.5,0 9025.5,0 9031.5,-6 9031.5,-12 9031.5,-12 9031.5,-56 9031.5,-56 9031.5,-62 9025.5,-68 9019.5,-68\"/>\n<text text-anchor=\"middle\" x=\"8976.5\" y=\"-52.8\" font-family=\"Helvetica,sans-Serif\" font-size=\"14.00\">gini = 0.444</text>\n<text text-anchor=\"middle\" x=\"8976.5\" y=\"-37.8\" font-family=\"Helvetica,sans-Serif\" font-size=\"14.00\">samples = 30</text>\n<text text-anchor=\"middle\" x=\"8976.5\" y=\"-22.8\" font-family=\"Helvetica,sans-Serif\" font-size=\"14.00\">value = [20, 10]</text>\n<text text-anchor=\"middle\" x=\"8976.5\" y=\"-7.8\" font-family=\"Helvetica,sans-Serif\" font-size=\"14.00\">class = nao</text>\n</g>\n<!-- 228&#45;&gt;230 -->\n<g id=\"edge230\" class=\"edge\">\n<title>228&#45;&gt;230</title>\n<path fill=\"none\" stroke=\"black\" d=\"M8918.76,-103.73C8926.34,-94.7 8934.39,-85.12 8941.98,-76.08\"/>\n<polygon fill=\"black\" stroke=\"black\" points=\"8944.77,-78.21 8948.52,-68.3 8939.41,-73.7 8944.77,-78.21\"/>\n</g>\n<!-- 232 -->\n<g id=\"node233\" class=\"node\">\n<title>232</title>\n<path fill=\"#eeab7b\" stroke=\"black\" d=\"M9200,-187C9200,-187 9051,-187 9051,-187 9045,-187 9039,-181 9039,-175 9039,-175 9039,-116 9039,-116 9039,-110 9045,-104 9051,-104 9051,-104 9200,-104 9200,-104 9206,-104 9212,-110 9212,-116 9212,-116 9212,-175 9212,-175 9212,-181 9206,-187 9200,-187\"/>\n<text text-anchor=\"middle\" x=\"9125.5\" y=\"-171.8\" font-family=\"Helvetica,sans-Serif\" font-size=\"14.00\">km_por_ano &lt;= 8955.977</text>\n<text text-anchor=\"middle\" x=\"9125.5\" y=\"-156.8\" font-family=\"Helvetica,sans-Serif\" font-size=\"14.00\">gini = 0.375</text>\n<text text-anchor=\"middle\" x=\"9125.5\" y=\"-141.8\" font-family=\"Helvetica,sans-Serif\" font-size=\"14.00\">samples = 4</text>\n<text text-anchor=\"middle\" x=\"9125.5\" y=\"-126.8\" font-family=\"Helvetica,sans-Serif\" font-size=\"14.00\">value = [3, 1]</text>\n<text text-anchor=\"middle\" x=\"9125.5\" y=\"-111.8\" font-family=\"Helvetica,sans-Serif\" font-size=\"14.00\">class = nao</text>\n</g>\n<!-- 231&#45;&gt;232 -->\n<g id=\"edge232\" class=\"edge\">\n<title>231&#45;&gt;232</title>\n<path fill=\"none\" stroke=\"black\" d=\"M9125.5,-222.91C9125.5,-214.65 9125.5,-205.86 9125.5,-197.3\"/>\n<polygon fill=\"black\" stroke=\"black\" points=\"9129,-197.02 9125.5,-187.02 9122,-197.02 9129,-197.02\"/>\n</g>\n<!-- 235 -->\n<g id=\"node236\" class=\"node\">\n<title>235</title>\n<path fill=\"#80c0ee\" stroke=\"black\" d=\"M9392.5,-187C9392.5,-187 9270.5,-187 9270.5,-187 9264.5,-187 9258.5,-181 9258.5,-175 9258.5,-175 9258.5,-116 9258.5,-116 9258.5,-110 9264.5,-104 9270.5,-104 9270.5,-104 9392.5,-104 9392.5,-104 9398.5,-104 9404.5,-110 9404.5,-116 9404.5,-116 9404.5,-175 9404.5,-175 9404.5,-181 9398.5,-187 9392.5,-187\"/>\n<text text-anchor=\"middle\" x=\"9331.5\" y=\"-171.8\" font-family=\"Helvetica,sans-Serif\" font-size=\"14.00\">preco &lt;= 108686.535</text>\n<text text-anchor=\"middle\" x=\"9331.5\" y=\"-156.8\" font-family=\"Helvetica,sans-Serif\" font-size=\"14.00\">gini = 0.389</text>\n<text text-anchor=\"middle\" x=\"9331.5\" y=\"-141.8\" font-family=\"Helvetica,sans-Serif\" font-size=\"14.00\">samples = 159</text>\n<text text-anchor=\"middle\" x=\"9331.5\" y=\"-126.8\" font-family=\"Helvetica,sans-Serif\" font-size=\"14.00\">value = [42, 117]</text>\n<text text-anchor=\"middle\" x=\"9331.5\" y=\"-111.8\" font-family=\"Helvetica,sans-Serif\" font-size=\"14.00\">class = sim</text>\n</g>\n<!-- 231&#45;&gt;235 -->\n<g id=\"edge235\" class=\"edge\">\n<title>231&#45;&gt;235</title>\n<path fill=\"none\" stroke=\"black\" d=\"M9196.97,-222.91C9214.55,-212.92 9233.48,-202.17 9251.43,-191.98\"/>\n<polygon fill=\"black\" stroke=\"black\" points=\"9253.19,-195 9260.16,-187.02 9249.73,-188.92 9253.19,-195\"/>\n</g>\n<!-- 233 -->\n<g id=\"node234\" class=\"node\">\n<title>233</title>\n<path fill=\"#399de5\" stroke=\"black\" d=\"M9133,-68C9133,-68 9062,-68 9062,-68 9056,-68 9050,-62 9050,-56 9050,-56 9050,-12 9050,-12 9050,-6 9056,0 9062,0 9062,0 9133,0 9133,0 9139,0 9145,-6 9145,-12 9145,-12 9145,-56 9145,-56 9145,-62 9139,-68 9133,-68\"/>\n<text text-anchor=\"middle\" x=\"9097.5\" y=\"-52.8\" font-family=\"Helvetica,sans-Serif\" font-size=\"14.00\">gini = 0.0</text>\n<text text-anchor=\"middle\" x=\"9097.5\" y=\"-37.8\" font-family=\"Helvetica,sans-Serif\" font-size=\"14.00\">samples = 1</text>\n<text text-anchor=\"middle\" x=\"9097.5\" y=\"-22.8\" font-family=\"Helvetica,sans-Serif\" font-size=\"14.00\">value = [0, 1]</text>\n<text text-anchor=\"middle\" x=\"9097.5\" y=\"-7.8\" font-family=\"Helvetica,sans-Serif\" font-size=\"14.00\">class = sim</text>\n</g>\n<!-- 232&#45;&gt;233 -->\n<g id=\"edge233\" class=\"edge\">\n<title>232&#45;&gt;233</title>\n<path fill=\"none\" stroke=\"black\" d=\"M9115.07,-103.73C9112.93,-95.34 9110.66,-86.47 9108.5,-78.01\"/>\n<polygon fill=\"black\" stroke=\"black\" points=\"9111.88,-77.12 9106.01,-68.3 9105.1,-78.85 9111.88,-77.12\"/>\n</g>\n<!-- 234 -->\n<g id=\"node235\" class=\"node\">\n<title>234</title>\n<path fill=\"#e58139\" stroke=\"black\" d=\"M9246,-68C9246,-68 9175,-68 9175,-68 9169,-68 9163,-62 9163,-56 9163,-56 9163,-12 9163,-12 9163,-6 9169,0 9175,0 9175,0 9246,0 9246,0 9252,0 9258,-6 9258,-12 9258,-12 9258,-56 9258,-56 9258,-62 9252,-68 9246,-68\"/>\n<text text-anchor=\"middle\" x=\"9210.5\" y=\"-52.8\" font-family=\"Helvetica,sans-Serif\" font-size=\"14.00\">gini = 0.0</text>\n<text text-anchor=\"middle\" x=\"9210.5\" y=\"-37.8\" font-family=\"Helvetica,sans-Serif\" font-size=\"14.00\">samples = 3</text>\n<text text-anchor=\"middle\" x=\"9210.5\" y=\"-22.8\" font-family=\"Helvetica,sans-Serif\" font-size=\"14.00\">value = [3, 0]</text>\n<text text-anchor=\"middle\" x=\"9210.5\" y=\"-7.8\" font-family=\"Helvetica,sans-Serif\" font-size=\"14.00\">class = nao</text>\n</g>\n<!-- 232&#45;&gt;234 -->\n<g id=\"edge234\" class=\"edge\">\n<title>232&#45;&gt;234</title>\n<path fill=\"none\" stroke=\"black\" d=\"M9157.15,-103.73C9164.09,-94.79 9171.44,-85.32 9178.4,-76.36\"/>\n<polygon fill=\"black\" stroke=\"black\" points=\"9181.28,-78.35 9184.65,-68.3 9175.75,-74.05 9181.28,-78.35\"/>\n</g>\n<!-- 236 -->\n<g id=\"node237\" class=\"node\">\n<title>236</title>\n<path fill=\"#6fb7ec\" stroke=\"black\" d=\"M9374.5,-68C9374.5,-68 9288.5,-68 9288.5,-68 9282.5,-68 9276.5,-62 9276.5,-56 9276.5,-56 9276.5,-12 9276.5,-12 9276.5,-6 9282.5,0 9288.5,0 9288.5,0 9374.5,0 9374.5,0 9380.5,0 9386.5,-6 9386.5,-12 9386.5,-12 9386.5,-56 9386.5,-56 9386.5,-62 9380.5,-68 9374.5,-68\"/>\n<text text-anchor=\"middle\" x=\"9331.5\" y=\"-52.8\" font-family=\"Helvetica,sans-Serif\" font-size=\"14.00\">gini = 0.335</text>\n<text text-anchor=\"middle\" x=\"9331.5\" y=\"-37.8\" font-family=\"Helvetica,sans-Serif\" font-size=\"14.00\">samples = 94</text>\n<text text-anchor=\"middle\" x=\"9331.5\" y=\"-22.8\" font-family=\"Helvetica,sans-Serif\" font-size=\"14.00\">value = [20, 74]</text>\n<text text-anchor=\"middle\" x=\"9331.5\" y=\"-7.8\" font-family=\"Helvetica,sans-Serif\" font-size=\"14.00\">class = sim</text>\n</g>\n<!-- 235&#45;&gt;236 -->\n<g id=\"edge236\" class=\"edge\">\n<title>235&#45;&gt;236</title>\n<path fill=\"none\" stroke=\"black\" d=\"M9331.5,-103.73C9331.5,-95.52 9331.5,-86.86 9331.5,-78.56\"/>\n<polygon fill=\"black\" stroke=\"black\" points=\"9335,-78.3 9331.5,-68.3 9328,-78.3 9335,-78.3\"/>\n</g>\n<!-- 237 -->\n<g id=\"node238\" class=\"node\">\n<title>237</title>\n<path fill=\"#9ecff2\" stroke=\"black\" d=\"M9502.5,-68C9502.5,-68 9416.5,-68 9416.5,-68 9410.5,-68 9404.5,-62 9404.5,-56 9404.5,-56 9404.5,-12 9404.5,-12 9404.5,-6 9410.5,0 9416.5,0 9416.5,0 9502.5,0 9502.5,0 9508.5,0 9514.5,-6 9514.5,-12 9514.5,-12 9514.5,-56 9514.5,-56 9514.5,-62 9508.5,-68 9502.5,-68\"/>\n<text text-anchor=\"middle\" x=\"9459.5\" y=\"-52.8\" font-family=\"Helvetica,sans-Serif\" font-size=\"14.00\">gini = 0.448</text>\n<text text-anchor=\"middle\" x=\"9459.5\" y=\"-37.8\" font-family=\"Helvetica,sans-Serif\" font-size=\"14.00\">samples = 65</text>\n<text text-anchor=\"middle\" x=\"9459.5\" y=\"-22.8\" font-family=\"Helvetica,sans-Serif\" font-size=\"14.00\">value = [22, 43]</text>\n<text text-anchor=\"middle\" x=\"9459.5\" y=\"-7.8\" font-family=\"Helvetica,sans-Serif\" font-size=\"14.00\">class = sim</text>\n</g>\n<!-- 235&#45;&gt;237 -->\n<g id=\"edge237\" class=\"edge\">\n<title>235&#45;&gt;237</title>\n<path fill=\"none\" stroke=\"black\" d=\"M9379.16,-103.73C9390.14,-94.33 9401.81,-84.35 9412.76,-74.99\"/>\n<polygon fill=\"black\" stroke=\"black\" points=\"9415.25,-77.46 9420.57,-68.3 9410.7,-72.14 9415.25,-77.46\"/>\n</g>\n<!-- 240 -->\n<g id=\"node241\" class=\"node\">\n<title>240</title>\n<path fill=\"#63b2ea\" stroke=\"black\" d=\"M9636.5,-544C9636.5,-544 9480.5,-544 9480.5,-544 9474.5,-544 9468.5,-538 9468.5,-532 9468.5,-532 9468.5,-473 9468.5,-473 9468.5,-467 9474.5,-461 9480.5,-461 9480.5,-461 9636.5,-461 9636.5,-461 9642.5,-461 9648.5,-467 9648.5,-473 9648.5,-473 9648.5,-532 9648.5,-532 9648.5,-538 9642.5,-544 9636.5,-544\"/>\n<text text-anchor=\"middle\" x=\"9558.5\" y=\"-528.8\" font-family=\"Helvetica,sans-Serif\" font-size=\"14.00\">km_por_ano &lt;= 23720.062</text>\n<text text-anchor=\"middle\" x=\"9558.5\" y=\"-513.8\" font-family=\"Helvetica,sans-Serif\" font-size=\"14.00\">gini = 0.287</text>\n<text text-anchor=\"middle\" x=\"9558.5\" y=\"-498.8\" font-family=\"Helvetica,sans-Serif\" font-size=\"14.00\">samples = 46</text>\n<text text-anchor=\"middle\" x=\"9558.5\" y=\"-483.8\" font-family=\"Helvetica,sans-Serif\" font-size=\"14.00\">value = [8, 38]</text>\n<text text-anchor=\"middle\" x=\"9558.5\" y=\"-468.8\" font-family=\"Helvetica,sans-Serif\" font-size=\"14.00\">class = sim</text>\n</g>\n<!-- 239&#45;&gt;240 -->\n<g id=\"edge240\" class=\"edge\">\n<title>239&#45;&gt;240</title>\n<path fill=\"none\" stroke=\"black\" d=\"M9558.5,-579.91C9558.5,-571.65 9558.5,-562.86 9558.5,-554.3\"/>\n<polygon fill=\"black\" stroke=\"black\" points=\"9562,-554.02 9558.5,-544.02 9555,-554.02 9562,-554.02\"/>\n</g>\n<!-- 255 -->\n<g id=\"node256\" class=\"node\">\n<title>255</title>\n<path fill=\"#e58139\" stroke=\"black\" d=\"M9750,-536.5C9750,-536.5 9679,-536.5 9679,-536.5 9673,-536.5 9667,-530.5 9667,-524.5 9667,-524.5 9667,-480.5 9667,-480.5 9667,-474.5 9673,-468.5 9679,-468.5 9679,-468.5 9750,-468.5 9750,-468.5 9756,-468.5 9762,-474.5 9762,-480.5 9762,-480.5 9762,-524.5 9762,-524.5 9762,-530.5 9756,-536.5 9750,-536.5\"/>\n<text text-anchor=\"middle\" x=\"9714.5\" y=\"-521.3\" font-family=\"Helvetica,sans-Serif\" font-size=\"14.00\">gini = 0.0</text>\n<text text-anchor=\"middle\" x=\"9714.5\" y=\"-506.3\" font-family=\"Helvetica,sans-Serif\" font-size=\"14.00\">samples = 2</text>\n<text text-anchor=\"middle\" x=\"9714.5\" y=\"-491.3\" font-family=\"Helvetica,sans-Serif\" font-size=\"14.00\">value = [2, 0]</text>\n<text text-anchor=\"middle\" x=\"9714.5\" y=\"-476.3\" font-family=\"Helvetica,sans-Serif\" font-size=\"14.00\">class = nao</text>\n</g>\n<!-- 239&#45;&gt;255 -->\n<g id=\"edge255\" class=\"edge\">\n<title>239&#45;&gt;255</title>\n<path fill=\"none\" stroke=\"black\" d=\"M9612.62,-579.91C9628.66,-567.88 9646.19,-554.73 9662.11,-542.79\"/>\n<polygon fill=\"black\" stroke=\"black\" points=\"9664.38,-545.47 9670.28,-536.67 9660.18,-539.87 9664.38,-545.47\"/>\n</g>\n<!-- 241 -->\n<g id=\"node242\" class=\"node\">\n<title>241</title>\n<path fill=\"#5dafea\" stroke=\"black\" d=\"M9630,-425C9630,-425 9487,-425 9487,-425 9481,-425 9475,-419 9475,-413 9475,-413 9475,-354 9475,-354 9475,-348 9481,-342 9487,-342 9487,-342 9630,-342 9630,-342 9636,-342 9642,-348 9642,-354 9642,-354 9642,-413 9642,-413 9642,-419 9636,-425 9630,-425\"/>\n<text text-anchor=\"middle\" x=\"9558.5\" y=\"-409.8\" font-family=\"Helvetica,sans-Serif\" font-size=\"14.00\">idade_do_modelo &lt;= 9.5</text>\n<text text-anchor=\"middle\" x=\"9558.5\" y=\"-394.8\" font-family=\"Helvetica,sans-Serif\" font-size=\"14.00\">gini = 0.263</text>\n<text text-anchor=\"middle\" x=\"9558.5\" y=\"-379.8\" font-family=\"Helvetica,sans-Serif\" font-size=\"14.00\">samples = 45</text>\n<text text-anchor=\"middle\" x=\"9558.5\" y=\"-364.8\" font-family=\"Helvetica,sans-Serif\" font-size=\"14.00\">value = [7, 38]</text>\n<text text-anchor=\"middle\" x=\"9558.5\" y=\"-349.8\" font-family=\"Helvetica,sans-Serif\" font-size=\"14.00\">class = sim</text>\n</g>\n<!-- 240&#45;&gt;241 -->\n<g id=\"edge241\" class=\"edge\">\n<title>240&#45;&gt;241</title>\n<path fill=\"none\" stroke=\"black\" d=\"M9558.5,-460.91C9558.5,-452.65 9558.5,-443.86 9558.5,-435.3\"/>\n<polygon fill=\"black\" stroke=\"black\" points=\"9562,-435.02 9558.5,-425.02 9555,-435.02 9562,-435.02\"/>\n</g>\n<!-- 254 -->\n<g id=\"node255\" class=\"node\">\n<title>254</title>\n<path fill=\"#e58139\" stroke=\"black\" d=\"M9743,-417.5C9743,-417.5 9672,-417.5 9672,-417.5 9666,-417.5 9660,-411.5 9660,-405.5 9660,-405.5 9660,-361.5 9660,-361.5 9660,-355.5 9666,-349.5 9672,-349.5 9672,-349.5 9743,-349.5 9743,-349.5 9749,-349.5 9755,-355.5 9755,-361.5 9755,-361.5 9755,-405.5 9755,-405.5 9755,-411.5 9749,-417.5 9743,-417.5\"/>\n<text text-anchor=\"middle\" x=\"9707.5\" y=\"-402.3\" font-family=\"Helvetica,sans-Serif\" font-size=\"14.00\">gini = 0.0</text>\n<text text-anchor=\"middle\" x=\"9707.5\" y=\"-387.3\" font-family=\"Helvetica,sans-Serif\" font-size=\"14.00\">samples = 1</text>\n<text text-anchor=\"middle\" x=\"9707.5\" y=\"-372.3\" font-family=\"Helvetica,sans-Serif\" font-size=\"14.00\">value = [1, 0]</text>\n<text text-anchor=\"middle\" x=\"9707.5\" y=\"-357.3\" font-family=\"Helvetica,sans-Serif\" font-size=\"14.00\">class = nao</text>\n</g>\n<!-- 240&#45;&gt;254 -->\n<g id=\"edge254\" class=\"edge\">\n<title>240&#45;&gt;254</title>\n<path fill=\"none\" stroke=\"black\" d=\"M9610.19,-460.91C9625.37,-448.99 9641.95,-435.98 9657.04,-424.12\"/>\n<polygon fill=\"black\" stroke=\"black\" points=\"9659.56,-426.6 9665.26,-417.67 9655.24,-421.09 9659.56,-426.6\"/>\n</g>\n<!-- 242 -->\n<g id=\"node243\" class=\"node\">\n<title>242</title>\n<path fill=\"#45a3e7\" stroke=\"black\" d=\"M9629,-306C9629,-306 9488,-306 9488,-306 9482,-306 9476,-300 9476,-294 9476,-294 9476,-235 9476,-235 9476,-229 9482,-223 9488,-223 9488,-223 9629,-223 9629,-223 9635,-223 9641,-229 9641,-235 9641,-235 9641,-294 9641,-294 9641,-300 9635,-306 9629,-306\"/>\n<text text-anchor=\"middle\" x=\"9558.5\" y=\"-290.8\" font-family=\"Helvetica,sans-Serif\" font-size=\"14.00\">km_por_ano &lt;= 19384.5</text>\n<text text-anchor=\"middle\" x=\"9558.5\" y=\"-275.8\" font-family=\"Helvetica,sans-Serif\" font-size=\"14.00\">gini = 0.105</text>\n<text text-anchor=\"middle\" x=\"9558.5\" y=\"-260.8\" font-family=\"Helvetica,sans-Serif\" font-size=\"14.00\">samples = 18</text>\n<text text-anchor=\"middle\" x=\"9558.5\" y=\"-245.8\" font-family=\"Helvetica,sans-Serif\" font-size=\"14.00\">value = [1, 17]</text>\n<text text-anchor=\"middle\" x=\"9558.5\" y=\"-230.8\" font-family=\"Helvetica,sans-Serif\" font-size=\"14.00\">class = sim</text>\n</g>\n<!-- 241&#45;&gt;242 -->\n<g id=\"edge242\" class=\"edge\">\n<title>241&#45;&gt;242</title>\n<path fill=\"none\" stroke=\"black\" d=\"M9558.5,-341.91C9558.5,-333.65 9558.5,-324.86 9558.5,-316.3\"/>\n<polygon fill=\"black\" stroke=\"black\" points=\"9562,-316.02 9558.5,-306.02 9555,-316.02 9562,-316.02\"/>\n</g>\n<!-- 247 -->\n<g id=\"node248\" class=\"node\">\n<title>247</title>\n<path fill=\"#72b9ec\" stroke=\"black\" d=\"M9915.5,-306C9915.5,-306 9759.5,-306 9759.5,-306 9753.5,-306 9747.5,-300 9747.5,-294 9747.5,-294 9747.5,-235 9747.5,-235 9747.5,-229 9753.5,-223 9759.5,-223 9759.5,-223 9915.5,-223 9915.5,-223 9921.5,-223 9927.5,-229 9927.5,-235 9927.5,-235 9927.5,-294 9927.5,-294 9927.5,-300 9921.5,-306 9915.5,-306\"/>\n<text text-anchor=\"middle\" x=\"9837.5\" y=\"-290.8\" font-family=\"Helvetica,sans-Serif\" font-size=\"14.00\">km_por_ano &lt;= 15209.068</text>\n<text text-anchor=\"middle\" x=\"9837.5\" y=\"-275.8\" font-family=\"Helvetica,sans-Serif\" font-size=\"14.00\">gini = 0.346</text>\n<text text-anchor=\"middle\" x=\"9837.5\" y=\"-260.8\" font-family=\"Helvetica,sans-Serif\" font-size=\"14.00\">samples = 27</text>\n<text text-anchor=\"middle\" x=\"9837.5\" y=\"-245.8\" font-family=\"Helvetica,sans-Serif\" font-size=\"14.00\">value = [6, 21]</text>\n<text text-anchor=\"middle\" x=\"9837.5\" y=\"-230.8\" font-family=\"Helvetica,sans-Serif\" font-size=\"14.00\">class = sim</text>\n</g>\n<!-- 241&#45;&gt;247 -->\n<g id=\"edge247\" class=\"edge\">\n<title>241&#45;&gt;247</title>\n<path fill=\"none\" stroke=\"black\" d=\"M9642.2,-345.54C9645,-344.34 9647.77,-343.16 9650.5,-342 9678.78,-329.99 9709.61,-317.24 9737.92,-305.67\"/>\n<polygon fill=\"black\" stroke=\"black\" points=\"9739.48,-308.81 9747.42,-301.79 9736.83,-302.33 9739.48,-308.81\"/>\n</g>\n<!-- 243 -->\n<g id=\"node244\" class=\"node\">\n<title>243</title>\n<path fill=\"#399de5\" stroke=\"black\" d=\"M9518.5,-179.5C9518.5,-179.5 9440.5,-179.5 9440.5,-179.5 9434.5,-179.5 9428.5,-173.5 9428.5,-167.5 9428.5,-167.5 9428.5,-123.5 9428.5,-123.5 9428.5,-117.5 9434.5,-111.5 9440.5,-111.5 9440.5,-111.5 9518.5,-111.5 9518.5,-111.5 9524.5,-111.5 9530.5,-117.5 9530.5,-123.5 9530.5,-123.5 9530.5,-167.5 9530.5,-167.5 9530.5,-173.5 9524.5,-179.5 9518.5,-179.5\"/>\n<text text-anchor=\"middle\" x=\"9479.5\" y=\"-164.3\" font-family=\"Helvetica,sans-Serif\" font-size=\"14.00\">gini = 0.0</text>\n<text text-anchor=\"middle\" x=\"9479.5\" y=\"-149.3\" font-family=\"Helvetica,sans-Serif\" font-size=\"14.00\">samples = 12</text>\n<text text-anchor=\"middle\" x=\"9479.5\" y=\"-134.3\" font-family=\"Helvetica,sans-Serif\" font-size=\"14.00\">value = [0, 12]</text>\n<text text-anchor=\"middle\" x=\"9479.5\" y=\"-119.3\" font-family=\"Helvetica,sans-Serif\" font-size=\"14.00\">class = sim</text>\n</g>\n<!-- 242&#45;&gt;243 -->\n<g id=\"edge243\" class=\"edge\">\n<title>242&#45;&gt;243</title>\n<path fill=\"none\" stroke=\"black\" d=\"M9531.09,-222.91C9523.49,-211.65 9515.23,-199.42 9507.59,-188.11\"/>\n<polygon fill=\"black\" stroke=\"black\" points=\"9510.39,-186 9501.89,-179.67 9504.59,-189.91 9510.39,-186\"/>\n</g>\n<!-- 244 -->\n<g id=\"node245\" class=\"node\">\n<title>244</title>\n<path fill=\"#61b1ea\" stroke=\"black\" d=\"M9716.5,-187C9716.5,-187 9560.5,-187 9560.5,-187 9554.5,-187 9548.5,-181 9548.5,-175 9548.5,-175 9548.5,-116 9548.5,-116 9548.5,-110 9554.5,-104 9560.5,-104 9560.5,-104 9716.5,-104 9716.5,-104 9722.5,-104 9728.5,-110 9728.5,-116 9728.5,-116 9728.5,-175 9728.5,-175 9728.5,-181 9722.5,-187 9716.5,-187\"/>\n<text text-anchor=\"middle\" x=\"9638.5\" y=\"-171.8\" font-family=\"Helvetica,sans-Serif\" font-size=\"14.00\">km_por_ano &lt;= 20118.359</text>\n<text text-anchor=\"middle\" x=\"9638.5\" y=\"-156.8\" font-family=\"Helvetica,sans-Serif\" font-size=\"14.00\">gini = 0.278</text>\n<text text-anchor=\"middle\" x=\"9638.5\" y=\"-141.8\" font-family=\"Helvetica,sans-Serif\" font-size=\"14.00\">samples = 6</text>\n<text text-anchor=\"middle\" x=\"9638.5\" y=\"-126.8\" font-family=\"Helvetica,sans-Serif\" font-size=\"14.00\">value = [1, 5]</text>\n<text text-anchor=\"middle\" x=\"9638.5\" y=\"-111.8\" font-family=\"Helvetica,sans-Serif\" font-size=\"14.00\">class = sim</text>\n</g>\n<!-- 242&#45;&gt;244 -->\n<g id=\"edge244\" class=\"edge\">\n<title>242&#45;&gt;244</title>\n<path fill=\"none\" stroke=\"black\" d=\"M9586.26,-222.91C9592.34,-214.01 9598.84,-204.51 9605.11,-195.33\"/>\n<polygon fill=\"black\" stroke=\"black\" points=\"9608.04,-197.25 9610.79,-187.02 9602.26,-193.3 9608.04,-197.25\"/>\n</g>\n<!-- 245 -->\n<g id=\"node246\" class=\"node\">\n<title>245</title>\n<path fill=\"#e58139\" stroke=\"black\" d=\"M9616,-68C9616,-68 9545,-68 9545,-68 9539,-68 9533,-62 9533,-56 9533,-56 9533,-12 9533,-12 9533,-6 9539,0 9545,0 9545,0 9616,0 9616,0 9622,0 9628,-6 9628,-12 9628,-12 9628,-56 9628,-56 9628,-62 9622,-68 9616,-68\"/>\n<text text-anchor=\"middle\" x=\"9580.5\" y=\"-52.8\" font-family=\"Helvetica,sans-Serif\" font-size=\"14.00\">gini = 0.0</text>\n<text text-anchor=\"middle\" x=\"9580.5\" y=\"-37.8\" font-family=\"Helvetica,sans-Serif\" font-size=\"14.00\">samples = 1</text>\n<text text-anchor=\"middle\" x=\"9580.5\" y=\"-22.8\" font-family=\"Helvetica,sans-Serif\" font-size=\"14.00\">value = [1, 0]</text>\n<text text-anchor=\"middle\" x=\"9580.5\" y=\"-7.8\" font-family=\"Helvetica,sans-Serif\" font-size=\"14.00\">class = nao</text>\n</g>\n<!-- 244&#45;&gt;245 -->\n<g id=\"edge245\" class=\"edge\">\n<title>244&#45;&gt;245</title>\n<path fill=\"none\" stroke=\"black\" d=\"M9616.9,-103.73C9612.31,-95.06 9607.46,-85.9 9602.84,-77.18\"/>\n<polygon fill=\"black\" stroke=\"black\" points=\"9605.91,-75.5 9598.14,-68.3 9599.73,-78.77 9605.91,-75.5\"/>\n</g>\n<!-- 246 -->\n<g id=\"node247\" class=\"node\">\n<title>246</title>\n<path fill=\"#399de5\" stroke=\"black\" d=\"M9729,-68C9729,-68 9658,-68 9658,-68 9652,-68 9646,-62 9646,-56 9646,-56 9646,-12 9646,-12 9646,-6 9652,0 9658,0 9658,0 9729,0 9729,0 9735,0 9741,-6 9741,-12 9741,-12 9741,-56 9741,-56 9741,-62 9735,-68 9729,-68\"/>\n<text text-anchor=\"middle\" x=\"9693.5\" y=\"-52.8\" font-family=\"Helvetica,sans-Serif\" font-size=\"14.00\">gini = 0.0</text>\n<text text-anchor=\"middle\" x=\"9693.5\" y=\"-37.8\" font-family=\"Helvetica,sans-Serif\" font-size=\"14.00\">samples = 5</text>\n<text text-anchor=\"middle\" x=\"9693.5\" y=\"-22.8\" font-family=\"Helvetica,sans-Serif\" font-size=\"14.00\">value = [0, 5]</text>\n<text text-anchor=\"middle\" x=\"9693.5\" y=\"-7.8\" font-family=\"Helvetica,sans-Serif\" font-size=\"14.00\">class = sim</text>\n</g>\n<!-- 244&#45;&gt;246 -->\n<g id=\"edge246\" class=\"edge\">\n<title>244&#45;&gt;246</title>\n<path fill=\"none\" stroke=\"black\" d=\"M9658.98,-103.73C9663.29,-95.15 9667.84,-86.09 9672.18,-77.46\"/>\n<polygon fill=\"black\" stroke=\"black\" points=\"9675.41,-78.81 9676.77,-68.3 9669.16,-75.66 9675.41,-78.81\"/>\n</g>\n<!-- 248 -->\n<g id=\"node249\" class=\"node\">\n<title>248</title>\n<path fill=\"#ffffff\" stroke=\"black\" d=\"M9913,-187C9913,-187 9762,-187 9762,-187 9756,-187 9750,-181 9750,-175 9750,-175 9750,-116 9750,-116 9750,-110 9756,-104 9762,-104 9762,-104 9913,-104 9913,-104 9919,-104 9925,-110 9925,-116 9925,-116 9925,-175 9925,-175 9925,-181 9919,-187 9913,-187\"/>\n<text text-anchor=\"middle\" x=\"9837.5\" y=\"-171.8\" font-family=\"Helvetica,sans-Serif\" font-size=\"14.00\">idade_do_modelo &lt;= 13.5</text>\n<text text-anchor=\"middle\" x=\"9837.5\" y=\"-156.8\" font-family=\"Helvetica,sans-Serif\" font-size=\"14.00\">gini = 0.5</text>\n<text text-anchor=\"middle\" x=\"9837.5\" y=\"-141.8\" font-family=\"Helvetica,sans-Serif\" font-size=\"14.00\">samples = 6</text>\n<text text-anchor=\"middle\" x=\"9837.5\" y=\"-126.8\" font-family=\"Helvetica,sans-Serif\" font-size=\"14.00\">value = [3, 3]</text>\n<text text-anchor=\"middle\" x=\"9837.5\" y=\"-111.8\" font-family=\"Helvetica,sans-Serif\" font-size=\"14.00\">class = nao</text>\n</g>\n<!-- 247&#45;&gt;248 -->\n<g id=\"edge248\" class=\"edge\">\n<title>247&#45;&gt;248</title>\n<path fill=\"none\" stroke=\"black\" d=\"M9837.5,-222.91C9837.5,-214.65 9837.5,-205.86 9837.5,-197.3\"/>\n<polygon fill=\"black\" stroke=\"black\" points=\"9841,-197.02 9837.5,-187.02 9834,-197.02 9841,-197.02\"/>\n</g>\n<!-- 251 -->\n<g id=\"node252\" class=\"node\">\n<title>251</title>\n<path fill=\"#5aade9\" stroke=\"black\" d=\"M10114.5,-187C10114.5,-187 9958.5,-187 9958.5,-187 9952.5,-187 9946.5,-181 9946.5,-175 9946.5,-175 9946.5,-116 9946.5,-116 9946.5,-110 9952.5,-104 9958.5,-104 9958.5,-104 10114.5,-104 10114.5,-104 10120.5,-104 10126.5,-110 10126.5,-116 10126.5,-116 10126.5,-175 10126.5,-175 10126.5,-181 10120.5,-187 10114.5,-187\"/>\n<text text-anchor=\"middle\" x=\"10036.5\" y=\"-171.8\" font-family=\"Helvetica,sans-Serif\" font-size=\"14.00\">km_por_ano &lt;= 20836.125</text>\n<text text-anchor=\"middle\" x=\"10036.5\" y=\"-156.8\" font-family=\"Helvetica,sans-Serif\" font-size=\"14.00\">gini = 0.245</text>\n<text text-anchor=\"middle\" x=\"10036.5\" y=\"-141.8\" font-family=\"Helvetica,sans-Serif\" font-size=\"14.00\">samples = 21</text>\n<text text-anchor=\"middle\" x=\"10036.5\" y=\"-126.8\" font-family=\"Helvetica,sans-Serif\" font-size=\"14.00\">value = [3, 18]</text>\n<text text-anchor=\"middle\" x=\"10036.5\" y=\"-111.8\" font-family=\"Helvetica,sans-Serif\" font-size=\"14.00\">class = sim</text>\n</g>\n<!-- 247&#45;&gt;251 -->\n<g id=\"edge251\" class=\"edge\">\n<title>247&#45;&gt;251</title>\n<path fill=\"none\" stroke=\"black\" d=\"M9906.54,-222.91C9923.37,-213.02 9941.48,-202.37 9958.68,-192.25\"/>\n<polygon fill=\"black\" stroke=\"black\" points=\"9960.73,-195.11 9967.58,-187.02 9957.19,-189.07 9960.73,-195.11\"/>\n</g>\n<!-- 249 -->\n<g id=\"node250\" class=\"node\">\n<title>249</title>\n<path fill=\"#e58139\" stroke=\"black\" d=\"M9842,-68C9842,-68 9771,-68 9771,-68 9765,-68 9759,-62 9759,-56 9759,-56 9759,-12 9759,-12 9759,-6 9765,0 9771,0 9771,0 9842,0 9842,0 9848,0 9854,-6 9854,-12 9854,-12 9854,-56 9854,-56 9854,-62 9848,-68 9842,-68\"/>\n<text text-anchor=\"middle\" x=\"9806.5\" y=\"-52.8\" font-family=\"Helvetica,sans-Serif\" font-size=\"14.00\">gini = 0.0</text>\n<text text-anchor=\"middle\" x=\"9806.5\" y=\"-37.8\" font-family=\"Helvetica,sans-Serif\" font-size=\"14.00\">samples = 2</text>\n<text text-anchor=\"middle\" x=\"9806.5\" y=\"-22.8\" font-family=\"Helvetica,sans-Serif\" font-size=\"14.00\">value = [2, 0]</text>\n<text text-anchor=\"middle\" x=\"9806.5\" y=\"-7.8\" font-family=\"Helvetica,sans-Serif\" font-size=\"14.00\">class = nao</text>\n</g>\n<!-- 248&#45;&gt;249 -->\n<g id=\"edge249\" class=\"edge\">\n<title>248&#45;&gt;249</title>\n<path fill=\"none\" stroke=\"black\" d=\"M9825.96,-103.73C9823.58,-95.34 9821.07,-86.47 9818.68,-78.01\"/>\n<polygon fill=\"black\" stroke=\"black\" points=\"9822.02,-76.97 9815.93,-68.3 9815.28,-78.87 9822.02,-76.97\"/>\n</g>\n<!-- 250 -->\n<g id=\"node251\" class=\"node\">\n<title>250</title>\n<path fill=\"#7bbeee\" stroke=\"black\" d=\"M9955,-68C9955,-68 9884,-68 9884,-68 9878,-68 9872,-62 9872,-56 9872,-56 9872,-12 9872,-12 9872,-6 9878,0 9884,0 9884,0 9955,0 9955,0 9961,0 9967,-6 9967,-12 9967,-12 9967,-56 9967,-56 9967,-62 9961,-68 9955,-68\"/>\n<text text-anchor=\"middle\" x=\"9919.5\" y=\"-52.8\" font-family=\"Helvetica,sans-Serif\" font-size=\"14.00\">gini = 0.375</text>\n<text text-anchor=\"middle\" x=\"9919.5\" y=\"-37.8\" font-family=\"Helvetica,sans-Serif\" font-size=\"14.00\">samples = 4</text>\n<text text-anchor=\"middle\" x=\"9919.5\" y=\"-22.8\" font-family=\"Helvetica,sans-Serif\" font-size=\"14.00\">value = [1, 3]</text>\n<text text-anchor=\"middle\" x=\"9919.5\" y=\"-7.8\" font-family=\"Helvetica,sans-Serif\" font-size=\"14.00\">class = sim</text>\n</g>\n<!-- 248&#45;&gt;250 -->\n<g id=\"edge250\" class=\"edge\">\n<title>248&#45;&gt;250</title>\n<path fill=\"none\" stroke=\"black\" d=\"M9868.03,-103.73C9874.73,-94.79 9881.82,-85.32 9888.53,-76.36\"/>\n<polygon fill=\"black\" stroke=\"black\" points=\"9891.37,-78.4 9894.56,-68.3 9885.77,-74.21 9891.37,-78.4\"/>\n</g>\n<!-- 252 -->\n<g id=\"node253\" class=\"node\">\n<title>252</title>\n<path fill=\"#399de5\" stroke=\"black\" d=\"M10075.5,-68C10075.5,-68 9997.5,-68 9997.5,-68 9991.5,-68 9985.5,-62 9985.5,-56 9985.5,-56 9985.5,-12 9985.5,-12 9985.5,-6 9991.5,0 9997.5,0 9997.5,0 10075.5,0 10075.5,0 10081.5,0 10087.5,-6 10087.5,-12 10087.5,-12 10087.5,-56 10087.5,-56 10087.5,-62 10081.5,-68 10075.5,-68\"/>\n<text text-anchor=\"middle\" x=\"10036.5\" y=\"-52.8\" font-family=\"Helvetica,sans-Serif\" font-size=\"14.00\">gini = 0.0</text>\n<text text-anchor=\"middle\" x=\"10036.5\" y=\"-37.8\" font-family=\"Helvetica,sans-Serif\" font-size=\"14.00\">samples = 11</text>\n<text text-anchor=\"middle\" x=\"10036.5\" y=\"-22.8\" font-family=\"Helvetica,sans-Serif\" font-size=\"14.00\">value = [0, 11]</text>\n<text text-anchor=\"middle\" x=\"10036.5\" y=\"-7.8\" font-family=\"Helvetica,sans-Serif\" font-size=\"14.00\">class = sim</text>\n</g>\n<!-- 251&#45;&gt;252 -->\n<g id=\"edge252\" class=\"edge\">\n<title>251&#45;&gt;252</title>\n<path fill=\"none\" stroke=\"black\" d=\"M10036.5,-103.73C10036.5,-95.52 10036.5,-86.86 10036.5,-78.56\"/>\n<polygon fill=\"black\" stroke=\"black\" points=\"10040,-78.3 10036.5,-68.3 10033,-78.3 10040,-78.3\"/>\n</g>\n<!-- 253 -->\n<g id=\"node254\" class=\"node\">\n<title>253</title>\n<path fill=\"#8ec7f0\" stroke=\"black\" d=\"M10191.5,-68C10191.5,-68 10117.5,-68 10117.5,-68 10111.5,-68 10105.5,-62 10105.5,-56 10105.5,-56 10105.5,-12 10105.5,-12 10105.5,-6 10111.5,0 10117.5,0 10117.5,0 10191.5,0 10191.5,0 10197.5,0 10203.5,-6 10203.5,-12 10203.5,-12 10203.5,-56 10203.5,-56 10203.5,-62 10197.5,-68 10191.5,-68\"/>\n<text text-anchor=\"middle\" x=\"10154.5\" y=\"-52.8\" font-family=\"Helvetica,sans-Serif\" font-size=\"14.00\">gini = 0.42</text>\n<text text-anchor=\"middle\" x=\"10154.5\" y=\"-37.8\" font-family=\"Helvetica,sans-Serif\" font-size=\"14.00\">samples = 10</text>\n<text text-anchor=\"middle\" x=\"10154.5\" y=\"-22.8\" font-family=\"Helvetica,sans-Serif\" font-size=\"14.00\">value = [3, 7]</text>\n<text text-anchor=\"middle\" x=\"10154.5\" y=\"-7.8\" font-family=\"Helvetica,sans-Serif\" font-size=\"14.00\">class = sim</text>\n</g>\n<!-- 251&#45;&gt;253 -->\n<g id=\"edge253\" class=\"edge\">\n<title>251&#45;&gt;253</title>\n<path fill=\"none\" stroke=\"black\" d=\"M10080.44,-103.73C10090.46,-94.42 10101.11,-84.54 10111.11,-75.26\"/>\n<polygon fill=\"black\" stroke=\"black\" points=\"10113.67,-77.67 10118.62,-68.3 10108.9,-72.54 10113.67,-77.67\"/>\n</g>\n<!-- 257 -->\n<g id=\"node258\" class=\"node\">\n<title>257</title>\n<path fill=\"#e68742\" stroke=\"black\" d=\"M10909.5,-901C10909.5,-901 10795.5,-901 10795.5,-901 10789.5,-901 10783.5,-895 10783.5,-889 10783.5,-889 10783.5,-830 10783.5,-830 10783.5,-824 10789.5,-818 10795.5,-818 10795.5,-818 10909.5,-818 10909.5,-818 10915.5,-818 10921.5,-824 10921.5,-830 10921.5,-830 10921.5,-889 10921.5,-889 10921.5,-895 10915.5,-901 10909.5,-901\"/>\n<text text-anchor=\"middle\" x=\"10852.5\" y=\"-885.8\" font-family=\"Helvetica,sans-Serif\" font-size=\"14.00\">preco &lt;= 64403.439</text>\n<text text-anchor=\"middle\" x=\"10852.5\" y=\"-870.8\" font-family=\"Helvetica,sans-Serif\" font-size=\"14.00\">gini = 0.082</text>\n<text text-anchor=\"middle\" x=\"10852.5\" y=\"-855.8\" font-family=\"Helvetica,sans-Serif\" font-size=\"14.00\">samples = 1809</text>\n<text text-anchor=\"middle\" x=\"10852.5\" y=\"-840.8\" font-family=\"Helvetica,sans-Serif\" font-size=\"14.00\">value = [1732, 77]</text>\n<text text-anchor=\"middle\" x=\"10852.5\" y=\"-825.8\" font-family=\"Helvetica,sans-Serif\" font-size=\"14.00\">class = nao</text>\n</g>\n<!-- 256&#45;&gt;257 -->\n<g id=\"edge257\" class=\"edge\">\n<title>256&#45;&gt;257</title>\n<path fill=\"none\" stroke=\"black\" d=\"M10852.5,-936.91C10852.5,-928.65 10852.5,-919.86 10852.5,-911.3\"/>\n<polygon fill=\"black\" stroke=\"black\" points=\"10856,-911.02 10852.5,-901.02 10849,-911.02 10856,-911.02\"/>\n</g>\n<!-- 312 -->\n<g id=\"node313\" class=\"node\">\n<title>312</title>\n<path fill=\"#95cbf1\" stroke=\"black\" d=\"M12446.5,-901C12446.5,-901 12290.5,-901 12290.5,-901 12284.5,-901 12278.5,-895 12278.5,-889 12278.5,-889 12278.5,-830 12278.5,-830 12278.5,-824 12284.5,-818 12290.5,-818 12290.5,-818 12446.5,-818 12446.5,-818 12452.5,-818 12458.5,-824 12458.5,-830 12458.5,-830 12458.5,-889 12458.5,-889 12458.5,-895 12452.5,-901 12446.5,-901\"/>\n<text text-anchor=\"middle\" x=\"12368.5\" y=\"-885.8\" font-family=\"Helvetica,sans-Serif\" font-size=\"14.00\">km_por_ano &lt;= 49872.643</text>\n<text text-anchor=\"middle\" x=\"12368.5\" y=\"-870.8\" font-family=\"Helvetica,sans-Serif\" font-size=\"14.00\">gini = 0.433</text>\n<text text-anchor=\"middle\" x=\"12368.5\" y=\"-855.8\" font-family=\"Helvetica,sans-Serif\" font-size=\"14.00\">samples = 331</text>\n<text text-anchor=\"middle\" x=\"12368.5\" y=\"-840.8\" font-family=\"Helvetica,sans-Serif\" font-size=\"14.00\">value = [105, 226]</text>\n<text text-anchor=\"middle\" x=\"12368.5\" y=\"-825.8\" font-family=\"Helvetica,sans-Serif\" font-size=\"14.00\">class = sim</text>\n</g>\n<!-- 256&#45;&gt;312 -->\n<g id=\"edge312\" class=\"edge\">\n<title>256&#45;&gt;312</title>\n<path fill=\"none\" stroke=\"black\" d=\"M10925.62,-971.86C11173.63,-952.72 11983.19,-890.24 12268.16,-868.24\"/>\n<polygon fill=\"black\" stroke=\"black\" points=\"12268.78,-871.71 12278.48,-867.45 12268.24,-864.73 12268.78,-871.71\"/>\n</g>\n<!-- 258 -->\n<g id=\"node259\" class=\"node\">\n<title>258</title>\n<path fill=\"#e5833d\" stroke=\"black\" d=\"M10831.5,-782C10831.5,-782 10717.5,-782 10717.5,-782 10711.5,-782 10705.5,-776 10705.5,-770 10705.5,-770 10705.5,-711 10705.5,-711 10705.5,-705 10711.5,-699 10717.5,-699 10717.5,-699 10831.5,-699 10831.5,-699 10837.5,-699 10843.5,-705 10843.5,-711 10843.5,-711 10843.5,-770 10843.5,-770 10843.5,-776 10837.5,-782 10831.5,-782\"/>\n<text text-anchor=\"middle\" x=\"10774.5\" y=\"-766.8\" font-family=\"Helvetica,sans-Serif\" font-size=\"14.00\">preco &lt;= 62212.656</text>\n<text text-anchor=\"middle\" x=\"10774.5\" y=\"-751.8\" font-family=\"Helvetica,sans-Serif\" font-size=\"14.00\">gini = 0.036</text>\n<text text-anchor=\"middle\" x=\"10774.5\" y=\"-736.8\" font-family=\"Helvetica,sans-Serif\" font-size=\"14.00\">samples = 221</text>\n<text text-anchor=\"middle\" x=\"10774.5\" y=\"-721.8\" font-family=\"Helvetica,sans-Serif\" font-size=\"14.00\">value = [217, 4]</text>\n<text text-anchor=\"middle\" x=\"10774.5\" y=\"-706.8\" font-family=\"Helvetica,sans-Serif\" font-size=\"14.00\">class = nao</text>\n</g>\n<!-- 257&#45;&gt;258 -->\n<g id=\"edge258\" class=\"edge\">\n<title>257&#45;&gt;258</title>\n<path fill=\"none\" stroke=\"black\" d=\"M10825.44,-817.91C10819.57,-809.1 10813.3,-799.7 10807.24,-790.61\"/>\n<polygon fill=\"black\" stroke=\"black\" points=\"10809.97,-788.4 10801.51,-782.02 10804.15,-792.28 10809.97,-788.4\"/>\n</g>\n<!-- 273 -->\n<g id=\"node274\" class=\"node\">\n<title>273</title>\n<path fill=\"#e68743\" stroke=\"black\" d=\"M10982,-782C10982,-782 10875,-782 10875,-782 10869,-782 10863,-776 10863,-770 10863,-770 10863,-711 10863,-711 10863,-705 10869,-699 10875,-699 10875,-699 10982,-699 10982,-699 10988,-699 10994,-705 10994,-711 10994,-711 10994,-770 10994,-770 10994,-776 10988,-782 10982,-782\"/>\n<text text-anchor=\"middle\" x=\"10928.5\" y=\"-766.8\" font-family=\"Helvetica,sans-Serif\" font-size=\"14.00\">preco &lt;= 64460.48</text>\n<text text-anchor=\"middle\" x=\"10928.5\" y=\"-751.8\" font-family=\"Helvetica,sans-Serif\" font-size=\"14.00\">gini = 0.088</text>\n<text text-anchor=\"middle\" x=\"10928.5\" y=\"-736.8\" font-family=\"Helvetica,sans-Serif\" font-size=\"14.00\">samples = 1588</text>\n<text text-anchor=\"middle\" x=\"10928.5\" y=\"-721.8\" font-family=\"Helvetica,sans-Serif\" font-size=\"14.00\">value = [1515, 73]</text>\n<text text-anchor=\"middle\" x=\"10928.5\" y=\"-706.8\" font-family=\"Helvetica,sans-Serif\" font-size=\"14.00\">class = nao</text>\n</g>\n<!-- 257&#45;&gt;273 -->\n<g id=\"edge273\" class=\"edge\">\n<title>257&#45;&gt;273</title>\n<path fill=\"none\" stroke=\"black\" d=\"M10878.87,-817.91C10884.59,-809.1 10890.69,-799.7 10896.6,-790.61\"/>\n<polygon fill=\"black\" stroke=\"black\" points=\"10899.67,-792.31 10902.18,-782.02 10893.8,-788.5 10899.67,-792.31\"/>\n</g>\n<!-- 259 -->\n<g id=\"node260\" class=\"node\">\n<title>259</title>\n<path fill=\"#e68540\" stroke=\"black\" d=\"M10684.5,-663C10684.5,-663 10570.5,-663 10570.5,-663 10564.5,-663 10558.5,-657 10558.5,-651 10558.5,-651 10558.5,-592 10558.5,-592 10558.5,-586 10564.5,-580 10570.5,-580 10570.5,-580 10684.5,-580 10684.5,-580 10690.5,-580 10696.5,-586 10696.5,-592 10696.5,-592 10696.5,-651 10696.5,-651 10696.5,-657 10690.5,-663 10684.5,-663\"/>\n<text text-anchor=\"middle\" x=\"10627.5\" y=\"-647.8\" font-family=\"Helvetica,sans-Serif\" font-size=\"14.00\">preco &lt;= 62190.451</text>\n<text text-anchor=\"middle\" x=\"10627.5\" y=\"-632.8\" font-family=\"Helvetica,sans-Serif\" font-size=\"14.00\">gini = 0.064</text>\n<text text-anchor=\"middle\" x=\"10627.5\" y=\"-617.8\" font-family=\"Helvetica,sans-Serif\" font-size=\"14.00\">samples = 120</text>\n<text text-anchor=\"middle\" x=\"10627.5\" y=\"-602.8\" font-family=\"Helvetica,sans-Serif\" font-size=\"14.00\">value = [116, 4]</text>\n<text text-anchor=\"middle\" x=\"10627.5\" y=\"-587.8\" font-family=\"Helvetica,sans-Serif\" font-size=\"14.00\">class = nao</text>\n</g>\n<!-- 258&#45;&gt;259 -->\n<g id=\"edge259\" class=\"edge\">\n<title>258&#45;&gt;259</title>\n<path fill=\"none\" stroke=\"black\" d=\"M10723.5,-698.91C10711.53,-689.38 10698.67,-679.15 10686.39,-669.37\"/>\n<polygon fill=\"black\" stroke=\"black\" points=\"10688.41,-666.51 10678.41,-663.02 10684.06,-671.99 10688.41,-666.51\"/>\n</g>\n<!-- 272 -->\n<g id=\"node273\" class=\"node\">\n<title>272</title>\n<path fill=\"#e58139\" stroke=\"black\" d=\"M10817.5,-655.5C10817.5,-655.5 10731.5,-655.5 10731.5,-655.5 10725.5,-655.5 10719.5,-649.5 10719.5,-643.5 10719.5,-643.5 10719.5,-599.5 10719.5,-599.5 10719.5,-593.5 10725.5,-587.5 10731.5,-587.5 10731.5,-587.5 10817.5,-587.5 10817.5,-587.5 10823.5,-587.5 10829.5,-593.5 10829.5,-599.5 10829.5,-599.5 10829.5,-643.5 10829.5,-643.5 10829.5,-649.5 10823.5,-655.5 10817.5,-655.5\"/>\n<text text-anchor=\"middle\" x=\"10774.5\" y=\"-640.3\" font-family=\"Helvetica,sans-Serif\" font-size=\"14.00\">gini = 0.0</text>\n<text text-anchor=\"middle\" x=\"10774.5\" y=\"-625.3\" font-family=\"Helvetica,sans-Serif\" font-size=\"14.00\">samples = 101</text>\n<text text-anchor=\"middle\" x=\"10774.5\" y=\"-610.3\" font-family=\"Helvetica,sans-Serif\" font-size=\"14.00\">value = [101, 0]</text>\n<text text-anchor=\"middle\" x=\"10774.5\" y=\"-595.3\" font-family=\"Helvetica,sans-Serif\" font-size=\"14.00\">class = nao</text>\n</g>\n<!-- 258&#45;&gt;272 -->\n<g id=\"edge272\" class=\"edge\">\n<title>258&#45;&gt;272</title>\n<path fill=\"none\" stroke=\"black\" d=\"M10774.5,-698.91C10774.5,-688.2 10774.5,-676.62 10774.5,-665.78\"/>\n<polygon fill=\"black\" stroke=\"black\" points=\"10778,-665.67 10774.5,-655.67 10771,-665.67 10778,-665.67\"/>\n</g>\n<!-- 260 -->\n<g id=\"node261\" class=\"node\">\n<title>260</title>\n<path fill=\"#e6843e\" stroke=\"black\" d=\"M10539.5,-544C10539.5,-544 10425.5,-544 10425.5,-544 10419.5,-544 10413.5,-538 10413.5,-532 10413.5,-532 10413.5,-473 10413.5,-473 10413.5,-467 10419.5,-461 10425.5,-461 10425.5,-461 10539.5,-461 10539.5,-461 10545.5,-461 10551.5,-467 10551.5,-473 10551.5,-473 10551.5,-532 10551.5,-532 10551.5,-538 10545.5,-544 10539.5,-544\"/>\n<text text-anchor=\"middle\" x=\"10482.5\" y=\"-528.8\" font-family=\"Helvetica,sans-Serif\" font-size=\"14.00\">preco &lt;= 60224.531</text>\n<text text-anchor=\"middle\" x=\"10482.5\" y=\"-513.8\" font-family=\"Helvetica,sans-Serif\" font-size=\"14.00\">gini = 0.049</text>\n<text text-anchor=\"middle\" x=\"10482.5\" y=\"-498.8\" font-family=\"Helvetica,sans-Serif\" font-size=\"14.00\">samples = 119</text>\n<text text-anchor=\"middle\" x=\"10482.5\" y=\"-483.8\" font-family=\"Helvetica,sans-Serif\" font-size=\"14.00\">value = [116, 3]</text>\n<text text-anchor=\"middle\" x=\"10482.5\" y=\"-468.8\" font-family=\"Helvetica,sans-Serif\" font-size=\"14.00\">class = nao</text>\n</g>\n<!-- 259&#45;&gt;260 -->\n<g id=\"edge260\" class=\"edge\">\n<title>259&#45;&gt;260</title>\n<path fill=\"none\" stroke=\"black\" d=\"M10577.19,-579.91C10565.38,-570.38 10552.71,-560.15 10540.59,-550.37\"/>\n<polygon fill=\"black\" stroke=\"black\" points=\"10542.7,-547.58 10532.72,-544.02 10538.3,-553.02 10542.7,-547.58\"/>\n</g>\n<!-- 271 -->\n<g id=\"node272\" class=\"node\">\n<title>271</title>\n<path fill=\"#399de5\" stroke=\"black\" d=\"M10663,-536.5C10663,-536.5 10592,-536.5 10592,-536.5 10586,-536.5 10580,-530.5 10580,-524.5 10580,-524.5 10580,-480.5 10580,-480.5 10580,-474.5 10586,-468.5 10592,-468.5 10592,-468.5 10663,-468.5 10663,-468.5 10669,-468.5 10675,-474.5 10675,-480.5 10675,-480.5 10675,-524.5 10675,-524.5 10675,-530.5 10669,-536.5 10663,-536.5\"/>\n<text text-anchor=\"middle\" x=\"10627.5\" y=\"-521.3\" font-family=\"Helvetica,sans-Serif\" font-size=\"14.00\">gini = 0.0</text>\n<text text-anchor=\"middle\" x=\"10627.5\" y=\"-506.3\" font-family=\"Helvetica,sans-Serif\" font-size=\"14.00\">samples = 1</text>\n<text text-anchor=\"middle\" x=\"10627.5\" y=\"-491.3\" font-family=\"Helvetica,sans-Serif\" font-size=\"14.00\">value = [0, 1]</text>\n<text text-anchor=\"middle\" x=\"10627.5\" y=\"-476.3\" font-family=\"Helvetica,sans-Serif\" font-size=\"14.00\">class = sim</text>\n</g>\n<!-- 259&#45;&gt;271 -->\n<g id=\"edge271\" class=\"edge\">\n<title>259&#45;&gt;271</title>\n<path fill=\"none\" stroke=\"black\" d=\"M10627.5,-579.91C10627.5,-569.2 10627.5,-557.62 10627.5,-546.78\"/>\n<polygon fill=\"black\" stroke=\"black\" points=\"10631,-546.67 10627.5,-536.67 10624,-546.67 10631,-546.67\"/>\n</g>\n<!-- 261 -->\n<g id=\"node262\" class=\"node\">\n<title>261</title>\n<path fill=\"#e78c4b\" stroke=\"black\" d=\"M10325.5,-425C10325.5,-425 10211.5,-425 10211.5,-425 10205.5,-425 10199.5,-419 10199.5,-413 10199.5,-413 10199.5,-354 10199.5,-354 10199.5,-348 10205.5,-342 10211.5,-342 10211.5,-342 10325.5,-342 10325.5,-342 10331.5,-342 10337.5,-348 10337.5,-354 10337.5,-354 10337.5,-413 10337.5,-413 10337.5,-419 10331.5,-425 10325.5,-425\"/>\n<text text-anchor=\"middle\" x=\"10268.5\" y=\"-409.8\" font-family=\"Helvetica,sans-Serif\" font-size=\"14.00\">preco &lt;= 60216.701</text>\n<text text-anchor=\"middle\" x=\"10268.5\" y=\"-394.8\" font-family=\"Helvetica,sans-Serif\" font-size=\"14.00\">gini = 0.153</text>\n<text text-anchor=\"middle\" x=\"10268.5\" y=\"-379.8\" font-family=\"Helvetica,sans-Serif\" font-size=\"14.00\">samples = 12</text>\n<text text-anchor=\"middle\" x=\"10268.5\" y=\"-364.8\" font-family=\"Helvetica,sans-Serif\" font-size=\"14.00\">value = [11, 1]</text>\n<text text-anchor=\"middle\" x=\"10268.5\" y=\"-349.8\" font-family=\"Helvetica,sans-Serif\" font-size=\"14.00\">class = nao</text>\n</g>\n<!-- 260&#45;&gt;261 -->\n<g id=\"edge261\" class=\"edge\">\n<title>260&#45;&gt;261</title>\n<path fill=\"none\" stroke=\"black\" d=\"M10413.32,-463.68C10392.06,-452.06 10368.53,-439.19 10346.72,-427.26\"/>\n<polygon fill=\"black\" stroke=\"black\" points=\"10348.27,-424.12 10337.81,-422.4 10344.91,-430.26 10348.27,-424.12\"/>\n</g>\n<!-- 264 -->\n<g id=\"node265\" class=\"node\">\n<title>264</title>\n<path fill=\"#e5833d\" stroke=\"black\" d=\"M10558,-425C10558,-425 10407,-425 10407,-425 10401,-425 10395,-419 10395,-413 10395,-413 10395,-354 10395,-354 10395,-348 10401,-342 10407,-342 10407,-342 10558,-342 10558,-342 10564,-342 10570,-348 10570,-354 10570,-354 10570,-413 10570,-413 10570,-419 10564,-425 10558,-425\"/>\n<text text-anchor=\"middle\" x=\"10482.5\" y=\"-409.8\" font-family=\"Helvetica,sans-Serif\" font-size=\"14.00\">idade_do_modelo &lt;= 12.5</text>\n<text text-anchor=\"middle\" x=\"10482.5\" y=\"-394.8\" font-family=\"Helvetica,sans-Serif\" font-size=\"14.00\">gini = 0.037</text>\n<text text-anchor=\"middle\" x=\"10482.5\" y=\"-379.8\" font-family=\"Helvetica,sans-Serif\" font-size=\"14.00\">samples = 107</text>\n<text text-anchor=\"middle\" x=\"10482.5\" y=\"-364.8\" font-family=\"Helvetica,sans-Serif\" font-size=\"14.00\">value = [105, 2]</text>\n<text text-anchor=\"middle\" x=\"10482.5\" y=\"-349.8\" font-family=\"Helvetica,sans-Serif\" font-size=\"14.00\">class = nao</text>\n</g>\n<!-- 260&#45;&gt;264 -->\n<g id=\"edge264\" class=\"edge\">\n<title>260&#45;&gt;264</title>\n<path fill=\"none\" stroke=\"black\" d=\"M10482.5,-460.91C10482.5,-452.65 10482.5,-443.86 10482.5,-435.3\"/>\n<polygon fill=\"black\" stroke=\"black\" points=\"10486,-435.02 10482.5,-425.02 10479,-435.02 10486,-435.02\"/>\n</g>\n<!-- 262 -->\n<g id=\"node263\" class=\"node\">\n<title>262</title>\n<path fill=\"#e58139\" stroke=\"black\" d=\"M10190.5,-298.5C10190.5,-298.5 10112.5,-298.5 10112.5,-298.5 10106.5,-298.5 10100.5,-292.5 10100.5,-286.5 10100.5,-286.5 10100.5,-242.5 10100.5,-242.5 10100.5,-236.5 10106.5,-230.5 10112.5,-230.5 10112.5,-230.5 10190.5,-230.5 10190.5,-230.5 10196.5,-230.5 10202.5,-236.5 10202.5,-242.5 10202.5,-242.5 10202.5,-286.5 10202.5,-286.5 10202.5,-292.5 10196.5,-298.5 10190.5,-298.5\"/>\n<text text-anchor=\"middle\" x=\"10151.5\" y=\"-283.3\" font-family=\"Helvetica,sans-Serif\" font-size=\"14.00\">gini = 0.0</text>\n<text text-anchor=\"middle\" x=\"10151.5\" y=\"-268.3\" font-family=\"Helvetica,sans-Serif\" font-size=\"14.00\">samples = 11</text>\n<text text-anchor=\"middle\" x=\"10151.5\" y=\"-253.3\" font-family=\"Helvetica,sans-Serif\" font-size=\"14.00\">value = [11, 0]</text>\n<text text-anchor=\"middle\" x=\"10151.5\" y=\"-238.3\" font-family=\"Helvetica,sans-Serif\" font-size=\"14.00\">class = nao</text>\n</g>\n<!-- 261&#45;&gt;262 -->\n<g id=\"edge262\" class=\"edge\">\n<title>261&#45;&gt;262</title>\n<path fill=\"none\" stroke=\"black\" d=\"M10227.91,-341.91C10216.21,-330.21 10203.46,-317.46 10191.78,-305.78\"/>\n<polygon fill=\"black\" stroke=\"black\" points=\"10194.21,-303.26 10184.67,-298.67 10189.26,-308.21 10194.21,-303.26\"/>\n</g>\n<!-- 263 -->\n<g id=\"node264\" class=\"node\">\n<title>263</title>\n<path fill=\"#399de5\" stroke=\"black\" d=\"M10304,-298.5C10304,-298.5 10233,-298.5 10233,-298.5 10227,-298.5 10221,-292.5 10221,-286.5 10221,-286.5 10221,-242.5 10221,-242.5 10221,-236.5 10227,-230.5 10233,-230.5 10233,-230.5 10304,-230.5 10304,-230.5 10310,-230.5 10316,-236.5 10316,-242.5 10316,-242.5 10316,-286.5 10316,-286.5 10316,-292.5 10310,-298.5 10304,-298.5\"/>\n<text text-anchor=\"middle\" x=\"10268.5\" y=\"-283.3\" font-family=\"Helvetica,sans-Serif\" font-size=\"14.00\">gini = 0.0</text>\n<text text-anchor=\"middle\" x=\"10268.5\" y=\"-268.3\" font-family=\"Helvetica,sans-Serif\" font-size=\"14.00\">samples = 1</text>\n<text text-anchor=\"middle\" x=\"10268.5\" y=\"-253.3\" font-family=\"Helvetica,sans-Serif\" font-size=\"14.00\">value = [0, 1]</text>\n<text text-anchor=\"middle\" x=\"10268.5\" y=\"-238.3\" font-family=\"Helvetica,sans-Serif\" font-size=\"14.00\">class = sim</text>\n</g>\n<!-- 261&#45;&gt;263 -->\n<g id=\"edge263\" class=\"edge\">\n<title>261&#45;&gt;263</title>\n<path fill=\"none\" stroke=\"black\" d=\"M10268.5,-341.91C10268.5,-331.2 10268.5,-319.62 10268.5,-308.78\"/>\n<polygon fill=\"black\" stroke=\"black\" points=\"10272,-308.67 10268.5,-298.67 10265,-308.67 10272,-308.67\"/>\n</g>\n<!-- 265 -->\n<g id=\"node266\" class=\"node\">\n<title>265</title>\n<path fill=\"#e78945\" stroke=\"black\" d=\"M10502.5,-306C10502.5,-306 10346.5,-306 10346.5,-306 10340.5,-306 10334.5,-300 10334.5,-294 10334.5,-294 10334.5,-235 10334.5,-235 10334.5,-229 10340.5,-223 10346.5,-223 10346.5,-223 10502.5,-223 10502.5,-223 10508.5,-223 10514.5,-229 10514.5,-235 10514.5,-235 10514.5,-294 10514.5,-294 10514.5,-300 10508.5,-306 10502.5,-306\"/>\n<text text-anchor=\"middle\" x=\"10424.5\" y=\"-290.8\" font-family=\"Helvetica,sans-Serif\" font-size=\"14.00\">km_por_ano &lt;= 28574.636</text>\n<text text-anchor=\"middle\" x=\"10424.5\" y=\"-275.8\" font-family=\"Helvetica,sans-Serif\" font-size=\"14.00\">gini = 0.108</text>\n<text text-anchor=\"middle\" x=\"10424.5\" y=\"-260.8\" font-family=\"Helvetica,sans-Serif\" font-size=\"14.00\">samples = 35</text>\n<text text-anchor=\"middle\" x=\"10424.5\" y=\"-245.8\" font-family=\"Helvetica,sans-Serif\" font-size=\"14.00\">value = [33, 2]</text>\n<text text-anchor=\"middle\" x=\"10424.5\" y=\"-230.8\" font-family=\"Helvetica,sans-Serif\" font-size=\"14.00\">class = nao</text>\n</g>\n<!-- 264&#45;&gt;265 -->\n<g id=\"edge265\" class=\"edge\">\n<title>264&#45;&gt;265</title>\n<path fill=\"none\" stroke=\"black\" d=\"M10462.38,-341.91C10458.1,-333.29 10453.54,-324.09 10449.13,-315.17\"/>\n<polygon fill=\"black\" stroke=\"black\" points=\"10452.16,-313.43 10444.59,-306.02 10445.89,-316.53 10452.16,-313.43\"/>\n</g>\n<!-- 270 -->\n<g id=\"node271\" class=\"node\">\n<title>270</title>\n<path fill=\"#e58139\" stroke=\"black\" d=\"M10622.5,-298.5C10622.5,-298.5 10544.5,-298.5 10544.5,-298.5 10538.5,-298.5 10532.5,-292.5 10532.5,-286.5 10532.5,-286.5 10532.5,-242.5 10532.5,-242.5 10532.5,-236.5 10538.5,-230.5 10544.5,-230.5 10544.5,-230.5 10622.5,-230.5 10622.5,-230.5 10628.5,-230.5 10634.5,-236.5 10634.5,-242.5 10634.5,-242.5 10634.5,-286.5 10634.5,-286.5 10634.5,-292.5 10628.5,-298.5 10622.5,-298.5\"/>\n<text text-anchor=\"middle\" x=\"10583.5\" y=\"-283.3\" font-family=\"Helvetica,sans-Serif\" font-size=\"14.00\">gini = 0.0</text>\n<text text-anchor=\"middle\" x=\"10583.5\" y=\"-268.3\" font-family=\"Helvetica,sans-Serif\" font-size=\"14.00\">samples = 72</text>\n<text text-anchor=\"middle\" x=\"10583.5\" y=\"-253.3\" font-family=\"Helvetica,sans-Serif\" font-size=\"14.00\">value = [72, 0]</text>\n<text text-anchor=\"middle\" x=\"10583.5\" y=\"-238.3\" font-family=\"Helvetica,sans-Serif\" font-size=\"14.00\">class = nao</text>\n</g>\n<!-- 264&#45;&gt;270 -->\n<g id=\"edge270\" class=\"edge\">\n<title>264&#45;&gt;270</title>\n<path fill=\"none\" stroke=\"black\" d=\"M10517.54,-341.91C10527.45,-330.43 10538.23,-317.94 10548.16,-306.44\"/>\n<polygon fill=\"black\" stroke=\"black\" points=\"10550.98,-308.52 10554.87,-298.67 10545.68,-303.95 10550.98,-308.52\"/>\n</g>\n<!-- 266 -->\n<g id=\"node267\" class=\"node\">\n<title>266</title>\n<path fill=\"#e99355\" stroke=\"black\" d=\"M10343,-187C10343,-187 10202,-187 10202,-187 10196,-187 10190,-181 10190,-175 10190,-175 10190,-116 10190,-116 10190,-110 10196,-104 10202,-104 10202,-104 10343,-104 10343,-104 10349,-104 10355,-110 10355,-116 10355,-116 10355,-175 10355,-175 10355,-181 10349,-187 10343,-187\"/>\n<text text-anchor=\"middle\" x=\"10272.5\" y=\"-171.8\" font-family=\"Helvetica,sans-Serif\" font-size=\"14.00\">km_por_ano &lt;= 28103.1</text>\n<text text-anchor=\"middle\" x=\"10272.5\" y=\"-156.8\" font-family=\"Helvetica,sans-Serif\" font-size=\"14.00\">gini = 0.219</text>\n<text text-anchor=\"middle\" x=\"10272.5\" y=\"-141.8\" font-family=\"Helvetica,sans-Serif\" font-size=\"14.00\">samples = 16</text>\n<text text-anchor=\"middle\" x=\"10272.5\" y=\"-126.8\" font-family=\"Helvetica,sans-Serif\" font-size=\"14.00\">value = [14, 2]</text>\n<text text-anchor=\"middle\" x=\"10272.5\" y=\"-111.8\" font-family=\"Helvetica,sans-Serif\" font-size=\"14.00\">class = nao</text>\n</g>\n<!-- 265&#45;&gt;266 -->\n<g id=\"edge266\" class=\"edge\">\n<title>265&#45;&gt;266</title>\n<path fill=\"none\" stroke=\"black\" d=\"M10371.76,-222.91C10359.38,-213.38 10346.09,-203.15 10333.39,-193.37\"/>\n<polygon fill=\"black\" stroke=\"black\" points=\"10335.2,-190.35 10325.14,-187.02 10330.93,-195.89 10335.2,-190.35\"/>\n</g>\n<!-- 269 -->\n<g id=\"node270\" class=\"node\">\n<title>269</title>\n<path fill=\"#e58139\" stroke=\"black\" d=\"M10463.5,-179.5C10463.5,-179.5 10385.5,-179.5 10385.5,-179.5 10379.5,-179.5 10373.5,-173.5 10373.5,-167.5 10373.5,-167.5 10373.5,-123.5 10373.5,-123.5 10373.5,-117.5 10379.5,-111.5 10385.5,-111.5 10385.5,-111.5 10463.5,-111.5 10463.5,-111.5 10469.5,-111.5 10475.5,-117.5 10475.5,-123.5 10475.5,-123.5 10475.5,-167.5 10475.5,-167.5 10475.5,-173.5 10469.5,-179.5 10463.5,-179.5\"/>\n<text text-anchor=\"middle\" x=\"10424.5\" y=\"-164.3\" font-family=\"Helvetica,sans-Serif\" font-size=\"14.00\">gini = 0.0</text>\n<text text-anchor=\"middle\" x=\"10424.5\" y=\"-149.3\" font-family=\"Helvetica,sans-Serif\" font-size=\"14.00\">samples = 19</text>\n<text text-anchor=\"middle\" x=\"10424.5\" y=\"-134.3\" font-family=\"Helvetica,sans-Serif\" font-size=\"14.00\">value = [19, 0]</text>\n<text text-anchor=\"middle\" x=\"10424.5\" y=\"-119.3\" font-family=\"Helvetica,sans-Serif\" font-size=\"14.00\">class = nao</text>\n</g>\n<!-- 265&#45;&gt;269 -->\n<g id=\"edge269\" class=\"edge\">\n<title>265&#45;&gt;269</title>\n<path fill=\"none\" stroke=\"black\" d=\"M10424.5,-222.91C10424.5,-212.2 10424.5,-200.62 10424.5,-189.78\"/>\n<polygon fill=\"black\" stroke=\"black\" points=\"10428,-189.67 10424.5,-179.67 10421,-189.67 10428,-189.67\"/>\n</g>\n<!-- 267 -->\n<g id=\"node268\" class=\"node\">\n<title>267</title>\n<path fill=\"#e78a47\" stroke=\"black\" d=\"M10311.5,-68C10311.5,-68 10233.5,-68 10233.5,-68 10227.5,-68 10221.5,-62 10221.5,-56 10221.5,-56 10221.5,-12 10221.5,-12 10221.5,-6 10227.5,0 10233.5,0 10233.5,0 10311.5,0 10311.5,0 10317.5,0 10323.5,-6 10323.5,-12 10323.5,-12 10323.5,-56 10323.5,-56 10323.5,-62 10317.5,-68 10311.5,-68\"/>\n<text text-anchor=\"middle\" x=\"10272.5\" y=\"-52.8\" font-family=\"Helvetica,sans-Serif\" font-size=\"14.00\">gini = 0.124</text>\n<text text-anchor=\"middle\" x=\"10272.5\" y=\"-37.8\" font-family=\"Helvetica,sans-Serif\" font-size=\"14.00\">samples = 15</text>\n<text text-anchor=\"middle\" x=\"10272.5\" y=\"-22.8\" font-family=\"Helvetica,sans-Serif\" font-size=\"14.00\">value = [14, 1]</text>\n<text text-anchor=\"middle\" x=\"10272.5\" y=\"-7.8\" font-family=\"Helvetica,sans-Serif\" font-size=\"14.00\">class = nao</text>\n</g>\n<!-- 266&#45;&gt;267 -->\n<g id=\"edge267\" class=\"edge\">\n<title>266&#45;&gt;267</title>\n<path fill=\"none\" stroke=\"black\" d=\"M10272.5,-103.73C10272.5,-95.52 10272.5,-86.86 10272.5,-78.56\"/>\n<polygon fill=\"black\" stroke=\"black\" points=\"10276,-78.3 10272.5,-68.3 10269,-78.3 10276,-78.3\"/>\n</g>\n<!-- 268 -->\n<g id=\"node269\" class=\"node\">\n<title>268</title>\n<path fill=\"#399de5\" stroke=\"black\" d=\"M10425,-68C10425,-68 10354,-68 10354,-68 10348,-68 10342,-62 10342,-56 10342,-56 10342,-12 10342,-12 10342,-6 10348,0 10354,0 10354,0 10425,0 10425,0 10431,0 10437,-6 10437,-12 10437,-12 10437,-56 10437,-56 10437,-62 10431,-68 10425,-68\"/>\n<text text-anchor=\"middle\" x=\"10389.5\" y=\"-52.8\" font-family=\"Helvetica,sans-Serif\" font-size=\"14.00\">gini = 0.0</text>\n<text text-anchor=\"middle\" x=\"10389.5\" y=\"-37.8\" font-family=\"Helvetica,sans-Serif\" font-size=\"14.00\">samples = 1</text>\n<text text-anchor=\"middle\" x=\"10389.5\" y=\"-22.8\" font-family=\"Helvetica,sans-Serif\" font-size=\"14.00\">value = [0, 1]</text>\n<text text-anchor=\"middle\" x=\"10389.5\" y=\"-7.8\" font-family=\"Helvetica,sans-Serif\" font-size=\"14.00\">class = sim</text>\n</g>\n<!-- 266&#45;&gt;268 -->\n<g id=\"edge268\" class=\"edge\">\n<title>266&#45;&gt;268</title>\n<path fill=\"none\" stroke=\"black\" d=\"M10316.07,-103.73C10326.01,-94.42 10336.56,-84.54 10346.48,-75.26\"/>\n<polygon fill=\"black\" stroke=\"black\" points=\"10349.01,-77.69 10353.92,-68.3 10344.23,-72.58 10349.01,-77.69\"/>\n</g>\n<!-- 274 -->\n<g id=\"node275\" class=\"node\">\n<title>274</title>\n<path fill=\"#399de5\" stroke=\"black\" d=\"M10964,-655.5C10964,-655.5 10893,-655.5 10893,-655.5 10887,-655.5 10881,-649.5 10881,-643.5 10881,-643.5 10881,-599.5 10881,-599.5 10881,-593.5 10887,-587.5 10893,-587.5 10893,-587.5 10964,-587.5 10964,-587.5 10970,-587.5 10976,-593.5 10976,-599.5 10976,-599.5 10976,-643.5 10976,-643.5 10976,-649.5 10970,-655.5 10964,-655.5\"/>\n<text text-anchor=\"middle\" x=\"10928.5\" y=\"-640.3\" font-family=\"Helvetica,sans-Serif\" font-size=\"14.00\">gini = 0.0</text>\n<text text-anchor=\"middle\" x=\"10928.5\" y=\"-625.3\" font-family=\"Helvetica,sans-Serif\" font-size=\"14.00\">samples = 1</text>\n<text text-anchor=\"middle\" x=\"10928.5\" y=\"-610.3\" font-family=\"Helvetica,sans-Serif\" font-size=\"14.00\">value = [0, 1]</text>\n<text text-anchor=\"middle\" x=\"10928.5\" y=\"-595.3\" font-family=\"Helvetica,sans-Serif\" font-size=\"14.00\">class = sim</text>\n</g>\n<!-- 273&#45;&gt;274 -->\n<g id=\"edge274\" class=\"edge\">\n<title>273&#45;&gt;274</title>\n<path fill=\"none\" stroke=\"black\" d=\"M10928.5,-698.91C10928.5,-688.2 10928.5,-676.62 10928.5,-665.78\"/>\n<polygon fill=\"black\" stroke=\"black\" points=\"10932,-665.67 10928.5,-655.67 10925,-665.67 10932,-665.67\"/>\n</g>\n<!-- 275 -->\n<g id=\"node276\" class=\"node\">\n<title>275</title>\n<path fill=\"#e68742\" stroke=\"black\" d=\"M11122.5,-663C11122.5,-663 11008.5,-663 11008.5,-663 11002.5,-663 10996.5,-657 10996.5,-651 10996.5,-651 10996.5,-592 10996.5,-592 10996.5,-586 11002.5,-580 11008.5,-580 11008.5,-580 11122.5,-580 11122.5,-580 11128.5,-580 11134.5,-586 11134.5,-592 11134.5,-592 11134.5,-651 11134.5,-651 11134.5,-657 11128.5,-663 11122.5,-663\"/>\n<text text-anchor=\"middle\" x=\"11065.5\" y=\"-647.8\" font-family=\"Helvetica,sans-Serif\" font-size=\"14.00\">preco &lt;= 68418.574</text>\n<text text-anchor=\"middle\" x=\"11065.5\" y=\"-632.8\" font-family=\"Helvetica,sans-Serif\" font-size=\"14.00\">gini = 0.087</text>\n<text text-anchor=\"middle\" x=\"11065.5\" y=\"-617.8\" font-family=\"Helvetica,sans-Serif\" font-size=\"14.00\">samples = 1587</text>\n<text text-anchor=\"middle\" x=\"11065.5\" y=\"-602.8\" font-family=\"Helvetica,sans-Serif\" font-size=\"14.00\">value = [1515, 72]</text>\n<text text-anchor=\"middle\" x=\"11065.5\" y=\"-587.8\" font-family=\"Helvetica,sans-Serif\" font-size=\"14.00\">class = nao</text>\n</g>\n<!-- 273&#45;&gt;275 -->\n<g id=\"edge275\" class=\"edge\">\n<title>273&#45;&gt;275</title>\n<path fill=\"none\" stroke=\"black\" d=\"M10976.03,-698.91C10987.08,-689.47 10998.94,-679.34 11010.29,-669.65\"/>\n<polygon fill=\"black\" stroke=\"black\" points=\"11012.72,-672.18 11018.05,-663.02 11008.18,-666.85 11012.72,-672.18\"/>\n</g>\n<!-- 276 -->\n<g id=\"node277\" class=\"node\">\n<title>276</title>\n<path fill=\"#e78b49\" stroke=\"black\" d=\"M11122.5,-544C11122.5,-544 11008.5,-544 11008.5,-544 11002.5,-544 10996.5,-538 10996.5,-532 10996.5,-532 10996.5,-473 10996.5,-473 10996.5,-467 11002.5,-461 11008.5,-461 11008.5,-461 11122.5,-461 11122.5,-461 11128.5,-461 11134.5,-467 11134.5,-473 11134.5,-473 11134.5,-532 11134.5,-532 11134.5,-538 11128.5,-544 11122.5,-544\"/>\n<text text-anchor=\"middle\" x=\"11065.5\" y=\"-528.8\" font-family=\"Helvetica,sans-Serif\" font-size=\"14.00\">preco &lt;= 68383.875</text>\n<text text-anchor=\"middle\" x=\"11065.5\" y=\"-513.8\" font-family=\"Helvetica,sans-Serif\" font-size=\"14.00\">gini = 0.137</text>\n<text text-anchor=\"middle\" x=\"11065.5\" y=\"-498.8\" font-family=\"Helvetica,sans-Serif\" font-size=\"14.00\">samples = 189</text>\n<text text-anchor=\"middle\" x=\"11065.5\" y=\"-483.8\" font-family=\"Helvetica,sans-Serif\" font-size=\"14.00\">value = [175, 14]</text>\n<text text-anchor=\"middle\" x=\"11065.5\" y=\"-468.8\" font-family=\"Helvetica,sans-Serif\" font-size=\"14.00\">class = nao</text>\n</g>\n<!-- 275&#45;&gt;276 -->\n<g id=\"edge276\" class=\"edge\">\n<title>275&#45;&gt;276</title>\n<path fill=\"none\" stroke=\"black\" d=\"M11065.5,-579.91C11065.5,-571.65 11065.5,-562.86 11065.5,-554.3\"/>\n<polygon fill=\"black\" stroke=\"black\" points=\"11069,-554.02 11065.5,-544.02 11062,-554.02 11069,-554.02\"/>\n</g>\n<!-- 291 -->\n<g id=\"node292\" class=\"node\">\n<title>291</title>\n<path fill=\"#e68642\" stroke=\"black\" d=\"M11494.5,-544C11494.5,-544 11338.5,-544 11338.5,-544 11332.5,-544 11326.5,-538 11326.5,-532 11326.5,-532 11326.5,-473 11326.5,-473 11326.5,-467 11332.5,-461 11338.5,-461 11338.5,-461 11494.5,-461 11494.5,-461 11500.5,-461 11506.5,-467 11506.5,-473 11506.5,-473 11506.5,-532 11506.5,-532 11506.5,-538 11500.5,-544 11494.5,-544\"/>\n<text text-anchor=\"middle\" x=\"11416.5\" y=\"-528.8\" font-family=\"Helvetica,sans-Serif\" font-size=\"14.00\">km_por_ano &lt;= 24225.395</text>\n<text text-anchor=\"middle\" x=\"11416.5\" y=\"-513.8\" font-family=\"Helvetica,sans-Serif\" font-size=\"14.00\">gini = 0.08</text>\n<text text-anchor=\"middle\" x=\"11416.5\" y=\"-498.8\" font-family=\"Helvetica,sans-Serif\" font-size=\"14.00\">samples = 1398</text>\n<text text-anchor=\"middle\" x=\"11416.5\" y=\"-483.8\" font-family=\"Helvetica,sans-Serif\" font-size=\"14.00\">value = [1340, 58]</text>\n<text text-anchor=\"middle\" x=\"11416.5\" y=\"-468.8\" font-family=\"Helvetica,sans-Serif\" font-size=\"14.00\">class = nao</text>\n</g>\n<!-- 275&#45;&gt;291 -->\n<g id=\"edge291\" class=\"edge\">\n<title>275&#45;&gt;291</title>\n<path fill=\"none\" stroke=\"black\" d=\"M11134.85,-597.38C11186.8,-580.07 11258.62,-556.13 11316.74,-536.75\"/>\n<polygon fill=\"black\" stroke=\"black\" points=\"11317.93,-540.04 11326.31,-533.56 11315.72,-533.4 11317.93,-540.04\"/>\n</g>\n<!-- 277 -->\n<g id=\"node278\" class=\"node\">\n<title>277</title>\n<path fill=\"#e78a48\" stroke=\"black\" d=\"M11007.5,-425C11007.5,-425 10893.5,-425 10893.5,-425 10887.5,-425 10881.5,-419 10881.5,-413 10881.5,-413 10881.5,-354 10881.5,-354 10881.5,-348 10887.5,-342 10893.5,-342 10893.5,-342 11007.5,-342 11007.5,-342 11013.5,-342 11019.5,-348 11019.5,-354 11019.5,-354 11019.5,-413 11019.5,-413 11019.5,-419 11013.5,-425 11007.5,-425\"/>\n<text text-anchor=\"middle\" x=\"10950.5\" y=\"-409.8\" font-family=\"Helvetica,sans-Serif\" font-size=\"14.00\">preco &lt;= 67886.156</text>\n<text text-anchor=\"middle\" x=\"10950.5\" y=\"-394.8\" font-family=\"Helvetica,sans-Serif\" font-size=\"14.00\">gini = 0.129</text>\n<text text-anchor=\"middle\" x=\"10950.5\" y=\"-379.8\" font-family=\"Helvetica,sans-Serif\" font-size=\"14.00\">samples = 188</text>\n<text text-anchor=\"middle\" x=\"10950.5\" y=\"-364.8\" font-family=\"Helvetica,sans-Serif\" font-size=\"14.00\">value = [175, 13]</text>\n<text text-anchor=\"middle\" x=\"10950.5\" y=\"-349.8\" font-family=\"Helvetica,sans-Serif\" font-size=\"14.00\">class = nao</text>\n</g>\n<!-- 276&#45;&gt;277 -->\n<g id=\"edge277\" class=\"edge\">\n<title>276&#45;&gt;277</title>\n<path fill=\"none\" stroke=\"black\" d=\"M11025.6,-460.91C11016.5,-451.65 11006.75,-441.73 10997.39,-432.21\"/>\n<polygon fill=\"black\" stroke=\"black\" points=\"10999.83,-429.7 10990.33,-425.02 10994.84,-434.61 10999.83,-429.7\"/>\n</g>\n<!-- 290 -->\n<g id=\"node291\" class=\"node\">\n<title>290</title>\n<path fill=\"#399de5\" stroke=\"black\" d=\"M11121,-417.5C11121,-417.5 11050,-417.5 11050,-417.5 11044,-417.5 11038,-411.5 11038,-405.5 11038,-405.5 11038,-361.5 11038,-361.5 11038,-355.5 11044,-349.5 11050,-349.5 11050,-349.5 11121,-349.5 11121,-349.5 11127,-349.5 11133,-355.5 11133,-361.5 11133,-361.5 11133,-405.5 11133,-405.5 11133,-411.5 11127,-417.5 11121,-417.5\"/>\n<text text-anchor=\"middle\" x=\"11085.5\" y=\"-402.3\" font-family=\"Helvetica,sans-Serif\" font-size=\"14.00\">gini = 0.0</text>\n<text text-anchor=\"middle\" x=\"11085.5\" y=\"-387.3\" font-family=\"Helvetica,sans-Serif\" font-size=\"14.00\">samples = 1</text>\n<text text-anchor=\"middle\" x=\"11085.5\" y=\"-372.3\" font-family=\"Helvetica,sans-Serif\" font-size=\"14.00\">value = [0, 1]</text>\n<text text-anchor=\"middle\" x=\"11085.5\" y=\"-357.3\" font-family=\"Helvetica,sans-Serif\" font-size=\"14.00\">class = sim</text>\n</g>\n<!-- 276&#45;&gt;290 -->\n<g id=\"edge290\" class=\"edge\">\n<title>276&#45;&gt;290</title>\n<path fill=\"none\" stroke=\"black\" d=\"M11072.44,-460.91C11074.27,-450.2 11076.25,-438.62 11078.1,-427.78\"/>\n<polygon fill=\"black\" stroke=\"black\" points=\"11081.6,-428.11 11079.83,-417.67 11074.7,-426.93 11081.6,-428.11\"/>\n</g>\n<!-- 278 -->\n<g id=\"node279\" class=\"node\">\n<title>278</title>\n<path fill=\"#e68844\" stroke=\"black\" d=\"M10852.5,-306C10852.5,-306 10696.5,-306 10696.5,-306 10690.5,-306 10684.5,-300 10684.5,-294 10684.5,-294 10684.5,-235 10684.5,-235 10684.5,-229 10690.5,-223 10696.5,-223 10696.5,-223 10852.5,-223 10852.5,-223 10858.5,-223 10864.5,-229 10864.5,-235 10864.5,-235 10864.5,-294 10864.5,-294 10864.5,-300 10858.5,-306 10852.5,-306\"/>\n<text text-anchor=\"middle\" x=\"10774.5\" y=\"-290.8\" font-family=\"Helvetica,sans-Serif\" font-size=\"14.00\">km_por_ano &lt;= 26735.965</text>\n<text text-anchor=\"middle\" x=\"10774.5\" y=\"-275.8\" font-family=\"Helvetica,sans-Serif\" font-size=\"14.00\">gini = 0.102</text>\n<text text-anchor=\"middle\" x=\"10774.5\" y=\"-260.8\" font-family=\"Helvetica,sans-Serif\" font-size=\"14.00\">samples = 167</text>\n<text text-anchor=\"middle\" x=\"10774.5\" y=\"-245.8\" font-family=\"Helvetica,sans-Serif\" font-size=\"14.00\">value = [158, 9]</text>\n<text text-anchor=\"middle\" x=\"10774.5\" y=\"-230.8\" font-family=\"Helvetica,sans-Serif\" font-size=\"14.00\">class = nao</text>\n</g>\n<!-- 277&#45;&gt;278 -->\n<g id=\"edge278\" class=\"edge\">\n<title>277&#45;&gt;278</title>\n<path fill=\"none\" stroke=\"black\" d=\"M10889.44,-341.91C10874.83,-332.2 10859.13,-321.76 10844.16,-311.81\"/>\n<polygon fill=\"black\" stroke=\"black\" points=\"10845.72,-308.64 10835.45,-306.02 10841.84,-314.47 10845.72,-308.64\"/>\n</g>\n<!-- 285 -->\n<g id=\"node286\" class=\"node\">\n<title>285</title>\n<path fill=\"#eb9f68\" stroke=\"black\" d=\"M11008.5,-306C11008.5,-306 10894.5,-306 10894.5,-306 10888.5,-306 10882.5,-300 10882.5,-294 10882.5,-294 10882.5,-235 10882.5,-235 10882.5,-229 10888.5,-223 10894.5,-223 10894.5,-223 11008.5,-223 11008.5,-223 11014.5,-223 11020.5,-229 11020.5,-235 11020.5,-235 11020.5,-294 11020.5,-294 11020.5,-300 11014.5,-306 11008.5,-306\"/>\n<text text-anchor=\"middle\" x=\"10951.5\" y=\"-290.8\" font-family=\"Helvetica,sans-Serif\" font-size=\"14.00\">preco &lt;= 67947.328</text>\n<text text-anchor=\"middle\" x=\"10951.5\" y=\"-275.8\" font-family=\"Helvetica,sans-Serif\" font-size=\"14.00\">gini = 0.308</text>\n<text text-anchor=\"middle\" x=\"10951.5\" y=\"-260.8\" font-family=\"Helvetica,sans-Serif\" font-size=\"14.00\">samples = 21</text>\n<text text-anchor=\"middle\" x=\"10951.5\" y=\"-245.8\" font-family=\"Helvetica,sans-Serif\" font-size=\"14.00\">value = [17, 4]</text>\n<text text-anchor=\"middle\" x=\"10951.5\" y=\"-230.8\" font-family=\"Helvetica,sans-Serif\" font-size=\"14.00\">class = nao</text>\n</g>\n<!-- 277&#45;&gt;285 -->\n<g id=\"edge285\" class=\"edge\">\n<title>277&#45;&gt;285</title>\n<path fill=\"none\" stroke=\"black\" d=\"M10950.85,-341.91C10950.92,-333.65 10950.99,-324.86 10951.07,-316.3\"/>\n<polygon fill=\"black\" stroke=\"black\" points=\"10954.57,-316.05 10951.15,-306.02 10947.57,-315.99 10954.57,-316.05\"/>\n</g>\n<!-- 279 -->\n<g id=\"node280\" class=\"node\">\n<title>279</title>\n<path fill=\"#e99254\" stroke=\"black\" d=\"M10655,-187C10655,-187 10506,-187 10506,-187 10500,-187 10494,-181 10494,-175 10494,-175 10494,-116 10494,-116 10494,-110 10500,-104 10506,-104 10506,-104 10655,-104 10655,-104 10661,-104 10667,-110 10667,-116 10667,-116 10667,-175 10667,-175 10667,-181 10661,-187 10655,-187\"/>\n<text text-anchor=\"middle\" x=\"10580.5\" y=\"-171.8\" font-family=\"Helvetica,sans-Serif\" font-size=\"14.00\">km_por_ano &lt;= 26712.63</text>\n<text text-anchor=\"middle\" x=\"10580.5\" y=\"-156.8\" font-family=\"Helvetica,sans-Serif\" font-size=\"14.00\">gini = 0.211</text>\n<text text-anchor=\"middle\" x=\"10580.5\" y=\"-141.8\" font-family=\"Helvetica,sans-Serif\" font-size=\"14.00\">samples = 50</text>\n<text text-anchor=\"middle\" x=\"10580.5\" y=\"-126.8\" font-family=\"Helvetica,sans-Serif\" font-size=\"14.00\">value = [44, 6]</text>\n<text text-anchor=\"middle\" x=\"10580.5\" y=\"-111.8\" font-family=\"Helvetica,sans-Serif\" font-size=\"14.00\">class = nao</text>\n</g>\n<!-- 278&#45;&gt;279 -->\n<g id=\"edge279\" class=\"edge\">\n<title>278&#45;&gt;279</title>\n<path fill=\"none\" stroke=\"black\" d=\"M10707.19,-222.91C10690.79,-213.02 10673.14,-202.37 10656.37,-192.25\"/>\n<polygon fill=\"black\" stroke=\"black\" points=\"10658.06,-189.19 10647.69,-187.02 10654.44,-195.18 10658.06,-189.19\"/>\n</g>\n<!-- 282 -->\n<g id=\"node283\" class=\"node\">\n<title>282</title>\n<path fill=\"#e6843e\" stroke=\"black\" d=\"M10853.5,-187C10853.5,-187 10697.5,-187 10697.5,-187 10691.5,-187 10685.5,-181 10685.5,-175 10685.5,-175 10685.5,-116 10685.5,-116 10685.5,-110 10691.5,-104 10697.5,-104 10697.5,-104 10853.5,-104 10853.5,-104 10859.5,-104 10865.5,-110 10865.5,-116 10865.5,-116 10865.5,-175 10865.5,-175 10865.5,-181 10859.5,-187 10853.5,-187\"/>\n<text text-anchor=\"middle\" x=\"10775.5\" y=\"-171.8\" font-family=\"Helvetica,sans-Serif\" font-size=\"14.00\">km_por_ano &lt;= 39444.119</text>\n<text text-anchor=\"middle\" x=\"10775.5\" y=\"-156.8\" font-family=\"Helvetica,sans-Serif\" font-size=\"14.00\">gini = 0.05</text>\n<text text-anchor=\"middle\" x=\"10775.5\" y=\"-141.8\" font-family=\"Helvetica,sans-Serif\" font-size=\"14.00\">samples = 117</text>\n<text text-anchor=\"middle\" x=\"10775.5\" y=\"-126.8\" font-family=\"Helvetica,sans-Serif\" font-size=\"14.00\">value = [114, 3]</text>\n<text text-anchor=\"middle\" x=\"10775.5\" y=\"-111.8\" font-family=\"Helvetica,sans-Serif\" font-size=\"14.00\">class = nao</text>\n</g>\n<!-- 278&#45;&gt;282 -->\n<g id=\"edge282\" class=\"edge\">\n<title>278&#45;&gt;282</title>\n<path fill=\"none\" stroke=\"black\" d=\"M10774.85,-222.91C10774.92,-214.65 10774.99,-205.86 10775.07,-197.3\"/>\n<polygon fill=\"black\" stroke=\"black\" points=\"10778.57,-197.05 10775.15,-187.02 10771.57,-196.99 10778.57,-197.05\"/>\n</g>\n<!-- 280 -->\n<g id=\"node281\" class=\"node\">\n<title>280</title>\n<path fill=\"#e88f50\" stroke=\"black\" d=\"M10558.5,-68C10558.5,-68 10480.5,-68 10480.5,-68 10474.5,-68 10468.5,-62 10468.5,-56 10468.5,-56 10468.5,-12 10468.5,-12 10468.5,-6 10474.5,0 10480.5,0 10480.5,0 10558.5,0 10558.5,0 10564.5,0 10570.5,-6 10570.5,-12 10570.5,-12 10570.5,-56 10570.5,-56 10570.5,-62 10564.5,-68 10558.5,-68\"/>\n<text text-anchor=\"middle\" x=\"10519.5\" y=\"-52.8\" font-family=\"Helvetica,sans-Serif\" font-size=\"14.00\">gini = 0.183</text>\n<text text-anchor=\"middle\" x=\"10519.5\" y=\"-37.8\" font-family=\"Helvetica,sans-Serif\" font-size=\"14.00\">samples = 49</text>\n<text text-anchor=\"middle\" x=\"10519.5\" y=\"-22.8\" font-family=\"Helvetica,sans-Serif\" font-size=\"14.00\">value = [44, 5]</text>\n<text text-anchor=\"middle\" x=\"10519.5\" y=\"-7.8\" font-family=\"Helvetica,sans-Serif\" font-size=\"14.00\">class = nao</text>\n</g>\n<!-- 279&#45;&gt;280 -->\n<g id=\"edge280\" class=\"edge\">\n<title>279&#45;&gt;280</title>\n<path fill=\"none\" stroke=\"black\" d=\"M10557.79,-103.73C10552.96,-95.06 10547.85,-85.9 10543,-77.18\"/>\n<polygon fill=\"black\" stroke=\"black\" points=\"10545.97,-75.33 10538.05,-68.3 10539.86,-78.74 10545.97,-75.33\"/>\n</g>\n<!-- 281 -->\n<g id=\"node282\" class=\"node\">\n<title>281</title>\n<path fill=\"#399de5\" stroke=\"black\" d=\"M10672,-68C10672,-68 10601,-68 10601,-68 10595,-68 10589,-62 10589,-56 10589,-56 10589,-12 10589,-12 10589,-6 10595,0 10601,0 10601,0 10672,0 10672,0 10678,0 10684,-6 10684,-12 10684,-12 10684,-56 10684,-56 10684,-62 10678,-68 10672,-68\"/>\n<text text-anchor=\"middle\" x=\"10636.5\" y=\"-52.8\" font-family=\"Helvetica,sans-Serif\" font-size=\"14.00\">gini = 0.0</text>\n<text text-anchor=\"middle\" x=\"10636.5\" y=\"-37.8\" font-family=\"Helvetica,sans-Serif\" font-size=\"14.00\">samples = 1</text>\n<text text-anchor=\"middle\" x=\"10636.5\" y=\"-22.8\" font-family=\"Helvetica,sans-Serif\" font-size=\"14.00\">value = [0, 1]</text>\n<text text-anchor=\"middle\" x=\"10636.5\" y=\"-7.8\" font-family=\"Helvetica,sans-Serif\" font-size=\"14.00\">class = sim</text>\n</g>\n<!-- 279&#45;&gt;281 -->\n<g id=\"edge281\" class=\"edge\">\n<title>279&#45;&gt;281</title>\n<path fill=\"none\" stroke=\"black\" d=\"M10601.35,-103.73C10605.74,-95.15 10610.37,-86.09 10614.79,-77.46\"/>\n<polygon fill=\"black\" stroke=\"black\" points=\"10618.03,-78.8 10619.47,-68.3 10611.8,-75.61 10618.03,-78.8\"/>\n</g>\n<!-- 283 -->\n<g id=\"node284\" class=\"node\">\n<title>283</title>\n<path fill=\"#e5823b\" stroke=\"black\" d=\"M10808.5,-68C10808.5,-68 10722.5,-68 10722.5,-68 10716.5,-68 10710.5,-62 10710.5,-56 10710.5,-56 10710.5,-12 10710.5,-12 10710.5,-6 10716.5,0 10722.5,0 10722.5,0 10808.5,0 10808.5,0 10814.5,0 10820.5,-6 10820.5,-12 10820.5,-12 10820.5,-56 10820.5,-56 10820.5,-62 10814.5,-68 10808.5,-68\"/>\n<text text-anchor=\"middle\" x=\"10765.5\" y=\"-52.8\" font-family=\"Helvetica,sans-Serif\" font-size=\"14.00\">gini = 0.019</text>\n<text text-anchor=\"middle\" x=\"10765.5\" y=\"-37.8\" font-family=\"Helvetica,sans-Serif\" font-size=\"14.00\">samples = 102</text>\n<text text-anchor=\"middle\" x=\"10765.5\" y=\"-22.8\" font-family=\"Helvetica,sans-Serif\" font-size=\"14.00\">value = [101, 1]</text>\n<text text-anchor=\"middle\" x=\"10765.5\" y=\"-7.8\" font-family=\"Helvetica,sans-Serif\" font-size=\"14.00\">class = nao</text>\n</g>\n<!-- 282&#45;&gt;283 -->\n<g id=\"edge283\" class=\"edge\">\n<title>282&#45;&gt;283</title>\n<path fill=\"none\" stroke=\"black\" d=\"M10771.78,-103.73C10771.02,-95.43 10770.22,-86.67 10769.45,-78.28\"/>\n<polygon fill=\"black\" stroke=\"black\" points=\"10772.94,-77.94 10768.54,-68.3 10765.97,-78.58 10772.94,-77.94\"/>\n</g>\n<!-- 284 -->\n<g id=\"node285\" class=\"node\">\n<title>284</title>\n<path fill=\"#e99457\" stroke=\"black\" d=\"M10928.5,-68C10928.5,-68 10850.5,-68 10850.5,-68 10844.5,-68 10838.5,-62 10838.5,-56 10838.5,-56 10838.5,-12 10838.5,-12 10838.5,-6 10844.5,0 10850.5,0 10850.5,0 10928.5,0 10928.5,0 10934.5,0 10940.5,-6 10940.5,-12 10940.5,-12 10940.5,-56 10940.5,-56 10940.5,-62 10934.5,-68 10928.5,-68\"/>\n<text text-anchor=\"middle\" x=\"10889.5\" y=\"-52.8\" font-family=\"Helvetica,sans-Serif\" font-size=\"14.00\">gini = 0.231</text>\n<text text-anchor=\"middle\" x=\"10889.5\" y=\"-37.8\" font-family=\"Helvetica,sans-Serif\" font-size=\"14.00\">samples = 15</text>\n<text text-anchor=\"middle\" x=\"10889.5\" y=\"-22.8\" font-family=\"Helvetica,sans-Serif\" font-size=\"14.00\">value = [13, 2]</text>\n<text text-anchor=\"middle\" x=\"10889.5\" y=\"-7.8\" font-family=\"Helvetica,sans-Serif\" font-size=\"14.00\">class = nao</text>\n</g>\n<!-- 282&#45;&gt;284 -->\n<g id=\"edge284\" class=\"edge\">\n<title>282&#45;&gt;284</title>\n<path fill=\"none\" stroke=\"black\" d=\"M10817.95,-103.73C10827.63,-94.42 10837.92,-84.54 10847.58,-75.26\"/>\n<polygon fill=\"black\" stroke=\"black\" points=\"10850.04,-77.75 10854.83,-68.3 10845.2,-72.7 10850.04,-77.75\"/>\n</g>\n<!-- 286 -->\n<g id=\"node287\" class=\"node\">\n<title>286</title>\n<path fill=\"#399de5\" stroke=\"black\" d=\"M10967,-179.5C10967,-179.5 10896,-179.5 10896,-179.5 10890,-179.5 10884,-173.5 10884,-167.5 10884,-167.5 10884,-123.5 10884,-123.5 10884,-117.5 10890,-111.5 10896,-111.5 10896,-111.5 10967,-111.5 10967,-111.5 10973,-111.5 10979,-117.5 10979,-123.5 10979,-123.5 10979,-167.5 10979,-167.5 10979,-173.5 10973,-179.5 10967,-179.5\"/>\n<text text-anchor=\"middle\" x=\"10931.5\" y=\"-164.3\" font-family=\"Helvetica,sans-Serif\" font-size=\"14.00\">gini = 0.0</text>\n<text text-anchor=\"middle\" x=\"10931.5\" y=\"-149.3\" font-family=\"Helvetica,sans-Serif\" font-size=\"14.00\">samples = 2</text>\n<text text-anchor=\"middle\" x=\"10931.5\" y=\"-134.3\" font-family=\"Helvetica,sans-Serif\" font-size=\"14.00\">value = [0, 2]</text>\n<text text-anchor=\"middle\" x=\"10931.5\" y=\"-119.3\" font-family=\"Helvetica,sans-Serif\" font-size=\"14.00\">class = sim</text>\n</g>\n<!-- 285&#45;&gt;286 -->\n<g id=\"edge286\" class=\"edge\">\n<title>285&#45;&gt;286</title>\n<path fill=\"none\" stroke=\"black\" d=\"M10944.56,-222.91C10942.73,-212.2 10940.75,-200.62 10938.9,-189.78\"/>\n<polygon fill=\"black\" stroke=\"black\" points=\"10942.3,-188.93 10937.17,-179.67 10935.4,-190.11 10942.3,-188.93\"/>\n</g>\n<!-- 287 -->\n<g id=\"node288\" class=\"node\">\n<title>287</title>\n<path fill=\"#e89050\" stroke=\"black\" d=\"M11165.5,-187C11165.5,-187 11009.5,-187 11009.5,-187 11003.5,-187 10997.5,-181 10997.5,-175 10997.5,-175 10997.5,-116 10997.5,-116 10997.5,-110 11003.5,-104 11009.5,-104 11009.5,-104 11165.5,-104 11165.5,-104 11171.5,-104 11177.5,-110 11177.5,-116 11177.5,-116 11177.5,-175 11177.5,-175 11177.5,-181 11171.5,-187 11165.5,-187\"/>\n<text text-anchor=\"middle\" x=\"11087.5\" y=\"-171.8\" font-family=\"Helvetica,sans-Serif\" font-size=\"14.00\">km_por_ano &lt;= 29635.191</text>\n<text text-anchor=\"middle\" x=\"11087.5\" y=\"-156.8\" font-family=\"Helvetica,sans-Serif\" font-size=\"14.00\">gini = 0.188</text>\n<text text-anchor=\"middle\" x=\"11087.5\" y=\"-141.8\" font-family=\"Helvetica,sans-Serif\" font-size=\"14.00\">samples = 19</text>\n<text text-anchor=\"middle\" x=\"11087.5\" y=\"-126.8\" font-family=\"Helvetica,sans-Serif\" font-size=\"14.00\">value = [17, 2]</text>\n<text text-anchor=\"middle\" x=\"11087.5\" y=\"-111.8\" font-family=\"Helvetica,sans-Serif\" font-size=\"14.00\">class = nao</text>\n</g>\n<!-- 285&#45;&gt;287 -->\n<g id=\"edge287\" class=\"edge\">\n<title>285&#45;&gt;287</title>\n<path fill=\"none\" stroke=\"black\" d=\"M10998.68,-222.91C11009.66,-213.47 11021.43,-203.34 11032.69,-193.65\"/>\n<polygon fill=\"black\" stroke=\"black\" points=\"11035.1,-196.2 11040.4,-187.02 11030.54,-190.89 11035.1,-196.2\"/>\n</g>\n<!-- 288 -->\n<g id=\"node289\" class=\"node\">\n<title>288</title>\n<path fill=\"#e58139\" stroke=\"black\" d=\"M11052.5,-68C11052.5,-68 10974.5,-68 10974.5,-68 10968.5,-68 10962.5,-62 10962.5,-56 10962.5,-56 10962.5,-12 10962.5,-12 10962.5,-6 10968.5,0 10974.5,0 10974.5,0 11052.5,0 11052.5,0 11058.5,0 11064.5,-6 11064.5,-12 11064.5,-12 11064.5,-56 11064.5,-56 11064.5,-62 11058.5,-68 11052.5,-68\"/>\n<text text-anchor=\"middle\" x=\"11013.5\" y=\"-52.8\" font-family=\"Helvetica,sans-Serif\" font-size=\"14.00\">gini = 0.0</text>\n<text text-anchor=\"middle\" x=\"11013.5\" y=\"-37.8\" font-family=\"Helvetica,sans-Serif\" font-size=\"14.00\">samples = 10</text>\n<text text-anchor=\"middle\" x=\"11013.5\" y=\"-22.8\" font-family=\"Helvetica,sans-Serif\" font-size=\"14.00\">value = [10, 0]</text>\n<text text-anchor=\"middle\" x=\"11013.5\" y=\"-7.8\" font-family=\"Helvetica,sans-Serif\" font-size=\"14.00\">class = nao</text>\n</g>\n<!-- 287&#45;&gt;288 -->\n<g id=\"edge288\" class=\"edge\">\n<title>287&#45;&gt;288</title>\n<path fill=\"none\" stroke=\"black\" d=\"M11059.95,-103.73C11053.97,-94.88 11047.63,-85.51 11041.63,-76.63\"/>\n<polygon fill=\"black\" stroke=\"black\" points=\"11044.5,-74.63 11036,-68.3 11038.7,-78.54 11044.5,-74.63\"/>\n</g>\n<!-- 289 -->\n<g id=\"node290\" class=\"node\">\n<title>289</title>\n<path fill=\"#eca572\" stroke=\"black\" d=\"M11166,-68C11166,-68 11095,-68 11095,-68 11089,-68 11083,-62 11083,-56 11083,-56 11083,-12 11083,-12 11083,-6 11089,0 11095,0 11095,0 11166,0 11166,0 11172,0 11178,-6 11178,-12 11178,-12 11178,-56 11178,-56 11178,-62 11172,-68 11166,-68\"/>\n<text text-anchor=\"middle\" x=\"11130.5\" y=\"-52.8\" font-family=\"Helvetica,sans-Serif\" font-size=\"14.00\">gini = 0.346</text>\n<text text-anchor=\"middle\" x=\"11130.5\" y=\"-37.8\" font-family=\"Helvetica,sans-Serif\" font-size=\"14.00\">samples = 9</text>\n<text text-anchor=\"middle\" x=\"11130.5\" y=\"-22.8\" font-family=\"Helvetica,sans-Serif\" font-size=\"14.00\">value = [7, 2]</text>\n<text text-anchor=\"middle\" x=\"11130.5\" y=\"-7.8\" font-family=\"Helvetica,sans-Serif\" font-size=\"14.00\">class = nao</text>\n</g>\n<!-- 287&#45;&gt;289 -->\n<g id=\"edge289\" class=\"edge\">\n<title>287&#45;&gt;289</title>\n<path fill=\"none\" stroke=\"black\" d=\"M11103.51,-103.73C11106.84,-95.24 11110.36,-86.28 11113.72,-77.73\"/>\n<polygon fill=\"black\" stroke=\"black\" points=\"11117.03,-78.89 11117.42,-68.3 11110.51,-76.33 11117.03,-78.89\"/>\n</g>\n<!-- 292 -->\n<g id=\"node293\" class=\"node\">\n<title>292</title>\n<path fill=\"#ea985d\" stroke=\"black\" d=\"M11492,-425C11492,-425 11341,-425 11341,-425 11335,-425 11329,-419 11329,-413 11329,-413 11329,-354 11329,-354 11329,-348 11335,-342 11341,-342 11341,-342 11492,-342 11492,-342 11498,-342 11504,-348 11504,-354 11504,-354 11504,-413 11504,-413 11504,-419 11498,-425 11492,-425\"/>\n<text text-anchor=\"middle\" x=\"11416.5\" y=\"-409.8\" font-family=\"Helvetica,sans-Serif\" font-size=\"14.00\">idade_do_modelo &lt;= 19.5</text>\n<text text-anchor=\"middle\" x=\"11416.5\" y=\"-394.8\" font-family=\"Helvetica,sans-Serif\" font-size=\"14.00\">gini = 0.26</text>\n<text text-anchor=\"middle\" x=\"11416.5\" y=\"-379.8\" font-family=\"Helvetica,sans-Serif\" font-size=\"14.00\">samples = 13</text>\n<text text-anchor=\"middle\" x=\"11416.5\" y=\"-364.8\" font-family=\"Helvetica,sans-Serif\" font-size=\"14.00\">value = [11, 2]</text>\n<text text-anchor=\"middle\" x=\"11416.5\" y=\"-349.8\" font-family=\"Helvetica,sans-Serif\" font-size=\"14.00\">class = nao</text>\n</g>\n<!-- 291&#45;&gt;292 -->\n<g id=\"edge292\" class=\"edge\">\n<title>291&#45;&gt;292</title>\n<path fill=\"none\" stroke=\"black\" d=\"M11416.5,-460.91C11416.5,-452.65 11416.5,-443.86 11416.5,-435.3\"/>\n<polygon fill=\"black\" stroke=\"black\" points=\"11420,-435.02 11416.5,-425.02 11413,-435.02 11420,-435.02\"/>\n</g>\n<!-- 299 -->\n<g id=\"node300\" class=\"node\">\n<title>299</title>\n<path fill=\"#e68641\" stroke=\"black\" d=\"M11741.5,-425C11741.5,-425 11585.5,-425 11585.5,-425 11579.5,-425 11573.5,-419 11573.5,-413 11573.5,-413 11573.5,-354 11573.5,-354 11573.5,-348 11579.5,-342 11585.5,-342 11585.5,-342 11741.5,-342 11741.5,-342 11747.5,-342 11753.5,-348 11753.5,-354 11753.5,-354 11753.5,-413 11753.5,-413 11753.5,-419 11747.5,-425 11741.5,-425\"/>\n<text text-anchor=\"middle\" x=\"11663.5\" y=\"-409.8\" font-family=\"Helvetica,sans-Serif\" font-size=\"14.00\">km_por_ano &lt;= 50785.943</text>\n<text text-anchor=\"middle\" x=\"11663.5\" y=\"-394.8\" font-family=\"Helvetica,sans-Serif\" font-size=\"14.00\">gini = 0.078</text>\n<text text-anchor=\"middle\" x=\"11663.5\" y=\"-379.8\" font-family=\"Helvetica,sans-Serif\" font-size=\"14.00\">samples = 1385</text>\n<text text-anchor=\"middle\" x=\"11663.5\" y=\"-364.8\" font-family=\"Helvetica,sans-Serif\" font-size=\"14.00\">value = [1329, 56]</text>\n<text text-anchor=\"middle\" x=\"11663.5\" y=\"-349.8\" font-family=\"Helvetica,sans-Serif\" font-size=\"14.00\">class = nao</text>\n</g>\n<!-- 291&#45;&gt;299 -->\n<g id=\"edge299\" class=\"edge\">\n<title>291&#45;&gt;299</title>\n<path fill=\"none\" stroke=\"black\" d=\"M11502.2,-460.91C11523.65,-450.74 11546.8,-439.78 11568.67,-429.42\"/>\n<polygon fill=\"black\" stroke=\"black\" points=\"11570.42,-432.46 11577.96,-425.02 11567.42,-426.14 11570.42,-432.46\"/>\n</g>\n<!-- 293 -->\n<g id=\"node294\" class=\"node\">\n<title>293</title>\n<path fill=\"#e78c4b\" stroke=\"black\" d=\"M11360.5,-306C11360.5,-306 11204.5,-306 11204.5,-306 11198.5,-306 11192.5,-300 11192.5,-294 11192.5,-294 11192.5,-235 11192.5,-235 11192.5,-229 11198.5,-223 11204.5,-223 11204.5,-223 11360.5,-223 11360.5,-223 11366.5,-223 11372.5,-229 11372.5,-235 11372.5,-235 11372.5,-294 11372.5,-294 11372.5,-300 11366.5,-306 11360.5,-306\"/>\n<text text-anchor=\"middle\" x=\"11282.5\" y=\"-290.8\" font-family=\"Helvetica,sans-Serif\" font-size=\"14.00\">km_por_ano &lt;= 24217.348</text>\n<text text-anchor=\"middle\" x=\"11282.5\" y=\"-275.8\" font-family=\"Helvetica,sans-Serif\" font-size=\"14.00\">gini = 0.153</text>\n<text text-anchor=\"middle\" x=\"11282.5\" y=\"-260.8\" font-family=\"Helvetica,sans-Serif\" font-size=\"14.00\">samples = 12</text>\n<text text-anchor=\"middle\" x=\"11282.5\" y=\"-245.8\" font-family=\"Helvetica,sans-Serif\" font-size=\"14.00\">value = [11, 1]</text>\n<text text-anchor=\"middle\" x=\"11282.5\" y=\"-230.8\" font-family=\"Helvetica,sans-Serif\" font-size=\"14.00\">class = nao</text>\n</g>\n<!-- 292&#45;&gt;293 -->\n<g id=\"edge293\" class=\"edge\">\n<title>292&#45;&gt;293</title>\n<path fill=\"none\" stroke=\"black\" d=\"M11370.01,-341.91C11359.2,-332.47 11347.6,-322.34 11336.5,-312.65\"/>\n<polygon fill=\"black\" stroke=\"black\" points=\"11338.74,-309.96 11328.91,-306.02 11334.14,-315.23 11338.74,-309.96\"/>\n</g>\n<!-- 298 -->\n<g id=\"node299\" class=\"node\">\n<title>298</title>\n<path fill=\"#399de5\" stroke=\"black\" d=\"M11474,-298.5C11474,-298.5 11403,-298.5 11403,-298.5 11397,-298.5 11391,-292.5 11391,-286.5 11391,-286.5 11391,-242.5 11391,-242.5 11391,-236.5 11397,-230.5 11403,-230.5 11403,-230.5 11474,-230.5 11474,-230.5 11480,-230.5 11486,-236.5 11486,-242.5 11486,-242.5 11486,-286.5 11486,-286.5 11486,-292.5 11480,-298.5 11474,-298.5\"/>\n<text text-anchor=\"middle\" x=\"11438.5\" y=\"-283.3\" font-family=\"Helvetica,sans-Serif\" font-size=\"14.00\">gini = 0.0</text>\n<text text-anchor=\"middle\" x=\"11438.5\" y=\"-268.3\" font-family=\"Helvetica,sans-Serif\" font-size=\"14.00\">samples = 1</text>\n<text text-anchor=\"middle\" x=\"11438.5\" y=\"-253.3\" font-family=\"Helvetica,sans-Serif\" font-size=\"14.00\">value = [0, 1]</text>\n<text text-anchor=\"middle\" x=\"11438.5\" y=\"-238.3\" font-family=\"Helvetica,sans-Serif\" font-size=\"14.00\">class = sim</text>\n</g>\n<!-- 292&#45;&gt;298 -->\n<g id=\"edge298\" class=\"edge\">\n<title>292&#45;&gt;298</title>\n<path fill=\"none\" stroke=\"black\" d=\"M11424.13,-341.91C11426.15,-331.2 11428.32,-319.62 11430.36,-308.78\"/>\n<polygon fill=\"black\" stroke=\"black\" points=\"11433.86,-309.14 11432.26,-298.67 11426.98,-307.85 11433.86,-309.14\"/>\n</g>\n<!-- 294 -->\n<g id=\"node295\" class=\"node\">\n<title>294</title>\n<path fill=\"#e58139\" stroke=\"black\" d=\"M11285.5,-179.5C11285.5,-179.5 11207.5,-179.5 11207.5,-179.5 11201.5,-179.5 11195.5,-173.5 11195.5,-167.5 11195.5,-167.5 11195.5,-123.5 11195.5,-123.5 11195.5,-117.5 11201.5,-111.5 11207.5,-111.5 11207.5,-111.5 11285.5,-111.5 11285.5,-111.5 11291.5,-111.5 11297.5,-117.5 11297.5,-123.5 11297.5,-123.5 11297.5,-167.5 11297.5,-167.5 11297.5,-173.5 11291.5,-179.5 11285.5,-179.5\"/>\n<text text-anchor=\"middle\" x=\"11246.5\" y=\"-164.3\" font-family=\"Helvetica,sans-Serif\" font-size=\"14.00\">gini = 0.0</text>\n<text text-anchor=\"middle\" x=\"11246.5\" y=\"-149.3\" font-family=\"Helvetica,sans-Serif\" font-size=\"14.00\">samples = 10</text>\n<text text-anchor=\"middle\" x=\"11246.5\" y=\"-134.3\" font-family=\"Helvetica,sans-Serif\" font-size=\"14.00\">value = [10, 0]</text>\n<text text-anchor=\"middle\" x=\"11246.5\" y=\"-119.3\" font-family=\"Helvetica,sans-Serif\" font-size=\"14.00\">class = nao</text>\n</g>\n<!-- 293&#45;&gt;294 -->\n<g id=\"edge294\" class=\"edge\">\n<title>293&#45;&gt;294</title>\n<path fill=\"none\" stroke=\"black\" d=\"M11270.01,-222.91C11266.68,-212.09 11263.08,-200.38 11259.71,-189.44\"/>\n<polygon fill=\"black\" stroke=\"black\" points=\"11262.99,-188.2 11256.71,-179.67 11256.3,-190.25 11262.99,-188.2\"/>\n</g>\n<!-- 295 -->\n<g id=\"node296\" class=\"node\">\n<title>295</title>\n<path fill=\"#ffffff\" stroke=\"black\" d=\"M11441.5,-187C11441.5,-187 11327.5,-187 11327.5,-187 11321.5,-187 11315.5,-181 11315.5,-175 11315.5,-175 11315.5,-116 11315.5,-116 11315.5,-110 11321.5,-104 11327.5,-104 11327.5,-104 11441.5,-104 11441.5,-104 11447.5,-104 11453.5,-110 11453.5,-116 11453.5,-116 11453.5,-175 11453.5,-175 11453.5,-181 11447.5,-187 11441.5,-187\"/>\n<text text-anchor=\"middle\" x=\"11384.5\" y=\"-171.8\" font-family=\"Helvetica,sans-Serif\" font-size=\"14.00\">preco &lt;= 74277.105</text>\n<text text-anchor=\"middle\" x=\"11384.5\" y=\"-156.8\" font-family=\"Helvetica,sans-Serif\" font-size=\"14.00\">gini = 0.5</text>\n<text text-anchor=\"middle\" x=\"11384.5\" y=\"-141.8\" font-family=\"Helvetica,sans-Serif\" font-size=\"14.00\">samples = 2</text>\n<text text-anchor=\"middle\" x=\"11384.5\" y=\"-126.8\" font-family=\"Helvetica,sans-Serif\" font-size=\"14.00\">value = [1, 1]</text>\n<text text-anchor=\"middle\" x=\"11384.5\" y=\"-111.8\" font-family=\"Helvetica,sans-Serif\" font-size=\"14.00\">class = nao</text>\n</g>\n<!-- 293&#45;&gt;295 -->\n<g id=\"edge295\" class=\"edge\">\n<title>293&#45;&gt;295</title>\n<path fill=\"none\" stroke=\"black\" d=\"M11317.89,-222.91C11325.8,-213.83 11334.27,-204.12 11342.42,-194.77\"/>\n<polygon fill=\"black\" stroke=\"black\" points=\"11345.24,-196.86 11349.17,-187.02 11339.96,-192.26 11345.24,-196.86\"/>\n</g>\n<!-- 296 -->\n<g id=\"node297\" class=\"node\">\n<title>296</title>\n<path fill=\"#e58139\" stroke=\"black\" d=\"M11281,-68C11281,-68 11210,-68 11210,-68 11204,-68 11198,-62 11198,-56 11198,-56 11198,-12 11198,-12 11198,-6 11204,0 11210,0 11210,0 11281,0 11281,0 11287,0 11293,-6 11293,-12 11293,-12 11293,-56 11293,-56 11293,-62 11287,-68 11281,-68\"/>\n<text text-anchor=\"middle\" x=\"11245.5\" y=\"-52.8\" font-family=\"Helvetica,sans-Serif\" font-size=\"14.00\">gini = 0.0</text>\n<text text-anchor=\"middle\" x=\"11245.5\" y=\"-37.8\" font-family=\"Helvetica,sans-Serif\" font-size=\"14.00\">samples = 1</text>\n<text text-anchor=\"middle\" x=\"11245.5\" y=\"-22.8\" font-family=\"Helvetica,sans-Serif\" font-size=\"14.00\">value = [1, 0]</text>\n<text text-anchor=\"middle\" x=\"11245.5\" y=\"-7.8\" font-family=\"Helvetica,sans-Serif\" font-size=\"14.00\">class = nao</text>\n</g>\n<!-- 295&#45;&gt;296 -->\n<g id=\"edge296\" class=\"edge\">\n<title>295&#45;&gt;296</title>\n<path fill=\"none\" stroke=\"black\" d=\"M11332.74,-103.73C11320.7,-94.24 11307.9,-84.16 11295.92,-74.72\"/>\n<polygon fill=\"black\" stroke=\"black\" points=\"11297.79,-71.74 11287.77,-68.3 11293.46,-77.24 11297.79,-71.74\"/>\n</g>\n<!-- 297 -->\n<g id=\"node298\" class=\"node\">\n<title>297</title>\n<path fill=\"#399de5\" stroke=\"black\" d=\"M11394,-68C11394,-68 11323,-68 11323,-68 11317,-68 11311,-62 11311,-56 11311,-56 11311,-12 11311,-12 11311,-6 11317,0 11323,0 11323,0 11394,0 11394,0 11400,0 11406,-6 11406,-12 11406,-12 11406,-56 11406,-56 11406,-62 11400,-68 11394,-68\"/>\n<text text-anchor=\"middle\" x=\"11358.5\" y=\"-52.8\" font-family=\"Helvetica,sans-Serif\" font-size=\"14.00\">gini = 0.0</text>\n<text text-anchor=\"middle\" x=\"11358.5\" y=\"-37.8\" font-family=\"Helvetica,sans-Serif\" font-size=\"14.00\">samples = 1</text>\n<text text-anchor=\"middle\" x=\"11358.5\" y=\"-22.8\" font-family=\"Helvetica,sans-Serif\" font-size=\"14.00\">value = [0, 1]</text>\n<text text-anchor=\"middle\" x=\"11358.5\" y=\"-7.8\" font-family=\"Helvetica,sans-Serif\" font-size=\"14.00\">class = sim</text>\n</g>\n<!-- 295&#45;&gt;297 -->\n<g id=\"edge297\" class=\"edge\">\n<title>295&#45;&gt;297</title>\n<path fill=\"none\" stroke=\"black\" d=\"M11374.82,-103.73C11372.85,-95.43 11370.77,-86.67 11368.78,-78.28\"/>\n<polygon fill=\"black\" stroke=\"black\" points=\"11372.12,-77.22 11366.41,-68.3 11365.31,-78.84 11372.12,-77.22\"/>\n</g>\n<!-- 300 -->\n<g id=\"node301\" class=\"node\">\n<title>300</title>\n<path fill=\"#e68641\" stroke=\"black\" d=\"M11738,-306C11738,-306 11589,-306 11589,-306 11583,-306 11577,-300 11577,-294 11577,-294 11577,-235 11577,-235 11577,-229 11583,-223 11589,-223 11589,-223 11738,-223 11738,-223 11744,-223 11750,-229 11750,-235 11750,-235 11750,-294 11750,-294 11750,-300 11744,-306 11738,-306\"/>\n<text text-anchor=\"middle\" x=\"11663.5\" y=\"-290.8\" font-family=\"Helvetica,sans-Serif\" font-size=\"14.00\">km_por_ano &lt;= 28494.17</text>\n<text text-anchor=\"middle\" x=\"11663.5\" y=\"-275.8\" font-family=\"Helvetica,sans-Serif\" font-size=\"14.00\">gini = 0.076</text>\n<text text-anchor=\"middle\" x=\"11663.5\" y=\"-260.8\" font-family=\"Helvetica,sans-Serif\" font-size=\"14.00\">samples = 1372</text>\n<text text-anchor=\"middle\" x=\"11663.5\" y=\"-245.8\" font-family=\"Helvetica,sans-Serif\" font-size=\"14.00\">value = [1318, 54]</text>\n<text text-anchor=\"middle\" x=\"11663.5\" y=\"-230.8\" font-family=\"Helvetica,sans-Serif\" font-size=\"14.00\">class = nao</text>\n</g>\n<!-- 299&#45;&gt;300 -->\n<g id=\"edge300\" class=\"edge\">\n<title>299&#45;&gt;300</title>\n<path fill=\"none\" stroke=\"black\" d=\"M11663.5,-341.91C11663.5,-333.65 11663.5,-324.86 11663.5,-316.3\"/>\n<polygon fill=\"black\" stroke=\"black\" points=\"11667,-316.02 11663.5,-306.02 11660,-316.02 11667,-316.02\"/>\n</g>\n<!-- 307 -->\n<g id=\"node308\" class=\"node\">\n<title>307</title>\n<path fill=\"#ea985d\" stroke=\"black\" d=\"M11961.5,-306C11961.5,-306 11805.5,-306 11805.5,-306 11799.5,-306 11793.5,-300 11793.5,-294 11793.5,-294 11793.5,-235 11793.5,-235 11793.5,-229 11799.5,-223 11805.5,-223 11805.5,-223 11961.5,-223 11961.5,-223 11967.5,-223 11973.5,-229 11973.5,-235 11973.5,-235 11973.5,-294 11973.5,-294 11973.5,-300 11967.5,-306 11961.5,-306\"/>\n<text text-anchor=\"middle\" x=\"11883.5\" y=\"-290.8\" font-family=\"Helvetica,sans-Serif\" font-size=\"14.00\">km_por_ano &lt;= 50861.582</text>\n<text text-anchor=\"middle\" x=\"11883.5\" y=\"-275.8\" font-family=\"Helvetica,sans-Serif\" font-size=\"14.00\">gini = 0.26</text>\n<text text-anchor=\"middle\" x=\"11883.5\" y=\"-260.8\" font-family=\"Helvetica,sans-Serif\" font-size=\"14.00\">samples = 13</text>\n<text text-anchor=\"middle\" x=\"11883.5\" y=\"-245.8\" font-family=\"Helvetica,sans-Serif\" font-size=\"14.00\">value = [11, 2]</text>\n<text text-anchor=\"middle\" x=\"11883.5\" y=\"-230.8\" font-family=\"Helvetica,sans-Serif\" font-size=\"14.00\">class = nao</text>\n</g>\n<!-- 299&#45;&gt;307 -->\n<g id=\"edge307\" class=\"edge\">\n<title>299&#45;&gt;307</title>\n<path fill=\"none\" stroke=\"black\" d=\"M11739.83,-341.91C11758.68,-331.88 11779,-321.07 11798.25,-310.84\"/>\n<polygon fill=\"black\" stroke=\"black\" points=\"11800.12,-313.81 11807.31,-306.02 11796.83,-307.63 11800.12,-313.81\"/>\n</g>\n<!-- 301 -->\n<g id=\"node302\" class=\"node\">\n<title>301</title>\n<path fill=\"#e6853f\" stroke=\"black\" d=\"M11607.5,-187C11607.5,-187 11493.5,-187 11493.5,-187 11487.5,-187 11481.5,-181 11481.5,-175 11481.5,-175 11481.5,-116 11481.5,-116 11481.5,-110 11487.5,-104 11493.5,-104 11493.5,-104 11607.5,-104 11607.5,-104 11613.5,-104 11619.5,-110 11619.5,-116 11619.5,-116 11619.5,-175 11619.5,-175 11619.5,-181 11613.5,-187 11607.5,-187\"/>\n<text text-anchor=\"middle\" x=\"11550.5\" y=\"-171.8\" font-family=\"Helvetica,sans-Serif\" font-size=\"14.00\">preco &lt;= 94985.078</text>\n<text text-anchor=\"middle\" x=\"11550.5\" y=\"-156.8\" font-family=\"Helvetica,sans-Serif\" font-size=\"14.00\">gini = 0.056</text>\n<text text-anchor=\"middle\" x=\"11550.5\" y=\"-141.8\" font-family=\"Helvetica,sans-Serif\" font-size=\"14.00\">samples = 557</text>\n<text text-anchor=\"middle\" x=\"11550.5\" y=\"-126.8\" font-family=\"Helvetica,sans-Serif\" font-size=\"14.00\">value = [541, 16]</text>\n<text text-anchor=\"middle\" x=\"11550.5\" y=\"-111.8\" font-family=\"Helvetica,sans-Serif\" font-size=\"14.00\">class = nao</text>\n</g>\n<!-- 300&#45;&gt;301 -->\n<g id=\"edge301\" class=\"edge\">\n<title>300&#45;&gt;301</title>\n<path fill=\"none\" stroke=\"black\" d=\"M11624.3,-222.91C11615.44,-213.74 11605.96,-203.93 11596.85,-194.49\"/>\n<polygon fill=\"black\" stroke=\"black\" points=\"11599.1,-191.78 11589.64,-187.02 11594.07,-196.65 11599.1,-191.78\"/>\n</g>\n<!-- 304 -->\n<g id=\"node305\" class=\"node\">\n<title>304</title>\n<path fill=\"#e68743\" stroke=\"black\" d=\"M11805.5,-187C11805.5,-187 11649.5,-187 11649.5,-187 11643.5,-187 11637.5,-181 11637.5,-175 11637.5,-175 11637.5,-116 11637.5,-116 11637.5,-110 11643.5,-104 11649.5,-104 11649.5,-104 11805.5,-104 11805.5,-104 11811.5,-104 11817.5,-110 11817.5,-116 11817.5,-116 11817.5,-175 11817.5,-175 11817.5,-181 11811.5,-187 11805.5,-187\"/>\n<text text-anchor=\"middle\" x=\"11727.5\" y=\"-171.8\" font-family=\"Helvetica,sans-Serif\" font-size=\"14.00\">km_por_ano &lt;= 28501.412</text>\n<text text-anchor=\"middle\" x=\"11727.5\" y=\"-156.8\" font-family=\"Helvetica,sans-Serif\" font-size=\"14.00\">gini = 0.089</text>\n<text text-anchor=\"middle\" x=\"11727.5\" y=\"-141.8\" font-family=\"Helvetica,sans-Serif\" font-size=\"14.00\">samples = 815</text>\n<text text-anchor=\"middle\" x=\"11727.5\" y=\"-126.8\" font-family=\"Helvetica,sans-Serif\" font-size=\"14.00\">value = [777, 38]</text>\n<text text-anchor=\"middle\" x=\"11727.5\" y=\"-111.8\" font-family=\"Helvetica,sans-Serif\" font-size=\"14.00\">class = nao</text>\n</g>\n<!-- 300&#45;&gt;304 -->\n<g id=\"edge304\" class=\"edge\">\n<title>300&#45;&gt;304</title>\n<path fill=\"none\" stroke=\"black\" d=\"M11685.7,-222.91C11690.47,-214.2 11695.56,-204.9 11700.48,-195.89\"/>\n<polygon fill=\"black\" stroke=\"black\" points=\"11703.61,-197.47 11705.33,-187.02 11697.47,-194.11 11703.61,-197.47\"/>\n</g>\n<!-- 302 -->\n<g id=\"node303\" class=\"node\">\n<title>302</title>\n<path fill=\"#e6843d\" stroke=\"black\" d=\"M11529,-68C11529,-68 11436,-68 11436,-68 11430,-68 11424,-62 11424,-56 11424,-56 11424,-12 11424,-12 11424,-6 11430,0 11436,0 11436,0 11529,0 11529,0 11535,0 11541,-6 11541,-12 11541,-12 11541,-56 11541,-56 11541,-62 11535,-68 11529,-68\"/>\n<text text-anchor=\"middle\" x=\"11482.5\" y=\"-52.8\" font-family=\"Helvetica,sans-Serif\" font-size=\"14.00\">gini = 0.042</text>\n<text text-anchor=\"middle\" x=\"11482.5\" y=\"-37.8\" font-family=\"Helvetica,sans-Serif\" font-size=\"14.00\">samples = 467</text>\n<text text-anchor=\"middle\" x=\"11482.5\" y=\"-22.8\" font-family=\"Helvetica,sans-Serif\" font-size=\"14.00\">value = [457, 10]</text>\n<text text-anchor=\"middle\" x=\"11482.5\" y=\"-7.8\" font-family=\"Helvetica,sans-Serif\" font-size=\"14.00\">class = nao</text>\n</g>\n<!-- 301&#45;&gt;302 -->\n<g id=\"edge302\" class=\"edge\">\n<title>301&#45;&gt;302</title>\n<path fill=\"none\" stroke=\"black\" d=\"M11525.18,-103.73C11519.74,-94.97 11513.99,-85.7 11508.52,-76.91\"/>\n<polygon fill=\"black\" stroke=\"black\" points=\"11511.43,-74.95 11503.18,-68.3 11505.48,-78.64 11511.43,-74.95\"/>\n</g>\n<!-- 303 -->\n<g id=\"node304\" class=\"node\">\n<title>303</title>\n<path fill=\"#e78a47\" stroke=\"black\" d=\"M11649.5,-68C11649.5,-68 11571.5,-68 11571.5,-68 11565.5,-68 11559.5,-62 11559.5,-56 11559.5,-56 11559.5,-12 11559.5,-12 11559.5,-6 11565.5,0 11571.5,0 11571.5,0 11649.5,0 11649.5,0 11655.5,0 11661.5,-6 11661.5,-12 11661.5,-12 11661.5,-56 11661.5,-56 11661.5,-62 11655.5,-68 11649.5,-68\"/>\n<text text-anchor=\"middle\" x=\"11610.5\" y=\"-52.8\" font-family=\"Helvetica,sans-Serif\" font-size=\"14.00\">gini = 0.124</text>\n<text text-anchor=\"middle\" x=\"11610.5\" y=\"-37.8\" font-family=\"Helvetica,sans-Serif\" font-size=\"14.00\">samples = 90</text>\n<text text-anchor=\"middle\" x=\"11610.5\" y=\"-22.8\" font-family=\"Helvetica,sans-Serif\" font-size=\"14.00\">value = [84, 6]</text>\n<text text-anchor=\"middle\" x=\"11610.5\" y=\"-7.8\" font-family=\"Helvetica,sans-Serif\" font-size=\"14.00\">class = nao</text>\n</g>\n<!-- 301&#45;&gt;303 -->\n<g id=\"edge303\" class=\"edge\">\n<title>301&#45;&gt;303</title>\n<path fill=\"none\" stroke=\"black\" d=\"M11572.84,-103.73C11577.59,-95.06 11582.61,-85.9 11587.39,-77.18\"/>\n<polygon fill=\"black\" stroke=\"black\" points=\"11590.52,-78.75 11592.25,-68.3 11584.38,-75.39 11590.52,-78.75\"/>\n</g>\n<!-- 305 -->\n<g id=\"node306\" class=\"node\">\n<title>305</title>\n<path fill=\"#399de5\" stroke=\"black\" d=\"M11763,-68C11763,-68 11692,-68 11692,-68 11686,-68 11680,-62 11680,-56 11680,-56 11680,-12 11680,-12 11680,-6 11686,0 11692,0 11692,0 11763,0 11763,0 11769,0 11775,-6 11775,-12 11775,-12 11775,-56 11775,-56 11775,-62 11769,-68 11763,-68\"/>\n<text text-anchor=\"middle\" x=\"11727.5\" y=\"-52.8\" font-family=\"Helvetica,sans-Serif\" font-size=\"14.00\">gini = 0.0</text>\n<text text-anchor=\"middle\" x=\"11727.5\" y=\"-37.8\" font-family=\"Helvetica,sans-Serif\" font-size=\"14.00\">samples = 1</text>\n<text text-anchor=\"middle\" x=\"11727.5\" y=\"-22.8\" font-family=\"Helvetica,sans-Serif\" font-size=\"14.00\">value = [0, 1]</text>\n<text text-anchor=\"middle\" x=\"11727.5\" y=\"-7.8\" font-family=\"Helvetica,sans-Serif\" font-size=\"14.00\">class = sim</text>\n</g>\n<!-- 304&#45;&gt;305 -->\n<g id=\"edge305\" class=\"edge\">\n<title>304&#45;&gt;305</title>\n<path fill=\"none\" stroke=\"black\" d=\"M11727.5,-103.73C11727.5,-95.52 11727.5,-86.86 11727.5,-78.56\"/>\n<polygon fill=\"black\" stroke=\"black\" points=\"11731,-78.3 11727.5,-68.3 11724,-78.3 11731,-78.3\"/>\n</g>\n<!-- 306 -->\n<g id=\"node307\" class=\"node\">\n<title>306</title>\n<path fill=\"#e68742\" stroke=\"black\" d=\"M11898,-68C11898,-68 11805,-68 11805,-68 11799,-68 11793,-62 11793,-56 11793,-56 11793,-12 11793,-12 11793,-6 11799,0 11805,0 11805,0 11898,0 11898,0 11904,0 11910,-6 11910,-12 11910,-12 11910,-56 11910,-56 11910,-62 11904,-68 11898,-68\"/>\n<text text-anchor=\"middle\" x=\"11851.5\" y=\"-52.8\" font-family=\"Helvetica,sans-Serif\" font-size=\"14.00\">gini = 0.087</text>\n<text text-anchor=\"middle\" x=\"11851.5\" y=\"-37.8\" font-family=\"Helvetica,sans-Serif\" font-size=\"14.00\">samples = 814</text>\n<text text-anchor=\"middle\" x=\"11851.5\" y=\"-22.8\" font-family=\"Helvetica,sans-Serif\" font-size=\"14.00\">value = [777, 37]</text>\n<text text-anchor=\"middle\" x=\"11851.5\" y=\"-7.8\" font-family=\"Helvetica,sans-Serif\" font-size=\"14.00\">class = nao</text>\n</g>\n<!-- 304&#45;&gt;306 -->\n<g id=\"edge306\" class=\"edge\">\n<title>304&#45;&gt;306</title>\n<path fill=\"none\" stroke=\"black\" d=\"M11773.67,-103.73C11784.31,-94.33 11795.62,-84.35 11806.22,-74.99\"/>\n<polygon fill=\"black\" stroke=\"black\" points=\"11808.61,-77.54 11813.79,-68.3 11803.98,-72.3 11808.61,-77.54\"/>\n</g>\n<!-- 308 -->\n<g id=\"node309\" class=\"node\">\n<title>308</title>\n<path fill=\"#399de5\" stroke=\"black\" d=\"M11919,-179.5C11919,-179.5 11848,-179.5 11848,-179.5 11842,-179.5 11836,-173.5 11836,-167.5 11836,-167.5 11836,-123.5 11836,-123.5 11836,-117.5 11842,-111.5 11848,-111.5 11848,-111.5 11919,-111.5 11919,-111.5 11925,-111.5 11931,-117.5 11931,-123.5 11931,-123.5 11931,-167.5 11931,-167.5 11931,-173.5 11925,-179.5 11919,-179.5\"/>\n<text text-anchor=\"middle\" x=\"11883.5\" y=\"-164.3\" font-family=\"Helvetica,sans-Serif\" font-size=\"14.00\">gini = 0.0</text>\n<text text-anchor=\"middle\" x=\"11883.5\" y=\"-149.3\" font-family=\"Helvetica,sans-Serif\" font-size=\"14.00\">samples = 1</text>\n<text text-anchor=\"middle\" x=\"11883.5\" y=\"-134.3\" font-family=\"Helvetica,sans-Serif\" font-size=\"14.00\">value = [0, 1]</text>\n<text text-anchor=\"middle\" x=\"11883.5\" y=\"-119.3\" font-family=\"Helvetica,sans-Serif\" font-size=\"14.00\">class = sim</text>\n</g>\n<!-- 307&#45;&gt;308 -->\n<g id=\"edge308\" class=\"edge\">\n<title>307&#45;&gt;308</title>\n<path fill=\"none\" stroke=\"black\" d=\"M11883.5,-222.91C11883.5,-212.2 11883.5,-200.62 11883.5,-189.78\"/>\n<polygon fill=\"black\" stroke=\"black\" points=\"11887,-189.67 11883.5,-179.67 11880,-189.67 11887,-189.67\"/>\n</g>\n<!-- 309 -->\n<g id=\"node310\" class=\"node\">\n<title>309</title>\n<path fill=\"#e78c4b\" stroke=\"black\" d=\"M12112,-187C12112,-187 11961,-187 11961,-187 11955,-187 11949,-181 11949,-175 11949,-175 11949,-116 11949,-116 11949,-110 11955,-104 11961,-104 11961,-104 12112,-104 12112,-104 12118,-104 12124,-110 12124,-116 12124,-116 12124,-175 12124,-175 12124,-181 12118,-187 12112,-187\"/>\n<text text-anchor=\"middle\" x=\"12036.5\" y=\"-171.8\" font-family=\"Helvetica,sans-Serif\" font-size=\"14.00\">idade_do_modelo &lt;= 17.5</text>\n<text text-anchor=\"middle\" x=\"12036.5\" y=\"-156.8\" font-family=\"Helvetica,sans-Serif\" font-size=\"14.00\">gini = 0.153</text>\n<text text-anchor=\"middle\" x=\"12036.5\" y=\"-141.8\" font-family=\"Helvetica,sans-Serif\" font-size=\"14.00\">samples = 12</text>\n<text text-anchor=\"middle\" x=\"12036.5\" y=\"-126.8\" font-family=\"Helvetica,sans-Serif\" font-size=\"14.00\">value = [11, 1]</text>\n<text text-anchor=\"middle\" x=\"12036.5\" y=\"-111.8\" font-family=\"Helvetica,sans-Serif\" font-size=\"14.00\">class = nao</text>\n</g>\n<!-- 307&#45;&gt;309 -->\n<g id=\"edge309\" class=\"edge\">\n<title>307&#45;&gt;309</title>\n<path fill=\"none\" stroke=\"black\" d=\"M11936.58,-222.91C11949.04,-213.38 11962.42,-203.15 11975.21,-193.37\"/>\n<polygon fill=\"black\" stroke=\"black\" points=\"11977.69,-195.88 11983.51,-187.02 11973.44,-190.32 11977.69,-195.88\"/>\n</g>\n<!-- 310 -->\n<g id=\"node311\" class=\"node\">\n<title>310</title>\n<path fill=\"#e58139\" stroke=\"black\" d=\"M12018.5,-68C12018.5,-68 11940.5,-68 11940.5,-68 11934.5,-68 11928.5,-62 11928.5,-56 11928.5,-56 11928.5,-12 11928.5,-12 11928.5,-6 11934.5,0 11940.5,0 11940.5,0 12018.5,0 12018.5,0 12024.5,0 12030.5,-6 12030.5,-12 12030.5,-12 12030.5,-56 12030.5,-56 12030.5,-62 12024.5,-68 12018.5,-68\"/>\n<text text-anchor=\"middle\" x=\"11979.5\" y=\"-52.8\" font-family=\"Helvetica,sans-Serif\" font-size=\"14.00\">gini = 0.0</text>\n<text text-anchor=\"middle\" x=\"11979.5\" y=\"-37.8\" font-family=\"Helvetica,sans-Serif\" font-size=\"14.00\">samples = 10</text>\n<text text-anchor=\"middle\" x=\"11979.5\" y=\"-22.8\" font-family=\"Helvetica,sans-Serif\" font-size=\"14.00\">value = [10, 0]</text>\n<text text-anchor=\"middle\" x=\"11979.5\" y=\"-7.8\" font-family=\"Helvetica,sans-Serif\" font-size=\"14.00\">class = nao</text>\n</g>\n<!-- 309&#45;&gt;310 -->\n<g id=\"edge310\" class=\"edge\">\n<title>309&#45;&gt;310</title>\n<path fill=\"none\" stroke=\"black\" d=\"M12015.28,-103.73C12010.76,-95.06 12005.99,-85.9 12001.46,-77.18\"/>\n<polygon fill=\"black\" stroke=\"black\" points=\"12004.56,-75.55 11996.83,-68.3 11998.35,-78.79 12004.56,-75.55\"/>\n</g>\n<!-- 311 -->\n<g id=\"node312\" class=\"node\">\n<title>311</title>\n<path fill=\"#ffffff\" stroke=\"black\" d=\"M12132,-68C12132,-68 12061,-68 12061,-68 12055,-68 12049,-62 12049,-56 12049,-56 12049,-12 12049,-12 12049,-6 12055,0 12061,0 12061,0 12132,0 12132,0 12138,0 12144,-6 12144,-12 12144,-12 12144,-56 12144,-56 12144,-62 12138,-68 12132,-68\"/>\n<text text-anchor=\"middle\" x=\"12096.5\" y=\"-52.8\" font-family=\"Helvetica,sans-Serif\" font-size=\"14.00\">gini = 0.5</text>\n<text text-anchor=\"middle\" x=\"12096.5\" y=\"-37.8\" font-family=\"Helvetica,sans-Serif\" font-size=\"14.00\">samples = 2</text>\n<text text-anchor=\"middle\" x=\"12096.5\" y=\"-22.8\" font-family=\"Helvetica,sans-Serif\" font-size=\"14.00\">value = [1, 1]</text>\n<text text-anchor=\"middle\" x=\"12096.5\" y=\"-7.8\" font-family=\"Helvetica,sans-Serif\" font-size=\"14.00\">class = nao</text>\n</g>\n<!-- 309&#45;&gt;311 -->\n<g id=\"edge311\" class=\"edge\">\n<title>309&#45;&gt;311</title>\n<path fill=\"none\" stroke=\"black\" d=\"M12058.84,-103.73C12063.59,-95.06 12068.61,-85.9 12073.39,-77.18\"/>\n<polygon fill=\"black\" stroke=\"black\" points=\"12076.52,-78.75 12078.25,-68.3 12070.38,-75.39 12076.52,-78.75\"/>\n</g>\n<!-- 313 -->\n<g id=\"node314\" class=\"node\">\n<title>313</title>\n<path fill=\"#93caf1\" stroke=\"black\" d=\"M12446.5,-782C12446.5,-782 12290.5,-782 12290.5,-782 12284.5,-782 12278.5,-776 12278.5,-770 12278.5,-770 12278.5,-711 12278.5,-711 12278.5,-705 12284.5,-699 12290.5,-699 12290.5,-699 12446.5,-699 12446.5,-699 12452.5,-699 12458.5,-705 12458.5,-711 12458.5,-711 12458.5,-770 12458.5,-770 12458.5,-776 12452.5,-782 12446.5,-782\"/>\n<text text-anchor=\"middle\" x=\"12368.5\" y=\"-766.8\" font-family=\"Helvetica,sans-Serif\" font-size=\"14.00\">km_por_ano &lt;= 42661.994</text>\n<text text-anchor=\"middle\" x=\"12368.5\" y=\"-751.8\" font-family=\"Helvetica,sans-Serif\" font-size=\"14.00\">gini = 0.43</text>\n<text text-anchor=\"middle\" x=\"12368.5\" y=\"-736.8\" font-family=\"Helvetica,sans-Serif\" font-size=\"14.00\">samples = 329</text>\n<text text-anchor=\"middle\" x=\"12368.5\" y=\"-721.8\" font-family=\"Helvetica,sans-Serif\" font-size=\"14.00\">value = [103, 226]</text>\n<text text-anchor=\"middle\" x=\"12368.5\" y=\"-706.8\" font-family=\"Helvetica,sans-Serif\" font-size=\"14.00\">class = sim</text>\n</g>\n<!-- 312&#45;&gt;313 -->\n<g id=\"edge313\" class=\"edge\">\n<title>312&#45;&gt;313</title>\n<path fill=\"none\" stroke=\"black\" d=\"M12368.5,-817.91C12368.5,-809.65 12368.5,-800.86 12368.5,-792.3\"/>\n<polygon fill=\"black\" stroke=\"black\" points=\"12372,-792.02 12368.5,-782.02 12365,-792.02 12372,-792.02\"/>\n</g>\n<!-- 342 -->\n<g id=\"node343\" class=\"node\">\n<title>342</title>\n<path fill=\"#e58139\" stroke=\"black\" d=\"M12560,-774.5C12560,-774.5 12489,-774.5 12489,-774.5 12483,-774.5 12477,-768.5 12477,-762.5 12477,-762.5 12477,-718.5 12477,-718.5 12477,-712.5 12483,-706.5 12489,-706.5 12489,-706.5 12560,-706.5 12560,-706.5 12566,-706.5 12572,-712.5 12572,-718.5 12572,-718.5 12572,-762.5 12572,-762.5 12572,-768.5 12566,-774.5 12560,-774.5\"/>\n<text text-anchor=\"middle\" x=\"12524.5\" y=\"-759.3\" font-family=\"Helvetica,sans-Serif\" font-size=\"14.00\">gini = 0.0</text>\n<text text-anchor=\"middle\" x=\"12524.5\" y=\"-744.3\" font-family=\"Helvetica,sans-Serif\" font-size=\"14.00\">samples = 2</text>\n<text text-anchor=\"middle\" x=\"12524.5\" y=\"-729.3\" font-family=\"Helvetica,sans-Serif\" font-size=\"14.00\">value = [2, 0]</text>\n<text text-anchor=\"middle\" x=\"12524.5\" y=\"-714.3\" font-family=\"Helvetica,sans-Serif\" font-size=\"14.00\">class = nao</text>\n</g>\n<!-- 312&#45;&gt;342 -->\n<g id=\"edge342\" class=\"edge\">\n<title>312&#45;&gt;342</title>\n<path fill=\"none\" stroke=\"black\" d=\"M12422.62,-817.91C12438.66,-805.88 12456.19,-792.73 12472.11,-780.79\"/>\n<polygon fill=\"black\" stroke=\"black\" points=\"12474.38,-783.47 12480.28,-774.67 12470.18,-777.87 12474.38,-783.47\"/>\n</g>\n<!-- 314 -->\n<g id=\"node315\" class=\"node\">\n<title>314</title>\n<path fill=\"#9acdf2\" stroke=\"black\" d=\"M12446.5,-663C12446.5,-663 12290.5,-663 12290.5,-663 12284.5,-663 12278.5,-657 12278.5,-651 12278.5,-651 12278.5,-592 12278.5,-592 12278.5,-586 12284.5,-580 12290.5,-580 12290.5,-580 12446.5,-580 12446.5,-580 12452.5,-580 12458.5,-586 12458.5,-592 12458.5,-592 12458.5,-651 12458.5,-651 12458.5,-657 12452.5,-663 12446.5,-663\"/>\n<text text-anchor=\"middle\" x=\"12368.5\" y=\"-647.8\" font-family=\"Helvetica,sans-Serif\" font-size=\"14.00\">km_por_ano &lt;= 25967.505</text>\n<text text-anchor=\"middle\" x=\"12368.5\" y=\"-632.8\" font-family=\"Helvetica,sans-Serif\" font-size=\"14.00\">gini = 0.442</text>\n<text text-anchor=\"middle\" x=\"12368.5\" y=\"-617.8\" font-family=\"Helvetica,sans-Serif\" font-size=\"14.00\">samples = 313</text>\n<text text-anchor=\"middle\" x=\"12368.5\" y=\"-602.8\" font-family=\"Helvetica,sans-Serif\" font-size=\"14.00\">value = [103, 210]</text>\n<text text-anchor=\"middle\" x=\"12368.5\" y=\"-587.8\" font-family=\"Helvetica,sans-Serif\" font-size=\"14.00\">class = sim</text>\n</g>\n<!-- 313&#45;&gt;314 -->\n<g id=\"edge314\" class=\"edge\">\n<title>313&#45;&gt;314</title>\n<path fill=\"none\" stroke=\"black\" d=\"M12368.5,-698.91C12368.5,-690.65 12368.5,-681.86 12368.5,-673.3\"/>\n<polygon fill=\"black\" stroke=\"black\" points=\"12372,-673.02 12368.5,-663.02 12365,-673.02 12372,-673.02\"/>\n</g>\n<!-- 341 -->\n<g id=\"node342\" class=\"node\">\n<title>341</title>\n<path fill=\"#399de5\" stroke=\"black\" d=\"M12566.5,-655.5C12566.5,-655.5 12488.5,-655.5 12488.5,-655.5 12482.5,-655.5 12476.5,-649.5 12476.5,-643.5 12476.5,-643.5 12476.5,-599.5 12476.5,-599.5 12476.5,-593.5 12482.5,-587.5 12488.5,-587.5 12488.5,-587.5 12566.5,-587.5 12566.5,-587.5 12572.5,-587.5 12578.5,-593.5 12578.5,-599.5 12578.5,-599.5 12578.5,-643.5 12578.5,-643.5 12578.5,-649.5 12572.5,-655.5 12566.5,-655.5\"/>\n<text text-anchor=\"middle\" x=\"12527.5\" y=\"-640.3\" font-family=\"Helvetica,sans-Serif\" font-size=\"14.00\">gini = 0.0</text>\n<text text-anchor=\"middle\" x=\"12527.5\" y=\"-625.3\" font-family=\"Helvetica,sans-Serif\" font-size=\"14.00\">samples = 16</text>\n<text text-anchor=\"middle\" x=\"12527.5\" y=\"-610.3\" font-family=\"Helvetica,sans-Serif\" font-size=\"14.00\">value = [0, 16]</text>\n<text text-anchor=\"middle\" x=\"12527.5\" y=\"-595.3\" font-family=\"Helvetica,sans-Serif\" font-size=\"14.00\">class = sim</text>\n</g>\n<!-- 313&#45;&gt;341 -->\n<g id=\"edge341\" class=\"edge\">\n<title>313&#45;&gt;341</title>\n<path fill=\"none\" stroke=\"black\" d=\"M12423.66,-698.91C12440.01,-686.88 12457.87,-673.73 12474.1,-661.79\"/>\n<polygon fill=\"black\" stroke=\"black\" points=\"12476.45,-664.41 12482.43,-655.67 12472.3,-658.77 12476.45,-664.41\"/>\n</g>\n<!-- 315 -->\n<g id=\"node316\" class=\"node\">\n<title>315</title>\n<path fill=\"#7bbeee\" stroke=\"black\" d=\"M12446.5,-544C12446.5,-544 12290.5,-544 12290.5,-544 12284.5,-544 12278.5,-538 12278.5,-532 12278.5,-532 12278.5,-473 12278.5,-473 12278.5,-467 12284.5,-461 12290.5,-461 12290.5,-461 12446.5,-461 12446.5,-461 12452.5,-461 12458.5,-467 12458.5,-473 12458.5,-473 12458.5,-532 12458.5,-532 12458.5,-538 12452.5,-544 12446.5,-544\"/>\n<text text-anchor=\"middle\" x=\"12368.5\" y=\"-528.8\" font-family=\"Helvetica,sans-Serif\" font-size=\"14.00\">km_por_ano &lt;= 25668.973</text>\n<text text-anchor=\"middle\" x=\"12368.5\" y=\"-513.8\" font-family=\"Helvetica,sans-Serif\" font-size=\"14.00\">gini = 0.375</text>\n<text text-anchor=\"middle\" x=\"12368.5\" y=\"-498.8\" font-family=\"Helvetica,sans-Serif\" font-size=\"14.00\">samples = 72</text>\n<text text-anchor=\"middle\" x=\"12368.5\" y=\"-483.8\" font-family=\"Helvetica,sans-Serif\" font-size=\"14.00\">value = [18, 54]</text>\n<text text-anchor=\"middle\" x=\"12368.5\" y=\"-468.8\" font-family=\"Helvetica,sans-Serif\" font-size=\"14.00\">class = sim</text>\n</g>\n<!-- 314&#45;&gt;315 -->\n<g id=\"edge315\" class=\"edge\">\n<title>314&#45;&gt;315</title>\n<path fill=\"none\" stroke=\"black\" d=\"M12368.5,-579.91C12368.5,-571.65 12368.5,-562.86 12368.5,-554.3\"/>\n<polygon fill=\"black\" stroke=\"black\" points=\"12372,-554.02 12368.5,-544.02 12365,-554.02 12372,-554.02\"/>\n</g>\n<!-- 326 -->\n<g id=\"node327\" class=\"node\">\n<title>326</title>\n<path fill=\"#a5d2f3\" stroke=\"black\" d=\"M12690.5,-544C12690.5,-544 12534.5,-544 12534.5,-544 12528.5,-544 12522.5,-538 12522.5,-532 12522.5,-532 12522.5,-473 12522.5,-473 12522.5,-467 12528.5,-461 12534.5,-461 12534.5,-461 12690.5,-461 12690.5,-461 12696.5,-461 12702.5,-467 12702.5,-473 12702.5,-473 12702.5,-532 12702.5,-532 12702.5,-538 12696.5,-544 12690.5,-544\"/>\n<text text-anchor=\"middle\" x=\"12612.5\" y=\"-528.8\" font-family=\"Helvetica,sans-Serif\" font-size=\"14.00\">km_por_ano &lt;= 26066.479</text>\n<text text-anchor=\"middle\" x=\"12612.5\" y=\"-513.8\" font-family=\"Helvetica,sans-Serif\" font-size=\"14.00\">gini = 0.457</text>\n<text text-anchor=\"middle\" x=\"12612.5\" y=\"-498.8\" font-family=\"Helvetica,sans-Serif\" font-size=\"14.00\">samples = 241</text>\n<text text-anchor=\"middle\" x=\"12612.5\" y=\"-483.8\" font-family=\"Helvetica,sans-Serif\" font-size=\"14.00\">value = [85, 156]</text>\n<text text-anchor=\"middle\" x=\"12612.5\" y=\"-468.8\" font-family=\"Helvetica,sans-Serif\" font-size=\"14.00\">class = sim</text>\n</g>\n<!-- 314&#45;&gt;326 -->\n<g id=\"edge326\" class=\"edge\">\n<title>314&#45;&gt;326</title>\n<path fill=\"none\" stroke=\"black\" d=\"M12453.15,-579.91C12474.35,-569.74 12497.21,-558.78 12518.82,-548.42\"/>\n<polygon fill=\"black\" stroke=\"black\" points=\"12520.49,-551.5 12528,-544.02 12517.46,-545.19 12520.49,-551.5\"/>\n</g>\n<!-- 316 -->\n<g id=\"node317\" class=\"node\">\n<title>316</title>\n<path fill=\"#92c9f1\" stroke=\"black\" d=\"M12400.5,-425C12400.5,-425 12244.5,-425 12244.5,-425 12238.5,-425 12232.5,-419 12232.5,-413 12232.5,-413 12232.5,-354 12232.5,-354 12232.5,-348 12238.5,-342 12244.5,-342 12244.5,-342 12400.5,-342 12400.5,-342 12406.5,-342 12412.5,-348 12412.5,-354 12412.5,-354 12412.5,-413 12412.5,-413 12412.5,-419 12406.5,-425 12400.5,-425\"/>\n<text text-anchor=\"middle\" x=\"12322.5\" y=\"-409.8\" font-family=\"Helvetica,sans-Serif\" font-size=\"14.00\">km_por_ano &lt;= 25641.614</text>\n<text text-anchor=\"middle\" x=\"12322.5\" y=\"-394.8\" font-family=\"Helvetica,sans-Serif\" font-size=\"14.00\">gini = 0.428</text>\n<text text-anchor=\"middle\" x=\"12322.5\" y=\"-379.8\" font-family=\"Helvetica,sans-Serif\" font-size=\"14.00\">samples = 58</text>\n<text text-anchor=\"middle\" x=\"12322.5\" y=\"-364.8\" font-family=\"Helvetica,sans-Serif\" font-size=\"14.00\">value = [18, 40]</text>\n<text text-anchor=\"middle\" x=\"12322.5\" y=\"-349.8\" font-family=\"Helvetica,sans-Serif\" font-size=\"14.00\">class = sim</text>\n</g>\n<!-- 315&#45;&gt;316 -->\n<g id=\"edge316\" class=\"edge\">\n<title>315&#45;&gt;316</title>\n<path fill=\"none\" stroke=\"black\" d=\"M12352.54,-460.91C12349.19,-452.38 12345.61,-443.28 12342.14,-434.46\"/>\n<polygon fill=\"black\" stroke=\"black\" points=\"12345.35,-433.05 12338.43,-425.02 12338.83,-435.61 12345.35,-433.05\"/>\n</g>\n<!-- 325 -->\n<g id=\"node326\" class=\"node\">\n<title>325</title>\n<path fill=\"#399de5\" stroke=\"black\" d=\"M12520.5,-417.5C12520.5,-417.5 12442.5,-417.5 12442.5,-417.5 12436.5,-417.5 12430.5,-411.5 12430.5,-405.5 12430.5,-405.5 12430.5,-361.5 12430.5,-361.5 12430.5,-355.5 12436.5,-349.5 12442.5,-349.5 12442.5,-349.5 12520.5,-349.5 12520.5,-349.5 12526.5,-349.5 12532.5,-355.5 12532.5,-361.5 12532.5,-361.5 12532.5,-405.5 12532.5,-405.5 12532.5,-411.5 12526.5,-417.5 12520.5,-417.5\"/>\n<text text-anchor=\"middle\" x=\"12481.5\" y=\"-402.3\" font-family=\"Helvetica,sans-Serif\" font-size=\"14.00\">gini = 0.0</text>\n<text text-anchor=\"middle\" x=\"12481.5\" y=\"-387.3\" font-family=\"Helvetica,sans-Serif\" font-size=\"14.00\">samples = 14</text>\n<text text-anchor=\"middle\" x=\"12481.5\" y=\"-372.3\" font-family=\"Helvetica,sans-Serif\" font-size=\"14.00\">value = [0, 14]</text>\n<text text-anchor=\"middle\" x=\"12481.5\" y=\"-357.3\" font-family=\"Helvetica,sans-Serif\" font-size=\"14.00\">class = sim</text>\n</g>\n<!-- 315&#45;&gt;325 -->\n<g id=\"edge325\" class=\"edge\">\n<title>315&#45;&gt;325</title>\n<path fill=\"none\" stroke=\"black\" d=\"M12407.7,-460.91C12418.89,-449.32 12431.09,-436.7 12442.28,-425.11\"/>\n<polygon fill=\"black\" stroke=\"black\" points=\"12445.04,-427.29 12449.47,-417.67 12440,-422.43 12445.04,-427.29\"/>\n</g>\n<!-- 317 -->\n<g id=\"node318\" class=\"node\">\n<title>317</title>\n<path fill=\"#88c4ef\" stroke=\"black\" d=\"M12376.5,-306C12376.5,-306 12254.5,-306 12254.5,-306 12248.5,-306 12242.5,-300 12242.5,-294 12242.5,-294 12242.5,-235 12242.5,-235 12242.5,-229 12248.5,-223 12254.5,-223 12254.5,-223 12376.5,-223 12376.5,-223 12382.5,-223 12388.5,-229 12388.5,-235 12388.5,-235 12388.5,-294 12388.5,-294 12388.5,-300 12382.5,-306 12376.5,-306\"/>\n<text text-anchor=\"middle\" x=\"12315.5\" y=\"-290.8\" font-family=\"Helvetica,sans-Serif\" font-size=\"14.00\">preco &lt;= 112568.258</text>\n<text text-anchor=\"middle\" x=\"12315.5\" y=\"-275.8\" font-family=\"Helvetica,sans-Serif\" font-size=\"14.00\">gini = 0.408</text>\n<text text-anchor=\"middle\" x=\"12315.5\" y=\"-260.8\" font-family=\"Helvetica,sans-Serif\" font-size=\"14.00\">samples = 56</text>\n<text text-anchor=\"middle\" x=\"12315.5\" y=\"-245.8\" font-family=\"Helvetica,sans-Serif\" font-size=\"14.00\">value = [16, 40]</text>\n<text text-anchor=\"middle\" x=\"12315.5\" y=\"-230.8\" font-family=\"Helvetica,sans-Serif\" font-size=\"14.00\">class = sim</text>\n</g>\n<!-- 316&#45;&gt;317 -->\n<g id=\"edge317\" class=\"edge\">\n<title>316&#45;&gt;317</title>\n<path fill=\"none\" stroke=\"black\" d=\"M12320.07,-341.91C12319.57,-333.56 12319.04,-324.67 12318.52,-316.02\"/>\n<polygon fill=\"black\" stroke=\"black\" points=\"12322.02,-315.79 12317.92,-306.02 12315.03,-316.21 12322.02,-315.79\"/>\n</g>\n<!-- 324 -->\n<g id=\"node325\" class=\"node\">\n<title>324</title>\n<path fill=\"#e58139\" stroke=\"black\" d=\"M12490,-298.5C12490,-298.5 12419,-298.5 12419,-298.5 12413,-298.5 12407,-292.5 12407,-286.5 12407,-286.5 12407,-242.5 12407,-242.5 12407,-236.5 12413,-230.5 12419,-230.5 12419,-230.5 12490,-230.5 12490,-230.5 12496,-230.5 12502,-236.5 12502,-242.5 12502,-242.5 12502,-286.5 12502,-286.5 12502,-292.5 12496,-298.5 12490,-298.5\"/>\n<text text-anchor=\"middle\" x=\"12454.5\" y=\"-283.3\" font-family=\"Helvetica,sans-Serif\" font-size=\"14.00\">gini = 0.0</text>\n<text text-anchor=\"middle\" x=\"12454.5\" y=\"-268.3\" font-family=\"Helvetica,sans-Serif\" font-size=\"14.00\">samples = 2</text>\n<text text-anchor=\"middle\" x=\"12454.5\" y=\"-253.3\" font-family=\"Helvetica,sans-Serif\" font-size=\"14.00\">value = [2, 0]</text>\n<text text-anchor=\"middle\" x=\"12454.5\" y=\"-238.3\" font-family=\"Helvetica,sans-Serif\" font-size=\"14.00\">class = nao</text>\n</g>\n<!-- 316&#45;&gt;324 -->\n<g id=\"edge324\" class=\"edge\">\n<title>316&#45;&gt;324</title>\n<path fill=\"none\" stroke=\"black\" d=\"M12368.3,-341.91C12381.62,-330.1 12396.15,-317.22 12409.43,-305.45\"/>\n<polygon fill=\"black\" stroke=\"black\" points=\"12411.92,-307.92 12417.08,-298.67 12407.28,-302.68 12411.92,-307.92\"/>\n</g>\n<!-- 318 -->\n<g id=\"node319\" class=\"node\">\n<title>318</title>\n<path fill=\"#7bbeee\" stroke=\"black\" d=\"M12372.5,-187C12372.5,-187 12250.5,-187 12250.5,-187 12244.5,-187 12238.5,-181 12238.5,-175 12238.5,-175 12238.5,-116 12238.5,-116 12238.5,-110 12244.5,-104 12250.5,-104 12250.5,-104 12372.5,-104 12372.5,-104 12378.5,-104 12384.5,-110 12384.5,-116 12384.5,-116 12384.5,-175 12384.5,-175 12384.5,-181 12378.5,-187 12372.5,-187\"/>\n<text text-anchor=\"middle\" x=\"12311.5\" y=\"-171.8\" font-family=\"Helvetica,sans-Serif\" font-size=\"14.00\">preco &lt;= 107394.887</text>\n<text text-anchor=\"middle\" x=\"12311.5\" y=\"-156.8\" font-family=\"Helvetica,sans-Serif\" font-size=\"14.00\">gini = 0.375</text>\n<text text-anchor=\"middle\" x=\"12311.5\" y=\"-141.8\" font-family=\"Helvetica,sans-Serif\" font-size=\"14.00\">samples = 52</text>\n<text text-anchor=\"middle\" x=\"12311.5\" y=\"-126.8\" font-family=\"Helvetica,sans-Serif\" font-size=\"14.00\">value = [13, 39]</text>\n<text text-anchor=\"middle\" x=\"12311.5\" y=\"-111.8\" font-family=\"Helvetica,sans-Serif\" font-size=\"14.00\">class = sim</text>\n</g>\n<!-- 317&#45;&gt;318 -->\n<g id=\"edge318\" class=\"edge\">\n<title>317&#45;&gt;318</title>\n<path fill=\"none\" stroke=\"black\" d=\"M12314.11,-222.91C12313.83,-214.56 12313.52,-205.67 12313.23,-197.02\"/>\n<polygon fill=\"black\" stroke=\"black\" points=\"12316.73,-196.9 12312.89,-187.02 12309.73,-197.13 12316.73,-196.9\"/>\n</g>\n<!-- 321 -->\n<g id=\"node322\" class=\"node\">\n<title>321</title>\n<path fill=\"#eeab7b\" stroke=\"black\" d=\"M12558,-187C12558,-187 12415,-187 12415,-187 12409,-187 12403,-181 12403,-175 12403,-175 12403,-116 12403,-116 12403,-110 12409,-104 12415,-104 12415,-104 12558,-104 12558,-104 12564,-104 12570,-110 12570,-116 12570,-116 12570,-175 12570,-175 12570,-181 12564,-187 12558,-187\"/>\n<text text-anchor=\"middle\" x=\"12486.5\" y=\"-171.8\" font-family=\"Helvetica,sans-Serif\" font-size=\"14.00\">idade_do_modelo &lt;= 3.5</text>\n<text text-anchor=\"middle\" x=\"12486.5\" y=\"-156.8\" font-family=\"Helvetica,sans-Serif\" font-size=\"14.00\">gini = 0.375</text>\n<text text-anchor=\"middle\" x=\"12486.5\" y=\"-141.8\" font-family=\"Helvetica,sans-Serif\" font-size=\"14.00\">samples = 4</text>\n<text text-anchor=\"middle\" x=\"12486.5\" y=\"-126.8\" font-family=\"Helvetica,sans-Serif\" font-size=\"14.00\">value = [3, 1]</text>\n<text text-anchor=\"middle\" x=\"12486.5\" y=\"-111.8\" font-family=\"Helvetica,sans-Serif\" font-size=\"14.00\">class = nao</text>\n</g>\n<!-- 317&#45;&gt;321 -->\n<g id=\"edge321\" class=\"edge\">\n<title>317&#45;&gt;321</title>\n<path fill=\"none\" stroke=\"black\" d=\"M12374.83,-222.91C12389.02,-213.2 12404.28,-202.76 12418.81,-192.81\"/>\n<polygon fill=\"black\" stroke=\"black\" points=\"12421,-195.56 12427.28,-187.02 12417.05,-189.78 12421,-195.56\"/>\n</g>\n<!-- 319 -->\n<g id=\"node320\" class=\"node\">\n<title>319</title>\n<path fill=\"#9ccef2\" stroke=\"black\" d=\"M12260.5,-68C12260.5,-68 12174.5,-68 12174.5,-68 12168.5,-68 12162.5,-62 12162.5,-56 12162.5,-56 12162.5,-12 12162.5,-12 12162.5,-6 12168.5,0 12174.5,0 12174.5,0 12260.5,0 12260.5,0 12266.5,0 12272.5,-6 12272.5,-12 12272.5,-12 12272.5,-56 12272.5,-56 12272.5,-62 12266.5,-68 12260.5,-68\"/>\n<text text-anchor=\"middle\" x=\"12217.5\" y=\"-52.8\" font-family=\"Helvetica,sans-Serif\" font-size=\"14.00\">gini = 0.444</text>\n<text text-anchor=\"middle\" x=\"12217.5\" y=\"-37.8\" font-family=\"Helvetica,sans-Serif\" font-size=\"14.00\">samples = 39</text>\n<text text-anchor=\"middle\" x=\"12217.5\" y=\"-22.8\" font-family=\"Helvetica,sans-Serif\" font-size=\"14.00\">value = [13, 26]</text>\n<text text-anchor=\"middle\" x=\"12217.5\" y=\"-7.8\" font-family=\"Helvetica,sans-Serif\" font-size=\"14.00\">class = sim</text>\n</g>\n<!-- 318&#45;&gt;319 -->\n<g id=\"edge319\" class=\"edge\">\n<title>318&#45;&gt;319</title>\n<path fill=\"none\" stroke=\"black\" d=\"M12276.5,-103.73C12268.75,-94.7 12260.53,-85.12 12252.77,-76.08\"/>\n<polygon fill=\"black\" stroke=\"black\" points=\"12255.26,-73.61 12246.09,-68.3 12249.94,-78.17 12255.26,-73.61\"/>\n</g>\n<!-- 320 -->\n<g id=\"node321\" class=\"node\">\n<title>320</title>\n<path fill=\"#399de5\" stroke=\"black\" d=\"M12380.5,-68C12380.5,-68 12302.5,-68 12302.5,-68 12296.5,-68 12290.5,-62 12290.5,-56 12290.5,-56 12290.5,-12 12290.5,-12 12290.5,-6 12296.5,0 12302.5,0 12302.5,0 12380.5,0 12380.5,0 12386.5,0 12392.5,-6 12392.5,-12 12392.5,-12 12392.5,-56 12392.5,-56 12392.5,-62 12386.5,-68 12380.5,-68\"/>\n<text text-anchor=\"middle\" x=\"12341.5\" y=\"-52.8\" font-family=\"Helvetica,sans-Serif\" font-size=\"14.00\">gini = 0.0</text>\n<text text-anchor=\"middle\" x=\"12341.5\" y=\"-37.8\" font-family=\"Helvetica,sans-Serif\" font-size=\"14.00\">samples = 13</text>\n<text text-anchor=\"middle\" x=\"12341.5\" y=\"-22.8\" font-family=\"Helvetica,sans-Serif\" font-size=\"14.00\">value = [0, 13]</text>\n<text text-anchor=\"middle\" x=\"12341.5\" y=\"-7.8\" font-family=\"Helvetica,sans-Serif\" font-size=\"14.00\">class = sim</text>\n</g>\n<!-- 318&#45;&gt;320 -->\n<g id=\"edge320\" class=\"edge\">\n<title>318&#45;&gt;320</title>\n<path fill=\"none\" stroke=\"black\" d=\"M12322.67,-103.73C12324.97,-95.34 12327.4,-86.47 12329.72,-78.01\"/>\n<polygon fill=\"black\" stroke=\"black\" points=\"12333.11,-78.87 12332.38,-68.3 12326.36,-77.02 12333.11,-78.87\"/>\n</g>\n<!-- 322 -->\n<g id=\"node323\" class=\"node\">\n<title>322</title>\n<path fill=\"#399de5\" stroke=\"black\" d=\"M12494,-68C12494,-68 12423,-68 12423,-68 12417,-68 12411,-62 12411,-56 12411,-56 12411,-12 12411,-12 12411,-6 12417,0 12423,0 12423,0 12494,0 12494,0 12500,0 12506,-6 12506,-12 12506,-12 12506,-56 12506,-56 12506,-62 12500,-68 12494,-68\"/>\n<text text-anchor=\"middle\" x=\"12458.5\" y=\"-52.8\" font-family=\"Helvetica,sans-Serif\" font-size=\"14.00\">gini = 0.0</text>\n<text text-anchor=\"middle\" x=\"12458.5\" y=\"-37.8\" font-family=\"Helvetica,sans-Serif\" font-size=\"14.00\">samples = 1</text>\n<text text-anchor=\"middle\" x=\"12458.5\" y=\"-22.8\" font-family=\"Helvetica,sans-Serif\" font-size=\"14.00\">value = [0, 1]</text>\n<text text-anchor=\"middle\" x=\"12458.5\" y=\"-7.8\" font-family=\"Helvetica,sans-Serif\" font-size=\"14.00\">class = sim</text>\n</g>\n<!-- 321&#45;&gt;322 -->\n<g id=\"edge322\" class=\"edge\">\n<title>321&#45;&gt;322</title>\n<path fill=\"none\" stroke=\"black\" d=\"M12476.07,-103.73C12473.93,-95.34 12471.66,-86.47 12469.5,-78.01\"/>\n<polygon fill=\"black\" stroke=\"black\" points=\"12472.88,-77.12 12467.01,-68.3 12466.1,-78.85 12472.88,-77.12\"/>\n</g>\n<!-- 323 -->\n<g id=\"node324\" class=\"node\">\n<title>323</title>\n<path fill=\"#e58139\" stroke=\"black\" d=\"M12607,-68C12607,-68 12536,-68 12536,-68 12530,-68 12524,-62 12524,-56 12524,-56 12524,-12 12524,-12 12524,-6 12530,0 12536,0 12536,0 12607,0 12607,0 12613,0 12619,-6 12619,-12 12619,-12 12619,-56 12619,-56 12619,-62 12613,-68 12607,-68\"/>\n<text text-anchor=\"middle\" x=\"12571.5\" y=\"-52.8\" font-family=\"Helvetica,sans-Serif\" font-size=\"14.00\">gini = 0.0</text>\n<text text-anchor=\"middle\" x=\"12571.5\" y=\"-37.8\" font-family=\"Helvetica,sans-Serif\" font-size=\"14.00\">samples = 3</text>\n<text text-anchor=\"middle\" x=\"12571.5\" y=\"-22.8\" font-family=\"Helvetica,sans-Serif\" font-size=\"14.00\">value = [3, 0]</text>\n<text text-anchor=\"middle\" x=\"12571.5\" y=\"-7.8\" font-family=\"Helvetica,sans-Serif\" font-size=\"14.00\">class = nao</text>\n</g>\n<!-- 321&#45;&gt;323 -->\n<g id=\"edge323\" class=\"edge\">\n<title>321&#45;&gt;323</title>\n<path fill=\"none\" stroke=\"black\" d=\"M12518.15,-103.73C12525.09,-94.79 12532.44,-85.32 12539.4,-76.36\"/>\n<polygon fill=\"black\" stroke=\"black\" points=\"12542.28,-78.35 12545.65,-68.3 12536.75,-74.05 12542.28,-78.35\"/>\n</g>\n<!-- 327 -->\n<g id=\"node328\" class=\"node\">\n<title>327</title>\n<path fill=\"#e58139\" stroke=\"black\" d=\"M12648,-417.5C12648,-417.5 12577,-417.5 12577,-417.5 12571,-417.5 12565,-411.5 12565,-405.5 12565,-405.5 12565,-361.5 12565,-361.5 12565,-355.5 12571,-349.5 12577,-349.5 12577,-349.5 12648,-349.5 12648,-349.5 12654,-349.5 12660,-355.5 12660,-361.5 12660,-361.5 12660,-405.5 12660,-405.5 12660,-411.5 12654,-417.5 12648,-417.5\"/>\n<text text-anchor=\"middle\" x=\"12612.5\" y=\"-402.3\" font-family=\"Helvetica,sans-Serif\" font-size=\"14.00\">gini = 0.0</text>\n<text text-anchor=\"middle\" x=\"12612.5\" y=\"-387.3\" font-family=\"Helvetica,sans-Serif\" font-size=\"14.00\">samples = 2</text>\n<text text-anchor=\"middle\" x=\"12612.5\" y=\"-372.3\" font-family=\"Helvetica,sans-Serif\" font-size=\"14.00\">value = [2, 0]</text>\n<text text-anchor=\"middle\" x=\"12612.5\" y=\"-357.3\" font-family=\"Helvetica,sans-Serif\" font-size=\"14.00\">class = nao</text>\n</g>\n<!-- 326&#45;&gt;327 -->\n<g id=\"edge327\" class=\"edge\">\n<title>326&#45;&gt;327</title>\n<path fill=\"none\" stroke=\"black\" d=\"M12612.5,-460.91C12612.5,-450.2 12612.5,-438.62 12612.5,-427.78\"/>\n<polygon fill=\"black\" stroke=\"black\" points=\"12616,-427.67 12612.5,-417.67 12609,-427.67 12616,-427.67\"/>\n</g>\n<!-- 328 -->\n<g id=\"node329\" class=\"node\">\n<title>328</title>\n<path fill=\"#a2d1f3\" stroke=\"black\" d=\"M12895.5,-425C12895.5,-425 12773.5,-425 12773.5,-425 12767.5,-425 12761.5,-419 12761.5,-413 12761.5,-413 12761.5,-354 12761.5,-354 12761.5,-348 12767.5,-342 12773.5,-342 12773.5,-342 12895.5,-342 12895.5,-342 12901.5,-342 12907.5,-348 12907.5,-354 12907.5,-354 12907.5,-413 12907.5,-413 12907.5,-419 12901.5,-425 12895.5,-425\"/>\n<text text-anchor=\"middle\" x=\"12834.5\" y=\"-409.8\" font-family=\"Helvetica,sans-Serif\" font-size=\"14.00\">preco &lt;= 112086.023</text>\n<text text-anchor=\"middle\" x=\"12834.5\" y=\"-394.8\" font-family=\"Helvetica,sans-Serif\" font-size=\"14.00\">gini = 0.453</text>\n<text text-anchor=\"middle\" x=\"12834.5\" y=\"-379.8\" font-family=\"Helvetica,sans-Serif\" font-size=\"14.00\">samples = 239</text>\n<text text-anchor=\"middle\" x=\"12834.5\" y=\"-364.8\" font-family=\"Helvetica,sans-Serif\" font-size=\"14.00\">value = [83, 156]</text>\n<text text-anchor=\"middle\" x=\"12834.5\" y=\"-349.8\" font-family=\"Helvetica,sans-Serif\" font-size=\"14.00\">class = sim</text>\n</g>\n<!-- 326&#45;&gt;328 -->\n<g id=\"edge328\" class=\"edge\">\n<title>326&#45;&gt;328</title>\n<path fill=\"none\" stroke=\"black\" d=\"M12689.52,-460.91C12709.81,-450.21 12731.78,-438.64 12752.33,-427.81\"/>\n<polygon fill=\"black\" stroke=\"black\" points=\"12754.14,-430.81 12761.35,-423.05 12750.87,-424.62 12754.14,-430.81\"/>\n</g>\n<!-- 329 -->\n<g id=\"node330\" class=\"node\">\n<title>329</title>\n<path fill=\"#add6f4\" stroke=\"black\" d=\"M12895.5,-306C12895.5,-306 12773.5,-306 12773.5,-306 12767.5,-306 12761.5,-300 12761.5,-294 12761.5,-294 12761.5,-235 12761.5,-235 12761.5,-229 12767.5,-223 12773.5,-223 12773.5,-223 12895.5,-223 12895.5,-223 12901.5,-223 12907.5,-229 12907.5,-235 12907.5,-235 12907.5,-294 12907.5,-294 12907.5,-300 12901.5,-306 12895.5,-306\"/>\n<text text-anchor=\"middle\" x=\"12834.5\" y=\"-290.8\" font-family=\"Helvetica,sans-Serif\" font-size=\"14.00\">preco &lt;= 103744.188</text>\n<text text-anchor=\"middle\" x=\"12834.5\" y=\"-275.8\" font-family=\"Helvetica,sans-Serif\" font-size=\"14.00\">gini = 0.466</text>\n<text text-anchor=\"middle\" x=\"12834.5\" y=\"-260.8\" font-family=\"Helvetica,sans-Serif\" font-size=\"14.00\">samples = 206</text>\n<text text-anchor=\"middle\" x=\"12834.5\" y=\"-245.8\" font-family=\"Helvetica,sans-Serif\" font-size=\"14.00\">value = [76, 130]</text>\n<text text-anchor=\"middle\" x=\"12834.5\" y=\"-230.8\" font-family=\"Helvetica,sans-Serif\" font-size=\"14.00\">class = sim</text>\n</g>\n<!-- 328&#45;&gt;329 -->\n<g id=\"edge329\" class=\"edge\">\n<title>328&#45;&gt;329</title>\n<path fill=\"none\" stroke=\"black\" d=\"M12834.5,-341.91C12834.5,-333.65 12834.5,-324.86 12834.5,-316.3\"/>\n<polygon fill=\"black\" stroke=\"black\" points=\"12838,-316.02 12834.5,-306.02 12831,-316.02 12838,-316.02\"/>\n</g>\n<!-- 336 -->\n<g id=\"node337\" class=\"node\">\n<title>336</title>\n<path fill=\"#6eb7ec\" stroke=\"black\" d=\"M13139.5,-306C13139.5,-306 13017.5,-306 13017.5,-306 13011.5,-306 13005.5,-300 13005.5,-294 13005.5,-294 13005.5,-235 13005.5,-235 13005.5,-229 13011.5,-223 13017.5,-223 13017.5,-223 13139.5,-223 13139.5,-223 13145.5,-223 13151.5,-229 13151.5,-235 13151.5,-235 13151.5,-294 13151.5,-294 13151.5,-300 13145.5,-306 13139.5,-306\"/>\n<text text-anchor=\"middle\" x=\"13078.5\" y=\"-290.8\" font-family=\"Helvetica,sans-Serif\" font-size=\"14.00\">preco &lt;= 112896.492</text>\n<text text-anchor=\"middle\" x=\"13078.5\" y=\"-275.8\" font-family=\"Helvetica,sans-Serif\" font-size=\"14.00\">gini = 0.334</text>\n<text text-anchor=\"middle\" x=\"13078.5\" y=\"-260.8\" font-family=\"Helvetica,sans-Serif\" font-size=\"14.00\">samples = 33</text>\n<text text-anchor=\"middle\" x=\"13078.5\" y=\"-245.8\" font-family=\"Helvetica,sans-Serif\" font-size=\"14.00\">value = [7, 26]</text>\n<text text-anchor=\"middle\" x=\"13078.5\" y=\"-230.8\" font-family=\"Helvetica,sans-Serif\" font-size=\"14.00\">class = sim</text>\n</g>\n<!-- 328&#45;&gt;336 -->\n<g id=\"edge336\" class=\"edge\">\n<title>328&#45;&gt;336</title>\n<path fill=\"none\" stroke=\"black\" d=\"M12907.71,-347.4C12935.57,-334.03 12967.51,-318.72 12996.16,-304.98\"/>\n<polygon fill=\"black\" stroke=\"black\" points=\"12997.84,-308.06 13005.34,-300.58 12994.81,-301.75 12997.84,-308.06\"/>\n</g>\n<!-- 330 -->\n<g id=\"node331\" class=\"node\">\n<title>330</title>\n<path fill=\"#8bc6f0\" stroke=\"black\" d=\"M12833.5,-187C12833.5,-187 12677.5,-187 12677.5,-187 12671.5,-187 12665.5,-181 12665.5,-175 12665.5,-175 12665.5,-116 12665.5,-116 12665.5,-110 12671.5,-104 12677.5,-104 12677.5,-104 12833.5,-104 12833.5,-104 12839.5,-104 12845.5,-110 12845.5,-116 12845.5,-116 12845.5,-175 12845.5,-175 12845.5,-181 12839.5,-187 12833.5,-187\"/>\n<text text-anchor=\"middle\" x=\"12755.5\" y=\"-171.8\" font-family=\"Helvetica,sans-Serif\" font-size=\"14.00\">km_por_ano &lt;= 32035.522</text>\n<text text-anchor=\"middle\" x=\"12755.5\" y=\"-156.8\" font-family=\"Helvetica,sans-Serif\" font-size=\"14.00\">gini = 0.415</text>\n<text text-anchor=\"middle\" x=\"12755.5\" y=\"-141.8\" font-family=\"Helvetica,sans-Serif\" font-size=\"14.00\">samples = 92</text>\n<text text-anchor=\"middle\" x=\"12755.5\" y=\"-126.8\" font-family=\"Helvetica,sans-Serif\" font-size=\"14.00\">value = [27, 65]</text>\n<text text-anchor=\"middle\" x=\"12755.5\" y=\"-111.8\" font-family=\"Helvetica,sans-Serif\" font-size=\"14.00\">class = sim</text>\n</g>\n<!-- 329&#45;&gt;330 -->\n<g id=\"edge330\" class=\"edge\">\n<title>329&#45;&gt;330</title>\n<path fill=\"none\" stroke=\"black\" d=\"M12807.09,-222.91C12801.09,-214.01 12794.67,-204.51 12788.47,-195.33\"/>\n<polygon fill=\"black\" stroke=\"black\" points=\"12791.36,-193.35 12782.86,-187.02 12785.56,-197.27 12791.36,-193.35\"/>\n</g>\n<!-- 333 -->\n<g id=\"node334\" class=\"node\">\n<title>333</title>\n<path fill=\"#cee7f9\" stroke=\"black\" d=\"M12997.5,-187C12997.5,-187 12875.5,-187 12875.5,-187 12869.5,-187 12863.5,-181 12863.5,-175 12863.5,-175 12863.5,-116 12863.5,-116 12863.5,-110 12869.5,-104 12875.5,-104 12875.5,-104 12997.5,-104 12997.5,-104 13003.5,-104 13009.5,-110 13009.5,-116 13009.5,-116 13009.5,-175 13009.5,-175 13009.5,-181 13003.5,-187 12997.5,-187\"/>\n<text text-anchor=\"middle\" x=\"12936.5\" y=\"-171.8\" font-family=\"Helvetica,sans-Serif\" font-size=\"14.00\">preco &lt;= 104872.785</text>\n<text text-anchor=\"middle\" x=\"12936.5\" y=\"-156.8\" font-family=\"Helvetica,sans-Serif\" font-size=\"14.00\">gini = 0.49</text>\n<text text-anchor=\"middle\" x=\"12936.5\" y=\"-141.8\" font-family=\"Helvetica,sans-Serif\" font-size=\"14.00\">samples = 114</text>\n<text text-anchor=\"middle\" x=\"12936.5\" y=\"-126.8\" font-family=\"Helvetica,sans-Serif\" font-size=\"14.00\">value = [49, 65]</text>\n<text text-anchor=\"middle\" x=\"12936.5\" y=\"-111.8\" font-family=\"Helvetica,sans-Serif\" font-size=\"14.00\">class = sim</text>\n</g>\n<!-- 329&#45;&gt;333 -->\n<g id=\"edge333\" class=\"edge\">\n<title>329&#45;&gt;333</title>\n<path fill=\"none\" stroke=\"black\" d=\"M12869.89,-222.91C12877.8,-213.83 12886.27,-204.12 12894.42,-194.77\"/>\n<polygon fill=\"black\" stroke=\"black\" points=\"12897.24,-196.86 12901.17,-187.02 12891.96,-192.26 12897.24,-196.86\"/>\n</g>\n<!-- 331 -->\n<g id=\"node332\" class=\"node\">\n<title>331</title>\n<path fill=\"#b3daf5\" stroke=\"black\" d=\"M12735.5,-68C12735.5,-68 12649.5,-68 12649.5,-68 12643.5,-68 12637.5,-62 12637.5,-56 12637.5,-56 12637.5,-12 12637.5,-12 12637.5,-6 12643.5,0 12649.5,0 12649.5,0 12735.5,0 12735.5,0 12741.5,0 12747.5,-6 12747.5,-12 12747.5,-12 12747.5,-56 12747.5,-56 12747.5,-62 12741.5,-68 12735.5,-68\"/>\n<text text-anchor=\"middle\" x=\"12692.5\" y=\"-52.8\" font-family=\"Helvetica,sans-Serif\" font-size=\"14.00\">gini = 0.472</text>\n<text text-anchor=\"middle\" x=\"12692.5\" y=\"-37.8\" font-family=\"Helvetica,sans-Serif\" font-size=\"14.00\">samples = 55</text>\n<text text-anchor=\"middle\" x=\"12692.5\" y=\"-22.8\" font-family=\"Helvetica,sans-Serif\" font-size=\"14.00\">value = [21, 34]</text>\n<text text-anchor=\"middle\" x=\"12692.5\" y=\"-7.8\" font-family=\"Helvetica,sans-Serif\" font-size=\"14.00\">class = sim</text>\n</g>\n<!-- 330&#45;&gt;331 -->\n<g id=\"edge331\" class=\"edge\">\n<title>330&#45;&gt;331</title>\n<path fill=\"none\" stroke=\"black\" d=\"M12732.04,-103.73C12727.06,-95.06 12721.78,-85.9 12716.77,-77.18\"/>\n<polygon fill=\"black\" stroke=\"black\" points=\"12719.68,-75.22 12711.66,-68.3 12713.61,-78.71 12719.68,-75.22\"/>\n</g>\n<!-- 332 -->\n<g id=\"node333\" class=\"node\">\n<title>332</title>\n<path fill=\"#5fb0ea\" stroke=\"black\" d=\"M12855.5,-68C12855.5,-68 12777.5,-68 12777.5,-68 12771.5,-68 12765.5,-62 12765.5,-56 12765.5,-56 12765.5,-12 12765.5,-12 12765.5,-6 12771.5,0 12777.5,0 12777.5,0 12855.5,0 12855.5,0 12861.5,0 12867.5,-6 12867.5,-12 12867.5,-12 12867.5,-56 12867.5,-56 12867.5,-62 12861.5,-68 12855.5,-68\"/>\n<text text-anchor=\"middle\" x=\"12816.5\" y=\"-52.8\" font-family=\"Helvetica,sans-Serif\" font-size=\"14.00\">gini = 0.272</text>\n<text text-anchor=\"middle\" x=\"12816.5\" y=\"-37.8\" font-family=\"Helvetica,sans-Serif\" font-size=\"14.00\">samples = 37</text>\n<text text-anchor=\"middle\" x=\"12816.5\" y=\"-22.8\" font-family=\"Helvetica,sans-Serif\" font-size=\"14.00\">value = [6, 31]</text>\n<text text-anchor=\"middle\" x=\"12816.5\" y=\"-7.8\" font-family=\"Helvetica,sans-Serif\" font-size=\"14.00\">class = sim</text>\n</g>\n<!-- 330&#45;&gt;332 -->\n<g id=\"edge332\" class=\"edge\">\n<title>330&#45;&gt;332</title>\n<path fill=\"none\" stroke=\"black\" d=\"M12778.21,-103.73C12783.04,-95.06 12788.15,-85.9 12793,-77.18\"/>\n<polygon fill=\"black\" stroke=\"black\" points=\"12796.14,-78.74 12797.95,-68.3 12790.03,-75.33 12796.14,-78.74\"/>\n</g>\n<!-- 334 -->\n<g id=\"node335\" class=\"node\">\n<title>334</title>\n<path fill=\"#f2c09c\" stroke=\"black\" d=\"M12975.5,-68C12975.5,-68 12897.5,-68 12897.5,-68 12891.5,-68 12885.5,-62 12885.5,-56 12885.5,-56 12885.5,-12 12885.5,-12 12885.5,-6 12891.5,0 12897.5,0 12897.5,0 12975.5,0 12975.5,0 12981.5,0 12987.5,-6 12987.5,-12 12987.5,-12 12987.5,-56 12987.5,-56 12987.5,-62 12981.5,-68 12975.5,-68\"/>\n<text text-anchor=\"middle\" x=\"12936.5\" y=\"-52.8\" font-family=\"Helvetica,sans-Serif\" font-size=\"14.00\">gini = 0.444</text>\n<text text-anchor=\"middle\" x=\"12936.5\" y=\"-37.8\" font-family=\"Helvetica,sans-Serif\" font-size=\"14.00\">samples = 18</text>\n<text text-anchor=\"middle\" x=\"12936.5\" y=\"-22.8\" font-family=\"Helvetica,sans-Serif\" font-size=\"14.00\">value = [12, 6]</text>\n<text text-anchor=\"middle\" x=\"12936.5\" y=\"-7.8\" font-family=\"Helvetica,sans-Serif\" font-size=\"14.00\">class = nao</text>\n</g>\n<!-- 333&#45;&gt;334 -->\n<g id=\"edge334\" class=\"edge\">\n<title>333&#45;&gt;334</title>\n<path fill=\"none\" stroke=\"black\" d=\"M12936.5,-103.73C12936.5,-95.52 12936.5,-86.86 12936.5,-78.56\"/>\n<polygon fill=\"black\" stroke=\"black\" points=\"12940,-78.3 12936.5,-68.3 12933,-78.3 12940,-78.3\"/>\n</g>\n<!-- 335 -->\n<g id=\"node336\" class=\"node\">\n<title>335</title>\n<path fill=\"#b5daf5\" stroke=\"black\" d=\"M13103.5,-68C13103.5,-68 13017.5,-68 13017.5,-68 13011.5,-68 13005.5,-62 13005.5,-56 13005.5,-56 13005.5,-12 13005.5,-12 13005.5,-6 13011.5,0 13017.5,0 13017.5,0 13103.5,0 13103.5,0 13109.5,0 13115.5,-6 13115.5,-12 13115.5,-12 13115.5,-56 13115.5,-56 13115.5,-62 13109.5,-68 13103.5,-68\"/>\n<text text-anchor=\"middle\" x=\"13060.5\" y=\"-52.8\" font-family=\"Helvetica,sans-Serif\" font-size=\"14.00\">gini = 0.474</text>\n<text text-anchor=\"middle\" x=\"13060.5\" y=\"-37.8\" font-family=\"Helvetica,sans-Serif\" font-size=\"14.00\">samples = 96</text>\n<text text-anchor=\"middle\" x=\"13060.5\" y=\"-22.8\" font-family=\"Helvetica,sans-Serif\" font-size=\"14.00\">value = [37, 59]</text>\n<text text-anchor=\"middle\" x=\"13060.5\" y=\"-7.8\" font-family=\"Helvetica,sans-Serif\" font-size=\"14.00\">class = sim</text>\n</g>\n<!-- 333&#45;&gt;335 -->\n<g id=\"edge335\" class=\"edge\">\n<title>333&#45;&gt;335</title>\n<path fill=\"none\" stroke=\"black\" d=\"M12982.67,-103.73C12993.31,-94.33 13004.62,-84.35 13015.22,-74.99\"/>\n<polygon fill=\"black\" stroke=\"black\" points=\"13017.61,-77.54 13022.79,-68.3 13012.98,-72.3 13017.61,-77.54\"/>\n</g>\n<!-- 337 -->\n<g id=\"node338\" class=\"node\">\n<title>337</title>\n<path fill=\"#399de5\" stroke=\"black\" d=\"M13117.5,-179.5C13117.5,-179.5 13039.5,-179.5 13039.5,-179.5 13033.5,-179.5 13027.5,-173.5 13027.5,-167.5 13027.5,-167.5 13027.5,-123.5 13027.5,-123.5 13027.5,-117.5 13033.5,-111.5 13039.5,-111.5 13039.5,-111.5 13117.5,-111.5 13117.5,-111.5 13123.5,-111.5 13129.5,-117.5 13129.5,-123.5 13129.5,-123.5 13129.5,-167.5 13129.5,-167.5 13129.5,-173.5 13123.5,-179.5 13117.5,-179.5\"/>\n<text text-anchor=\"middle\" x=\"13078.5\" y=\"-164.3\" font-family=\"Helvetica,sans-Serif\" font-size=\"14.00\">gini = 0.0</text>\n<text text-anchor=\"middle\" x=\"13078.5\" y=\"-149.3\" font-family=\"Helvetica,sans-Serif\" font-size=\"14.00\">samples = 10</text>\n<text text-anchor=\"middle\" x=\"13078.5\" y=\"-134.3\" font-family=\"Helvetica,sans-Serif\" font-size=\"14.00\">value = [0, 10]</text>\n<text text-anchor=\"middle\" x=\"13078.5\" y=\"-119.3\" font-family=\"Helvetica,sans-Serif\" font-size=\"14.00\">class = sim</text>\n</g>\n<!-- 336&#45;&gt;337 -->\n<g id=\"edge337\" class=\"edge\">\n<title>336&#45;&gt;337</title>\n<path fill=\"none\" stroke=\"black\" d=\"M13078.5,-222.91C13078.5,-212.2 13078.5,-200.62 13078.5,-189.78\"/>\n<polygon fill=\"black\" stroke=\"black\" points=\"13082,-189.67 13078.5,-179.67 13075,-189.67 13082,-189.67\"/>\n</g>\n<!-- 338 -->\n<g id=\"node339\" class=\"node\">\n<title>338</title>\n<path fill=\"#90c8f0\" stroke=\"black\" d=\"M13315.5,-187C13315.5,-187 13159.5,-187 13159.5,-187 13153.5,-187 13147.5,-181 13147.5,-175 13147.5,-175 13147.5,-116 13147.5,-116 13147.5,-110 13153.5,-104 13159.5,-104 13159.5,-104 13315.5,-104 13315.5,-104 13321.5,-104 13327.5,-110 13327.5,-116 13327.5,-116 13327.5,-175 13327.5,-175 13327.5,-181 13321.5,-187 13315.5,-187\"/>\n<text text-anchor=\"middle\" x=\"13237.5\" y=\"-171.8\" font-family=\"Helvetica,sans-Serif\" font-size=\"14.00\">km_por_ano &lt;= 36944.008</text>\n<text text-anchor=\"middle\" x=\"13237.5\" y=\"-156.8\" font-family=\"Helvetica,sans-Serif\" font-size=\"14.00\">gini = 0.423</text>\n<text text-anchor=\"middle\" x=\"13237.5\" y=\"-141.8\" font-family=\"Helvetica,sans-Serif\" font-size=\"14.00\">samples = 23</text>\n<text text-anchor=\"middle\" x=\"13237.5\" y=\"-126.8\" font-family=\"Helvetica,sans-Serif\" font-size=\"14.00\">value = [7, 16]</text>\n<text text-anchor=\"middle\" x=\"13237.5\" y=\"-111.8\" font-family=\"Helvetica,sans-Serif\" font-size=\"14.00\">class = sim</text>\n</g>\n<!-- 336&#45;&gt;338 -->\n<g id=\"edge338\" class=\"edge\">\n<title>336&#45;&gt;338</title>\n<path fill=\"none\" stroke=\"black\" d=\"M13133.66,-222.91C13146.74,-213.29 13160.78,-202.95 13174.18,-193.09\"/>\n<polygon fill=\"black\" stroke=\"black\" points=\"13176.45,-195.77 13182.43,-187.02 13172.3,-190.13 13176.45,-195.77\"/>\n</g>\n<!-- 339 -->\n<g id=\"node340\" class=\"node\">\n<title>339</title>\n<path fill=\"#b7dbf6\" stroke=\"black\" d=\"M13249.5,-68C13249.5,-68 13171.5,-68 13171.5,-68 13165.5,-68 13159.5,-62 13159.5,-56 13159.5,-56 13159.5,-12 13159.5,-12 13159.5,-6 13165.5,0 13171.5,0 13171.5,0 13249.5,0 13249.5,0 13255.5,0 13261.5,-6 13261.5,-12 13261.5,-12 13261.5,-56 13261.5,-56 13261.5,-62 13255.5,-68 13249.5,-68\"/>\n<text text-anchor=\"middle\" x=\"13210.5\" y=\"-52.8\" font-family=\"Helvetica,sans-Serif\" font-size=\"14.00\">gini = 0.475</text>\n<text text-anchor=\"middle\" x=\"13210.5\" y=\"-37.8\" font-family=\"Helvetica,sans-Serif\" font-size=\"14.00\">samples = 18</text>\n<text text-anchor=\"middle\" x=\"13210.5\" y=\"-22.8\" font-family=\"Helvetica,sans-Serif\" font-size=\"14.00\">value = [7, 11]</text>\n<text text-anchor=\"middle\" x=\"13210.5\" y=\"-7.8\" font-family=\"Helvetica,sans-Serif\" font-size=\"14.00\">class = sim</text>\n</g>\n<!-- 338&#45;&gt;339 -->\n<g id=\"edge339\" class=\"edge\">\n<title>338&#45;&gt;339</title>\n<path fill=\"none\" stroke=\"black\" d=\"M13227.45,-103.73C13225.4,-95.43 13223.24,-86.67 13221.17,-78.28\"/>\n<polygon fill=\"black\" stroke=\"black\" points=\"13224.5,-77.17 13218.71,-68.3 13217.71,-78.85 13224.5,-77.17\"/>\n</g>\n<!-- 340 -->\n<g id=\"node341\" class=\"node\">\n<title>340</title>\n<path fill=\"#399de5\" stroke=\"black\" d=\"M13363,-68C13363,-68 13292,-68 13292,-68 13286,-68 13280,-62 13280,-56 13280,-56 13280,-12 13280,-12 13280,-6 13286,0 13292,0 13292,0 13363,0 13363,0 13369,0 13375,-6 13375,-12 13375,-12 13375,-56 13375,-56 13375,-62 13369,-68 13363,-68\"/>\n<text text-anchor=\"middle\" x=\"13327.5\" y=\"-52.8\" font-family=\"Helvetica,sans-Serif\" font-size=\"14.00\">gini = 0.0</text>\n<text text-anchor=\"middle\" x=\"13327.5\" y=\"-37.8\" font-family=\"Helvetica,sans-Serif\" font-size=\"14.00\">samples = 5</text>\n<text text-anchor=\"middle\" x=\"13327.5\" y=\"-22.8\" font-family=\"Helvetica,sans-Serif\" font-size=\"14.00\">value = [0, 5]</text>\n<text text-anchor=\"middle\" x=\"13327.5\" y=\"-7.8\" font-family=\"Helvetica,sans-Serif\" font-size=\"14.00\">class = sim</text>\n</g>\n<!-- 338&#45;&gt;340 -->\n<g id=\"edge340\" class=\"edge\">\n<title>338&#45;&gt;340</title>\n<path fill=\"none\" stroke=\"black\" d=\"M13271.01,-103.73C13278.43,-94.7 13286.3,-85.12 13293.73,-76.08\"/>\n<polygon fill=\"black\" stroke=\"black\" points=\"13296.48,-78.25 13300.13,-68.3 13291.08,-73.8 13296.48,-78.25\"/>\n</g>\n</g>\n</svg>\n"
          },
          "metadata": {},
          "execution_count": 13
        }
      ]
    },
    {
      "cell_type": "markdown",
      "source": [
        "## **Explorando Hiperparametros 1 dimensão** "
      ],
      "metadata": {
        "id": "4hDgrdYwlD3u"
      }
    },
    {
      "cell_type": "code",
      "source": [
        "def roda_arvore_de_decisao(max_depth):\n",
        "\n",
        "    SEED = 301\n",
        "    np.random.seed(SEED)\n",
        "\n",
        "    kfold = GroupKFold(n_splits=10)\n",
        "    modelo_arvore = DecisionTreeClassifier(max_depth=max_depth)\n",
        "    resultado = cross_validate(modelo_arvore, x_azar, y_azar, cv=kfold, groups=dados.modelo, return_train_score=True)\n",
        "    media_teste = resultado['test_score'].mean()*100\n",
        "    media_treino = resultado['train_score'].mean()*100\n",
        "    tabela = [max_depth, media_treino, media_teste]\n",
        "    # print(f'Accuracy média de treino: {(media_treino*100):.2f}, teste: {(media_teste*100):.2f}')\n",
        "    return tabela\n",
        "\n",
        "resultados = [roda_arvore_de_decisao(i) for i in range(1,33)]\n",
        "resultados = pd.DataFrame(resultados, columns=['Max_depth', 'train', 'test'])\n",
        "resultados.head()"
      ],
      "metadata": {
        "colab": {
          "base_uri": "https://localhost:8080/",
          "height": 206
        },
        "id": "QmozW8ahfN8i",
        "outputId": "da55f347-1556-465e-af06-5d1665cff92d"
      },
      "execution_count": null,
      "outputs": [
        {
          "output_type": "execute_result",
          "data": {
            "text/plain": [
              "   Max_depth      train       test\n",
              "0          1  75.791169  75.784219\n",
              "1          2  75.791169  75.784219\n",
              "2          3  78.750993  78.672633\n",
              "3          4  78.787628  78.622712\n",
              "4          5  78.941007  78.535871"
            ],
            "text/html": [
              "\n",
              "  <div id=\"df-c84e9d99-a4ed-472d-9137-0c1d788d24ab\">\n",
              "    <div class=\"colab-df-container\">\n",
              "      <div>\n",
              "<style scoped>\n",
              "    .dataframe tbody tr th:only-of-type {\n",
              "        vertical-align: middle;\n",
              "    }\n",
              "\n",
              "    .dataframe tbody tr th {\n",
              "        vertical-align: top;\n",
              "    }\n",
              "\n",
              "    .dataframe thead th {\n",
              "        text-align: right;\n",
              "    }\n",
              "</style>\n",
              "<table border=\"1\" class=\"dataframe\">\n",
              "  <thead>\n",
              "    <tr style=\"text-align: right;\">\n",
              "      <th></th>\n",
              "      <th>Max_depth</th>\n",
              "      <th>train</th>\n",
              "      <th>test</th>\n",
              "    </tr>\n",
              "  </thead>\n",
              "  <tbody>\n",
              "    <tr>\n",
              "      <th>0</th>\n",
              "      <td>1</td>\n",
              "      <td>75.791169</td>\n",
              "      <td>75.784219</td>\n",
              "    </tr>\n",
              "    <tr>\n",
              "      <th>1</th>\n",
              "      <td>2</td>\n",
              "      <td>75.791169</td>\n",
              "      <td>75.784219</td>\n",
              "    </tr>\n",
              "    <tr>\n",
              "      <th>2</th>\n",
              "      <td>3</td>\n",
              "      <td>78.750993</td>\n",
              "      <td>78.672633</td>\n",
              "    </tr>\n",
              "    <tr>\n",
              "      <th>3</th>\n",
              "      <td>4</td>\n",
              "      <td>78.787628</td>\n",
              "      <td>78.622712</td>\n",
              "    </tr>\n",
              "    <tr>\n",
              "      <th>4</th>\n",
              "      <td>5</td>\n",
              "      <td>78.941007</td>\n",
              "      <td>78.535871</td>\n",
              "    </tr>\n",
              "  </tbody>\n",
              "</table>\n",
              "</div>\n",
              "      <button class=\"colab-df-convert\" onclick=\"convertToInteractive('df-c84e9d99-a4ed-472d-9137-0c1d788d24ab')\"\n",
              "              title=\"Convert this dataframe to an interactive table.\"\n",
              "              style=\"display:none;\">\n",
              "        \n",
              "  <svg xmlns=\"http://www.w3.org/2000/svg\" height=\"24px\"viewBox=\"0 0 24 24\"\n",
              "       width=\"24px\">\n",
              "    <path d=\"M0 0h24v24H0V0z\" fill=\"none\"/>\n",
              "    <path d=\"M18.56 5.44l.94 2.06.94-2.06 2.06-.94-2.06-.94-.94-2.06-.94 2.06-2.06.94zm-11 1L8.5 8.5l.94-2.06 2.06-.94-2.06-.94L8.5 2.5l-.94 2.06-2.06.94zm10 10l.94 2.06.94-2.06 2.06-.94-2.06-.94-.94-2.06-.94 2.06-2.06.94z\"/><path d=\"M17.41 7.96l-1.37-1.37c-.4-.4-.92-.59-1.43-.59-.52 0-1.04.2-1.43.59L10.3 9.45l-7.72 7.72c-.78.78-.78 2.05 0 2.83L4 21.41c.39.39.9.59 1.41.59.51 0 1.02-.2 1.41-.59l7.78-7.78 2.81-2.81c.8-.78.8-2.07 0-2.86zM5.41 20L4 18.59l7.72-7.72 1.47 1.35L5.41 20z\"/>\n",
              "  </svg>\n",
              "      </button>\n",
              "      \n",
              "  <style>\n",
              "    .colab-df-container {\n",
              "      display:flex;\n",
              "      flex-wrap:wrap;\n",
              "      gap: 12px;\n",
              "    }\n",
              "\n",
              "    .colab-df-convert {\n",
              "      background-color: #E8F0FE;\n",
              "      border: none;\n",
              "      border-radius: 50%;\n",
              "      cursor: pointer;\n",
              "      display: none;\n",
              "      fill: #1967D2;\n",
              "      height: 32px;\n",
              "      padding: 0 0 0 0;\n",
              "      width: 32px;\n",
              "    }\n",
              "\n",
              "    .colab-df-convert:hover {\n",
              "      background-color: #E2EBFA;\n",
              "      box-shadow: 0px 1px 2px rgba(60, 64, 67, 0.3), 0px 1px 3px 1px rgba(60, 64, 67, 0.15);\n",
              "      fill: #174EA6;\n",
              "    }\n",
              "\n",
              "    [theme=dark] .colab-df-convert {\n",
              "      background-color: #3B4455;\n",
              "      fill: #D2E3FC;\n",
              "    }\n",
              "\n",
              "    [theme=dark] .colab-df-convert:hover {\n",
              "      background-color: #434B5C;\n",
              "      box-shadow: 0px 1px 3px 1px rgba(0, 0, 0, 0.15);\n",
              "      filter: drop-shadow(0px 1px 2px rgba(0, 0, 0, 0.3));\n",
              "      fill: #FFFFFF;\n",
              "    }\n",
              "  </style>\n",
              "\n",
              "      <script>\n",
              "        const buttonEl =\n",
              "          document.querySelector('#df-c84e9d99-a4ed-472d-9137-0c1d788d24ab button.colab-df-convert');\n",
              "        buttonEl.style.display =\n",
              "          google.colab.kernel.accessAllowed ? 'block' : 'none';\n",
              "\n",
              "        async function convertToInteractive(key) {\n",
              "          const element = document.querySelector('#df-c84e9d99-a4ed-472d-9137-0c1d788d24ab');\n",
              "          const dataTable =\n",
              "            await google.colab.kernel.invokeFunction('convertToInteractive',\n",
              "                                                     [key], {});\n",
              "          if (!dataTable) return;\n",
              "\n",
              "          const docLinkHtml = 'Like what you see? Visit the ' +\n",
              "            '<a target=\"_blank\" href=https://colab.research.google.com/notebooks/data_table.ipynb>data table notebook</a>'\n",
              "            + ' to learn more about interactive tables.';\n",
              "          element.innerHTML = '';\n",
              "          dataTable['output_type'] = 'display_data';\n",
              "          await google.colab.output.renderOutput(dataTable, element);\n",
              "          const docLink = document.createElement('div');\n",
              "          docLink.innerHTML = docLinkHtml;\n",
              "          element.appendChild(docLink);\n",
              "        }\n",
              "      </script>\n",
              "    </div>\n",
              "  </div>\n",
              "  "
            ]
          },
          "metadata": {},
          "execution_count": 14
        }
      ]
    },
    {
      "cell_type": "markdown",
      "source": [
        "#**Overfit**"
      ],
      "metadata": {
        "id": "q8Zh3GUZx1vN"
      }
    },
    {
      "cell_type": "code",
      "source": [
        "plt.figure(figsize=(10,8))\n",
        "sns.lineplot(data=resultados, x='Max_depth', y='train', markers=True)\n",
        "sns.lineplot(data=resultados, x='Max_depth', y='test');\n",
        "plt.legend(['Treino','Teste']);"
      ],
      "metadata": {
        "colab": {
          "base_uri": "https://localhost:8080/",
          "height": 498
        },
        "id": "gZRJC2r_noQM",
        "outputId": "cf295271-7be1-49f5-bcfb-98cad7ff6c4f"
      },
      "execution_count": null,
      "outputs": [
        {
          "output_type": "display_data",
          "data": {
            "text/plain": [
              "<Figure size 720x576 with 1 Axes>"
            ],
            "image/png": "[encoded data removed]"
          },
          "metadata": {
            "needs_background": "light"
          }
        }
      ]
    },
    {
      "cell_type": "code",
      "source": [
        "resultados.sort_values('test', ascending=False).head()"
      ],
      "metadata": {
        "colab": {
          "base_uri": "https://localhost:8080/",
          "height": 206
        },
        "id": "0-89e0UHtzWK",
        "outputId": "77fcb64f-8a20-42b6-d090-e728619f1455"
      },
      "execution_count": null,
      "outputs": [
        {
          "output_type": "execute_result",
          "data": {
            "text/plain": [
              "   Max_depth      train       test\n",
              "2          3  78.750993  78.672633\n",
              "3          4  78.787628  78.622712\n",
              "4          5  78.941007  78.535871\n",
              "5          6  79.170115  78.123266\n",
              "6          7  79.495694  77.972548"
            ],
            "text/html": [
              "\n",
              "  <div id=\"df-183fda43-8315-4f94-a005-40cbe83c8fb6\">\n",
              "    <div class=\"colab-df-container\">\n",
              "      <div>\n",
              "<style scoped>\n",
              "    .dataframe tbody tr th:only-of-type {\n",
              "        vertical-align: middle;\n",
              "    }\n",
              "\n",
              "    .dataframe tbody tr th {\n",
              "        vertical-align: top;\n",
              "    }\n",
              "\n",
              "    .dataframe thead th {\n",
              "        text-align: right;\n",
              "    }\n",
              "</style>\n",
              "<table border=\"1\" class=\"dataframe\">\n",
              "  <thead>\n",
              "    <tr style=\"text-align: right;\">\n",
              "      <th></th>\n",
              "      <th>Max_depth</th>\n",
              "      <th>train</th>\n",
              "      <th>test</th>\n",
              "    </tr>\n",
              "  </thead>\n",
              "  <tbody>\n",
              "    <tr>\n",
              "      <th>2</th>\n",
              "      <td>3</td>\n",
              "      <td>78.750993</td>\n",
              "      <td>78.672633</td>\n",
              "    </tr>\n",
              "    <tr>\n",
              "      <th>3</th>\n",
              "      <td>4</td>\n",
              "      <td>78.787628</td>\n",
              "      <td>78.622712</td>\n",
              "    </tr>\n",
              "    <tr>\n",
              "      <th>4</th>\n",
              "      <td>5</td>\n",
              "      <td>78.941007</td>\n",
              "      <td>78.535871</td>\n",
              "    </tr>\n",
              "    <tr>\n",
              "      <th>5</th>\n",
              "      <td>6</td>\n",
              "      <td>79.170115</td>\n",
              "      <td>78.123266</td>\n",
              "    </tr>\n",
              "    <tr>\n",
              "      <th>6</th>\n",
              "      <td>7</td>\n",
              "      <td>79.495694</td>\n",
              "      <td>77.972548</td>\n",
              "    </tr>\n",
              "  </tbody>\n",
              "</table>\n",
              "</div>\n",
              "      <button class=\"colab-df-convert\" onclick=\"convertToInteractive('df-183fda43-8315-4f94-a005-40cbe83c8fb6')\"\n",
              "              title=\"Convert this dataframe to an interactive table.\"\n",
              "              style=\"display:none;\">\n",
              "        \n",
              "  <svg xmlns=\"http://www.w3.org/2000/svg\" height=\"24px\"viewBox=\"0 0 24 24\"\n",
              "       width=\"24px\">\n",
              "    <path d=\"M0 0h24v24H0V0z\" fill=\"none\"/>\n",
              "    <path d=\"M18.56 5.44l.94 2.06.94-2.06 2.06-.94-2.06-.94-.94-2.06-.94 2.06-2.06.94zm-11 1L8.5 8.5l.94-2.06 2.06-.94-2.06-.94L8.5 2.5l-.94 2.06-2.06.94zm10 10l.94 2.06.94-2.06 2.06-.94-2.06-.94-.94-2.06-.94 2.06-2.06.94z\"/><path d=\"M17.41 7.96l-1.37-1.37c-.4-.4-.92-.59-1.43-.59-.52 0-1.04.2-1.43.59L10.3 9.45l-7.72 7.72c-.78.78-.78 2.05 0 2.83L4 21.41c.39.39.9.59 1.41.59.51 0 1.02-.2 1.41-.59l7.78-7.78 2.81-2.81c.8-.78.8-2.07 0-2.86zM5.41 20L4 18.59l7.72-7.72 1.47 1.35L5.41 20z\"/>\n",
              "  </svg>\n",
              "      </button>\n",
              "      \n",
              "  <style>\n",
              "    .colab-df-container {\n",
              "      display:flex;\n",
              "      flex-wrap:wrap;\n",
              "      gap: 12px;\n",
              "    }\n",
              "\n",
              "    .colab-df-convert {\n",
              "      background-color: #E8F0FE;\n",
              "      border: none;\n",
              "      border-radius: 50%;\n",
              "      cursor: pointer;\n",
              "      display: none;\n",
              "      fill: #1967D2;\n",
              "      height: 32px;\n",
              "      padding: 0 0 0 0;\n",
              "      width: 32px;\n",
              "    }\n",
              "\n",
              "    .colab-df-convert:hover {\n",
              "      background-color: #E2EBFA;\n",
              "      box-shadow: 0px 1px 2px rgba(60, 64, 67, 0.3), 0px 1px 3px 1px rgba(60, 64, 67, 0.15);\n",
              "      fill: #174EA6;\n",
              "    }\n",
              "\n",
              "    [theme=dark] .colab-df-convert {\n",
              "      background-color: #3B4455;\n",
              "      fill: #D2E3FC;\n",
              "    }\n",
              "\n",
              "    [theme=dark] .colab-df-convert:hover {\n",
              "      background-color: #434B5C;\n",
              "      box-shadow: 0px 1px 3px 1px rgba(0, 0, 0, 0.15);\n",
              "      filter: drop-shadow(0px 1px 2px rgba(0, 0, 0, 0.3));\n",
              "      fill: #FFFFFF;\n",
              "    }\n",
              "  </style>\n",
              "\n",
              "      <script>\n",
              "        const buttonEl =\n",
              "          document.querySelector('#df-183fda43-8315-4f94-a005-40cbe83c8fb6 button.colab-df-convert');\n",
              "        buttonEl.style.display =\n",
              "          google.colab.kernel.accessAllowed ? 'block' : 'none';\n",
              "\n",
              "        async function convertToInteractive(key) {\n",
              "          const element = document.querySelector('#df-183fda43-8315-4f94-a005-40cbe83c8fb6');\n",
              "          const dataTable =\n",
              "            await google.colab.kernel.invokeFunction('convertToInteractive',\n",
              "                                                     [key], {});\n",
              "          if (!dataTable) return;\n",
              "\n",
              "          const docLinkHtml = 'Like what you see? Visit the ' +\n",
              "            '<a target=\"_blank\" href=https://colab.research.google.com/notebooks/data_table.ipynb>data table notebook</a>'\n",
              "            + ' to learn more about interactive tables.';\n",
              "          element.innerHTML = '';\n",
              "          dataTable['output_type'] = 'display_data';\n",
              "          await google.colab.output.renderOutput(dataTable, element);\n",
              "          const docLink = document.createElement('div');\n",
              "          docLink.innerHTML = docLinkHtml;\n",
              "          element.appendChild(docLink);\n",
              "        }\n",
              "      </script>\n",
              "    </div>\n",
              "  </div>\n",
              "  "
            ]
          },
          "metadata": {},
          "execution_count": 16
        }
      ]
    },
    {
      "cell_type": "markdown",
      "source": [
        "## **Explorando Hiperparametros 2 dimensões** "
      ],
      "metadata": {
        "id": "LbERbW8H2lcj"
      }
    },
    {
      "cell_type": "code",
      "source": [
        "def roda_arvore_de_decisao(max_depth, min_samples_leaf):\n",
        "\n",
        "    SEED = 301\n",
        "    np.random.seed(SEED)\n",
        "\n",
        "    kfold = GroupKFold(n_splits=10)\n",
        "    modelo_arvore = DecisionTreeClassifier(max_depth=max_depth, min_samples_leaf=min_samples_leaf)\n",
        "    resultado = cross_validate(modelo_arvore, x_azar, y_azar, cv=kfold, groups=dados.modelo, return_train_score=True)\n",
        "    media_teste = resultado['test_score'].mean()\n",
        "    media_treino = resultado['train_score'].mean()\n",
        "    tabela = [max_depth,min_samples_leaf, media_treino*100, media_teste*100]\n",
        "    print(f'Arvore Max_depth: {max_depth}, min_samples_leaf: {min_samples_leaf}, ACcuracy treino: {(media_treino*100):.2f}, teste: {(media_teste*100):.2f}')\n",
        "    return tabela\n",
        "\n",
        "def busca():\n",
        "    resultados = []\n",
        "    for max_depth in range(1,33):\n",
        "        for min_samples_leaf in [31,64,128, 256]:\n",
        "            tabela = roda_arvore_de_decisao(max_depth, min_samples_leaf)\n",
        "            resultados.append(tabela)\n",
        "\n",
        "    resultados = pd.DataFrame(resultados, columns=['Max_depth', 'Min_samples_leaf', 'train', 'test'])\n",
        "    return resultados\n",
        "    \n",
        "resultados = busca()\n",
        "resultados.head()"
      ],
      "metadata": {
        "colab": {
          "base_uri": "https://localhost:8080/",
          "height": 1000
        },
        "id": "oOJh8yQMyNge",
        "outputId": "d02cf880-3d90-49f6-b2fb-ca675e623e70"
      },
      "execution_count": null,
      "outputs": [
        {
          "output_type": "stream",
          "name": "stdout",
          "text": [
            "Arvore Max_depth: 1, min_samples_leaf: 31, ACcuracy treino: 75.79, teste: 75.78\n",
            "Arvore Max_depth: 1, min_samples_leaf: 64, ACcuracy treino: 75.79, teste: 75.78\n",
            "Arvore Max_depth: 1, min_samples_leaf: 128, ACcuracy treino: 75.79, teste: 75.78\n",
            "Arvore Max_depth: 1, min_samples_leaf: 256, ACcuracy treino: 75.79, teste: 75.78\n",
            "Arvore Max_depth: 2, min_samples_leaf: 31, ACcuracy treino: 75.79, teste: 75.78\n",
            "Arvore Max_depth: 2, min_samples_leaf: 64, ACcuracy treino: 75.79, teste: 75.78\n",
            "Arvore Max_depth: 2, min_samples_leaf: 128, ACcuracy treino: 75.79, teste: 75.78\n",
            "Arvore Max_depth: 2, min_samples_leaf: 256, ACcuracy treino: 75.79, teste: 75.78\n",
            "Arvore Max_depth: 3, min_samples_leaf: 31, ACcuracy treino: 78.75, teste: 78.67\n",
            "Arvore Max_depth: 3, min_samples_leaf: 64, ACcuracy treino: 78.75, teste: 78.67\n",
            "Arvore Max_depth: 3, min_samples_leaf: 128, ACcuracy treino: 78.75, teste: 78.67\n",
            "Arvore Max_depth: 3, min_samples_leaf: 256, ACcuracy treino: 78.75, teste: 78.67\n",
            "Arvore Max_depth: 4, min_samples_leaf: 31, ACcuracy treino: 78.75, teste: 78.67\n",
            "Arvore Max_depth: 4, min_samples_leaf: 64, ACcuracy treino: 78.75, teste: 78.67\n",
            "Arvore Max_depth: 4, min_samples_leaf: 128, ACcuracy treino: 78.75, teste: 78.67\n",
            "Arvore Max_depth: 4, min_samples_leaf: 256, ACcuracy treino: 78.75, teste: 78.67\n",
            "Arvore Max_depth: 5, min_samples_leaf: 31, ACcuracy treino: 78.82, teste: 78.50\n",
            "Arvore Max_depth: 5, min_samples_leaf: 64, ACcuracy treino: 78.79, teste: 78.45\n",
            "Arvore Max_depth: 5, min_samples_leaf: 128, ACcuracy treino: 78.77, teste: 78.44\n",
            "Arvore Max_depth: 5, min_samples_leaf: 256, ACcuracy treino: 78.77, teste: 78.44\n",
            "Arvore Max_depth: 6, min_samples_leaf: 31, ACcuracy treino: 78.96, teste: 78.03\n",
            "Arvore Max_depth: 6, min_samples_leaf: 64, ACcuracy treino: 78.92, teste: 78.09\n",
            "Arvore Max_depth: 6, min_samples_leaf: 128, ACcuracy treino: 78.85, teste: 78.27\n",
            "Arvore Max_depth: 6, min_samples_leaf: 256, ACcuracy treino: 78.79, teste: 78.27\n",
            "Arvore Max_depth: 7, min_samples_leaf: 31, ACcuracy treino: 79.22, teste: 77.91\n",
            "Arvore Max_depth: 7, min_samples_leaf: 64, ACcuracy treino: 79.18, teste: 78.05\n",
            "Arvore Max_depth: 7, min_samples_leaf: 128, ACcuracy treino: 79.01, teste: 78.21\n",
            "Arvore Max_depth: 7, min_samples_leaf: 256, ACcuracy treino: 78.85, teste: 78.08\n",
            "Arvore Max_depth: 8, min_samples_leaf: 31, ACcuracy treino: 79.45, teste: 77.84\n",
            "Arvore Max_depth: 8, min_samples_leaf: 64, ACcuracy treino: 79.30, teste: 77.99\n",
            "Arvore Max_depth: 8, min_samples_leaf: 128, ACcuracy treino: 79.05, teste: 78.37\n",
            "Arvore Max_depth: 8, min_samples_leaf: 256, ACcuracy treino: 78.89, teste: 77.94\n",
            "Arvore Max_depth: 9, min_samples_leaf: 31, ACcuracy treino: 79.74, teste: 77.46\n",
            "Arvore Max_depth: 9, min_samples_leaf: 64, ACcuracy treino: 79.46, teste: 77.55\n",
            "Arvore Max_depth: 9, min_samples_leaf: 128, ACcuracy treino: 79.12, teste: 78.30\n",
            "Arvore Max_depth: 9, min_samples_leaf: 256, ACcuracy treino: 78.90, teste: 77.85\n",
            "Arvore Max_depth: 10, min_samples_leaf: 31, ACcuracy treino: 79.98, teste: 77.43\n",
            "Arvore Max_depth: 10, min_samples_leaf: 64, ACcuracy treino: 79.55, teste: 77.64\n",
            "Arvore Max_depth: 10, min_samples_leaf: 128, ACcuracy treino: 79.16, teste: 78.29\n",
            "Arvore Max_depth: 10, min_samples_leaf: 256, ACcuracy treino: 78.90, teste: 77.85\n",
            "Arvore Max_depth: 11, min_samples_leaf: 31, ACcuracy treino: 80.21, teste: 77.34\n",
            "Arvore Max_depth: 11, min_samples_leaf: 64, ACcuracy treino: 79.60, teste: 77.55\n",
            "Arvore Max_depth: 11, min_samples_leaf: 128, ACcuracy treino: 79.19, teste: 78.31\n",
            "Arvore Max_depth: 11, min_samples_leaf: 256, ACcuracy treino: 78.90, teste: 77.85\n",
            "Arvore Max_depth: 12, min_samples_leaf: 31, ACcuracy treino: 80.31, teste: 77.29\n",
            "Arvore Max_depth: 12, min_samples_leaf: 64, ACcuracy treino: 79.72, teste: 77.31\n",
            "Arvore Max_depth: 12, min_samples_leaf: 128, ACcuracy treino: 79.21, teste: 78.22\n",
            "Arvore Max_depth: 12, min_samples_leaf: 256, ACcuracy treino: 78.90, teste: 77.85\n",
            "Arvore Max_depth: 13, min_samples_leaf: 31, ACcuracy treino: 80.45, teste: 77.10\n",
            "Arvore Max_depth: 13, min_samples_leaf: 64, ACcuracy treino: 79.74, teste: 77.34\n",
            "Arvore Max_depth: 13, min_samples_leaf: 128, ACcuracy treino: 79.21, teste: 78.22\n",
            "Arvore Max_depth: 13, min_samples_leaf: 256, ACcuracy treino: 78.90, teste: 77.85\n",
            "Arvore Max_depth: 14, min_samples_leaf: 31, ACcuracy treino: 80.53, teste: 77.21\n",
            "Arvore Max_depth: 14, min_samples_leaf: 64, ACcuracy treino: 79.77, teste: 77.28\n",
            "Arvore Max_depth: 14, min_samples_leaf: 128, ACcuracy treino: 79.21, teste: 78.22\n",
            "Arvore Max_depth: 14, min_samples_leaf: 256, ACcuracy treino: 78.90, teste: 77.85\n",
            "Arvore Max_depth: 15, min_samples_leaf: 31, ACcuracy treino: 80.65, teste: 77.22\n",
            "Arvore Max_depth: 15, min_samples_leaf: 64, ACcuracy treino: 79.79, teste: 77.32\n",
            "Arvore Max_depth: 15, min_samples_leaf: 128, ACcuracy treino: 79.21, teste: 78.22\n",
            "Arvore Max_depth: 15, min_samples_leaf: 256, ACcuracy treino: 78.90, teste: 77.85\n",
            "Arvore Max_depth: 16, min_samples_leaf: 31, ACcuracy treino: 80.72, teste: 77.27\n",
            "Arvore Max_depth: 16, min_samples_leaf: 64, ACcuracy treino: 79.79, teste: 77.32\n",
            "Arvore Max_depth: 16, min_samples_leaf: 128, ACcuracy treino: 79.21, teste: 78.22\n",
            "Arvore Max_depth: 16, min_samples_leaf: 256, ACcuracy treino: 78.90, teste: 77.85\n",
            "Arvore Max_depth: 17, min_samples_leaf: 31, ACcuracy treino: 80.77, teste: 77.26\n",
            "Arvore Max_depth: 17, min_samples_leaf: 64, ACcuracy treino: 79.79, teste: 77.32\n",
            "Arvore Max_depth: 17, min_samples_leaf: 128, ACcuracy treino: 79.21, teste: 78.22\n",
            "Arvore Max_depth: 17, min_samples_leaf: 256, ACcuracy treino: 78.90, teste: 77.85\n",
            "Arvore Max_depth: 18, min_samples_leaf: 31, ACcuracy treino: 80.82, teste: 77.31\n",
            "Arvore Max_depth: 18, min_samples_leaf: 64, ACcuracy treino: 79.79, teste: 77.32\n",
            "Arvore Max_depth: 18, min_samples_leaf: 128, ACcuracy treino: 79.21, teste: 78.22\n",
            "Arvore Max_depth: 18, min_samples_leaf: 256, ACcuracy treino: 78.90, teste: 77.85\n",
            "Arvore Max_depth: 19, min_samples_leaf: 31, ACcuracy treino: 80.85, teste: 77.13\n",
            "Arvore Max_depth: 19, min_samples_leaf: 64, ACcuracy treino: 79.79, teste: 77.32\n",
            "Arvore Max_depth: 19, min_samples_leaf: 128, ACcuracy treino: 79.21, teste: 78.22\n",
            "Arvore Max_depth: 19, min_samples_leaf: 256, ACcuracy treino: 78.90, teste: 77.85\n",
            "Arvore Max_depth: 20, min_samples_leaf: 31, ACcuracy treino: 80.90, teste: 77.12\n",
            "Arvore Max_depth: 20, min_samples_leaf: 64, ACcuracy treino: 79.79, teste: 77.32\n",
            "Arvore Max_depth: 20, min_samples_leaf: 128, ACcuracy treino: 79.21, teste: 78.22\n",
            "Arvore Max_depth: 20, min_samples_leaf: 256, ACcuracy treino: 78.90, teste: 77.85\n",
            "Arvore Max_depth: 21, min_samples_leaf: 31, ACcuracy treino: 80.92, teste: 77.10\n",
            "Arvore Max_depth: 21, min_samples_leaf: 64, ACcuracy treino: 79.79, teste: 77.32\n",
            "Arvore Max_depth: 21, min_samples_leaf: 128, ACcuracy treino: 79.21, teste: 78.22\n",
            "Arvore Max_depth: 21, min_samples_leaf: 256, ACcuracy treino: 78.90, teste: 77.85\n",
            "Arvore Max_depth: 22, min_samples_leaf: 31, ACcuracy treino: 80.93, teste: 77.02\n",
            "Arvore Max_depth: 22, min_samples_leaf: 64, ACcuracy treino: 79.79, teste: 77.32\n",
            "Arvore Max_depth: 22, min_samples_leaf: 128, ACcuracy treino: 79.21, teste: 78.22\n",
            "Arvore Max_depth: 22, min_samples_leaf: 256, ACcuracy treino: 78.90, teste: 77.85\n",
            "Arvore Max_depth: 23, min_samples_leaf: 31, ACcuracy treino: 80.94, teste: 77.02\n",
            "Arvore Max_depth: 23, min_samples_leaf: 64, ACcuracy treino: 79.79, teste: 77.32\n",
            "Arvore Max_depth: 23, min_samples_leaf: 128, ACcuracy treino: 79.21, teste: 78.22\n",
            "Arvore Max_depth: 23, min_samples_leaf: 256, ACcuracy treino: 78.90, teste: 77.85\n",
            "Arvore Max_depth: 24, min_samples_leaf: 31, ACcuracy treino: 80.94, teste: 77.05\n",
            "Arvore Max_depth: 24, min_samples_leaf: 64, ACcuracy treino: 79.79, teste: 77.32\n",
            "Arvore Max_depth: 24, min_samples_leaf: 128, ACcuracy treino: 79.21, teste: 78.22\n",
            "Arvore Max_depth: 24, min_samples_leaf: 256, ACcuracy treino: 78.90, teste: 77.85\n",
            "Arvore Max_depth: 25, min_samples_leaf: 31, ACcuracy treino: 80.95, teste: 77.04\n",
            "Arvore Max_depth: 25, min_samples_leaf: 64, ACcuracy treino: 79.79, teste: 77.32\n",
            "Arvore Max_depth: 25, min_samples_leaf: 128, ACcuracy treino: 79.21, teste: 78.22\n",
            "Arvore Max_depth: 25, min_samples_leaf: 256, ACcuracy treino: 78.90, teste: 77.85\n",
            "Arvore Max_depth: 26, min_samples_leaf: 31, ACcuracy treino: 80.95, teste: 77.01\n",
            "Arvore Max_depth: 26, min_samples_leaf: 64, ACcuracy treino: 79.79, teste: 77.32\n",
            "Arvore Max_depth: 26, min_samples_leaf: 128, ACcuracy treino: 79.21, teste: 78.22\n",
            "Arvore Max_depth: 26, min_samples_leaf: 256, ACcuracy treino: 78.90, teste: 77.85\n",
            "Arvore Max_depth: 27, min_samples_leaf: 31, ACcuracy treino: 80.95, teste: 77.01\n",
            "Arvore Max_depth: 27, min_samples_leaf: 64, ACcuracy treino: 79.79, teste: 77.32\n",
            "Arvore Max_depth: 27, min_samples_leaf: 128, ACcuracy treino: 79.21, teste: 78.22\n",
            "Arvore Max_depth: 27, min_samples_leaf: 256, ACcuracy treino: 78.90, teste: 77.85\n",
            "Arvore Max_depth: 28, min_samples_leaf: 31, ACcuracy treino: 80.95, teste: 77.01\n",
            "Arvore Max_depth: 28, min_samples_leaf: 64, ACcuracy treino: 79.79, teste: 77.32\n",
            "Arvore Max_depth: 28, min_samples_leaf: 128, ACcuracy treino: 79.21, teste: 78.22\n",
            "Arvore Max_depth: 28, min_samples_leaf: 256, ACcuracy treino: 78.90, teste: 77.85\n",
            "Arvore Max_depth: 29, min_samples_leaf: 31, ACcuracy treino: 80.95, teste: 77.01\n",
            "Arvore Max_depth: 29, min_samples_leaf: 64, ACcuracy treino: 79.79, teste: 77.32\n",
            "Arvore Max_depth: 29, min_samples_leaf: 128, ACcuracy treino: 79.21, teste: 78.22\n",
            "Arvore Max_depth: 29, min_samples_leaf: 256, ACcuracy treino: 78.90, teste: 77.85\n",
            "Arvore Max_depth: 30, min_samples_leaf: 31, ACcuracy treino: 80.95, teste: 77.01\n",
            "Arvore Max_depth: 30, min_samples_leaf: 64, ACcuracy treino: 79.79, teste: 77.32\n",
            "Arvore Max_depth: 30, min_samples_leaf: 128, ACcuracy treino: 79.21, teste: 78.22\n",
            "Arvore Max_depth: 30, min_samples_leaf: 256, ACcuracy treino: 78.90, teste: 77.85\n",
            "Arvore Max_depth: 31, min_samples_leaf: 31, ACcuracy treino: 80.95, teste: 77.01\n",
            "Arvore Max_depth: 31, min_samples_leaf: 64, ACcuracy treino: 79.79, teste: 77.32\n",
            "Arvore Max_depth: 31, min_samples_leaf: 128, ACcuracy treino: 79.21, teste: 78.22\n",
            "Arvore Max_depth: 31, min_samples_leaf: 256, ACcuracy treino: 78.90, teste: 77.85\n",
            "Arvore Max_depth: 32, min_samples_leaf: 31, ACcuracy treino: 80.95, teste: 77.01\n",
            "Arvore Max_depth: 32, min_samples_leaf: 64, ACcuracy treino: 79.79, teste: 77.32\n",
            "Arvore Max_depth: 32, min_samples_leaf: 128, ACcuracy treino: 79.21, teste: 78.22\n",
            "Arvore Max_depth: 32, min_samples_leaf: 256, ACcuracy treino: 78.90, teste: 77.85\n"
          ]
        },
        {
          "output_type": "execute_result",
          "data": {
            "text/plain": [
              "   Max_depth  Min_samples_leaf      train       test\n",
              "0          1                31  75.791169  75.784219\n",
              "1          1                64  75.791169  75.784219\n",
              "2          1               128  75.791169  75.784219\n",
              "3          1               256  75.791169  75.784219\n",
              "4          2                31  75.791169  75.784219"
            ],
            "text/html": [
              "\n",
              "  <div id=\"df-2f9f7975-5afe-4a3f-82a2-e149cf8dad79\">\n",
              "    <div class=\"colab-df-container\">\n",
              "      <div>\n",
              "<style scoped>\n",
              "    .dataframe tbody tr th:only-of-type {\n",
              "        vertical-align: middle;\n",
              "    }\n",
              "\n",
              "    .dataframe tbody tr th {\n",
              "        vertical-align: top;\n",
              "    }\n",
              "\n",
              "    .dataframe thead th {\n",
              "        text-align: right;\n",
              "    }\n",
              "</style>\n",
              "<table border=\"1\" class=\"dataframe\">\n",
              "  <thead>\n",
              "    <tr style=\"text-align: right;\">\n",
              "      <th></th>\n",
              "      <th>Max_depth</th>\n",
              "      <th>Min_samples_leaf</th>\n",
              "      <th>train</th>\n",
              "      <th>test</th>\n",
              "    </tr>\n",
              "  </thead>\n",
              "  <tbody>\n",
              "    <tr>\n",
              "      <th>0</th>\n",
              "      <td>1</td>\n",
              "      <td>31</td>\n",
              "      <td>75.791169</td>\n",
              "      <td>75.784219</td>\n",
              "    </tr>\n",
              "    <tr>\n",
              "      <th>1</th>\n",
              "      <td>1</td>\n",
              "      <td>64</td>\n",
              "      <td>75.791169</td>\n",
              "      <td>75.784219</td>\n",
              "    </tr>\n",
              "    <tr>\n",
              "      <th>2</th>\n",
              "      <td>1</td>\n",
              "      <td>128</td>\n",
              "      <td>75.791169</td>\n",
              "      <td>75.784219</td>\n",
              "    </tr>\n",
              "    <tr>\n",
              "      <th>3</th>\n",
              "      <td>1</td>\n",
              "      <td>256</td>\n",
              "      <td>75.791169</td>\n",
              "      <td>75.784219</td>\n",
              "    </tr>\n",
              "    <tr>\n",
              "      <th>4</th>\n",
              "      <td>2</td>\n",
              "      <td>31</td>\n",
              "      <td>75.791169</td>\n",
              "      <td>75.784219</td>\n",
              "    </tr>\n",
              "  </tbody>\n",
              "</table>\n",
              "</div>\n",
              "      <button class=\"colab-df-convert\" onclick=\"convertToInteractive('df-2f9f7975-5afe-4a3f-82a2-e149cf8dad79')\"\n",
              "              title=\"Convert this dataframe to an interactive table.\"\n",
              "              style=\"display:none;\">\n",
              "        \n",
              "  <svg xmlns=\"http://www.w3.org/2000/svg\" height=\"24px\"viewBox=\"0 0 24 24\"\n",
              "       width=\"24px\">\n",
              "    <path d=\"M0 0h24v24H0V0z\" fill=\"none\"/>\n",
              "    <path d=\"M18.56 5.44l.94 2.06.94-2.06 2.06-.94-2.06-.94-.94-2.06-.94 2.06-2.06.94zm-11 1L8.5 8.5l.94-2.06 2.06-.94-2.06-.94L8.5 2.5l-.94 2.06-2.06.94zm10 10l.94 2.06.94-2.06 2.06-.94-2.06-.94-.94-2.06-.94 2.06-2.06.94z\"/><path d=\"M17.41 7.96l-1.37-1.37c-.4-.4-.92-.59-1.43-.59-.52 0-1.04.2-1.43.59L10.3 9.45l-7.72 7.72c-.78.78-.78 2.05 0 2.83L4 21.41c.39.39.9.59 1.41.59.51 0 1.02-.2 1.41-.59l7.78-7.78 2.81-2.81c.8-.78.8-2.07 0-2.86zM5.41 20L4 18.59l7.72-7.72 1.47 1.35L5.41 20z\"/>\n",
              "  </svg>\n",
              "      </button>\n",
              "      \n",
              "  <style>\n",
              "    .colab-df-container {\n",
              "      display:flex;\n",
              "      flex-wrap:wrap;\n",
              "      gap: 12px;\n",
              "    }\n",
              "\n",
              "    .colab-df-convert {\n",
              "      background-color: #E8F0FE;\n",
              "      border: none;\n",
              "      border-radius: 50%;\n",
              "      cursor: pointer;\n",
              "      display: none;\n",
              "      fill: #1967D2;\n",
              "      height: 32px;\n",
              "      padding: 0 0 0 0;\n",
              "      width: 32px;\n",
              "    }\n",
              "\n",
              "    .colab-df-convert:hover {\n",
              "      background-color: #E2EBFA;\n",
              "      box-shadow: 0px 1px 2px rgba(60, 64, 67, 0.3), 0px 1px 3px 1px rgba(60, 64, 67, 0.15);\n",
              "      fill: #174EA6;\n",
              "    }\n",
              "\n",
              "    [theme=dark] .colab-df-convert {\n",
              "      background-color: #3B4455;\n",
              "      fill: #D2E3FC;\n",
              "    }\n",
              "\n",
              "    [theme=dark] .colab-df-convert:hover {\n",
              "      background-color: #434B5C;\n",
              "      box-shadow: 0px 1px 3px 1px rgba(0, 0, 0, 0.15);\n",
              "      filter: drop-shadow(0px 1px 2px rgba(0, 0, 0, 0.3));\n",
              "      fill: #FFFFFF;\n",
              "    }\n",
              "  </style>\n",
              "\n",
              "      <script>\n",
              "        const buttonEl =\n",
              "          document.querySelector('#df-2f9f7975-5afe-4a3f-82a2-e149cf8dad79 button.colab-df-convert');\n",
              "        buttonEl.style.display =\n",
              "          google.colab.kernel.accessAllowed ? 'block' : 'none';\n",
              "\n",
              "        async function convertToInteractive(key) {\n",
              "          const element = document.querySelector('#df-2f9f7975-5afe-4a3f-82a2-e149cf8dad79');\n",
              "          const dataTable =\n",
              "            await google.colab.kernel.invokeFunction('convertToInteractive',\n",
              "                                                     [key], {});\n",
              "          if (!dataTable) return;\n",
              "\n",
              "          const docLinkHtml = 'Like what you see? Visit the ' +\n",
              "            '<a target=\"_blank\" href=https://colab.research.google.com/notebooks/data_table.ipynb>data table notebook</a>'\n",
              "            + ' to learn more about interactive tables.';\n",
              "          element.innerHTML = '';\n",
              "          dataTable['output_type'] = 'display_data';\n",
              "          await google.colab.output.renderOutput(dataTable, element);\n",
              "          const docLink = document.createElement('div');\n",
              "          docLink.innerHTML = docLinkHtml;\n",
              "          element.appendChild(docLink);\n",
              "        }\n",
              "      </script>\n",
              "    </div>\n",
              "  </div>\n",
              "  "
            ]
          },
          "metadata": {},
          "execution_count": 17
        }
      ]
    },
    {
      "cell_type": "code",
      "source": [
        "resultados.sort_values('test', ascending=False).head()\n"
      ],
      "metadata": {
        "colab": {
          "base_uri": "https://localhost:8080/",
          "height": 206
        },
        "id": "BOJRH7IH5CkW",
        "outputId": "e1c9c6fb-7b66-4849-c101-96a8cc4e2d88"
      },
      "execution_count": null,
      "outputs": [
        {
          "output_type": "execute_result",
          "data": {
            "text/plain": [
              "    Max_depth  Min_samples_leaf      train       test\n",
              "15          4               256  78.750993  78.672633\n",
              "12          4                31  78.750993  78.672633\n",
              "14          4               128  78.750993  78.672633\n",
              "13          4                64  78.750993  78.672633\n",
              "8           3                31  78.750993  78.672633"
            ],
            "text/html": [
              "\n",
              "  <div id=\"df-90332af1-ca28-4ecd-9c34-8b8733ce0750\">\n",
              "    <div class=\"colab-df-container\">\n",
              "      <div>\n",
              "<style scoped>\n",
              "    .dataframe tbody tr th:only-of-type {\n",
              "        vertical-align: middle;\n",
              "    }\n",
              "\n",
              "    .dataframe tbody tr th {\n",
              "        vertical-align: top;\n",
              "    }\n",
              "\n",
              "    .dataframe thead th {\n",
              "        text-align: right;\n",
              "    }\n",
              "</style>\n",
              "<table border=\"1\" class=\"dataframe\">\n",
              "  <thead>\n",
              "    <tr style=\"text-align: right;\">\n",
              "      <th></th>\n",
              "      <th>Max_depth</th>\n",
              "      <th>Min_samples_leaf</th>\n",
              "      <th>train</th>\n",
              "      <th>test</th>\n",
              "    </tr>\n",
              "  </thead>\n",
              "  <tbody>\n",
              "    <tr>\n",
              "      <th>15</th>\n",
              "      <td>4</td>\n",
              "      <td>256</td>\n",
              "      <td>78.750993</td>\n",
              "      <td>78.672633</td>\n",
              "    </tr>\n",
              "    <tr>\n",
              "      <th>12</th>\n",
              "      <td>4</td>\n",
              "      <td>31</td>\n",
              "      <td>78.750993</td>\n",
              "      <td>78.672633</td>\n",
              "    </tr>\n",
              "    <tr>\n",
              "      <th>14</th>\n",
              "      <td>4</td>\n",
              "      <td>128</td>\n",
              "      <td>78.750993</td>\n",
              "      <td>78.672633</td>\n",
              "    </tr>\n",
              "    <tr>\n",
              "      <th>13</th>\n",
              "      <td>4</td>\n",
              "      <td>64</td>\n",
              "      <td>78.750993</td>\n",
              "      <td>78.672633</td>\n",
              "    </tr>\n",
              "    <tr>\n",
              "      <th>8</th>\n",
              "      <td>3</td>\n",
              "      <td>31</td>\n",
              "      <td>78.750993</td>\n",
              "      <td>78.672633</td>\n",
              "    </tr>\n",
              "  </tbody>\n",
              "</table>\n",
              "</div>\n",
              "      <button class=\"colab-df-convert\" onclick=\"convertToInteractive('df-90332af1-ca28-4ecd-9c34-8b8733ce0750')\"\n",
              "              title=\"Convert this dataframe to an interactive table.\"\n",
              "              style=\"display:none;\">\n",
              "        \n",
              "  <svg xmlns=\"http://www.w3.org/2000/svg\" height=\"24px\"viewBox=\"0 0 24 24\"\n",
              "       width=\"24px\">\n",
              "    <path d=\"M0 0h24v24H0V0z\" fill=\"none\"/>\n",
              "    <path d=\"M18.56 5.44l.94 2.06.94-2.06 2.06-.94-2.06-.94-.94-2.06-.94 2.06-2.06.94zm-11 1L8.5 8.5l.94-2.06 2.06-.94-2.06-.94L8.5 2.5l-.94 2.06-2.06.94zm10 10l.94 2.06.94-2.06 2.06-.94-2.06-.94-.94-2.06-.94 2.06-2.06.94z\"/><path d=\"M17.41 7.96l-1.37-1.37c-.4-.4-.92-.59-1.43-.59-.52 0-1.04.2-1.43.59L10.3 9.45l-7.72 7.72c-.78.78-.78 2.05 0 2.83L4 21.41c.39.39.9.59 1.41.59.51 0 1.02-.2 1.41-.59l7.78-7.78 2.81-2.81c.8-.78.8-2.07 0-2.86zM5.41 20L4 18.59l7.72-7.72 1.47 1.35L5.41 20z\"/>\n",
              "  </svg>\n",
              "      </button>\n",
              "      \n",
              "  <style>\n",
              "    .colab-df-container {\n",
              "      display:flex;\n",
              "      flex-wrap:wrap;\n",
              "      gap: 12px;\n",
              "    }\n",
              "\n",
              "    .colab-df-convert {\n",
              "      background-color: #E8F0FE;\n",
              "      border: none;\n",
              "      border-radius: 50%;\n",
              "      cursor: pointer;\n",
              "      display: none;\n",
              "      fill: #1967D2;\n",
              "      height: 32px;\n",
              "      padding: 0 0 0 0;\n",
              "      width: 32px;\n",
              "    }\n",
              "\n",
              "    .colab-df-convert:hover {\n",
              "      background-color: #E2EBFA;\n",
              "      box-shadow: 0px 1px 2px rgba(60, 64, 67, 0.3), 0px 1px 3px 1px rgba(60, 64, 67, 0.15);\n",
              "      fill: #174EA6;\n",
              "    }\n",
              "\n",
              "    [theme=dark] .colab-df-convert {\n",
              "      background-color: #3B4455;\n",
              "      fill: #D2E3FC;\n",
              "    }\n",
              "\n",
              "    [theme=dark] .colab-df-convert:hover {\n",
              "      background-color: #434B5C;\n",
              "      box-shadow: 0px 1px 3px 1px rgba(0, 0, 0, 0.15);\n",
              "      filter: drop-shadow(0px 1px 2px rgba(0, 0, 0, 0.3));\n",
              "      fill: #FFFFFF;\n",
              "    }\n",
              "  </style>\n",
              "\n",
              "      <script>\n",
              "        const buttonEl =\n",
              "          document.querySelector('#df-90332af1-ca28-4ecd-9c34-8b8733ce0750 button.colab-df-convert');\n",
              "        buttonEl.style.display =\n",
              "          google.colab.kernel.accessAllowed ? 'block' : 'none';\n",
              "\n",
              "        async function convertToInteractive(key) {\n",
              "          const element = document.querySelector('#df-90332af1-ca28-4ecd-9c34-8b8733ce0750');\n",
              "          const dataTable =\n",
              "            await google.colab.kernel.invokeFunction('convertToInteractive',\n",
              "                                                     [key], {});\n",
              "          if (!dataTable) return;\n",
              "\n",
              "          const docLinkHtml = 'Like what you see? Visit the ' +\n",
              "            '<a target=\"_blank\" href=https://colab.research.google.com/notebooks/data_table.ipynb>data table notebook</a>'\n",
              "            + ' to learn more about interactive tables.';\n",
              "          element.innerHTML = '';\n",
              "          dataTable['output_type'] = 'display_data';\n",
              "          await google.colab.output.renderOutput(dataTable, element);\n",
              "          const docLink = document.createElement('div');\n",
              "          docLink.innerHTML = docLinkHtml;\n",
              "          element.appendChild(docLink);\n",
              "        }\n",
              "      </script>\n",
              "    </div>\n",
              "  </div>\n",
              "  "
            ]
          },
          "metadata": {},
          "execution_count": 18
        }
      ]
    },
    {
      "cell_type": "code",
      "source": [
        "resultados.corr()"
      ],
      "metadata": {
        "colab": {
          "base_uri": "https://localhost:8080/",
          "height": 175
        },
        "id": "NpYBki8y5Nza",
        "outputId": "069b7e0a-bb55-478f-ae3e-3be13350271b"
      },
      "execution_count": null,
      "outputs": [
        {
          "output_type": "execute_result",
          "data": {
            "text/plain": [
              "                     Max_depth  Min_samples_leaf     train      test\n",
              "Max_depth         1.000000e+00      1.386232e-16  0.541271 -0.005228\n",
              "Min_samples_leaf  1.386232e-16      1.000000e+00 -0.410441  0.306006\n",
              "train             5.412709e-01     -4.104409e-01  1.000000  0.199837\n",
              "test             -5.227519e-03      3.060059e-01  0.199837  1.000000"
            ],
            "text/html": [
              "\n",
              "  <div id=\"df-636f3169-9d46-42d1-ae89-866050d138dc\">\n",
              "    <div class=\"colab-df-container\">\n",
              "      <div>\n",
              "<style scoped>\n",
              "    .dataframe tbody tr th:only-of-type {\n",
              "        vertical-align: middle;\n",
              "    }\n",
              "\n",
              "    .dataframe tbody tr th {\n",
              "        vertical-align: top;\n",
              "    }\n",
              "\n",
              "    .dataframe thead th {\n",
              "        text-align: right;\n",
              "    }\n",
              "</style>\n",
              "<table border=\"1\" class=\"dataframe\">\n",
              "  <thead>\n",
              "    <tr style=\"text-align: right;\">\n",
              "      <th></th>\n",
              "      <th>Max_depth</th>\n",
              "      <th>Min_samples_leaf</th>\n",
              "      <th>train</th>\n",
              "      <th>test</th>\n",
              "    </tr>\n",
              "  </thead>\n",
              "  <tbody>\n",
              "    <tr>\n",
              "      <th>Max_depth</th>\n",
              "      <td>1.000000e+00</td>\n",
              "      <td>1.386232e-16</td>\n",
              "      <td>0.541271</td>\n",
              "      <td>-0.005228</td>\n",
              "    </tr>\n",
              "    <tr>\n",
              "      <th>Min_samples_leaf</th>\n",
              "      <td>1.386232e-16</td>\n",
              "      <td>1.000000e+00</td>\n",
              "      <td>-0.410441</td>\n",
              "      <td>0.306006</td>\n",
              "    </tr>\n",
              "    <tr>\n",
              "      <th>train</th>\n",
              "      <td>5.412709e-01</td>\n",
              "      <td>-4.104409e-01</td>\n",
              "      <td>1.000000</td>\n",
              "      <td>0.199837</td>\n",
              "    </tr>\n",
              "    <tr>\n",
              "      <th>test</th>\n",
              "      <td>-5.227519e-03</td>\n",
              "      <td>3.060059e-01</td>\n",
              "      <td>0.199837</td>\n",
              "      <td>1.000000</td>\n",
              "    </tr>\n",
              "  </tbody>\n",
              "</table>\n",
              "</div>\n",
              "      <button class=\"colab-df-convert\" onclick=\"convertToInteractive('df-636f3169-9d46-42d1-ae89-866050d138dc')\"\n",
              "              title=\"Convert this dataframe to an interactive table.\"\n",
              "              style=\"display:none;\">\n",
              "        \n",
              "  <svg xmlns=\"http://www.w3.org/2000/svg\" height=\"24px\"viewBox=\"0 0 24 24\"\n",
              "       width=\"24px\">\n",
              "    <path d=\"M0 0h24v24H0V0z\" fill=\"none\"/>\n",
              "    <path d=\"M18.56 5.44l.94 2.06.94-2.06 2.06-.94-2.06-.94-.94-2.06-.94 2.06-2.06.94zm-11 1L8.5 8.5l.94-2.06 2.06-.94-2.06-.94L8.5 2.5l-.94 2.06-2.06.94zm10 10l.94 2.06.94-2.06 2.06-.94-2.06-.94-.94-2.06-.94 2.06-2.06.94z\"/><path d=\"M17.41 7.96l-1.37-1.37c-.4-.4-.92-.59-1.43-.59-.52 0-1.04.2-1.43.59L10.3 9.45l-7.72 7.72c-.78.78-.78 2.05 0 2.83L4 21.41c.39.39.9.59 1.41.59.51 0 1.02-.2 1.41-.59l7.78-7.78 2.81-2.81c.8-.78.8-2.07 0-2.86zM5.41 20L4 18.59l7.72-7.72 1.47 1.35L5.41 20z\"/>\n",
              "  </svg>\n",
              "      </button>\n",
              "      \n",
              "  <style>\n",
              "    .colab-df-container {\n",
              "      display:flex;\n",
              "      flex-wrap:wrap;\n",
              "      gap: 12px;\n",
              "    }\n",
              "\n",
              "    .colab-df-convert {\n",
              "      background-color: #E8F0FE;\n",
              "      border: none;\n",
              "      border-radius: 50%;\n",
              "      cursor: pointer;\n",
              "      display: none;\n",
              "      fill: #1967D2;\n",
              "      height: 32px;\n",
              "      padding: 0 0 0 0;\n",
              "      width: 32px;\n",
              "    }\n",
              "\n",
              "    .colab-df-convert:hover {\n",
              "      background-color: #E2EBFA;\n",
              "      box-shadow: 0px 1px 2px rgba(60, 64, 67, 0.3), 0px 1px 3px 1px rgba(60, 64, 67, 0.15);\n",
              "      fill: #174EA6;\n",
              "    }\n",
              "\n",
              "    [theme=dark] .colab-df-convert {\n",
              "      background-color: #3B4455;\n",
              "      fill: #D2E3FC;\n",
              "    }\n",
              "\n",
              "    [theme=dark] .colab-df-convert:hover {\n",
              "      background-color: #434B5C;\n",
              "      box-shadow: 0px 1px 3px 1px rgba(0, 0, 0, 0.15);\n",
              "      filter: drop-shadow(0px 1px 2px rgba(0, 0, 0, 0.3));\n",
              "      fill: #FFFFFF;\n",
              "    }\n",
              "  </style>\n",
              "\n",
              "      <script>\n",
              "        const buttonEl =\n",
              "          document.querySelector('#df-636f3169-9d46-42d1-ae89-866050d138dc button.colab-df-convert');\n",
              "        buttonEl.style.display =\n",
              "          google.colab.kernel.accessAllowed ? 'block' : 'none';\n",
              "\n",
              "        async function convertToInteractive(key) {\n",
              "          const element = document.querySelector('#df-636f3169-9d46-42d1-ae89-866050d138dc');\n",
              "          const dataTable =\n",
              "            await google.colab.kernel.invokeFunction('convertToInteractive',\n",
              "                                                     [key], {});\n",
              "          if (!dataTable) return;\n",
              "\n",
              "          const docLinkHtml = 'Like what you see? Visit the ' +\n",
              "            '<a target=\"_blank\" href=https://colab.research.google.com/notebooks/data_table.ipynb>data table notebook</a>'\n",
              "            + ' to learn more about interactive tables.';\n",
              "          element.innerHTML = '';\n",
              "          dataTable['output_type'] = 'display_data';\n",
              "          await google.colab.output.renderOutput(dataTable, element);\n",
              "          const docLink = document.createElement('div');\n",
              "          docLink.innerHTML = docLinkHtml;\n",
              "          element.appendChild(docLink);\n",
              "        }\n",
              "      </script>\n",
              "    </div>\n",
              "  </div>\n",
              "  "
            ]
          },
          "metadata": {},
          "execution_count": 19
        }
      ]
    },
    {
      "cell_type": "code",
      "source": [
        "plt.figure(figsize=(10,10))\n",
        "sns.heatmap(resultados.corr(), annot=True, fmt='.2f', cmap='Greens');"
      ],
      "metadata": {
        "colab": {
          "base_uri": "https://localhost:8080/",
          "height": 596
        },
        "id": "uqAy1tg-6Fux",
        "outputId": "916af6ce-ab60-45b5-acd1-a8bf6c5a13cf"
      },
      "execution_count": null,
      "outputs": [
        {
          "output_type": "display_data",
          "data": {
            "text/plain": [
              "<Figure size 720x720 with 2 Axes>"
            ],
            "image/png": "[encoded data removed]"
          },
          "metadata": {
            "needs_background": "light"
          }
        }
      ]
    },
    {
      "cell_type": "code",
      "source": [
        "sns.pairplot(resultados)"
      ],
      "metadata": {
        "colab": {
          "base_uri": "https://localhost:8080/",
          "height": 743
        },
        "id": "uvaFQYl76Lk1",
        "outputId": "d59b9fc6-b5b8-4195-a407-b96014766c1b"
      },
      "execution_count": null,
      "outputs": [
        {
          "output_type": "execute_result",
          "data": {
            "text/plain": [
              "<seaborn.axisgrid.PairGrid at 0x7f4407cb92e0>"
            ]
          },
          "metadata": {},
          "execution_count": 21
        },
        {
          "output_type": "display_data",
          "data": {
            "text/plain": [
              "<Figure size 720x720 with 20 Axes>"
            ],
            "image/png": "[encoded data removed]"
          },
          "metadata": {
            "needs_background": "light"
          }
        }
      ]
    },
    {
      "cell_type": "markdown",
      "source": [
        "##**Explorando os hiperparametros 3 dimensões**"
      ],
      "metadata": {
        "id": "_U2V5BrJAFB-"
      }
    },
    {
      "cell_type": "code",
      "source": [
        "def roda_arvore_de_decisao(max_depth, min_samples_leaf, min_samples_split):\n",
        "\n",
        "    SEED = 301\n",
        "    np.random.seed(SEED)\n",
        "\n",
        "    kfold = GroupKFold(n_splits=10)\n",
        "    modelo_arvore = DecisionTreeClassifier(max_depth=max_depth, min_samples_leaf=min_samples_leaf, min_samples_split=min_samples_split)\n",
        "    resultado = cross_validate(modelo_arvore, x_azar, y_azar, cv=kfold, groups=dados.modelo, return_train_score=True)\n",
        "    fit_time = resultado['fit_time'].mean()\n",
        "    score_time = resultado['score_time'].mean()\n",
        "    media_teste = resultado['test_score'].mean()\n",
        "    media_treino = resultado['train_score'].mean()\n",
        "    # print(f'Arvore Max_depth: {max_depth}, min_samples_leaf: {min_samples_leaf},min_samples_split: {min_samples_split}, Accuracy treino: {(media_treino*100):.2f}, teste: {(media_teste*100):.2f}')\n",
        "    tabela = [max_depth,min_samples_leaf,min_samples_split, media_treino*100, media_teste*100, fit_time, score_time]\n",
        "    return tabela\n",
        "\n",
        "def busca():\n",
        "    resultados = []\n",
        "    for max_depth in range(1,33):\n",
        "        for min_samples_leaf in [32, 64, 128, 256]:\n",
        "            for min_samples_split in [32, 64, 128, 256]:\n",
        "                tabela = roda_arvore_de_decisao(max_depth, min_samples_leaf, min_samples_split)\n",
        "                resultados.append(tabela)\n",
        "\n",
        "    resultados = pd.DataFrame(resultados, columns=['Max_depth', 'Min_samples_leaf', 'Min_samples_split', 'train', 'test', 'fit_time', 'score_time'])\n",
        "    return resultados\n",
        "    \n",
        "resultados = busca()\n",
        "resultados.head()"
      ],
      "metadata": {
        "colab": {
          "base_uri": "https://localhost:8080/",
          "height": 206
        },
        "id": "0wQa844E7csw",
        "outputId": "836739cd-f81f-423c-d66a-495681d449e9"
      },
      "execution_count": null,
      "outputs": [
        {
          "output_type": "execute_result",
          "data": {
            "text/plain": [
              "   Max_depth  Min_samples_leaf  Min_samples_split      train       test  \\\n",
              "0          1                32                 32  75.791169  75.784219   \n",
              "1          1                32                 64  75.791169  75.784219   \n",
              "2          1                32                128  75.791169  75.784219   \n",
              "3          1                32                256  75.791169  75.784219   \n",
              "4          1                64                 32  75.791169  75.784219   \n",
              "\n",
              "   fit_time  score_time  \n",
              "0  0.006375    0.001731  \n",
              "1  0.005706    0.001695  \n",
              "2  0.005898    0.001811  \n",
              "3  0.005772    0.001709  \n",
              "4  0.005687    0.001750  "
            ],
            "text/html": [
              "\n",
              "  <div id=\"df-9dea3c95-9358-4fab-bbc2-16619f0e36dc\">\n",
              "    <div class=\"colab-df-container\">\n",
              "      <div>\n",
              "<style scoped>\n",
              "    .dataframe tbody tr th:only-of-type {\n",
              "        vertical-align: middle;\n",
              "    }\n",
              "\n",
              "    .dataframe tbody tr th {\n",
              "        vertical-align: top;\n",
              "    }\n",
              "\n",
              "    .dataframe thead th {\n",
              "        text-align: right;\n",
              "    }\n",
              "</style>\n",
              "<table border=\"1\" class=\"dataframe\">\n",
              "  <thead>\n",
              "    <tr style=\"text-align: right;\">\n",
              "      <th></th>\n",
              "      <th>Max_depth</th>\n",
              "      <th>Min_samples_leaf</th>\n",
              "      <th>Min_samples_split</th>\n",
              "      <th>train</th>\n",
              "      <th>test</th>\n",
              "      <th>fit_time</th>\n",
              "      <th>score_time</th>\n",
              "    </tr>\n",
              "  </thead>\n",
              "  <tbody>\n",
              "    <tr>\n",
              "      <th>0</th>\n",
              "      <td>1</td>\n",
              "      <td>32</td>\n",
              "      <td>32</td>\n",
              "      <td>75.791169</td>\n",
              "      <td>75.784219</td>\n",
              "      <td>0.006375</td>\n",
              "      <td>0.001731</td>\n",
              "    </tr>\n",
              "    <tr>\n",
              "      <th>1</th>\n",
              "      <td>1</td>\n",
              "      <td>32</td>\n",
              "      <td>64</td>\n",
              "      <td>75.791169</td>\n",
              "      <td>75.784219</td>\n",
              "      <td>0.005706</td>\n",
              "      <td>0.001695</td>\n",
              "    </tr>\n",
              "    <tr>\n",
              "      <th>2</th>\n",
              "      <td>1</td>\n",
              "      <td>32</td>\n",
              "      <td>128</td>\n",
              "      <td>75.791169</td>\n",
              "      <td>75.784219</td>\n",
              "      <td>0.005898</td>\n",
              "      <td>0.001811</td>\n",
              "    </tr>\n",
              "    <tr>\n",
              "      <th>3</th>\n",
              "      <td>1</td>\n",
              "      <td>32</td>\n",
              "      <td>256</td>\n",
              "      <td>75.791169</td>\n",
              "      <td>75.784219</td>\n",
              "      <td>0.005772</td>\n",
              "      <td>0.001709</td>\n",
              "    </tr>\n",
              "    <tr>\n",
              "      <th>4</th>\n",
              "      <td>1</td>\n",
              "      <td>64</td>\n",
              "      <td>32</td>\n",
              "      <td>75.791169</td>\n",
              "      <td>75.784219</td>\n",
              "      <td>0.005687</td>\n",
              "      <td>0.001750</td>\n",
              "    </tr>\n",
              "  </tbody>\n",
              "</table>\n",
              "</div>\n",
              "      <button class=\"colab-df-convert\" onclick=\"convertToInteractive('df-9dea3c95-9358-4fab-bbc2-16619f0e36dc')\"\n",
              "              title=\"Convert this dataframe to an interactive table.\"\n",
              "              style=\"display:none;\">\n",
              "        \n",
              "  <svg xmlns=\"http://www.w3.org/2000/svg\" height=\"24px\"viewBox=\"0 0 24 24\"\n",
              "       width=\"24px\">\n",
              "    <path d=\"M0 0h24v24H0V0z\" fill=\"none\"/>\n",
              "    <path d=\"M18.56 5.44l.94 2.06.94-2.06 2.06-.94-2.06-.94-.94-2.06-.94 2.06-2.06.94zm-11 1L8.5 8.5l.94-2.06 2.06-.94-2.06-.94L8.5 2.5l-.94 2.06-2.06.94zm10 10l.94 2.06.94-2.06 2.06-.94-2.06-.94-.94-2.06-.94 2.06-2.06.94z\"/><path d=\"M17.41 7.96l-1.37-1.37c-.4-.4-.92-.59-1.43-.59-.52 0-1.04.2-1.43.59L10.3 9.45l-7.72 7.72c-.78.78-.78 2.05 0 2.83L4 21.41c.39.39.9.59 1.41.59.51 0 1.02-.2 1.41-.59l7.78-7.78 2.81-2.81c.8-.78.8-2.07 0-2.86zM5.41 20L4 18.59l7.72-7.72 1.47 1.35L5.41 20z\"/>\n",
              "  </svg>\n",
              "      </button>\n",
              "      \n",
              "  <style>\n",
              "    .colab-df-container {\n",
              "      display:flex;\n",
              "      flex-wrap:wrap;\n",
              "      gap: 12px;\n",
              "    }\n",
              "\n",
              "    .colab-df-convert {\n",
              "      background-color: #E8F0FE;\n",
              "      border: none;\n",
              "      border-radius: 50%;\n",
              "      cursor: pointer;\n",
              "      display: none;\n",
              "      fill: #1967D2;\n",
              "      height: 32px;\n",
              "      padding: 0 0 0 0;\n",
              "      width: 32px;\n",
              "    }\n",
              "\n",
              "    .colab-df-convert:hover {\n",
              "      background-color: #E2EBFA;\n",
              "      box-shadow: 0px 1px 2px rgba(60, 64, 67, 0.3), 0px 1px 3px 1px rgba(60, 64, 67, 0.15);\n",
              "      fill: #174EA6;\n",
              "    }\n",
              "\n",
              "    [theme=dark] .colab-df-convert {\n",
              "      background-color: #3B4455;\n",
              "      fill: #D2E3FC;\n",
              "    }\n",
              "\n",
              "    [theme=dark] .colab-df-convert:hover {\n",
              "      background-color: #434B5C;\n",
              "      box-shadow: 0px 1px 3px 1px rgba(0, 0, 0, 0.15);\n",
              "      filter: drop-shadow(0px 1px 2px rgba(0, 0, 0, 0.3));\n",
              "      fill: #FFFFFF;\n",
              "    }\n",
              "  </style>\n",
              "\n",
              "      <script>\n",
              "        const buttonEl =\n",
              "          document.querySelector('#df-9dea3c95-9358-4fab-bbc2-16619f0e36dc button.colab-df-convert');\n",
              "        buttonEl.style.display =\n",
              "          google.colab.kernel.accessAllowed ? 'block' : 'none';\n",
              "\n",
              "        async function convertToInteractive(key) {\n",
              "          const element = document.querySelector('#df-9dea3c95-9358-4fab-bbc2-16619f0e36dc');\n",
              "          const dataTable =\n",
              "            await google.colab.kernel.invokeFunction('convertToInteractive',\n",
              "                                                     [key], {});\n",
              "          if (!dataTable) return;\n",
              "\n",
              "          const docLinkHtml = 'Like what you see? Visit the ' +\n",
              "            '<a target=\"_blank\" href=https://colab.research.google.com/notebooks/data_table.ipynb>data table notebook</a>'\n",
              "            + ' to learn more about interactive tables.';\n",
              "          element.innerHTML = '';\n",
              "          dataTable['output_type'] = 'display_data';\n",
              "          await google.colab.output.renderOutput(dataTable, element);\n",
              "          const docLink = document.createElement('div');\n",
              "          docLink.innerHTML = docLinkHtml;\n",
              "          element.appendChild(docLink);\n",
              "        }\n",
              "      </script>\n",
              "    </div>\n",
              "  </div>\n",
              "  "
            ]
          },
          "metadata": {},
          "execution_count": 22
        }
      ]
    },
    {
      "cell_type": "code",
      "source": [
        "corr = resultados.corr()"
      ],
      "metadata": {
        "id": "sJAErQEXCa5j"
      },
      "execution_count": null,
      "outputs": []
    },
    {
      "cell_type": "code",
      "source": [
        "plt.figure(figsize=(10,8))\n",
        "sns.heatmap(corr, annot=True, fmt='.2f')"
      ],
      "metadata": {
        "colab": {
          "base_uri": "https://localhost:8080/",
          "height": 584
        },
        "id": "E8jJlofbCfvf",
        "outputId": "699f6491-5b2a-4715-de0d-99a03567eec1"
      },
      "execution_count": null,
      "outputs": [
        {
          "output_type": "execute_result",
          "data": {
            "text/plain": [
              "<matplotlib.axes._subplots.AxesSubplot at 0x7f440396a880>"
            ]
          },
          "metadata": {},
          "execution_count": 24
        },
        {
          "output_type": "display_data",
          "data": {
            "text/plain": [
              "<Figure size 720x576 with 2 Axes>"
            ],
            "image/png": "[encoded data removed]"
          },
          "metadata": {
            "needs_background": "light"
          }
        }
      ]
    },
    {
      "cell_type": "code",
      "source": [
        "resultados.sort_values('test', ascending=False).head()"
      ],
      "metadata": {
        "colab": {
          "base_uri": "https://localhost:8080/",
          "height": 206
        },
        "id": "lRoA3NmOCy_V",
        "outputId": "e02d86f3-1843-473a-b56d-d6119b457ce4"
      },
      "execution_count": null,
      "outputs": [
        {
          "output_type": "execute_result",
          "data": {
            "text/plain": [
              "    Max_depth  Min_samples_leaf  Min_samples_split      train       test  \\\n",
              "62          4               256                128  78.750993  78.672633   \n",
              "44          3               256                 32  78.750993  78.672633   \n",
              "32          3                32                 32  78.750993  78.672633   \n",
              "33          3                32                 64  78.750993  78.672633   \n",
              "34          3                32                128  78.750993  78.672633   \n",
              "\n",
              "    fit_time  score_time  \n",
              "62  0.012508    0.002086  \n",
              "44  0.010336    0.001859  \n",
              "32  0.010801    0.002103  \n",
              "33  0.011232    0.002078  \n",
              "34  0.010599    0.001865  "
            ],
            "text/html": [
              "\n",
              "  <div id=\"df-005a54d3-a489-4b3b-b518-8c217cfd6004\">\n",
              "    <div class=\"colab-df-container\">\n",
              "      <div>\n",
              "<style scoped>\n",
              "    .dataframe tbody tr th:only-of-type {\n",
              "        vertical-align: middle;\n",
              "    }\n",
              "\n",
              "    .dataframe tbody tr th {\n",
              "        vertical-align: top;\n",
              "    }\n",
              "\n",
              "    .dataframe thead th {\n",
              "        text-align: right;\n",
              "    }\n",
              "</style>\n",
              "<table border=\"1\" class=\"dataframe\">\n",
              "  <thead>\n",
              "    <tr style=\"text-align: right;\">\n",
              "      <th></th>\n",
              "      <th>Max_depth</th>\n",
              "      <th>Min_samples_leaf</th>\n",
              "      <th>Min_samples_split</th>\n",
              "      <th>train</th>\n",
              "      <th>test</th>\n",
              "      <th>fit_time</th>\n",
              "      <th>score_time</th>\n",
              "    </tr>\n",
              "  </thead>\n",
              "  <tbody>\n",
              "    <tr>\n",
              "      <th>62</th>\n",
              "      <td>4</td>\n",
              "      <td>256</td>\n",
              "      <td>128</td>\n",
              "      <td>78.750993</td>\n",
              "      <td>78.672633</td>\n",
              "      <td>0.012508</td>\n",
              "      <td>0.002086</td>\n",
              "    </tr>\n",
              "    <tr>\n",
              "      <th>44</th>\n",
              "      <td>3</td>\n",
              "      <td>256</td>\n",
              "      <td>32</td>\n",
              "      <td>78.750993</td>\n",
              "      <td>78.672633</td>\n",
              "      <td>0.010336</td>\n",
              "      <td>0.001859</td>\n",
              "    </tr>\n",
              "    <tr>\n",
              "      <th>32</th>\n",
              "      <td>3</td>\n",
              "      <td>32</td>\n",
              "      <td>32</td>\n",
              "      <td>78.750993</td>\n",
              "      <td>78.672633</td>\n",
              "      <td>0.010801</td>\n",
              "      <td>0.002103</td>\n",
              "    </tr>\n",
              "    <tr>\n",
              "      <th>33</th>\n",
              "      <td>3</td>\n",
              "      <td>32</td>\n",
              "      <td>64</td>\n",
              "      <td>78.750993</td>\n",
              "      <td>78.672633</td>\n",
              "      <td>0.011232</td>\n",
              "      <td>0.002078</td>\n",
              "    </tr>\n",
              "    <tr>\n",
              "      <th>34</th>\n",
              "      <td>3</td>\n",
              "      <td>32</td>\n",
              "      <td>128</td>\n",
              "      <td>78.750993</td>\n",
              "      <td>78.672633</td>\n",
              "      <td>0.010599</td>\n",
              "      <td>0.001865</td>\n",
              "    </tr>\n",
              "  </tbody>\n",
              "</table>\n",
              "</div>\n",
              "      <button class=\"colab-df-convert\" onclick=\"convertToInteractive('df-005a54d3-a489-4b3b-b518-8c217cfd6004')\"\n",
              "              title=\"Convert this dataframe to an interactive table.\"\n",
              "              style=\"display:none;\">\n",
              "        \n",
              "  <svg xmlns=\"http://www.w3.org/2000/svg\" height=\"24px\"viewBox=\"0 0 24 24\"\n",
              "       width=\"24px\">\n",
              "    <path d=\"M0 0h24v24H0V0z\" fill=\"none\"/>\n",
              "    <path d=\"M18.56 5.44l.94 2.06.94-2.06 2.06-.94-2.06-.94-.94-2.06-.94 2.06-2.06.94zm-11 1L8.5 8.5l.94-2.06 2.06-.94-2.06-.94L8.5 2.5l-.94 2.06-2.06.94zm10 10l.94 2.06.94-2.06 2.06-.94-2.06-.94-.94-2.06-.94 2.06-2.06.94z\"/><path d=\"M17.41 7.96l-1.37-1.37c-.4-.4-.92-.59-1.43-.59-.52 0-1.04.2-1.43.59L10.3 9.45l-7.72 7.72c-.78.78-.78 2.05 0 2.83L4 21.41c.39.39.9.59 1.41.59.51 0 1.02-.2 1.41-.59l7.78-7.78 2.81-2.81c.8-.78.8-2.07 0-2.86zM5.41 20L4 18.59l7.72-7.72 1.47 1.35L5.41 20z\"/>\n",
              "  </svg>\n",
              "      </button>\n",
              "      \n",
              "  <style>\n",
              "    .colab-df-container {\n",
              "      display:flex;\n",
              "      flex-wrap:wrap;\n",
              "      gap: 12px;\n",
              "    }\n",
              "\n",
              "    .colab-df-convert {\n",
              "      background-color: #E8F0FE;\n",
              "      border: none;\n",
              "      border-radius: 50%;\n",
              "      cursor: pointer;\n",
              "      display: none;\n",
              "      fill: #1967D2;\n",
              "      height: 32px;\n",
              "      padding: 0 0 0 0;\n",
              "      width: 32px;\n",
              "    }\n",
              "\n",
              "    .colab-df-convert:hover {\n",
              "      background-color: #E2EBFA;\n",
              "      box-shadow: 0px 1px 2px rgba(60, 64, 67, 0.3), 0px 1px 3px 1px rgba(60, 64, 67, 0.15);\n",
              "      fill: #174EA6;\n",
              "    }\n",
              "\n",
              "    [theme=dark] .colab-df-convert {\n",
              "      background-color: #3B4455;\n",
              "      fill: #D2E3FC;\n",
              "    }\n",
              "\n",
              "    [theme=dark] .colab-df-convert:hover {\n",
              "      background-color: #434B5C;\n",
              "      box-shadow: 0px 1px 3px 1px rgba(0, 0, 0, 0.15);\n",
              "      filter: drop-shadow(0px 1px 2px rgba(0, 0, 0, 0.3));\n",
              "      fill: #FFFFFF;\n",
              "    }\n",
              "  </style>\n",
              "\n",
              "      <script>\n",
              "        const buttonEl =\n",
              "          document.querySelector('#df-005a54d3-a489-4b3b-b518-8c217cfd6004 button.colab-df-convert');\n",
              "        buttonEl.style.display =\n",
              "          google.colab.kernel.accessAllowed ? 'block' : 'none';\n",
              "\n",
              "        async function convertToInteractive(key) {\n",
              "          const element = document.querySelector('#df-005a54d3-a489-4b3b-b518-8c217cfd6004');\n",
              "          const dataTable =\n",
              "            await google.colab.kernel.invokeFunction('convertToInteractive',\n",
              "                                                     [key], {});\n",
              "          if (!dataTable) return;\n",
              "\n",
              "          const docLinkHtml = 'Like what you see? Visit the ' +\n",
              "            '<a target=\"_blank\" href=https://colab.research.google.com/notebooks/data_table.ipynb>data table notebook</a>'\n",
              "            + ' to learn more about interactive tables.';\n",
              "          element.innerHTML = '';\n",
              "          dataTable['output_type'] = 'display_data';\n",
              "          await google.colab.output.renderOutput(dataTable, element);\n",
              "          const docLink = document.createElement('div');\n",
              "          docLink.innerHTML = docLinkHtml;\n",
              "          element.appendChild(docLink);\n",
              "        }\n",
              "      </script>\n",
              "    </div>\n",
              "  </div>\n",
              "  "
            ]
          },
          "metadata": {},
          "execution_count": 25
        }
      ]
    },
    {
      "cell_type": "code",
      "source": [
        "from sklearn.model_selection import GridSearchCV\n",
        "\n",
        "SEED = 301\n",
        "np.random.seed(SEED)\n",
        "\n",
        "parametros = {'max_depth': [3,5], 'min_samples_split': [31,64,128] , 'min_samples_leaf': [32,64,128], 'criterion': ['gini','entropy']}\n",
        "\n",
        "grid = GridSearchCV(DecisionTreeClassifier(), parametros, cv=GroupKFold(n_splits=10))\n",
        "grid.fit(x_azar, y_azar, groups=dados.modelo)\n",
        "resultados = pd.DataFrame(grid.cv_results_)\n",
        "melhores_param = grid.best_params_\n",
        "melhor_score = grid.best_score_\n",
        "melhor_estimador = grid.best_estimator_"
      ],
      "metadata": {
        "id": "MrRvWlTkJvYo"
      },
      "execution_count": null,
      "outputs": []
    },
    {
      "cell_type": "code",
      "source": [
        "melhor_estimador"
      ],
      "metadata": {
        "colab": {
          "base_uri": "https://localhost:8080/"
        },
        "id": "BwbsVeTlL8NF",
        "outputId": "cf12afb0-30cb-4d99-e2b0-64f9210272cf"
      },
      "execution_count": null,
      "outputs": [
        {
          "output_type": "execute_result",
          "data": {
            "text/plain": [
              "DecisionTreeClassifier(max_depth=3, min_samples_leaf=32, min_samples_split=31)"
            ]
          },
          "metadata": {},
          "execution_count": 27
        }
      ]
    },
    {
      "cell_type": "code",
      "source": [
        "melhor_score"
      ],
      "metadata": {
        "colab": {
          "base_uri": "https://localhost:8080/"
        },
        "id": "CRJxP2vGMD2F",
        "outputId": "20a49ae4-f20d-4ca9-9c1d-ea7ee67dce84"
      },
      "execution_count": null,
      "outputs": [
        {
          "output_type": "execute_result",
          "data": {
            "text/plain": [
              "0.7867263337284333"
            ]
          },
          "metadata": {},
          "execution_count": 28
        }
      ]
    },
    {
      "cell_type": "code",
      "source": [
        "from sklearn.model_selection import cross_val_score, KFold\n",
        "\n",
        "arvore = DecisionTreeClassifier(max_depth=3, min_samples_leaf=32, min_samples_split=31)\n",
        "scores = cross_val_score(arvore, x_azar, y_azar, cv=KFold(n_splits=5, shuffle=True))\n"
      ],
      "metadata": {
        "id": "_6may5cAMx4A"
      },
      "execution_count": null,
      "outputs": []
    },
    {
      "cell_type": "code",
      "source": [
        "scores"
      ],
      "metadata": {
        "colab": {
          "base_uri": "https://localhost:8080/"
        },
        "id": "SOVLN8wbPHGl",
        "outputId": "338e0758-49b5-4fe7-f301-237b3dee232a"
      },
      "execution_count": null,
      "outputs": [
        {
          "output_type": "execute_result",
          "data": {
            "text/plain": [
              "array([0.7795, 0.7785, 0.806 , 0.7905, 0.78  ])"
            ]
          },
          "metadata": {},
          "execution_count": 30
        }
      ]
    },
    {
      "cell_type": "code",
      "source": [
        "def imprime_score(score):\n",
        "    media = score.mean()\n",
        "    desvio_padrao = score.std()\n",
        "    print(f'Accuracy média é: {(media*100):.2f}')\n",
        "    print(f'Accuracy = [{((media - 2*desvio_padrao)*100):.2f}%,  {((media + 2*desvio_padrao)*100):.2f}%]')"
      ],
      "metadata": {
        "id": "e-7X5AaxPmkL"
      },
      "execution_count": null,
      "outputs": []
    },
    {
      "cell_type": "code",
      "source": [
        "imprime_score(scores)"
      ],
      "metadata": {
        "colab": {
          "base_uri": "https://localhost:8080/"
        },
        "id": "gOcEbA7mPIiz",
        "outputId": "49af05c6-813d-4717-d503-dd33496f394a"
      },
      "execution_count": null,
      "outputs": [
        {
          "output_type": "stream",
          "name": "stdout",
          "text": [
            "Accuracy média é: 78.69\n",
            "Accuracy = [76.59%,  80.79%]\n"
          ]
        }
      ]
    },
    {
      "cell_type": "code",
      "source": [
        "import graphviz\n",
        "from sklearn.tree import export_graphviz\n",
        "\n",
        "features = x_azar.columns\n",
        "dot_data = export_graphviz(melhor_estimador, filled=True, rounded=True, class_names=['nao', 'sim'], feature_names=features)\n",
        "\n",
        "graph = graphviz.Source(dot_data)\n",
        "graph"
      ],
      "metadata": {
        "colab": {
          "base_uri": "https://localhost:8080/",
          "height": 599
        },
        "id": "OiMK9087Pzs5",
        "outputId": "e26d6784-5185-4679-8caa-2db27b46f7b8"
      },
      "execution_count": null,
      "outputs": [
        {
          "output_type": "execute_result",
          "data": {
            "text/plain": [
              "<graphviz.files.Source at 0x7f4403882a90>"
            ],
            "image/svg+xml": "<?xml version=\"1.0\" encoding=\"UTF-8\" standalone=\"no\"?>\n<!DOCTYPE svg PUBLIC \"-//W3C//DTD SVG 1.1//EN\"\n \"http://www.w3.org/Graphics/SVG/1.1/DTD/svg11.dtd\">\n<!-- Generated by graphviz version 2.43.0 (0)\n -->\n<!-- Title: Tree Pages: 1 -->\n<svg width=\"866pt\" height=\"433pt\"\n viewBox=\"0.00 0.00 866.00 433.00\" xmlns=\"http://www.w3.org/2000/svg\" xmlns:xlink=\"http://www.w3.org/1999/xlink\">\n<g id=\"graph0\" class=\"graph\" transform=\"scale(1 1) rotate(0) translate(4 429)\">\n<title>Tree</title>\n<polygon fill=\"white\" stroke=\"transparent\" points=\"-4,4 -4,-429 862,-429 862,4 -4,4\"/>\n<!-- 0 -->\n<g id=\"node1\" class=\"node\">\n<title>0</title>\n<path fill=\"#c8e4f8\" stroke=\"black\" d=\"M350.5,-425C350.5,-425 234.5,-425 234.5,-425 228.5,-425 222.5,-419 222.5,-413 222.5,-413 222.5,-354 222.5,-354 222.5,-348 228.5,-342 234.5,-342 234.5,-342 350.5,-342 350.5,-342 356.5,-342 362.5,-348 362.5,-354 362.5,-354 362.5,-413 362.5,-413 362.5,-419 356.5,-425 350.5,-425\"/>\n<text text-anchor=\"middle\" x=\"292.5\" y=\"-409.8\" font-family=\"Helvetica,sans-Serif\" font-size=\"14.00\">preco &lt;= 59982.246</text>\n<text text-anchor=\"middle\" x=\"292.5\" y=\"-394.8\" font-family=\"Helvetica,sans-Serif\" font-size=\"14.00\">gini = 0.487</text>\n<text text-anchor=\"middle\" x=\"292.5\" y=\"-379.8\" font-family=\"Helvetica,sans-Serif\" font-size=\"14.00\">samples = 10000</text>\n<text text-anchor=\"middle\" x=\"292.5\" y=\"-364.8\" font-family=\"Helvetica,sans-Serif\" font-size=\"14.00\">value = [4200, 5800]</text>\n<text text-anchor=\"middle\" x=\"292.5\" y=\"-349.8\" font-family=\"Helvetica,sans-Serif\" font-size=\"14.00\">class = sim</text>\n</g>\n<!-- 1 -->\n<g id=\"node2\" class=\"node\">\n<title>1</title>\n<path fill=\"#52a9e8\" stroke=\"black\" d=\"M261.5,-306C261.5,-306 147.5,-306 147.5,-306 141.5,-306 135.5,-300 135.5,-294 135.5,-294 135.5,-235 135.5,-235 135.5,-229 141.5,-223 147.5,-223 147.5,-223 261.5,-223 261.5,-223 267.5,-223 273.5,-229 273.5,-235 273.5,-235 273.5,-294 273.5,-294 273.5,-300 267.5,-306 261.5,-306\"/>\n<text text-anchor=\"middle\" x=\"204.5\" y=\"-290.8\" font-family=\"Helvetica,sans-Serif\" font-size=\"14.00\">preco &lt;= 40083.385</text>\n<text text-anchor=\"middle\" x=\"204.5\" y=\"-275.8\" font-family=\"Helvetica,sans-Serif\" font-size=\"14.00\">gini = 0.198</text>\n<text text-anchor=\"middle\" x=\"204.5\" y=\"-260.8\" font-family=\"Helvetica,sans-Serif\" font-size=\"14.00\">samples = 4347</text>\n<text text-anchor=\"middle\" x=\"204.5\" y=\"-245.8\" font-family=\"Helvetica,sans-Serif\" font-size=\"14.00\">value = [484, 3863]</text>\n<text text-anchor=\"middle\" x=\"204.5\" y=\"-230.8\" font-family=\"Helvetica,sans-Serif\" font-size=\"14.00\">class = sim</text>\n</g>\n<!-- 0&#45;&gt;1 -->\n<g id=\"edge1\" class=\"edge\">\n<title>0&#45;&gt;1</title>\n<path fill=\"none\" stroke=\"black\" d=\"M261.97,-341.91C255.21,-332.92 247.98,-323.32 241.02,-314.05\"/>\n<polygon fill=\"black\" stroke=\"black\" points=\"243.79,-311.91 234.98,-306.02 238.19,-316.12 243.79,-311.91\"/>\n<text text-anchor=\"middle\" x=\"231.48\" y=\"-327.07\" font-family=\"Helvetica,sans-Serif\" font-size=\"14.00\">True</text>\n</g>\n<!-- 6 -->\n<g id=\"node7\" class=\"node\">\n<title>6</title>\n<path fill=\"#f3c3a0\" stroke=\"black\" d=\"M514.5,-306C514.5,-306 358.5,-306 358.5,-306 352.5,-306 346.5,-300 346.5,-294 346.5,-294 346.5,-235 346.5,-235 346.5,-229 352.5,-223 358.5,-223 358.5,-223 514.5,-223 514.5,-223 520.5,-223 526.5,-229 526.5,-235 526.5,-235 526.5,-294 526.5,-294 526.5,-300 520.5,-306 514.5,-306\"/>\n<text text-anchor=\"middle\" x=\"436.5\" y=\"-290.8\" font-family=\"Helvetica,sans-Serif\" font-size=\"14.00\">km_por_ano &lt;= 24124.006</text>\n<text text-anchor=\"middle\" x=\"436.5\" y=\"-275.8\" font-family=\"Helvetica,sans-Serif\" font-size=\"14.00\">gini = 0.45</text>\n<text text-anchor=\"middle\" x=\"436.5\" y=\"-260.8\" font-family=\"Helvetica,sans-Serif\" font-size=\"14.00\">samples = 5653</text>\n<text text-anchor=\"middle\" x=\"436.5\" y=\"-245.8\" font-family=\"Helvetica,sans-Serif\" font-size=\"14.00\">value = [3716, 1937]</text>\n<text text-anchor=\"middle\" x=\"436.5\" y=\"-230.8\" font-family=\"Helvetica,sans-Serif\" font-size=\"14.00\">class = nao</text>\n</g>\n<!-- 0&#45;&gt;6 -->\n<g id=\"edge6\" class=\"edge\">\n<title>0&#45;&gt;6</title>\n<path fill=\"none\" stroke=\"black\" d=\"M342.46,-341.91C354.19,-332.38 366.78,-322.15 378.81,-312.37\"/>\n<polygon fill=\"black\" stroke=\"black\" points=\"381.07,-315.04 386.63,-306.02 376.66,-309.61 381.07,-315.04\"/>\n<text text-anchor=\"middle\" x=\"384.06\" y=\"-327.19\" font-family=\"Helvetica,sans-Serif\" font-size=\"14.00\">False</text>\n</g>\n<!-- 2 -->\n<g id=\"node3\" class=\"node\">\n<title>2</title>\n<path fill=\"#399de5\" stroke=\"black\" d=\"M105,-179.5C105,-179.5 12,-179.5 12,-179.5 6,-179.5 0,-173.5 0,-167.5 0,-167.5 0,-123.5 0,-123.5 0,-117.5 6,-111.5 12,-111.5 12,-111.5 105,-111.5 105,-111.5 111,-111.5 117,-117.5 117,-123.5 117,-123.5 117,-167.5 117,-167.5 117,-173.5 111,-179.5 105,-179.5\"/>\n<text text-anchor=\"middle\" x=\"58.5\" y=\"-164.3\" font-family=\"Helvetica,sans-Serif\" font-size=\"14.00\">gini = 0.0</text>\n<text text-anchor=\"middle\" x=\"58.5\" y=\"-149.3\" font-family=\"Helvetica,sans-Serif\" font-size=\"14.00\">samples = 1935</text>\n<text text-anchor=\"middle\" x=\"58.5\" y=\"-134.3\" font-family=\"Helvetica,sans-Serif\" font-size=\"14.00\">value = [0, 1935]</text>\n<text text-anchor=\"middle\" x=\"58.5\" y=\"-119.3\" font-family=\"Helvetica,sans-Serif\" font-size=\"14.00\">class = sim</text>\n</g>\n<!-- 1&#45;&gt;2 -->\n<g id=\"edge2\" class=\"edge\">\n<title>1&#45;&gt;2</title>\n<path fill=\"none\" stroke=\"black\" d=\"M153.85,-222.91C138.97,-210.99 122.73,-197.98 107.94,-186.12\"/>\n<polygon fill=\"black\" stroke=\"black\" points=\"109.88,-183.19 99.89,-179.67 105.5,-188.65 109.88,-183.19\"/>\n</g>\n<!-- 3 -->\n<g id=\"node4\" class=\"node\">\n<title>3</title>\n<path fill=\"#6bb6ec\" stroke=\"black\" d=\"M261.5,-187C261.5,-187 147.5,-187 147.5,-187 141.5,-187 135.5,-181 135.5,-175 135.5,-175 135.5,-116 135.5,-116 135.5,-110 141.5,-104 147.5,-104 147.5,-104 261.5,-104 261.5,-104 267.5,-104 273.5,-110 273.5,-116 273.5,-116 273.5,-175 273.5,-175 273.5,-181 267.5,-187 261.5,-187\"/>\n<text text-anchor=\"middle\" x=\"204.5\" y=\"-171.8\" font-family=\"Helvetica,sans-Serif\" font-size=\"14.00\">preco &lt;= 41083.029</text>\n<text text-anchor=\"middle\" x=\"204.5\" y=\"-156.8\" font-family=\"Helvetica,sans-Serif\" font-size=\"14.00\">gini = 0.321</text>\n<text text-anchor=\"middle\" x=\"204.5\" y=\"-141.8\" font-family=\"Helvetica,sans-Serif\" font-size=\"14.00\">samples = 2412</text>\n<text text-anchor=\"middle\" x=\"204.5\" y=\"-126.8\" font-family=\"Helvetica,sans-Serif\" font-size=\"14.00\">value = [484, 1928]</text>\n<text text-anchor=\"middle\" x=\"204.5\" y=\"-111.8\" font-family=\"Helvetica,sans-Serif\" font-size=\"14.00\">class = sim</text>\n</g>\n<!-- 1&#45;&gt;3 -->\n<g id=\"edge3\" class=\"edge\">\n<title>1&#45;&gt;3</title>\n<path fill=\"none\" stroke=\"black\" d=\"M204.5,-222.91C204.5,-214.65 204.5,-205.86 204.5,-197.3\"/>\n<polygon fill=\"black\" stroke=\"black\" points=\"208,-197.02 204.5,-187.02 201,-197.02 208,-197.02\"/>\n</g>\n<!-- 4 -->\n<g id=\"node5\" class=\"node\">\n<title>4</title>\n<path fill=\"#95cbf1\" stroke=\"black\" d=\"M108.5,-68C108.5,-68 22.5,-68 22.5,-68 16.5,-68 10.5,-62 10.5,-56 10.5,-56 10.5,-12 10.5,-12 10.5,-6 16.5,0 22.5,0 22.5,0 108.5,0 108.5,0 114.5,0 120.5,-6 120.5,-12 120.5,-12 120.5,-56 120.5,-56 120.5,-62 114.5,-68 108.5,-68\"/>\n<text text-anchor=\"middle\" x=\"65.5\" y=\"-52.8\" font-family=\"Helvetica,sans-Serif\" font-size=\"14.00\">gini = 0.434</text>\n<text text-anchor=\"middle\" x=\"65.5\" y=\"-37.8\" font-family=\"Helvetica,sans-Serif\" font-size=\"14.00\">samples = 110</text>\n<text text-anchor=\"middle\" x=\"65.5\" y=\"-22.8\" font-family=\"Helvetica,sans-Serif\" font-size=\"14.00\">value = [35, 75]</text>\n<text text-anchor=\"middle\" x=\"65.5\" y=\"-7.8\" font-family=\"Helvetica,sans-Serif\" font-size=\"14.00\">class = sim</text>\n</g>\n<!-- 3&#45;&gt;4 -->\n<g id=\"edge4\" class=\"edge\">\n<title>3&#45;&gt;4</title>\n<path fill=\"none\" stroke=\"black\" d=\"M152.74,-103.73C140.7,-94.24 127.9,-84.16 115.92,-74.72\"/>\n<polygon fill=\"black\" stroke=\"black\" points=\"117.79,-71.74 107.77,-68.3 113.46,-77.24 117.79,-71.74\"/>\n</g>\n<!-- 5 -->\n<g id=\"node6\" class=\"node\">\n<title>5</title>\n<path fill=\"#69b5eb\" stroke=\"black\" d=\"M258.5,-68C258.5,-68 150.5,-68 150.5,-68 144.5,-68 138.5,-62 138.5,-56 138.5,-56 138.5,-12 138.5,-12 138.5,-6 144.5,0 150.5,0 150.5,0 258.5,0 258.5,0 264.5,0 270.5,-6 270.5,-12 270.5,-12 270.5,-56 270.5,-56 270.5,-62 264.5,-68 258.5,-68\"/>\n<text text-anchor=\"middle\" x=\"204.5\" y=\"-52.8\" font-family=\"Helvetica,sans-Serif\" font-size=\"14.00\">gini = 0.314</text>\n<text text-anchor=\"middle\" x=\"204.5\" y=\"-37.8\" font-family=\"Helvetica,sans-Serif\" font-size=\"14.00\">samples = 2302</text>\n<text text-anchor=\"middle\" x=\"204.5\" y=\"-22.8\" font-family=\"Helvetica,sans-Serif\" font-size=\"14.00\">value = [449, 1853]</text>\n<text text-anchor=\"middle\" x=\"204.5\" y=\"-7.8\" font-family=\"Helvetica,sans-Serif\" font-size=\"14.00\">class = sim</text>\n</g>\n<!-- 3&#45;&gt;5 -->\n<g id=\"edge5\" class=\"edge\">\n<title>3&#45;&gt;5</title>\n<path fill=\"none\" stroke=\"black\" d=\"M204.5,-103.73C204.5,-95.52 204.5,-86.86 204.5,-78.56\"/>\n<polygon fill=\"black\" stroke=\"black\" points=\"208,-78.3 204.5,-68.3 201,-78.3 208,-78.3\"/>\n</g>\n<!-- 7 -->\n<g id=\"node8\" class=\"node\">\n<title>7</title>\n<path fill=\"#fcefe5\" stroke=\"black\" d=\"M494.5,-187C494.5,-187 378.5,-187 378.5,-187 372.5,-187 366.5,-181 366.5,-175 366.5,-175 366.5,-116 366.5,-116 366.5,-110 372.5,-104 378.5,-104 378.5,-104 494.5,-104 494.5,-104 500.5,-104 506.5,-110 506.5,-116 506.5,-116 506.5,-175 506.5,-175 506.5,-181 500.5,-187 494.5,-187\"/>\n<text text-anchor=\"middle\" x=\"436.5\" y=\"-171.8\" font-family=\"Helvetica,sans-Serif\" font-size=\"14.00\">preco &lt;= 99974.41</text>\n<text text-anchor=\"middle\" x=\"436.5\" y=\"-156.8\" font-family=\"Helvetica,sans-Serif\" font-size=\"14.00\">gini = 0.498</text>\n<text text-anchor=\"middle\" x=\"436.5\" y=\"-141.8\" font-family=\"Helvetica,sans-Serif\" font-size=\"14.00\">samples = 3513</text>\n<text text-anchor=\"middle\" x=\"436.5\" y=\"-126.8\" font-family=\"Helvetica,sans-Serif\" font-size=\"14.00\">value = [1879, 1634]</text>\n<text text-anchor=\"middle\" x=\"436.5\" y=\"-111.8\" font-family=\"Helvetica,sans-Serif\" font-size=\"14.00\">class = nao</text>\n</g>\n<!-- 6&#45;&gt;7 -->\n<g id=\"edge7\" class=\"edge\">\n<title>6&#45;&gt;7</title>\n<path fill=\"none\" stroke=\"black\" d=\"M436.5,-222.91C436.5,-214.65 436.5,-205.86 436.5,-197.3\"/>\n<polygon fill=\"black\" stroke=\"black\" points=\"440,-197.02 436.5,-187.02 433,-197.02 440,-197.02\"/>\n</g>\n<!-- 10 -->\n<g id=\"node11\" class=\"node\">\n<title>10</title>\n<path fill=\"#e9965a\" stroke=\"black\" d=\"M713.5,-187C713.5,-187 591.5,-187 591.5,-187 585.5,-187 579.5,-181 579.5,-175 579.5,-175 579.5,-116 579.5,-116 579.5,-110 585.5,-104 591.5,-104 591.5,-104 713.5,-104 713.5,-104 719.5,-104 725.5,-110 725.5,-116 725.5,-116 725.5,-175 725.5,-175 725.5,-181 719.5,-187 713.5,-187\"/>\n<text text-anchor=\"middle\" x=\"652.5\" y=\"-171.8\" font-family=\"Helvetica,sans-Serif\" font-size=\"14.00\">preco &lt;= 100076.957</text>\n<text text-anchor=\"middle\" x=\"652.5\" y=\"-156.8\" font-family=\"Helvetica,sans-Serif\" font-size=\"14.00\">gini = 0.243</text>\n<text text-anchor=\"middle\" x=\"652.5\" y=\"-141.8\" font-family=\"Helvetica,sans-Serif\" font-size=\"14.00\">samples = 2140</text>\n<text text-anchor=\"middle\" x=\"652.5\" y=\"-126.8\" font-family=\"Helvetica,sans-Serif\" font-size=\"14.00\">value = [1837, 303]</text>\n<text text-anchor=\"middle\" x=\"652.5\" y=\"-111.8\" font-family=\"Helvetica,sans-Serif\" font-size=\"14.00\">class = nao</text>\n</g>\n<!-- 6&#45;&gt;10 -->\n<g id=\"edge10\" class=\"edge\">\n<title>6&#45;&gt;10</title>\n<path fill=\"none\" stroke=\"black\" d=\"M511.44,-222.91C530.46,-212.61 550.99,-201.48 570.35,-191\"/>\n<polygon fill=\"black\" stroke=\"black\" points=\"572.03,-194.07 579.15,-186.23 568.69,-187.92 572.03,-194.07\"/>\n</g>\n<!-- 8 -->\n<g id=\"node9\" class=\"node\">\n<title>8</title>\n<path fill=\"#f9e0ce\" stroke=\"black\" d=\"M416.5,-68C416.5,-68 300.5,-68 300.5,-68 294.5,-68 288.5,-62 288.5,-56 288.5,-56 288.5,-12 288.5,-12 288.5,-6 294.5,0 300.5,0 300.5,0 416.5,0 416.5,0 422.5,0 428.5,-6 428.5,-12 428.5,-12 428.5,-56 428.5,-56 428.5,-62 422.5,-68 416.5,-68\"/>\n<text text-anchor=\"middle\" x=\"358.5\" y=\"-52.8\" font-family=\"Helvetica,sans-Serif\" font-size=\"14.00\">gini = 0.49</text>\n<text text-anchor=\"middle\" x=\"358.5\" y=\"-37.8\" font-family=\"Helvetica,sans-Serif\" font-size=\"14.00\">samples = 2944</text>\n<text text-anchor=\"middle\" x=\"358.5\" y=\"-22.8\" font-family=\"Helvetica,sans-Serif\" font-size=\"14.00\">value = [1682, 1262]</text>\n<text text-anchor=\"middle\" x=\"358.5\" y=\"-7.8\" font-family=\"Helvetica,sans-Serif\" font-size=\"14.00\">class = nao</text>\n</g>\n<!-- 7&#45;&gt;8 -->\n<g id=\"edge8\" class=\"edge\">\n<title>7&#45;&gt;8</title>\n<path fill=\"none\" stroke=\"black\" d=\"M407.46,-103.73C401.15,-94.88 394.48,-85.51 388.15,-76.63\"/>\n<polygon fill=\"black\" stroke=\"black\" points=\"390.87,-74.41 382.22,-68.3 385.17,-78.48 390.87,-74.41\"/>\n</g>\n<!-- 9 -->\n<g id=\"node10\" class=\"node\">\n<title>9</title>\n<path fill=\"#a2d1f3\" stroke=\"black\" d=\"M560,-68C560,-68 459,-68 459,-68 453,-68 447,-62 447,-56 447,-56 447,-12 447,-12 447,-6 453,0 459,0 459,0 560,0 560,0 566,0 572,-6 572,-12 572,-12 572,-56 572,-56 572,-62 566,-68 560,-68\"/>\n<text text-anchor=\"middle\" x=\"509.5\" y=\"-52.8\" font-family=\"Helvetica,sans-Serif\" font-size=\"14.00\">gini = 0.453</text>\n<text text-anchor=\"middle\" x=\"509.5\" y=\"-37.8\" font-family=\"Helvetica,sans-Serif\" font-size=\"14.00\">samples = 569</text>\n<text text-anchor=\"middle\" x=\"509.5\" y=\"-22.8\" font-family=\"Helvetica,sans-Serif\" font-size=\"14.00\">value = [197, 372]</text>\n<text text-anchor=\"middle\" x=\"509.5\" y=\"-7.8\" font-family=\"Helvetica,sans-Serif\" font-size=\"14.00\">class = sim</text>\n</g>\n<!-- 7&#45;&gt;9 -->\n<g id=\"edge9\" class=\"edge\">\n<title>7&#45;&gt;9</title>\n<path fill=\"none\" stroke=\"black\" d=\"M463.68,-103.73C469.58,-94.88 475.83,-85.51 481.75,-76.63\"/>\n<polygon fill=\"black\" stroke=\"black\" points=\"484.67,-78.56 487.3,-68.3 478.84,-74.68 484.67,-78.56\"/>\n</g>\n<!-- 11 -->\n<g id=\"node12\" class=\"node\">\n<title>11</title>\n<path fill=\"#e68742\" stroke=\"black\" d=\"M703,-68C703,-68 602,-68 602,-68 596,-68 590,-62 590,-56 590,-56 590,-12 590,-12 590,-6 596,0 602,0 602,0 703,0 703,0 709,0 715,-6 715,-12 715,-12 715,-56 715,-56 715,-62 709,-68 703,-68\"/>\n<text text-anchor=\"middle\" x=\"652.5\" y=\"-52.8\" font-family=\"Helvetica,sans-Serif\" font-size=\"14.00\">gini = 0.082</text>\n<text text-anchor=\"middle\" x=\"652.5\" y=\"-37.8\" font-family=\"Helvetica,sans-Serif\" font-size=\"14.00\">samples = 1809</text>\n<text text-anchor=\"middle\" x=\"652.5\" y=\"-22.8\" font-family=\"Helvetica,sans-Serif\" font-size=\"14.00\">value = [1732, 77]</text>\n<text text-anchor=\"middle\" x=\"652.5\" y=\"-7.8\" font-family=\"Helvetica,sans-Serif\" font-size=\"14.00\">class = nao</text>\n</g>\n<!-- 10&#45;&gt;11 -->\n<g id=\"edge11\" class=\"edge\">\n<title>10&#45;&gt;11</title>\n<path fill=\"none\" stroke=\"black\" d=\"M652.5,-103.73C652.5,-95.52 652.5,-86.86 652.5,-78.56\"/>\n<polygon fill=\"black\" stroke=\"black\" points=\"656,-78.3 652.5,-68.3 649,-78.3 656,-78.3\"/>\n</g>\n<!-- 12 -->\n<g id=\"node13\" class=\"node\">\n<title>12</title>\n<path fill=\"#95cbf1\" stroke=\"black\" d=\"M846,-68C846,-68 745,-68 745,-68 739,-68 733,-62 733,-56 733,-56 733,-12 733,-12 733,-6 739,0 745,0 745,0 846,0 846,0 852,0 858,-6 858,-12 858,-12 858,-56 858,-56 858,-62 852,-68 846,-68\"/>\n<text text-anchor=\"middle\" x=\"795.5\" y=\"-52.8\" font-family=\"Helvetica,sans-Serif\" font-size=\"14.00\">gini = 0.433</text>\n<text text-anchor=\"middle\" x=\"795.5\" y=\"-37.8\" font-family=\"Helvetica,sans-Serif\" font-size=\"14.00\">samples = 331</text>\n<text text-anchor=\"middle\" x=\"795.5\" y=\"-22.8\" font-family=\"Helvetica,sans-Serif\" font-size=\"14.00\">value = [105, 226]</text>\n<text text-anchor=\"middle\" x=\"795.5\" y=\"-7.8\" font-family=\"Helvetica,sans-Serif\" font-size=\"14.00\">class = sim</text>\n</g>\n<!-- 10&#45;&gt;12 -->\n<g id=\"edge12\" class=\"edge\">\n<title>10&#45;&gt;12</title>\n<path fill=\"none\" stroke=\"black\" d=\"M705.75,-103.73C718.25,-94.15 731.56,-83.96 743.99,-74.44\"/>\n<polygon fill=\"black\" stroke=\"black\" points=\"746.2,-77.16 752.01,-68.3 741.95,-71.6 746.2,-77.16\"/>\n</g>\n</g>\n</svg>\n"
          },
          "metadata": {},
          "execution_count": 33
        }
      ]
    },
    {
      "cell_type": "code",
      "source": [
        "from sklearn.model_selection import GridSearchCV, KFold, cross_val_score\n",
        "from sklearn.ensemble import RandomForestClassifier\n",
        "\n",
        "parametros = {'n_estimators':[40,60], 'criterion':['gini', 'entropy'],\n",
        "              'min_samples_leaf':[2,5,10], 'min_samples_split':[2,5,10]}\n",
        "kfold = KFold(n_splits=10, shuffle=True)\n",
        "\n",
        "grid = GridSearchCV(RandomForestClassifier(), parametros, cv=kfold)\n",
        "grid.fit(x_azar, y_azar)\n",
        "melhor_param = grid.best_params_\n",
        "melhorestimador = grid.best_estimator_\n",
        "melhor_score = grid.best_score_\n"
      ],
      "metadata": {
        "id": "HlzYTsEUQwN6"
      },
      "execution_count": null,
      "outputs": []
    },
    {
      "cell_type": "code",
      "source": [
        "melhorestimador"
      ],
      "metadata": {
        "colab": {
          "base_uri": "https://localhost:8080/"
        },
        "id": "FMbXukDecIfW",
        "outputId": "3ff9c94a-a5f1-4fea-edbd-75299ce3ca70"
      },
      "execution_count": null,
      "outputs": [
        {
          "output_type": "execute_result",
          "data": {
            "text/plain": [
              "RandomForestClassifier(min_samples_leaf=10, min_samples_split=5,\n",
              "                       n_estimators=40)"
            ]
          },
          "metadata": {},
          "execution_count": 38
        }
      ]
    },
    {
      "cell_type": "code",
      "source": [
        "melhor_score"
      ],
      "metadata": {
        "colab": {
          "base_uri": "https://localhost:8080/"
        },
        "id": "nIIxTh8idpGe",
        "outputId": "0dfd079a-14cd-40c4-e184-e7588931b02f"
      },
      "execution_count": null,
      "outputs": [
        {
          "output_type": "execute_result",
          "data": {
            "text/plain": [
              "0.7782"
            ]
          },
          "metadata": {},
          "execution_count": 39
        }
      ]
    },
    {
      "cell_type": "code",
      "source": [
        "random = melhorestimador\n",
        "resultados = []\n",
        "for i in range(2,10):\n",
        "\n",
        "    kfold = KFold(n_splits=i, shuffle=True)\n",
        "    cross = cross_val_score(random, x_azar, y_azar, cv=kfold)\n",
        "    resultados.append(cross.mean())"
      ],
      "metadata": {
        "id": "joWCtB3RmL8n"
      },
      "execution_count": null,
      "outputs": []
    },
    {
      "cell_type": "code",
      "source": [
        "resultados = pd.DataFrame(resultados, columns={'Arvores de Decisao': (resultados,'%')})\n",
        "resultados.round(4)*100"
      ],
      "metadata": {
        "colab": {
          "base_uri": "https://localhost:8080/",
          "height": 300
        },
        "id": "9M_PiOA1mtHC",
        "outputId": "ed2eb0f7-2f8c-472a-d7f2-cebbb82a9896"
      },
      "execution_count": null,
      "outputs": [
        {
          "output_type": "execute_result",
          "data": {
            "text/plain": [
              "   Arvores de Decisao\n",
              "0               77.86\n",
              "1               77.70\n",
              "2               77.36\n",
              "3               77.42\n",
              "4               77.47\n",
              "5               77.40\n",
              "6               77.68\n",
              "7               77.34"
            ],
            "text/html": [
              "\n",
              "  <div id=\"df-cf7eddc4-adf7-46a0-bedf-9dabed8f7212\">\n",
              "    <div class=\"colab-df-container\">\n",
              "      <div>\n",
              "<style scoped>\n",
              "    .dataframe tbody tr th:only-of-type {\n",
              "        vertical-align: middle;\n",
              "    }\n",
              "\n",
              "    .dataframe tbody tr th {\n",
              "        vertical-align: top;\n",
              "    }\n",
              "\n",
              "    .dataframe thead th {\n",
              "        text-align: right;\n",
              "    }\n",
              "</style>\n",
              "<table border=\"1\" class=\"dataframe\">\n",
              "  <thead>\n",
              "    <tr style=\"text-align: right;\">\n",
              "      <th></th>\n",
              "      <th>Arvores de Decisao</th>\n",
              "    </tr>\n",
              "  </thead>\n",
              "  <tbody>\n",
              "    <tr>\n",
              "      <th>0</th>\n",
              "      <td>77.86</td>\n",
              "    </tr>\n",
              "    <tr>\n",
              "      <th>1</th>\n",
              "      <td>77.70</td>\n",
              "    </tr>\n",
              "    <tr>\n",
              "      <th>2</th>\n",
              "      <td>77.36</td>\n",
              "    </tr>\n",
              "    <tr>\n",
              "      <th>3</th>\n",
              "      <td>77.42</td>\n",
              "    </tr>\n",
              "    <tr>\n",
              "      <th>4</th>\n",
              "      <td>77.47</td>\n",
              "    </tr>\n",
              "    <tr>\n",
              "      <th>5</th>\n",
              "      <td>77.40</td>\n",
              "    </tr>\n",
              "    <tr>\n",
              "      <th>6</th>\n",
              "      <td>77.68</td>\n",
              "    </tr>\n",
              "    <tr>\n",
              "      <th>7</th>\n",
              "      <td>77.34</td>\n",
              "    </tr>\n",
              "  </tbody>\n",
              "</table>\n",
              "</div>\n",
              "      <button class=\"colab-df-convert\" onclick=\"convertToInteractive('df-cf7eddc4-adf7-46a0-bedf-9dabed8f7212')\"\n",
              "              title=\"Convert this dataframe to an interactive table.\"\n",
              "              style=\"display:none;\">\n",
              "        \n",
              "  <svg xmlns=\"http://www.w3.org/2000/svg\" height=\"24px\"viewBox=\"0 0 24 24\"\n",
              "       width=\"24px\">\n",
              "    <path d=\"M0 0h24v24H0V0z\" fill=\"none\"/>\n",
              "    <path d=\"M18.56 5.44l.94 2.06.94-2.06 2.06-.94-2.06-.94-.94-2.06-.94 2.06-2.06.94zm-11 1L8.5 8.5l.94-2.06 2.06-.94-2.06-.94L8.5 2.5l-.94 2.06-2.06.94zm10 10l.94 2.06.94-2.06 2.06-.94-2.06-.94-.94-2.06-.94 2.06-2.06.94z\"/><path d=\"M17.41 7.96l-1.37-1.37c-.4-.4-.92-.59-1.43-.59-.52 0-1.04.2-1.43.59L10.3 9.45l-7.72 7.72c-.78.78-.78 2.05 0 2.83L4 21.41c.39.39.9.59 1.41.59.51 0 1.02-.2 1.41-.59l7.78-7.78 2.81-2.81c.8-.78.8-2.07 0-2.86zM5.41 20L4 18.59l7.72-7.72 1.47 1.35L5.41 20z\"/>\n",
              "  </svg>\n",
              "      </button>\n",
              "      \n",
              "  <style>\n",
              "    .colab-df-container {\n",
              "      display:flex;\n",
              "      flex-wrap:wrap;\n",
              "      gap: 12px;\n",
              "    }\n",
              "\n",
              "    .colab-df-convert {\n",
              "      background-color: #E8F0FE;\n",
              "      border: none;\n",
              "      border-radius: 50%;\n",
              "      cursor: pointer;\n",
              "      display: none;\n",
              "      fill: #1967D2;\n",
              "      height: 32px;\n",
              "      padding: 0 0 0 0;\n",
              "      width: 32px;\n",
              "    }\n",
              "\n",
              "    .colab-df-convert:hover {\n",
              "      background-color: #E2EBFA;\n",
              "      box-shadow: 0px 1px 2px rgba(60, 64, 67, 0.3), 0px 1px 3px 1px rgba(60, 64, 67, 0.15);\n",
              "      fill: #174EA6;\n",
              "    }\n",
              "\n",
              "    [theme=dark] .colab-df-convert {\n",
              "      background-color: #3B4455;\n",
              "      fill: #D2E3FC;\n",
              "    }\n",
              "\n",
              "    [theme=dark] .colab-df-convert:hover {\n",
              "      background-color: #434B5C;\n",
              "      box-shadow: 0px 1px 3px 1px rgba(0, 0, 0, 0.15);\n",
              "      filter: drop-shadow(0px 1px 2px rgba(0, 0, 0, 0.3));\n",
              "      fill: #FFFFFF;\n",
              "    }\n",
              "  </style>\n",
              "\n",
              "      <script>\n",
              "        const buttonEl =\n",
              "          document.querySelector('#df-cf7eddc4-adf7-46a0-bedf-9dabed8f7212 button.colab-df-convert');\n",
              "        buttonEl.style.display =\n",
              "          google.colab.kernel.accessAllowed ? 'block' : 'none';\n",
              "\n",
              "        async function convertToInteractive(key) {\n",
              "          const element = document.querySelector('#df-cf7eddc4-adf7-46a0-bedf-9dabed8f7212');\n",
              "          const dataTable =\n",
              "            await google.colab.kernel.invokeFunction('convertToInteractive',\n",
              "                                                     [key], {});\n",
              "          if (!dataTable) return;\n",
              "\n",
              "          const docLinkHtml = 'Like what you see? Visit the ' +\n",
              "            '<a target=\"_blank\" href=https://colab.research.google.com/notebooks/data_table.ipynb>data table notebook</a>'\n",
              "            + ' to learn more about interactive tables.';\n",
              "          element.innerHTML = '';\n",
              "          dataTable['output_type'] = 'display_data';\n",
              "          await google.colab.output.renderOutput(dataTable, element);\n",
              "          const docLink = document.createElement('div');\n",
              "          docLink.innerHTML = docLinkHtml;\n",
              "          element.appendChild(docLink);\n",
              "        }\n",
              "      </script>\n",
              "    </div>\n",
              "  </div>\n",
              "  "
            ]
          },
          "metadata": {},
          "execution_count": 41
        }
      ]
    },
    {
      "cell_type": "markdown",
      "source": [
        "# Parte II"
      ],
      "metadata": {
        "id": "jTIXUhbw0La8"
      }
    },
    {
      "cell_type": "markdown",
      "source": [
        "## **Busca aleatória : RandomSearch**"
      ],
      "metadata": {
        "id": "FCkjfBB05awf"
      }
    },
    {
      "cell_type": "code",
      "source": [
        "from sklearn.model_selection import RandomizedSearchCV, KFold\n",
        "\n",
        "SEED = 301\n",
        "\n",
        "kfold = KFold(n_splits=5, shuffle=True, random_state=SEED)\n",
        "estimador = DecisionTreeClassifier()\n",
        "parametros = {'criterion': ['gini', 'entropy'], 'min_samples_leaf': [32,64,128],\n",
        "              'min_samples_split': [32,64,128], 'max_depth': [3,5],\n",
        "              'splitter': ['best', 'random']}\n",
        "\n",
        "grid = RandomizedSearchCV(estimador, parametros, n_iter=16, cv=kfold)\n",
        "grid.fit(x_azar, y_azar)\n",
        "melhor_estimador = grid.best_estimator_\n",
        "melhor_score = grid.best_score_"
      ],
      "metadata": {
        "id": "YGCIywmlD_vt"
      },
      "execution_count": null,
      "outputs": []
    },
    {
      "cell_type": "code",
      "source": [
        "melhor_estimador"
      ],
      "metadata": {
        "colab": {
          "base_uri": "https://localhost:8080/"
        },
        "id": "_aZXGRSYFxF5",
        "outputId": "6ae0b499-bfdf-4dfe-9a12-a8fbfab035ca"
      },
      "execution_count": null,
      "outputs": [
        {
          "output_type": "execute_result",
          "data": {
            "text/plain": [
              "DecisionTreeClassifier(max_depth=3, min_samples_leaf=128, min_samples_split=64)"
            ]
          },
          "metadata": {},
          "execution_count": 7
        }
      ]
    },
    {
      "cell_type": "code",
      "source": [
        "melhor_score"
      ],
      "metadata": {
        "colab": {
          "base_uri": "https://localhost:8080/"
        },
        "id": "rJtpjqQcF7Ze",
        "outputId": "545f15ff-81d7-442b-95c4-1214cf81f404"
      },
      "execution_count": null,
      "outputs": [
        {
          "output_type": "execute_result",
          "data": {
            "text/plain": [
              "0.787"
            ]
          },
          "metadata": {},
          "execution_count": 8
        }
      ]
    },
    {
      "cell_type": "code",
      "source": [
        "from sklearn.model_selection import cross_val_score\n",
        "\n",
        "cross = cross_val_score(melhor_estimador, x_azar, y_azar, cv=kfold)\n",
        "cross"
      ],
      "metadata": {
        "colab": {
          "base_uri": "https://localhost:8080/"
        },
        "id": "ZBPCEOspGNuC",
        "outputId": "7425d52a-605a-4469-b342-c0bb1e77a84e"
      },
      "execution_count": null,
      "outputs": [
        {
          "output_type": "execute_result",
          "data": {
            "text/plain": [
              "array([0.784 , 0.776 , 0.8025, 0.793 , 0.7795])"
            ]
          },
          "metadata": {},
          "execution_count": 9
        }
      ]
    },
    {
      "cell_type": "code",
      "source": [
        "imprime_score(cross)"
      ],
      "metadata": {
        "colab": {
          "base_uri": "https://localhost:8080/"
        },
        "id": "gIYu83EyGcN-",
        "outputId": "b1086993-394d-4111-f20a-886d2c7decc6"
      },
      "execution_count": null,
      "outputs": [
        {
          "output_type": "stream",
          "name": "stdout",
          "text": [
            "Accuracy média é: 78.70\n",
            "Accuracy = [76.78%,  80.62%]\n"
          ]
        }
      ]
    },
    {
      "cell_type": "markdown",
      "source": [
        "# Customizando o espaço de hiper parâmetros"
      ],
      "metadata": {
        "id": "pviAXn48IM7A"
      }
    },
    {
      "cell_type": "code",
      "source": [
        "from scipy.stats import randint\n",
        "from sklearn.model_selection import RandomizedSearchCV, KFold\n",
        "\n",
        "SEED = 301\n",
        "\n",
        "kfold = KFold(n_splits=5, shuffle=True, random_state=SEED)\n",
        "estimador = DecisionTreeClassifier()\n",
        "parametros = {'criterion': ['gini', 'entropy'], 'min_samples_leaf': randint(32,128),\n",
        "              'min_samples_split': randint(32,128), 'max_depth': [3,5,10,15,20,30,None],\n",
        "              'splitter': ['best', 'random']}\n",
        "\n",
        "grid = RandomizedSearchCV(estimador, parametros, n_iter=16, cv=kfold)\n",
        "grid.fit(x_azar, y_azar)\n",
        "melhor_estimador = grid.best_estimator_\n",
        "melhor_score = grid.best_score_"
      ],
      "metadata": {
        "id": "Ioxu9pJ3G-AE"
      },
      "execution_count": null,
      "outputs": []
    },
    {
      "cell_type": "code",
      "source": [
        "scores = cross_val_score(melhor_estimador, x_azar, y_azar, cv=kfold)\n",
        "imprime_score(scores)\n",
        "print(melhor_estimador)"
      ],
      "metadata": {
        "colab": {
          "base_uri": "https://localhost:8080/"
        },
        "id": "3FfzDstWKb97",
        "outputId": "32740aed-759a-4cce-8029-c17492c870fa"
      },
      "execution_count": null,
      "outputs": [
        {
          "output_type": "stream",
          "name": "stdout",
          "text": [
            "Accuracy média é: 78.70\n",
            "Accuracy = [76.78%,  80.62%]\n",
            "DecisionTreeClassifier(max_depth=3, min_samples_leaf=75, min_samples_split=53)\n"
          ]
        }
      ]
    },
    {
      "cell_type": "code",
      "source": [
        "results = pd.DataFrame(grid.cv_results_)\n",
        "results.head(2)"
      ],
      "metadata": {
        "colab": {
          "base_uri": "https://localhost:8080/",
          "height": 281
        },
        "id": "cOonspNrLXxS",
        "outputId": "c84ebf2a-6856-4259-961f-c72eac313068"
      },
      "execution_count": null,
      "outputs": [
        {
          "output_type": "execute_result",
          "data": {
            "text/plain": [
              "   mean_fit_time  std_fit_time  mean_score_time  std_score_time  \\\n",
              "0       0.005651      0.001475         0.001947        0.000317   \n",
              "1       0.004027      0.000153         0.001683        0.000077   \n",
              "\n",
              "  param_criterion param_max_depth param_min_samples_leaf  \\\n",
              "0         entropy              15                     92   \n",
              "1         entropy              30                    111   \n",
              "\n",
              "  param_min_samples_split param_splitter  \\\n",
              "0                      79         random   \n",
              "1                      95         random   \n",
              "\n",
              "                                              params  split0_test_score  \\\n",
              "0  {'criterion': 'entropy', 'max_depth': 15, 'min...             0.7710   \n",
              "1  {'criterion': 'entropy', 'max_depth': 30, 'min...             0.7425   \n",
              "\n",
              "   split1_test_score  split2_test_score  split3_test_score  split4_test_score  \\\n",
              "0              0.752             0.7865              0.760              0.769   \n",
              "1              0.734             0.7825              0.781              0.741   \n",
              "\n",
              "   mean_test_score  std_test_score  rank_test_score  \n",
              "0           0.7677        0.011591               10  \n",
              "1           0.7562        0.021063               13  "
            ],
            "text/html": [
              "\n",
              "  <div id=\"df-278521a2-0fcb-4acf-a43c-e2c62716bf28\">\n",
              "    <div class=\"colab-df-container\">\n",
              "      <div>\n",
              "<style scoped>\n",
              "    .dataframe tbody tr th:only-of-type {\n",
              "        vertical-align: middle;\n",
              "    }\n",
              "\n",
              "    .dataframe tbody tr th {\n",
              "        vertical-align: top;\n",
              "    }\n",
              "\n",
              "    .dataframe thead th {\n",
              "        text-align: right;\n",
              "    }\n",
              "</style>\n",
              "<table border=\"1\" class=\"dataframe\">\n",
              "  <thead>\n",
              "    <tr style=\"text-align: right;\">\n",
              "      <th></th>\n",
              "      <th>mean_fit_time</th>\n",
              "      <th>std_fit_time</th>\n",
              "      <th>mean_score_time</th>\n",
              "      <th>std_score_time</th>\n",
              "      <th>param_criterion</th>\n",
              "      <th>param_max_depth</th>\n",
              "      <th>param_min_samples_leaf</th>\n",
              "      <th>param_min_samples_split</th>\n",
              "      <th>param_splitter</th>\n",
              "      <th>params</th>\n",
              "      <th>split0_test_score</th>\n",
              "      <th>split1_test_score</th>\n",
              "      <th>split2_test_score</th>\n",
              "      <th>split3_test_score</th>\n",
              "      <th>split4_test_score</th>\n",
              "      <th>mean_test_score</th>\n",
              "      <th>std_test_score</th>\n",
              "      <th>rank_test_score</th>\n",
              "    </tr>\n",
              "  </thead>\n",
              "  <tbody>\n",
              "    <tr>\n",
              "      <th>0</th>\n",
              "      <td>0.005651</td>\n",
              "      <td>0.001475</td>\n",
              "      <td>0.001947</td>\n",
              "      <td>0.000317</td>\n",
              "      <td>entropy</td>\n",
              "      <td>15</td>\n",
              "      <td>92</td>\n",
              "      <td>79</td>\n",
              "      <td>random</td>\n",
              "      <td>{'criterion': 'entropy', 'max_depth': 15, 'min...</td>\n",
              "      <td>0.7710</td>\n",
              "      <td>0.752</td>\n",
              "      <td>0.7865</td>\n",
              "      <td>0.760</td>\n",
              "      <td>0.769</td>\n",
              "      <td>0.7677</td>\n",
              "      <td>0.011591</td>\n",
              "      <td>10</td>\n",
              "    </tr>\n",
              "    <tr>\n",
              "      <th>1</th>\n",
              "      <td>0.004027</td>\n",
              "      <td>0.000153</td>\n",
              "      <td>0.001683</td>\n",
              "      <td>0.000077</td>\n",
              "      <td>entropy</td>\n",
              "      <td>30</td>\n",
              "      <td>111</td>\n",
              "      <td>95</td>\n",
              "      <td>random</td>\n",
              "      <td>{'criterion': 'entropy', 'max_depth': 30, 'min...</td>\n",
              "      <td>0.7425</td>\n",
              "      <td>0.734</td>\n",
              "      <td>0.7825</td>\n",
              "      <td>0.781</td>\n",
              "      <td>0.741</td>\n",
              "      <td>0.7562</td>\n",
              "      <td>0.021063</td>\n",
              "      <td>13</td>\n",
              "    </tr>\n",
              "  </tbody>\n",
              "</table>\n",
              "</div>\n",
              "      <button class=\"colab-df-convert\" onclick=\"convertToInteractive('df-278521a2-0fcb-4acf-a43c-e2c62716bf28')\"\n",
              "              title=\"Convert this dataframe to an interactive table.\"\n",
              "              style=\"display:none;\">\n",
              "        \n",
              "  <svg xmlns=\"http://www.w3.org/2000/svg\" height=\"24px\"viewBox=\"0 0 24 24\"\n",
              "       width=\"24px\">\n",
              "    <path d=\"M0 0h24v24H0V0z\" fill=\"none\"/>\n",
              "    <path d=\"M18.56 5.44l.94 2.06.94-2.06 2.06-.94-2.06-.94-.94-2.06-.94 2.06-2.06.94zm-11 1L8.5 8.5l.94-2.06 2.06-.94-2.06-.94L8.5 2.5l-.94 2.06-2.06.94zm10 10l.94 2.06.94-2.06 2.06-.94-2.06-.94-.94-2.06-.94 2.06-2.06.94z\"/><path d=\"M17.41 7.96l-1.37-1.37c-.4-.4-.92-.59-1.43-.59-.52 0-1.04.2-1.43.59L10.3 9.45l-7.72 7.72c-.78.78-.78 2.05 0 2.83L4 21.41c.39.39.9.59 1.41.59.51 0 1.02-.2 1.41-.59l7.78-7.78 2.81-2.81c.8-.78.8-2.07 0-2.86zM5.41 20L4 18.59l7.72-7.72 1.47 1.35L5.41 20z\"/>\n",
              "  </svg>\n",
              "      </button>\n",
              "      \n",
              "  <style>\n",
              "    .colab-df-container {\n",
              "      display:flex;\n",
              "      flex-wrap:wrap;\n",
              "      gap: 12px;\n",
              "    }\n",
              "\n",
              "    .colab-df-convert {\n",
              "      background-color: #E8F0FE;\n",
              "      border: none;\n",
              "      border-radius: 50%;\n",
              "      cursor: pointer;\n",
              "      display: none;\n",
              "      fill: #1967D2;\n",
              "      height: 32px;\n",
              "      padding: 0 0 0 0;\n",
              "      width: 32px;\n",
              "    }\n",
              "\n",
              "    .colab-df-convert:hover {\n",
              "      background-color: #E2EBFA;\n",
              "      box-shadow: 0px 1px 2px rgba(60, 64, 67, 0.3), 0px 1px 3px 1px rgba(60, 64, 67, 0.15);\n",
              "      fill: #174EA6;\n",
              "    }\n",
              "\n",
              "    [theme=dark] .colab-df-convert {\n",
              "      background-color: #3B4455;\n",
              "      fill: #D2E3FC;\n",
              "    }\n",
              "\n",
              "    [theme=dark] .colab-df-convert:hover {\n",
              "      background-color: #434B5C;\n",
              "      box-shadow: 0px 1px 3px 1px rgba(0, 0, 0, 0.15);\n",
              "      filter: drop-shadow(0px 1px 2px rgba(0, 0, 0, 0.3));\n",
              "      fill: #FFFFFF;\n",
              "    }\n",
              "  </style>\n",
              "\n",
              "      <script>\n",
              "        const buttonEl =\n",
              "          document.querySelector('#df-278521a2-0fcb-4acf-a43c-e2c62716bf28 button.colab-df-convert');\n",
              "        buttonEl.style.display =\n",
              "          google.colab.kernel.accessAllowed ? 'block' : 'none';\n",
              "\n",
              "        async function convertToInteractive(key) {\n",
              "          const element = document.querySelector('#df-278521a2-0fcb-4acf-a43c-e2c62716bf28');\n",
              "          const dataTable =\n",
              "            await google.colab.kernel.invokeFunction('convertToInteractive',\n",
              "                                                     [key], {});\n",
              "          if (!dataTable) return;\n",
              "\n",
              "          const docLinkHtml = 'Like what you see? Visit the ' +\n",
              "            '<a target=\"_blank\" href=https://colab.research.google.com/notebooks/data_table.ipynb>data table notebook</a>'\n",
              "            + ' to learn more about interactive tables.';\n",
              "          element.innerHTML = '';\n",
              "          dataTable['output_type'] = 'display_data';\n",
              "          await google.colab.output.renderOutput(dataTable, element);\n",
              "          const docLink = document.createElement('div');\n",
              "          docLink.innerHTML = docLinkHtml;\n",
              "          element.appendChild(docLink);\n",
              "        }\n",
              "      </script>\n",
              "    </div>\n",
              "  </div>\n",
              "  "
            ]
          },
          "metadata": {},
          "execution_count": 15
        }
      ]
    },
    {
      "cell_type": "code",
      "source": [
        "resultado_melhores_score = results.sort_values('mean_test_score', ascending=False)\n",
        "\n",
        "for index, linha in resultado_melhores_score.iterrows():\n",
        "    print(f'{linha.mean_test_score:.2f}, +-{linha.std_test_score:.5f}, {linha.params}')"
      ],
      "metadata": {
        "colab": {
          "base_uri": "https://localhost:8080/"
        },
        "id": "EsFO7qH4Ph2D",
        "outputId": "25dbd598-4483-45c6-9ceb-b50fb07ea11a"
      },
      "execution_count": null,
      "outputs": [
        {
          "output_type": "stream",
          "name": "stdout",
          "text": [
            "0.79, +-0.00962, {'criterion': 'gini', 'max_depth': 3, 'min_samples_leaf': 75, 'min_samples_split': 53, 'splitter': 'best'}\n",
            "0.78, +-0.01124, {'criterion': 'gini', 'max_depth': 5, 'min_samples_leaf': 117, 'min_samples_split': 82, 'splitter': 'best'}\n",
            "0.78, +-0.00672, {'criterion': 'gini', 'max_depth': 15, 'min_samples_leaf': 100, 'min_samples_split': 61, 'splitter': 'best'}\n",
            "0.78, +-0.00728, {'criterion': 'entropy', 'max_depth': 30, 'min_samples_leaf': 84, 'min_samples_split': 118, 'splitter': 'best'}\n",
            "0.78, +-0.00851, {'criterion': 'entropy', 'max_depth': 10, 'min_samples_leaf': 117, 'min_samples_split': 110, 'splitter': 'best'}\n",
            "0.78, +-0.00858, {'criterion': 'gini', 'max_depth': 10, 'min_samples_leaf': 88, 'min_samples_split': 76, 'splitter': 'best'}\n",
            "0.78, +-0.00435, {'criterion': 'entropy', 'max_depth': 30, 'min_samples_leaf': 95, 'min_samples_split': 97, 'splitter': 'best'}\n",
            "0.78, +-0.00463, {'criterion': 'entropy', 'max_depth': 15, 'min_samples_leaf': 115, 'min_samples_split': 35, 'splitter': 'best'}\n",
            "0.77, +-0.00778, {'criterion': 'entropy', 'max_depth': None, 'min_samples_leaf': 62, 'min_samples_split': 121, 'splitter': 'best'}\n",
            "0.77, +-0.01159, {'criterion': 'entropy', 'max_depth': 15, 'min_samples_leaf': 92, 'min_samples_split': 79, 'splitter': 'random'}\n",
            "0.77, +-0.01334, {'criterion': 'gini', 'max_depth': 10, 'min_samples_leaf': 113, 'min_samples_split': 108, 'splitter': 'random'}\n",
            "0.76, +-0.01833, {'criterion': 'entropy', 'max_depth': 30, 'min_samples_leaf': 59, 'min_samples_split': 107, 'splitter': 'random'}\n",
            "0.76, +-0.02106, {'criterion': 'entropy', 'max_depth': 30, 'min_samples_leaf': 111, 'min_samples_split': 95, 'splitter': 'random'}\n",
            "0.74, +-0.03016, {'criterion': 'gini', 'max_depth': None, 'min_samples_leaf': 103, 'min_samples_split': 121, 'splitter': 'random'}\n",
            "0.73, +-0.07238, {'criterion': 'gini', 'max_depth': 30, 'min_samples_leaf': 96, 'min_samples_split': 111, 'splitter': 'random'}\n",
            "0.69, +-0.06907, {'criterion': 'gini', 'max_depth': 3, 'min_samples_leaf': 68, 'min_samples_split': 76, 'splitter': 'random'}\n"
          ]
        }
      ]
    },
    {
      "cell_type": "markdown",
      "source": [
        "## Exploração mais a fundo de forma aleatória"
      ],
      "metadata": {
        "id": "xJn9Uaj8TTdb"
      }
    },
    {
      "cell_type": "code",
      "source": [
        "from scipy.stats import randint\n",
        "from sklearn.model_selection import RandomizedSearchCV, KFold\n",
        "\n",
        "SEED = 564\n",
        "\n",
        "kfold = KFold(n_splits=5, shuffle=True, random_state=SEED)\n",
        "estimador = DecisionTreeClassifier()\n",
        "parametros = {'criterion': ['gini', 'entropy'], 'min_samples_leaf': randint(32,128),\n",
        "              'min_samples_split': randint(32,128), 'max_depth': [3,5,10,15,20,30,None],\n",
        "              'splitter': ['best', 'random']}\n",
        "\n",
        "grid = RandomizedSearchCV(estimador, parametros, n_iter=64, cv=kfold)\n",
        "grid.fit(x_azar, y_azar)\n",
        "melhor_estimador = grid.best_estimator_\n",
        "melhor_score = grid.best_score_\n",
        "results = pd.DataFrame(grid.cv_results_)"
      ],
      "metadata": {
        "id": "U5A9mEZZP7KO"
      },
      "execution_count": null,
      "outputs": []
    },
    {
      "cell_type": "code",
      "source": [
        "resultado_melhores_score = results.sort_values('mean_test_score', ascending=False)\n",
        "\n",
        "for index, linha in resultado_melhores_score.iterrows():\n",
        "    print(f'{linha.mean_test_score:.2f}, +-{linha.std_test_score:.5f}, {linha.params}')"
      ],
      "metadata": {
        "id": "NWhscXBvTi7O",
        "colab": {
          "base_uri": "https://localhost:8080/"
        },
        "outputId": "27d4e3bb-dc8a-4b3a-94ef-87bf75593df1"
      },
      "execution_count": null,
      "outputs": [
        {
          "output_type": "stream",
          "name": "stdout",
          "text": [
            "0.79, +-0.00561, {'criterion': 'entropy', 'max_depth': 3, 'min_samples_leaf': 37, 'min_samples_split': 93, 'splitter': 'best'}\n",
            "0.79, +-0.00561, {'criterion': 'gini', 'max_depth': 3, 'min_samples_leaf': 86, 'min_samples_split': 125, 'splitter': 'best'}\n",
            "0.79, +-0.00561, {'criterion': 'gini', 'max_depth': 3, 'min_samples_leaf': 85, 'min_samples_split': 64, 'splitter': 'best'}\n",
            "0.79, +-0.00561, {'criterion': 'gini', 'max_depth': 3, 'min_samples_leaf': 65, 'min_samples_split': 63, 'splitter': 'best'}\n",
            "0.79, +-0.00561, {'criterion': 'entropy', 'max_depth': 3, 'min_samples_leaf': 93, 'min_samples_split': 66, 'splitter': 'best'}\n",
            "0.79, +-0.00561, {'criterion': 'gini', 'max_depth': 3, 'min_samples_leaf': 77, 'min_samples_split': 103, 'splitter': 'best'}\n",
            "0.79, +-0.00561, {'criterion': 'entropy', 'max_depth': 3, 'min_samples_leaf': 127, 'min_samples_split': 48, 'splitter': 'best'}\n",
            "0.79, +-0.00661, {'criterion': 'entropy', 'max_depth': 5, 'min_samples_leaf': 46, 'min_samples_split': 87, 'splitter': 'best'}\n",
            "0.79, +-0.00661, {'criterion': 'gini', 'max_depth': 5, 'min_samples_leaf': 50, 'min_samples_split': 69, 'splitter': 'best'}\n",
            "0.78, +-0.00492, {'criterion': 'entropy', 'max_depth': 20, 'min_samples_leaf': 112, 'min_samples_split': 86, 'splitter': 'best'}\n",
            "0.78, +-0.00492, {'criterion': 'entropy', 'max_depth': None, 'min_samples_leaf': 112, 'min_samples_split': 71, 'splitter': 'best'}\n",
            "0.78, +-0.00474, {'criterion': 'gini', 'max_depth': 15, 'min_samples_leaf': 113, 'min_samples_split': 109, 'splitter': 'best'}\n",
            "0.78, +-0.00726, {'criterion': 'gini', 'max_depth': 10, 'min_samples_leaf': 126, 'min_samples_split': 53, 'splitter': 'best'}\n",
            "0.78, +-0.00713, {'criterion': 'entropy', 'max_depth': 10, 'min_samples_leaf': 127, 'min_samples_split': 127, 'splitter': 'best'}\n",
            "0.78, +-0.00527, {'criterion': 'entropy', 'max_depth': 15, 'min_samples_leaf': 117, 'min_samples_split': 124, 'splitter': 'best'}\n",
            "0.78, +-0.00418, {'criterion': 'entropy', 'max_depth': 10, 'min_samples_leaf': 106, 'min_samples_split': 35, 'splitter': 'best'}\n",
            "0.78, +-0.00438, {'criterion': 'gini', 'max_depth': 10, 'min_samples_leaf': 78, 'min_samples_split': 51, 'splitter': 'best'}\n",
            "0.78, +-0.00662, {'criterion': 'gini', 'max_depth': 30, 'min_samples_leaf': 124, 'min_samples_split': 122, 'splitter': 'best'}\n",
            "0.78, +-0.00292, {'criterion': 'gini', 'max_depth': None, 'min_samples_leaf': 107, 'min_samples_split': 77, 'splitter': 'best'}\n",
            "0.78, +-0.00628, {'criterion': 'entropy', 'max_depth': 10, 'min_samples_leaf': 32, 'min_samples_split': 53, 'splitter': 'best'}\n",
            "0.78, +-0.00256, {'criterion': 'gini', 'max_depth': 15, 'min_samples_leaf': 109, 'min_samples_split': 122, 'splitter': 'best'}\n",
            "0.78, +-0.00262, {'criterion': 'gini', 'max_depth': 20, 'min_samples_leaf': 102, 'min_samples_split': 106, 'splitter': 'best'}\n",
            "0.78, +-0.00532, {'criterion': 'gini', 'max_depth': 15, 'min_samples_leaf': 95, 'min_samples_split': 52, 'splitter': 'best'}\n",
            "0.78, +-0.00532, {'criterion': 'entropy', 'max_depth': 15, 'min_samples_leaf': 95, 'min_samples_split': 94, 'splitter': 'best'}\n",
            "0.78, +-0.00371, {'criterion': 'gini', 'max_depth': 20, 'min_samples_leaf': 77, 'min_samples_split': 91, 'splitter': 'best'}\n",
            "0.78, +-0.00394, {'criterion': 'entropy', 'max_depth': 30, 'min_samples_leaf': 105, 'min_samples_split': 96, 'splitter': 'best'}\n",
            "0.78, +-0.00563, {'criterion': 'entropy', 'max_depth': 10, 'min_samples_leaf': 81, 'min_samples_split': 32, 'splitter': 'best'}\n",
            "0.78, +-0.00457, {'criterion': 'gini', 'max_depth': 30, 'min_samples_leaf': 32, 'min_samples_split': 122, 'splitter': 'random'}\n",
            "0.77, +-0.00347, {'criterion': 'entropy', 'max_depth': 30, 'min_samples_leaf': 73, 'min_samples_split': 78, 'splitter': 'best'}\n",
            "0.77, +-0.00196, {'criterion': 'gini', 'max_depth': 20, 'min_samples_leaf': 67, 'min_samples_split': 88, 'splitter': 'best'}\n",
            "0.77, +-0.01318, {'criterion': 'entropy', 'max_depth': 30, 'min_samples_leaf': 69, 'min_samples_split': 98, 'splitter': 'random'}\n",
            "0.77, +-0.00364, {'criterion': 'entropy', 'max_depth': 20, 'min_samples_leaf': 81, 'min_samples_split': 55, 'splitter': 'best'}\n",
            "0.77, +-0.00814, {'criterion': 'entropy', 'max_depth': None, 'min_samples_leaf': 34, 'min_samples_split': 44, 'splitter': 'random'}\n",
            "0.77, +-0.00220, {'criterion': 'entropy', 'max_depth': 20, 'min_samples_leaf': 63, 'min_samples_split': 98, 'splitter': 'best'}\n",
            "0.77, +-0.00372, {'criterion': 'entropy', 'max_depth': 20, 'min_samples_leaf': 44, 'min_samples_split': 122, 'splitter': 'best'}\n",
            "0.77, +-0.00501, {'criterion': 'gini', 'max_depth': 15, 'min_samples_leaf': 86, 'min_samples_split': 40, 'splitter': 'best'}\n",
            "0.77, +-0.00625, {'criterion': 'gini', 'max_depth': 20, 'min_samples_leaf': 45, 'min_samples_split': 94, 'splitter': 'best'}\n",
            "0.77, +-0.00887, {'criterion': 'gini', 'max_depth': 20, 'min_samples_leaf': 32, 'min_samples_split': 87, 'splitter': 'random'}\n",
            "0.77, +-0.01624, {'criterion': 'entropy', 'max_depth': 30, 'min_samples_leaf': 71, 'min_samples_split': 59, 'splitter': 'random'}\n",
            "0.77, +-0.01357, {'criterion': 'gini', 'max_depth': None, 'min_samples_leaf': 87, 'min_samples_split': 33, 'splitter': 'random'}\n",
            "0.77, +-0.00989, {'criterion': 'entropy', 'max_depth': 20, 'min_samples_leaf': 54, 'min_samples_split': 116, 'splitter': 'random'}\n",
            "0.77, +-0.01248, {'criterion': 'gini', 'max_depth': 20, 'min_samples_leaf': 95, 'min_samples_split': 32, 'splitter': 'random'}\n",
            "0.76, +-0.01563, {'criterion': 'gini', 'max_depth': 10, 'min_samples_leaf': 123, 'min_samples_split': 118, 'splitter': 'random'}\n",
            "0.76, +-0.01098, {'criterion': 'entropy', 'max_depth': 30, 'min_samples_leaf': 119, 'min_samples_split': 112, 'splitter': 'random'}\n",
            "0.76, +-0.01275, {'criterion': 'gini', 'max_depth': None, 'min_samples_leaf': 91, 'min_samples_split': 108, 'splitter': 'random'}\n",
            "0.76, +-0.01204, {'criterion': 'gini', 'max_depth': 20, 'min_samples_leaf': 78, 'min_samples_split': 47, 'splitter': 'random'}\n",
            "0.76, +-0.01992, {'criterion': 'gini', 'max_depth': 15, 'min_samples_leaf': 52, 'min_samples_split': 119, 'splitter': 'random'}\n",
            "0.76, +-0.02374, {'criterion': 'entropy', 'max_depth': 10, 'min_samples_leaf': 79, 'min_samples_split': 68, 'splitter': 'random'}\n",
            "0.75, +-0.01141, {'criterion': 'gini', 'max_depth': 10, 'min_samples_leaf': 96, 'min_samples_split': 40, 'splitter': 'random'}\n",
            "0.75, +-0.02966, {'criterion': 'entropy', 'max_depth': 5, 'min_samples_leaf': 64, 'min_samples_split': 85, 'splitter': 'random'}\n",
            "0.75, +-0.01416, {'criterion': 'entropy', 'max_depth': None, 'min_samples_leaf': 89, 'min_samples_split': 117, 'splitter': 'random'}\n",
            "0.75, +-0.02318, {'criterion': 'gini', 'max_depth': 15, 'min_samples_leaf': 115, 'min_samples_split': 84, 'splitter': 'random'}\n",
            "0.75, +-0.02675, {'criterion': 'gini', 'max_depth': None, 'min_samples_leaf': 67, 'min_samples_split': 113, 'splitter': 'random'}\n",
            "0.74, +-0.02692, {'criterion': 'gini', 'max_depth': 20, 'min_samples_leaf': 127, 'min_samples_split': 82, 'splitter': 'random'}\n",
            "0.74, +-0.01935, {'criterion': 'gini', 'max_depth': 5, 'min_samples_leaf': 117, 'min_samples_split': 41, 'splitter': 'random'}\n",
            "0.74, +-0.01418, {'criterion': 'entropy', 'max_depth': 5, 'min_samples_leaf': 77, 'min_samples_split': 115, 'splitter': 'random'}\n",
            "0.74, +-0.04144, {'criterion': 'gini', 'max_depth': 15, 'min_samples_leaf': 110, 'min_samples_split': 81, 'splitter': 'random'}\n",
            "0.74, +-0.01865, {'criterion': 'entropy', 'max_depth': 5, 'min_samples_leaf': 90, 'min_samples_split': 50, 'splitter': 'random'}\n",
            "0.73, +-0.03407, {'criterion': 'entropy', 'max_depth': 5, 'min_samples_leaf': 78, 'min_samples_split': 45, 'splitter': 'random'}\n",
            "0.72, +-0.07902, {'criterion': 'entropy', 'max_depth': 10, 'min_samples_leaf': 115, 'min_samples_split': 120, 'splitter': 'random'}\n",
            "0.72, +-0.04575, {'criterion': 'entropy', 'max_depth': 5, 'min_samples_leaf': 80, 'min_samples_split': 96, 'splitter': 'random'}\n",
            "0.70, +-0.03318, {'criterion': 'entropy', 'max_depth': 3, 'min_samples_leaf': 40, 'min_samples_split': 96, 'splitter': 'random'}\n",
            "0.70, +-0.04557, {'criterion': 'entropy', 'max_depth': None, 'min_samples_leaf': 104, 'min_samples_split': 61, 'splitter': 'random'}\n",
            "0.68, +-0.05435, {'criterion': 'entropy', 'max_depth': 3, 'min_samples_leaf': 33, 'min_samples_split': 49, 'splitter': 'random'}\n"
          ]
        }
      ]
    },
    {
      "cell_type": "code",
      "source": [
        "scores = cross_val_score(melhor_estimador, x_azar, y_azar, cv=kfold)\n",
        "imprime_score(scores)\n",
        "print(melhor_estimador)"
      ],
      "metadata": {
        "colab": {
          "base_uri": "https://localhost:8080/"
        },
        "id": "YofJd1OfTEDg",
        "outputId": "b7a6d265-dd00-4011-88eb-cf2b2937c351"
      },
      "execution_count": null,
      "outputs": [
        {
          "output_type": "stream",
          "name": "stdout",
          "text": [
            "Accuracy média é: 78.69\n",
            "Accuracy = [77.57%,  79.81%]\n",
            "DecisionTreeClassifier(criterion='entropy', max_depth=3, min_samples_leaf=37,\n",
            "                       min_samples_split=93)\n"
          ]
        }
      ]
    },
    {
      "cell_type": "markdown",
      "source": [
        "# Comparando ReadsearchCV com GridSearchCV"
      ],
      "metadata": {
        "id": "xeuvUemZiQwd"
      }
    },
    {
      "cell_type": "code",
      "source": [
        "# GridSearchCV\n",
        "import time\n",
        "SEED = 301\n",
        "\n",
        "parametros = {'n_estimators': [10,100],'max_depth': [3,5], 'criterion':['gini', 'entropy'],\n",
        "              'min_samples_leaf':[32,64,128], 'min_samples_split':[32,64,128], 'bootstrap': [True, False]}\n",
        "\n",
        "kfold = KFold(n_splits=5, shuffle=True)\n",
        "\n",
        "tic = time.time()\n",
        "grid = GridSearchCV(RandomForestClassifier(), parametros, cv=kfold)\n",
        "grid.fit(x_azar, y_azar)\n",
        "tac = time.time()\n",
        "tempo_percorrido = tac - tic\n",
        "print(f'Tempo gasto foi de: {tempo_percorrido:.2f} segundos')\n",
        "\n",
        "melhor_param = grid.best_params_\n",
        "melhorestimador = grid.best_estimator_\n",
        "melhor_score = grid.best_score_\n",
        "resultados = pd.DataFrame(grid.cv_results_)"
      ],
      "metadata": {
        "colab": {
          "base_uri": "https://localhost:8080/"
        },
        "id": "W3oZJgOch-Cc",
        "outputId": "b2612507-da99-4b88-b699-84892a565cde"
      },
      "execution_count": null,
      "outputs": [
        {
          "output_type": "stream",
          "name": "stdout",
          "text": [
            "Tempo gasto foi de: 197.16 segundos\n"
          ]
        }
      ]
    },
    {
      "cell_type": "code",
      "source": [
        "melhorestimador"
      ],
      "metadata": {
        "colab": {
          "base_uri": "https://localhost:8080/"
        },
        "id": "YxUCWkTxtuEt",
        "outputId": "e253e3d6-a058-4d71-8854-f9338e7e35a2"
      },
      "execution_count": null,
      "outputs": [
        {
          "output_type": "execute_result",
          "data": {
            "text/plain": [
              "RandomForestClassifier(max_depth=5, min_samples_leaf=32, min_samples_split=64,\n",
              "                       n_estimators=10)"
            ]
          },
          "metadata": {},
          "execution_count": 23
        }
      ]
    },
    {
      "cell_type": "code",
      "source": [
        "resultados.head(2)"
      ],
      "metadata": {
        "colab": {
          "base_uri": "https://localhost:8080/",
          "height": 315
        },
        "id": "LwNIQTCzkQSp",
        "outputId": "688639ef-95d6-4a02-fc5c-a1489e668dc7"
      },
      "execution_count": null,
      "outputs": [
        {
          "output_type": "execute_result",
          "data": {
            "text/plain": [
              "   mean_fit_time  std_fit_time  mean_score_time  std_score_time  \\\n",
              "0       0.037831      0.001800         0.004792        0.000324   \n",
              "1       0.349394      0.010304         0.026978        0.001506   \n",
              "\n",
              "  param_bootstrap param_criterion param_max_depth param_min_samples_leaf  \\\n",
              "0            True            gini               3                     32   \n",
              "1            True            gini               3                     32   \n",
              "\n",
              "  param_min_samples_split param_n_estimators  \\\n",
              "0                      32                 10   \n",
              "1                      32                100   \n",
              "\n",
              "                                              params  split0_test_score  \\\n",
              "0  {'bootstrap': True, 'criterion': 'gini', 'max_...              0.743   \n",
              "1  {'bootstrap': True, 'criterion': 'gini', 'max_...              0.784   \n",
              "\n",
              "   split1_test_score  split2_test_score  split3_test_score  split4_test_score  \\\n",
              "0             0.7635             0.7735             0.7550             0.7840   \n",
              "1             0.7550             0.7805             0.7665             0.7805   \n",
              "\n",
              "   mean_test_score  std_test_score  rank_test_score  \n",
              "0           0.7638        0.014229              130  \n",
              "1           0.7733        0.010948               87  "
            ],
            "text/html": [
              "\n",
              "  <div id=\"df-6407f5d6-7e02-4411-b409-95a84de211ad\">\n",
              "    <div class=\"colab-df-container\">\n",
              "      <div>\n",
              "<style scoped>\n",
              "    .dataframe tbody tr th:only-of-type {\n",
              "        vertical-align: middle;\n",
              "    }\n",
              "\n",
              "    .dataframe tbody tr th {\n",
              "        vertical-align: top;\n",
              "    }\n",
              "\n",
              "    .dataframe thead th {\n",
              "        text-align: right;\n",
              "    }\n",
              "</style>\n",
              "<table border=\"1\" class=\"dataframe\">\n",
              "  <thead>\n",
              "    <tr style=\"text-align: right;\">\n",
              "      <th></th>\n",
              "      <th>mean_fit_time</th>\n",
              "      <th>std_fit_time</th>\n",
              "      <th>mean_score_time</th>\n",
              "      <th>std_score_time</th>\n",
              "      <th>param_bootstrap</th>\n",
              "      <th>param_criterion</th>\n",
              "      <th>param_max_depth</th>\n",
              "      <th>param_min_samples_leaf</th>\n",
              "      <th>param_min_samples_split</th>\n",
              "      <th>param_n_estimators</th>\n",
              "      <th>params</th>\n",
              "      <th>split0_test_score</th>\n",
              "      <th>split1_test_score</th>\n",
              "      <th>split2_test_score</th>\n",
              "      <th>split3_test_score</th>\n",
              "      <th>split4_test_score</th>\n",
              "      <th>mean_test_score</th>\n",
              "      <th>std_test_score</th>\n",
              "      <th>rank_test_score</th>\n",
              "    </tr>\n",
              "  </thead>\n",
              "  <tbody>\n",
              "    <tr>\n",
              "      <th>0</th>\n",
              "      <td>0.037831</td>\n",
              "      <td>0.001800</td>\n",
              "      <td>0.004792</td>\n",
              "      <td>0.000324</td>\n",
              "      <td>True</td>\n",
              "      <td>gini</td>\n",
              "      <td>3</td>\n",
              "      <td>32</td>\n",
              "      <td>32</td>\n",
              "      <td>10</td>\n",
              "      <td>{'bootstrap': True, 'criterion': 'gini', 'max_...</td>\n",
              "      <td>0.743</td>\n",
              "      <td>0.7635</td>\n",
              "      <td>0.7735</td>\n",
              "      <td>0.7550</td>\n",
              "      <td>0.7840</td>\n",
              "      <td>0.7638</td>\n",
              "      <td>0.014229</td>\n",
              "      <td>130</td>\n",
              "    </tr>\n",
              "    <tr>\n",
              "      <th>1</th>\n",
              "      <td>0.349394</td>\n",
              "      <td>0.010304</td>\n",
              "      <td>0.026978</td>\n",
              "      <td>0.001506</td>\n",
              "      <td>True</td>\n",
              "      <td>gini</td>\n",
              "      <td>3</td>\n",
              "      <td>32</td>\n",
              "      <td>32</td>\n",
              "      <td>100</td>\n",
              "      <td>{'bootstrap': True, 'criterion': 'gini', 'max_...</td>\n",
              "      <td>0.784</td>\n",
              "      <td>0.7550</td>\n",
              "      <td>0.7805</td>\n",
              "      <td>0.7665</td>\n",
              "      <td>0.7805</td>\n",
              "      <td>0.7733</td>\n",
              "      <td>0.010948</td>\n",
              "      <td>87</td>\n",
              "    </tr>\n",
              "  </tbody>\n",
              "</table>\n",
              "</div>\n",
              "      <button class=\"colab-df-convert\" onclick=\"convertToInteractive('df-6407f5d6-7e02-4411-b409-95a84de211ad')\"\n",
              "              title=\"Convert this dataframe to an interactive table.\"\n",
              "              style=\"display:none;\">\n",
              "        \n",
              "  <svg xmlns=\"http://www.w3.org/2000/svg\" height=\"24px\"viewBox=\"0 0 24 24\"\n",
              "       width=\"24px\">\n",
              "    <path d=\"M0 0h24v24H0V0z\" fill=\"none\"/>\n",
              "    <path d=\"M18.56 5.44l.94 2.06.94-2.06 2.06-.94-2.06-.94-.94-2.06-.94 2.06-2.06.94zm-11 1L8.5 8.5l.94-2.06 2.06-.94-2.06-.94L8.5 2.5l-.94 2.06-2.06.94zm10 10l.94 2.06.94-2.06 2.06-.94-2.06-.94-.94-2.06-.94 2.06-2.06.94z\"/><path d=\"M17.41 7.96l-1.37-1.37c-.4-.4-.92-.59-1.43-.59-.52 0-1.04.2-1.43.59L10.3 9.45l-7.72 7.72c-.78.78-.78 2.05 0 2.83L4 21.41c.39.39.9.59 1.41.59.51 0 1.02-.2 1.41-.59l7.78-7.78 2.81-2.81c.8-.78.8-2.07 0-2.86zM5.41 20L4 18.59l7.72-7.72 1.47 1.35L5.41 20z\"/>\n",
              "  </svg>\n",
              "      </button>\n",
              "      \n",
              "  <style>\n",
              "    .colab-df-container {\n",
              "      display:flex;\n",
              "      flex-wrap:wrap;\n",
              "      gap: 12px;\n",
              "    }\n",
              "\n",
              "    .colab-df-convert {\n",
              "      background-color: #E8F0FE;\n",
              "      border: none;\n",
              "      border-radius: 50%;\n",
              "      cursor: pointer;\n",
              "      display: none;\n",
              "      fill: #1967D2;\n",
              "      height: 32px;\n",
              "      padding: 0 0 0 0;\n",
              "      width: 32px;\n",
              "    }\n",
              "\n",
              "    .colab-df-convert:hover {\n",
              "      background-color: #E2EBFA;\n",
              "      box-shadow: 0px 1px 2px rgba(60, 64, 67, 0.3), 0px 1px 3px 1px rgba(60, 64, 67, 0.15);\n",
              "      fill: #174EA6;\n",
              "    }\n",
              "\n",
              "    [theme=dark] .colab-df-convert {\n",
              "      background-color: #3B4455;\n",
              "      fill: #D2E3FC;\n",
              "    }\n",
              "\n",
              "    [theme=dark] .colab-df-convert:hover {\n",
              "      background-color: #434B5C;\n",
              "      box-shadow: 0px 1px 3px 1px rgba(0, 0, 0, 0.15);\n",
              "      filter: drop-shadow(0px 1px 2px rgba(0, 0, 0, 0.3));\n",
              "      fill: #FFFFFF;\n",
              "    }\n",
              "  </style>\n",
              "\n",
              "      <script>\n",
              "        const buttonEl =\n",
              "          document.querySelector('#df-6407f5d6-7e02-4411-b409-95a84de211ad button.colab-df-convert');\n",
              "        buttonEl.style.display =\n",
              "          google.colab.kernel.accessAllowed ? 'block' : 'none';\n",
              "\n",
              "        async function convertToInteractive(key) {\n",
              "          const element = document.querySelector('#df-6407f5d6-7e02-4411-b409-95a84de211ad');\n",
              "          const dataTable =\n",
              "            await google.colab.kernel.invokeFunction('convertToInteractive',\n",
              "                                                     [key], {});\n",
              "          if (!dataTable) return;\n",
              "\n",
              "          const docLinkHtml = 'Like what you see? Visit the ' +\n",
              "            '<a target=\"_blank\" href=https://colab.research.google.com/notebooks/data_table.ipynb>data table notebook</a>'\n",
              "            + ' to learn more about interactive tables.';\n",
              "          element.innerHTML = '';\n",
              "          dataTable['output_type'] = 'display_data';\n",
              "          await google.colab.output.renderOutput(dataTable, element);\n",
              "          const docLink = document.createElement('div');\n",
              "          docLink.innerHTML = docLinkHtml;\n",
              "          element.appendChild(docLink);\n",
              "        }\n",
              "      </script>\n",
              "    </div>\n",
              "  </div>\n",
              "  "
            ]
          },
          "metadata": {},
          "execution_count": 24
        }
      ]
    },
    {
      "cell_type": "code",
      "source": [
        "resultado_melhores_score = results.sort_values('mean_test_score', ascending=False)\n",
        "\n",
        "for index, linha in resultado_melhores_score[:5].iterrows():\n",
        "    print(f'{linha.mean_test_score:.2f}, +-{linha.std_test_score:.5f}, {linha.params}')"
      ],
      "metadata": {
        "colab": {
          "base_uri": "https://localhost:8080/"
        },
        "id": "__Rug95oqeag",
        "outputId": "0d26bcc0-a877-4329-b44f-bb87312afc8a"
      },
      "execution_count": null,
      "outputs": [
        {
          "output_type": "stream",
          "name": "stdout",
          "text": [
            "0.79, +-0.00561, {'criterion': 'entropy', 'max_depth': 3, 'min_samples_leaf': 37, 'min_samples_split': 93, 'splitter': 'best'}\n",
            "0.79, +-0.00561, {'criterion': 'gini', 'max_depth': 3, 'min_samples_leaf': 86, 'min_samples_split': 125, 'splitter': 'best'}\n",
            "0.79, +-0.00561, {'criterion': 'gini', 'max_depth': 3, 'min_samples_leaf': 85, 'min_samples_split': 64, 'splitter': 'best'}\n",
            "0.79, +-0.00561, {'criterion': 'gini', 'max_depth': 3, 'min_samples_leaf': 65, 'min_samples_split': 63, 'splitter': 'best'}\n",
            "0.79, +-0.00561, {'criterion': 'entropy', 'max_depth': 3, 'min_samples_leaf': 93, 'min_samples_split': 66, 'splitter': 'best'}\n"
          ]
        }
      ]
    },
    {
      "cell_type": "code",
      "source": [
        "\n",
        "tic = time.time()\n",
        "scores = cross_val_score(melhorestimador, x_azar, y_azar, cv=kfold)\n",
        "tac = time.time()\n",
        "tempo = tac - tic\n",
        "\n",
        "print(f'{tempo:.2f} segundos' )\n",
        "imprime_score(scores)\n",
        "print(melhorestimador)"
      ],
      "metadata": {
        "colab": {
          "base_uri": "https://localhost:8080/"
        },
        "id": "EPPRfI5sqogt",
        "outputId": "0aa2385c-c408-4b1b-c336-e53bc9060ac7"
      },
      "execution_count": null,
      "outputs": [
        {
          "output_type": "stream",
          "name": "stdout",
          "text": [
            "0.27 segundos\n",
            "Accuracy média é: 77.90\n",
            "Accuracy = [76.67%,  79.13%]\n",
            "RandomForestClassifier(max_depth=5, min_samples_leaf=32, min_samples_split=64,\n",
            "                       n_estimators=10)\n"
          ]
        }
      ]
    },
    {
      "cell_type": "code",
      "source": [
        "# RandomizedSearchCV\n",
        "\n",
        "import time\n",
        "SEED = 301\n",
        "\n",
        "kfold = KFold(n_splits=5, shuffle=True)\n",
        "parametros = {'n_estimators':  randint(10,101),'max_depth': randint(3,6), 'criterion':['gini', 'entropy'],\n",
        "              'min_samples_leaf': randint(32,129), 'min_samples_split': randint(32,129), 'bootstrap': [True, False]}\n",
        "estimador = RandomForestClassifier()\n",
        "\n",
        "tic = time.time()\n",
        "grid = RandomizedSearchCV(estimador, parametros, cv=kfold, n_iter=80)\n",
        "grid.fit(x_azar, y_azar)\n",
        "tac = time.time()\n",
        "tempo_percorrido = tac - tic\n",
        "print(f'Tempo gasto foi de: {tempo_percorrido:.2f} segundos')\n",
        "\n",
        "melhor_param_random = grid.best_params_\n",
        "melhorestimador_random = grid.best_estimator_\n",
        "melhor_score_random = grid.best_score_\n",
        "resultados_randomidez = pd.DataFrame(grid.cv_results_)"
      ],
      "metadata": {
        "id": "g_-RaFK6rVfm",
        "colab": {
          "base_uri": "https://localhost:8080/"
        },
        "outputId": "95f8bf38-06c3-45d5-b608-0e5c2eb9bab0"
      },
      "execution_count": null,
      "outputs": [
        {
          "output_type": "stream",
          "name": "stdout",
          "text": [
            "Tempo gasto foi de: 109.40 segundos\n"
          ]
        }
      ]
    },
    {
      "cell_type": "code",
      "source": [
        "resultado_melhores_score = resultados_randomidez.sort_values('mean_test_score', ascending=False)\n",
        "\n",
        "for index, linha in resultado_melhores_score[-5:].iterrows():\n",
        "    print(f'{linha.mean_test_score:.3f}, +-{linha.std_test_score:.5f}, {linha.params}')"
      ],
      "metadata": {
        "colab": {
          "base_uri": "https://localhost:8080/"
        },
        "id": "4grgdBC4XTOq",
        "outputId": "4d9b3d28-f6b5-44db-fcd5-5276eaa95de9"
      },
      "execution_count": null,
      "outputs": [
        {
          "output_type": "stream",
          "name": "stdout",
          "text": [
            "0.765, +-0.01344, {'bootstrap': False, 'criterion': 'gini', 'max_depth': 3, 'min_samples_leaf': 123, 'min_samples_split': 65, 'n_estimators': 13}\n",
            "0.765, +-0.01890, {'bootstrap': True, 'criterion': 'entropy', 'max_depth': 4, 'min_samples_leaf': 73, 'min_samples_split': 106, 'n_estimators': 12}\n",
            "0.763, +-0.01983, {'bootstrap': False, 'criterion': 'entropy', 'max_depth': 3, 'min_samples_leaf': 94, 'min_samples_split': 94, 'n_estimators': 50}\n",
            "0.763, +-0.00957, {'bootstrap': True, 'criterion': 'entropy', 'max_depth': 3, 'min_samples_leaf': 86, 'min_samples_split': 34, 'n_estimators': 12}\n",
            "0.763, +-0.01654, {'bootstrap': True, 'criterion': 'gini', 'max_depth': 3, 'min_samples_leaf': 87, 'min_samples_split': 104, 'n_estimators': 17}\n"
          ]
        }
      ]
    },
    {
      "cell_type": "code",
      "source": [
        "tic = time.time()\n",
        "scores = cross_val_score(melhorestimador, x_azar, y_azar, cv=kfold)\n",
        "tac = time.time()\n",
        "tempo = tac - tic\n",
        "\n",
        "print(f'{tempo:.2f} segundos' )\n",
        "imprime_score(scores)\n",
        "print(melhorestimador)"
      ],
      "metadata": {
        "colab": {
          "base_uri": "https://localhost:8080/"
        },
        "id": "dbH54thjYorY",
        "outputId": "5ffd0a76-ddcd-4f83-8786-2ad26d32aaf9"
      },
      "execution_count": null,
      "outputs": [
        {
          "output_type": "stream",
          "name": "stdout",
          "text": [
            "0.33 segundos\n",
            "Accuracy média é: 77.98\n",
            "Accuracy = [76.53%,  79.43%]\n",
            "RandomForestClassifier(bootstrap=False, max_depth=5, min_samples_leaf=64,\n",
            "                       min_samples_split=64, n_estimators=10)\n"
          ]
        }
      ]
    },
    {
      "cell_type": "markdown",
      "source": [
        "##**Trabalhando sem o cross validation(treino e teste)**"
      ],
      "metadata": {
        "id": "gsJXyJSBbcbJ"
      }
    },
    {
      "cell_type": "code",
      "source": [
        "from sklearn.model_selection import train_test_split\n",
        "# 0.6 treino  \n",
        "# 0.2 teste \n",
        "# 0.2 validação\n",
        "\n",
        "X_treino_teste, x_validacao, y_treino_teste, y_validacao = train_test_split(x_azar, y_azar, test_size=0.2, shuffle=True, stratify=y_azar, random_state=301)"
      ],
      "metadata": {
        "id": "6USrXIXrdfR9"
      },
      "execution_count": null,
      "outputs": []
    },
    {
      "cell_type": "code",
      "source": [
        "X_treino_teste.shape, x_validacao.shape, y_treino_teste.shape, y_validacao.shape"
      ],
      "metadata": {
        "colab": {
          "base_uri": "https://localhost:8080/"
        },
        "id": "p_2oA8mwecBR",
        "outputId": "23975759-1373-4b79-db35-3bc829944810"
      },
      "execution_count": null,
      "outputs": [
        {
          "output_type": "execute_result",
          "data": {
            "text/plain": [
              "((8000, 3), (2000, 3), (8000,), (2000,))"
            ]
          },
          "metadata": {},
          "execution_count": 49
        }
      ]
    },
    {
      "cell_type": "code",
      "source": [
        "# RandomizedSearchCV\n",
        "from sklearn.model_selection import StratifiedShuffleSplit\n",
        "import time\n",
        "SEED = 301\n",
        "\n",
        "parametros = {'n_estimators':  randint(10,101),'max_depth': randint(3,6), 'criterion':['gini', 'entropy'],\n",
        "              'min_samples_leaf': randint(32,129), 'min_samples_split': randint(32,129), 'bootstrap': [True, False]}\n",
        "estimador = RandomForestClassifier()\n",
        "split = StratifiedShuffleSplit(n_splits=1, test_size=0.25)\n",
        "\n",
        "tic = time.time()\n",
        "grid = RandomizedSearchCV(estimador, parametros, cv=split, n_iter=5)\n",
        "grid.fit(X_treino_teste, y_treino_teste)\n",
        "tac = time.time()\n",
        "tempo_percorrido = tac - tic\n",
        "print(f'Tempo gasto foi de: {tempo_percorrido:.2f} segundos')\n",
        "\n",
        "melhor_param_random = grid.best_params_\n",
        "melhorestimador_random = grid.best_estimator_\n",
        "melhor_score_random = grid.best_score_\n",
        "resultados_randomidez = pd.DataFrame(grid.cv_results_)"
      ],
      "metadata": {
        "colab": {
          "base_uri": "https://localhost:8080/"
        },
        "id": "Xfhq06Xhb152",
        "outputId": "ad583c8a-a5c3-41e1-9325-c93bd8d9d6be"
      },
      "execution_count": null,
      "outputs": [
        {
          "output_type": "stream",
          "name": "stdout",
          "text": [
            "Tempo gasto foi de: 3.46 segundos\n"
          ]
        }
      ]
    },
    {
      "cell_type": "code",
      "source": [
        "melhorestimador_random"
      ],
      "metadata": {
        "colab": {
          "base_uri": "https://localhost:8080/"
        },
        "id": "kRCtg4ALc13j",
        "outputId": "23e44a86-4d7d-4824-acde-40c7a2dde5a6"
      },
      "execution_count": null,
      "outputs": [
        {
          "output_type": "execute_result",
          "data": {
            "text/plain": [
              "RandomForestClassifier(max_depth=5, min_samples_leaf=32, min_samples_split=78,\n",
              "                       n_estimators=79)"
            ]
          },
          "metadata": {},
          "execution_count": 46
        }
      ]
    },
    {
      "cell_type": "code",
      "source": [
        "resultados_randomidez"
      ],
      "metadata": {
        "colab": {
          "base_uri": "https://localhost:8080/",
          "height": 618
        },
        "id": "wFJW4Udgc5gT",
        "outputId": "6848efb8-dcd5-4242-aa8a-e65b19cc8057"
      },
      "execution_count": null,
      "outputs": [
        {
          "output_type": "execute_result",
          "data": {
            "text/plain": [
              "   mean_fit_time  std_fit_time  mean_score_time  std_score_time  \\\n",
              "0       0.572123           0.0         0.036634             0.0   \n",
              "1       0.217139           0.0         0.017292             0.0   \n",
              "2       0.790208           0.0         0.072538             0.0   \n",
              "3       0.476793           0.0         0.025025             0.0   \n",
              "4       0.316807           0.0         0.019638             0.0   \n",
              "\n",
              "  param_bootstrap param_criterion param_max_depth param_min_samples_leaf  \\\n",
              "0            True         entropy               5                    116   \n",
              "1           False            gini               4                     95   \n",
              "2           False            gini               5                    104   \n",
              "3            True            gini               4                    105   \n",
              "4           False         entropy               4                     78   \n",
              "\n",
              "  param_min_samples_split param_n_estimators  \\\n",
              "0                      73                 79   \n",
              "1                      86                 32   \n",
              "2                     126                 71   \n",
              "3                      72                 76   \n",
              "4                      53                 66   \n",
              "\n",
              "                                              params  split0_test_score  \\\n",
              "0  {'bootstrap': True, 'criterion': 'entropy', 'm...             0.7725   \n",
              "1  {'bootstrap': False, 'criterion': 'gini', 'max...             0.7670   \n",
              "2  {'bootstrap': False, 'criterion': 'gini', 'max...             0.7695   \n",
              "3  {'bootstrap': True, 'criterion': 'gini', 'max_...             0.7700   \n",
              "4  {'bootstrap': False, 'criterion': 'entropy', '...             0.7680   \n",
              "\n",
              "   mean_test_score  std_test_score  rank_test_score  \n",
              "0           0.7725             0.0                1  \n",
              "1           0.7670             0.0                5  \n",
              "2           0.7695             0.0                3  \n",
              "3           0.7700             0.0                2  \n",
              "4           0.7680             0.0                4  "
            ],
            "text/html": [
              "\n",
              "  <div id=\"df-14a650be-ce64-425d-990e-f32a5809bb39\">\n",
              "    <div class=\"colab-df-container\">\n",
              "      <div>\n",
              "<style scoped>\n",
              "    .dataframe tbody tr th:only-of-type {\n",
              "        vertical-align: middle;\n",
              "    }\n",
              "\n",
              "    .dataframe tbody tr th {\n",
              "        vertical-align: top;\n",
              "    }\n",
              "\n",
              "    .dataframe thead th {\n",
              "        text-align: right;\n",
              "    }\n",
              "</style>\n",
              "<table border=\"1\" class=\"dataframe\">\n",
              "  <thead>\n",
              "    <tr style=\"text-align: right;\">\n",
              "      <th></th>\n",
              "      <th>mean_fit_time</th>\n",
              "      <th>std_fit_time</th>\n",
              "      <th>mean_score_time</th>\n",
              "      <th>std_score_time</th>\n",
              "      <th>param_bootstrap</th>\n",
              "      <th>param_criterion</th>\n",
              "      <th>param_max_depth</th>\n",
              "      <th>param_min_samples_leaf</th>\n",
              "      <th>param_min_samples_split</th>\n",
              "      <th>param_n_estimators</th>\n",
              "      <th>params</th>\n",
              "      <th>split0_test_score</th>\n",
              "      <th>mean_test_score</th>\n",
              "      <th>std_test_score</th>\n",
              "      <th>rank_test_score</th>\n",
              "    </tr>\n",
              "  </thead>\n",
              "  <tbody>\n",
              "    <tr>\n",
              "      <th>0</th>\n",
              "      <td>0.572123</td>\n",
              "      <td>0.0</td>\n",
              "      <td>0.036634</td>\n",
              "      <td>0.0</td>\n",
              "      <td>True</td>\n",
              "      <td>entropy</td>\n",
              "      <td>5</td>\n",
              "      <td>116</td>\n",
              "      <td>73</td>\n",
              "      <td>79</td>\n",
              "      <td>{'bootstrap': True, 'criterion': 'entropy', 'm...</td>\n",
              "      <td>0.7725</td>\n",
              "      <td>0.7725</td>\n",
              "      <td>0.0</td>\n",
              "      <td>1</td>\n",
              "    </tr>\n",
              "    <tr>\n",
              "      <th>1</th>\n",
              "      <td>0.217139</td>\n",
              "      <td>0.0</td>\n",
              "      <td>0.017292</td>\n",
              "      <td>0.0</td>\n",
              "      <td>False</td>\n",
              "      <td>gini</td>\n",
              "      <td>4</td>\n",
              "      <td>95</td>\n",
              "      <td>86</td>\n",
              "      <td>32</td>\n",
              "      <td>{'bootstrap': False, 'criterion': 'gini', 'max...</td>\n",
              "      <td>0.7670</td>\n",
              "      <td>0.7670</td>\n",
              "      <td>0.0</td>\n",
              "      <td>5</td>\n",
              "    </tr>\n",
              "    <tr>\n",
              "      <th>2</th>\n",
              "      <td>0.790208</td>\n",
              "      <td>0.0</td>\n",
              "      <td>0.072538</td>\n",
              "      <td>0.0</td>\n",
              "      <td>False</td>\n",
              "      <td>gini</td>\n",
              "      <td>5</td>\n",
              "      <td>104</td>\n",
              "      <td>126</td>\n",
              "      <td>71</td>\n",
              "      <td>{'bootstrap': False, 'criterion': 'gini', 'max...</td>\n",
              "      <td>0.7695</td>\n",
              "      <td>0.7695</td>\n",
              "      <td>0.0</td>\n",
              "      <td>3</td>\n",
              "    </tr>\n",
              "    <tr>\n",
              "      <th>3</th>\n",
              "      <td>0.476793</td>\n",
              "      <td>0.0</td>\n",
              "      <td>0.025025</td>\n",
              "      <td>0.0</td>\n",
              "      <td>True</td>\n",
              "      <td>gini</td>\n",
              "      <td>4</td>\n",
              "      <td>105</td>\n",
              "      <td>72</td>\n",
              "      <td>76</td>\n",
              "      <td>{'bootstrap': True, 'criterion': 'gini', 'max_...</td>\n",
              "      <td>0.7700</td>\n",
              "      <td>0.7700</td>\n",
              "      <td>0.0</td>\n",
              "      <td>2</td>\n",
              "    </tr>\n",
              "    <tr>\n",
              "      <th>4</th>\n",
              "      <td>0.316807</td>\n",
              "      <td>0.0</td>\n",
              "      <td>0.019638</td>\n",
              "      <td>0.0</td>\n",
              "      <td>False</td>\n",
              "      <td>entropy</td>\n",
              "      <td>4</td>\n",
              "      <td>78</td>\n",
              "      <td>53</td>\n",
              "      <td>66</td>\n",
              "      <td>{'bootstrap': False, 'criterion': 'entropy', '...</td>\n",
              "      <td>0.7680</td>\n",
              "      <td>0.7680</td>\n",
              "      <td>0.0</td>\n",
              "      <td>4</td>\n",
              "    </tr>\n",
              "  </tbody>\n",
              "</table>\n",
              "</div>\n",
              "      <button class=\"colab-df-convert\" onclick=\"convertToInteractive('df-14a650be-ce64-425d-990e-f32a5809bb39')\"\n",
              "              title=\"Convert this dataframe to an interactive table.\"\n",
              "              style=\"display:none;\">\n",
              "        \n",
              "  <svg xmlns=\"http://www.w3.org/2000/svg\" height=\"24px\"viewBox=\"0 0 24 24\"\n",
              "       width=\"24px\">\n",
              "    <path d=\"M0 0h24v24H0V0z\" fill=\"none\"/>\n",
              "    <path d=\"M18.56 5.44l.94 2.06.94-2.06 2.06-.94-2.06-.94-.94-2.06-.94 2.06-2.06.94zm-11 1L8.5 8.5l.94-2.06 2.06-.94-2.06-.94L8.5 2.5l-.94 2.06-2.06.94zm10 10l.94 2.06.94-2.06 2.06-.94-2.06-.94-.94-2.06-.94 2.06-2.06.94z\"/><path d=\"M17.41 7.96l-1.37-1.37c-.4-.4-.92-.59-1.43-.59-.52 0-1.04.2-1.43.59L10.3 9.45l-7.72 7.72c-.78.78-.78 2.05 0 2.83L4 21.41c.39.39.9.59 1.41.59.51 0 1.02-.2 1.41-.59l7.78-7.78 2.81-2.81c.8-.78.8-2.07 0-2.86zM5.41 20L4 18.59l7.72-7.72 1.47 1.35L5.41 20z\"/>\n",
              "  </svg>\n",
              "      </button>\n",
              "      \n",
              "  <style>\n",
              "    .colab-df-container {\n",
              "      display:flex;\n",
              "      flex-wrap:wrap;\n",
              "      gap: 12px;\n",
              "    }\n",
              "\n",
              "    .colab-df-convert {\n",
              "      background-color: #E8F0FE;\n",
              "      border: none;\n",
              "      border-radius: 50%;\n",
              "      cursor: pointer;\n",
              "      display: none;\n",
              "      fill: #1967D2;\n",
              "      height: 32px;\n",
              "      padding: 0 0 0 0;\n",
              "      width: 32px;\n",
              "    }\n",
              "\n",
              "    .colab-df-convert:hover {\n",
              "      background-color: #E2EBFA;\n",
              "      box-shadow: 0px 1px 2px rgba(60, 64, 67, 0.3), 0px 1px 3px 1px rgba(60, 64, 67, 0.15);\n",
              "      fill: #174EA6;\n",
              "    }\n",
              "\n",
              "    [theme=dark] .colab-df-convert {\n",
              "      background-color: #3B4455;\n",
              "      fill: #D2E3FC;\n",
              "    }\n",
              "\n",
              "    [theme=dark] .colab-df-convert:hover {\n",
              "      background-color: #434B5C;\n",
              "      box-shadow: 0px 1px 3px 1px rgba(0, 0, 0, 0.15);\n",
              "      filter: drop-shadow(0px 1px 2px rgba(0, 0, 0, 0.3));\n",
              "      fill: #FFFFFF;\n",
              "    }\n",
              "  </style>\n",
              "\n",
              "      <script>\n",
              "        const buttonEl =\n",
              "          document.querySelector('#df-14a650be-ce64-425d-990e-f32a5809bb39 button.colab-df-convert');\n",
              "        buttonEl.style.display =\n",
              "          google.colab.kernel.accessAllowed ? 'block' : 'none';\n",
              "\n",
              "        async function convertToInteractive(key) {\n",
              "          const element = document.querySelector('#df-14a650be-ce64-425d-990e-f32a5809bb39');\n",
              "          const dataTable =\n",
              "            await google.colab.kernel.invokeFunction('convertToInteractive',\n",
              "                                                     [key], {});\n",
              "          if (!dataTable) return;\n",
              "\n",
              "          const docLinkHtml = 'Like what you see? Visit the ' +\n",
              "            '<a target=\"_blank\" href=https://colab.research.google.com/notebooks/data_table.ipynb>data table notebook</a>'\n",
              "            + ' to learn more about interactive tables.';\n",
              "          element.innerHTML = '';\n",
              "          dataTable['output_type'] = 'display_data';\n",
              "          await google.colab.output.renderOutput(dataTable, element);\n",
              "          const docLink = document.createElement('div');\n",
              "          docLink.innerHTML = docLinkHtml;\n",
              "          element.appendChild(docLink);\n",
              "        }\n",
              "      </script>\n",
              "    </div>\n",
              "  </div>\n",
              "  "
            ]
          },
          "metadata": {},
          "execution_count": 53
        }
      ]
    },
    {
      "cell_type": "code",
      "source": [
        "tic = time.time()\n",
        "scores = cross_val_score(melhorestimador, x_validacao, y_validacao, cv=split)\n",
        "tac = time.time()\n",
        "tempo = tac - tic\n",
        "\n",
        "print(f'{tempo:.2f} segundos' )\n",
        "scores"
      ],
      "metadata": {
        "colab": {
          "base_uri": "https://localhost:8080/"
        },
        "id": "uEKEXTSodTmY",
        "outputId": "8898eab1-8a9b-4e6c-ec1e-41f2251ee49e"
      },
      "execution_count": null,
      "outputs": [
        {
          "output_type": "stream",
          "name": "stdout",
          "text": [
            "0.05 segundos\n"
          ]
        },
        {
          "output_type": "execute_result",
          "data": {
            "text/plain": [
              "array([0.756])"
            ]
          },
          "metadata": {},
          "execution_count": 56
        }
      ]
    },
    {
      "cell_type": "code",
      "source": [],
      "metadata": {
        "id": "kDB230z5ft0c"
      },
      "execution_count": null,
      "outputs": []
    }
  ]
}